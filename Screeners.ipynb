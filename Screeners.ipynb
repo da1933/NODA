{
 "cells": [
  {
   "cell_type": "code",
   "execution_count": 22,
   "metadata": {
    "collapsed": true
   },
   "outputs": [],
   "source": [
    "import numpy as np\n",
    "import pandas as pd\n",
    "import matplotlib.pyplot as plt\n",
    "import project_env as pe\n",
    "import sklearn as sklearn\n",
    "from scipy import stats\n",
    "%matplotlib inline"
   ]
  },
  {
   "cell_type": "code",
   "execution_count": 2,
   "metadata": {
    "collapsed": false
   },
   "outputs": [],
   "source": [
    "data = pd.read_csv('merged.csv', encoding = \"ISO-8859-1\", low_memory=False)\n",
    "data = data[data['NEXT_ARREST_TIME']!='Delete']\n",
    "data['NEXT_ARREST_TIME'] = data['NEXT_ARREST_TIME'].apply(pd.to_numeric)\n",
    "data_simple = pd.read_csv('data_simple.csv', encoding = \"ISO-8859-1\", low_memory=False)"
   ]
  },
  {
   "cell_type": "code",
   "execution_count": 3,
   "metadata": {
    "collapsed": false
   },
   "outputs": [],
   "source": [
    "data = pd.merge(data, \\\n",
    "                 data_simple[['UNIQUE_ID','ADA_CODE']],\\\n",
    "                 on='UNIQUE_ID', \\\n",
    "                 how='left')"
   ]
  },
  {
   "cell_type": "code",
   "execution_count": 4,
   "metadata": {
    "collapsed": true
   },
   "outputs": [],
   "source": [
    "data['CHRG_ACCEPTED'] = np.where(data['SCREENING_DISP_CODE']==230,1,0)\n",
    "data['CHRG_REJECTED'] = np.where(data['SCREENING_DISP_CODE']!=230,1,0)"
   ]
  },
  {
   "cell_type": "markdown",
   "metadata": {},
   "source": [
    "Cleaning Notes: Most of the bad values do not fit the pattern for the ADA codes. Of those that do, ABRE and\n",
    "VSAL aren’t listed in the CODE table, but could be AGRE and VSOL, which are ADA codes. These are potential\n",
    "typos. NARC is a valid code for a different type of variable (drug code), and could be MARC. It appears often\n",
    "enough that it might not be a typo, and could, instead, indicate confusion on the part of the data entry personel. In\n",
    "other tables Judge codes have been found in fields that should contain substance codes, and vice-versa, so this does\n",
    "occur elsewhere. The decision is, however, left to the user, in that the NARC values are considered invalid.\n",
    "Unaccepted Values: NARC[560]; [Missing][124]; VSAL[6]; NONE[1]; S828672[1]; EWU385[1]; A561575[1];\n",
    "ABRE[1]"
   ]
  },
  {
   "cell_type": "code",
   "execution_count": 14,
   "metadata": {
    "collapsed": true
   },
   "outputs": [],
   "source": [
    "#drop invalid ADA_CODES\n",
    "invalid_ada_code = ['NARC','VSAL','NONE','S828672','EWU385','A561575','ABRE']\n",
    "data = data.loc[~data['ADA_CODE'].isin(invalid_ada_code)].dropna(subset=['ADA_CODE'])"
   ]
  },
  {
   "cell_type": "code",
   "execution_count": 15,
   "metadata": {
    "collapsed": false
   },
   "outputs": [],
   "source": [
    "by_sada = data.groupby(['ADA_CODE'])['CHRG_ACCEPTED','CHRG_REJECTED'].sum()"
   ]
  },
  {
   "cell_type": "code",
   "execution_count": 16,
   "metadata": {
    "collapsed": false
   },
   "outputs": [],
   "source": [
    "by_sada['NBR_CASES'] = by_sada['CHRG_ACCEPTED'] + by_sada['CHRG_REJECTED'] \n",
    "by_sada['CHRG_RATE'] = by_sada['CHRG_ACCEPTED']/(by_sada['NBR_CASES'])"
   ]
  },
  {
   "cell_type": "markdown",
   "metadata": {},
   "source": [
    "Max # of cases seen by a screener with charge rate = 1 is 14. <br>\n",
    "Max # of cases seen by a screener with charge rate = 0 is 580."
   ]
  },
  {
   "cell_type": "code",
   "execution_count": 24,
   "metadata": {
    "collapsed": false
   },
   "outputs": [
    {
     "name": "stdout",
     "output_type": "stream",
     "text": [
      "Total Screeners:  250\n",
      "Screeners that have seen over 100 cases:  123\n",
      "Screeners that have seen over 500 cases:  78\n",
      "Mode Cases Seen:  [1]\n",
      "Median Cases Seen:  92.5\n",
      "Average Cases Seen:  818.744\n"
     ]
    }
   ],
   "source": [
    "print('Total Screeners: ',by_sada.shape[0])\n",
    "print('Screeners that have seen over 100 cases: ',by_sada[by_sada['NBR_CASES']>=100].shape[0])\n",
    "print('Screeners that have seen over 500 cases: ',by_sada[by_sada['NBR_CASES']>=500].shape[0])\n",
    "print('Mode Cases Seen: ',stats.mode(by_sada['NBR_CASES'])[0])\n",
    "print('Median Cases Seen: ',np.median(by_sada['NBR_CASES']))\n",
    "print('Average Cases Seen: ',np.mean(by_sada['NBR_CASES']))"
   ]
  },
  {
   "cell_type": "markdown",
   "metadata": {},
   "source": [
    "# Rearrest rate from human screener decisions"
   ]
  },
  {
   "cell_type": "code",
   "execution_count": 51,
   "metadata": {
    "collapsed": true
   },
   "outputs": [],
   "source": [
    "not_charged = data[data['CHRG_ACCEPTED']==0]"
   ]
  },
  {
   "cell_type": "code",
   "execution_count": 54,
   "metadata": {
    "collapsed": false
   },
   "outputs": [
    {
     "name": "stdout",
     "output_type": "stream",
     "text": [
      "30% were rearrested within 1 years\n",
      "40% were rearrested within 2 years\n",
      "47% were rearrested within 3 years\n",
      "50% were rearrested within 4 years\n",
      "53% were rearrested within 5 years\n"
     ]
    }
   ],
   "source": [
    "years = [1,2,3,4,5]\n",
    "for year in years:\n",
    "    data_trunc = not_charged[not_charged['ARREST_DATE_y'] <= 1999 - year]\n",
    "    total = data_trunc['SCREENING_DISP_CODE'].count()\n",
    "    rearrest_cnt = data_trunc[(data_trunc['NEXT_ARREST_TIME'] >0)&(data_trunc['NEXT_ARREST_TIME'] <= year*365)]\\\n",
    "    ['SCREENING_DISP_CODE'].count()\n",
    "    rearrest_rate = rearrest_cnt/total\n",
    "    print ('%.0f%% were rearrested within %s years' %(rearrest_rate*100, year))\n",
    "    "
   ]
  },
  {
   "cell_type": "markdown",
   "metadata": {
    "collapsed": true
   },
   "source": [
    "# Rearrest rate by leniency"
   ]
  },
  {
   "cell_type": "markdown",
   "metadata": {},
   "source": [
    "Only considering screeners who have seen over 100 cases."
   ]
  },
  {
   "cell_type": "code",
   "execution_count": 26,
   "metadata": {
    "collapsed": false
   },
   "outputs": [
    {
     "data": {
      "text/plain": [
       "Index(['ADAI', 'ADIC', 'ALMB', 'ALOG', 'AMON', 'ANEL', 'AWAL', 'BBER', 'BDEA',\n",
       "       'BLAN',\n",
       "       ...\n",
       "       'SRIC', 'SSCI', 'SSMI', 'SWOO', 'TBLO', 'TFAI', 'TSHA', 'VSOL', 'WEIK',\n",
       "       'YBOL'],\n",
       "      dtype='object', name='ADA_CODE', length=123)"
      ]
     },
     "execution_count": 26,
     "metadata": {},
     "output_type": "execute_result"
    }
   ],
   "source": [
    "by_sada[by_sada['NBR_CASES']>=100].index"
   ]
  },
  {
   "cell_type": "code",
   "execution_count": 46,
   "metadata": {
    "collapsed": false
   },
   "outputs": [],
   "source": [
    "sada = pd.merge(data, \\\n",
    "                 by_sada[by_sada['NBR_CASES']>=100][['NBR_CASES','CHRG_RATE']],\\\n",
    "                 left_on ='ADA_CODE',\\\n",
    "                right_index = True, \\\n",
    "                 how='inner')"
   ]
  },
  {
   "cell_type": "code",
   "execution_count": 47,
   "metadata": {
    "collapsed": false
   },
   "outputs": [],
   "source": [
    "sada['quantile'] = pd.qcut(sada['CHRG_RATE'],5,labels=False)"
   ]
  },
  {
   "cell_type": "code",
   "execution_count": 48,
   "metadata": {
    "collapsed": false
   },
   "outputs": [
    {
     "data": {
      "text/plain": [
       "quantile\n",
       "0    0.234714\n",
       "1    0.357106\n",
       "2    0.399153\n",
       "3    0.464867\n",
       "4    0.620685\n",
       "Name: CHRG_RATE, dtype: float64"
      ]
     },
     "execution_count": 48,
     "metadata": {},
     "output_type": "execute_result"
    }
   ],
   "source": [
    "sada.groupby(['quantile'])['CHRG_RATE'].mean()"
   ]
  },
  {
   "cell_type": "code",
   "execution_count": 50,
   "metadata": {
    "collapsed": false
   },
   "outputs": [],
   "source": [
    "sada_not_charged = sada[sada['CHRG_ACCEPTED']==0]"
   ]
  },
  {
   "cell_type": "code",
   "execution_count": 60,
   "metadata": {
    "collapsed": false
   },
   "outputs": [],
   "source": [
    "rearrest_rates = np.zeros((5,5))\n",
    "years = [1,2,3,4,5]\n",
    "for q in range(5):\n",
    "    for year in range(1,6):\n",
    "        data_trunc = sada_not_charged[(sada_not_charged['ARREST_DATE_y'] <= 1999 - year)&\\\n",
    "                                     (sada_not_charged['quantile']==q)]\n",
    "        total = data_trunc['SCREENING_DISP_CODE'].count()\n",
    "        rearrest_cnt = data_trunc[(data_trunc['NEXT_ARREST_TIME'] >0)&(data_trunc['NEXT_ARREST_TIME'] <= year*365)]\\\n",
    "        ['SCREENING_DISP_CODE'].count()\n",
    "        rearrest_rates[q][year-1] = rearrest_cnt/total\n",
    "        #print ('Quantile %s: %.0f%% were rearrested within %s years' %(q, rearrest_rate*100, year))\n",
    "    "
   ]
  },
  {
   "cell_type": "code",
   "execution_count": 65,
   "metadata": {
    "collapsed": false
   },
   "outputs": [
    {
     "data": {
      "text/html": [
       "<div>\n",
       "<table border=\"1\" class=\"dataframe\">\n",
       "  <thead>\n",
       "    <tr style=\"text-align: right;\">\n",
       "      <th></th>\n",
       "      <th>1_year</th>\n",
       "      <th>2_year</th>\n",
       "      <th>3_year</th>\n",
       "      <th>4_year</th>\n",
       "      <th>5_year</th>\n",
       "    </tr>\n",
       "  </thead>\n",
       "  <tbody>\n",
       "    <tr>\n",
       "      <th>Q1</th>\n",
       "      <td>0.289281</td>\n",
       "      <td>0.375220</td>\n",
       "      <td>0.446824</td>\n",
       "      <td>0.476517</td>\n",
       "      <td>0.493578</td>\n",
       "    </tr>\n",
       "    <tr>\n",
       "      <th>Q2</th>\n",
       "      <td>0.332992</td>\n",
       "      <td>0.432681</td>\n",
       "      <td>0.479752</td>\n",
       "      <td>0.504869</td>\n",
       "      <td>0.532184</td>\n",
       "    </tr>\n",
       "    <tr>\n",
       "      <th>Q3</th>\n",
       "      <td>0.300173</td>\n",
       "      <td>0.414088</td>\n",
       "      <td>0.481058</td>\n",
       "      <td>0.525916</td>\n",
       "      <td>0.555955</td>\n",
       "    </tr>\n",
       "    <tr>\n",
       "      <th>Q4</th>\n",
       "      <td>0.290067</td>\n",
       "      <td>0.397940</td>\n",
       "      <td>0.461750</td>\n",
       "      <td>0.504000</td>\n",
       "      <td>0.536414</td>\n",
       "    </tr>\n",
       "    <tr>\n",
       "      <th>Q5</th>\n",
       "      <td>0.273728</td>\n",
       "      <td>0.391407</td>\n",
       "      <td>0.447419</td>\n",
       "      <td>0.486601</td>\n",
       "      <td>0.517236</td>\n",
       "    </tr>\n",
       "  </tbody>\n",
       "</table>\n",
       "</div>"
      ],
      "text/plain": [
       "      1_year    2_year    3_year    4_year    5_year\n",
       "Q1  0.289281  0.375220  0.446824  0.476517  0.493578\n",
       "Q2  0.332992  0.432681  0.479752  0.504869  0.532184\n",
       "Q3  0.300173  0.414088  0.481058  0.525916  0.555955\n",
       "Q4  0.290067  0.397940  0.461750  0.504000  0.536414\n",
       "Q5  0.273728  0.391407  0.447419  0.486601  0.517236"
      ]
     },
     "execution_count": 65,
     "metadata": {},
     "output_type": "execute_result"
    }
   ],
   "source": [
    "pd.DataFrame(rearrest_rates, \\\n",
    "             index = ['Q1','Q2','Q3','Q4','Q5'], \\\n",
    "             columns = ['1_year','2_year','3_year','4_year','5_year'])"
   ]
  },
  {
   "cell_type": "code",
   "execution_count": null,
   "metadata": {
    "collapsed": true
   },
   "outputs": [],
   "source": []
  }
 ],
 "metadata": {
  "anaconda-cloud": {},
  "kernelspec": {
   "display_name": "Python [Root]",
   "language": "python",
   "name": "Python [Root]"
  },
  "language_info": {
   "codemirror_mode": {
    "name": "ipython",
    "version": 3
   },
   "file_extension": ".py",
   "mimetype": "text/x-python",
   "name": "python",
   "nbconvert_exporter": "python",
   "pygments_lexer": "ipython3",
   "version": "3.5.2"
  }
 },
 "nbformat": 4,
 "nbformat_minor": 0
}
