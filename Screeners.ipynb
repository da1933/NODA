{
 "cells": [
  {
   "cell_type": "code",
   "execution_count": 13,
   "metadata": {
    "collapsed": true
   },
   "outputs": [],
   "source": [
    "import numpy as np\n",
    "import pandas as pd\n",
    "import matplotlib.pyplot as plt\n",
    "import project_env as pe\n",
    "import sklearn as sklearn\n",
    "from scipy import stats\n",
    "%matplotlib inline"
   ]
  },
  {
   "cell_type": "code",
   "execution_count": 14,
   "metadata": {
    "collapsed": false
   },
   "outputs": [],
   "source": [
    "data = pd.read_csv('merged.csv', encoding = \"ISO-8859-1\", low_memory=False)\n",
    "data = data[data['NEXT_ARREST_TIME']!='Delete']\n",
    "data['NEXT_ARREST_TIME'] = data['NEXT_ARREST_TIME'].apply(pd.to_numeric)\n",
    "data_simple = pd.read_csv('data_simple.csv', encoding = \"ISO-8859-1\", low_memory=False)"
   ]
  },
  {
   "cell_type": "code",
   "execution_count": 15,
   "metadata": {
    "collapsed": false
   },
   "outputs": [],
   "source": [
    "data = pd.merge(data, \\\n",
    "                 data_simple[['UNIQUE_ID','ADA_CODE']],\\\n",
    "                 on='UNIQUE_ID', \\\n",
    "                 how='left')"
   ]
  },
  {
   "cell_type": "code",
   "execution_count": 16,
   "metadata": {
    "collapsed": true
   },
   "outputs": [],
   "source": [
    "data['CHRG_ACCEPTED'] = np.where(data['SCREENING_DISP_CODE']==230,1,0)\n",
    "data['CHRG_REJECTED'] = np.where(data['SCREENING_DISP_CODE']!=230,1,0)"
   ]
  },
  {
   "cell_type": "markdown",
   "metadata": {},
   "source": [
    "Cleaning Notes: Most of the bad values do not fit the pattern for the ADA codes. Of those that do, ABRE and\n",
    "VSAL aren’t listed in the CODE table, but could be AGRE and VSOL, which are ADA codes. These are potential\n",
    "typos. NARC is a valid code for a different type of variable (drug code), and could be MARC. It appears often\n",
    "enough that it might not be a typo, and could, instead, indicate confusion on the part of the data entry personel. In\n",
    "other tables Judge codes have been found in fields that should contain substance codes, and vice-versa, so this does\n",
    "occur elsewhere. The decision is, however, left to the user, in that the NARC values are considered invalid.\n",
    "Unaccepted Values: NARC[560]; [Missing][124]; VSAL[6]; NONE[1]; S828672[1]; EWU385[1]; A561575[1];\n",
    "ABRE[1]"
   ]
  },
  {
   "cell_type": "code",
   "execution_count": 17,
   "metadata": {
    "collapsed": false
   },
   "outputs": [
    {
     "data": {
      "text/plain": [
       "(204686, 41)"
      ]
     },
     "execution_count": 17,
     "metadata": {},
     "output_type": "execute_result"
    }
   ],
   "source": [
    "#drop invalid ADA_CODES\n",
    "invalid_ada_code = ['NARC','VSAL','NONE','S828672','EWU385','A561575','ABRE']\n",
    "data = data.loc[~data['ADA_CODE'].isin(invalid_ada_code)].dropna(subset=['ADA_CODE'])\n",
    "data.shape"
   ]
  },
  {
   "cell_type": "code",
   "execution_count": 18,
   "metadata": {
    "collapsed": false
   },
   "outputs": [],
   "source": [
    "by_sada = data.groupby(['ADA_CODE'])['CHRG_ACCEPTED','CHRG_REJECTED'].sum()"
   ]
  },
  {
   "cell_type": "code",
   "execution_count": 19,
   "metadata": {
    "collapsed": false
   },
   "outputs": [],
   "source": [
    "by_sada['NBR_CASES'] = by_sada['CHRG_ACCEPTED'] + by_sada['CHRG_REJECTED'] \n",
    "by_sada['CHRG_RATE'] = by_sada['CHRG_ACCEPTED']/(by_sada['NBR_CASES'])"
   ]
  },
  {
   "cell_type": "markdown",
   "metadata": {},
   "source": [
    "Max # of cases seen by a screener with charge rate = 1 is 14. <br>\n",
    "Max # of cases seen by a screener with charge rate = 0 is 580."
   ]
  },
  {
   "cell_type": "code",
   "execution_count": 63,
   "metadata": {
    "collapsed": false
   },
   "outputs": [
    {
     "data": {
      "image/png": "[encoded data removed]",
      "text/plain": [
       "<matplotlib.figure.Figure at 0xd7e46d8>"
      ]
     },
     "metadata": {},
     "output_type": "display_data"
    }
   ],
   "source": [
    "plt.subplot(2, 1, 1)\n",
    "plt.hist(by_sada[by_sada['NBR_CASES']>=100]['CHRG_RATE'])\n",
    "plt.title('Distribution of Charge Rate for Screeners that have seen at least 100 cases')\n",
    "plt.subplot(2, 1, 2)\n",
    "plt.hist(by_sada[by_sada['NBR_CASES']<100]['CHRG_RATE'])\n",
    "plt.title('Distribution of Charge Rate for Screeners that have seen under 100 cases')\n",
    "plt.tight_layout()\n",
    "plt.show()"
   ]
  },
  {
   "cell_type": "code",
   "execution_count": 21,
   "metadata": {
    "collapsed": false
   },
   "outputs": [
    {
     "name": "stdout",
     "output_type": "stream",
     "text": [
      "Total Screeners:  250\n",
      "Screeners that have seen over 100 cases:  123\n",
      "Screeners that have seen over 500 cases:  78\n",
      "Mode Cases Seen:  [1]\n",
      "Median Cases Seen:  92.5\n",
      "Average Cases Seen:  818.744\n"
     ]
    }
   ],
   "source": [
    "print('Total Screeners: ',by_sada.shape[0])\n",
    "print('Screeners that have seen over 100 cases: ',by_sada[by_sada['NBR_CASES']>=100].shape[0])\n",
    "print('Screeners that have seen over 500 cases: ',by_sada[by_sada['NBR_CASES']>=500].shape[0])\n",
    "print('Mode Cases Seen: ',stats.mode(by_sada['NBR_CASES'])[0])\n",
    "print('Median Cases Seen: ',np.median(by_sada['NBR_CASES']))\n",
    "print('Average Cases Seen: ',np.mean(by_sada['NBR_CASES']))"
   ]
  },
  {
   "cell_type": "markdown",
   "metadata": {},
   "source": [
    "# Rearrest rate from human screener decisions"
   ]
  },
  {
   "cell_type": "code",
   "execution_count": 22,
   "metadata": {
    "collapsed": true
   },
   "outputs": [],
   "source": [
    "not_charged = data[data['CHRG_ACCEPTED']==0]"
   ]
  },
  {
   "cell_type": "markdown",
   "metadata": {
    "collapsed": true
   },
   "source": [
    "# Rearrest rate by leniency"
   ]
  },
  {
   "cell_type": "markdown",
   "metadata": {},
   "source": [
    "Only considering screeners who have seen over 30 cases."
   ]
  },
  {
   "cell_type": "code",
   "execution_count": 24,
   "metadata": {
    "collapsed": false
   },
   "outputs": [],
   "source": [
    "sada = pd.merge(data, \\\n",
    "                 by_sada[by_sada['NBR_CASES']>=30][['NBR_CASES','CHRG_RATE']],\\\n",
    "                 left_on ='ADA_CODE',\\\n",
    "                right_index = True, \\\n",
    "                 how='inner')"
   ]
  },
  {
   "cell_type": "code",
   "execution_count": 25,
   "metadata": {
    "collapsed": false
   },
   "outputs": [],
   "source": [
    "sada['quantile'] = pd.qcut(sada['CHRG_RATE'],5,labels=False)"
   ]
  },
  {
   "cell_type": "code",
   "execution_count": 26,
   "metadata": {
    "collapsed": false
   },
   "outputs": [
    {
     "data": {
      "text/html": [
       "<div>\n",
       "<table border=\"1\" class=\"dataframe\">\n",
       "  <thead>\n",
       "    <tr style=\"text-align: right;\">\n",
       "      <th></th>\n",
       "      <th>CHRG_RATE</th>\n",
       "      <th>NBR_CASES</th>\n",
       "      <th>SHARE_CASES</th>\n",
       "    </tr>\n",
       "    <tr>\n",
       "      <th>quantile</th>\n",
       "      <th></th>\n",
       "      <th></th>\n",
       "      <th></th>\n",
       "    </tr>\n",
       "  </thead>\n",
       "  <tbody>\n",
       "    <tr>\n",
       "      <th>0</th>\n",
       "      <td>0.232654</td>\n",
       "      <td>160295812</td>\n",
       "      <td>0.179124</td>\n",
       "    </tr>\n",
       "    <tr>\n",
       "      <th>1</th>\n",
       "      <td>0.357106</td>\n",
       "      <td>342165294</td>\n",
       "      <td>0.382355</td>\n",
       "    </tr>\n",
       "    <tr>\n",
       "      <th>2</th>\n",
       "      <td>0.399416</td>\n",
       "      <td>157895585</td>\n",
       "      <td>0.176442</td>\n",
       "    </tr>\n",
       "    <tr>\n",
       "      <th>3</th>\n",
       "      <td>0.465711</td>\n",
       "      <td>92916160</td>\n",
       "      <td>0.103830</td>\n",
       "    </tr>\n",
       "    <tr>\n",
       "      <th>4</th>\n",
       "      <td>0.624592</td>\n",
       "      <td>141615669</td>\n",
       "      <td>0.158250</td>\n",
       "    </tr>\n",
       "  </tbody>\n",
       "</table>\n",
       "</div>"
      ],
      "text/plain": [
       "          CHRG_RATE  NBR_CASES  SHARE_CASES\n",
       "quantile                                   \n",
       "0          0.232654  160295812     0.179124\n",
       "1          0.357106  342165294     0.382355\n",
       "2          0.399416  157895585     0.176442\n",
       "3          0.465711   92916160     0.103830\n",
       "4          0.624592  141615669     0.158250"
      ]
     },
     "execution_count": 26,
     "metadata": {},
     "output_type": "execute_result"
    }
   ],
   "source": [
    "q_summary = sada.groupby(['quantile'])['CHRG_RATE','NBR_CASES'].mean()\n",
    "q_summary['NBR_CASES']= sada.groupby(['quantile'])['NBR_CASES'].sum()\n",
    "\n",
    "q_summary['SHARE_CASES']= q_summary['NBR_CASES']/q_summary['NBR_CASES'].sum()\n",
    "q_summary"
   ]
  },
  {
   "cell_type": "code",
   "execution_count": 27,
   "metadata": {
    "collapsed": false
   },
   "outputs": [],
   "source": [
    "sada_not_charged = sada[sada['CHRG_ACCEPTED']==0]"
   ]
  },
  {
   "cell_type": "code",
   "execution_count": 28,
   "metadata": {
    "collapsed": false
   },
   "outputs": [],
   "source": [
    "rearrest_rates = np.zeros((5,5))\n",
    "years = [1,2,3,4,5]\n",
    "for q in range(5):\n",
    "    for year in range(1,6):\n",
    "        data_trunc = sada_not_charged[(sada_not_charged['ARREST_DATE_y'] <= 1999 - year)&\\\n",
    "                                     (sada_not_charged['quantile']==q)]\n",
    "        total = data_trunc['SCREENING_DISP_CODE'].count()\n",
    "        rearrest_cnt = data_trunc[(data_trunc['NEXT_ARREST_TIME'] >0)&(data_trunc['NEXT_ARREST_TIME'] <= year*365)]\\\n",
    "        ['SCREENING_DISP_CODE'].count()\n",
    "        rearrest_rates[q][year-1] = rearrest_cnt/total\n",
    "        #print ('Quantile %s: %.0f%% were rearrested within %s years' %(q, rearrest_rate*100, year))\n",
    "    "
   ]
  },
  {
   "cell_type": "code",
   "execution_count": 29,
   "metadata": {
    "collapsed": false
   },
   "outputs": [
    {
     "data": {
      "text/html": [
       "<div>\n",
       "<table border=\"1\" class=\"dataframe\">\n",
       "  <thead>\n",
       "    <tr style=\"text-align: right;\">\n",
       "      <th></th>\n",
       "      <th>1_year</th>\n",
       "      <th>2_year</th>\n",
       "      <th>3_year</th>\n",
       "      <th>4_year</th>\n",
       "      <th>5_year</th>\n",
       "    </tr>\n",
       "  </thead>\n",
       "  <tbody>\n",
       "    <tr>\n",
       "      <th>Q1</th>\n",
       "      <td>0.287656</td>\n",
       "      <td>0.373177</td>\n",
       "      <td>0.443469</td>\n",
       "      <td>0.473029</td>\n",
       "      <td>0.490116</td>\n",
       "    </tr>\n",
       "    <tr>\n",
       "      <th>Q2</th>\n",
       "      <td>0.332992</td>\n",
       "      <td>0.432681</td>\n",
       "      <td>0.479752</td>\n",
       "      <td>0.504869</td>\n",
       "      <td>0.532184</td>\n",
       "    </tr>\n",
       "    <tr>\n",
       "      <th>Q3</th>\n",
       "      <td>0.298809</td>\n",
       "      <td>0.412469</td>\n",
       "      <td>0.479581</td>\n",
       "      <td>0.524535</td>\n",
       "      <td>0.554650</td>\n",
       "    </tr>\n",
       "    <tr>\n",
       "      <th>Q4</th>\n",
       "      <td>0.291619</td>\n",
       "      <td>0.399655</td>\n",
       "      <td>0.462989</td>\n",
       "      <td>0.504928</td>\n",
       "      <td>0.537404</td>\n",
       "    </tr>\n",
       "    <tr>\n",
       "      <th>Q5</th>\n",
       "      <td>0.274218</td>\n",
       "      <td>0.391116</td>\n",
       "      <td>0.447706</td>\n",
       "      <td>0.486504</td>\n",
       "      <td>0.517203</td>\n",
       "    </tr>\n",
       "  </tbody>\n",
       "</table>\n",
       "</div>"
      ],
      "text/plain": [
       "      1_year    2_year    3_year    4_year    5_year\n",
       "Q1  0.287656  0.373177  0.443469  0.473029  0.490116\n",
       "Q2  0.332992  0.432681  0.479752  0.504869  0.532184\n",
       "Q3  0.298809  0.412469  0.479581  0.524535  0.554650\n",
       "Q4  0.291619  0.399655  0.462989  0.504928  0.537404\n",
       "Q5  0.274218  0.391116  0.447706  0.486504  0.517203"
      ]
     },
     "execution_count": 29,
     "metadata": {},
     "output_type": "execute_result"
    }
   ],
   "source": [
    "pd.DataFrame(rearrest_rates, \\\n",
    "             index = ['Q1','Q2','Q3','Q4','Q5'], \\\n",
    "             columns = ['1_year','2_year','3_year','4_year','5_year'])"
   ]
  },
  {
   "cell_type": "markdown",
   "metadata": {
    "collapsed": true
   },
   "source": [
    "All Sceeners"
   ]
  },
  {
   "cell_type": "code",
   "execution_count": 30,
   "metadata": {
    "collapsed": false
   },
   "outputs": [
    {
     "data": {
      "text/html": [
       "<div>\n",
       "<table border=\"1\" class=\"dataframe\">\n",
       "  <thead>\n",
       "    <tr style=\"text-align: right;\">\n",
       "      <th></th>\n",
       "      <th>CHRG_ACCEPTED</th>\n",
       "      <th>CHRG_REJECTED</th>\n",
       "      <th>NBR_CASES</th>\n",
       "      <th>CHRG_RATE</th>\n",
       "    </tr>\n",
       "    <tr>\n",
       "      <th>ADA_CODE</th>\n",
       "      <th></th>\n",
       "      <th></th>\n",
       "      <th></th>\n",
       "      <th></th>\n",
       "    </tr>\n",
       "  </thead>\n",
       "  <tbody>\n",
       "    <tr>\n",
       "      <th>ADAI</th>\n",
       "      <td>168</td>\n",
       "      <td>740</td>\n",
       "      <td>908</td>\n",
       "      <td>0.185022</td>\n",
       "    </tr>\n",
       "    <tr>\n",
       "      <th>ADIC</th>\n",
       "      <td>134</td>\n",
       "      <td>385</td>\n",
       "      <td>519</td>\n",
       "      <td>0.258189</td>\n",
       "    </tr>\n",
       "    <tr>\n",
       "      <th>AGOU</th>\n",
       "      <td>1</td>\n",
       "      <td>0</td>\n",
       "      <td>1</td>\n",
       "      <td>1.000000</td>\n",
       "    </tr>\n",
       "    <tr>\n",
       "      <th>AGRN</th>\n",
       "      <td>3</td>\n",
       "      <td>0</td>\n",
       "      <td>3</td>\n",
       "      <td>1.000000</td>\n",
       "    </tr>\n",
       "    <tr>\n",
       "      <th>AJEA</th>\n",
       "      <td>4</td>\n",
       "      <td>0</td>\n",
       "      <td>4</td>\n",
       "      <td>1.000000</td>\n",
       "    </tr>\n",
       "  </tbody>\n",
       "</table>\n",
       "</div>"
      ],
      "text/plain": [
       "          CHRG_ACCEPTED  CHRG_REJECTED  NBR_CASES  CHRG_RATE\n",
       "ADA_CODE                                                    \n",
       "ADAI                168            740        908   0.185022\n",
       "ADIC                134            385        519   0.258189\n",
       "AGOU                  1              0          1   1.000000\n",
       "AGRN                  3              0          3   1.000000\n",
       "AJEA                  4              0          4   1.000000"
      ]
     },
     "execution_count": 30,
     "metadata": {},
     "output_type": "execute_result"
    }
   ],
   "source": [
    "by_sada.head()"
   ]
  },
  {
   "cell_type": "code",
   "execution_count": 72,
   "metadata": {
    "collapsed": true
   },
   "outputs": [],
   "source": [
    "sada = pd.merge(data, \\\n",
    "                 by_sada[['NBR_CASES','CHRG_RATE']],\\\n",
    "                 left_on ='ADA_CODE',\\\n",
    "                right_index = True, \\\n",
    "                 how='inner')"
   ]
  },
  {
   "cell_type": "code",
   "execution_count": 73,
   "metadata": {
    "collapsed": false
   },
   "outputs": [],
   "source": [
    "sada['chrg_rate_rounded'] = (sada['CHRG_RATE']*100).apply(np.ceil)"
   ]
  },
  {
   "cell_type": "code",
   "execution_count": 94,
   "metadata": {
    "collapsed": false
   },
   "outputs": [],
   "source": [
    "by_chrg_rate = sada.groupby(['chrg_rate_rounded'])['CHRG_RATE','NBR_CASES'].mean()\n",
    "by_chrg_rate['NBR_CASES']= sada.groupby(['chrg_rate_rounded'])['NBR_CASES'].sum()\n",
    "\n",
    "by_chrg_rate['SHARE_CASES']= by_chrg_rate['NBR_CASES']/by_chrg_rate['NBR_CASES'].sum()\n",
    "by_chrg_rate['CUM_CASES'] = by_chrg_rate['NBR_CASES'].cumsum()\n",
    "#by_chrg_rate.to_csv('by_chrg_rate.csv', index=True)"
   ]
  },
  {
   "cell_type": "code",
   "execution_count": 97,
   "metadata": {
    "collapsed": false
   },
   "outputs": [
    {
     "data": {
      "image/png": "[encoded data removed]",
      "text/plain": [
       "<matplotlib.figure.Figure at 0xd99fda0>"
      ]
     },
     "metadata": {},
     "output_type": "display_data"
    }
   ],
   "source": [
    "plt.figure(figsize=(14, 7))\n",
    "#plt.title('Rearrest Rates by Leniency')\n",
    "plt.plot(by_chrg_rate['CUM_CASES'])\n",
    "plt.xlabel('Charge Rate')\n",
    "plt.ylabel('Cumulative Number of Arrests')\n",
    "plt.xticks(np.arange(0,101,10));"
   ]
  },
  {
   "cell_type": "code",
   "execution_count": 75,
   "metadata": {
    "collapsed": true
   },
   "outputs": [],
   "source": [
    "sada_not_charged = sada[sada['CHRG_ACCEPTED']==0]"
   ]
  },
  {
   "cell_type": "code",
   "execution_count": 76,
   "metadata": {
    "collapsed": false
   },
   "outputs": [],
   "source": [
    "rearrest_rates = np.zeros((101,5))\n",
    "years = [1,2,3,4,5]\n",
    "for q in range(101):\n",
    "    for year in range(1,6):\n",
    "        data_trunc = sada_not_charged[(sada_not_charged['ARREST_DATE_y'] <= 1999 - year)&\\\n",
    "                                     (sada_not_charged['chrg_rate_rounded']<=q)]\n",
    "        total = data_trunc['SCREENING_DISP_CODE'].count()\n",
    "        rearrest_cnt = data_trunc[(data_trunc['NEXT_ARREST_TIME'] >0)&(data_trunc['NEXT_ARREST_TIME'] <= year*365)]\\\n",
    "        ['SCREENING_DISP_CODE'].count()\n",
    "        rearrest_rates[q][year-1] = rearrest_cnt/total\n",
    "        #print ('Quantile %s: %.0f%% were rearrested within %s years' %(q, rearrest_rate*100, year))\n",
    "    "
   ]
  },
  {
   "cell_type": "code",
   "execution_count": 77,
   "metadata": {
    "collapsed": false
   },
   "outputs": [],
   "source": [
    "rearrest_rates = pd.DataFrame(rearrest_rates, \\\n",
    "             index = range(101), \\\n",
    "             columns = ['1_year','2_year','3_year','4_year','5_year'])\n",
    "rearrest_rates.to_csv('rearrest_rates.csv',index=True)"
   ]
  },
  {
   "cell_type": "code",
   "execution_count": 98,
   "metadata": {
    "collapsed": false
   },
   "outputs": [
    {
     "data": {
      "text/plain": [
       "<matplotlib.legend.Legend at 0x12307cf8>"
      ]
     },
     "execution_count": 98,
     "metadata": {},
     "output_type": "execute_result"
    },
    {
     "data": {
      "image/png": "[encoded data removed]",
      "text/plain": [
       "<matplotlib.figure.Figure at 0xf62cc88>"
      ]
     },
     "metadata": {},
     "output_type": "display_data"
    }
   ],
   "source": [
    "plt.figure(figsize=(14, 7))\n",
    "plt.title('Rearrest Rates by Leniency')\n",
    "for i in range(5):\n",
    "    plt.plot(rearrest_rates.ix[:,i])\n",
    "plt.xlabel('Charge Rate')\n",
    "plt.ylabel('Rearrest Rate')\n",
    "plt.xticks(np.arange(0,101,10))\n",
    "plt.legend()"
   ]
  },
  {
   "cell_type": "code",
   "execution_count": 88,
   "metadata": {
    "collapsed": false
   },
   "outputs": [],
   "source": [
    "test=sada_not_charged[(sada_not_charged['ARREST_DATE_y'] <= 1999 - 1)&(sada_not_charged['CHRG_RATE']<=.5)]"
   ]
  },
  {
   "cell_type": "code",
   "execution_count": null,
   "metadata": {
    "collapsed": true
   },
   "outputs": [],
   "source": []
  }
 ],
 "metadata": {
  "anaconda-cloud": {},
  "kernelspec": {
   "display_name": "Python 3",
   "language": "python",
   "name": "python3"
  },
  "language_info": {
   "codemirror_mode": {
    "name": "ipython",
    "version": 3
   },
   "file_extension": ".py",
   "mimetype": "text/x-python",
   "name": "python",
   "nbconvert_exporter": "python",
   "pygments_lexer": "ipython3",
   "version": "3.6.0"
  }
 },
 "nbformat": 4,
 "nbformat_minor": 0
}
