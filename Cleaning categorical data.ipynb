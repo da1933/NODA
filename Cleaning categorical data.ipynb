{
 "cells": [
  {
   "cell_type": "code",
   "execution_count": 1,
   "metadata": {
    "collapsed": true
   },
   "outputs": [],
   "source": [
    "import pandas as pd\n",
    "\n",
    "merged_data = pd.read_csv('data_simple.csv', encoding = \"ISO-8859-1\", low_memory=False, index_col=0)"
   ]
  },
  {
   "cell_type": "code",
   "execution_count": 3,
   "metadata": {
    "collapsed": false
   },
   "outputs": [
    {
     "data": {
      "text/html": [
       "<div>\n",
       "<table border=\"1\" class=\"dataframe\">\n",
       "  <thead>\n",
       "    <tr style=\"text-align: right;\">\n",
       "      <th></th>\n",
       "      <th>ADD_DATE</th>\n",
       "      <th>ARREST_DATE</th>\n",
       "      <th>BAR_ADMISSION</th>\n",
       "      <th>CHARGE_CLASS</th>\n",
       "      <th>DFDN_SEQ_NBR</th>\n",
       "      <th>DOB</th>\n",
       "      <th>POLICE_RPT_DATE</th>\n",
       "      <th>POLICE_RPT_DAYS</th>\n",
       "      <th>SADA_DOB</th>\n",
       "      <th>SCREENING_DAYS</th>\n",
       "      <th>SCREENING_DISP_CODE</th>\n",
       "      <th>SCREENING_DISP_DATE</th>\n",
       "      <th>SYS_NBR</th>\n",
       "    </tr>\n",
       "  </thead>\n",
       "  <tbody>\n",
       "    <tr>\n",
       "      <th>count</th>\n",
       "      <td>2.802900e+05</td>\n",
       "      <td>2.802900e+05</td>\n",
       "      <td>2.494070e+05</td>\n",
       "      <td>275692.000000</td>\n",
       "      <td>280294.000000</td>\n",
       "      <td>2.802940e+05</td>\n",
       "      <td>2.802940e+05</td>\n",
       "      <td>280294.000000</td>\n",
       "      <td>2.438620e+05</td>\n",
       "      <td>280294.000000</td>\n",
       "      <td>244779.00000</td>\n",
       "      <td>2.802940e+05</td>\n",
       "      <td>2.802940e+05</td>\n",
       "    </tr>\n",
       "    <tr>\n",
       "      <th>mean</th>\n",
       "      <td>1.979663e+07</td>\n",
       "      <td>1.935621e+07</td>\n",
       "      <td>1.989125e+07</td>\n",
       "      <td>3.275510</td>\n",
       "      <td>1.097765</td>\n",
       "      <td>1.934283e+07</td>\n",
       "      <td>1.712800e+07</td>\n",
       "      <td>32.258093</td>\n",
       "      <td>1.960577e+07</td>\n",
       "      <td>15.128747</td>\n",
       "      <td>238.36247</td>\n",
       "      <td>1.742101e+07</td>\n",
       "      <td>9.417777e+07</td>\n",
       "    </tr>\n",
       "    <tr>\n",
       "      <th>std</th>\n",
       "      <td>1.689978e+06</td>\n",
       "      <td>3.360846e+06</td>\n",
       "      <td>6.791726e+04</td>\n",
       "      <td>0.872969</td>\n",
       "      <td>0.483895</td>\n",
       "      <td>2.580123e+06</td>\n",
       "      <td>6.946953e+06</td>\n",
       "      <td>66.161661</td>\n",
       "      <td>8.182868e+04</td>\n",
       "      <td>34.381894</td>\n",
       "      <td>10.18528</td>\n",
       "      <td>6.628696e+06</td>\n",
       "      <td>3.470239e+06</td>\n",
       "    </tr>\n",
       "    <tr>\n",
       "      <th>min</th>\n",
       "      <td>0.000000e+00</td>\n",
       "      <td>0.000000e+00</td>\n",
       "      <td>1.905061e+07</td>\n",
       "      <td>1.000000</td>\n",
       "      <td>1.000000</td>\n",
       "      <td>0.000000e+00</td>\n",
       "      <td>0.000000e+00</td>\n",
       "      <td>0.000000</td>\n",
       "      <td>1.901050e+07</td>\n",
       "      <td>0.000000</td>\n",
       "      <td>17.00000</td>\n",
       "      <td>0.000000e+00</td>\n",
       "      <td>8.400002e+07</td>\n",
       "    </tr>\n",
       "    <tr>\n",
       "      <th>25%</th>\n",
       "      <td>1.991063e+07</td>\n",
       "      <td>1.991031e+07</td>\n",
       "      <td>1.987101e+07</td>\n",
       "      <td>3.000000</td>\n",
       "      <td>1.000000</td>\n",
       "      <td>1.961013e+07</td>\n",
       "      <td>1.990082e+07</td>\n",
       "      <td>3.000000</td>\n",
       "      <td>1.960000e+07</td>\n",
       "      <td>0.000000</td>\n",
       "      <td>230.00000</td>\n",
       "      <td>1.990061e+07</td>\n",
       "      <td>9.110910e+07</td>\n",
       "    </tr>\n",
       "    <tr>\n",
       "      <th>50%</th>\n",
       "      <td>1.994090e+07</td>\n",
       "      <td>1.994053e+07</td>\n",
       "      <td>1.990100e+07</td>\n",
       "      <td>3.000000</td>\n",
       "      <td>1.000000</td>\n",
       "      <td>1.970103e+07</td>\n",
       "      <td>1.994052e+07</td>\n",
       "      <td>13.000000</td>\n",
       "      <td>1.963000e+07</td>\n",
       "      <td>5.000000</td>\n",
       "      <td>240.00000</td>\n",
       "      <td>1.994022e+07</td>\n",
       "      <td>9.417507e+07</td>\n",
       "    </tr>\n",
       "    <tr>\n",
       "      <th>75%</th>\n",
       "      <td>1.997071e+07</td>\n",
       "      <td>1.997052e+07</td>\n",
       "      <td>1.992102e+07</td>\n",
       "      <td>4.000000</td>\n",
       "      <td>1.000000</td>\n",
       "      <td>1.977082e+07</td>\n",
       "      <td>1.997062e+07</td>\n",
       "      <td>34.000000</td>\n",
       "      <td>1.966000e+07</td>\n",
       "      <td>16.000000</td>\n",
       "      <td>240.00000</td>\n",
       "      <td>1.997052e+07</td>\n",
       "      <td>9.724202e+07</td>\n",
       "    </tr>\n",
       "    <tr>\n",
       "      <th>max</th>\n",
       "      <td>1.999112e+07</td>\n",
       "      <td>1.999112e+07</td>\n",
       "      <td>1.999042e+07</td>\n",
       "      <td>8.000000</td>\n",
       "      <td>27.000000</td>\n",
       "      <td>1.999090e+07</td>\n",
       "      <td>1.999112e+07</td>\n",
       "      <td>999.000000</td>\n",
       "      <td>1.974000e+07</td>\n",
       "      <td>997.000000</td>\n",
       "      <td>560.00000</td>\n",
       "      <td>1.999112e+07</td>\n",
       "      <td>9.930916e+07</td>\n",
       "    </tr>\n",
       "  </tbody>\n",
       "</table>\n",
       "</div>"
      ],
      "text/plain": [
       "           ADD_DATE   ARREST_DATE  BAR_ADMISSION   CHARGE_CLASS  \\\n",
       "count  2.802900e+05  2.802900e+05   2.494070e+05  275692.000000   \n",
       "mean   1.979663e+07  1.935621e+07   1.989125e+07       3.275510   \n",
       "std    1.689978e+06  3.360846e+06   6.791726e+04       0.872969   \n",
       "min    0.000000e+00  0.000000e+00   1.905061e+07       1.000000   \n",
       "25%    1.991063e+07  1.991031e+07   1.987101e+07       3.000000   \n",
       "50%    1.994090e+07  1.994053e+07   1.990100e+07       3.000000   \n",
       "75%    1.997071e+07  1.997052e+07   1.992102e+07       4.000000   \n",
       "max    1.999112e+07  1.999112e+07   1.999042e+07       8.000000   \n",
       "\n",
       "        DFDN_SEQ_NBR           DOB  POLICE_RPT_DATE  POLICE_RPT_DAYS  \\\n",
       "count  280294.000000  2.802940e+05     2.802940e+05    280294.000000   \n",
       "mean        1.097765  1.934283e+07     1.712800e+07        32.258093   \n",
       "std         0.483895  2.580123e+06     6.946953e+06        66.161661   \n",
       "min         1.000000  0.000000e+00     0.000000e+00         0.000000   \n",
       "25%         1.000000  1.961013e+07     1.990082e+07         3.000000   \n",
       "50%         1.000000  1.970103e+07     1.994052e+07        13.000000   \n",
       "75%         1.000000  1.977082e+07     1.997062e+07        34.000000   \n",
       "max        27.000000  1.999090e+07     1.999112e+07       999.000000   \n",
       "\n",
       "           SADA_DOB  SCREENING_DAYS  SCREENING_DISP_CODE  SCREENING_DISP_DATE  \\\n",
       "count  2.438620e+05   280294.000000         244779.00000         2.802940e+05   \n",
       "mean   1.960577e+07       15.128747            238.36247         1.742101e+07   \n",
       "std    8.182868e+04       34.381894             10.18528         6.628696e+06   \n",
       "min    1.901050e+07        0.000000             17.00000         0.000000e+00   \n",
       "25%    1.960000e+07        0.000000            230.00000         1.990061e+07   \n",
       "50%    1.963000e+07        5.000000            240.00000         1.994022e+07   \n",
       "75%    1.966000e+07       16.000000            240.00000         1.997052e+07   \n",
       "max    1.974000e+07      997.000000            560.00000         1.999112e+07   \n",
       "\n",
       "            SYS_NBR  \n",
       "count  2.802940e+05  \n",
       "mean   9.417777e+07  \n",
       "std    3.470239e+06  \n",
       "min    8.400002e+07  \n",
       "25%    9.110910e+07  \n",
       "50%    9.417507e+07  \n",
       "75%    9.724202e+07  \n",
       "max    9.930916e+07  "
      ]
     },
     "execution_count": 3,
     "metadata": {},
     "output_type": "execute_result"
    }
   ],
   "source": [
    "merged_data.describe()"
   ]
  },
  {
   "cell_type": "code",
   "execution_count": 4,
   "metadata": {
    "collapsed": false
   },
   "outputs": [
    {
     "data": {
      "text/plain": [
       "Index(['ADA_CODE', 'ADD_DATE', 'ARREST_CREDIT_CODE', 'ARREST_DATE',\n",
       "       'BAR_ADMISSION', 'BOFI_NBR', 'CHARGE_CLASS', 'CHARGE_TYPE',\n",
       "       'CRIMINAL_FLAG', 'DFDN_SEQ_NBR', 'DOB', 'FBI_NBR',\n",
       "       'FINAL_DETENTION_FLAG', 'HABITUAL_OFFENDER_FLAG',\n",
       "       'INITIAL_DETENTION_FLAG', 'JUVENILE_FLAG', 'LEAD_CHARGE_CODE', 'PARTY',\n",
       "       'POLICE_RPT_DATE', 'POLICE_RPT_DAYS', 'RACE', 'SADA_DOB', 'SADA_RACE',\n",
       "       'SADA_SEX', 'SCREENING_DAYS', 'SCREENING_DISP_CODE',\n",
       "       'SCREENING_DISP_DATE', 'SEX', 'SYS_NBR'],\n",
       "      dtype='object')"
      ]
     },
     "execution_count": 4,
     "metadata": {},
     "output_type": "execute_result"
    }
   ],
   "source": [
    "merged_data.columns"
   ]
  },
  {
   "cell_type": "code",
   "execution_count": 105,
   "metadata": {
    "collapsed": true
   },
   "outputs": [],
   "source": [
    "categorical = ['ARREST_CREDIT_CODE', 'CHARGE_CLASS', 'CHARGE_TYPE', 'LEAD_CHARGE_CODE',\\\n",
    "               'PARTY', 'RACE', 'SADA_RACE']"
   ]
  },
  {
   "cell_type": "code",
   "execution_count": 106,
   "metadata": {
    "collapsed": false
   },
   "outputs": [],
   "source": [
    "#create a summary of each one and store it in a list or dictionary I guess\n",
    "\n",
    "dict_counts = {}\n",
    "\n",
    "for columnname in categorical:\n",
    "    dict_counts[columnname] = merged_data[columnname].value_counts()"
   ]
  },
  {
   "cell_type": "code",
   "execution_count": 109,
   "metadata": {
    "collapsed": false
   },
   "outputs": [
    {
     "data": {
      "text/plain": [
       "103"
      ]
     },
     "execution_count": 109,
     "metadata": {},
     "output_type": "execute_result"
    }
   ],
   "source": [
    "len(merged_data['ARREST_CREDIT_CODE'].unique())"
   ]
  },
  {
   "cell_type": "code",
   "execution_count": 110,
   "metadata": {
    "collapsed": false
   },
   "outputs": [
    {
     "data": {
      "text/plain": [
       "ARREST_CREDIT_CODE    10878\n",
       "CHARGE_CLASS           4602\n",
       "CHARGE_TYPE             581\n",
       "LEAD_CHARGE_CODE        552\n",
       "PARTY                 56195\n",
       "RACE                   4821\n",
       "SADA_RACE             38901\n",
       "dtype: int64"
      ]
     },
     "execution_count": 110,
     "metadata": {},
     "output_type": "execute_result"
    }
   ],
   "source": [
    "merged_data[categorical].isnull().sum()"
   ]
  },
  {
   "cell_type": "code",
   "execution_count": 111,
   "metadata": {
    "collapsed": false
   },
   "outputs": [],
   "source": [
    "merged_cat_filled = merged_data[categorical].fillna('NA')"
   ]
  },
  {
   "cell_type": "code",
   "execution_count": 49,
   "metadata": {
    "collapsed": false
   },
   "outputs": [
    {
     "data": {
      "text/plain": [
       "CHARGE_CLASS        0\n",
       "CHARGE_TYPE         0\n",
       "CRIMINAL_FLAG       0\n",
       "LEAD_CHARGE_CODE    0\n",
       "PARTY               0\n",
       "RACE                0\n",
       "SADA_RACE           0\n",
       "dtype: int64"
      ]
     },
     "execution_count": 49,
     "metadata": {},
     "output_type": "execute_result"
    }
   ],
   "source": [
    "merged_cat_filled.isnull().sum()"
   ]
  },
  {
   "cell_type": "code",
   "execution_count": 65,
   "metadata": {
    "collapsed": true
   },
   "outputs": [],
   "source": [
    "invalid_charge_codes = ['40:(979)296', \n",
    "               '14:(24)30(',\n",
    "               '14:(24)67(',\n",
    "               '5:606',\n",
    "               '13:34',\n",
    "               'F5:257',\n",
    "               '14:(26)67(',\n",
    "               '40:(979)1967',\n",
    "               '4:664']"
   ]
  },
  {
   "cell_type": "code",
   "execution_count": 84,
   "metadata": {
    "collapsed": false
   },
   "outputs": [
    {
     "data": {
      "text/html": [
       "<div>\n",
       "<table border=\"1\" class=\"dataframe\">\n",
       "  <thead>\n",
       "    <tr style=\"text-align: right;\">\n",
       "      <th></th>\n",
       "      <th>CHARGE_CLASS</th>\n",
       "      <th>CHARGE_TYPE</th>\n",
       "      <th>CRIMINAL_FLAG</th>\n",
       "      <th>LEAD_CHARGE_CODE</th>\n",
       "      <th>PARTY</th>\n",
       "      <th>RACE</th>\n",
       "      <th>SADA_RACE</th>\n",
       "    </tr>\n",
       "    <tr>\n",
       "      <th>UNIQUE_ID</th>\n",
       "      <th></th>\n",
       "      <th></th>\n",
       "      <th></th>\n",
       "      <th></th>\n",
       "      <th></th>\n",
       "      <th></th>\n",
       "      <th></th>\n",
       "    </tr>\n",
       "  </thead>\n",
       "  <tbody>\n",
       "    <tr>\n",
       "      <th>5207</th>\n",
       "      <td>6</td>\n",
       "      <td>NA</td>\n",
       "      <td>N</td>\n",
       "      <td>5:606</td>\n",
       "      <td>D</td>\n",
       "      <td>NA</td>\n",
       "      <td>W</td>\n",
       "    </tr>\n",
       "    <tr>\n",
       "      <th>163070</th>\n",
       "      <td>NA</td>\n",
       "      <td>NA</td>\n",
       "      <td>Y</td>\n",
       "      <td>40:(979)1967</td>\n",
       "      <td>D</td>\n",
       "      <td>N</td>\n",
       "      <td>W</td>\n",
       "    </tr>\n",
       "    <tr>\n",
       "      <th>196149</th>\n",
       "      <td>4</td>\n",
       "      <td>AR</td>\n",
       "      <td>Y</td>\n",
       "      <td>F5:257</td>\n",
       "      <td>R</td>\n",
       "      <td>NA</td>\n",
       "      <td>W</td>\n",
       "    </tr>\n",
       "    <tr>\n",
       "      <th>202726</th>\n",
       "      <td>NA</td>\n",
       "      <td>AR</td>\n",
       "      <td>Y</td>\n",
       "      <td>13:34</td>\n",
       "      <td>D</td>\n",
       "      <td>N</td>\n",
       "      <td>B</td>\n",
       "    </tr>\n",
       "    <tr>\n",
       "      <th>203134</th>\n",
       "      <td>NA</td>\n",
       "      <td>AR</td>\n",
       "      <td>Y</td>\n",
       "      <td>4:664</td>\n",
       "      <td>R</td>\n",
       "      <td>O</td>\n",
       "      <td>W</td>\n",
       "    </tr>\n",
       "    <tr>\n",
       "      <th>221631</th>\n",
       "      <td>NA</td>\n",
       "      <td>AR</td>\n",
       "      <td>Y</td>\n",
       "      <td>40:(979)296</td>\n",
       "      <td>D</td>\n",
       "      <td>N</td>\n",
       "      <td>B</td>\n",
       "    </tr>\n",
       "    <tr>\n",
       "      <th>241333</th>\n",
       "      <td>NA</td>\n",
       "      <td>AR</td>\n",
       "      <td>Y</td>\n",
       "      <td>14:(24)30(</td>\n",
       "      <td>D</td>\n",
       "      <td>W</td>\n",
       "      <td>W</td>\n",
       "    </tr>\n",
       "    <tr>\n",
       "      <th>241335</th>\n",
       "      <td>NA</td>\n",
       "      <td>AR</td>\n",
       "      <td>Y</td>\n",
       "      <td>14:(24)30(</td>\n",
       "      <td>D</td>\n",
       "      <td>W</td>\n",
       "      <td>W</td>\n",
       "    </tr>\n",
       "    <tr>\n",
       "      <th>242808</th>\n",
       "      <td>2</td>\n",
       "      <td>AR</td>\n",
       "      <td>Y</td>\n",
       "      <td>40:(979)296</td>\n",
       "      <td>D</td>\n",
       "      <td>W</td>\n",
       "      <td>T</td>\n",
       "    </tr>\n",
       "    <tr>\n",
       "      <th>248777</th>\n",
       "      <td>NA</td>\n",
       "      <td>AR</td>\n",
       "      <td>Y</td>\n",
       "      <td>14:(24)67(</td>\n",
       "      <td>R</td>\n",
       "      <td>W</td>\n",
       "      <td>W</td>\n",
       "    </tr>\n",
       "    <tr>\n",
       "      <th>250920</th>\n",
       "      <td>NA</td>\n",
       "      <td>AR</td>\n",
       "      <td>Y</td>\n",
       "      <td>14:(24)67(</td>\n",
       "      <td>D</td>\n",
       "      <td>N</td>\n",
       "      <td>W</td>\n",
       "    </tr>\n",
       "    <tr>\n",
       "      <th>263323</th>\n",
       "      <td>NA</td>\n",
       "      <td>AR</td>\n",
       "      <td>Y</td>\n",
       "      <td>14:(26)67(</td>\n",
       "      <td>D</td>\n",
       "      <td>W</td>\n",
       "      <td>W</td>\n",
       "    </tr>\n",
       "  </tbody>\n",
       "</table>\n",
       "</div>"
      ],
      "text/plain": [
       "          CHARGE_CLASS CHARGE_TYPE CRIMINAL_FLAG LEAD_CHARGE_CODE PARTY RACE  \\\n",
       "UNIQUE_ID                                                                      \n",
       "5207                 6          NA             N            5:606     D   NA   \n",
       "163070              NA          NA             Y     40:(979)1967     D    N   \n",
       "196149               4          AR             Y           F5:257     R   NA   \n",
       "202726              NA          AR             Y            13:34     D    N   \n",
       "203134              NA          AR             Y            4:664     R    O   \n",
       "221631              NA          AR             Y      40:(979)296     D    N   \n",
       "241333              NA          AR             Y       14:(24)30(     D    W   \n",
       "241335              NA          AR             Y       14:(24)30(     D    W   \n",
       "242808               2          AR             Y      40:(979)296     D    W   \n",
       "248777              NA          AR             Y       14:(24)67(     R    W   \n",
       "250920              NA          AR             Y       14:(24)67(     D    N   \n",
       "263323              NA          AR             Y       14:(26)67(     D    W   \n",
       "\n",
       "          SADA_RACE  \n",
       "UNIQUE_ID            \n",
       "5207              W  \n",
       "163070            W  \n",
       "196149            W  \n",
       "202726            B  \n",
       "203134            W  \n",
       "221631            B  \n",
       "241333            W  \n",
       "241335            W  \n",
       "242808            T  \n",
       "248777            W  \n",
       "250920            W  \n",
       "263323            W  "
      ]
     },
     "execution_count": 84,
     "metadata": {},
     "output_type": "execute_result"
    }
   ],
   "source": [
    "merged_cat_filled[merged_cat_filled['LEAD_CHARGE_CODE'].isin(invalid_charge_codes) == True]"
   ]
  },
  {
   "cell_type": "code",
   "execution_count": 74,
   "metadata": {
    "collapsed": false
   },
   "outputs": [],
   "source": [
    "merged_cat_filled['LEAD_CHARGE_CODE'].replace(invalid_charge_codes, 'NA', inplace=True)"
   ]
  },
  {
   "cell_type": "code",
   "execution_count": 62,
   "metadata": {
    "collapsed": true
   },
   "outputs": [],
   "source": [
    "merged_cat_filled['RACE'].replace('N', 'B', inplace=True)\n",
    "#the codebook says that the value A should not be accepted, but this refers to \"asian\" elsewhere\n",
    "#so I'm hesitant to throw out the A's\n",
    "merged_cat_filled['RACE'].replace('O','A', inplace=True)"
   ]
  },
  {
   "cell_type": "code",
   "execution_count": 112,
   "metadata": {
    "collapsed": true
   },
   "outputs": [],
   "source": [
    "merged_cat_filled['ARREST_CREDIT_CODE'].replace('00', 'NA', inplace=True)"
   ]
  },
  {
   "cell_type": "code",
   "execution_count": 87,
   "metadata": {
    "collapsed": false
   },
   "outputs": [
    {
     "data": {
      "text/plain": [
       "['CHARGE_CLASS',\n",
       " 'CHARGE_TYPE',\n",
       " 'LEAD_CHARGE_CODE',\n",
       " 'PARTY',\n",
       " 'RACE',\n",
       " 'SADA_RACE']"
      ]
     },
     "execution_count": 87,
     "metadata": {},
     "output_type": "execute_result"
    }
   ],
   "source": [
    "categorical"
   ]
  },
  {
   "cell_type": "code",
   "execution_count": 90,
   "metadata": {
    "collapsed": true
   },
   "outputs": [],
   "source": [
    "from sklearn.preprocessing import OneHotEncoder, LabelEncoder"
   ]
  },
  {
   "cell_type": "code",
   "execution_count": 114,
   "metadata": {
    "collapsed": false
   },
   "outputs": [],
   "source": [
    "'''\n",
    "create features using one hot encoding\n",
    "'''\n",
    "\n",
    "# first convert into integer values. one hot enconding only takes int input\n",
    "\n",
    "l_enc = LabelEncoder()\n",
    "\n",
    "col1 = l_enc.fit_transform(merged_cat_filled['CHARGE_CLASS'].astype(str))\n",
    "col2 = l_enc.fit_transform(merged_cat_filled['CHARGE_TYPE'])\n",
    "col3 = l_enc.fit_transform(merged_cat_filled['LEAD_CHARGE_CODE'])\n",
    "col4 = l_enc.fit_transform(merged_cat_filled['PARTY'])\n",
    "col5 = l_enc.fit_transform(merged_cat_filled['RACE'])\n",
    "col6 = l_enc.fit_transform(merged_cat_filled['SADA_RACE'])\n",
    "col7 = l_enc.fit_transform(merged_cat_filled['ARREST_CREDIT_CODE'])\n",
    "\n",
    "X = np.column_stack((col1,col2,col3,col4,col5,col6,col7))\n",
    "\n",
    "#one hot encoding\n",
    "enc = OneHotEncoder()\n",
    "X_enc = enc.fit_transform(X)"
   ]
  },
  {
   "cell_type": "code",
   "execution_count": null,
   "metadata": {
    "collapsed": true
   },
   "outputs": [],
   "source": [
    "#may also import table Code to store interpretation of each category\n",
    "#ARCDCD in Code table: Arrest credit code\n",
    "#CGCD table: Lead charge code\n",
    "#CSCLC in Code table: Charge class"
   ]
  }
 ],
 "metadata": {
  "kernelspec": {
   "display_name": "Python 3",
   "language": "python",
   "name": "python3"
  },
  "language_info": {
   "codemirror_mode": {
    "name": "ipython",
    "version": 3
   },
   "file_extension": ".py",
   "mimetype": "text/x-python",
   "name": "python",
   "nbconvert_exporter": "python",
   "pygments_lexer": "ipython3",
   "version": "3.6.0"
  }
 },
 "nbformat": 4,
 "nbformat_minor": 2
}
