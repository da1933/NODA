{
 "cells": [
  {
   "cell_type": "code",
   "execution_count": 26,
   "metadata": {
    "collapsed": true
   },
   "outputs": [],
   "source": [
    "import numpy as np\n",
    "import pandas as pd"
   ]
  },
  {
   "cell_type": "code",
   "execution_count": 27,
   "metadata": {
    "collapsed": false
   },
   "outputs": [],
   "source": [
    "#***********************************************************\n",
    "#* first step to drop the 21 duplicates that are problematic in the merge (last merge before \n",
    "#* saving \"data_simple\"\n",
    "#***********************************************************"
   ]
  },
  {
   "cell_type": "code",
   "execution_count": null,
   "metadata": {
    "collapsed": true
   },
   "outputs": [],
   "source": [
    "#I don't know where she got the csv itself. I want to look at the latest version of the dataset"
   ]
  },
  {
   "cell_type": "code",
   "execution_count": 30,
   "metadata": {
    "collapsed": false
   },
   "outputs": [
    {
     "name": "stdout",
     "output_type": "stream",
     "text": [
      "20 rows deleted\n"
     ]
    }
   ],
   "source": [
    "dfdn_cln = pd.read_table(\"csv/Dfdn-cln.csv\", sep = '^', dtype='object', index_col=False)\n",
    "dfdn_cln=dfdn_cln.sort_values(['BOFI_NBR','ADDR_1'])\n",
    "dfdn_nodup=dfdn_cln.drop_duplicates('BOFI_NBR')\n",
    "print('%s rows deleted' %(dfdn_cln.shape[0]-dfdn_nodup.shape[0]))\n",
    "#NOTE: ONLY 20 OBS DROPPED VS 21 IN STATA FILE"
   ]
  },
  {
   "cell_type": "code",
   "execution_count": 29,
   "metadata": {
    "collapsed": true
   },
   "outputs": [],
   "source": [
    "#*********************************************************\n",
    "#* bring sentences in, add plea barganing (?):\n",
    "#*********************************************************\n",
    "#merge dsum-cln with sent-cln on bofi_nbr dfdn_seq_nbr sys_nbr\n",
    "#delete if not in dsum-cln but in sent-cln\n",
    "'''\n",
    "Note: IDs\n",
    "- bofi_nbr: defendant id\n",
    "- sys_nbr: case id , it is the same for multiple offenders crime and for different charges\n",
    "- case_nbr: it is essentially similar to sys_nbr except in 17 cases (8 times because case_nbr is missing)\n",
    "- chrg_seq_nbr: suppose to identify the charges. Frequently there is only the nb 2 or 3 for eg. Probably because the others are dismissed...\n",
    "- dfdt_seq_nbr: identify the defendant among a case with several defendant.\n",
    "\n",
    "- disp_seq_nbr: ? (1 all the time?)\n",
    "- phonic_key: ?\n",
    "'''"
   ]
  },
  {
   "cell_type": "code",
   "execution_count": 45,
   "metadata": {
    "collapsed": false
   },
   "outputs": [
    {
     "name": "stdout",
     "output_type": "stream",
     "text": [
      "312608 rows\n"
     ]
    }
   ],
   "source": [
    "dsum_cln = pd.read_table(\"csv/Dsum-cln.csv\", sep = '^', dtype='object', index_col=False)\n",
    "sent_cln = pd.read_table(\"csv/Sent-cln.csv\", sep = '^', dtype='object', index_col=False)\n",
    "data_merged = pd.merge(dsum_cln, sent_cln, \\\n",
    "                  on=['BOFI_NBR','DFDN_SEQ_NBR','SYS_NBR'], \\\n",
    "                  how='left')  \n",
    "print('%s rows' %(data_merged.shape[0]))"
   ]
  },
  {
   "cell_type": "code",
   "execution_count": null,
   "metadata": {
    "collapsed": false
   },
   "outputs": [],
   "source": [
    "#*********************************************************\n",
    "#* bring arrest date and crime category\n",
    "#*********************************************************\n",
    "#merge in [arrest_date charge_type charge_cat charge_class] from areg-cln\n",
    "#delete if not in data_merged but in areg-cln\n",
    "'''\n",
    "label var charge_type \"AR=at arrest, IF=by information, IN-by indictment\"\n",
    "label var charge_cat \n",
    "label var charge_class \"severity of the charge from 1 sever to 8 lenient\"\n",
    "'''"
   ]
  },
  {
   "cell_type": "code",
   "execution_count": 73,
   "metadata": {
    "collapsed": false
   },
   "outputs": [],
   "source": [
    "areg_clean = pd.read_table(\"csv/Areg-cln.csv\", sep = '^', dtype='object', index_col=False)"
   ]
  },
  {
   "cell_type": "code",
   "execution_count": 74,
   "metadata": {
    "collapsed": false
   },
   "outputs": [
    {
     "name": "stdout",
     "output_type": "stream",
     "text": [
      "312608 rows\n"
     ]
    }
   ],
   "source": [
    "data_merged = pd.merge(data_merged, \\\n",
    "                 areg_clean.ix[:,['ARREST_DATE','CHARGE_TYPE','CHARGE_CAT','CHARGE_CLASS',\\\n",
    "                                 'BOFI_NBR','DFDN_SEQ_NBR','SYS_NBR']],\\\n",
    "                 on=['BOFI_NBR','DFDN_SEQ_NBR','SYS_NBR'], \\\n",
    "                 how='left')\n",
    "print('%s rows' %(data_merged.shape[0]))"
   ]
  },
  {
   "cell_type": "code",
   "execution_count": null,
   "metadata": {
    "collapsed": true
   },
   "outputs": [],
   "source": []
  }
 ],
 "metadata": {
  "kernelspec": {
   "display_name": "Python [Root]",
   "language": "python",
   "name": "Python [Root]"
  },
  "language_info": {
   "codemirror_mode": {
    "name": "ipython",
    "version": 3
   },
   "file_extension": ".py",
   "mimetype": "text/x-python",
   "name": "python",
   "nbconvert_exporter": "python",
   "pygments_lexer": "ipython3",
   "version": "3.5.2"
  }
 },
 "nbformat": 4,
 "nbformat_minor": 0
}
