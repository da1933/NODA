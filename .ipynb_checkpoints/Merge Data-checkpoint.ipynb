{
 "cells": [
  {
   "cell_type": "code",
   "execution_count": 2,
   "metadata": {
    "collapsed": true
   },
   "outputs": [],
   "source": [
    "import numpy as np\n",
    "import pandas as pd"
   ]
  },
  {
   "cell_type": "code",
   "execution_count": 2,
   "metadata": {
    "collapsed": false
   },
   "outputs": [],
   "source": [
    "#***********************************************************\n",
    "#* first step to drop the 21 duplicates that are problematic in the merge (last merge before \n",
    "#* saving \"data_simple\"\n",
    "#***********************************************************"
   ]
  },
  {
   "cell_type": "code",
   "execution_count": 3,
   "metadata": {
    "collapsed": false
   },
   "outputs": [
    {
     "ename": "OSError",
     "evalue": "File b'csv/Dfdn-cln.csv' does not exist",
     "output_type": "error",
     "traceback": [
      "\u001b[0;31m---------------------------------------------------------------------------\u001b[0m",
      "\u001b[0;31mOSError\u001b[0m                                   Traceback (most recent call last)",
      "\u001b[0;32m<ipython-input-3-6b13a63c3b01>\u001b[0m in \u001b[0;36m<module>\u001b[0;34m()\u001b[0m\n\u001b[0;32m----> 1\u001b[0;31m \u001b[0mdfdn_cln\u001b[0m \u001b[1;33m=\u001b[0m \u001b[0mpd\u001b[0m\u001b[1;33m.\u001b[0m\u001b[0mread_table\u001b[0m\u001b[1;33m(\u001b[0m\u001b[1;34m\"csv/Dfdn-cln.csv\"\u001b[0m\u001b[1;33m,\u001b[0m \u001b[0msep\u001b[0m \u001b[1;33m=\u001b[0m \u001b[1;34m'^'\u001b[0m\u001b[1;33m,\u001b[0m \u001b[0mdtype\u001b[0m\u001b[1;33m=\u001b[0m\u001b[1;34m'object'\u001b[0m\u001b[1;33m,\u001b[0m \u001b[0mindex_col\u001b[0m\u001b[1;33m=\u001b[0m\u001b[1;32mFalse\u001b[0m\u001b[1;33m)\u001b[0m\u001b[1;33m\u001b[0m\u001b[0m\n\u001b[0m\u001b[1;32m      2\u001b[0m \u001b[0mdfdn_cln\u001b[0m\u001b[1;33m=\u001b[0m\u001b[0mdfdn_cln\u001b[0m\u001b[1;33m.\u001b[0m\u001b[0msort_values\u001b[0m\u001b[1;33m(\u001b[0m\u001b[1;33m[\u001b[0m\u001b[1;34m'BOFI_NBR'\u001b[0m\u001b[1;33m,\u001b[0m\u001b[1;34m'ADDR_1'\u001b[0m\u001b[1;33m]\u001b[0m\u001b[1;33m)\u001b[0m\u001b[1;33m\u001b[0m\u001b[0m\n\u001b[1;32m      3\u001b[0m \u001b[0mdfdn_nodup\u001b[0m\u001b[1;33m=\u001b[0m\u001b[0mdfdn_cln\u001b[0m\u001b[1;33m.\u001b[0m\u001b[0mdrop_duplicates\u001b[0m\u001b[1;33m(\u001b[0m\u001b[1;34m'BOFI_NBR'\u001b[0m\u001b[1;33m)\u001b[0m\u001b[1;33m\u001b[0m\u001b[0m\n\u001b[1;32m      4\u001b[0m \u001b[0mprint\u001b[0m\u001b[1;33m(\u001b[0m\u001b[1;34m'%s rows deleted'\u001b[0m \u001b[1;33m%\u001b[0m\u001b[1;33m(\u001b[0m\u001b[0mdfdn_cln\u001b[0m\u001b[1;33m.\u001b[0m\u001b[0mshape\u001b[0m\u001b[1;33m[\u001b[0m\u001b[1;36m0\u001b[0m\u001b[1;33m]\u001b[0m\u001b[1;33m-\u001b[0m\u001b[0mdfdn_nodup\u001b[0m\u001b[1;33m.\u001b[0m\u001b[0mshape\u001b[0m\u001b[1;33m[\u001b[0m\u001b[1;36m0\u001b[0m\u001b[1;33m]\u001b[0m\u001b[1;33m)\u001b[0m\u001b[1;33m)\u001b[0m\u001b[1;33m\u001b[0m\u001b[0m\n\u001b[1;32m      5\u001b[0m \u001b[1;31m#NOTE: ONLY 20 OBS DROPPED VS 21 IN STATA FILE\u001b[0m\u001b[1;33m\u001b[0m\u001b[1;33m\u001b[0m\u001b[0m\n",
      "\u001b[0;32mc:\\Users\\Caroline\\Anaconda3\\lib\\site-packages\\pandas\\io\\parsers.py\u001b[0m in \u001b[0;36mparser_f\u001b[0;34m(filepath_or_buffer, sep, delimiter, header, names, index_col, usecols, squeeze, prefix, mangle_dupe_cols, dtype, engine, converters, true_values, false_values, skipinitialspace, skiprows, skipfooter, nrows, na_values, keep_default_na, na_filter, verbose, skip_blank_lines, parse_dates, infer_datetime_format, keep_date_col, date_parser, dayfirst, iterator, chunksize, compression, thousands, decimal, lineterminator, quotechar, quoting, escapechar, comment, encoding, dialect, tupleize_cols, error_bad_lines, warn_bad_lines, skip_footer, doublequote, delim_whitespace, as_recarray, compact_ints, use_unsigned, low_memory, buffer_lines, memory_map, float_precision)\u001b[0m\n\u001b[1;32m    560\u001b[0m                     skip_blank_lines=skip_blank_lines)\n\u001b[1;32m    561\u001b[0m \u001b[1;33m\u001b[0m\u001b[0m\n\u001b[0;32m--> 562\u001b[0;31m         \u001b[1;32mreturn\u001b[0m \u001b[0m_read\u001b[0m\u001b[1;33m(\u001b[0m\u001b[0mfilepath_or_buffer\u001b[0m\u001b[1;33m,\u001b[0m \u001b[0mkwds\u001b[0m\u001b[1;33m)\u001b[0m\u001b[1;33m\u001b[0m\u001b[0m\n\u001b[0m\u001b[1;32m    563\u001b[0m \u001b[1;33m\u001b[0m\u001b[0m\n\u001b[1;32m    564\u001b[0m     \u001b[0mparser_f\u001b[0m\u001b[1;33m.\u001b[0m\u001b[0m__name__\u001b[0m \u001b[1;33m=\u001b[0m \u001b[0mname\u001b[0m\u001b[1;33m\u001b[0m\u001b[0m\n",
      "\u001b[0;32mc:\\Users\\Caroline\\Anaconda3\\lib\\site-packages\\pandas\\io\\parsers.py\u001b[0m in \u001b[0;36m_read\u001b[0;34m(filepath_or_buffer, kwds)\u001b[0m\n\u001b[1;32m    313\u001b[0m \u001b[1;33m\u001b[0m\u001b[0m\n\u001b[1;32m    314\u001b[0m     \u001b[1;31m# Create the parser.\u001b[0m\u001b[1;33m\u001b[0m\u001b[1;33m\u001b[0m\u001b[0m\n\u001b[0;32m--> 315\u001b[0;31m     \u001b[0mparser\u001b[0m \u001b[1;33m=\u001b[0m \u001b[0mTextFileReader\u001b[0m\u001b[1;33m(\u001b[0m\u001b[0mfilepath_or_buffer\u001b[0m\u001b[1;33m,\u001b[0m \u001b[1;33m**\u001b[0m\u001b[0mkwds\u001b[0m\u001b[1;33m)\u001b[0m\u001b[1;33m\u001b[0m\u001b[0m\n\u001b[0m\u001b[1;32m    316\u001b[0m \u001b[1;33m\u001b[0m\u001b[0m\n\u001b[1;32m    317\u001b[0m     \u001b[1;32mif\u001b[0m \u001b[1;33m(\u001b[0m\u001b[0mnrows\u001b[0m \u001b[1;32mis\u001b[0m \u001b[1;32mnot\u001b[0m \u001b[1;32mNone\u001b[0m\u001b[1;33m)\u001b[0m \u001b[1;32mand\u001b[0m \u001b[1;33m(\u001b[0m\u001b[0mchunksize\u001b[0m \u001b[1;32mis\u001b[0m \u001b[1;32mnot\u001b[0m \u001b[1;32mNone\u001b[0m\u001b[1;33m)\u001b[0m\u001b[1;33m:\u001b[0m\u001b[1;33m\u001b[0m\u001b[0m\n",
      "\u001b[0;32mc:\\Users\\Caroline\\Anaconda3\\lib\\site-packages\\pandas\\io\\parsers.py\u001b[0m in \u001b[0;36m__init__\u001b[0;34m(self, f, engine, **kwds)\u001b[0m\n\u001b[1;32m    643\u001b[0m             \u001b[0mself\u001b[0m\u001b[1;33m.\u001b[0m\u001b[0moptions\u001b[0m\u001b[1;33m[\u001b[0m\u001b[1;34m'has_index_names'\u001b[0m\u001b[1;33m]\u001b[0m \u001b[1;33m=\u001b[0m \u001b[0mkwds\u001b[0m\u001b[1;33m[\u001b[0m\u001b[1;34m'has_index_names'\u001b[0m\u001b[1;33m]\u001b[0m\u001b[1;33m\u001b[0m\u001b[0m\n\u001b[1;32m    644\u001b[0m \u001b[1;33m\u001b[0m\u001b[0m\n\u001b[0;32m--> 645\u001b[0;31m         \u001b[0mself\u001b[0m\u001b[1;33m.\u001b[0m\u001b[0m_make_engine\u001b[0m\u001b[1;33m(\u001b[0m\u001b[0mself\u001b[0m\u001b[1;33m.\u001b[0m\u001b[0mengine\u001b[0m\u001b[1;33m)\u001b[0m\u001b[1;33m\u001b[0m\u001b[0m\n\u001b[0m\u001b[1;32m    646\u001b[0m \u001b[1;33m\u001b[0m\u001b[0m\n\u001b[1;32m    647\u001b[0m     \u001b[1;32mdef\u001b[0m \u001b[0mclose\u001b[0m\u001b[1;33m(\u001b[0m\u001b[0mself\u001b[0m\u001b[1;33m)\u001b[0m\u001b[1;33m:\u001b[0m\u001b[1;33m\u001b[0m\u001b[0m\n",
      "\u001b[0;32mc:\\Users\\Caroline\\Anaconda3\\lib\\site-packages\\pandas\\io\\parsers.py\u001b[0m in \u001b[0;36m_make_engine\u001b[0;34m(self, engine)\u001b[0m\n\u001b[1;32m    797\u001b[0m     \u001b[1;32mdef\u001b[0m \u001b[0m_make_engine\u001b[0m\u001b[1;33m(\u001b[0m\u001b[0mself\u001b[0m\u001b[1;33m,\u001b[0m \u001b[0mengine\u001b[0m\u001b[1;33m=\u001b[0m\u001b[1;34m'c'\u001b[0m\u001b[1;33m)\u001b[0m\u001b[1;33m:\u001b[0m\u001b[1;33m\u001b[0m\u001b[0m\n\u001b[1;32m    798\u001b[0m         \u001b[1;32mif\u001b[0m \u001b[0mengine\u001b[0m \u001b[1;33m==\u001b[0m \u001b[1;34m'c'\u001b[0m\u001b[1;33m:\u001b[0m\u001b[1;33m\u001b[0m\u001b[0m\n\u001b[0;32m--> 799\u001b[0;31m             \u001b[0mself\u001b[0m\u001b[1;33m.\u001b[0m\u001b[0m_engine\u001b[0m \u001b[1;33m=\u001b[0m \u001b[0mCParserWrapper\u001b[0m\u001b[1;33m(\u001b[0m\u001b[0mself\u001b[0m\u001b[1;33m.\u001b[0m\u001b[0mf\u001b[0m\u001b[1;33m,\u001b[0m \u001b[1;33m**\u001b[0m\u001b[0mself\u001b[0m\u001b[1;33m.\u001b[0m\u001b[0moptions\u001b[0m\u001b[1;33m)\u001b[0m\u001b[1;33m\u001b[0m\u001b[0m\n\u001b[0m\u001b[1;32m    800\u001b[0m         \u001b[1;32melse\u001b[0m\u001b[1;33m:\u001b[0m\u001b[1;33m\u001b[0m\u001b[0m\n\u001b[1;32m    801\u001b[0m             \u001b[1;32mif\u001b[0m \u001b[0mengine\u001b[0m \u001b[1;33m==\u001b[0m \u001b[1;34m'python'\u001b[0m\u001b[1;33m:\u001b[0m\u001b[1;33m\u001b[0m\u001b[0m\n",
      "\u001b[0;32mc:\\Users\\Caroline\\Anaconda3\\lib\\site-packages\\pandas\\io\\parsers.py\u001b[0m in \u001b[0;36m__init__\u001b[0;34m(self, src, **kwds)\u001b[0m\n\u001b[1;32m   1211\u001b[0m         \u001b[0mkwds\u001b[0m\u001b[1;33m[\u001b[0m\u001b[1;34m'allow_leading_cols'\u001b[0m\u001b[1;33m]\u001b[0m \u001b[1;33m=\u001b[0m \u001b[0mself\u001b[0m\u001b[1;33m.\u001b[0m\u001b[0mindex_col\u001b[0m \u001b[1;32mis\u001b[0m \u001b[1;32mnot\u001b[0m \u001b[1;32mFalse\u001b[0m\u001b[1;33m\u001b[0m\u001b[0m\n\u001b[1;32m   1212\u001b[0m \u001b[1;33m\u001b[0m\u001b[0m\n\u001b[0;32m-> 1213\u001b[0;31m         \u001b[0mself\u001b[0m\u001b[1;33m.\u001b[0m\u001b[0m_reader\u001b[0m \u001b[1;33m=\u001b[0m \u001b[0m_parser\u001b[0m\u001b[1;33m.\u001b[0m\u001b[0mTextReader\u001b[0m\u001b[1;33m(\u001b[0m\u001b[0msrc\u001b[0m\u001b[1;33m,\u001b[0m \u001b[1;33m**\u001b[0m\u001b[0mkwds\u001b[0m\u001b[1;33m)\u001b[0m\u001b[1;33m\u001b[0m\u001b[0m\n\u001b[0m\u001b[1;32m   1214\u001b[0m \u001b[1;33m\u001b[0m\u001b[0m\n\u001b[1;32m   1215\u001b[0m         \u001b[1;31m# XXX\u001b[0m\u001b[1;33m\u001b[0m\u001b[1;33m\u001b[0m\u001b[0m\n",
      "\u001b[0;32mpandas\\parser.pyx\u001b[0m in \u001b[0;36mpandas.parser.TextReader.__cinit__ (pandas\\parser.c:3427)\u001b[0;34m()\u001b[0m\n",
      "\u001b[0;32mpandas\\parser.pyx\u001b[0m in \u001b[0;36mpandas.parser.TextReader._setup_parser_source (pandas\\parser.c:6861)\u001b[0;34m()\u001b[0m\n",
      "\u001b[0;31mOSError\u001b[0m: File b'csv/Dfdn-cln.csv' does not exist"
     ]
    }
   ],
   "source": [
    "dfdn_cln = pd.read_table(\"csv/Dfdn-cln.csv\", sep = '^', dtype='object', index_col=False)\n",
    "dfdn_cln=dfdn_cln.sort_values(['BOFI_NBR','ADDR_1'])\n",
    "dfdn_nodup=dfdn_cln.drop_duplicates('BOFI_NBR')\n",
    "print('%s rows deleted' %(dfdn_cln.shape[0]-dfdn_nodup.shape[0]))\n",
    "#NOTE: ONLY 20 OBS DROPPED VS 21 IN STATA FILE"
   ]
  },
  {
   "cell_type": "code",
   "execution_count": null,
   "metadata": {
    "collapsed": false
   },
   "outputs": [],
   "source": [
    "dfdn_nodup = dfdn_nodup[['BOFI_NBR', 'NAME', 'RESTRICTED_FLAG', 'JUVENILE_FLAG', 'CRIMINAL_FLAG', 'FBI_NBR', 'DOB', 'SEX', 'RACE']]"
   ]
  },
  {
   "cell_type": "code",
   "execution_count": 5,
   "metadata": {
    "collapsed": false
   },
   "outputs": [
    {
     "data": {
      "text/plain": [
       "'\\nNote: IDs\\n- bofi_nbr: defendant id\\n- sys_nbr: case id , it is the same for multiple offenders crime and for different charges\\n- case_nbr: it is essentially similar to sys_nbr except in 17 cases (8 times because case_nbr is missing)\\n- chrg_seq_nbr: suppose to identify the charges. Frequently there is only the nb 2 or 3 for eg. Probably because the others are dismissed...\\n- dfdt_seq_nbr: identify the defendant among a case with several defendant.\\n\\n- disp_seq_nbr: ? (1 all the time?)\\n- phonic_key: ?\\n'"
      ]
     },
     "execution_count": 5,
     "metadata": {},
     "output_type": "execute_result"
    }
   ],
   "source": [
    "#*********************************************************\n",
    "#* bring sentences in, add plea barganing (?):\n",
    "#*********************************************************\n",
    "#merge dsum-cln with sent-cln on bofi_nbr dfdn_seq_nbr sys_nbr\n",
    "#delete if not in dsum-cln but in sent-cln\n",
    "'''\n",
    "Note: IDs\n",
    "- bofi_nbr: defendant id\n",
    "- sys_nbr: case id , it is the same for multiple offenders crime and for different charges\n",
    "- case_nbr: it is essentially similar to sys_nbr except in 17 cases (8 times because case_nbr is missing)\n",
    "- chrg_seq_nbr: suppose to identify the charges. Frequently there is only the nb 2 or 3 for eg. Probably because the others are dismissed...\n",
    "- dfdt_seq_nbr: identify the defendant among a case with several defendant.\n",
    "\n",
    "- disp_seq_nbr: ? (1 all the time?)\n",
    "- phonic_key: ?\n",
    "'''"
   ]
  },
  {
   "cell_type": "code",
   "execution_count": 4,
   "metadata": {
    "collapsed": false,
    "scrolled": true
   },
   "outputs": [
    {
     "ename": "OSError",
     "evalue": "File b'csv/Dsum-cln.csv' does not exist",
     "output_type": "error",
     "traceback": [
      "\u001b[0;31m---------------------------------------------------------------------------\u001b[0m",
      "\u001b[0;31mOSError\u001b[0m                                   Traceback (most recent call last)",
      "\u001b[0;32m<ipython-input-4-d5965f114c30>\u001b[0m in \u001b[0;36m<module>\u001b[0;34m()\u001b[0m\n\u001b[0;32m----> 1\u001b[0;31m \u001b[0mdsum_cln\u001b[0m \u001b[1;33m=\u001b[0m \u001b[0mpd\u001b[0m\u001b[1;33m.\u001b[0m\u001b[0mread_table\u001b[0m\u001b[1;33m(\u001b[0m\u001b[1;34m\"csv/Dsum-cln.csv\"\u001b[0m\u001b[1;33m,\u001b[0m \u001b[0msep\u001b[0m \u001b[1;33m=\u001b[0m \u001b[1;34m'^'\u001b[0m\u001b[1;33m,\u001b[0m \u001b[0mdtype\u001b[0m\u001b[1;33m=\u001b[0m\u001b[1;34m'object'\u001b[0m\u001b[1;33m,\u001b[0m \u001b[0mindex_col\u001b[0m\u001b[1;33m=\u001b[0m\u001b[1;32mFalse\u001b[0m\u001b[1;33m)\u001b[0m\u001b[1;33m\u001b[0m\u001b[0m\n\u001b[0m\u001b[1;32m      2\u001b[0m \u001b[0mdsum_cln\u001b[0m \u001b[1;33m=\u001b[0m \u001b[0mdsum_cln\u001b[0m\u001b[1;33m[\u001b[0m\u001b[1;33m[\u001b[0m\u001b[1;34m'ADA_CODE'\u001b[0m\u001b[1;33m,\u001b[0m \u001b[1;34m'AREG_SEQ_NBR'\u001b[0m\u001b[1;33m,\u001b[0m \u001b[1;34m'BOFI_NBR'\u001b[0m\u001b[1;33m,\u001b[0m \u001b[1;34m'DFDN_SEQ_NBR'\u001b[0m\u001b[1;33m,\u001b[0m \u001b[1;34m'SCREENING_DISP_CODE'\u001b[0m\u001b[1;33m,\u001b[0m \u001b[1;34m'SYS_NBR'\u001b[0m\u001b[1;33m,\u001b[0m \u001b[1;34m'POLICE_RPT_DATE'\u001b[0m\u001b[1;33m,\u001b[0m \u001b[1;34m'POLICE_RPT_DAYS'\u001b[0m\u001b[1;33m,\u001b[0m \u001b[1;34m'SCREENING_DAYS'\u001b[0m\u001b[1;33m,\u001b[0m \u001b[1;34m'SCREENING_DISP_DATE'\u001b[0m\u001b[1;33m]\u001b[0m\u001b[1;33m]\u001b[0m\u001b[1;33m\u001b[0m\u001b[0m\n",
      "\u001b[0;32mc:\\Users\\Caroline\\Anaconda3\\lib\\site-packages\\pandas\\io\\parsers.py\u001b[0m in \u001b[0;36mparser_f\u001b[0;34m(filepath_or_buffer, sep, delimiter, header, names, index_col, usecols, squeeze, prefix, mangle_dupe_cols, dtype, engine, converters, true_values, false_values, skipinitialspace, skiprows, skipfooter, nrows, na_values, keep_default_na, na_filter, verbose, skip_blank_lines, parse_dates, infer_datetime_format, keep_date_col, date_parser, dayfirst, iterator, chunksize, compression, thousands, decimal, lineterminator, quotechar, quoting, escapechar, comment, encoding, dialect, tupleize_cols, error_bad_lines, warn_bad_lines, skip_footer, doublequote, delim_whitespace, as_recarray, compact_ints, use_unsigned, low_memory, buffer_lines, memory_map, float_precision)\u001b[0m\n\u001b[1;32m    560\u001b[0m                     skip_blank_lines=skip_blank_lines)\n\u001b[1;32m    561\u001b[0m \u001b[1;33m\u001b[0m\u001b[0m\n\u001b[0;32m--> 562\u001b[0;31m         \u001b[1;32mreturn\u001b[0m \u001b[0m_read\u001b[0m\u001b[1;33m(\u001b[0m\u001b[0mfilepath_or_buffer\u001b[0m\u001b[1;33m,\u001b[0m \u001b[0mkwds\u001b[0m\u001b[1;33m)\u001b[0m\u001b[1;33m\u001b[0m\u001b[0m\n\u001b[0m\u001b[1;32m    563\u001b[0m \u001b[1;33m\u001b[0m\u001b[0m\n\u001b[1;32m    564\u001b[0m     \u001b[0mparser_f\u001b[0m\u001b[1;33m.\u001b[0m\u001b[0m__name__\u001b[0m \u001b[1;33m=\u001b[0m \u001b[0mname\u001b[0m\u001b[1;33m\u001b[0m\u001b[0m\n",
      "\u001b[0;32mc:\\Users\\Caroline\\Anaconda3\\lib\\site-packages\\pandas\\io\\parsers.py\u001b[0m in \u001b[0;36m_read\u001b[0;34m(filepath_or_buffer, kwds)\u001b[0m\n\u001b[1;32m    313\u001b[0m \u001b[1;33m\u001b[0m\u001b[0m\n\u001b[1;32m    314\u001b[0m     \u001b[1;31m# Create the parser.\u001b[0m\u001b[1;33m\u001b[0m\u001b[1;33m\u001b[0m\u001b[0m\n\u001b[0;32m--> 315\u001b[0;31m     \u001b[0mparser\u001b[0m \u001b[1;33m=\u001b[0m \u001b[0mTextFileReader\u001b[0m\u001b[1;33m(\u001b[0m\u001b[0mfilepath_or_buffer\u001b[0m\u001b[1;33m,\u001b[0m \u001b[1;33m**\u001b[0m\u001b[0mkwds\u001b[0m\u001b[1;33m)\u001b[0m\u001b[1;33m\u001b[0m\u001b[0m\n\u001b[0m\u001b[1;32m    316\u001b[0m \u001b[1;33m\u001b[0m\u001b[0m\n\u001b[1;32m    317\u001b[0m     \u001b[1;32mif\u001b[0m \u001b[1;33m(\u001b[0m\u001b[0mnrows\u001b[0m \u001b[1;32mis\u001b[0m \u001b[1;32mnot\u001b[0m \u001b[1;32mNone\u001b[0m\u001b[1;33m)\u001b[0m \u001b[1;32mand\u001b[0m \u001b[1;33m(\u001b[0m\u001b[0mchunksize\u001b[0m \u001b[1;32mis\u001b[0m \u001b[1;32mnot\u001b[0m \u001b[1;32mNone\u001b[0m\u001b[1;33m)\u001b[0m\u001b[1;33m:\u001b[0m\u001b[1;33m\u001b[0m\u001b[0m\n",
      "\u001b[0;32mc:\\Users\\Caroline\\Anaconda3\\lib\\site-packages\\pandas\\io\\parsers.py\u001b[0m in \u001b[0;36m__init__\u001b[0;34m(self, f, engine, **kwds)\u001b[0m\n\u001b[1;32m    643\u001b[0m             \u001b[0mself\u001b[0m\u001b[1;33m.\u001b[0m\u001b[0moptions\u001b[0m\u001b[1;33m[\u001b[0m\u001b[1;34m'has_index_names'\u001b[0m\u001b[1;33m]\u001b[0m \u001b[1;33m=\u001b[0m \u001b[0mkwds\u001b[0m\u001b[1;33m[\u001b[0m\u001b[1;34m'has_index_names'\u001b[0m\u001b[1;33m]\u001b[0m\u001b[1;33m\u001b[0m\u001b[0m\n\u001b[1;32m    644\u001b[0m \u001b[1;33m\u001b[0m\u001b[0m\n\u001b[0;32m--> 645\u001b[0;31m         \u001b[0mself\u001b[0m\u001b[1;33m.\u001b[0m\u001b[0m_make_engine\u001b[0m\u001b[1;33m(\u001b[0m\u001b[0mself\u001b[0m\u001b[1;33m.\u001b[0m\u001b[0mengine\u001b[0m\u001b[1;33m)\u001b[0m\u001b[1;33m\u001b[0m\u001b[0m\n\u001b[0m\u001b[1;32m    646\u001b[0m \u001b[1;33m\u001b[0m\u001b[0m\n\u001b[1;32m    647\u001b[0m     \u001b[1;32mdef\u001b[0m \u001b[0mclose\u001b[0m\u001b[1;33m(\u001b[0m\u001b[0mself\u001b[0m\u001b[1;33m)\u001b[0m\u001b[1;33m:\u001b[0m\u001b[1;33m\u001b[0m\u001b[0m\n",
      "\u001b[0;32mc:\\Users\\Caroline\\Anaconda3\\lib\\site-packages\\pandas\\io\\parsers.py\u001b[0m in \u001b[0;36m_make_engine\u001b[0;34m(self, engine)\u001b[0m\n\u001b[1;32m    797\u001b[0m     \u001b[1;32mdef\u001b[0m \u001b[0m_make_engine\u001b[0m\u001b[1;33m(\u001b[0m\u001b[0mself\u001b[0m\u001b[1;33m,\u001b[0m \u001b[0mengine\u001b[0m\u001b[1;33m=\u001b[0m\u001b[1;34m'c'\u001b[0m\u001b[1;33m)\u001b[0m\u001b[1;33m:\u001b[0m\u001b[1;33m\u001b[0m\u001b[0m\n\u001b[1;32m    798\u001b[0m         \u001b[1;32mif\u001b[0m \u001b[0mengine\u001b[0m \u001b[1;33m==\u001b[0m \u001b[1;34m'c'\u001b[0m\u001b[1;33m:\u001b[0m\u001b[1;33m\u001b[0m\u001b[0m\n\u001b[0;32m--> 799\u001b[0;31m             \u001b[0mself\u001b[0m\u001b[1;33m.\u001b[0m\u001b[0m_engine\u001b[0m \u001b[1;33m=\u001b[0m \u001b[0mCParserWrapper\u001b[0m\u001b[1;33m(\u001b[0m\u001b[0mself\u001b[0m\u001b[1;33m.\u001b[0m\u001b[0mf\u001b[0m\u001b[1;33m,\u001b[0m \u001b[1;33m**\u001b[0m\u001b[0mself\u001b[0m\u001b[1;33m.\u001b[0m\u001b[0moptions\u001b[0m\u001b[1;33m)\u001b[0m\u001b[1;33m\u001b[0m\u001b[0m\n\u001b[0m\u001b[1;32m    800\u001b[0m         \u001b[1;32melse\u001b[0m\u001b[1;33m:\u001b[0m\u001b[1;33m\u001b[0m\u001b[0m\n\u001b[1;32m    801\u001b[0m             \u001b[1;32mif\u001b[0m \u001b[0mengine\u001b[0m \u001b[1;33m==\u001b[0m \u001b[1;34m'python'\u001b[0m\u001b[1;33m:\u001b[0m\u001b[1;33m\u001b[0m\u001b[0m\n",
      "\u001b[0;32mc:\\Users\\Caroline\\Anaconda3\\lib\\site-packages\\pandas\\io\\parsers.py\u001b[0m in \u001b[0;36m__init__\u001b[0;34m(self, src, **kwds)\u001b[0m\n\u001b[1;32m   1211\u001b[0m         \u001b[0mkwds\u001b[0m\u001b[1;33m[\u001b[0m\u001b[1;34m'allow_leading_cols'\u001b[0m\u001b[1;33m]\u001b[0m \u001b[1;33m=\u001b[0m \u001b[0mself\u001b[0m\u001b[1;33m.\u001b[0m\u001b[0mindex_col\u001b[0m \u001b[1;32mis\u001b[0m \u001b[1;32mnot\u001b[0m \u001b[1;32mFalse\u001b[0m\u001b[1;33m\u001b[0m\u001b[0m\n\u001b[1;32m   1212\u001b[0m \u001b[1;33m\u001b[0m\u001b[0m\n\u001b[0;32m-> 1213\u001b[0;31m         \u001b[0mself\u001b[0m\u001b[1;33m.\u001b[0m\u001b[0m_reader\u001b[0m \u001b[1;33m=\u001b[0m \u001b[0m_parser\u001b[0m\u001b[1;33m.\u001b[0m\u001b[0mTextReader\u001b[0m\u001b[1;33m(\u001b[0m\u001b[0msrc\u001b[0m\u001b[1;33m,\u001b[0m \u001b[1;33m**\u001b[0m\u001b[0mkwds\u001b[0m\u001b[1;33m)\u001b[0m\u001b[1;33m\u001b[0m\u001b[0m\n\u001b[0m\u001b[1;32m   1214\u001b[0m \u001b[1;33m\u001b[0m\u001b[0m\n\u001b[1;32m   1215\u001b[0m         \u001b[1;31m# XXX\u001b[0m\u001b[1;33m\u001b[0m\u001b[1;33m\u001b[0m\u001b[0m\n",
      "\u001b[0;32mpandas\\parser.pyx\u001b[0m in \u001b[0;36mpandas.parser.TextReader.__cinit__ (pandas\\parser.c:3427)\u001b[0;34m()\u001b[0m\n",
      "\u001b[0;32mpandas\\parser.pyx\u001b[0m in \u001b[0;36mpandas.parser.TextReader._setup_parser_source (pandas\\parser.c:6861)\u001b[0;34m()\u001b[0m\n",
      "\u001b[0;31mOSError\u001b[0m: File b'csv/Dsum-cln.csv' does not exist"
     ]
    }
   ],
   "source": [
    "dsum_cln = pd.read_table(\"csv/Dsum-cln.csv\", sep = '^', dtype='object', index_col=False)\n",
    "dsum_cln = dsum_cln[['ADA_CODE', 'AREG_SEQ_NBR', 'BOFI_NBR', 'DFDN_SEQ_NBR', 'SCREENING_DISP_CODE', 'SYS_NBR', 'POLICE_RPT_DATE', 'POLICE_RPT_DAYS', 'SCREENING_DAYS', 'SCREENING_DISP_DATE']]"
   ]
  },
  {
   "cell_type": "code",
   "execution_count": null,
   "metadata": {
    "collapsed": true
   },
   "outputs": [],
   "source": [
    "data_merged = dsum_cln #start merged data with dsum_cln"
   ]
  },
  {
   "cell_type": "code",
   "execution_count": null,
   "metadata": {
    "collapsed": true
   },
   "outputs": [],
   "source": [
    "#Changed cell below to raw nbconvert for first decision node"
   ]
  },
  {
   "cell_type": "raw",
   "metadata": {
    "collapsed": false
   },
   "source": [
    "sent_cln = pd.read_table(\"csv/Sent-cln.csv\", sep = '^', dtype='object', index_col=False)\n",
    "data_merged = pd.merge(dsum_cln, sent_cln, \\\n",
    "                  on=['BOFI_NBR','DFDN_SEQ_NBR','SYS_NBR'], \\\n",
    "                  how='left')  \n",
    "print('%s rows' %(data_merged.shape[0]))"
   ]
  },
  {
   "cell_type": "code",
   "execution_count": 8,
   "metadata": {
    "collapsed": false
   },
   "outputs": [
    {
     "data": {
      "text/plain": [
       "'\\nlabel var charge_type \"AR=at arrest, IF=by information, IN-by indictment\"\\nlabel var charge_cat \\nlabel var charge_class \"severity of the charge from 1 sever to 8 lenient\"\\n'"
      ]
     },
     "execution_count": 8,
     "metadata": {},
     "output_type": "execute_result"
    }
   ],
   "source": [
    "#*********************************************************\n",
    "#* bring arrest date and crime category\n",
    "#*********************************************************\n",
    "#merge in [arrest_date charge_type charge_cat charge_class] from areg-cln\n",
    "#delete if not in data_merged but in areg-cln\n",
    "'''\n",
    "label var charge_type \"AR=at arrest, IF=by information, IN-by indictment\"\n",
    "label var charge_cat \n",
    "label var charge_class \"severity of the charge from 1 sever to 8 lenient\"\n",
    "'''"
   ]
  },
  {
   "cell_type": "code",
   "execution_count": 7,
   "metadata": {
    "collapsed": false
   },
   "outputs": [],
   "source": [
    "areg_clean = pd.read_table(\"csv/Areg-cln.csv\", sep = '^', dtype='object', index_col=False)\n",
    "\n",
    "areg_clean = areg_clean[['ADA_CODE', 'AREG_SEQ_NBR', 'ARREST_CREDIT_CODE', 'ARREST_DATE', 'BOFI_NBR', 'CHARGE_CAT', 'CHARGE_CLASS', 'CHARGE_TYPE', 'DFDN_SEQ_NBR', 'HABITUAL_OFFENDER_FLAG', 'FINAL_DETENTION_FLAG', 'INITIAL_DETENTION_FLAG', 'LEAD_CHARGE_CODE']]"
   ]
  },
  {
   "cell_type": "code",
   "execution_count": 8,
   "metadata": {
    "collapsed": false
   },
   "outputs": [
    {
     "name": "stdout",
     "output_type": "stream",
     "text": [
      "312608 rows\n"
     ]
    }
   ],
   "source": [
    "data_merged = pd.merge(data_merged, \\\n",
    "                 areg_clean.ix[:,['ARREST_DATE','CHARGE_TYPE','CHARGE_CAT','CHARGE_CLASS',\\\n",
    "                                 'BOFI_NBR','DFDN_SEQ_NBR','SYS_NBR']],\\\n",
    "                 on=['BOFI_NBR','DFDN_SEQ_NBR','SYS_NBR'], \\\n",
    "                 how='left')\n",
    "print('%s rows' %(data_merged.shape[0]))"
   ]
  },
  {
   "cell_type": "code",
   "execution_count": 9,
   "metadata": {
    "collapsed": false
   },
   "outputs": [],
   "source": [
    "Judge_Assignment_Complete = pd.read_stata('Judge_Assignment_Complete.dta')"
   ]
  },
  {
   "cell_type": "code",
   "execution_count": 12,
   "metadata": {
    "collapsed": false
   },
   "outputs": [],
   "source": [
    "Judge_Assignment_Complete.to_csv('Judge_Assignment_Complete.csv')"
   ]
  },
  {
   "cell_type": "code",
   "execution_count": 13,
   "metadata": {
    "collapsed": false
   },
   "outputs": [
    {
     "data": {
      "text/plain": [
       "'IN DO FILE, MERGED ON ALL THE VARIABLES ABOVE.  ONLY BOFI_NBR WAS USED IN THIS MERGE\\n   BECAUSE ALL OTHER VARIABLES DID NOT MATCH'"
      ]
     },
     "execution_count": 13,
     "metadata": {},
     "output_type": "execute_result"
    }
   ],
   "source": [
    "#*********************************************************\n",
    "#* bring judges characteristics\n",
    "#*********************************************************\n",
    "#merge on [bofi_nbr dfdn_seq_nbr disp_seq_nbr sent_seq_nbr sys_nbr chrg_seq_nbr ]\n",
    "#keep all rows\n",
    "\n",
    "'''IN DO FILE, MERGED ON ALL THE VARIABLES ABOVE.  ONLY BOFI_NBR WAS USED IN THIS MERGE\n",
    "   BECAUSE ALL OTHER VARIABLES DID NOT MATCH'''\n",
    "\n"
   ]
  },
  {
   "cell_type": "code",
   "execution_count": 10,
   "metadata": {
    "collapsed": false
   },
   "outputs": [
    {
     "name": "stdout",
     "output_type": "stream",
     "text": [
      "486471 rows\n"
     ]
    }
   ],
   "source": [
    "Judge_Assignment_Complete=pd.read_stata(\"csv/Judge_Assignment_Complete.dta\")\n",
    "\n",
    "#rename all features to be upper case for merge (and consistency)\n",
    "name_dict={}\n",
    "old_names = Judge_Assignment_Complete.columns\n",
    "for i in range(0,len(old_names)):\n",
    "    name_dict[old_names[i]]=old_names[i].upper()\n",
    "\n",
    "Judge_Assignment_Complete = Judge_Assignment_Complete.rename(columns=name_dict)\n",
    "data_merged = pd.merge(data_merged, \\\n",
    "                 Judge_Assignment_Complete,\\\n",
    "                 on=['BOFI_NBR'],\\\n",
    "                 how='outer')\n",
    "print('%s rows' %(data_merged.shape[0]))"
   ]
  },
  {
   "cell_type": "code",
   "execution_count": 15,
   "metadata": {
    "collapsed": true
   },
   "outputs": [],
   "source": [
    "#*********************************************************\n",
    "#* bring SCREANER ada characteristics\n",
    "#*********************************************************\n",
    "#merge in ada_cln on ada_code\n",
    "#delete if not in data_merged"
   ]
  },
  {
   "cell_type": "code",
   "execution_count": 11,
   "metadata": {
    "collapsed": false
   },
   "outputs": [
    {
     "data": {
      "text/plain": [
       "Index(['ADA_CODE', 'ADA_NAME', 'BAR_ADMISSION', 'DOB', 'RACE', 'SEX', 'PARTY',\n",
       "       'ALT_PARTY', 'LAW_SCHOOL', 'UNDERGRAD', 'UNVERIFIED_FLAG',\n",
       "       'INACTIVITY_DATE', 'DECEASED_FLAG', 'DISCIPLINARY_ACTION_FLAG',\n",
       "       'INEL_DUES_OR_RULES_FLAG', 'ADA_NOTES'],\n",
       "      dtype='object')"
      ]
     },
     "execution_count": 11,
     "metadata": {},
     "output_type": "execute_result"
    }
   ],
   "source": [
    "ada_cln = pd.read_table(\"csv/Ada-cln.csv\", sep = '^', \\\n",
    "                           dtype='object', index_col=False)\n",
    "\n",
    "ada_cln.columns"
   ]
  },
  {
   "cell_type": "code",
   "execution_count": 12,
   "metadata": {
    "collapsed": true
   },
   "outputs": [],
   "source": [
    "ada_cln = ada_cln[['ADA_CODE', 'BAR_ADMISSION', 'DOB', 'RACE', 'SEX', 'PARTY', 'ALT_PARTY']]"
   ]
  },
  {
   "cell_type": "code",
   "execution_count": 13,
   "metadata": {
    "collapsed": false
   },
   "outputs": [
    {
     "name": "stdout",
     "output_type": "stream",
     "text": [
      "486471 rows\n"
     ]
    }
   ],
   "source": [
    "data_merged = pd.merge(data_merged, \\\n",
    "                 ada_cln,\\\n",
    "                 on='ADA_CODE', \\\n",
    "                 how='left')\n",
    "print('%s rows' %(data_merged.shape[0]))"
   ]
  },
  {
   "cell_type": "code",
   "execution_count": 15,
   "metadata": {
    "collapsed": false
   },
   "outputs": [],
   "source": [
    "#change the name of the variable on ada to clarify that they are info on screaner ada\n",
    "old_names = ['ADA_CODE', 'ADA_NAME', 'BAR_ADMISSION', 'DOB', 'RACE', 'SEX', 'PARTY', \\\n",
    "             'ALT_PARTY', 'LAW_SCHOOL', 'UNDERGRAD', 'UNVERIFIED_FLAG', 'INACTIVITY_DATE', \\\n",
    "             'DECEASED_FLAG', 'DISCIPLINARY_ACTION_FLAG', 'INEL_DUES_OR_RULES_FLAG', \\\n",
    "             'ADA_NOTES'] #removed TRIAL_ADA_CODE\n",
    "\n",
    "new_names = ['SADA_CODE', 'SADA_NAME', 'SADA_BAR_ADMISSION', 'SADA_DOB', 'SADA_RACE', \\\n",
    "             'SADA_SEX', 'SADA_PARTY', 'SADA_ALT_PARTY', 'SADA_LAW_SCHOOL', 'SADA_UNDERGRAD', \\\n",
    "             'SADA_UNVERIFIED_FLAG', 'SADA_INACTIVITY_DATE', 'SADA_DECEASED_FLAG', \\\n",
    "             'SADA_DISCIPLINARY_ACTION_FLAG', 'SADA_INEL_DUES_OR_RULES_FLAG', 'SADA_NOTES']\n",
    "\n",
    "name_dict={}\n",
    "\n",
    "for i in range(0,len(old_names)):\n",
    "    name_dict[old_names[i]]=new_names[i]\n",
    "\n",
    "data_merged = data_merged.rename(columns=name_dict)"
   ]
  },
  {
   "cell_type": "code",
   "execution_count": null,
   "metadata": {
    "collapsed": false
   },
   "outputs": [],
   "source": [
    "#*********************************************************\n",
    "#* bring TRIAL ada characteristics\n",
    "#*********************************************************\n",
    "#merge in ada_cln on ada_code\n",
    "#delete if not in data_merged\n",
    "\n",
    "'''TRIAL_ADA_CODE was renamed to ADA_CODE.  We are now merging on TRIAL_ADA_CODE'''\n",
    "\n",
    "'''I turned this into nbconvert for now because I think for the first decision node, we shouldn't include trial info yet'''"
   ]
  },
  {
   "cell_type": "raw",
   "metadata": {
    "collapsed": false
   },
   "source": [
    "ada_cln = pd.read_table(\"csv/Ada-cln.csv\", sep = '^', \\\n",
    "                           dtype='object', index_col=False)\n",
    "data_merged = pd.merge(data_merged, \\\n",
    "                 ada_cln,\\\n",
    "                 on='ADA_CODE', \\\n",
    "                 how='left')\n",
    "\n",
    "print('%s rows' %(data_merged.shape[0]))\n",
    "\n",
    "old_names = ['ADA_CODE', 'ADA_NAME', 'BAR_ADMISSION', 'DOB', 'RACE', 'SEX', 'PARTY', \\\n",
    "             'ALT_PARTY', 'LAW_SCHOOL', 'UNDERGRAD', 'UNVERIFIED_FLAG', 'INACTIVITY_DATE', \\\n",
    "             'DECEASED_FLAG', 'DISCIPLINARY_ACTION_FLAG', 'INEL_DUES_OR_RULES_FLAG', \\\n",
    "             'ADA_NOTES']\n",
    "\n",
    "new_names = ['TADA_CODE', 'TADA_NAME', 'TADA_BAR_ADMISSION', 'TADA_DOB', 'TADA_RACE', \\\n",
    "             'TADA_SEX', 'TADA_PARTY', 'TADA_ALT_PARTY', 'TADA_LAW_SCHOOL', 'TADA_UNDERGRAD', \\\n",
    "             'TADA_UNVERIFIED_FLAG', 'TADA_INACTIVITY_DATE', 'TADA_DECEASED_FLAG', \\\n",
    "             'TADA_DISCIPLINARY_ACTION_FLAG', 'TADA_INEL_DUES_OR_RULES_FLAG', 'TADA_NOTES']\n",
    "\n",
    "name_dict={}\n",
    "\n",
    "for i in range(0,len(old_names)):\n",
    "    name_dict[old_names[i]]=new_names[i]\n",
    "\n",
    "data_merged = data_merged.rename(columns=name_dict)"
   ]
  },
  {
   "cell_type": "code",
   "execution_count": null,
   "metadata": {
    "collapsed": false
   },
   "outputs": [],
   "source": [
    "#*********************************************************\n",
    "#* bring information on defendant\n",
    "#*********************************************************\n",
    "#merge in dfdn_nodup on bofi_nbr\n",
    "#Inner join\n",
    "\n",
    "'''DELETED VARIABLES IN STATA CODE ARE NOT IN DATA_MERGED TABLE, COULD BE FROM \n",
    "   JUDGE CHARACTERISTICS TABLE?'''"
   ]
  },
  {
   "cell_type": "code",
   "execution_count": 16,
   "metadata": {
    "collapsed": false
   },
   "outputs": [
    {
     "name": "stdout",
     "output_type": "stream",
     "text": [
      "486470 rows\n"
     ]
    }
   ],
   "source": [
    "#data_merged = data_merged.drop(['DFDN_NAME', 'ADDR_1', 'ADDR_2', 'CITY', 'STATE', 'ZIP', \\\n",
    "#                                'CUSTODY_CODE', 'HOME_PHONE_NBR', 'BUSINESS_PHONE_NBR', \\\n",
    "#                                'DFDN_SSN', 'RESTRICTED_FLAG', 'JUVENILE_FLAG', \\\n",
    "#                                'CRIMINAL_FLAG', 'ALIAS_FLAG', 'DR_LIC_NBR', 'DR_LIC_STATE', \\\n",
    "#                                'DOB', 'DOB_PLACE', 'DFDN_HEIGHT_FEET', 'DFDN_HEIGHT_INCHES', \\\n",
    "#                                'DFDN_WEIGHT', 'DFDN_SEX', 'DFDN_RACE', 'DFDN_SKIN_COLOR', \\\n",
    "#                                'DFDN_EYE_COLOR', 'DFDN_HAIR_COLOR', 'FINGERPRINT_CLASS', \\\n",
    "#                                'DFDN_SMT', 'ADD_DATE', 'ADD_TIME', 'ADD_USER', 'CHANGE_DATE', \\\n",
    "#                                'CHANGE_TIME', 'CHANGE_USER', 'PHONIC_KEY', 'FBI_NBR', \\\n",
    "#                                'CCN_NBR', 'DFDN_DOB'], axis=1)\n",
    "data_simple = pd.merge(data_merged, \\\n",
    "                 dfdn_nodup,\\\n",
    "                 on='BOFI_NBR', \\\n",
    "                 how='inner')\n",
    "print('%s rows' %(data_simple.shape[0]))\n"
   ]
  },
  {
   "cell_type": "code",
   "execution_count": 17,
   "metadata": {
    "collapsed": false
   },
   "outputs": [],
   "source": [
    "data_simple.to_csv('data_simple.csv')"
   ]
  },
  {
   "cell_type": "code",
   "execution_count": 18,
   "metadata": {
    "collapsed": false
   },
   "outputs": [
    {
     "data": {
      "text/plain": [
       "SCREENING_DISP_CODE\n",
       "017        1\n",
       "030        2\n",
       "050       14\n",
       "060        3\n",
       "120        1\n",
       "130        2\n",
       "140        3\n",
       "150        1\n",
       "160        9\n",
       "230    65802\n",
       "240    60397\n",
       "250      142\n",
       "260    27795\n",
       "280        8\n",
       "310        1\n",
       "320        1\n",
       "560        2\n",
       "Name: BOFI_NBR, dtype: int64"
      ]
     },
     "execution_count": 18,
     "metadata": {},
     "output_type": "execute_result"
    }
   ],
   "source": [
    "data_simple.groupby('SCREENING_DISP_CODE').BOFI_NBR.nunique()"
   ]
  },
  {
   "cell_type": "code",
   "execution_count": 20,
   "metadata": {
    "collapsed": false
   },
   "outputs": [
    {
     "data": {
      "text/plain": [
       "Index(['SADA_CODE', 'AREG_SEQ_NBR_x', 'BOFI_NBR', 'DFDN_SEQ_NBR_x',\n",
       "       'SCREENING_DISP_CODE', 'SYS_NBR_x', 'POLICE_RPT_DATE',\n",
       "       'POLICE_RPT_DAYS', 'SCREENING_DAYS', 'SCREENING_DISP_DATE',\n",
       "       ...\n",
       "       'SADA_PARTY', 'SADA_ALT_PARTY', 'NAME', 'RESTRICTED_FLAG_y',\n",
       "       'JUVENILE_FLAG_y', 'CRIMINAL_FLAG_y', 'FBI_NBR_y', 'DOB', 'SEX',\n",
       "       'RACE'],\n",
       "      dtype='object', length=189)"
      ]
     },
     "execution_count": 20,
     "metadata": {},
     "output_type": "execute_result"
    }
   ],
   "source": [
    "data_simple.columns"
   ]
  }
 ],
 "metadata": {
  "anaconda-cloud": {},
  "kernelspec": {
   "display_name": "Python [Root]",
   "language": "python",
   "name": "Python [Root]"
  },
  "language_info": {
   "codemirror_mode": {
    "name": "ipython",
    "version": 3
   },
   "file_extension": ".py",
   "mimetype": "text/x-python",
   "name": "python",
   "nbconvert_exporter": "python",
   "pygments_lexer": "ipython3",
   "version": "3.5.2"
  }
 },
 "nbformat": 4,
 "nbformat_minor": 0
}
