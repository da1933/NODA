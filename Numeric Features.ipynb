{
 "cells": [
  {
   "cell_type": "code",
   "execution_count": 1,
   "metadata": {
    "collapsed": false
   },
   "outputs": [],
   "source": [
    "import numpy as np\n",
    "import pandas as pd\n",
    "import matplotlib.pyplot as plt\n",
    "import project_env as pe\n",
    "from datetime import timedelta, datetime\n",
    "%matplotlib inline"
   ]
  },
  {
   "cell_type": "code",
   "execution_count": 2,
   "metadata": {
    "collapsed": true
   },
   "outputs": [],
   "source": [
    "data_simple = pd.read_csv('data_simple.csv', encoding = \"ISO-8859-1\", low_memory=False)\n",
    "data_simple['UNIQUE_ID'] = pd.Series(np.arange(data_simple.shape[0]))"
   ]
  },
  {
   "cell_type": "code",
   "execution_count": 3,
   "metadata": {
    "collapsed": false
   },
   "outputs": [],
   "source": [
    "numeric = data_simple._get_numeric_data()"
   ]
  },
  {
   "cell_type": "code",
   "execution_count": 4,
   "metadata": {
    "collapsed": false
   },
   "outputs": [
    {
     "data": {
      "text/plain": [
       "Index(['UNIQUE_ID', 'ADD_DATE', 'ARREST_DATE', 'BAR_ADMISSION', 'CHARGE_CLASS',\n",
       "       'DFDN_SEQ_NBR', 'DOB', 'POLICE_RPT_DATE', 'POLICE_RPT_DAYS', 'SADA_DOB',\n",
       "       'SCREENING_DAYS', 'SCREENING_DISP_CODE', 'SCREENING_DISP_DATE',\n",
       "       'SYS_NBR'],\n",
       "      dtype='object')"
      ]
     },
     "execution_count": 4,
     "metadata": {},
     "output_type": "execute_result"
    }
   ],
   "source": [
    "numeric.columns"
   ]
  },
  {
   "cell_type": "code",
   "execution_count": 5,
   "metadata": {
    "collapsed": false
   },
   "outputs": [
    {
     "name": "stdout",
     "output_type": "stream",
     "text": [
      "Before converting to date type:\n"
     ]
    },
    {
     "data": {
      "text/html": [
       "<div>\n",
       "<table border=\"1\" class=\"dataframe\">\n",
       "  <thead>\n",
       "    <tr style=\"text-align: right;\">\n",
       "      <th></th>\n",
       "      <th>POLICE_RPT_DATE</th>\n",
       "      <th>ARREST_DATE</th>\n",
       "      <th>ADD_DATE</th>\n",
       "      <th>SADA_DOB</th>\n",
       "      <th>DOB</th>\n",
       "    </tr>\n",
       "  </thead>\n",
       "  <tbody>\n",
       "    <tr>\n",
       "      <th>type</th>\n",
       "      <td>int64</td>\n",
       "      <td>float64</td>\n",
       "      <td>float64</td>\n",
       "      <td>float64</td>\n",
       "      <td>int64</td>\n",
       "    </tr>\n",
       "    <tr>\n",
       "      <th>mean</th>\n",
       "      <td>1.7128e+07</td>\n",
       "      <td>1.93562e+07</td>\n",
       "      <td>1.97966e+07</td>\n",
       "      <td>1.96058e+07</td>\n",
       "      <td>1.93428e+07</td>\n",
       "    </tr>\n",
       "    <tr>\n",
       "      <th>std</th>\n",
       "      <td>6.94695e+06</td>\n",
       "      <td>3.36085e+06</td>\n",
       "      <td>1.68998e+06</td>\n",
       "      <td>81828.7</td>\n",
       "      <td>2.58012e+06</td>\n",
       "    </tr>\n",
       "    <tr>\n",
       "      <th>min</th>\n",
       "      <td>0</td>\n",
       "      <td>0</td>\n",
       "      <td>0</td>\n",
       "      <td>1.90105e+07</td>\n",
       "      <td>0</td>\n",
       "    </tr>\n",
       "    <tr>\n",
       "      <th>25%</th>\n",
       "      <td>1.99008e+07</td>\n",
       "      <td>1.99103e+07</td>\n",
       "      <td>1.99106e+07</td>\n",
       "      <td>1.96e+07</td>\n",
       "      <td>1.96101e+07</td>\n",
       "    </tr>\n",
       "    <tr>\n",
       "      <th>50%</th>\n",
       "      <td>1.99405e+07</td>\n",
       "      <td>1.99405e+07</td>\n",
       "      <td>1.99409e+07</td>\n",
       "      <td>1.963e+07</td>\n",
       "      <td>1.9701e+07</td>\n",
       "    </tr>\n",
       "    <tr>\n",
       "      <th>75%</th>\n",
       "      <td>1.99706e+07</td>\n",
       "      <td>1.99705e+07</td>\n",
       "      <td>1.99707e+07</td>\n",
       "      <td>1.966e+07</td>\n",
       "      <td>1.97708e+07</td>\n",
       "    </tr>\n",
       "    <tr>\n",
       "      <th>max</th>\n",
       "      <td>1.99911e+07</td>\n",
       "      <td>1.99911e+07</td>\n",
       "      <td>1.99911e+07</td>\n",
       "      <td>1.974e+07</td>\n",
       "      <td>1.99909e+07</td>\n",
       "    </tr>\n",
       "    <tr>\n",
       "      <th>number_distinct</th>\n",
       "      <td>3770</td>\n",
       "      <td>5577</td>\n",
       "      <td>4605</td>\n",
       "      <td>64</td>\n",
       "      <td>19779</td>\n",
       "    </tr>\n",
       "    <tr>\n",
       "      <th>valid_count</th>\n",
       "      <td>280294</td>\n",
       "      <td>280290</td>\n",
       "      <td>280290</td>\n",
       "      <td>243862</td>\n",
       "      <td>280294</td>\n",
       "    </tr>\n",
       "    <tr>\n",
       "      <th>number_nan</th>\n",
       "      <td>0</td>\n",
       "      <td>4</td>\n",
       "      <td>4</td>\n",
       "      <td>36432</td>\n",
       "      <td>0</td>\n",
       "    </tr>\n",
       "  </tbody>\n",
       "</table>\n",
       "</div>"
      ],
      "text/plain": [
       "                POLICE_RPT_DATE  ARREST_DATE     ADD_DATE     SADA_DOB  \\\n",
       "type                      int64      float64      float64      float64   \n",
       "mean                 1.7128e+07  1.93562e+07  1.97966e+07  1.96058e+07   \n",
       "std                 6.94695e+06  3.36085e+06  1.68998e+06      81828.7   \n",
       "min                           0            0            0  1.90105e+07   \n",
       "25%                 1.99008e+07  1.99103e+07  1.99106e+07     1.96e+07   \n",
       "50%                 1.99405e+07  1.99405e+07  1.99409e+07    1.963e+07   \n",
       "75%                 1.99706e+07  1.99705e+07  1.99707e+07    1.966e+07   \n",
       "max                 1.99911e+07  1.99911e+07  1.99911e+07    1.974e+07   \n",
       "number_distinct            3770         5577         4605           64   \n",
       "valid_count              280294       280290       280290       243862   \n",
       "number_nan                    0            4            4        36432   \n",
       "\n",
       "                         DOB  \n",
       "type                   int64  \n",
       "mean             1.93428e+07  \n",
       "std              2.58012e+06  \n",
       "min                        0  \n",
       "25%              1.96101e+07  \n",
       "50%               1.9701e+07  \n",
       "75%              1.97708e+07  \n",
       "max              1.99909e+07  \n",
       "number_distinct        19779  \n",
       "valid_count           280294  \n",
       "number_nan                 0  "
      ]
     },
     "execution_count": 5,
     "metadata": {},
     "output_type": "execute_result"
    }
   ],
   "source": [
    "date_features = ['POLICE_RPT_DATE','ARREST_DATE','ADD_DATE','SADA_DOB','DOB']\n",
    "print('Before converting to date type:')\n",
    "pe.getDfSummary(numeric[date_features]).transpose()"
   ]
  },
  {
   "cell_type": "code",
   "execution_count": 6,
   "metadata": {
    "collapsed": false
   },
   "outputs": [],
   "source": [
    "#convert dates to python dates\n",
    "date_features = ['POLICE_RPT_DATE','ARREST_DATE','ADD_DATE','SADA_DOB','DOB','SCREENING_DISP_DATE','BAR_ADMISSION']\n",
    "\n",
    "for feature in date_features:\n",
    "    numeric[feature] = pe.to_date(numeric[feature])\n",
    "    data_simple[feature] = pe.to_date(data_simple[feature])"
   ]
  },
  {
   "cell_type": "code",
   "execution_count": 7,
   "metadata": {
    "collapsed": false
   },
   "outputs": [
    {
     "name": "stdout",
     "output_type": "stream",
     "text": [
      "After converting to date type:\n"
     ]
    },
    {
     "name": "stderr",
     "output_type": "stream",
     "text": [
      "C:\\Users\\e057074\\AppData\\Local\\Continuum\\Anaconda3\\lib\\site-packages\\pandas\\core\\groupby.py:2930: FutureWarning: In the future, NAT != NAT will be True rather than False.\n",
      "  inc = np.r_[1, val[1:] != val[:-1]]\n"
     ]
    },
    {
     "data": {
      "text/html": [
       "<div>\n",
       "<table border=\"1\" class=\"dataframe\">\n",
       "  <thead>\n",
       "    <tr style=\"text-align: right;\">\n",
       "      <th></th>\n",
       "      <th>type</th>\n",
       "      <th>unique</th>\n",
       "      <th>top</th>\n",
       "      <th>freq</th>\n",
       "      <th>first</th>\n",
       "      <th>last</th>\n",
       "      <th>valid_count</th>\n",
       "      <th>number_nan</th>\n",
       "    </tr>\n",
       "  </thead>\n",
       "  <tbody>\n",
       "    <tr>\n",
       "      <th>POLICE_RPT_DATE</th>\n",
       "      <td>datetime64[ns]</td>\n",
       "      <td>3768</td>\n",
       "      <td>1996-02-23 00:00:00</td>\n",
       "      <td>395</td>\n",
       "      <td>1967-03-14 00:00:00</td>\n",
       "      <td>1999-11-16 00:00:00</td>\n",
       "      <td>240698</td>\n",
       "      <td>39596</td>\n",
       "    </tr>\n",
       "    <tr>\n",
       "      <th>ARREST_DATE</th>\n",
       "      <td>datetime64[ns]</td>\n",
       "      <td>5576</td>\n",
       "      <td>1996-02-08 00:00:00</td>\n",
       "      <td>416</td>\n",
       "      <td>1901-07-15 00:00:00</td>\n",
       "      <td>1999-11-15 00:00:00</td>\n",
       "      <td>272088</td>\n",
       "      <td>8206</td>\n",
       "    </tr>\n",
       "    <tr>\n",
       "      <th>ADD_DATE</th>\n",
       "      <td>datetime64[ns]</td>\n",
       "      <td>4604</td>\n",
       "      <td>1999-02-17 00:00:00</td>\n",
       "      <td>355</td>\n",
       "      <td>1901-07-15 00:00:00</td>\n",
       "      <td>1999-11-16 00:00:00</td>\n",
       "      <td>278263</td>\n",
       "      <td>2031</td>\n",
       "    </tr>\n",
       "    <tr>\n",
       "      <th>SADA_DOB</th>\n",
       "      <td>datetime64[ns]</td>\n",
       "      <td>13</td>\n",
       "      <td>1964-04-24 00:00:00</td>\n",
       "      <td>6182</td>\n",
       "      <td>1901-05-01 00:00:00</td>\n",
       "      <td>1971-09-16 00:00:00</td>\n",
       "      <td>18340</td>\n",
       "      <td>261954</td>\n",
       "    </tr>\n",
       "    <tr>\n",
       "      <th>DOB</th>\n",
       "      <td>datetime64[ns]</td>\n",
       "      <td>19761</td>\n",
       "      <td>1977-01-28 00:00:00</td>\n",
       "      <td>194</td>\n",
       "      <td>1900-01-10 00:00:00</td>\n",
       "      <td>1999-09-01 00:00:00</td>\n",
       "      <td>275354</td>\n",
       "      <td>4940</td>\n",
       "    </tr>\n",
       "    <tr>\n",
       "      <th>SCREENING_DISP_DATE</th>\n",
       "      <td>datetime64[ns]</td>\n",
       "      <td>3968</td>\n",
       "      <td>1998-02-02 00:00:00</td>\n",
       "      <td>338</td>\n",
       "      <td>1968-07-29 00:00:00</td>\n",
       "      <td>1999-11-16 00:00:00</td>\n",
       "      <td>244845</td>\n",
       "      <td>35449</td>\n",
       "    </tr>\n",
       "    <tr>\n",
       "      <th>BAR_ADMISSION</th>\n",
       "      <td>datetime64[ns]</td>\n",
       "      <td>83</td>\n",
       "      <td>1991-10-11 00:00:00</td>\n",
       "      <td>29567</td>\n",
       "      <td>1905-06-14 00:00:00</td>\n",
       "      <td>1999-04-23 00:00:00</td>\n",
       "      <td>236998</td>\n",
       "      <td>43296</td>\n",
       "    </tr>\n",
       "  </tbody>\n",
       "</table>\n",
       "</div>"
      ],
      "text/plain": [
       "                               type unique                  top   freq  \\\n",
       "POLICE_RPT_DATE      datetime64[ns]   3768  1996-02-23 00:00:00    395   \n",
       "ARREST_DATE          datetime64[ns]   5576  1996-02-08 00:00:00    416   \n",
       "ADD_DATE             datetime64[ns]   4604  1999-02-17 00:00:00    355   \n",
       "SADA_DOB             datetime64[ns]     13  1964-04-24 00:00:00   6182   \n",
       "DOB                  datetime64[ns]  19761  1977-01-28 00:00:00    194   \n",
       "SCREENING_DISP_DATE  datetime64[ns]   3968  1998-02-02 00:00:00    338   \n",
       "BAR_ADMISSION        datetime64[ns]     83  1991-10-11 00:00:00  29567   \n",
       "\n",
       "                                   first                 last valid_count  \\\n",
       "POLICE_RPT_DATE      1967-03-14 00:00:00  1999-11-16 00:00:00      240698   \n",
       "ARREST_DATE          1901-07-15 00:00:00  1999-11-15 00:00:00      272088   \n",
       "ADD_DATE             1901-07-15 00:00:00  1999-11-16 00:00:00      278263   \n",
       "SADA_DOB             1901-05-01 00:00:00  1971-09-16 00:00:00       18340   \n",
       "DOB                  1900-01-10 00:00:00  1999-09-01 00:00:00      275354   \n",
       "SCREENING_DISP_DATE  1968-07-29 00:00:00  1999-11-16 00:00:00      244845   \n",
       "BAR_ADMISSION        1905-06-14 00:00:00  1999-04-23 00:00:00      236998   \n",
       "\n",
       "                    number_nan  \n",
       "POLICE_RPT_DATE          39596  \n",
       "ARREST_DATE               8206  \n",
       "ADD_DATE                  2031  \n",
       "SADA_DOB                261954  \n",
       "DOB                       4940  \n",
       "SCREENING_DISP_DATE      35449  \n",
       "BAR_ADMISSION            43296  "
      ]
     },
     "execution_count": 7,
     "metadata": {},
     "output_type": "execute_result"
    }
   ],
   "source": [
    "\n",
    "print('After converting to date type:')\n",
    "pe.getDfSummary(numeric[date_features]).transpose().drop('number_distinct').transpose()"
   ]
  },
  {
   "cell_type": "code",
   "execution_count": 8,
   "metadata": {
    "collapsed": false
   },
   "outputs": [
    {
     "data": {
      "text/plain": [
       "6175"
      ]
     },
     "execution_count": 8,
     "metadata": {},
     "output_type": "execute_result"
    }
   ],
   "source": [
    "#Numebr of rows where ARREST_DATE is invalid and ADD_DATE is valid\n",
    "numeric[(numeric['ARREST_DATE'].isnull())&(numeric['ADD_DATE'].notnull())]['ADD_DATE'].count()"
   ]
  },
  {
   "cell_type": "code",
   "execution_count": 9,
   "metadata": {
    "collapsed": false
   },
   "outputs": [
    {
     "data": {
      "text/plain": [
       "ADD_DATE       178141\n",
       "ARREST_DATE    178141\n",
       "dtype: int64"
      ]
     },
     "execution_count": 9,
     "metadata": {},
     "output_type": "execute_result"
    }
   ],
   "source": [
    "#Numebr of rows where ARREST_DATE and ADD_DATE are valid but not equal\n",
    "numeric[(numeric['ARREST_DATE'].notnull())&(numeric['ADD_DATE'].notnull())&\\\n",
    "        (numeric['ADD_DATE']!=numeric['ARREST_DATE'])][['ADD_DATE','ARREST_DATE']].count()"
   ]
  },
  {
   "cell_type": "markdown",
   "metadata": {},
   "source": [
    "# POLICE_RPT_DATE"
   ]
  },
  {
   "cell_type": "code",
   "execution_count": 10,
   "metadata": {
    "collapsed": false
   },
   "outputs": [
    {
     "name": "stderr",
     "output_type": "stream",
     "text": [
      "C:\\Users\\e057074\\AppData\\Local\\Continuum\\Anaconda3\\lib\\site-packages\\pandas\\core\\ops.py:533: PerformanceWarning: Adding/subtracting array of DateOffsets to Series not vectorized\n",
      "  \"Series not vectorized\", PerformanceWarning)\n"
     ]
    }
   ],
   "source": [
    "numeric['check_pol_date'] = numeric['ARREST_DATE'] + numeric['POLICE_RPT_DAYS'].apply(pd.offsets.Day)"
   ]
  },
  {
   "cell_type": "code",
   "execution_count": 11,
   "metadata": {
    "collapsed": false
   },
   "outputs": [
    {
     "data": {
      "text/plain": [
       "(237593, 15)"
      ]
     },
     "execution_count": 11,
     "metadata": {},
     "output_type": "execute_result"
    }
   ],
   "source": [
    "numeric[(numeric['POLICE_RPT_DATE'].notnull()) & (numeric['ARREST_DATE'].notnull())].shape"
   ]
  },
  {
   "cell_type": "code",
   "execution_count": 12,
   "metadata": {
    "collapsed": false
   },
   "outputs": [
    {
     "data": {
      "text/plain": [
       "POLICE_RPT_DATE    235939\n",
       "POLICE_RPT_DAYS    235939\n",
       "ARREST_DATE        235939\n",
       "check_pol_date     235939\n",
       "dtype: int64"
      ]
     },
     "execution_count": 12,
     "metadata": {},
     "output_type": "execute_result"
    }
   ],
   "source": [
    "# Number of observations where POLICE_RPT_DATE = ARREST_DATE + POLICE_RPT_DAYS\n",
    "numeric[(numeric['POLICE_RPT_DATE'].notnull())&(numeric['check_pol_date']==numeric['POLICE_RPT_DATE'])]\\\n",
    "    [['POLICE_RPT_DATE','POLICE_RPT_DAYS','ARREST_DATE','check_pol_date']].count()"
   ]
  },
  {
   "cell_type": "code",
   "execution_count": 13,
   "metadata": {
    "collapsed": false
   },
   "outputs": [
    {
     "name": "stderr",
     "output_type": "stream",
     "text": [
      "C:\\Users\\e057074\\AppData\\Local\\Continuum\\Anaconda3\\lib\\site-packages\\pandas\\core\\ops.py:533: PerformanceWarning: Adding/subtracting array of DateOffsets to Series not vectorized\n",
      "  \"Series not vectorized\", PerformanceWarning)\n"
     ]
    }
   ],
   "source": [
    "#impute values for POLICE_RPT_DATE\n",
    "\n",
    "data_simple['POLICE_RPT_DATE'] = np.where((data_simple['POLICE_RPT_DATE'].isnull())&(data_simple['ARREST_DATE'].notnull()),\\\n",
    "                                         data_simple['ARREST_DATE'] + data_simple['POLICE_RPT_DAYS'].apply(pd.offsets.Day),\\\n",
    "                                         data_simple['POLICE_RPT_DATE'])"
   ]
  },
  {
   "cell_type": "code",
   "execution_count": 14,
   "metadata": {
    "collapsed": false
   },
   "outputs": [
    {
     "data": {
      "text/plain": [
       "275193"
      ]
     },
     "execution_count": 14,
     "metadata": {},
     "output_type": "execute_result"
    }
   ],
   "source": [
    "data_simple['POLICE_RPT_DATE'].count()"
   ]
  },
  {
   "cell_type": "code",
   "execution_count": 15,
   "metadata": {
    "collapsed": false
   },
   "outputs": [
    {
     "data": {
      "text/plain": [
       "2399"
      ]
     },
     "execution_count": 15,
     "metadata": {},
     "output_type": "execute_result"
    }
   ],
   "source": [
    "#number of POLICE_RPT_DATES outside of 1988-1999 timeframe\n",
    "pe.cnt_not_in_range(data_simple, 'POLICE_RPT_DATE', start='19880101', end='19991231')"
   ]
  },
  {
   "cell_type": "markdown",
   "metadata": {},
   "source": [
    "# DOB"
   ]
  },
  {
   "cell_type": "code",
   "execution_count": 16,
   "metadata": {
    "collapsed": false
   },
   "outputs": [
    {
     "data": {
      "text/plain": [
       "2287"
      ]
     },
     "execution_count": 16,
     "metadata": {},
     "output_type": "execute_result"
    }
   ],
   "source": [
    "#number of DOB outside of 1930-1994 timeframe\n",
    "pe.cnt_not_in_range(data_simple, 'DOB', start='19300101', end='19901231')"
   ]
  },
  {
   "cell_type": "code",
   "execution_count": 17,
   "metadata": {
    "collapsed": false
   },
   "outputs": [],
   "source": [
    "#impute value as mode\n",
    "mode = data_simple[data_simple['DOB'].notnull()]['DOB'].mode()[0]\n",
    "data_simple['DOB'].fillna(mode, inplace=True)"
   ]
  },
  {
   "cell_type": "markdown",
   "metadata": {},
   "source": [
    "# SCREENING_DISP_DATE"
   ]
  },
  {
   "cell_type": "code",
   "execution_count": 18,
   "metadata": {
    "collapsed": false
   },
   "outputs": [
    {
     "data": {
      "text/plain": [
       "95"
      ]
     },
     "execution_count": 18,
     "metadata": {},
     "output_type": "execute_result"
    }
   ],
   "source": [
    "#number of dates outside of 1988-1999 timeframe\n",
    "pe.cnt_not_in_range(data_simple, 'SCREENING_DISP_DATE', start='19880101', end='19991231')"
   ]
  },
  {
   "cell_type": "code",
   "execution_count": 19,
   "metadata": {
    "collapsed": false
   },
   "outputs": [
    {
     "name": "stderr",
     "output_type": "stream",
     "text": [
      "C:\\Users\\e057074\\AppData\\Local\\Continuum\\Anaconda3\\lib\\site-packages\\pandas\\core\\ops.py:533: PerformanceWarning: Adding/subtracting array of DateOffsets to Series not vectorized\n",
      "  \"Series not vectorized\", PerformanceWarning)\n"
     ]
    }
   ],
   "source": [
    "numeric['check_scr_date'] = numeric['POLICE_RPT_DATE'] + numeric['SCREENING_DAYS'].apply(pd.offsets.Day)"
   ]
  },
  {
   "cell_type": "code",
   "execution_count": 20,
   "metadata": {
    "collapsed": false
   },
   "outputs": [
    {
     "data": {
      "text/plain": [
       "(227601, 16)"
      ]
     },
     "execution_count": 20,
     "metadata": {},
     "output_type": "execute_result"
    }
   ],
   "source": [
    "numeric[(numeric['POLICE_RPT_DATE'].notnull()) & (numeric['SCREENING_DISP_DATE'].notnull())].shape"
   ]
  },
  {
   "cell_type": "code",
   "execution_count": 21,
   "metadata": {
    "collapsed": false
   },
   "outputs": [
    {
     "data": {
      "text/plain": [
       "SCREENING_DISP_DATE    225073\n",
       "SCREENING_DAYS         225073\n",
       "POLICE_RPT_DATE        225073\n",
       "check_scr_date         225073\n",
       "dtype: int64"
      ]
     },
     "execution_count": 21,
     "metadata": {},
     "output_type": "execute_result"
    }
   ],
   "source": [
    "# Number of observations where SCREENING_DISP_DATE = POLICE_RPT_DATE + SCREENING_DAYS\n",
    "numeric[(numeric['POLICE_RPT_DATE'].notnull())&(numeric['check_scr_date']==numeric['SCREENING_DISP_DATE'])]\\\n",
    "    [['SCREENING_DISP_DATE','SCREENING_DAYS','POLICE_RPT_DATE','check_scr_date']].count()"
   ]
  },
  {
   "cell_type": "code",
   "execution_count": 22,
   "metadata": {
    "collapsed": false
   },
   "outputs": [
    {
     "name": "stderr",
     "output_type": "stream",
     "text": [
      "C:\\Users\\e057074\\AppData\\Local\\Continuum\\Anaconda3\\lib\\site-packages\\pandas\\core\\ops.py:533: PerformanceWarning: Adding/subtracting array of DateOffsets to Series not vectorized\n",
      "  \"Series not vectorized\", PerformanceWarning)\n"
     ]
    }
   ],
   "source": [
    "#impute values for SCREENING_DISP_DATE\n",
    "\n",
    "data_simple['SCREENING_DISP_DATE'] = np.where((data_simple['SCREENING_DISP_DATE'].isnull())&(data_simple['POLICE_RPT_DATE'].notnull()),\\\n",
    "                                         data_simple['POLICE_RPT_DATE'] + data_simple['SCREENING_DAYS'].apply(pd.offsets.Day),\\\n",
    "                                         data_simple['SCREENING_DISP_DATE'])"
   ]
  },
  {
   "cell_type": "code",
   "execution_count": 23,
   "metadata": {
    "collapsed": false
   },
   "outputs": [
    {
     "data": {
      "text/plain": [
       "257942"
      ]
     },
     "execution_count": 23,
     "metadata": {},
     "output_type": "execute_result"
    }
   ],
   "source": [
    "data_simple['SCREENING_DISP_DATE'].count()"
   ]
  },
  {
   "cell_type": "markdown",
   "metadata": {},
   "source": [
    "# BAR_ADMISSION"
   ]
  },
  {
   "cell_type": "code",
   "execution_count": 24,
   "metadata": {
    "collapsed": false
   },
   "outputs": [
    {
     "data": {
      "text/plain": [
       "1546"
      ]
     },
     "execution_count": 24,
     "metadata": {},
     "output_type": "execute_result"
    }
   ],
   "source": [
    "#number of BAR_ADMISSION outside of 1950-1999 timeframe\n",
    "pe.cnt_not_in_range(data_simple, 'BAR_ADMISSION', start='19500101', end='19991231')"
   ]
  },
  {
   "cell_type": "code",
   "execution_count": 25,
   "metadata": {
    "collapsed": true
   },
   "outputs": [],
   "source": [
    "#impute value as mode\n",
    "mode = data_simple[data_simple['BAR_ADMISSION'].notnull()]['BAR_ADMISSION'].mode()[0]\n",
    "data_simple['BAR_ADMISSION'].fillna(mode, inplace=True)"
   ]
  },
  {
   "cell_type": "markdown",
   "metadata": {
    "collapsed": true
   },
   "source": [
    "# Create features from 'DFDN_SEQ_NBR'"
   ]
  },
  {
   "cell_type": "code",
   "execution_count": 26,
   "metadata": {
    "collapsed": false
   },
   "outputs": [],
   "source": [
    "non_date_numeric = ['DFDN_SEQ_NBR', 'SYS_NBR', 'POLICE_RPT_DAYS', 'SCREENING_DAYS']"
   ]
  },
  {
   "cell_type": "code",
   "execution_count": 27,
   "metadata": {
    "collapsed": false
   },
   "outputs": [
    {
     "data": {
      "text/html": [
       "<div>\n",
       "<table border=\"1\" class=\"dataframe\">\n",
       "  <thead>\n",
       "    <tr style=\"text-align: right;\">\n",
       "      <th></th>\n",
       "      <th>DFDN_SEQ_NBR</th>\n",
       "      <th>SYS_NBR</th>\n",
       "      <th>POLICE_RPT_DAYS</th>\n",
       "      <th>SCREENING_DAYS</th>\n",
       "    </tr>\n",
       "  </thead>\n",
       "  <tbody>\n",
       "    <tr>\n",
       "      <th>type</th>\n",
       "      <td>int64</td>\n",
       "      <td>int64</td>\n",
       "      <td>int64</td>\n",
       "      <td>int64</td>\n",
       "    </tr>\n",
       "    <tr>\n",
       "      <th>mean</th>\n",
       "      <td>1.09777</td>\n",
       "      <td>9.41778e+07</td>\n",
       "      <td>32.2581</td>\n",
       "      <td>15.1287</td>\n",
       "    </tr>\n",
       "    <tr>\n",
       "      <th>std</th>\n",
       "      <td>0.483895</td>\n",
       "      <td>3.47024e+06</td>\n",
       "      <td>66.1617</td>\n",
       "      <td>34.3819</td>\n",
       "    </tr>\n",
       "    <tr>\n",
       "      <th>min</th>\n",
       "      <td>1</td>\n",
       "      <td>8.4e+07</td>\n",
       "      <td>0</td>\n",
       "      <td>0</td>\n",
       "    </tr>\n",
       "    <tr>\n",
       "      <th>25%</th>\n",
       "      <td>1</td>\n",
       "      <td>9.11091e+07</td>\n",
       "      <td>3</td>\n",
       "      <td>0</td>\n",
       "    </tr>\n",
       "    <tr>\n",
       "      <th>50%</th>\n",
       "      <td>1</td>\n",
       "      <td>9.41751e+07</td>\n",
       "      <td>13</td>\n",
       "      <td>5</td>\n",
       "    </tr>\n",
       "    <tr>\n",
       "      <th>75%</th>\n",
       "      <td>1</td>\n",
       "      <td>9.7242e+07</td>\n",
       "      <td>34</td>\n",
       "      <td>16</td>\n",
       "    </tr>\n",
       "    <tr>\n",
       "      <th>max</th>\n",
       "      <td>27</td>\n",
       "      <td>9.93092e+07</td>\n",
       "      <td>999</td>\n",
       "      <td>997</td>\n",
       "    </tr>\n",
       "    <tr>\n",
       "      <th>number_distinct</th>\n",
       "      <td>27</td>\n",
       "      <td>261268</td>\n",
       "      <td>898</td>\n",
       "      <td>526</td>\n",
       "    </tr>\n",
       "    <tr>\n",
       "      <th>valid_count</th>\n",
       "      <td>280294</td>\n",
       "      <td>280294</td>\n",
       "      <td>280294</td>\n",
       "      <td>280294</td>\n",
       "    </tr>\n",
       "    <tr>\n",
       "      <th>number_nan</th>\n",
       "      <td>0</td>\n",
       "      <td>0</td>\n",
       "      <td>0</td>\n",
       "      <td>0</td>\n",
       "    </tr>\n",
       "  </tbody>\n",
       "</table>\n",
       "</div>"
      ],
      "text/plain": [
       "                DFDN_SEQ_NBR      SYS_NBR POLICE_RPT_DAYS SCREENING_DAYS\n",
       "type                   int64        int64           int64          int64\n",
       "mean                 1.09777  9.41778e+07         32.2581        15.1287\n",
       "std                 0.483895  3.47024e+06         66.1617        34.3819\n",
       "min                        1      8.4e+07               0              0\n",
       "25%                        1  9.11091e+07               3              0\n",
       "50%                        1  9.41751e+07              13              5\n",
       "75%                        1   9.7242e+07              34             16\n",
       "max                       27  9.93092e+07             999            997\n",
       "number_distinct           27       261268             898            526\n",
       "valid_count           280294       280294          280294         280294\n",
       "number_nan                 0            0               0              0"
      ]
     },
     "execution_count": 27,
     "metadata": {},
     "output_type": "execute_result"
    }
   ],
   "source": [
    "pe.getDfSummary(numeric[non_date_numeric]).transpose()"
   ]
  },
  {
   "cell_type": "code",
   "execution_count": 28,
   "metadata": {
    "collapsed": true
   },
   "outputs": [],
   "source": [
    "#Get total # of defendents for each case\n",
    "data_simple['TOT_NUM_DEF'] = data_simple.groupby('SYS_NBR')['DFDN_SEQ_NBR'].transform('max')\n",
    "\n",
    "#Indicator Variable for whether there were multiple defendents\n",
    "data_simple['MULTIPLE_DEF_FLAG'] = np.where(data_simple['TOT_NUM_DEF'] > 1,1,0)"
   ]
  },
  {
   "cell_type": "markdown",
   "metadata": {},
   "source": [
    "# POLICE_RPT_DAYS"
   ]
  },
  {
   "cell_type": "code",
   "execution_count": 29,
   "metadata": {
    "collapsed": false
   },
   "outputs": [],
   "source": [
    "#Create Bins\n",
    "bins = ['0 Days','1-30 Days','31-60 Days','61-100 Days','101-200 Days','201-365 Days', '> 365 Days']\n",
    "bins_values = []\n",
    "tot_cnt = data_simple['POLICE_RPT_DAYS'].count()\n",
    "\n",
    "bins_values.append(data_simple[data_simple['POLICE_RPT_DAYS']==0].\\\n",
    "    groupby('POLICE_RPT_DAYS')['POLICE_RPT_DAYS'].count().sum()/tot_cnt)\n",
    "bins_values.append(data_simple[(data_simple['POLICE_RPT_DAYS']>=1)&(data_simple['POLICE_RPT_DAYS']<=30)].\\\n",
    "    groupby('POLICE_RPT_DAYS')['POLICE_RPT_DAYS'].count().sum()/tot_cnt)\n",
    "bins_values.append(data_simple[(data_simple['POLICE_RPT_DAYS']>=31)&(data_simple['POLICE_RPT_DAYS']<=60)].\\\n",
    "    groupby('POLICE_RPT_DAYS')['POLICE_RPT_DAYS'].count().sum()/tot_cnt)\n",
    "bins_values.append(data_simple[(data_simple['POLICE_RPT_DAYS']>=61)&(data_simple['POLICE_RPT_DAYS']<=100)].\\\n",
    "    groupby('POLICE_RPT_DAYS')['POLICE_RPT_DAYS'].count().sum()/tot_cnt)\n",
    "bins_values.append(data_simple[(data_simple['POLICE_RPT_DAYS']>=101)&(data_simple['POLICE_RPT_DAYS']<=200)].\\\n",
    "    groupby('POLICE_RPT_DAYS')['POLICE_RPT_DAYS'].count().sum()/tot_cnt)\n",
    "bins_values.append(data_simple[(data_simple['POLICE_RPT_DAYS']>=201)&(data_simple['POLICE_RPT_DAYS']<=365)].\\\n",
    "    groupby('POLICE_RPT_DAYS')['POLICE_RPT_DAYS'].count().sum()/tot_cnt)\n",
    "bins_values.append(data_simple[(data_simple['POLICE_RPT_DAYS']>=366)].\\\n",
    "    groupby('POLICE_RPT_DAYS')['POLICE_RPT_DAYS'].count().sum()/tot_cnt)"
   ]
  },
  {
   "cell_type": "code",
   "execution_count": 30,
   "metadata": {
    "collapsed": false
   },
   "outputs": [
    {
     "data": {
      "text/plain": [
       "<Container object of 7 artists>"
      ]
     },
     "execution_count": 30,
     "metadata": {},
     "output_type": "execute_result"
    },
    {
     "data": {
      "image/png": "[encoded data removed]",
      "text/plain": [
       "<matplotlib.figure.Figure at 0x10230550>"
      ]
     },
     "metadata": {},
     "output_type": "display_data"
    }
   ],
   "source": [
    "plt.figure(figsize=(7,5))\n",
    "plt.xticks(range(len(bins_values)),bins, rotation=-45, ha='left')\n",
    "#plt.set_xticklabels(rotation=45)\n",
    "plt.title('Distribution of POLICE_RPT_DAYS')\n",
    "plt.bar(range(len(bins_values)),bins_values)"
   ]
  },
  {
   "cell_type": "code",
   "execution_count": 50,
   "metadata": {
    "collapsed": false
   },
   "outputs": [
    {
     "data": {
      "text/plain": [
       "2199"
      ]
     },
     "execution_count": 50,
     "metadata": {},
     "output_type": "execute_result"
    }
   ],
   "source": [
    "data_simple[(data_simple['POLICE_RPT_DAYS']>365)].groupby('POLICE_RPT_DAYS')['POLICE_RPT_DAYS'].count().sum()"
   ]
  },
  {
   "cell_type": "markdown",
   "metadata": {},
   "source": [
    "# SCREENING_DAYS"
   ]
  },
  {
   "cell_type": "code",
   "execution_count": 47,
   "metadata": {
    "collapsed": true
   },
   "outputs": [],
   "source": [
    "#Create Bins\n",
    "bins = ['0 Days','1-30 Days','31-60 Days','61-100 Days','101-200 Days','201-365 Days', '> 365 Days']\n",
    "bins_values = []\n",
    "tot_cnt = data_simple['SCREENING_DAYS'].count()\n",
    "\n",
    "bins_values.append(data_simple[data_simple['SCREENING_DAYS']==0].\\\n",
    "    groupby('SCREENING_DAYS')['SCREENING_DAYS'].count().sum()/tot_cnt)\n",
    "bins_values.append(data_simple[(data_simple['SCREENING_DAYS']>=1)&(data_simple['SCREENING_DAYS']<=30)].\\\n",
    "    groupby('SCREENING_DAYS')['SCREENING_DAYS'].count().sum()/tot_cnt)\n",
    "bins_values.append(data_simple[(data_simple['SCREENING_DAYS']>=31)&(data_simple['SCREENING_DAYS']<=60)].\\\n",
    "    groupby('SCREENING_DAYS')['SCREENING_DAYS'].count().sum()/tot_cnt)\n",
    "bins_values.append(data_simple[(data_simple['SCREENING_DAYS']>=61)&(data_simple['SCREENING_DAYS']<=100)].\\\n",
    "    groupby('SCREENING_DAYS')['SCREENING_DAYS'].count().sum()/tot_cnt)\n",
    "bins_values.append(data_simple[(data_simple['SCREENING_DAYS']>=101)&(data_simple['SCREENING_DAYS']<=200)].\\\n",
    "    groupby('SCREENING_DAYS')['SCREENING_DAYS'].count().sum()/tot_cnt)\n",
    "bins_values.append(data_simple[(data_simple['SCREENING_DAYS']>=201)&(data_simple['SCREENING_DAYS']<=365)].\\\n",
    "    groupby('SCREENING_DAYS')['SCREENING_DAYS'].count().sum()/tot_cnt)\n",
    "bins_values.append(data_simple[(data_simple['SCREENING_DAYS']>=366)].\\\n",
    "    groupby('SCREENING_DAYS')['SCREENING_DAYS'].count().sum()/tot_cnt)"
   ]
  },
  {
   "cell_type": "code",
   "execution_count": 48,
   "metadata": {
    "collapsed": false
   },
   "outputs": [
    {
     "data": {
      "text/plain": [
       "<Container object of 7 artists>"
      ]
     },
     "execution_count": 48,
     "metadata": {},
     "output_type": "execute_result"
    },
    {
     "data": {
      "image/png": "[encoded data removed]",
      "text/plain": [
       "<matplotlib.figure.Figure at 0x19a23630>"
      ]
     },
     "metadata": {},
     "output_type": "display_data"
    }
   ],
   "source": [
    "plt.figure(figsize=(7,5))\n",
    "plt.xticks(range(len(bins_values)),bins, rotation=-45, ha='left')\n",
    "#plt.set_xticklabels(rotation=45)\n",
    "plt.title('Distribution of SCREENING_DAYS')\n",
    "plt.bar(range(len(bins_values)),bins_values)"
   ]
  },
  {
   "cell_type": "code",
   "execution_count": 52,
   "metadata": {
    "collapsed": false
   },
   "outputs": [
    {
     "data": {
      "text/plain": [
       "2635"
      ]
     },
     "execution_count": 52,
     "metadata": {},
     "output_type": "execute_result"
    }
   ],
   "source": [
    "data_simple[(data_simple['SCREENING_DAYS']>150)].groupby('SCREENING_DAYS')['SCREENING_DAYS'].count().sum()"
   ]
  },
  {
   "cell_type": "code",
   "execution_count": null,
   "metadata": {
    "collapsed": true
   },
   "outputs": [],
   "source": []
  }
 ],
 "metadata": {
  "anaconda-cloud": {},
  "kernelspec": {
   "display_name": "Python 3",
   "language": "python",
   "name": "python3"
  },
  "language_info": {
   "codemirror_mode": {
    "name": "ipython",
    "version": 3
   },
   "file_extension": ".py",
   "mimetype": "text/x-python",
   "name": "python",
   "nbconvert_exporter": "python",
   "pygments_lexer": "ipython3",
   "version": "3.6.0"
  }
 },
 "nbformat": 4,
 "nbformat_minor": 0
}
