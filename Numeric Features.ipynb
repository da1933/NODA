{
 "cells": [
  {
   "cell_type": "code",
   "execution_count": 17,
   "metadata": {
    "collapsed": false
   },
   "outputs": [],
   "source": [
    "import numpy as np\n",
    "import pandas as pd\n",
    "import matplotlib.pyplot as plt\n",
    "import project_env as pe\n",
    "%matplotlib inline"
   ]
  },
  {
   "cell_type": "code",
   "execution_count": 18,
   "metadata": {
    "collapsed": true
   },
   "outputs": [],
   "source": [
    "data_simple = pd.read_csv('data_simple.csv', encoding = \"ISO-8859-1\", low_memory=False, index_col=0)"
   ]
  },
  {
   "cell_type": "code",
   "execution_count": 19,
   "metadata": {
    "collapsed": false
   },
   "outputs": [],
   "source": [
    "numeric = data_simple._get_numeric_data()"
   ]
  },
  {
   "cell_type": "code",
   "execution_count": 20,
   "metadata": {
    "collapsed": false
   },
   "outputs": [
    {
     "data": {
      "text/plain": [
       "Index(['DFDN_SEQ_NBR', 'SCREENING_DISP_CODE', 'SYS_NBR', 'POLICE_RPT_DATE',\n",
       "       'POLICE_RPT_DAYS', 'SCREENING_DAYS', 'SCREENING_DISP_DATE',\n",
       "       'ARREST_DATE', 'ADD_DATE', 'CHARGE_CLASS', 'SADA_BAR_ADMISSION',\n",
       "       'SADA_DOB', 'DOB'],\n",
       "      dtype='object')"
      ]
     },
     "execution_count": 20,
     "metadata": {},
     "output_type": "execute_result"
    }
   ],
   "source": [
    "numeric.columns"
   ]
  },
  {
   "cell_type": "code",
   "execution_count": 21,
   "metadata": {
    "collapsed": false
   },
   "outputs": [
    {
     "name": "stdout",
     "output_type": "stream",
     "text": [
      "Before converting to date type:\n"
     ]
    },
    {
     "data": {
      "text/html": [
       "<div>\n",
       "<table border=\"1\" class=\"dataframe\">\n",
       "  <thead>\n",
       "    <tr style=\"text-align: right;\">\n",
       "      <th></th>\n",
       "      <th>POLICE_RPT_DATE</th>\n",
       "      <th>ARREST_DATE</th>\n",
       "      <th>ADD_DATE</th>\n",
       "      <th>SADA_DOB</th>\n",
       "      <th>DOB</th>\n",
       "    </tr>\n",
       "  </thead>\n",
       "  <tbody>\n",
       "    <tr>\n",
       "      <th>type</th>\n",
       "      <td>int64</td>\n",
       "      <td>float64</td>\n",
       "      <td>float64</td>\n",
       "      <td>float64</td>\n",
       "      <td>int64</td>\n",
       "    </tr>\n",
       "    <tr>\n",
       "      <th>mean</th>\n",
       "      <td>1.7128e+07</td>\n",
       "      <td>1.95567e+07</td>\n",
       "      <td>1.99148e+07</td>\n",
       "      <td>1.96058e+07</td>\n",
       "      <td>1.93428e+07</td>\n",
       "    </tr>\n",
       "    <tr>\n",
       "      <th>std</th>\n",
       "      <td>6.94695e+06</td>\n",
       "      <td>2.74808e+06</td>\n",
       "      <td>763204</td>\n",
       "      <td>81828.7</td>\n",
       "      <td>2.58012e+06</td>\n",
       "    </tr>\n",
       "    <tr>\n",
       "      <th>min</th>\n",
       "      <td>0</td>\n",
       "      <td>0</td>\n",
       "      <td>0</td>\n",
       "      <td>1.90105e+07</td>\n",
       "      <td>0</td>\n",
       "    </tr>\n",
       "    <tr>\n",
       "      <th>25%</th>\n",
       "      <td>1.99008e+07</td>\n",
       "      <td>1.99108e+07</td>\n",
       "      <td>1.99111e+07</td>\n",
       "      <td>1.96e+07</td>\n",
       "      <td>1.96101e+07</td>\n",
       "    </tr>\n",
       "    <tr>\n",
       "      <th>50%</th>\n",
       "      <td>1.99405e+07</td>\n",
       "      <td>1.9941e+07</td>\n",
       "      <td>1.99501e+07</td>\n",
       "      <td>1.963e+07</td>\n",
       "      <td>1.9701e+07</td>\n",
       "    </tr>\n",
       "    <tr>\n",
       "      <th>75%</th>\n",
       "      <td>1.99706e+07</td>\n",
       "      <td>1.99707e+07</td>\n",
       "      <td>1.9971e+07</td>\n",
       "      <td>1.966e+07</td>\n",
       "      <td>1.97708e+07</td>\n",
       "    </tr>\n",
       "    <tr>\n",
       "      <th>max</th>\n",
       "      <td>1.99911e+07</td>\n",
       "      <td>1.99911e+07</td>\n",
       "      <td>1.99911e+07</td>\n",
       "      <td>1.974e+07</td>\n",
       "      <td>1.99909e+07</td>\n",
       "    </tr>\n",
       "    <tr>\n",
       "      <th>number_distinct</th>\n",
       "      <td>3770</td>\n",
       "      <td>4259</td>\n",
       "      <td>3306</td>\n",
       "      <td>64</td>\n",
       "      <td>19779</td>\n",
       "    </tr>\n",
       "    <tr>\n",
       "      <th>valid_count</th>\n",
       "      <td>280294</td>\n",
       "      <td>150979</td>\n",
       "      <td>150979</td>\n",
       "      <td>243862</td>\n",
       "      <td>280294</td>\n",
       "    </tr>\n",
       "    <tr>\n",
       "      <th>number_nan</th>\n",
       "      <td>0</td>\n",
       "      <td>129315</td>\n",
       "      <td>129315</td>\n",
       "      <td>36432</td>\n",
       "      <td>0</td>\n",
       "    </tr>\n",
       "  </tbody>\n",
       "</table>\n",
       "</div>"
      ],
      "text/plain": [
       "                POLICE_RPT_DATE  ARREST_DATE     ADD_DATE     SADA_DOB  \\\n",
       "type                      int64      float64      float64      float64   \n",
       "mean                 1.7128e+07  1.95567e+07  1.99148e+07  1.96058e+07   \n",
       "std                 6.94695e+06  2.74808e+06       763204      81828.7   \n",
       "min                           0            0            0  1.90105e+07   \n",
       "25%                 1.99008e+07  1.99108e+07  1.99111e+07     1.96e+07   \n",
       "50%                 1.99405e+07   1.9941e+07  1.99501e+07    1.963e+07   \n",
       "75%                 1.99706e+07  1.99707e+07   1.9971e+07    1.966e+07   \n",
       "max                 1.99911e+07  1.99911e+07  1.99911e+07    1.974e+07   \n",
       "number_distinct            3770         4259         3306           64   \n",
       "valid_count              280294       150979       150979       243862   \n",
       "number_nan                    0       129315       129315        36432   \n",
       "\n",
       "                         DOB  \n",
       "type                   int64  \n",
       "mean             1.93428e+07  \n",
       "std              2.58012e+06  \n",
       "min                        0  \n",
       "25%              1.96101e+07  \n",
       "50%               1.9701e+07  \n",
       "75%              1.97708e+07  \n",
       "max              1.99909e+07  \n",
       "number_distinct        19779  \n",
       "valid_count           280294  \n",
       "number_nan                 0  "
      ]
     },
     "execution_count": 21,
     "metadata": {},
     "output_type": "execute_result"
    }
   ],
   "source": [
    "date_features = ['POLICE_RPT_DATE','ARREST_DATE','ADD_DATE','SADA_DOB','DOB']\n",
    "print('Before converting to date type:')\n",
    "pe.getDfSummary(numeric[date_features]).transpose()"
   ]
  },
  {
   "cell_type": "code",
   "execution_count": 22,
   "metadata": {
    "collapsed": false
   },
   "outputs": [],
   "source": [
    "#convert dates to python dates\n",
    "date_features = ['POLICE_RPT_DATE','ARREST_DATE','ADD_DATE','SADA_DOB','DOB','SCREENING_DISP_DATE','SADA_BAR_ADMISSION']\n",
    "\n",
    "for feature in date_features:\n",
    "    numeric[feature] = pe.to_date(numeric[feature])"
   ]
  },
  {
   "cell_type": "code",
   "execution_count": 27,
   "metadata": {
    "collapsed": false
   },
   "outputs": [
    {
     "name": "stdout",
     "output_type": "stream",
     "text": [
      "After converting to date type:\n"
     ]
    },
    {
     "name": "stderr",
     "output_type": "stream",
     "text": [
      "/Users/Lisa/anaconda3/lib/python3.5/site-packages/pandas/core/groupby.py:2937: FutureWarning: In the future, NAT != NAT will be True rather than False.\n",
      "  inc = np.r_[1, val[1:] != val[:-1]]\n"
     ]
    },
    {
     "data": {
      "text/html": [
       "<div>\n",
       "<table border=\"1\" class=\"dataframe\">\n",
       "  <thead>\n",
       "    <tr style=\"text-align: right;\">\n",
       "      <th></th>\n",
       "      <th>type</th>\n",
       "      <th>unique</th>\n",
       "      <th>top</th>\n",
       "      <th>freq</th>\n",
       "      <th>first</th>\n",
       "      <th>last</th>\n",
       "      <th>valid_count</th>\n",
       "      <th>number_nan</th>\n",
       "    </tr>\n",
       "  </thead>\n",
       "  <tbody>\n",
       "    <tr>\n",
       "      <th>POLICE_RPT_DATE</th>\n",
       "      <td>datetime64[ns]</td>\n",
       "      <td>3768</td>\n",
       "      <td>1996-02-23 00:00:00</td>\n",
       "      <td>395</td>\n",
       "      <td>1967-03-14 00:00:00</td>\n",
       "      <td>1999-11-16 00:00:00</td>\n",
       "      <td>240698</td>\n",
       "      <td>39596</td>\n",
       "    </tr>\n",
       "    <tr>\n",
       "      <th>ARREST_DATE</th>\n",
       "      <td>datetime64[ns]</td>\n",
       "      <td>4258</td>\n",
       "      <td>1996-02-08 00:00:00</td>\n",
       "      <td>386</td>\n",
       "      <td>1901-07-15 00:00:00</td>\n",
       "      <td>1999-11-15 00:00:00</td>\n",
       "      <td>148056</td>\n",
       "      <td>132238</td>\n",
       "    </tr>\n",
       "    <tr>\n",
       "      <th>ADD_DATE</th>\n",
       "      <td>datetime64[ns]</td>\n",
       "      <td>3305</td>\n",
       "      <td>1994-07-21 00:00:00</td>\n",
       "      <td>279</td>\n",
       "      <td>1901-07-15 00:00:00</td>\n",
       "      <td>1999-11-16 00:00:00</td>\n",
       "      <td>150758</td>\n",
       "      <td>129536</td>\n",
       "    </tr>\n",
       "    <tr>\n",
       "      <th>SADA_DOB</th>\n",
       "      <td>datetime64[ns]</td>\n",
       "      <td>13</td>\n",
       "      <td>1964-04-24 00:00:00</td>\n",
       "      <td>6182</td>\n",
       "      <td>1901-05-01 00:00:00</td>\n",
       "      <td>1971-09-16 00:00:00</td>\n",
       "      <td>18340</td>\n",
       "      <td>261954</td>\n",
       "    </tr>\n",
       "    <tr>\n",
       "      <th>DOB</th>\n",
       "      <td>datetime64[ns]</td>\n",
       "      <td>19761</td>\n",
       "      <td>1977-01-28 00:00:00</td>\n",
       "      <td>194</td>\n",
       "      <td>1900-01-10 00:00:00</td>\n",
       "      <td>1999-09-01 00:00:00</td>\n",
       "      <td>275354</td>\n",
       "      <td>4940</td>\n",
       "    </tr>\n",
       "    <tr>\n",
       "      <th>SCREENING_DISP_DATE</th>\n",
       "      <td>datetime64[ns]</td>\n",
       "      <td>3968</td>\n",
       "      <td>1998-02-02 00:00:00</td>\n",
       "      <td>338</td>\n",
       "      <td>1968-07-29 00:00:00</td>\n",
       "      <td>1999-11-16 00:00:00</td>\n",
       "      <td>244845</td>\n",
       "      <td>35449</td>\n",
       "    </tr>\n",
       "    <tr>\n",
       "      <th>SADA_BAR_ADMISSION</th>\n",
       "      <td>datetime64[ns]</td>\n",
       "      <td>83</td>\n",
       "      <td>1991-10-11 00:00:00</td>\n",
       "      <td>29567</td>\n",
       "      <td>1905-06-14 00:00:00</td>\n",
       "      <td>1999-04-23 00:00:00</td>\n",
       "      <td>236998</td>\n",
       "      <td>43296</td>\n",
       "    </tr>\n",
       "  </tbody>\n",
       "</table>\n",
       "</div>"
      ],
      "text/plain": [
       "                               type unique                  top   freq  \\\n",
       "POLICE_RPT_DATE      datetime64[ns]   3768  1996-02-23 00:00:00    395   \n",
       "ARREST_DATE          datetime64[ns]   4258  1996-02-08 00:00:00    386   \n",
       "ADD_DATE             datetime64[ns]   3305  1994-07-21 00:00:00    279   \n",
       "SADA_DOB             datetime64[ns]     13  1964-04-24 00:00:00   6182   \n",
       "DOB                  datetime64[ns]  19761  1977-01-28 00:00:00    194   \n",
       "SCREENING_DISP_DATE  datetime64[ns]   3968  1998-02-02 00:00:00    338   \n",
       "SADA_BAR_ADMISSION   datetime64[ns]     83  1991-10-11 00:00:00  29567   \n",
       "\n",
       "                                   first                 last valid_count  \\\n",
       "POLICE_RPT_DATE      1967-03-14 00:00:00  1999-11-16 00:00:00      240698   \n",
       "ARREST_DATE          1901-07-15 00:00:00  1999-11-15 00:00:00      148056   \n",
       "ADD_DATE             1901-07-15 00:00:00  1999-11-16 00:00:00      150758   \n",
       "SADA_DOB             1901-05-01 00:00:00  1971-09-16 00:00:00       18340   \n",
       "DOB                  1900-01-10 00:00:00  1999-09-01 00:00:00      275354   \n",
       "SCREENING_DISP_DATE  1968-07-29 00:00:00  1999-11-16 00:00:00      244845   \n",
       "SADA_BAR_ADMISSION   1905-06-14 00:00:00  1999-04-23 00:00:00      236998   \n",
       "\n",
       "                    number_nan  \n",
       "POLICE_RPT_DATE          39596  \n",
       "ARREST_DATE             132238  \n",
       "ADD_DATE                129536  \n",
       "SADA_DOB                261954  \n",
       "DOB                       4940  \n",
       "SCREENING_DISP_DATE      35449  \n",
       "SADA_BAR_ADMISSION       43296  "
      ]
     },
     "execution_count": 27,
     "metadata": {},
     "output_type": "execute_result"
    }
   ],
   "source": [
    "\n",
    "print('After converting to date type:')\n",
    "pe.getDfSummary(numeric[date_features]).transpose().drop('number_distinct').transpose()"
   ]
  },
  {
   "cell_type": "code",
   "execution_count": 30,
   "metadata": {
    "collapsed": false
   },
   "outputs": [],
   "source": [
    "non_date_numeric = ['DFDN_SEQ_NBR', 'SYS_NBR', 'POLICE_RPT_DAYS', 'SCREENING_DAYS']"
   ]
  },
  {
   "cell_type": "code",
   "execution_count": 31,
   "metadata": {
    "collapsed": false
   },
   "outputs": [
    {
     "data": {
      "text/html": [
       "<div>\n",
       "<table border=\"1\" class=\"dataframe\">\n",
       "  <thead>\n",
       "    <tr style=\"text-align: right;\">\n",
       "      <th></th>\n",
       "      <th>DFDN_SEQ_NBR</th>\n",
       "      <th>SYS_NBR</th>\n",
       "      <th>POLICE_RPT_DAYS</th>\n",
       "      <th>SCREENING_DAYS</th>\n",
       "    </tr>\n",
       "  </thead>\n",
       "  <tbody>\n",
       "    <tr>\n",
       "      <th>type</th>\n",
       "      <td>int64</td>\n",
       "      <td>int64</td>\n",
       "      <td>int64</td>\n",
       "      <td>int64</td>\n",
       "    </tr>\n",
       "    <tr>\n",
       "      <th>mean</th>\n",
       "      <td>1.09777</td>\n",
       "      <td>9.41778e+07</td>\n",
       "      <td>32.2581</td>\n",
       "      <td>15.1287</td>\n",
       "    </tr>\n",
       "    <tr>\n",
       "      <th>std</th>\n",
       "      <td>0.483895</td>\n",
       "      <td>3.47024e+06</td>\n",
       "      <td>66.1617</td>\n",
       "      <td>34.3819</td>\n",
       "    </tr>\n",
       "    <tr>\n",
       "      <th>min</th>\n",
       "      <td>1</td>\n",
       "      <td>8.4e+07</td>\n",
       "      <td>0</td>\n",
       "      <td>0</td>\n",
       "    </tr>\n",
       "    <tr>\n",
       "      <th>25%</th>\n",
       "      <td>1</td>\n",
       "      <td>9.11091e+07</td>\n",
       "      <td>3</td>\n",
       "      <td>0</td>\n",
       "    </tr>\n",
       "    <tr>\n",
       "      <th>50%</th>\n",
       "      <td>1</td>\n",
       "      <td>9.41751e+07</td>\n",
       "      <td>13</td>\n",
       "      <td>5</td>\n",
       "    </tr>\n",
       "    <tr>\n",
       "      <th>75%</th>\n",
       "      <td>1</td>\n",
       "      <td>9.7242e+07</td>\n",
       "      <td>34</td>\n",
       "      <td>16</td>\n",
       "    </tr>\n",
       "    <tr>\n",
       "      <th>max</th>\n",
       "      <td>27</td>\n",
       "      <td>9.93092e+07</td>\n",
       "      <td>999</td>\n",
       "      <td>997</td>\n",
       "    </tr>\n",
       "    <tr>\n",
       "      <th>number_distinct</th>\n",
       "      <td>27</td>\n",
       "      <td>261268</td>\n",
       "      <td>898</td>\n",
       "      <td>526</td>\n",
       "    </tr>\n",
       "    <tr>\n",
       "      <th>valid_count</th>\n",
       "      <td>280294</td>\n",
       "      <td>280294</td>\n",
       "      <td>280294</td>\n",
       "      <td>280294</td>\n",
       "    </tr>\n",
       "    <tr>\n",
       "      <th>number_nan</th>\n",
       "      <td>0</td>\n",
       "      <td>0</td>\n",
       "      <td>0</td>\n",
       "      <td>0</td>\n",
       "    </tr>\n",
       "  </tbody>\n",
       "</table>\n",
       "</div>"
      ],
      "text/plain": [
       "                DFDN_SEQ_NBR      SYS_NBR POLICE_RPT_DAYS SCREENING_DAYS\n",
       "type                   int64        int64           int64          int64\n",
       "mean                 1.09777  9.41778e+07         32.2581        15.1287\n",
       "std                 0.483895  3.47024e+06         66.1617        34.3819\n",
       "min                        1      8.4e+07               0              0\n",
       "25%                        1  9.11091e+07               3              0\n",
       "50%                        1  9.41751e+07              13              5\n",
       "75%                        1   9.7242e+07              34             16\n",
       "max                       27  9.93092e+07             999            997\n",
       "number_distinct           27       261268             898            526\n",
       "valid_count           280294       280294          280294         280294\n",
       "number_nan                 0            0               0              0"
      ]
     },
     "execution_count": 31,
     "metadata": {},
     "output_type": "execute_result"
    }
   ],
   "source": [
    "pe.getDfSummary(numeric[non_date_numeric]).transpose()"
   ]
  },
  {
   "cell_type": "code",
   "execution_count": null,
   "metadata": {
    "collapsed": true
   },
   "outputs": [],
   "source": []
  }
 ],
 "metadata": {
  "anaconda-cloud": {},
  "kernelspec": {
   "display_name": "Python [Root]",
   "language": "python",
   "name": "Python [Root]"
  },
  "language_info": {
   "codemirror_mode": {
    "name": "ipython",
    "version": 3
   },
   "file_extension": ".py",
   "mimetype": "text/x-python",
   "name": "python",
   "nbconvert_exporter": "python",
   "pygments_lexer": "ipython3",
   "version": "3.5.2"
  }
 },
 "nbformat": 4,
 "nbformat_minor": 0
}
