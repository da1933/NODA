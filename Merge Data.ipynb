{
 "cells": [
  {
   "cell_type": "code",
   "execution_count": 131,
   "metadata": {
    "collapsed": true
   },
   "outputs": [],
   "source": [
    "import numpy as np\n",
    "import pandas as pd"
   ]
  },
  {
   "cell_type": "code",
   "execution_count": 132,
   "metadata": {
    "collapsed": false
   },
   "outputs": [],
   "source": [
    "#***********************************************************\n",
    "#* first step to drop the 21 duplicates that are problematic in the merge (last merge before \n",
    "#* saving \"data_simple\"\n",
    "#***********************************************************"
   ]
  },
  {
   "cell_type": "code",
   "execution_count": 133,
   "metadata": {
    "collapsed": false
   },
   "outputs": [
    {
     "name": "stdout",
     "output_type": "stream",
     "text": [
      "20 rows deleted\n"
     ]
    }
   ],
   "source": [
    "dfdn_cln = pd.read_table(\"csv/Dfdn-cln.csv\", sep = '^', dtype='object', index_col=False)\n",
    "dfdn_cln=dfdn_cln.sort_values(['BOFI_NBR','ADDR_1'])\n",
    "dfdn_nodup=dfdn_cln.drop_duplicates('BOFI_NBR')\n",
    "print('%s rows deleted' %(dfdn_cln.shape[0]-dfdn_nodup.shape[0]))\n",
    "#NOTE: ONLY 20 OBS DROPPED VS 21 IN STATA FILE"
   ]
  },
  {
   "cell_type": "code",
   "execution_count": 134,
   "metadata": {
    "collapsed": false
   },
   "outputs": [
    {
     "data": {
      "text/plain": [
       "'\\nNote: IDs\\n- bofi_nbr: defendant id\\n- sys_nbr: case id , it is the same for multiple offenders crime and for different charges\\n- case_nbr: it is essentially similar to sys_nbr except in 17 cases (8 times because case_nbr is missing)\\n- chrg_seq_nbr: suppose to identify the charges. Frequently there is only the nb 2 or 3 for eg. Probably because the others are dismissed...\\n- dfdt_seq_nbr: identify the defendant among a case with several defendant.\\n\\n- disp_seq_nbr: ? (1 all the time?)\\n- phonic_key: ?\\n'"
      ]
     },
     "execution_count": 134,
     "metadata": {},
     "output_type": "execute_result"
    }
   ],
   "source": [
    "#*********************************************************\n",
    "#* bring sentences in, add plea barganing (?):\n",
    "#*********************************************************\n",
    "#merge dsum-cln with sent-cln on bofi_nbr dfdn_seq_nbr sys_nbr\n",
    "#delete if not in dsum-cln but in sent-cln\n",
    "'''\n",
    "Note: IDs\n",
    "- bofi_nbr: defendant id\n",
    "- sys_nbr: case id , it is the same for multiple offenders crime and for different charges\n",
    "- case_nbr: it is essentially similar to sys_nbr except in 17 cases (8 times because case_nbr is missing)\n",
    "- chrg_seq_nbr: suppose to identify the charges. Frequently there is only the nb 2 or 3 for eg. Probably because the others are dismissed...\n",
    "- dfdt_seq_nbr: identify the defendant among a case with several defendant.\n",
    "\n",
    "- disp_seq_nbr: ? (1 all the time?)\n",
    "- phonic_key: ?\n",
    "'''"
   ]
  },
  {
   "cell_type": "code",
   "execution_count": 135,
   "metadata": {
    "collapsed": false
   },
   "outputs": [
    {
     "name": "stdout",
     "output_type": "stream",
     "text": [
      "312608 rows\n"
     ]
    }
   ],
   "source": [
    "dsum_cln = pd.read_table(\"csv/Dsum-cln.csv\", sep = '^', dtype='object', index_col=False)\n",
    "sent_cln = pd.read_table(\"csv/Sent-cln.csv\", sep = '^', dtype='object', index_col=False)\n",
    "data_merged = pd.merge(dsum_cln, sent_cln, \\\n",
    "                  on=['BOFI_NBR','DFDN_SEQ_NBR','SYS_NBR'], \\\n",
    "                  how='left')  \n",
    "print('%s rows' %(data_merged.shape[0]))"
   ]
  },
  {
   "cell_type": "code",
   "execution_count": 136,
   "metadata": {
    "collapsed": false
   },
   "outputs": [
    {
     "data": {
      "text/plain": [
       "'\\nlabel var charge_type \"AR=at arrest, IF=by information, IN-by indictment\"\\nlabel var charge_cat \\nlabel var charge_class \"severity of the charge from 1 sever to 8 lenient\"\\n'"
      ]
     },
     "execution_count": 136,
     "metadata": {},
     "output_type": "execute_result"
    }
   ],
   "source": [
    "#*********************************************************\n",
    "#* bring arrest date and crime category\n",
    "#*********************************************************\n",
    "#merge in [arrest_date charge_type charge_cat charge_class] from areg-cln\n",
    "#delete if not in data_merged but in areg-cln\n",
    "'''\n",
    "label var charge_type \"AR=at arrest, IF=by information, IN-by indictment\"\n",
    "label var charge_cat \n",
    "label var charge_class \"severity of the charge from 1 sever to 8 lenient\"\n",
    "'''"
   ]
  },
  {
   "cell_type": "code",
   "execution_count": 137,
   "metadata": {
    "collapsed": false
   },
   "outputs": [],
   "source": [
    "areg_clean = pd.read_table(\"csv/Areg-cln.csv\", sep = '^', dtype='object', index_col=False)"
   ]
  },
  {
   "cell_type": "code",
   "execution_count": 138,
   "metadata": {
    "collapsed": false
   },
   "outputs": [
    {
     "name": "stdout",
     "output_type": "stream",
     "text": [
      "312608 rows\n"
     ]
    }
   ],
   "source": [
    "data_merged = pd.merge(data_merged, \\\n",
    "                 areg_clean.ix[:,['ARREST_DATE','CHARGE_TYPE','CHARGE_CAT','CHARGE_CLASS',\\\n",
    "                                 'BOFI_NBR','DFDN_SEQ_NBR','SYS_NBR']],\\\n",
    "                 on=['BOFI_NBR','DFDN_SEQ_NBR','SYS_NBR'], \\\n",
    "                 how='left')\n",
    "print('%s rows' %(data_merged.shape[0]))"
   ]
  },
  {
   "cell_type": "code",
   "execution_count": 139,
   "metadata": {
    "collapsed": false
   },
   "outputs": [
    {
     "data": {
      "text/plain": [
       "'CANNOT FIND THIS DATASET'"
      ]
     },
     "execution_count": 139,
     "metadata": {},
     "output_type": "execute_result"
    }
   ],
   "source": [
    "#*********************************************************\n",
    "#* bring judges characteristics\n",
    "#*********************************************************\n",
    "#merge on [bofi_nbr dfdn_seq_nbr disp_seq_nbr sent_seq_nbr sys_nbr chrg_seq_nbr ]\n",
    "#keep all rows\n",
    "\n",
    "'''CANNOT FIND THIS DATASET'''"
   ]
  },
  {
   "cell_type": "code",
   "execution_count": 140,
   "metadata": {
    "collapsed": true
   },
   "outputs": [],
   "source": [
    "#*********************************************************\n",
    "#* bring SCREANER ada characteristics\n",
    "#*********************************************************\n",
    "#merge in ada_cln on ada_code\n",
    "#delete if not in data_merged"
   ]
  },
  {
   "cell_type": "code",
   "execution_count": 141,
   "metadata": {
    "collapsed": false
   },
   "outputs": [
    {
     "name": "stdout",
     "output_type": "stream",
     "text": [
      "312608 rows\n"
     ]
    }
   ],
   "source": [
    "ada_cln = pd.read_table(\"csv/Ada-cln.csv\", sep = '^', \\\n",
    "                           dtype='object', index_col=False)\n",
    "data_merged = pd.merge(data_merged, \\\n",
    "                 ada_cln,\\\n",
    "                 on='ADA_CODE', \\\n",
    "                 how='left')\n",
    "print('%s rows' %(data_merged.shape[0]))"
   ]
  },
  {
   "cell_type": "code",
   "execution_count": 142,
   "metadata": {
    "collapsed": false
   },
   "outputs": [],
   "source": [
    "#change the name of the variable on ada to clarify that they are info on screaner ada\n",
    "old_names = ['ADA_CODE', 'ADA_NAME', 'BAR_ADMISSION', 'DOB', 'RACE', 'SEX', 'PARTY', \\\n",
    "             'ALT_PARTY', 'LAW_SCHOOL', 'UNDERGRAD', 'UNVERIFIED_FLAG', 'INACTIVITY_DATE', \\\n",
    "             'DECEASED_FLAG', 'DISCIPLINARY_ACTION_FLAG', 'INEL_DUES_OR_RULES_FLAG', \\\n",
    "             'ADA_NOTES','TRIAL_ADA_CODE']\n",
    "\n",
    "new_names = ['SADA_CODE', 'SADA_NAME', 'SADA_BAR_ADMISSION', 'SADA_DOB', 'SADA_RACE', \\\n",
    "             'SADA_SEX', 'SADA_PARTY', 'SADA_ALT_PARTY', 'SADA_LAW_SCHOOL', 'SADA_UNDERGRAD', \\\n",
    "             'SADA_UNVERIFIED_FLAG', 'SADA_INACTIVITY_DATE', 'SADA_DECEASED_FLAG', \\\n",
    "             'SADA_DISCIPLINARY_ACTION_FLAG', 'SADA_INEL_DUES_OR_RULES_FLAG', 'SADA_NOTES',\\\n",
    "             'ADA_CODE']\n",
    "\n",
    "name_dict={}\n",
    "\n",
    "for i in range(0,len(old_names)):\n",
    "    name_dict[old_names[i]]=new_names[i]\n",
    "\n",
    "data_merged = data_merged.rename(columns=name_dict)"
   ]
  },
  {
   "cell_type": "code",
   "execution_count": 143,
   "metadata": {
    "collapsed": false
   },
   "outputs": [
    {
     "data": {
      "text/plain": [
       "'TRIAL_ADA_CODE was renamed to ADA_CODE.  We are now merging on TRIAL_ADA_CODE'"
      ]
     },
     "execution_count": 143,
     "metadata": {},
     "output_type": "execute_result"
    }
   ],
   "source": [
    "#*********************************************************\n",
    "#* bring TRIAL ada characteristics\n",
    "#*********************************************************\n",
    "#merge in ada_cln on ada_code\n",
    "#delete if not in data_merged\n",
    "\n",
    "'''TRIAL_ADA_CODE was renamed to ADA_CODE.  We are now merging on TRIAL_ADA_CODE'''"
   ]
  },
  {
   "cell_type": "code",
   "execution_count": 144,
   "metadata": {
    "collapsed": false
   },
   "outputs": [
    {
     "name": "stdout",
     "output_type": "stream",
     "text": [
      "312608 rows\n"
     ]
    }
   ],
   "source": [
    "ada_cln = pd.read_table(\"csv/Ada-cln.csv\", sep = '^', \\\n",
    "                           dtype='object', index_col=False)\n",
    "data_merged = pd.merge(data_merged, \\\n",
    "                 ada_cln,\\\n",
    "                 on='ADA_CODE', \\\n",
    "                 how='left')\n",
    "\n",
    "print('%s rows' %(data_merged.shape[0]))\n",
    "\n",
    "old_names = ['ADA_CODE', 'ADA_NAME', 'BAR_ADMISSION', 'DOB', 'RACE', 'SEX', 'PARTY', \\\n",
    "             'ALT_PARTY', 'LAW_SCHOOL', 'UNDERGRAD', 'UNVERIFIED_FLAG', 'INACTIVITY_DATE', \\\n",
    "             'DECEASED_FLAG', 'DISCIPLINARY_ACTION_FLAG', 'INEL_DUES_OR_RULES_FLAG', \\\n",
    "             'ADA_NOTES']\n",
    "\n",
    "new_names = ['TADA_CODE', 'TADA_NAME', 'TADA_BAR_ADMISSION', 'TADA_DOB', 'TADA_RACE', \\\n",
    "             'TADA_SEX', 'TADA_PARTY', 'TADA_ALT_PARTY', 'TADA_LAW_SCHOOL', 'TADA_UNDERGRAD', \\\n",
    "             'TADA_UNVERIFIED_FLAG', 'TADA_INACTIVITY_DATE', 'TADA_DECEASED_FLAG', \\\n",
    "             'TADA_DISCIPLINARY_ACTION_FLAG', 'TADA_INEL_DUES_OR_RULES_FLAG', 'TADA_NOTES']\n",
    "\n",
    "name_dict={}\n",
    "\n",
    "for i in range(0,len(old_names)):\n",
    "    name_dict[old_names[i]]=new_names[i]\n",
    "\n",
    "data_merged = data_merged.rename(columns=name_dict)"
   ]
  },
  {
   "cell_type": "code",
   "execution_count": 145,
   "metadata": {
    "collapsed": false
   },
   "outputs": [
    {
     "data": {
      "text/plain": [
       "'DELETED VARIABLES IN STATA CODE ARE NOT IN DATA_MERGED TABLE, COULD BE FROM \\n   JUDGE CHARACTERISTICS TABLE?'"
      ]
     },
     "execution_count": 145,
     "metadata": {},
     "output_type": "execute_result"
    }
   ],
   "source": [
    "#*********************************************************\n",
    "#* bring information on defendant\n",
    "#*********************************************************\n",
    "#merge in dfdn_nodup on bofi_nbr\n",
    "#Inner join\n",
    "\n",
    "'''DELETED VARIABLES IN STATA CODE ARE NOT IN DATA_MERGED TABLE, COULD BE FROM \n",
    "   JUDGE CHARACTERISTICS TABLE?'''"
   ]
  },
  {
   "cell_type": "code",
   "execution_count": 146,
   "metadata": {
    "collapsed": false
   },
   "outputs": [
    {
     "name": "stdout",
     "output_type": "stream",
     "text": [
      "312608 rows\n"
     ]
    }
   ],
   "source": [
    "#data_merged = data_merged.drop(['DFDN_NAME', 'ADDR_1', 'ADDR_2', 'CITY', 'STATE', 'ZIP', \\\n",
    "#                                'CUSTODY_CODE', 'HOME_PHONE_NBR', 'BUSINESS_PHONE_NBR', \\\n",
    "#                                'DFDN_SSN', 'RESTRICTED_FLAG', 'JUVENILE_FLAG', \\\n",
    "#                                'CRIMINAL_FLAG', 'ALIAS_FLAG', 'DR_LIC_NBR', 'DR_LIC_STATE', \\\n",
    "#                                'DOB', 'DOB_PLACE', 'DFDN_HEIGHT_FEET', 'DFDN_HEIGHT_INCHES', \\\n",
    "#                                'DFDN_WEIGHT', 'DFDN_SEX', 'DFDN_RACE', 'DFDN_SKIN_COLOR', \\\n",
    "#                                'DFDN_EYE_COLOR', 'DFDN_HAIR_COLOR', 'FINGERPRINT_CLASS', \\\n",
    "#                                'DFDN_SMT', 'ADD_DATE', 'ADD_TIME', 'ADD_USER', 'CHANGE_DATE', \\\n",
    "#                                'CHANGE_TIME', 'CHANGE_USER', 'PHONIC_KEY', 'FBI_NBR', \\\n",
    "#                                'CCN_NBR', 'DFDN_DOB'], axis=1)\n",
    "data_simple = pd.merge(data_merged, \\\n",
    "                 dfdn_nodup,\\\n",
    "                 on='BOFI_NBR', \\\n",
    "                 how='inner')\n",
    "print('%s rows' %(data_simple.shape[0]))\n"
   ]
  },
  {
   "cell_type": "code",
   "execution_count": 147,
   "metadata": {
    "collapsed": false
   },
   "outputs": [],
   "source": [
    "data_simple.to_csv('data_simple.csv')"
   ]
  },
  {
   "cell_type": "code",
   "execution_count": null,
   "metadata": {
    "collapsed": true
   },
   "outputs": [],
   "source": []
  }
 ],
 "metadata": {
  "anaconda-cloud": {},
  "kernelspec": {
   "display_name": "Python [Root]",
   "language": "python",
   "name": "Python [Root]"
  },
  "language_info": {
   "codemirror_mode": {
    "name": "ipython",
    "version": 3
   },
   "file_extension": ".py",
   "mimetype": "text/x-python",
   "name": "python",
   "nbconvert_exporter": "python",
   "pygments_lexer": "ipython3",
   "version": "3.5.2"
  }
 },
 "nbformat": 4,
 "nbformat_minor": 0
}
