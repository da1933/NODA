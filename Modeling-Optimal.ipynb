{
 "cells": [
  {
   "cell_type": "code",
   "execution_count": 1,
   "metadata": {
    "collapsed": true
   },
   "outputs": [],
   "source": [
    "import numpy as np\n",
    "import pandas as pd\n",
    "import matplotlib.pyplot as plt\n",
    "import project_env as pe\n",
    "import sklearn as sklearn\n",
    "from sklearn.ensemble import GradientBoostingClassifier, RandomForestClassifier\n",
    "from sklearn.model_selection import cross_val_score\n",
    "%matplotlib inline"
   ]
  },
  {
   "cell_type": "code",
   "execution_count": 64,
   "metadata": {
    "collapsed": false
   },
   "outputs": [],
   "source": [
    "train = pd.read_csv('train.csv')\n",
    "val = pd.read_csv('val.csv')"
   ]
  },
  {
   "cell_type": "markdown",
   "metadata": {},
   "source": [
    "# Target Variable"
   ]
  },
  {
   "cell_type": "code",
   "execution_count": 65,
   "metadata": {
    "collapsed": false
   },
   "outputs": [],
   "source": [
    "#target variable of rearrest in 2 years\n",
    "X_train, y_train = pe.create_target(train, years = 2)\n",
    "X_val, y_val = pe.create_target(val, years = 2)"
   ]
  },
  {
   "cell_type": "code",
   "execution_count": 66,
   "metadata": {
    "collapsed": false
   },
   "outputs": [
    {
     "name": "stdout",
     "output_type": "stream",
     "text": [
      "Training: 55.6245941507 percent were rearrested.\n",
      "Test: 55.273745862 percent were rearrested.\n"
     ]
    }
   ],
   "source": [
    "unique, counts = np.unique(y_train, return_counts = True)\n",
    "percent = counts[1]/counts.sum()\n",
    "print('Training: %s percent were rearrested.' %(percent*100))\n",
    "\n",
    "unique, counts = np.unique(y_val, return_counts = True)\n",
    "percent = counts[1]/counts.sum()\n",
    "print('Test: %s percent were rearrested.' %(percent*100))\n"
   ]
  },
  {
   "cell_type": "code",
   "execution_count": 67,
   "metadata": {
    "collapsed": false
   },
   "outputs": [],
   "source": [
    "#remove non-feature columns\n",
    "X_train=X_train.drop(['BOFI_NBR','SCREENING_DISP_CODE','UNIQUE_ID','NEXT_ARREST_TIME'], axis=1)\n",
    "X_val=X_val.drop(['BOFI_NBR','SCREENING_DISP_CODE','UNIQUE_ID','NEXT_ARREST_TIME'], axis=1)\n",
    "\n",
    "#Using year and month as predictive variables\n",
    "X_train=X_train.drop(['ARREST_DATE', 'ARREST_DATE_y'], axis=1)\n",
    "X_val=X_val.drop(['ARREST_DATE','ARREST_DATE_y'], axis=1)"
   ]
  },
  {
   "cell_type": "markdown",
   "metadata": {
    "collapsed": true
   },
   "source": [
    "# Gradient Boosted Trees"
   ]
  },
  {
   "cell_type": "code",
   "execution_count": 68,
   "metadata": {
    "collapsed": false
   },
   "outputs": [],
   "source": [
    "gbt = GradientBoostingClassifier()\n",
    "gbt = gbt.fit(X_train,y_train)\n",
    "\n",
    "gbt_pred_train = gbt.predict(X_train)\n",
    "gbt_pred_val = gbt.predict(X_val)"
   ]
  },
  {
   "cell_type": "code",
   "execution_count": 69,
   "metadata": {
    "collapsed": false
   },
   "outputs": [
    {
     "name": "stdout",
     "output_type": "stream",
     "text": [
      "Accuracy on Training Dataset: 0.7559174422898178\n",
      "Accuracy on Val Dataset: 0.7538579067990833\n"
     ]
    }
   ],
   "source": [
    "# gbt accuracy\n",
    "gbt_accu_train = sklearn.metrics.accuracy_score(y_train,gbt_pred_train)\n",
    "gbt_accu_test = sklearn.metrics.accuracy_score(y_val,gbt_pred_val)\n",
    "\n",
    "print(\"Accuracy on Training Dataset: {}\".format(gbt_accu_train))\n",
    "print(\"Accuracy on Val Dataset: {}\".format(gbt_accu_test))"
   ]
  },
  {
   "cell_type": "code",
   "execution_count": 70,
   "metadata": {
    "collapsed": false
   },
   "outputs": [
    {
     "name": "stdout",
     "output_type": "stream",
     "text": [
      "Precision: 0.7495854063018242\n",
      "Recall: 0.8329494149083203\n",
      "F-Score: 0.7890717060184175\n"
     ]
    }
   ],
   "source": [
    "gbt_precision = sklearn.metrics.precision_score(y_val,gbt_pred_val)\n",
    "gbt_recall = sklearn.metrics.recall_score(y_val,gbt_pred_val)\n",
    "gbt_f_score = sklearn.metrics.f1_score(y_val,gbt_pred_val)\n",
    "\n",
    "print(\"Precision: {}\".format(gbt_precision))\n",
    "print(\"Recall: {}\".format(gbt_recall))\n",
    "print(\"F-Score: {}\".format(gbt_f_score))"
   ]
  },
  {
   "cell_type": "code",
   "execution_count": 9,
   "metadata": {
    "collapsed": false
   },
   "outputs": [
    {
     "data": {
      "text/plain": [
       "array([[5761, 3021],\n",
       "       [1843, 9010]])"
      ]
     },
     "execution_count": 9,
     "metadata": {},
     "output_type": "execute_result"
    }
   ],
   "source": [
    "#confusion matrix for val set\n",
    "gbt_cm = sklearn.metrics.confusion_matrix(y_val,gbt_pred_val)\n",
    "gbt_cm    #add cm.to_latex?"
   ]
  },
  {
   "cell_type": "markdown",
   "metadata": {
    "collapsed": true
   },
   "source": [
    "# Random Forest"
   ]
  },
  {
   "cell_type": "code",
   "execution_count": 10,
   "metadata": {
    "collapsed": false
   },
   "outputs": [],
   "source": [
    "rf_clf =  RandomForestClassifier()\n",
    "rf_clf = rf_clf.fit(X_train,y_train)\n",
    "\n",
    "rf_pred_train = rf_clf.predict(X_train)\n",
    "rf_pred_val = rf_clf.predict(X_val)"
   ]
  },
  {
   "cell_type": "code",
   "execution_count": 11,
   "metadata": {
    "collapsed": false
   },
   "outputs": [
    {
     "name": "stdout",
     "output_type": "stream",
     "text": [
      "Accuracy on Training Dataset: 0.9840970727918613\n",
      "Accuracy on Val Dataset: 0.7160682454800101\n"
     ]
    }
   ],
   "source": [
    "#a rf ccuracy\n",
    "rf_accu_train = sklearn.metrics.accuracy_score(y_train,rf_pred_train)\n",
    "rf_accu_test = sklearn.metrics.accuracy_score(y_val,rf_pred_val)\n",
    "\n",
    "print(\"Accuracy on Training Dataset: {}\".format(rf_accu_train))\n",
    "print(\"Accuracy on Val Dataset: {}\".format(rf_accu_test))"
   ]
  },
  {
   "cell_type": "code",
   "execution_count": 12,
   "metadata": {
    "collapsed": false
   },
   "outputs": [
    {
     "name": "stdout",
     "output_type": "stream",
     "text": [
      "Precision: 0.7482596425211665\n",
      "Recall: 0.7328849166129181\n",
      "F-Score: 0.7404924824279663\n"
     ]
    }
   ],
   "source": [
    "rf_precision = sklearn.metrics.precision_score(y_val,rf_pred_val)\n",
    "rf_recall = sklearn.metrics.recall_score(y_val,rf_pred_val)\n",
    "rf_f_score = sklearn.metrics.f1_score(y_val,rf_pred_val)\n",
    "\n",
    "print(\"Precision: {}\".format(rf_precision))\n",
    "print(\"Recall: {}\".format(rf_recall))\n",
    "print(\"F-Score: {}\".format(rf_f_score))"
   ]
  },
  {
   "cell_type": "code",
   "execution_count": 13,
   "metadata": {
    "collapsed": false
   },
   "outputs": [
    {
     "data": {
      "text/plain": [
       "array([[6106, 2676],\n",
       "       [2899, 7954]])"
      ]
     },
     "execution_count": 13,
     "metadata": {},
     "output_type": "execute_result"
    }
   ],
   "source": [
    "#confusion matrix for val set\n",
    "rf_cm = sklearn.metrics.confusion_matrix(y_val,rf_pred_val)\n",
    "rf_cm    #add cm.to_latex?"
   ]
  }
 ],
 "metadata": {
  "anaconda-cloud": {},
  "kernelspec": {
   "display_name": "Python [Root]",
   "language": "python",
   "name": "Python [Root]"
  },
  "language_info": {
   "codemirror_mode": {
    "name": "ipython",
    "version": 3
   },
   "file_extension": ".py",
   "mimetype": "text/x-python",
   "name": "python",
   "nbconvert_exporter": "python",
   "pygments_lexer": "ipython3",
   "version": "3.5.2"
  }
 },
 "nbformat": 4,
 "nbformat_minor": 2
}
