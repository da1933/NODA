{
 "cells": [
  {
   "cell_type": "code",
   "execution_count": 22,
   "metadata": {
    "collapsed": false
   },
   "outputs": [],
   "source": [
    "data = pd.read_csv('merged.csv', encoding = \"ISO-8859-1\", low_memory=False)\n",
    "data['AGE_YRS']=round(data['AGE']/365)"
   ]
  },
  {
   "cell_type": "code",
   "execution_count": 23,
   "metadata": {
    "collapsed": false
   },
   "outputs": [
    {
     "data": {
      "text/plain": [
       "2701"
      ]
     },
     "execution_count": 23,
     "metadata": {},
     "output_type": "execute_result"
    }
   ],
   "source": [
    "data[(data['AGE_YRS']<=10)&(data['JUVENILE_FLAG']==1)]['AGE_YRS'].count()"
   ]
  },
  {
   "cell_type": "code",
   "execution_count": 24,
   "metadata": {
    "collapsed": false
   },
   "outputs": [
    {
     "data": {
      "text/plain": [
       "132"
      ]
     },
     "execution_count": 24,
     "metadata": {},
     "output_type": "execute_result"
    }
   ],
   "source": [
    "data[(data['AGE_YRS']<=10)&(data['JUVENILE_FLAG']==0)]['AGE_YRS'].count()"
   ]
  },
  {
   "cell_type": "code",
   "execution_count": 32,
   "metadata": {
    "collapsed": false
   },
   "outputs": [],
   "source": [
    "j_age_dist = data[data['AGE_YRS']<=18].groupby('AGE_YRS').agg({'AGE_YRS':'count', 'JUVENILE_FLAG': 'sum'}).\\\n",
    "rename(columns={'AGE_YRS':'COUNT'})\n",
    "j_age_dist['Share_flagged']=j_age_dist['JUVENILE_FLAG']/j_age_dist['COUNT']"
   ]
  },
  {
   "cell_type": "code",
   "execution_count": 33,
   "metadata": {
    "collapsed": false
   },
   "outputs": [
    {
     "data": {
      "text/html": [
       "<div>\n",
       "<table border=\"1\" class=\"dataframe\">\n",
       "  <thead>\n",
       "    <tr style=\"text-align: right;\">\n",
       "      <th></th>\n",
       "      <th>COUNT</th>\n",
       "      <th>JUVENILE_FLAG</th>\n",
       "      <th>Share_flagged</th>\n",
       "    </tr>\n",
       "    <tr>\n",
       "      <th>AGE_YRS</th>\n",
       "      <th></th>\n",
       "      <th></th>\n",
       "      <th></th>\n",
       "    </tr>\n",
       "  </thead>\n",
       "  <tbody>\n",
       "    <tr>\n",
       "      <th>-5.0</th>\n",
       "      <td>4</td>\n",
       "      <td>4</td>\n",
       "      <td>1.000000</td>\n",
       "    </tr>\n",
       "    <tr>\n",
       "      <th>-3.0</th>\n",
       "      <td>5</td>\n",
       "      <td>5</td>\n",
       "      <td>1.000000</td>\n",
       "    </tr>\n",
       "    <tr>\n",
       "      <th>-2.0</th>\n",
       "      <td>1</td>\n",
       "      <td>1</td>\n",
       "      <td>1.000000</td>\n",
       "    </tr>\n",
       "    <tr>\n",
       "      <th>-1.0</th>\n",
       "      <td>25</td>\n",
       "      <td>24</td>\n",
       "      <td>0.960000</td>\n",
       "    </tr>\n",
       "    <tr>\n",
       "      <th>-0.0</th>\n",
       "      <td>259</td>\n",
       "      <td>244</td>\n",
       "      <td>0.942085</td>\n",
       "    </tr>\n",
       "    <tr>\n",
       "      <th>1.0</th>\n",
       "      <td>111</td>\n",
       "      <td>104</td>\n",
       "      <td>0.936937</td>\n",
       "    </tr>\n",
       "    <tr>\n",
       "      <th>2.0</th>\n",
       "      <td>70</td>\n",
       "      <td>68</td>\n",
       "      <td>0.971429</td>\n",
       "    </tr>\n",
       "    <tr>\n",
       "      <th>3.0</th>\n",
       "      <td>85</td>\n",
       "      <td>79</td>\n",
       "      <td>0.929412</td>\n",
       "    </tr>\n",
       "    <tr>\n",
       "      <th>4.0</th>\n",
       "      <td>78</td>\n",
       "      <td>74</td>\n",
       "      <td>0.948718</td>\n",
       "    </tr>\n",
       "    <tr>\n",
       "      <th>5.0</th>\n",
       "      <td>114</td>\n",
       "      <td>108</td>\n",
       "      <td>0.947368</td>\n",
       "    </tr>\n",
       "    <tr>\n",
       "      <th>6.0</th>\n",
       "      <td>125</td>\n",
       "      <td>119</td>\n",
       "      <td>0.952000</td>\n",
       "    </tr>\n",
       "    <tr>\n",
       "      <th>7.0</th>\n",
       "      <td>165</td>\n",
       "      <td>158</td>\n",
       "      <td>0.957576</td>\n",
       "    </tr>\n",
       "    <tr>\n",
       "      <th>8.0</th>\n",
       "      <td>284</td>\n",
       "      <td>270</td>\n",
       "      <td>0.950704</td>\n",
       "    </tr>\n",
       "    <tr>\n",
       "      <th>9.0</th>\n",
       "      <td>514</td>\n",
       "      <td>488</td>\n",
       "      <td>0.949416</td>\n",
       "    </tr>\n",
       "    <tr>\n",
       "      <th>10.0</th>\n",
       "      <td>993</td>\n",
       "      <td>955</td>\n",
       "      <td>0.961732</td>\n",
       "    </tr>\n",
       "    <tr>\n",
       "      <th>11.0</th>\n",
       "      <td>1849</td>\n",
       "      <td>1804</td>\n",
       "      <td>0.975663</td>\n",
       "    </tr>\n",
       "    <tr>\n",
       "      <th>12.0</th>\n",
       "      <td>3229</td>\n",
       "      <td>3126</td>\n",
       "      <td>0.968102</td>\n",
       "    </tr>\n",
       "    <tr>\n",
       "      <th>13.0</th>\n",
       "      <td>6493</td>\n",
       "      <td>6317</td>\n",
       "      <td>0.972894</td>\n",
       "    </tr>\n",
       "    <tr>\n",
       "      <th>14.0</th>\n",
       "      <td>10563</td>\n",
       "      <td>10263</td>\n",
       "      <td>0.971599</td>\n",
       "    </tr>\n",
       "    <tr>\n",
       "      <th>15.0</th>\n",
       "      <td>14780</td>\n",
       "      <td>14357</td>\n",
       "      <td>0.971380</td>\n",
       "    </tr>\n",
       "    <tr>\n",
       "      <th>16.0</th>\n",
       "      <td>17545</td>\n",
       "      <td>17049</td>\n",
       "      <td>0.971730</td>\n",
       "    </tr>\n",
       "    <tr>\n",
       "      <th>17.0</th>\n",
       "      <td>15441</td>\n",
       "      <td>9559</td>\n",
       "      <td>0.619066</td>\n",
       "    </tr>\n",
       "    <tr>\n",
       "      <th>18.0</th>\n",
       "      <td>12215</td>\n",
       "      <td>242</td>\n",
       "      <td>0.019812</td>\n",
       "    </tr>\n",
       "  </tbody>\n",
       "</table>\n",
       "</div>"
      ],
      "text/plain": [
       "         COUNT  JUVENILE_FLAG  Share_flagged\n",
       "AGE_YRS                                     \n",
       "-5.0         4              4       1.000000\n",
       "-3.0         5              5       1.000000\n",
       "-2.0         1              1       1.000000\n",
       "-1.0        25             24       0.960000\n",
       "-0.0       259            244       0.942085\n",
       " 1.0       111            104       0.936937\n",
       " 2.0        70             68       0.971429\n",
       " 3.0        85             79       0.929412\n",
       " 4.0        78             74       0.948718\n",
       " 5.0       114            108       0.947368\n",
       " 6.0       125            119       0.952000\n",
       " 7.0       165            158       0.957576\n",
       " 8.0       284            270       0.950704\n",
       " 9.0       514            488       0.949416\n",
       " 10.0      993            955       0.961732\n",
       " 11.0     1849           1804       0.975663\n",
       " 12.0     3229           3126       0.968102\n",
       " 13.0     6493           6317       0.972894\n",
       " 14.0    10563          10263       0.971599\n",
       " 15.0    14780          14357       0.971380\n",
       " 16.0    17545          17049       0.971730\n",
       " 17.0    15441           9559       0.619066\n",
       " 18.0    12215            242       0.019812"
      ]
     },
     "execution_count": 33,
     "metadata": {},
     "output_type": "execute_result"
    }
   ],
   "source": [
    "j_age_dist"
   ]
  },
  {
   "cell_type": "code",
   "execution_count": 34,
   "metadata": {
    "collapsed": true
   },
   "outputs": [],
   "source": [
    "j_age_dist.to_csv('j_age_dist.csv')"
   ]
  },
  {
   "cell_type": "code",
   "execution_count": null,
   "metadata": {
    "collapsed": true
   },
   "outputs": [],
   "source": []
  }
 ],
 "metadata": {
  "kernelspec": {
   "display_name": "Python [Root]",
   "language": "python",
   "name": "Python [Root]"
  },
  "language_info": {
   "codemirror_mode": {
    "name": "ipython",
    "version": 3
   },
   "file_extension": ".py",
   "mimetype": "text/x-python",
   "name": "python",
   "nbconvert_exporter": "python",
   "pygments_lexer": "ipython3",
   "version": "3.5.2"
  }
 },
 "nbformat": 4,
 "nbformat_minor": 0
}
