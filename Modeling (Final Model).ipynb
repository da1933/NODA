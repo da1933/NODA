{
 "cells": [
  {
   "cell_type": "code",
   "execution_count": 1,
   "metadata": {
    "collapsed": false
   },
   "outputs": [],
   "source": [
    "import numpy as np\n",
    "import pandas as pd\n",
    "import matplotlib.pyplot as plt\n",
    "import pylab\n",
    "import project_env as pe\n",
    "import sklearn as sklearn\n",
    "import math\n",
    "from sklearn.ensemble import GradientBoostingClassifier, RandomForestClassifier\n",
    "from sklearn.model_selection import cross_val_score\n",
    "from itertools import product\n",
    "import error_analysis as ea\n",
    "from sklearn.metrics import precision_recall_curve\n",
    "%matplotlib inline"
   ]
  },
  {
   "cell_type": "code",
   "execution_count": 2,
   "metadata": {
    "collapsed": false
   },
   "outputs": [],
   "source": [
    "train = pd.read_csv('data_processing/output/train.csv')\n",
    "val = pd.read_csv('data_processing/output/val.csv')\n",
    "test = pd.read_csv('data_processing/output/test.csv')"
   ]
  },
  {
   "cell_type": "markdown",
   "metadata": {},
   "source": [
    "# Target Variable"
   ]
  },
  {
   "cell_type": "code",
   "execution_count": 3,
   "metadata": {
    "collapsed": false
   },
   "outputs": [],
   "source": [
    "#target variable of rearrest in 5 years\n",
    "X_train, y_train = pe.create_target(train, years = 5)\n",
    "X_val, y_val = pe.create_target(val, years = 5)\n",
    "\n",
    "X_test, y_test = pe.create_target(test, years = 5)"
   ]
  },
  {
   "cell_type": "code",
   "execution_count": 4,
   "metadata": {
    "collapsed": false
   },
   "outputs": [
    {
     "name": "stdout",
     "output_type": "stream",
     "text": [
      "Training: 51.9046644379 percent were rearrested.\n",
      "Test: 51.8282699654 percent were rearrested.\n"
     ]
    }
   ],
   "source": [
    "unique, counts = np.unique(y_train, return_counts = True)\n",
    "percent = counts[1]/counts.sum()\n",
    "print('Training: %s percent were rearrested.' %(percent*100))\n",
    "\n",
    "unique, counts = np.unique(y_val, return_counts = True)\n",
    "percent = counts[1]/counts.sum()\n",
    "print('Test: %s percent were rearrested.' %(percent*100))\n"
   ]
  },
  {
   "cell_type": "code",
   "execution_count": 5,
   "metadata": {
    "collapsed": false
   },
   "outputs": [],
   "source": [
    "#remove non-feature columns\n",
    "X_train=X_train.drop(['BOFI_NBR','SCREENING_DISP_CODE','UNIQUE_ID','NEXT_ARREST_TIME'], axis=1)\n",
    "X_val=X_val.drop(['BOFI_NBR','SCREENING_DISP_CODE','UNIQUE_ID','NEXT_ARREST_TIME'], axis=1)\n",
    "\n",
    "#Using year and month as predictive variables\n",
    "X_train=X_train.drop(['ARREST_DATE', 'ARREST_DATE_y'], axis=1)\n",
    "X_val=X_val.drop(['ARREST_DATE','ARREST_DATE_y'], axis=1)"
   ]
  },
  {
   "cell_type": "code",
   "execution_count": 6,
   "metadata": {
    "collapsed": true
   },
   "outputs": [],
   "source": [
    "#remove non-feature columns\n",
    "X_test=X_test.drop(['BOFI_NBR','SCREENING_DISP_CODE','UNIQUE_ID','NEXT_ARREST_TIME'], axis=1)\n",
    "\n",
    "#Using year and month as predictive variables\n",
    "X_test=X_test.drop(['ARREST_DATE', 'ARREST_DATE_y'], axis=1)"
   ]
  },
  {
   "cell_type": "markdown",
   "metadata": {
    "collapsed": true
   },
   "source": [
    "# Gradient Boosted Trees"
   ]
  },
  {
   "cell_type": "markdown",
   "metadata": {},
   "source": [
    "### Default Parameters"
   ]
  },
  {
   "cell_type": "code",
   "execution_count": 7,
   "metadata": {
    "collapsed": true
   },
   "outputs": [],
   "source": [
    "gbt = GradientBoostingClassifier(n_estimators = 300,\\\n",
    "                               learning_rate = .1,\\\n",
    "                               max_depth = 5,\\\n",
    "                               min_samples_split = 4)\n",
    "gbt = gbt.fit(X_train,y_train)\n",
    "\n",
    "gbt_pred_train = gbt.predict(X_train)\n",
    "gbt_pred_val = gbt.predict(X_val)"
   ]
  },
  {
   "cell_type": "code",
   "execution_count": 8,
   "metadata": {
    "collapsed": false
   },
   "outputs": [
    {
     "name": "stdout",
     "output_type": "stream",
     "text": [
      "Accuracy on Training Dataset: 0.7844943258056446\n",
      "Accuracy on Val Dataset: 0.758322721484446\n"
     ]
    }
   ],
   "source": [
    "# gbt accuracy\n",
    "gbt_accu_train = sklearn.metrics.accuracy_score(y_train,gbt_pred_train)\n",
    "gbt_accu_test = sklearn.metrics.accuracy_score(y_val,gbt_pred_val)\n",
    "\n",
    "print(\"Accuracy on Training Dataset: {}\".format(gbt_accu_train))\n",
    "print(\"Accuracy on Val Dataset: {}\".format(gbt_accu_test))"
   ]
  },
  {
   "cell_type": "code",
   "execution_count": 9,
   "metadata": {
    "collapsed": false
   },
   "outputs": [
    {
     "name": "stdout",
     "output_type": "stream",
     "text": [
      "Precision: 0.7621099810377521\n",
      "Recall: 0.7758862758862759\n",
      "F-Score: 0.7689364292547178\n"
     ]
    }
   ],
   "source": [
    "gbt_precision = sklearn.metrics.precision_score(y_val,gbt_pred_val)\n",
    "gbt_recall = sklearn.metrics.recall_score(y_val,gbt_pred_val)\n",
    "gbt_f_score = sklearn.metrics.f1_score(y_val,gbt_pred_val)\n",
    "\n",
    "print(\"Precision: {}\".format(gbt_precision))\n",
    "print(\"Recall: {}\".format(gbt_recall))\n",
    "print(\"F-Score: {}\".format(gbt_f_score))"
   ]
  },
  {
   "cell_type": "code",
   "execution_count": 10,
   "metadata": {
    "collapsed": false
   },
   "outputs": [
    {
     "data": {
      "text/plain": [
       "array([[3916, 1380],\n",
       "       [1277, 4421]])"
      ]
     },
     "execution_count": 10,
     "metadata": {},
     "output_type": "execute_result"
    }
   ],
   "source": [
    "#confusion matrix for val set\n",
    "gbt_cm = sklearn.metrics.confusion_matrix(y_val,gbt_pred_val)\n",
    "gbt_cm    #add cm.to_latex?"
   ]
  },
  {
   "cell_type": "markdown",
   "metadata": {},
   "source": [
    "#### Best Model's Predictions and Feature Importance"
   ]
  },
  {
   "cell_type": "code",
   "execution_count": 12,
   "metadata": {
    "collapsed": false
   },
   "outputs": [],
   "source": [
    "predicted_prob = gbt.predict_proba(X_val)\n",
    "predictions = gbt.predict(X_val)"
   ]
  },
  {
   "cell_type": "code",
   "execution_count": 13,
   "metadata": {
    "collapsed": false
   },
   "outputs": [
    {
     "name": "stdout",
     "output_type": "stream",
     "text": [
      "\\begin{tabular}{llr}\n",
      "\\toprule\n",
      "{} &       Column Name &  Importance \\\\\n",
      "\\midrule\n",
      "9  &               AGE &    0.227318 \\\\\n",
      "0  &    BAR\\_ADMIT\\_DAYS &    0.174524 \\\\\n",
      "12 &  ARREST\\_TO\\_SCREEN &    0.122600 \\\\\n",
      "8  &    SCREENING\\_DAYS &    0.078135 \\\\\n",
      "1  &     CRIMINAL\\_FLAG &    0.054159 \\\\\n",
      "\\bottomrule\n",
      "\\end{tabular}\n",
      "\n"
     ]
    },
    {
     "name": "stderr",
     "output_type": "stream",
     "text": [
      "/Users/Lisa/anaconda3/lib/python3.5/site-packages/ipykernel/__main__.py:3: FutureWarning: sort(columns=....) is deprecated, use sort_values(by=.....)\n",
      "  app.launch_new_instance()\n"
     ]
    }
   ],
   "source": [
    "feature_imp = pd.DataFrame(list(zip(X_train.columns, gbt.feature_importances_)))\n",
    "feature_imp.columns = ['Column Name', 'Importance']\n",
    "print (feature_imp.sort(columns = 'Importance', ascending = False)[0:5].to_latex())"
   ]
  },
  {
   "cell_type": "markdown",
   "metadata": {},
   "source": [
    "### Confusion Matrix and Risk CSV"
   ]
  },
  {
   "cell_type": "code",
   "execution_count": 24,
   "metadata": {
    "collapsed": false
   },
   "outputs": [],
   "source": [
    "X_val_id, y_val_id = pe.create_target(val, years = 5)\n",
    "\n",
    "val_risk = X_val_id[['BOFI_NBR', 'UNIQUE_ID']].copy()\n",
    "val_risk['Risk'] = predicted_prob[:,1]\n",
    "\n",
    "val_risk.to_csv('results/val_risk.csv')\n",
    "\n",
    "\n",
    "val_pred = X_val_id[['BOFI_NBR', 'UNIQUE_ID']].copy()\n",
    "val_pred['pred_y'] = predictions\n",
    "val_pred['true_y'] = y_val_id\n",
    "\n",
    "val_pred.to_csv('results/val_pred.csv')\n"
   ]
  },
  {
   "cell_type": "code",
   "execution_count": null,
   "metadata": {
    "collapsed": true
   },
   "outputs": [],
   "source": []
  }
 ],
 "metadata": {
  "anaconda-cloud": {},
  "kernelspec": {
   "display_name": "Python [Root]",
   "language": "python",
   "name": "Python [Root]"
  },
  "language_info": {
   "codemirror_mode": {
    "name": "ipython",
    "version": 3
   },
   "file_extension": ".py",
   "mimetype": "text/x-python",
   "name": "python",
   "nbconvert_exporter": "python",
   "pygments_lexer": "ipython3",
   "version": "3.5.2"
  }
 },
 "nbformat": 4,
 "nbformat_minor": 2
}
