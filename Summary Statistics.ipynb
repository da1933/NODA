{
 "cells": [
  {
   "cell_type": "code",
   "execution_count": 167,
   "metadata": {
    "collapsed": true
   },
   "outputs": [],
   "source": [
    "import numpy as np\n",
    "import pandas as pd\n",
    "import matplotlib.pyplot as plt\n",
    "%matplotlib inline"
   ]
  },
  {
   "cell_type": "code",
   "execution_count": 148,
   "metadata": {
    "collapsed": true
   },
   "outputs": [],
   "source": [
    "data_simple = pd.read_csv('data_simple.csv', encoding = \"ISO-8859-1\", low_memory=False, index_col=0)"
   ]
  },
  {
   "cell_type": "code",
   "execution_count": 42,
   "metadata": {
    "collapsed": false
   },
   "outputs": [
    {
     "data": {
      "text/html": [
       "<div>\n",
       "<table border=\"1\" class=\"dataframe\">\n",
       "  <thead>\n",
       "    <tr style=\"text-align: right;\">\n",
       "      <th></th>\n",
       "      <th>type</th>\n",
       "      <th>mean</th>\n",
       "      <th>std</th>\n",
       "      <th>min</th>\n",
       "      <th>25%</th>\n",
       "      <th>50%</th>\n",
       "      <th>75%</th>\n",
       "      <th>max</th>\n",
       "      <th>number_distinct</th>\n",
       "      <th>number_nan</th>\n",
       "    </tr>\n",
       "  </thead>\n",
       "  <tbody>\n",
       "    <tr>\n",
       "      <th>ADD_DATE</th>\n",
       "      <td>float64</td>\n",
       "      <td>1.991478e+07</td>\n",
       "      <td>7.632035e+05</td>\n",
       "      <td>0.0</td>\n",
       "      <td>19911126.00</td>\n",
       "      <td>19950119.0</td>\n",
       "      <td>19971007.00</td>\n",
       "      <td>19991116.0</td>\n",
       "      <td>3306</td>\n",
       "      <td>129315</td>\n",
       "    </tr>\n",
       "    <tr>\n",
       "      <th>AREG_SEQ_NBR</th>\n",
       "      <td>int64</td>\n",
       "      <td>1.000000e+00</td>\n",
       "      <td>0.000000e+00</td>\n",
       "      <td>1.0</td>\n",
       "      <td>1.00</td>\n",
       "      <td>1.0</td>\n",
       "      <td>1.00</td>\n",
       "      <td>1.0</td>\n",
       "      <td>1</td>\n",
       "      <td>0</td>\n",
       "    </tr>\n",
       "    <tr>\n",
       "      <th>ARREST_CREDIT_CODE</th>\n",
       "      <td>object</td>\n",
       "      <td>NaN</td>\n",
       "      <td>NaN</td>\n",
       "      <td>NaN</td>\n",
       "      <td>NaN</td>\n",
       "      <td>NaN</td>\n",
       "      <td>NaN</td>\n",
       "      <td>NaN</td>\n",
       "      <td>100</td>\n",
       "      <td>133502</td>\n",
       "    </tr>\n",
       "    <tr>\n",
       "      <th>ARREST_DATE</th>\n",
       "      <td>float64</td>\n",
       "      <td>1.955671e+07</td>\n",
       "      <td>2.748079e+06</td>\n",
       "      <td>0.0</td>\n",
       "      <td>19910830.00</td>\n",
       "      <td>19941025.0</td>\n",
       "      <td>19970731.00</td>\n",
       "      <td>19991115.0</td>\n",
       "      <td>4259</td>\n",
       "      <td>129315</td>\n",
       "    </tr>\n",
       "    <tr>\n",
       "      <th>BOFI_NBR</th>\n",
       "      <td>object</td>\n",
       "      <td>NaN</td>\n",
       "      <td>NaN</td>\n",
       "      <td>NaN</td>\n",
       "      <td>NaN</td>\n",
       "      <td>NaN</td>\n",
       "      <td>NaN</td>\n",
       "      <td>NaN</td>\n",
       "      <td>124848</td>\n",
       "      <td>1</td>\n",
       "    </tr>\n",
       "    <tr>\n",
       "      <th>CHARGE_CAT</th>\n",
       "      <td>object</td>\n",
       "      <td>NaN</td>\n",
       "      <td>NaN</td>\n",
       "      <td>NaN</td>\n",
       "      <td>NaN</td>\n",
       "      <td>NaN</td>\n",
       "      <td>NaN</td>\n",
       "      <td>NaN</td>\n",
       "      <td>16</td>\n",
       "      <td>229739</td>\n",
       "    </tr>\n",
       "    <tr>\n",
       "      <th>CHARGE_CLASS</th>\n",
       "      <td>float64</td>\n",
       "      <td>3.328816e+00</td>\n",
       "      <td>8.820815e-01</td>\n",
       "      <td>1.0</td>\n",
       "      <td>3.00</td>\n",
       "      <td>3.0</td>\n",
       "      <td>4.00</td>\n",
       "      <td>8.0</td>\n",
       "      <td>8</td>\n",
       "      <td>131749</td>\n",
       "    </tr>\n",
       "    <tr>\n",
       "      <th>CHARGE_TYPE</th>\n",
       "      <td>object</td>\n",
       "      <td>NaN</td>\n",
       "      <td>NaN</td>\n",
       "      <td>NaN</td>\n",
       "      <td>NaN</td>\n",
       "      <td>NaN</td>\n",
       "      <td>NaN</td>\n",
       "      <td>NaN</td>\n",
       "      <td>3</td>\n",
       "      <td>129846</td>\n",
       "    </tr>\n",
       "    <tr>\n",
       "      <th>CRIMINAL_FLAG</th>\n",
       "      <td>object</td>\n",
       "      <td>NaN</td>\n",
       "      <td>NaN</td>\n",
       "      <td>NaN</td>\n",
       "      <td>NaN</td>\n",
       "      <td>NaN</td>\n",
       "      <td>NaN</td>\n",
       "      <td>NaN</td>\n",
       "      <td>2</td>\n",
       "      <td>0</td>\n",
       "    </tr>\n",
       "    <tr>\n",
       "      <th>DFDN_SEQ_NBR</th>\n",
       "      <td>int64</td>\n",
       "      <td>1.097765e+00</td>\n",
       "      <td>4.838954e-01</td>\n",
       "      <td>1.0</td>\n",
       "      <td>1.00</td>\n",
       "      <td>1.0</td>\n",
       "      <td>1.00</td>\n",
       "      <td>27.0</td>\n",
       "      <td>27</td>\n",
       "      <td>0</td>\n",
       "    </tr>\n",
       "    <tr>\n",
       "      <th>DOB</th>\n",
       "      <td>int64</td>\n",
       "      <td>1.934283e+07</td>\n",
       "      <td>2.580123e+06</td>\n",
       "      <td>0.0</td>\n",
       "      <td>19610130.00</td>\n",
       "      <td>19701029.0</td>\n",
       "      <td>19770817.00</td>\n",
       "      <td>19990901.0</td>\n",
       "      <td>19779</td>\n",
       "      <td>0</td>\n",
       "    </tr>\n",
       "    <tr>\n",
       "      <th>FBI_NBR</th>\n",
       "      <td>object</td>\n",
       "      <td>NaN</td>\n",
       "      <td>NaN</td>\n",
       "      <td>NaN</td>\n",
       "      <td>NaN</td>\n",
       "      <td>NaN</td>\n",
       "      <td>NaN</td>\n",
       "      <td>NaN</td>\n",
       "      <td>30337</td>\n",
       "      <td>172823</td>\n",
       "    </tr>\n",
       "    <tr>\n",
       "      <th>FINAL_DETENTION_FLAG</th>\n",
       "      <td>object</td>\n",
       "      <td>NaN</td>\n",
       "      <td>NaN</td>\n",
       "      <td>NaN</td>\n",
       "      <td>NaN</td>\n",
       "      <td>NaN</td>\n",
       "      <td>NaN</td>\n",
       "      <td>NaN</td>\n",
       "      <td>2</td>\n",
       "      <td>129315</td>\n",
       "    </tr>\n",
       "    <tr>\n",
       "      <th>HABITUAL_OFFENDER_FLAG</th>\n",
       "      <td>object</td>\n",
       "      <td>NaN</td>\n",
       "      <td>NaN</td>\n",
       "      <td>NaN</td>\n",
       "      <td>NaN</td>\n",
       "      <td>NaN</td>\n",
       "      <td>NaN</td>\n",
       "      <td>NaN</td>\n",
       "      <td>22</td>\n",
       "      <td>174861</td>\n",
       "    </tr>\n",
       "    <tr>\n",
       "      <th>INITIAL_DETENTION_FLAG</th>\n",
       "      <td>object</td>\n",
       "      <td>NaN</td>\n",
       "      <td>NaN</td>\n",
       "      <td>NaN</td>\n",
       "      <td>NaN</td>\n",
       "      <td>NaN</td>\n",
       "      <td>NaN</td>\n",
       "      <td>NaN</td>\n",
       "      <td>2</td>\n",
       "      <td>140232</td>\n",
       "    </tr>\n",
       "    <tr>\n",
       "      <th>JUVENILE_FLAG</th>\n",
       "      <td>object</td>\n",
       "      <td>NaN</td>\n",
       "      <td>NaN</td>\n",
       "      <td>NaN</td>\n",
       "      <td>NaN</td>\n",
       "      <td>NaN</td>\n",
       "      <td>NaN</td>\n",
       "      <td>NaN</td>\n",
       "      <td>2</td>\n",
       "      <td>0</td>\n",
       "    </tr>\n",
       "    <tr>\n",
       "      <th>LEAD_CHARGE_CODE</th>\n",
       "      <td>object</td>\n",
       "      <td>NaN</td>\n",
       "      <td>NaN</td>\n",
       "      <td>NaN</td>\n",
       "      <td>NaN</td>\n",
       "      <td>NaN</td>\n",
       "      <td>NaN</td>\n",
       "      <td>NaN</td>\n",
       "      <td>795</td>\n",
       "      <td>129841</td>\n",
       "    </tr>\n",
       "    <tr>\n",
       "      <th>POLICE_RPT_DATE</th>\n",
       "      <td>int64</td>\n",
       "      <td>1.712800e+07</td>\n",
       "      <td>6.946953e+06</td>\n",
       "      <td>0.0</td>\n",
       "      <td>19900821.00</td>\n",
       "      <td>19940520.0</td>\n",
       "      <td>19970624.00</td>\n",
       "      <td>19991116.0</td>\n",
       "      <td>3770</td>\n",
       "      <td>0</td>\n",
       "    </tr>\n",
       "    <tr>\n",
       "      <th>POLICE_RPT_DAYS</th>\n",
       "      <td>int64</td>\n",
       "      <td>3.225809e+01</td>\n",
       "      <td>6.616166e+01</td>\n",
       "      <td>0.0</td>\n",
       "      <td>3.00</td>\n",
       "      <td>13.0</td>\n",
       "      <td>34.00</td>\n",
       "      <td>999.0</td>\n",
       "      <td>898</td>\n",
       "      <td>0</td>\n",
       "    </tr>\n",
       "    <tr>\n",
       "      <th>RACE</th>\n",
       "      <td>object</td>\n",
       "      <td>NaN</td>\n",
       "      <td>NaN</td>\n",
       "      <td>NaN</td>\n",
       "      <td>NaN</td>\n",
       "      <td>NaN</td>\n",
       "      <td>NaN</td>\n",
       "      <td>NaN</td>\n",
       "      <td>8</td>\n",
       "      <td>4821</td>\n",
       "    </tr>\n",
       "    <tr>\n",
       "      <th>SADA_ALT_PARTY</th>\n",
       "      <td>object</td>\n",
       "      <td>NaN</td>\n",
       "      <td>NaN</td>\n",
       "      <td>NaN</td>\n",
       "      <td>NaN</td>\n",
       "      <td>NaN</td>\n",
       "      <td>NaN</td>\n",
       "      <td>NaN</td>\n",
       "      <td>3</td>\n",
       "      <td>279300</td>\n",
       "    </tr>\n",
       "    <tr>\n",
       "      <th>SADA_BAR_ADMISSION</th>\n",
       "      <td>float64</td>\n",
       "      <td>1.989125e+07</td>\n",
       "      <td>6.791726e+04</td>\n",
       "      <td>19050614.0</td>\n",
       "      <td>19871009.00</td>\n",
       "      <td>19901005.0</td>\n",
       "      <td>19921016.00</td>\n",
       "      <td>19990423.0</td>\n",
       "      <td>87</td>\n",
       "      <td>30887</td>\n",
       "    </tr>\n",
       "    <tr>\n",
       "      <th>SADA_CODE</th>\n",
       "      <td>object</td>\n",
       "      <td>NaN</td>\n",
       "      <td>NaN</td>\n",
       "      <td>NaN</td>\n",
       "      <td>NaN</td>\n",
       "      <td>NaN</td>\n",
       "      <td>NaN</td>\n",
       "      <td>NaN</td>\n",
       "      <td>302</td>\n",
       "      <td>27237</td>\n",
       "    </tr>\n",
       "    <tr>\n",
       "      <th>SADA_DOB</th>\n",
       "      <td>float64</td>\n",
       "      <td>1.960577e+07</td>\n",
       "      <td>8.182868e+04</td>\n",
       "      <td>19010501.0</td>\n",
       "      <td>19600000.00</td>\n",
       "      <td>19630000.0</td>\n",
       "      <td>19660000.00</td>\n",
       "      <td>19740000.0</td>\n",
       "      <td>64</td>\n",
       "      <td>36432</td>\n",
       "    </tr>\n",
       "    <tr>\n",
       "      <th>SADA_PARTY</th>\n",
       "      <td>object</td>\n",
       "      <td>NaN</td>\n",
       "      <td>NaN</td>\n",
       "      <td>NaN</td>\n",
       "      <td>NaN</td>\n",
       "      <td>NaN</td>\n",
       "      <td>NaN</td>\n",
       "      <td>NaN</td>\n",
       "      <td>3</td>\n",
       "      <td>56195</td>\n",
       "    </tr>\n",
       "    <tr>\n",
       "      <th>SADA_RACE</th>\n",
       "      <td>object</td>\n",
       "      <td>NaN</td>\n",
       "      <td>NaN</td>\n",
       "      <td>NaN</td>\n",
       "      <td>NaN</td>\n",
       "      <td>NaN</td>\n",
       "      <td>NaN</td>\n",
       "      <td>NaN</td>\n",
       "      <td>4</td>\n",
       "      <td>38901</td>\n",
       "    </tr>\n",
       "    <tr>\n",
       "      <th>SADA_SEX</th>\n",
       "      <td>object</td>\n",
       "      <td>NaN</td>\n",
       "      <td>NaN</td>\n",
       "      <td>NaN</td>\n",
       "      <td>NaN</td>\n",
       "      <td>NaN</td>\n",
       "      <td>NaN</td>\n",
       "      <td>NaN</td>\n",
       "      <td>2</td>\n",
       "      <td>28992</td>\n",
       "    </tr>\n",
       "    <tr>\n",
       "      <th>SCREENING_DAYS</th>\n",
       "      <td>int64</td>\n",
       "      <td>1.512875e+01</td>\n",
       "      <td>3.438189e+01</td>\n",
       "      <td>0.0</td>\n",
       "      <td>0.00</td>\n",
       "      <td>5.0</td>\n",
       "      <td>16.00</td>\n",
       "      <td>997.0</td>\n",
       "      <td>526</td>\n",
       "      <td>0</td>\n",
       "    </tr>\n",
       "    <tr>\n",
       "      <th>SCREENING_DISP_CODE</th>\n",
       "      <td>float64</td>\n",
       "      <td>2.383625e+02</td>\n",
       "      <td>1.018528e+01</td>\n",
       "      <td>17.0</td>\n",
       "      <td>230.00</td>\n",
       "      <td>240.0</td>\n",
       "      <td>240.00</td>\n",
       "      <td>560.0</td>\n",
       "      <td>17</td>\n",
       "      <td>35515</td>\n",
       "    </tr>\n",
       "    <tr>\n",
       "      <th>SCREENING_DISP_DATE</th>\n",
       "      <td>int64</td>\n",
       "      <td>1.742101e+07</td>\n",
       "      <td>6.628696e+06</td>\n",
       "      <td>0.0</td>\n",
       "      <td>19900614.00</td>\n",
       "      <td>19940216.0</td>\n",
       "      <td>19970516.00</td>\n",
       "      <td>19991116.0</td>\n",
       "      <td>3970</td>\n",
       "      <td>0</td>\n",
       "    </tr>\n",
       "    <tr>\n",
       "      <th>SEX</th>\n",
       "      <td>object</td>\n",
       "      <td>NaN</td>\n",
       "      <td>NaN</td>\n",
       "      <td>NaN</td>\n",
       "      <td>NaN</td>\n",
       "      <td>NaN</td>\n",
       "      <td>NaN</td>\n",
       "      <td>NaN</td>\n",
       "      <td>7</td>\n",
       "      <td>4775</td>\n",
       "    </tr>\n",
       "    <tr>\n",
       "      <th>SYS_NBR</th>\n",
       "      <td>int64</td>\n",
       "      <td>9.417777e+07</td>\n",
       "      <td>3.470239e+06</td>\n",
       "      <td>84000020.0</td>\n",
       "      <td>91109102.25</td>\n",
       "      <td>94175073.5</td>\n",
       "      <td>97242021.75</td>\n",
       "      <td>99309156.0</td>\n",
       "      <td>261268</td>\n",
       "      <td>0</td>\n",
       "    </tr>\n",
       "  </tbody>\n",
       "</table>\n",
       "</div>"
      ],
      "text/plain": [
       "                           type          mean           std         min  \\\n",
       "ADD_DATE                float64  1.991478e+07  7.632035e+05         0.0   \n",
       "AREG_SEQ_NBR              int64  1.000000e+00  0.000000e+00         1.0   \n",
       "ARREST_CREDIT_CODE       object           NaN           NaN         NaN   \n",
       "ARREST_DATE             float64  1.955671e+07  2.748079e+06         0.0   \n",
       "BOFI_NBR                 object           NaN           NaN         NaN   \n",
       "CHARGE_CAT               object           NaN           NaN         NaN   \n",
       "CHARGE_CLASS            float64  3.328816e+00  8.820815e-01         1.0   \n",
       "CHARGE_TYPE              object           NaN           NaN         NaN   \n",
       "CRIMINAL_FLAG            object           NaN           NaN         NaN   \n",
       "DFDN_SEQ_NBR              int64  1.097765e+00  4.838954e-01         1.0   \n",
       "DOB                       int64  1.934283e+07  2.580123e+06         0.0   \n",
       "FBI_NBR                  object           NaN           NaN         NaN   \n",
       "FINAL_DETENTION_FLAG     object           NaN           NaN         NaN   \n",
       "HABITUAL_OFFENDER_FLAG   object           NaN           NaN         NaN   \n",
       "INITIAL_DETENTION_FLAG   object           NaN           NaN         NaN   \n",
       "JUVENILE_FLAG            object           NaN           NaN         NaN   \n",
       "LEAD_CHARGE_CODE         object           NaN           NaN         NaN   \n",
       "POLICE_RPT_DATE           int64  1.712800e+07  6.946953e+06         0.0   \n",
       "POLICE_RPT_DAYS           int64  3.225809e+01  6.616166e+01         0.0   \n",
       "RACE                     object           NaN           NaN         NaN   \n",
       "SADA_ALT_PARTY           object           NaN           NaN         NaN   \n",
       "SADA_BAR_ADMISSION      float64  1.989125e+07  6.791726e+04  19050614.0   \n",
       "SADA_CODE                object           NaN           NaN         NaN   \n",
       "SADA_DOB                float64  1.960577e+07  8.182868e+04  19010501.0   \n",
       "SADA_PARTY               object           NaN           NaN         NaN   \n",
       "SADA_RACE                object           NaN           NaN         NaN   \n",
       "SADA_SEX                 object           NaN           NaN         NaN   \n",
       "SCREENING_DAYS            int64  1.512875e+01  3.438189e+01         0.0   \n",
       "SCREENING_DISP_CODE     float64  2.383625e+02  1.018528e+01        17.0   \n",
       "SCREENING_DISP_DATE       int64  1.742101e+07  6.628696e+06         0.0   \n",
       "SEX                      object           NaN           NaN         NaN   \n",
       "SYS_NBR                   int64  9.417777e+07  3.470239e+06  84000020.0   \n",
       "\n",
       "                                25%         50%          75%         max  \\\n",
       "ADD_DATE                19911126.00  19950119.0  19971007.00  19991116.0   \n",
       "AREG_SEQ_NBR                   1.00         1.0         1.00         1.0   \n",
       "ARREST_CREDIT_CODE              NaN         NaN          NaN         NaN   \n",
       "ARREST_DATE             19910830.00  19941025.0  19970731.00  19991115.0   \n",
       "BOFI_NBR                        NaN         NaN          NaN         NaN   \n",
       "CHARGE_CAT                      NaN         NaN          NaN         NaN   \n",
       "CHARGE_CLASS                   3.00         3.0         4.00         8.0   \n",
       "CHARGE_TYPE                     NaN         NaN          NaN         NaN   \n",
       "CRIMINAL_FLAG                   NaN         NaN          NaN         NaN   \n",
       "DFDN_SEQ_NBR                   1.00         1.0         1.00        27.0   \n",
       "DOB                     19610130.00  19701029.0  19770817.00  19990901.0   \n",
       "FBI_NBR                         NaN         NaN          NaN         NaN   \n",
       "FINAL_DETENTION_FLAG            NaN         NaN          NaN         NaN   \n",
       "HABITUAL_OFFENDER_FLAG          NaN         NaN          NaN         NaN   \n",
       "INITIAL_DETENTION_FLAG          NaN         NaN          NaN         NaN   \n",
       "JUVENILE_FLAG                   NaN         NaN          NaN         NaN   \n",
       "LEAD_CHARGE_CODE                NaN         NaN          NaN         NaN   \n",
       "POLICE_RPT_DATE         19900821.00  19940520.0  19970624.00  19991116.0   \n",
       "POLICE_RPT_DAYS                3.00        13.0        34.00       999.0   \n",
       "RACE                            NaN         NaN          NaN         NaN   \n",
       "SADA_ALT_PARTY                  NaN         NaN          NaN         NaN   \n",
       "SADA_BAR_ADMISSION      19871009.00  19901005.0  19921016.00  19990423.0   \n",
       "SADA_CODE                       NaN         NaN          NaN         NaN   \n",
       "SADA_DOB                19600000.00  19630000.0  19660000.00  19740000.0   \n",
       "SADA_PARTY                      NaN         NaN          NaN         NaN   \n",
       "SADA_RACE                       NaN         NaN          NaN         NaN   \n",
       "SADA_SEX                        NaN         NaN          NaN         NaN   \n",
       "SCREENING_DAYS                 0.00         5.0        16.00       997.0   \n",
       "SCREENING_DISP_CODE          230.00       240.0       240.00       560.0   \n",
       "SCREENING_DISP_DATE     19900614.00  19940216.0  19970516.00  19991116.0   \n",
       "SEX                             NaN         NaN          NaN         NaN   \n",
       "SYS_NBR                 91109102.25  94175073.5  97242021.75  99309156.0   \n",
       "\n",
       "                        number_distinct  number_nan  \n",
       "ADD_DATE                           3306      129315  \n",
       "AREG_SEQ_NBR                          1           0  \n",
       "ARREST_CREDIT_CODE                  100      133502  \n",
       "ARREST_DATE                        4259      129315  \n",
       "BOFI_NBR                         124848           1  \n",
       "CHARGE_CAT                           16      229739  \n",
       "CHARGE_CLASS                          8      131749  \n",
       "CHARGE_TYPE                           3      129846  \n",
       "CRIMINAL_FLAG                         2           0  \n",
       "DFDN_SEQ_NBR                         27           0  \n",
       "DOB                               19779           0  \n",
       "FBI_NBR                           30337      172823  \n",
       "FINAL_DETENTION_FLAG                  2      129315  \n",
       "HABITUAL_OFFENDER_FLAG               22      174861  \n",
       "INITIAL_DETENTION_FLAG                2      140232  \n",
       "JUVENILE_FLAG                         2           0  \n",
       "LEAD_CHARGE_CODE                    795      129841  \n",
       "POLICE_RPT_DATE                    3770           0  \n",
       "POLICE_RPT_DAYS                     898           0  \n",
       "RACE                                  8        4821  \n",
       "SADA_ALT_PARTY                        3      279300  \n",
       "SADA_BAR_ADMISSION                   87       30887  \n",
       "SADA_CODE                           302       27237  \n",
       "SADA_DOB                             64       36432  \n",
       "SADA_PARTY                            3       56195  \n",
       "SADA_RACE                             4       38901  \n",
       "SADA_SEX                              2       28992  \n",
       "SCREENING_DAYS                      526           0  \n",
       "SCREENING_DISP_CODE                  17       35515  \n",
       "SCREENING_DISP_DATE                3970           0  \n",
       "SEX                                   7        4775  \n",
       "SYS_NBR                          261268           0  "
      ]
     },
     "execution_count": 42,
     "metadata": {},
     "output_type": "execute_result"
    }
   ],
   "source": [
    "def getDfSummary(input_data):\n",
    "    summary = input_data.describe().transpose()\n",
    "    summary = summary.drop(['count'], axis=1)\n",
    "\n",
    "    number_distinct = input_data.unstack().groupby(level=0).nunique(dropna=True)\n",
    "    number_distinct.name = \"number_distinct\"\n",
    "\n",
    "    number_nan = input_data.isnull().sum()\n",
    "    number_nan.name = \"number_nan\"\n",
    "    \n",
    "    data_type = input_data.dtypes\n",
    "    data_type.name = \"type\"\n",
    "\n",
    "    output_data = pd.concat([data_type,summary, number_distinct, number_nan], axis=1)\n",
    "\n",
    "    \n",
    "    return output_data\n",
    "\n",
    "getDfSummary(data_simple)"
   ]
  },
  {
   "cell_type": "code",
   "execution_count": 43,
   "metadata": {
    "collapsed": false
   },
   "outputs": [
    {
     "data": {
      "text/html": [
       "<div>\n",
       "<table border=\"1\" class=\"dataframe\">\n",
       "  <thead>\n",
       "    <tr style=\"text-align: right;\">\n",
       "      <th></th>\n",
       "      <th>SADA_CODE</th>\n",
       "      <th>AREG_SEQ_NBR</th>\n",
       "      <th>BOFI_NBR</th>\n",
       "      <th>DFDN_SEQ_NBR</th>\n",
       "      <th>SCREENING_DISP_CODE</th>\n",
       "      <th>SYS_NBR</th>\n",
       "      <th>POLICE_RPT_DATE</th>\n",
       "      <th>POLICE_RPT_DAYS</th>\n",
       "      <th>SCREENING_DAYS</th>\n",
       "      <th>SCREENING_DISP_DATE</th>\n",
       "      <th>...</th>\n",
       "      <th>SADA_RACE</th>\n",
       "      <th>SADA_SEX</th>\n",
       "      <th>SADA_PARTY</th>\n",
       "      <th>SADA_ALT_PARTY</th>\n",
       "      <th>JUVENILE_FLAG</th>\n",
       "      <th>CRIMINAL_FLAG</th>\n",
       "      <th>FBI_NBR</th>\n",
       "      <th>DOB</th>\n",
       "      <th>SEX</th>\n",
       "      <th>RACE</th>\n",
       "    </tr>\n",
       "  </thead>\n",
       "  <tbody>\n",
       "  </tbody>\n",
       "</table>\n",
       "<p>0 rows × 32 columns</p>\n",
       "</div>"
      ],
      "text/plain": [
       "Empty DataFrame\n",
       "Columns: [SADA_CODE, AREG_SEQ_NBR, BOFI_NBR, DFDN_SEQ_NBR, SCREENING_DISP_CODE, SYS_NBR, POLICE_RPT_DATE, POLICE_RPT_DAYS, SCREENING_DAYS, SCREENING_DISP_DATE, ARREST_CREDIT_CODE, ARREST_DATE, ADD_DATE, CHARGE_CAT, CHARGE_CLASS, CHARGE_TYPE, HABITUAL_OFFENDER_FLAG, FINAL_DETENTION_FLAG, INITIAL_DETENTION_FLAG, LEAD_CHARGE_CODE, SADA_BAR_ADMISSION, SADA_DOB, SADA_RACE, SADA_SEX, SADA_PARTY, SADA_ALT_PARTY, JUVENILE_FLAG, CRIMINAL_FLAG, FBI_NBR, DOB, SEX, RACE]\n",
       "Index: []\n",
       "\n",
       "[0 rows x 32 columns]"
      ]
     },
     "execution_count": 43,
     "metadata": {},
     "output_type": "execute_result"
    }
   ],
   "source": [
    "#verify that 'BOFI_NBR','DFDN_SEQ_NBR','SYS_NBR', 'SADA_CODE', 'AREG_SEQ_NBR' uniquely identify this table\n",
    "#each row represents an arrest\n",
    "data_simple[data_simple.duplicated(['BOFI_NBR','DFDN_SEQ_NBR','SYS_NBR', 'SADA_CODE', 'AREG_SEQ_NBR'],keep=False)]"
   ]
  },
  {
   "cell_type": "code",
   "execution_count": 44,
   "metadata": {
    "collapsed": true
   },
   "outputs": [],
   "source": [
    "data_simple['CHRG_ACCEPTED'] = np.where(data_simple['SCREENING_DISP_CODE']==230,1,0)\n",
    "data_simple['CHRG_REJECTED'] = np.where(data_simple['SCREENING_DISP_CODE']!=230,1,0)"
   ]
  },
  {
   "cell_type": "code",
   "execution_count": 45,
   "metadata": {
    "collapsed": false
   },
   "outputs": [],
   "source": [
    "by_sada = data_simple.groupby(['SADA_CODE'])['CHRG_ACCEPTED','CHRG_REJECTED'].sum()"
   ]
  },
  {
   "cell_type": "code",
   "execution_count": 179,
   "metadata": {
    "collapsed": false
   },
   "outputs": [
    {
     "data": {
      "text/plain": [
       "(302, 4)"
      ]
     },
     "execution_count": 179,
     "metadata": {},
     "output_type": "execute_result"
    }
   ],
   "source": [
    "by_sada.shape"
   ]
  },
  {
   "cell_type": "code",
   "execution_count": 172,
   "metadata": {
    "collapsed": false
   },
   "outputs": [],
   "source": [
    "by_sada['NBR_CASES'] = by_sada['CHRG_ACCEPTED'] + by_sada['CHRG_REJECTED'] \n",
    "by_sada['CHRG_RATE'] = by_sada['CHRG_ACCEPTED']/(by_sada['NBR_CASES'])"
   ]
  },
  {
   "cell_type": "code",
   "execution_count": 173,
   "metadata": {
    "collapsed": false
   },
   "outputs": [
    {
     "data": {
      "text/html": [
       "<div>\n",
       "<table border=\"1\" class=\"dataframe\">\n",
       "  <thead>\n",
       "    <tr style=\"text-align: right;\">\n",
       "      <th></th>\n",
       "      <th>type</th>\n",
       "      <th>mean</th>\n",
       "      <th>std</th>\n",
       "      <th>min</th>\n",
       "      <th>25%</th>\n",
       "      <th>50%</th>\n",
       "      <th>75%</th>\n",
       "      <th>max</th>\n",
       "      <th>number_distinct</th>\n",
       "      <th>number_nan</th>\n",
       "    </tr>\n",
       "  </thead>\n",
       "  <tbody>\n",
       "    <tr>\n",
       "      <th>CHRG_ACCEPTED</th>\n",
       "      <td>int32</td>\n",
       "      <td>360.062914</td>\n",
       "      <td>806.982328</td>\n",
       "      <td>0.0</td>\n",
       "      <td>4.000000</td>\n",
       "      <td>22.500000</td>\n",
       "      <td>261.750000</td>\n",
       "      <td>6423.0</td>\n",
       "      <td>159</td>\n",
       "      <td>0</td>\n",
       "    </tr>\n",
       "    <tr>\n",
       "      <th>CHRG_REJECTED</th>\n",
       "      <td>int32</td>\n",
       "      <td>477.874172</td>\n",
       "      <td>1152.450253</td>\n",
       "      <td>0.0</td>\n",
       "      <td>1.000000</td>\n",
       "      <td>21.000000</td>\n",
       "      <td>437.500000</td>\n",
       "      <td>10671.0</td>\n",
       "      <td>153</td>\n",
       "      <td>0</td>\n",
       "    </tr>\n",
       "    <tr>\n",
       "      <th>CHRG_RATE</th>\n",
       "      <td>float64</td>\n",
       "      <td>0.572253</td>\n",
       "      <td>0.307570</td>\n",
       "      <td>0.0</td>\n",
       "      <td>0.377527</td>\n",
       "      <td>0.564272</td>\n",
       "      <td>0.837661</td>\n",
       "      <td>1.0</td>\n",
       "      <td>193</td>\n",
       "      <td>0</td>\n",
       "    </tr>\n",
       "    <tr>\n",
       "      <th>NBR_CASES</th>\n",
       "      <td>int32</td>\n",
       "      <td>837.937086</td>\n",
       "      <td>1910.870086</td>\n",
       "      <td>1.0</td>\n",
       "      <td>6.000000</td>\n",
       "      <td>51.000000</td>\n",
       "      <td>727.750000</td>\n",
       "      <td>17094.0</td>\n",
       "      <td>175</td>\n",
       "      <td>0</td>\n",
       "    </tr>\n",
       "  </tbody>\n",
       "</table>\n",
       "</div>"
      ],
      "text/plain": [
       "                  type        mean          std  min       25%        50%  \\\n",
       "CHRG_ACCEPTED    int32  360.062914   806.982328  0.0  4.000000  22.500000   \n",
       "CHRG_REJECTED    int32  477.874172  1152.450253  0.0  1.000000  21.000000   \n",
       "CHRG_RATE      float64    0.572253     0.307570  0.0  0.377527   0.564272   \n",
       "NBR_CASES        int32  837.937086  1910.870086  1.0  6.000000  51.000000   \n",
       "\n",
       "                      75%      max  number_distinct  number_nan  \n",
       "CHRG_ACCEPTED  261.750000   6423.0              159           0  \n",
       "CHRG_REJECTED  437.500000  10671.0              153           0  \n",
       "CHRG_RATE        0.837661      1.0              193           0  \n",
       "NBR_CASES      727.750000  17094.0              175           0  "
      ]
     },
     "execution_count": 173,
     "metadata": {},
     "output_type": "execute_result"
    }
   ],
   "source": [
    "getDfSummary(by_sada)"
   ]
  },
  {
   "cell_type": "code",
   "execution_count": 174,
   "metadata": {
    "collapsed": false
   },
   "outputs": [
    {
     "data": {
      "text/plain": [
       "(array([ 257.,   24.,   11.,    4.,    2.,    2.,    1.,    0.,    0.,    1.]),\n",
       " array([  1.00000000e+00,   1.71030000e+03,   3.41960000e+03,\n",
       "          5.12890000e+03,   6.83820000e+03,   8.54750000e+03,\n",
       "          1.02568000e+04,   1.19661000e+04,   1.36754000e+04,\n",
       "          1.53847000e+04,   1.70940000e+04]),\n",
       " <a list of 10 Patch objects>)"
      ]
     },
     "execution_count": 174,
     "metadata": {},
     "output_type": "execute_result"
    },
    {
     "data": {
      "image/png": "[encoded data removed]",
      "text/plain": [
       "<matplotlib.figure.Figure at 0x4d0e780>"
      ]
     },
     "metadata": {},
     "output_type": "display_data"
    }
   ],
   "source": [
    "#histogram of number of cases seen by each screener\n",
    "plt.hist(by_sada['NBR_CASES'])"
   ]
  },
  {
   "cell_type": "code",
   "execution_count": 168,
   "metadata": {
    "collapsed": false
   },
   "outputs": [
    {
     "data": {
      "text/plain": [
       "(array([ 31.,   7.,  11.,  43.,  37.,  35.,  32.,  20.,  28.,  58.]),\n",
       " array([ 0. ,  0.1,  0.2,  0.3,  0.4,  0.5,  0.6,  0.7,  0.8,  0.9,  1. ]),\n",
       " <a list of 10 Patch objects>)"
      ]
     },
     "execution_count": 168,
     "metadata": {},
     "output_type": "execute_result"
    },
    {
     "data": {
      "image/png": "[encoded data removed]",
      "text/plain": [
       "<matplotlib.figure.Figure at 0x20a086a0>"
      ]
     },
     "metadata": {},
     "output_type": "display_data"
    }
   ],
   "source": [
    "#plot histogram ofr acceptance rate\n",
    "\n",
    "#drop\n",
    "plt.hist(by_sada['CHRG_RATE'])"
   ]
  },
  {
   "cell_type": "code",
   "execution_count": 114,
   "metadata": {
    "collapsed": true
   },
   "outputs": [],
   "source": [
    "def to_date(col):\n",
    "    '''Given a pandas series, returns pandas dates for non-missing valid dates'''\n",
    "    col.dropna(inplace=True)\n",
    "    col = col[col!=0]\n",
    "    col = col.astype(int)\n",
    "    converted = pd.to_datetime(col, format='%Y%m%d')\n",
    "    return converted\n",
    "    \n",
    "    \n",
    "    "
   ]
  },
  {
   "cell_type": "code",
   "execution_count": 142,
   "metadata": {
    "collapsed": false
   },
   "outputs": [],
   "source": [
    "compare_dates=pd.DataFrame()\n",
    "compare_dates['ADD_DATE'] = to_date(data_simple['ADD_DATE'])\n",
    "compare_dates['ARREST_DATE'] = to_date(data_simple['ARREST_DATE'])"
   ]
  },
  {
   "cell_type": "code",
   "execution_count": 144,
   "metadata": {
    "collapsed": false
   },
   "outputs": [],
   "source": [
    "compare_dates['DATE_CHECK'] = compare_dates['ADD_DATE']==compare_dates['ARREST_DATE']"
   ]
  },
  {
   "cell_type": "code",
   "execution_count": 156,
   "metadata": {
    "collapsed": false
   },
   "outputs": [
    {
     "data": {
      "text/plain": [
       "(102204, 3)"
      ]
     },
     "execution_count": 156,
     "metadata": {},
     "output_type": "execute_result"
    }
   ],
   "source": [
    "compare_dates[(compare_dates['DATE_CHECK']==False)&(pd.isnull(compare_dates['ARREST_DATE'])==False)].shape"
   ]
  },
  {
   "cell_type": "code",
   "execution_count": 208,
   "metadata": {
    "collapsed": false
   },
   "outputs": [],
   "source": [
    "compare_dates['YEAR'] = pd.DatetimeIndex(compare_dates['ARREST_DATE']).year \n",
    "compare_dates['MONTH'] = pd.DatetimeIndex(compare_dates['ARREST_DATE']).month \n",
    "compare_dates['YM'] = compare_dates['ARREST_DATE'].map(lambda x: x.strftime('%Y-%m') if pd.notnull(x) else '') \n"
   ]
  },
  {
   "cell_type": "code",
   "execution_count": 184,
   "metadata": {
    "collapsed": false
   },
   "outputs": [
    {
     "data": {
      "text/html": [
       "<div>\n",
       "<table border=\"1\" class=\"dataframe\">\n",
       "  <thead>\n",
       "    <tr style=\"text-align: right;\">\n",
       "      <th></th>\n",
       "      <th>type</th>\n",
       "      <th>mean</th>\n",
       "      <th>std</th>\n",
       "      <th>min</th>\n",
       "      <th>25%</th>\n",
       "      <th>50%</th>\n",
       "      <th>75%</th>\n",
       "      <th>max</th>\n",
       "      <th>number_distinct</th>\n",
       "      <th>number_nan</th>\n",
       "    </tr>\n",
       "  </thead>\n",
       "  <tbody>\n",
       "    <tr>\n",
       "      <th>ADD_DATE</th>\n",
       "      <td>datetime64[ns]</td>\n",
       "      <td>NaN</td>\n",
       "      <td>NaN</td>\n",
       "      <td>NaN</td>\n",
       "      <td>NaN</td>\n",
       "      <td>NaN</td>\n",
       "      <td>NaN</td>\n",
       "      <td>NaN</td>\n",
       "      <td>3305</td>\n",
       "      <td>0</td>\n",
       "    </tr>\n",
       "    <tr>\n",
       "      <th>ARREST_DATE</th>\n",
       "      <td>datetime64[ns]</td>\n",
       "      <td>NaN</td>\n",
       "      <td>NaN</td>\n",
       "      <td>NaN</td>\n",
       "      <td>NaN</td>\n",
       "      <td>NaN</td>\n",
       "      <td>NaN</td>\n",
       "      <td>NaN</td>\n",
       "      <td>4258</td>\n",
       "      <td>2702</td>\n",
       "    </tr>\n",
       "    <tr>\n",
       "      <th>DATE_CHECK</th>\n",
       "      <td>bool</td>\n",
       "      <td>NaN</td>\n",
       "      <td>NaN</td>\n",
       "      <td>NaN</td>\n",
       "      <td>NaN</td>\n",
       "      <td>NaN</td>\n",
       "      <td>NaN</td>\n",
       "      <td>NaN</td>\n",
       "      <td>2</td>\n",
       "      <td>0</td>\n",
       "    </tr>\n",
       "    <tr>\n",
       "      <th>YEAR</th>\n",
       "      <td>float64</td>\n",
       "      <td>1994.215628</td>\n",
       "      <td>3.287641</td>\n",
       "      <td>1901.0</td>\n",
       "      <td>1991.0</td>\n",
       "      <td>1994.0</td>\n",
       "      <td>1997.0</td>\n",
       "      <td>1999.0</td>\n",
       "      <td>40</td>\n",
       "      <td>2702</td>\n",
       "    </tr>\n",
       "  </tbody>\n",
       "</table>\n",
       "</div>"
      ],
      "text/plain": [
       "                       type         mean       std     min     25%     50%  \\\n",
       "ADD_DATE     datetime64[ns]          NaN       NaN     NaN     NaN     NaN   \n",
       "ARREST_DATE  datetime64[ns]          NaN       NaN     NaN     NaN     NaN   \n",
       "DATE_CHECK             bool          NaN       NaN     NaN     NaN     NaN   \n",
       "YEAR                float64  1994.215628  3.287641  1901.0  1991.0  1994.0   \n",
       "\n",
       "                75%     max  number_distinct  number_nan  \n",
       "ADD_DATE        NaN     NaN             3305           0  \n",
       "ARREST_DATE     NaN     NaN             4258        2702  \n",
       "DATE_CHECK      NaN     NaN                2           0  \n",
       "YEAR         1997.0  1999.0               40        2702  "
      ]
     },
     "execution_count": 184,
     "metadata": {},
     "output_type": "execute_result"
    }
   ],
   "source": [
    "#NUMBER_DISTINCT is wrong for ARREST_DATE.  Unique column is right.\n",
    "getDfSummary(compare_dates)"
   ]
  },
  {
   "cell_type": "code",
   "execution_count": 244,
   "metadata": {
    "collapsed": false
   },
   "outputs": [
    {
     "data": {
      "image/png": "[encoded data removed]",
      "text/plain": [
       "<matplotlib.figure.Figure at 0x19650b70>"
      ]
     },
     "metadata": {},
     "output_type": "display_data"
    }
   ],
   "source": [
    "by_ym = compare_dates[compare_dates['YEAR']>=1988].groupby('YM')['YM'].count()\n",
    "plt.figure(figsize=(14, 7))\n",
    "plt.title('Number of Arrests by Month')\n",
    "plt.plot(np.arange(0,len(by_ym)),by_ym)\n",
    "plt.tick_params(which='major')\n",
    "plt.xticks(np.arange(0,len(by_ym),10), by_ym.index[::10], rotation='vertical');"
   ]
  },
  {
   "cell_type": "code",
   "execution_count": 255,
   "metadata": {
    "collapsed": false
   },
   "outputs": [
    {
     "data": {
      "text/plain": [
       "[<matplotlib.lines.Line2D at 0x19c75ba8>]"
      ]
     },
     "execution_count": 255,
     "metadata": {},
     "output_type": "execute_result"
    },
    {
     "data": {
      "image/png": "[encoded data removed]",
      "text/plain": [
       "<matplotlib.figure.Figure at 0x19abd3c8>"
      ]
     },
     "metadata": {},
     "output_type": "display_data"
    }
   ],
   "source": [
    "by_year = compare_dates[compare_dates['YEAR']>=1988].groupby('YEAR')['YEAR'].count()\n",
    "plt.figure(figsize=(14, 7))\n",
    "plt.title('Number of Arrests by Year')\n",
    "plt.plot(by_ym.index,by_year)"
   ]
  },
  {
   "cell_type": "code",
   "execution_count": 253,
   "metadata": {
    "collapsed": false
   },
   "outputs": [
    {
     "data": {
      "text/plain": [
       "<function matplotlib.pyplot.axis>"
      ]
     },
     "execution_count": 253,
     "metadata": {},
     "output_type": "execute_result"
    }
   ],
   "source": [
    "plt.axis"
   ]
  },
  {
   "cell_type": "code",
   "execution_count": null,
   "metadata": {
    "collapsed": true
   },
   "outputs": [],
   "source": []
  }
 ],
 "metadata": {
  "kernelspec": {
   "display_name": "Python 3",
   "language": "python",
   "name": "python3"
  },
  "language_info": {
   "codemirror_mode": {
    "name": "ipython",
    "version": 3
   },
   "file_extension": ".py",
   "mimetype": "text/x-python",
   "name": "python",
   "nbconvert_exporter": "python",
   "pygments_lexer": "ipython3",
   "version": "3.6.0"
  }
 },
 "nbformat": 4,
 "nbformat_minor": 2
}
