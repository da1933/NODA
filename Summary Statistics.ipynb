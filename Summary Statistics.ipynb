{
 "cells": [
  {
   "cell_type": "code",
   "execution_count": 9,
   "metadata": {
    "collapsed": true
   },
   "outputs": [],
   "source": [
    "import numpy as np\n",
    "import pandas as pd\n",
    "import matplotlib.pyplot as plt\n",
    "%matplotlib inline"
   ]
  },
  {
   "cell_type": "code",
   "execution_count": 10,
   "metadata": {
    "collapsed": true
   },
   "outputs": [],
   "source": [
    "data_simple = pd.read_csv('data_simple.csv', encoding = \"ISO-8859-1\", low_memory=False, index_col=0)"
   ]
  },
  {
   "cell_type": "code",
   "execution_count": 11,
   "metadata": {
    "collapsed": false
   },
   "outputs": [],
   "source": [
    "def getDfSummary(input_data):\n",
    "    summary = input_data.describe().transpose()\n",
    "    summary = summary.drop(['count'], axis=1)\n",
    "\n",
    "    number_distinct = input_data.unstack().groupby(level=0).nunique(dropna=True)\n",
    "    number_distinct.name = \"number_distinct\"\n",
    "\n",
    "    number_nan = input_data.isnull().sum()\n",
    "    number_nan.name = \"number_nan\"\n",
    "    \n",
    "    data_type = input_data.dtypes\n",
    "    data_type.name = \"type\"\n",
    "    \n",
    "    count = input_data.count()\n",
    "    count.name='valid_count'\n",
    "\n",
    "    output_data = pd.concat([data_type,summary, number_distinct, count, number_nan], axis=1)\n",
    "\n",
    "    \n",
    "    return output_data\n"
   ]
  },
  {
   "cell_type": "code",
   "execution_count": 13,
   "metadata": {
    "collapsed": false
   },
   "outputs": [
    {
     "data": {
      "text/html": [
       "<div>\n",
       "<table border=\"1\" class=\"dataframe\">\n",
       "  <thead>\n",
       "    <tr style=\"text-align: right;\">\n",
       "      <th></th>\n",
       "      <th>SADA_CODE</th>\n",
       "      <th>BOFI_NBR</th>\n",
       "      <th>DFDN_SEQ_NBR</th>\n",
       "      <th>SCREENING_DISP_CODE</th>\n",
       "      <th>SYS_NBR</th>\n",
       "      <th>POLICE_RPT_DATE</th>\n",
       "      <th>POLICE_RPT_DAYS</th>\n",
       "      <th>SCREENING_DAYS</th>\n",
       "      <th>SCREENING_DISP_DATE</th>\n",
       "      <th>ARREST_CREDIT_CODE</th>\n",
       "      <th>...</th>\n",
       "      <th>SADA_DOB</th>\n",
       "      <th>SADA_RACE</th>\n",
       "      <th>SADA_SEX</th>\n",
       "      <th>SADA_PARTY</th>\n",
       "      <th>JUVENILE_FLAG</th>\n",
       "      <th>CRIMINAL_FLAG</th>\n",
       "      <th>FBI_NBR</th>\n",
       "      <th>DOB</th>\n",
       "      <th>SEX</th>\n",
       "      <th>RACE</th>\n",
       "    </tr>\n",
       "  </thead>\n",
       "  <tbody>\n",
       "  </tbody>\n",
       "</table>\n",
       "<p>0 rows × 29 columns</p>\n",
       "</div>"
      ],
      "text/plain": [
       "Empty DataFrame\n",
       "Columns: [SADA_CODE, BOFI_NBR, DFDN_SEQ_NBR, SCREENING_DISP_CODE, SYS_NBR, POLICE_RPT_DATE, POLICE_RPT_DAYS, SCREENING_DAYS, SCREENING_DISP_DATE, ARREST_CREDIT_CODE, ARREST_DATE, ADD_DATE, CHARGE_CLASS, CHARGE_TYPE, HABITUAL_OFFENDER_FLAG, FINAL_DETENTION_FLAG, INITIAL_DETENTION_FLAG, LEAD_CHARGE_CODE, SADA_BAR_ADMISSION, SADA_DOB, SADA_RACE, SADA_SEX, SADA_PARTY, JUVENILE_FLAG, CRIMINAL_FLAG, FBI_NBR, DOB, SEX, RACE]\n",
       "Index: []\n",
       "\n",
       "[0 rows x 29 columns]"
      ]
     },
     "execution_count": 13,
     "metadata": {},
     "output_type": "execute_result"
    }
   ],
   "source": [
    "#verify that 'BOFI_NBR','DFDN_SEQ_NBR','SYS_NBR', 'SADA_CODE', 'AREG_SEQ_NBR' uniquely identify this table\n",
    "#each row represents an arrest\n",
    "data_simple[data_simple.duplicated(['BOFI_NBR','DFDN_SEQ_NBR','SYS_NBR', 'SADA_CODE'],keep=False)]"
   ]
  },
  {
   "cell_type": "code",
   "execution_count": 14,
   "metadata": {
    "collapsed": true
   },
   "outputs": [],
   "source": [
    "data_simple['CHRG_ACCEPTED'] = np.where(data_simple['SCREENING_DISP_CODE']==230,1,0)\n",
    "data_simple['CHRG_REJECTED'] = np.where(data_simple['SCREENING_DISP_CODE']!=230,1,0)"
   ]
  },
  {
   "cell_type": "code",
   "execution_count": 15,
   "metadata": {
    "collapsed": false
   },
   "outputs": [],
   "source": [
    "by_sada = data_simple.groupby(['SADA_CODE'])['CHRG_ACCEPTED','CHRG_REJECTED'].sum()"
   ]
  },
  {
   "cell_type": "code",
   "execution_count": 16,
   "metadata": {
    "collapsed": false
   },
   "outputs": [
    {
     "data": {
      "text/plain": [
       "(302, 2)"
      ]
     },
     "execution_count": 16,
     "metadata": {},
     "output_type": "execute_result"
    }
   ],
   "source": [
    "by_sada.shape"
   ]
  },
  {
   "cell_type": "code",
   "execution_count": 17,
   "metadata": {
    "collapsed": false
   },
   "outputs": [],
   "source": [
    "by_sada['NBR_CASES'] = by_sada['CHRG_ACCEPTED'] + by_sada['CHRG_REJECTED'] \n",
    "by_sada['CHRG_RATE'] = by_sada['CHRG_ACCEPTED']/(by_sada['NBR_CASES'])"
   ]
  },
  {
   "cell_type": "code",
   "execution_count": 18,
   "metadata": {
    "collapsed": false
   },
   "outputs": [
    {
     "data": {
      "text/html": [
       "<div>\n",
       "<table border=\"1\" class=\"dataframe\">\n",
       "  <thead>\n",
       "    <tr style=\"text-align: right;\">\n",
       "      <th></th>\n",
       "      <th>type</th>\n",
       "      <th>mean</th>\n",
       "      <th>std</th>\n",
       "      <th>min</th>\n",
       "      <th>25%</th>\n",
       "      <th>50%</th>\n",
       "      <th>75%</th>\n",
       "      <th>max</th>\n",
       "      <th>number_distinct</th>\n",
       "      <th>valid_count</th>\n",
       "      <th>number_nan</th>\n",
       "    </tr>\n",
       "  </thead>\n",
       "  <tbody>\n",
       "    <tr>\n",
       "      <th>CHRG_ACCEPTED</th>\n",
       "      <td>int64</td>\n",
       "      <td>360.062914</td>\n",
       "      <td>806.982328</td>\n",
       "      <td>0.0</td>\n",
       "      <td>4.000000</td>\n",
       "      <td>22.500000</td>\n",
       "      <td>261.750000</td>\n",
       "      <td>6423.0</td>\n",
       "      <td>159</td>\n",
       "      <td>302</td>\n",
       "      <td>0</td>\n",
       "    </tr>\n",
       "    <tr>\n",
       "      <th>CHRG_REJECTED</th>\n",
       "      <td>int64</td>\n",
       "      <td>477.874172</td>\n",
       "      <td>1152.450253</td>\n",
       "      <td>0.0</td>\n",
       "      <td>1.000000</td>\n",
       "      <td>21.000000</td>\n",
       "      <td>437.500000</td>\n",
       "      <td>10671.0</td>\n",
       "      <td>153</td>\n",
       "      <td>302</td>\n",
       "      <td>0</td>\n",
       "    </tr>\n",
       "    <tr>\n",
       "      <th>NBR_CASES</th>\n",
       "      <td>int64</td>\n",
       "      <td>837.937086</td>\n",
       "      <td>1910.870086</td>\n",
       "      <td>1.0</td>\n",
       "      <td>6.000000</td>\n",
       "      <td>51.000000</td>\n",
       "      <td>727.750000</td>\n",
       "      <td>17094.0</td>\n",
       "      <td>175</td>\n",
       "      <td>302</td>\n",
       "      <td>0</td>\n",
       "    </tr>\n",
       "    <tr>\n",
       "      <th>CHRG_RATE</th>\n",
       "      <td>float64</td>\n",
       "      <td>0.572253</td>\n",
       "      <td>0.307570</td>\n",
       "      <td>0.0</td>\n",
       "      <td>0.377527</td>\n",
       "      <td>0.564272</td>\n",
       "      <td>0.837661</td>\n",
       "      <td>1.0</td>\n",
       "      <td>193</td>\n",
       "      <td>302</td>\n",
       "      <td>0</td>\n",
       "    </tr>\n",
       "  </tbody>\n",
       "</table>\n",
       "</div>"
      ],
      "text/plain": [
       "                  type        mean          std  min       25%        50%  \\\n",
       "CHRG_ACCEPTED    int64  360.062914   806.982328  0.0  4.000000  22.500000   \n",
       "CHRG_REJECTED    int64  477.874172  1152.450253  0.0  1.000000  21.000000   \n",
       "NBR_CASES        int64  837.937086  1910.870086  1.0  6.000000  51.000000   \n",
       "CHRG_RATE      float64    0.572253     0.307570  0.0  0.377527   0.564272   \n",
       "\n",
       "                      75%      max  number_distinct  valid_count  number_nan  \n",
       "CHRG_ACCEPTED  261.750000   6423.0              159          302           0  \n",
       "CHRG_REJECTED  437.500000  10671.0              153          302           0  \n",
       "NBR_CASES      727.750000  17094.0              175          302           0  \n",
       "CHRG_RATE        0.837661      1.0              193          302           0  "
      ]
     },
     "execution_count": 18,
     "metadata": {},
     "output_type": "execute_result"
    }
   ],
   "source": [
    "getDfSummary(by_sada)"
   ]
  },
  {
   "cell_type": "code",
   "execution_count": 19,
   "metadata": {
    "collapsed": false
   },
   "outputs": [
    {
     "data": {
      "text/plain": [
       "(array([ 257.,   24.,   11.,    4.,    2.,    2.,    1.,    0.,    0.,    1.]),\n",
       " array([  1.00000000e+00,   1.71030000e+03,   3.41960000e+03,\n",
       "          5.12890000e+03,   6.83820000e+03,   8.54750000e+03,\n",
       "          1.02568000e+04,   1.19661000e+04,   1.36754000e+04,\n",
       "          1.53847000e+04,   1.70940000e+04]),\n",
       " <a list of 10 Patch objects>)"
      ]
     },
     "execution_count": 19,
     "metadata": {},
     "output_type": "execute_result"
    },
    {
     "data": {
      "image/png": "[encoded data removed]",
      "text/plain": [
       "<matplotlib.figure.Figure at 0x115d3d860>"
      ]
     },
     "metadata": {},
     "output_type": "display_data"
    }
   ],
   "source": [
    "#histogram of number of cases seen by each screener\n",
    "plt.hist(by_sada['NBR_CASES'])"
   ]
  },
  {
   "cell_type": "code",
   "execution_count": 20,
   "metadata": {
    "collapsed": false
   },
   "outputs": [
    {
     "data": {
      "text/plain": [
       "(array([ 31.,   7.,  11.,  43.,  37.,  35.,  32.,  20.,  28.,  58.]),\n",
       " array([ 0. ,  0.1,  0.2,  0.3,  0.4,  0.5,  0.6,  0.7,  0.8,  0.9,  1. ]),\n",
       " <a list of 10 Patch objects>)"
      ]
     },
     "execution_count": 20,
     "metadata": {},
     "output_type": "execute_result"
    },
    {
     "data": {
      "image/png": "[encoded data removed]",
      "text/plain": [
       "<matplotlib.figure.Figure at 0x1129254a8>"
      ]
     },
     "metadata": {},
     "output_type": "display_data"
    }
   ],
   "source": [
    "#plot histogram ofr acceptance rate\n",
    "\n",
    "#drop\n",
    "plt.hist(by_sada['CHRG_RATE'])"
   ]
  },
  {
   "cell_type": "code",
   "execution_count": 21,
   "metadata": {
    "collapsed": true
   },
   "outputs": [],
   "source": [
    "def to_date(col):\n",
    "    '''Given a pandas series, returns pandas dates for non-missing valid dates'''\n",
    "    col.dropna(inplace=True)\n",
    "    col = col[col!=0]\n",
    "    col = col.astype(int)\n",
    "    converted = pd.to_datetime(col, format='%Y%m%d')\n",
    "    return converted\n",
    "    \n",
    "    \n",
    "    "
   ]
  },
  {
   "cell_type": "code",
   "execution_count": 22,
   "metadata": {
    "collapsed": false
   },
   "outputs": [],
   "source": [
    "compare_dates=pd.DataFrame()\n",
    "compare_dates['ADD_DATE'] = to_date(data_simple['ADD_DATE'])\n",
    "compare_dates['ARREST_DATE'] = to_date(data_simple['ARREST_DATE'])"
   ]
  },
  {
   "cell_type": "code",
   "execution_count": 23,
   "metadata": {
    "collapsed": false
   },
   "outputs": [],
   "source": [
    "compare_dates['DATE_CHECK'] = compare_dates['ADD_DATE']==compare_dates['ARREST_DATE']"
   ]
  },
  {
   "cell_type": "code",
   "execution_count": 24,
   "metadata": {
    "collapsed": false
   },
   "outputs": [
    {
     "data": {
      "text/plain": [
       "(102204, 3)"
      ]
     },
     "execution_count": 24,
     "metadata": {},
     "output_type": "execute_result"
    }
   ],
   "source": [
    "compare_dates[(compare_dates['DATE_CHECK']==False)&(pd.isnull(compare_dates['ARREST_DATE'])==False)].shape"
   ]
  },
  {
   "cell_type": "code",
   "execution_count": 25,
   "metadata": {
    "collapsed": false
   },
   "outputs": [],
   "source": [
    "compare_dates['YEAR'] = pd.DatetimeIndex(compare_dates['ARREST_DATE']).year \n",
    "compare_dates['MONTH'] = pd.DatetimeIndex(compare_dates['ARREST_DATE']).month \n",
    "compare_dates['YM'] = compare_dates['ARREST_DATE'].map(lambda x: x.strftime('%Y-%m') if pd.notnull(x) else '') \n"
   ]
  },
  {
   "cell_type": "code",
   "execution_count": 26,
   "metadata": {
    "collapsed": false
   },
   "outputs": [
    {
     "data": {
      "text/html": [
       "<div>\n",
       "<table border=\"1\" class=\"dataframe\">\n",
       "  <thead>\n",
       "    <tr style=\"text-align: right;\">\n",
       "      <th></th>\n",
       "      <th>type</th>\n",
       "      <th>mean</th>\n",
       "      <th>std</th>\n",
       "      <th>min</th>\n",
       "      <th>25%</th>\n",
       "      <th>50%</th>\n",
       "      <th>75%</th>\n",
       "      <th>max</th>\n",
       "      <th>number_distinct</th>\n",
       "      <th>valid_count</th>\n",
       "      <th>number_nan</th>\n",
       "    </tr>\n",
       "  </thead>\n",
       "  <tbody>\n",
       "    <tr>\n",
       "      <th>ADD_DATE</th>\n",
       "      <td>datetime64[ns]</td>\n",
       "      <td>NaN</td>\n",
       "      <td>NaN</td>\n",
       "      <td>NaN</td>\n",
       "      <td>NaN</td>\n",
       "      <td>NaN</td>\n",
       "      <td>NaN</td>\n",
       "      <td>NaN</td>\n",
       "      <td>3305</td>\n",
       "      <td>150758</td>\n",
       "      <td>0</td>\n",
       "    </tr>\n",
       "    <tr>\n",
       "      <th>ARREST_DATE</th>\n",
       "      <td>datetime64[ns]</td>\n",
       "      <td>NaN</td>\n",
       "      <td>NaN</td>\n",
       "      <td>NaN</td>\n",
       "      <td>NaN</td>\n",
       "      <td>NaN</td>\n",
       "      <td>NaN</td>\n",
       "      <td>NaN</td>\n",
       "      <td>4258</td>\n",
       "      <td>148056</td>\n",
       "      <td>2702</td>\n",
       "    </tr>\n",
       "    <tr>\n",
       "      <th>DATE_CHECK</th>\n",
       "      <td>bool</td>\n",
       "      <td>NaN</td>\n",
       "      <td>NaN</td>\n",
       "      <td>NaN</td>\n",
       "      <td>NaN</td>\n",
       "      <td>NaN</td>\n",
       "      <td>NaN</td>\n",
       "      <td>NaN</td>\n",
       "      <td>2</td>\n",
       "      <td>150758</td>\n",
       "      <td>0</td>\n",
       "    </tr>\n",
       "    <tr>\n",
       "      <th>MONTH</th>\n",
       "      <td>float64</td>\n",
       "      <td>6.421415</td>\n",
       "      <td>3.373101</td>\n",
       "      <td>1.0</td>\n",
       "      <td>4.0</td>\n",
       "      <td>6.0</td>\n",
       "      <td>9.0</td>\n",
       "      <td>12.0</td>\n",
       "      <td>12</td>\n",
       "      <td>148056</td>\n",
       "      <td>2702</td>\n",
       "    </tr>\n",
       "    <tr>\n",
       "      <th>YEAR</th>\n",
       "      <td>float64</td>\n",
       "      <td>1994.215628</td>\n",
       "      <td>3.287641</td>\n",
       "      <td>1901.0</td>\n",
       "      <td>1991.0</td>\n",
       "      <td>1994.0</td>\n",
       "      <td>1997.0</td>\n",
       "      <td>1999.0</td>\n",
       "      <td>40</td>\n",
       "      <td>148056</td>\n",
       "      <td>2702</td>\n",
       "    </tr>\n",
       "    <tr>\n",
       "      <th>YM</th>\n",
       "      <td>object</td>\n",
       "      <td>NaN</td>\n",
       "      <td>NaN</td>\n",
       "      <td>NaN</td>\n",
       "      <td>NaN</td>\n",
       "      <td>NaN</td>\n",
       "      <td>NaN</td>\n",
       "      <td>NaN</td>\n",
       "      <td>251</td>\n",
       "      <td>150758</td>\n",
       "      <td>0</td>\n",
       "    </tr>\n",
       "  </tbody>\n",
       "</table>\n",
       "</div>"
      ],
      "text/plain": [
       "                       type         mean       std     min     25%     50%  \\\n",
       "ADD_DATE     datetime64[ns]          NaN       NaN     NaN     NaN     NaN   \n",
       "ARREST_DATE  datetime64[ns]          NaN       NaN     NaN     NaN     NaN   \n",
       "DATE_CHECK             bool          NaN       NaN     NaN     NaN     NaN   \n",
       "MONTH               float64     6.421415  3.373101     1.0     4.0     6.0   \n",
       "YEAR                float64  1994.215628  3.287641  1901.0  1991.0  1994.0   \n",
       "YM                   object          NaN       NaN     NaN     NaN     NaN   \n",
       "\n",
       "                75%     max  number_distinct  valid_count  number_nan  \n",
       "ADD_DATE        NaN     NaN             3305       150758           0  \n",
       "ARREST_DATE     NaN     NaN             4258       148056        2702  \n",
       "DATE_CHECK      NaN     NaN                2       150758           0  \n",
       "MONTH           9.0    12.0               12       148056        2702  \n",
       "YEAR         1997.0  1999.0               40       148056        2702  \n",
       "YM              NaN     NaN              251       150758           0  "
      ]
     },
     "execution_count": 26,
     "metadata": {},
     "output_type": "execute_result"
    }
   ],
   "source": [
    "#NUMBER_DISTINCT is wrong for ARREST_DATE.  Unique column is right.\n",
    "getDfSummary(compare_dates)"
   ]
  },
  {
   "cell_type": "code",
   "execution_count": 30,
   "metadata": {
    "collapsed": false
   },
   "outputs": [
    {
     "data": {
      "image/png": "[encoded data removed]",
      "text/plain": [
       "<matplotlib.figure.Figure at 0x11223e128>"
      ]
     },
     "metadata": {},
     "output_type": "display_data"
    }
   ],
   "source": [
    "by_ym = compare_dates[compare_dates['YEAR']>=1988].groupby('YM')['YM'].count()\n",
    "plt.figure(figsize=(14, 7))\n",
    "plt.title('Number of Arrests by Year and Month')\n",
    "plt.plot(np.arange(0,len(by_ym)),by_ym)\n",
    "plt.tick_params(which='major')\n",
    "plt.xticks(np.arange(0,len(by_ym),10), by_ym.index[::10], rotation='vertical');"
   ]
  },
  {
   "cell_type": "code",
   "execution_count": 29,
   "metadata": {
    "collapsed": false
   },
   "outputs": [
    {
     "data": {
      "text/plain": [
       "[<matplotlib.lines.Line2D at 0x11685fbe0>]"
      ]
     },
     "execution_count": 29,
     "metadata": {},
     "output_type": "execute_result"
    },
    {
     "data": {
      "image/png": "[encoded data removed]",
      "text/plain": [
       "<matplotlib.figure.Figure at 0x116862d68>"
      ]
     },
     "metadata": {},
     "output_type": "display_data"
    }
   ],
   "source": [
    "by_year = compare_dates[compare_dates['YEAR']>=1988].groupby('YEAR')['YEAR'].count()\n",
    "plt.figure(figsize=(14, 7))\n",
    "plt.title('Number of Arrests by Year')\n",
    "plt.plot(by_year.index,by_year)"
   ]
  },
  {
   "cell_type": "code",
   "execution_count": 31,
   "metadata": {
    "collapsed": false
   },
   "outputs": [
    {
     "data": {
      "text/plain": [
       "[<matplotlib.lines.Line2D at 0x11131f160>]"
      ]
     },
     "execution_count": 31,
     "metadata": {},
     "output_type": "execute_result"
    },
    {
     "data": {
      "image/png": "[encoded data removed]",
      "text/plain": [
       "<matplotlib.figure.Figure at 0x1112fa400>"
      ]
     },
     "metadata": {},
     "output_type": "display_data"
    }
   ],
   "source": [
    "by_month = compare_dates[compare_dates['YEAR']>=1988].groupby('MONTH')['MONTH'].count()\n",
    "plt.figure(figsize=(14, 7))\n",
    "plt.title('Number of Arrests by Month')\n",
    "plt.plot(by_month.index,by_month)"
   ]
  },
  {
   "cell_type": "code",
   "execution_count": null,
   "metadata": {
    "collapsed": true
   },
   "outputs": [],
   "source": []
  }
 ],
 "metadata": {
  "kernelspec": {
   "display_name": "Python [Root]",
   "language": "python",
   "name": "Python [Root]"
  },
  "language_info": {
   "codemirror_mode": {
    "name": "ipython",
    "version": 3
   },
   "file_extension": ".py",
   "mimetype": "text/x-python",
   "name": "python",
   "nbconvert_exporter": "python",
   "pygments_lexer": "ipython3",
   "version": "3.5.2"
  }
 },
 "nbformat": 4,
 "nbformat_minor": 2
}
