{
 "cells": [
  {
   "cell_type": "code",
   "execution_count": 51,
   "metadata": {
    "collapsed": false
   },
   "outputs": [],
   "source": [
    "import numpy as np\n",
    "import pandas as pd\n",
    "import matplotlib.pyplot as plt\n",
    "import pylab\n",
    "import project_env as pe\n",
    "import sklearn as sklearn\n",
    "import math\n",
    "from sklearn.ensemble import GradientBoostingClassifier, RandomForestClassifier\n",
    "from sklearn.model_selection import cross_val_score\n",
    "from itertools import product\n",
    "import error_analysis as ea\n",
    "from sklearn.metrics import precision_recall_curve\n",
    "from sklearn.ensemble.partial_dependence import plot_partial_dependence\n",
    "\n",
    "%matplotlib inline"
   ]
  },
  {
   "cell_type": "code",
   "execution_count": 31,
   "metadata": {
    "collapsed": false
   },
   "outputs": [],
   "source": [
    "train = pd.read_csv('data_processing/output/train.csv')\n",
    "val = pd.read_csv('data_processing/output/val.csv')\n",
    "test = pd.read_csv('data_processing/output/test.csv')"
   ]
  },
  {
   "cell_type": "markdown",
   "metadata": {},
   "source": [
    "# Target Variable"
   ]
  },
  {
   "cell_type": "code",
   "execution_count": 32,
   "metadata": {
    "collapsed": false
   },
   "outputs": [],
   "source": [
    "#target variable of rearrest in 5 years\n",
    "X_train, y_train = pe.create_target(train, years = 5)\n",
    "X_val, y_val = pe.create_target(val, years = 5)\n",
    "\n",
    "X_test, y_test = pe.create_target(test, years = 5)"
   ]
  },
  {
   "cell_type": "code",
   "execution_count": 33,
   "metadata": {
    "collapsed": false
   },
   "outputs": [
    {
     "name": "stdout",
     "output_type": "stream",
     "text": [
      "Training: 51.9046644379 percent were rearrested.\n",
      "Test: 51.8282699654 percent were rearrested.\n"
     ]
    }
   ],
   "source": [
    "unique, counts = np.unique(y_train, return_counts = True)\n",
    "percent = counts[1]/counts.sum()\n",
    "print('Training: %s percent were rearrested.' %(percent*100))\n",
    "\n",
    "unique, counts = np.unique(y_val, return_counts = True)\n",
    "percent = counts[1]/counts.sum()\n",
    "print('Test: %s percent were rearrested.' %(percent*100))\n"
   ]
  },
  {
   "cell_type": "code",
   "execution_count": 34,
   "metadata": {
    "collapsed": false
   },
   "outputs": [],
   "source": [
    "train_pj = pd.read_csv('train_pj.csv')\n",
    "val_pj = pd.read_csv('val_pj.csv')\n",
    "test_pj = pd.read_csv('test_pj.csv')\n",
    "\n",
    "subset = list(train_pj.columns[81:238])\n",
    "subset.append(\"UNIQUE_ID\")\n",
    "\n",
    "train_pj = train_pj.loc[:, subset]\n",
    "val_pj = val_pj.loc[:, subset]\n",
    "test_pj = test_pj.loc[:, subset]\n",
    "\n",
    "X_train = pd.merge(X_train, train_pj, on=\"UNIQUE_ID\")\n",
    "X_val = pd.merge(X_val, val_pj, on=\"UNIQUE_ID\")\n",
    "X_test = pd.merge(X_test, test_pj, on=\"UNIQUE_ID\")"
   ]
  },
  {
   "cell_type": "code",
   "execution_count": 35,
   "metadata": {
    "collapsed": false
   },
   "outputs": [],
   "source": [
    "#remove non-feature columns\n",
    "X_train=X_train.drop(['BOFI_NBR','SCREENING_DISP_CODE','UNIQUE_ID','NEXT_ARREST_TIME'], axis=1)\n",
    "X_val=X_val.drop(['BOFI_NBR','SCREENING_DISP_CODE','UNIQUE_ID','NEXT_ARREST_TIME'], axis=1)\n",
    "\n",
    "#Using year and month as predictive variables\n",
    "X_train=X_train.drop(['ARREST_DATE', 'ARREST_DATE_y'], axis=1)\n",
    "X_val=X_val.drop(['ARREST_DATE','ARREST_DATE_y'], axis=1)"
   ]
  },
  {
   "cell_type": "code",
   "execution_count": 36,
   "metadata": {
    "collapsed": false
   },
   "outputs": [],
   "source": [
    "#remove non-feature columns\n",
    "X_test=X_test.drop(['BOFI_NBR','SCREENING_DISP_CODE','UNIQUE_ID','NEXT_ARREST_TIME'], axis=1)\n",
    "\n",
    "#Using year and month as predictive variables\n",
    "X_test=X_test.drop(['ARREST_DATE', 'ARREST_DATE_y'], axis=1)"
   ]
  },
  {
   "cell_type": "markdown",
   "metadata": {
    "collapsed": true
   },
   "source": [
    "# Gradient Boosted Trees"
   ]
  },
  {
   "cell_type": "code",
   "execution_count": 37,
   "metadata": {
    "collapsed": false
   },
   "outputs": [],
   "source": [
    "gbt = GradientBoostingClassifier(n_estimators = 300,\\\n",
    "                               learning_rate = .1,\\\n",
    "                               max_depth = 5,\\\n",
    "                               min_samples_split = 4)\n",
    "gbt = gbt.fit(X_train,y_train)\n",
    "\n",
    "gbt_pred_train = gbt.predict(X_train)\n",
    "gbt_pred_val = gbt.predict(X_val)"
   ]
  },
  {
   "cell_type": "code",
   "execution_count": 38,
   "metadata": {
    "collapsed": false
   },
   "outputs": [
    {
     "name": "stdout",
     "output_type": "stream",
     "text": [
      "Accuracy on Training Dataset: 0.7867912942621273\n",
      "Accuracy on Val Dataset: 0.7555939603420048\n"
     ]
    }
   ],
   "source": [
    "# gbt accuracy\n",
    "gbt_accu_train = sklearn.metrics.accuracy_score(y_train,gbt_pred_train)\n",
    "gbt_accu_test = sklearn.metrics.accuracy_score(y_val,gbt_pred_val)\n",
    "\n",
    "print(\"Accuracy on Training Dataset: {}\".format(gbt_accu_train))\n",
    "print(\"Accuracy on Val Dataset: {}\".format(gbt_accu_test))"
   ]
  },
  {
   "cell_type": "code",
   "execution_count": 39,
   "metadata": {
    "collapsed": false
   },
   "outputs": [
    {
     "name": "stdout",
     "output_type": "stream",
     "text": [
      "Precision: 0.7573064433430183\n",
      "Recall: 0.7776412776412777\n",
      "F-Score: 0.7673391635639449\n"
     ]
    }
   ],
   "source": [
    "gbt_precision = sklearn.metrics.precision_score(y_val,gbt_pred_val)\n",
    "gbt_recall = sklearn.metrics.recall_score(y_val,gbt_pred_val)\n",
    "gbt_f_score = sklearn.metrics.f1_score(y_val,gbt_pred_val)\n",
    "\n",
    "print(\"Precision: {}\".format(gbt_precision))\n",
    "print(\"Recall: {}\".format(gbt_recall))\n",
    "print(\"F-Score: {}\".format(gbt_f_score))"
   ]
  },
  {
   "cell_type": "code",
   "execution_count": 40,
   "metadata": {
    "collapsed": false
   },
   "outputs": [
    {
     "data": {
      "text/plain": [
       "array([[3876, 1420],\n",
       "       [1267, 4431]])"
      ]
     },
     "execution_count": 40,
     "metadata": {},
     "output_type": "execute_result"
    }
   ],
   "source": [
    "#confusion matrix for val set\n",
    "gbt_cm = sklearn.metrics.confusion_matrix(y_val,gbt_pred_val)\n",
    "gbt_cm    #add cm.to_latex?"
   ]
  },
  {
   "cell_type": "markdown",
   "metadata": {},
   "source": [
    "#### Best Model's Predictions and Feature Importance"
   ]
  },
  {
   "cell_type": "code",
   "execution_count": 41,
   "metadata": {
    "collapsed": false
   },
   "outputs": [],
   "source": [
    "predicted_prob = gbt.predict_proba(X_val)\n",
    "predictions = gbt.predict(X_val)"
   ]
  },
  {
   "cell_type": "code",
   "execution_count": 42,
   "metadata": {
    "collapsed": false
   },
   "outputs": [
    {
     "name": "stderr",
     "output_type": "stream",
     "text": [
      "/anaconda/lib/python3.6/site-packages/ipykernel/__main__.py:3: FutureWarning: sort(columns=....) is deprecated, use sort_values(by=.....)\n",
      "  app.launch_new_instance()\n"
     ]
    },
    {
     "data": {
      "text/html": [
       "<div>\n",
       "<table border=\"1\" class=\"dataframe\">\n",
       "  <thead>\n",
       "    <tr style=\"text-align: right;\">\n",
       "      <th></th>\n",
       "      <th>Column Name</th>\n",
       "      <th>Importance</th>\n",
       "    </tr>\n",
       "  </thead>\n",
       "  <tbody>\n",
       "    <tr>\n",
       "      <th>9</th>\n",
       "      <td>AGE</td>\n",
       "      <td>0.167749</td>\n",
       "    </tr>\n",
       "    <tr>\n",
       "      <th>0</th>\n",
       "      <td>BAR_ADMIT_DAYS</td>\n",
       "      <td>0.127458</td>\n",
       "    </tr>\n",
       "    <tr>\n",
       "      <th>12</th>\n",
       "      <td>ARREST_TO_SCREEN</td>\n",
       "      <td>0.087353</td>\n",
       "    </tr>\n",
       "    <tr>\n",
       "      <th>8</th>\n",
       "      <td>SCREENING_DAYS</td>\n",
       "      <td>0.064982</td>\n",
       "    </tr>\n",
       "    <tr>\n",
       "      <th>1</th>\n",
       "      <td>CRIMINAL_FLAG</td>\n",
       "      <td>0.052462</td>\n",
       "    </tr>\n",
       "    <tr>\n",
       "      <th>5</th>\n",
       "      <td>JUVENILE_FLAG</td>\n",
       "      <td>0.016518</td>\n",
       "    </tr>\n",
       "    <tr>\n",
       "      <th>24</th>\n",
       "      <td>11</td>\n",
       "      <td>0.014415</td>\n",
       "    </tr>\n",
       "    <tr>\n",
       "      <th>52</th>\n",
       "      <td>39</td>\n",
       "      <td>0.013908</td>\n",
       "    </tr>\n",
       "    <tr>\n",
       "      <th>18</th>\n",
       "      <td>5</td>\n",
       "      <td>0.013367</td>\n",
       "    </tr>\n",
       "    <tr>\n",
       "      <th>41</th>\n",
       "      <td>28</td>\n",
       "      <td>0.013159</td>\n",
       "    </tr>\n",
       "  </tbody>\n",
       "</table>\n",
       "</div>"
      ],
      "text/plain": [
       "         Column Name  Importance\n",
       "9                AGE    0.167749\n",
       "0     BAR_ADMIT_DAYS    0.127458\n",
       "12  ARREST_TO_SCREEN    0.087353\n",
       "8     SCREENING_DAYS    0.064982\n",
       "1      CRIMINAL_FLAG    0.052462\n",
       "5      JUVENILE_FLAG    0.016518\n",
       "24                11    0.014415\n",
       "52                39    0.013908\n",
       "18                 5    0.013367\n",
       "41                28    0.013159"
      ]
     },
     "execution_count": 42,
     "metadata": {},
     "output_type": "execute_result"
    }
   ],
   "source": [
    "feature_imp = pd.DataFrame(list(zip(X_train.columns, gbt.feature_importances_)))\n",
    "feature_imp.columns = ['Column Name', 'Importance']\n",
    "feature_imp.sort(columns = 'Importance', ascending = False)[0:10]"
   ]
  },
  {
   "cell_type": "code",
   "execution_count": 57,
   "metadata": {
    "collapsed": false
   },
   "outputs": [],
   "source": [
    "features = []\n",
    "\n",
    "for col_name in ['CHARGE_DESC_POSS_SCHEDULE_2_OTHER', 'CHARGE_DESC_THEFT_OF_GOODS_UNDER_100', 'CHARGE_DESC_POSS_STOLEN_PROP_OVER_500', 'CHARGE_DESC_THEFT_MULTIPLE_OFFENDER']:\n",
    "    features.append(X_train.columns.get_loc(col_name))"
   ]
  },
  {
   "cell_type": "code",
   "execution_count": 58,
   "metadata": {
    "collapsed": false
   },
   "outputs": [
    {
     "data": {
      "image/png": "[encoded data removed]",
      "text/plain": [
       "<matplotlib.figure.Figure at 0x1258ec128>"
      ]
     },
     "metadata": {},
     "output_type": "display_data"
    }
   ],
   "source": [
    "plot_partial_dependence(gbt, X_train, \\\n",
    "                        features = features, label=1)\n",
    "\n",
    "fig = plt.gcf()\n",
    "fig.set_size_inches(10,10)"
   ]
  },
  {
   "cell_type": "code",
   "execution_count": 62,
   "metadata": {
    "collapsed": true
   },
   "outputs": [],
   "source": [
    "features = []\n",
    "\n",
    "for col_name in ['AGE', 'BAR_ADMIT_DAYS', 'ARREST_TO_SCREEN', 'CRIMINAL_FLAG']:\n",
    "    features.append(X_train.columns.get_loc(col_name))"
   ]
  },
  {
   "cell_type": "code",
   "execution_count": 63,
   "metadata": {
    "collapsed": false
   },
   "outputs": [
    {
     "data": {
      "image/png": "[encoded data removed]",
      "text/plain": [
       "<matplotlib.figure.Figure at 0x11a2feb00>"
      ]
     },
     "metadata": {},
     "output_type": "display_data"
    }
   ],
   "source": [
    "plot_partial_dependence(gbt, X_train, \\\n",
    "                        features = features, label=1)\n",
    "\n",
    "fig = plt.gcf()\n",
    "fig.set_size_inches(10,10)"
   ]
  },
  {
   "cell_type": "code",
   "execution_count": 60,
   "metadata": {
    "collapsed": false
   },
   "outputs": [],
   "source": [
    "feature_imp.to_csv(\"Important Features with Charge Desc.csv\")"
   ]
  }
 ],
 "metadata": {
  "anaconda-cloud": {},
  "kernelspec": {
   "display_name": "Python 3",
   "language": "python",
   "name": "python3"
  },
  "language_info": {
   "codemirror_mode": {
    "name": "ipython",
    "version": 3
   },
   "file_extension": ".py",
   "mimetype": "text/x-python",
   "name": "python",
   "nbconvert_exporter": "python",
   "pygments_lexer": "ipython3",
   "version": "3.6.0"
  }
 },
 "nbformat": 4,
 "nbformat_minor": 2
}
