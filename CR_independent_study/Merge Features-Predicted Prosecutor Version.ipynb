{
 "cells": [
  {
   "cell_type": "code",
   "execution_count": 124,
   "metadata": {
    "collapsed": false
   },
   "outputs": [],
   "source": [
    "import numpy as np\n",
    "import pandas as pd\n",
    "import matplotlib.pyplot as plt\n",
    "import os\n",
    "from sklearn.preprocessing import LabelEncoder\n",
    "%matplotlib inline"
   ]
  },
  {
   "cell_type": "code",
   "execution_count": 125,
   "metadata": {
    "collapsed": false
   },
   "outputs": [],
   "source": [
    "os.chdir(\"/Users/carolineroper/Documents/School/Machine Learning/Reset_Project/noda\")"
   ]
  },
  {
   "cell_type": "code",
   "execution_count": 126,
   "metadata": {
    "collapsed": true
   },
   "outputs": [],
   "source": [
    "import project_env as pe"
   ]
  },
  {
   "cell_type": "code",
   "execution_count": 136,
   "metadata": {
    "collapsed": false
   },
   "outputs": [],
   "source": [
    "#bring in BOFI_NBR, SCREENING_DISP_CODE\n",
    "data_simple = pd.read_csv('data_processing/output/data_simple.csv', encoding = \"ISO-8859-1\", low_memory=False)\n",
    "data_simple = data_simple[['SCREENING_DISP_CODE','UNIQUE_ID','BOFI_NBR']]"
   ]
  },
  {
   "cell_type": "code",
   "execution_count": 137,
   "metadata": {
    "collapsed": false
   },
   "outputs": [
    {
     "data": {
      "text/html": [
       "<div>\n",
       "<table border=\"1\" class=\"dataframe\">\n",
       "  <thead>\n",
       "    <tr style=\"text-align: right;\">\n",
       "      <th></th>\n",
       "      <th>SCREENING_DISP_CODE</th>\n",
       "      <th>UNIQUE_ID</th>\n",
       "      <th>BOFI_NBR</th>\n",
       "    </tr>\n",
       "  </thead>\n",
       "  <tbody>\n",
       "    <tr>\n",
       "      <th>0</th>\n",
       "      <td>NaN</td>\n",
       "      <td>0</td>\n",
       "      <td>255544</td>\n",
       "    </tr>\n",
       "    <tr>\n",
       "      <th>1</th>\n",
       "      <td>NaN</td>\n",
       "      <td>1</td>\n",
       "      <td>257683</td>\n",
       "    </tr>\n",
       "    <tr>\n",
       "      <th>2</th>\n",
       "      <td>NaN</td>\n",
       "      <td>2</td>\n",
       "      <td>255696</td>\n",
       "    </tr>\n",
       "    <tr>\n",
       "      <th>3</th>\n",
       "      <td>NaN</td>\n",
       "      <td>3</td>\n",
       "      <td>251021</td>\n",
       "    </tr>\n",
       "    <tr>\n",
       "      <th>4</th>\n",
       "      <td>NaN</td>\n",
       "      <td>4</td>\n",
       "      <td>246712</td>\n",
       "    </tr>\n",
       "  </tbody>\n",
       "</table>\n",
       "</div>"
      ],
      "text/plain": [
       "   SCREENING_DISP_CODE  UNIQUE_ID BOFI_NBR\n",
       "0                  NaN          0   255544\n",
       "1                  NaN          1   257683\n",
       "2                  NaN          2   255696\n",
       "3                  NaN          3   251021\n",
       "4                  NaN          4   246712"
      ]
     },
     "execution_count": 137,
     "metadata": {},
     "output_type": "execute_result"
    }
   ],
   "source": [
    "data_simple.head()"
   ]
  },
  {
   "cell_type": "code",
   "execution_count": 138,
   "metadata": {
    "collapsed": false
   },
   "outputs": [
    {
     "name": "stdout",
     "output_type": "stream",
     "text": [
      "bin_features: (269543, 2)\n",
      "num_features: (280294, 5)\n",
      "date_features: (272088, 21)\n",
      "cat_features: (275692, 9)\n",
      "rearrest: (269543, 2)\n"
     ]
    }
   ],
   "source": [
    "bin_features = pd.read_csv('data_processing/output/df_bin_features.csv', encoding = \"ISO-8859-1\", low_memory=False)\n",
    "num_features = pd.read_csv('data_processing/output/df_num_features.csv', encoding = \"ISO-8859-1\", low_memory=False)\n",
    "date_features = pd.read_csv('data_processing/output/df_date_features.csv', encoding = \"ISO-8859-1\", low_memory=False) \\\n",
    "                            .drop('JUVENILE_FLAG',axis=1)\n",
    "cat_features = pd.read_csv('data_processing/output/df_cat_features.csv', encoding = \"ISO-8859-1\", low_memory=False)\n",
    "rearrest = pd.read_csv('data_processing/output/df_rearrest_times.csv', encoding = \"ISO-8859-1\", low_memory=False)\n",
    "\n",
    "print('bin_features: %s' %(str(rearrest.shape)))\n",
    "print('num_features: %s' %(str(num_features.shape)))\n",
    "print('date_features: %s' %(str(date_features.shape)))\n",
    "print('cat_features: %s' %(str(cat_features.shape)))\n",
    "print('rearrest: %s' %(str(rearrest.shape)))"
   ]
  },
  {
   "cell_type": "code",
   "execution_count": 141,
   "metadata": {
    "collapsed": false
   },
   "outputs": [],
   "source": [
    "merged = pd.merge(rearrest, \\\n",
    "                 bin_features,\\\n",
    "                 on='UNIQUE_ID', \\\n",
    "                 how='left')\n",
    "merged = pd.merge(merged, \\\n",
    "                 num_features,\\\n",
    "                 on='UNIQUE_ID', \\\n",
    "                 how='left')\n",
    "merged = pd.merge(merged, \\\n",
    "                 date_features,\\\n",
    "                 on='UNIQUE_ID', \\\n",
    "                 how='left')\n",
    "merged = pd.merge(merged, \\\n",
    "                 cat_features,\\\n",
    "                 on='UNIQUE_ID', \\\n",
    "                 how='left')\n",
    "merged = pd.merge(merged, \\\n",
    "                 data_simple,\\\n",
    "                 on='UNIQUE_ID', \\\n",
    "                 how='left')"
   ]
  },
  {
   "cell_type": "code",
   "execution_count": 131,
   "metadata": {
    "collapsed": false
   },
   "outputs": [],
   "source": [
    "merged.to_csv('merged_pj.csv', index=False)"
   ]
  },
  {
   "cell_type": "code",
   "execution_count": 260,
   "metadata": {
    "collapsed": false
   },
   "outputs": [
    {
     "data": {
      "text/plain": [
       "Index(['UNIQUE_ID', 'NEXT_ARREST_TIME', 'ARREST_DATE', 'ARREST_DATE_y',\n",
       "       'BOFI_NBR', 'SCREENING_DISP_CODE', 'BAR_ADMIT_DAYS', 'CRIMINAL_FLAG',\n",
       "       'FINAL_DETENTION_FLAG', 'HABITUAL_OFFENDER_FLAG',\n",
       "       'INITIAL_DETENTION_FLAG', 'JUVENILE_FLAG', 'SADA_SEX', 'SEX',\n",
       "       'TOT_NUM_DEF', 'MULTIPLE_DEF_FLAG', 'SCREENING_DAYS',\n",
       "       'SCREENING_DISP_DATE_y', 'SCREENING_DISP_DATE_m', 'AGE',\n",
       "       'ARREST_TO_SCREEN', 'CHARGE_CLASS', 'CHARGE_TYPE', 'CHARGE_DESC',\n",
       "       'PARTY', 'RACE', 'SADA_RACE', 'AGE_JUV_INVALID', 'AGE_NA'],\n",
       "      dtype='object')"
      ]
     },
     "execution_count": 260,
     "metadata": {},
     "output_type": "execute_result"
    }
   ],
   "source": [
    "merged.columns"
   ]
  },
  {
   "cell_type": "code",
   "execution_count": 142,
   "metadata": {
    "collapsed": false
   },
   "outputs": [
    {
     "data": {
      "text/plain": [
       "FELONY, OPTIONAL                  116732\n",
       "MISDEMEANOR                        97363\n",
       "FELONY, HARD LABOR                 43597\n",
       "JUVENILE STATUS                     6138\n",
       "NaN                                 4271\n",
       "CAPITAL                             1345\n",
       "MULTIPLE CLASS CHARGES IN CASE        70\n",
       "ASSET FORFEITURE                      27\n",
       "Name: CHARGE_CLASS, dtype: int64"
      ]
     },
     "execution_count": 142,
     "metadata": {},
     "output_type": "execute_result"
    }
   ],
   "source": [
    "merged.CHARGE_CLASS.value_counts(dropna=False)"
   ]
  },
  {
   "cell_type": "code",
   "execution_count": 144,
   "metadata": {
    "collapsed": false
   },
   "outputs": [
    {
     "data": {
      "text/plain": [
       "157"
      ]
     },
     "execution_count": 144,
     "metadata": {},
     "output_type": "execute_result"
    }
   ],
   "source": [
    "len(merged.CHARGE_DESC.value_counts(dropna=False))"
   ]
  },
  {
   "cell_type": "code",
   "execution_count": 149,
   "metadata": {
    "collapsed": false
   },
   "outputs": [
    {
     "data": {
      "text/plain": [
       "0.041388572509766533"
      ]
     },
     "execution_count": 149,
     "metadata": {},
     "output_type": "execute_result"
    }
   ],
   "source": [
    "merged.CHARGE_DESC.isnull().sum()/merged.shape[0] #4% are missing"
   ]
  },
  {
   "cell_type": "code",
   "execution_count": 146,
   "metadata": {
    "collapsed": false,
    "scrolled": false
   },
   "outputs": [
    {
     "data": {
      "text/plain": [
       "POSS SCHEDULE 2 OTHER                             26146\n",
       "POSS MARIJUANA 1ST OFFENSE                        18406\n",
       "POSS STOLEN PROP OVER 500                         14712\n",
       "CURFEW FOR PERSONS UNDER 17; SCHOOL ATTENDANCE    11973\n",
       "DIST SCHED 2 NARCOTIC                             11518\n",
       "NaN                                               11156\n",
       "AGGRAVATED BATTERY                                10350\n",
       "SIMPLE BURGLARY                                    8763\n",
       "SIMPLE BATTERY                                     8194\n",
       "ARMED ROBBERY                                      7223\n",
       "THEFT OF GOODS UNDER 100                           7155\n",
       "THEFT OVER 500                                     6399\n",
       "THEFT BETWEEN 100 AND 500                          6104\n",
       "THEFT UNDER 100                                    5698\n",
       "CONCEALED WEAPON FIRST                             5434\n",
       "FORGERY                                            5410\n",
       "AGGRAVATED ASSAULT                                 5027\n",
       "CRIMINAL TRESPASS                                  4305\n",
       "POSS STOLEN PROP 100 TO 500                        4104\n",
       "BURGLARY INHABITED DWELLING                        3694\n",
       "CURFEW VIOLATION                                   3265\n",
       "DIST SCHEDULE 1 NON NARCOTIC                       3191\n",
       "THEFT OF GOODS 100 TO 500                          2764\n",
       "FELON WITH FIREARM                                 2735\n",
       "SIMPLE ROBBERY                                     2658\n",
       "POSS STOLEN PROP UNDER 100                         2462\n",
       "DISTURBING THE PEACE                               2456\n",
       "FUGITIVE                                           2441\n",
       "SIMPLE CRIM DAMAGE UNDER 500                       2440\n",
       "RESISTING AN OFFICER                               2216\n",
       "                                                  ...  \n",
       "INSURANCE FRAUD                                     148\n",
       "ATT FIRST DEGREE ROBBERY                            147\n",
       "FILING FALSE PUBLIC RECORDS                         144\n",
       "DIST CDS W/IN 1000` OF SCHOOL                       138\n",
       "NEG. HOMICIDE                                       134\n",
       "CHILD IN NEED OF CARE                               131\n",
       "ATT POSS DRUG W/FALSE PRESCRPT                      131\n",
       "ALTER/REMOVE AUTO VIN NUMBER                        131\n",
       "HIT AND RUN DRIVING                                 129\n",
       "CONTRIBUTING TO THE DELINQUENCY OF A JUVENILE       125\n",
       "ATT SIMPLE ESCAPE                                   125\n",
       "CARJACKING                                          122\n",
       "FALSE PERSONATION                                   120\n",
       "PROSTITUTION 2ND OFFENSE                            119\n",
       "SECOND DEGREE KIDNAPPING                            118\n",
       "NO DRIVER`S LICENSE                                 114\n",
       "STALKING                                            113\n",
       "ATTEMPT ENTRY INHAB DWELL                           112\n",
       "DRUG-TRAFFIC LOITERING                              107\n",
       "AGGRAVATED KIDNAPPING                               106\n",
       "AGGRAVATED ASSAULT WITH FIREARM                     106\n",
       "ATTEMPTED THEFT (ANY AMOUNT)                        104\n",
       "POSS 200 TO 399 GRAMS COCAINE                       103\n",
       "MISAPPROPRIATE INS PREMIUMS                         102\n",
       "NO DISMANTLE PERMIT                                 102\n",
       "PUBLIC BRIBERY                                       95\n",
       "RECREATIONAL FISHING LICENSE                         24\n",
       "PROSTITUTION                                         22\n",
       "DRIVING WHILE INTOXICATED 3RD                        15\n",
       "FAMILY IN NEED OF SERVICES/UNGOVERNABLE               6\n",
       "Name: CHARGE_DESC, dtype: int64"
      ]
     },
     "execution_count": 146,
     "metadata": {},
     "output_type": "execute_result"
    }
   ],
   "source": [
    "merged.CHARGE_DESC.value_counts(dropna=False) #11156 nulls"
   ]
  },
  {
   "cell_type": "code",
   "execution_count": 150,
   "metadata": {
    "collapsed": false
   },
   "outputs": [],
   "source": [
    "cols = ['UNIQUE_ID', 'NEXT_ARREST_TIME', 'ARREST_DATE', 'ARREST_DATE_y','BOFI_NBR','SCREENING_DISP_CODE',\\\n",
    "        'BAR_ADMIT_DAYS','CRIMINAL_FLAG', \\\n",
    "        'FINAL_DETENTION_FLAG', 'HABITUAL_OFFENDER_FLAG', \\\n",
    "        'INITIAL_DETENTION_FLAG', 'JUVENILE_FLAG', 'SADA_SEX', \\\n",
    "        'SEX', 'TOT_NUM_DEF', 'MULTIPLE_DEF_FLAG', 'SCREENING_DAYS', \\\n",
    "        'SCREENING_DISP_DATE_y', \\\n",
    "        'SCREENING_DISP_DATE_m', 'AGE', 'ARREST_TO_SCREEN', \\\n",
    "        'CHARGE_CLASS', 'CHARGE_TYPE', 'CHARGE_DESC', 'PARTY', 'RACE', \\\n",
    "        'SADA_RACE','AGE_JUV_INVALID','AGE_NA']\n",
    "\n",
    "merged = merged[cols]"
   ]
  },
  {
   "cell_type": "code",
   "execution_count": 151,
   "metadata": {
    "collapsed": true
   },
   "outputs": [],
   "source": [
    "merged.to_csv('merged_pj.csv',index=False)"
   ]
  },
  {
   "cell_type": "code",
   "execution_count": 152,
   "metadata": {
    "collapsed": true
   },
   "outputs": [],
   "source": [
    "#identify arrests where at least one charge was accepted\n",
    "accepted = merged[merged['SCREENING_DISP_CODE']==230][['BOFI_NBR','ARREST_DATE']]"
   ]
  },
  {
   "cell_type": "code",
   "execution_count": 153,
   "metadata": {
    "collapsed": false
   },
   "outputs": [],
   "source": [
    "#identify arrests where at least one charge was accepted\n",
    "accepted = merged[merged['SCREENING_DISP_CODE']==230][['BOFI_NBR','ARREST_DATE']]\n",
    "\n",
    "#classify rows where at least one charge was accepted during that arrest\n",
    "classified = pd.merge(merged, \\\n",
    "                 accepted, \\\n",
    "                 on=['BOFI_NBR','ARREST_DATE'], \\\n",
    "                 how='outer',\\\n",
    "                 indicator = True)\n",
    "\n",
    "classified['ACCEPTED'] = np.where(classified['_merge']=='both', 1, 0)\n",
    "\n",
    "classified = classified.drop('_merge', axis=1)\n",
    "\n",
    "#remove duplicate arrests on same day\n",
    "#confirmed that it's possible that an arrest has at least one charge was accepted and is still flagged as \"delete\"\n",
    "classified = classified[classified['NEXT_ARREST_TIME']!='Delete']\n",
    "\n",
    "#convert NEXT_ARREST_TIME to numeric\n",
    "classified['NEXT_ARREST_TIME'] = classified['NEXT_ARREST_TIME'].apply(pd.to_numeric)"
   ]
  },
  {
   "cell_type": "code",
   "execution_count": 154,
   "metadata": {
    "collapsed": false
   },
   "outputs": [],
   "source": [
    "cat_var = ['SADA_SEX', 'SEX', 'PARTY', 'RACE', 'SADA_RACE', \\\n",
    "           'SCREENING_DISP_DATE_y', 'SCREENING_DISP_DATE_m', 'CHARGE_TYPE', \\\n",
    "           'CHARGE_CLASS', 'CHARGE_DESC', 'ARREST_DATE_y']\n",
    "\n",
    "cat_var_df = pd.DataFrame()\n",
    "\n",
    "for column in cat_var:\n",
    "    category = np.repeat(classified.loc[:,column].name, len(classified.loc[:,column].value_counts(dropna=False)))\n",
    "    value = classified.loc[:,column].value_counts(dropna=False).index\n",
    "    count = classified.loc[:,column].value_counts(dropna=False)\n",
    "    cat_var_df = cat_var_df.append(pd.DataFrame(np.transpose(np.vstack([category, value, count]))))\n",
    "cat_var_df.columns = ['Category', 'Value', 'Count']\n",
    "cat_var_df['Count'] = pd.to_numeric(cat_var_df['Count'])\n",
    "\n",
    "cat_var_df.fillna(value = \"Missing\", inplace=True)\n",
    "\n",
    "cat_var_df['Label'] = cat_var_df['Category'] + '_' + cat_var_df['Value']"
   ]
  },
  {
   "cell_type": "code",
   "execution_count": 155,
   "metadata": {
    "collapsed": false
   },
   "outputs": [
    {
     "name": "stdout",
     "output_type": "stream",
     "text": [
      "Test Data 25068\n",
      "(100272, 30)\n",
      "Val Data 20055\n",
      "Train Data 80217\n",
      "Test Data 21078\n",
      "(84308, 30)\n",
      "Val Data 16862\n",
      "Train Data 67446\n"
     ]
    }
   ],
   "source": [
    "#two rounds of splits so predicted judge training set includes all training records from risk prediction model and so on.\n",
    "\n",
    "test_ne_1, train_ne_1, val_ne_1 = pe.split_data(classified[classified['ACCEPTED']==0], test_split=.2, \\\n",
    "                                 train_split=.64, by_var='ARREST_DATE_y', random_state=1)\n",
    "\n",
    "test_ne_2, train_ne_2, val_ne_2 = pe.split_data(classified[classified['ACCEPTED']==1], test_split=.2, \\\n",
    "                                 train_split=.64, by_var='ARREST_DATE_y', random_state=1)\n",
    "\n",
    "test_ne = pd.concat([test_ne_1, test_ne_2],axis=0)\n",
    "train_ne = pd.concat([train_ne_1, train_ne_2],axis=0)\n",
    "val_ne = pd.concat([val_ne_1, val_ne_2],axis=0)"
   ]
  },
  {
   "cell_type": "code",
   "execution_count": 156,
   "metadata": {
    "collapsed": false
   },
   "outputs": [],
   "source": [
    "train_ne.to_csv('data_train_pj.csv', index=False)\n",
    "test_ne.to_csv('data_test_pj.csv', index=False)\n",
    "val_ne.to_csv('data_val_pj.csv', index=False)"
   ]
  },
  {
   "cell_type": "code",
   "execution_count": 252,
   "metadata": {
    "collapsed": false
   },
   "outputs": [],
   "source": [
    "cat_var_enc = pe.one_hot_encode(classified[cat_var])\n",
    "cat_var_enc = pd.DataFrame(cat_var_enc.toarray(), index=classified.index) #can pass the column names here - "
   ]
  },
  {
   "cell_type": "code",
   "execution_count": 158,
   "metadata": {
    "collapsed": false
   },
   "outputs": [],
   "source": [
    "after_enc_df = pd.DataFrame()\n",
    "\n",
    "for column in list(cat_var_enc.columns):\n",
    "    after_enc_df = after_enc_df.append(pd.DataFrame([column,sum(cat_var_enc.loc[:,column])]).transpose())\n",
    "after_enc_df.columns = ['current_name', 'Count']"
   ]
  },
  {
   "cell_type": "code",
   "execution_count": 168,
   "metadata": {
    "collapsed": false
   },
   "outputs": [
    {
     "data": {
      "text/plain": [
       "Index(['SADA_SEX', 'SEX', 'PARTY', 'RACE', 'SADA_RACE',\n",
       "       'SCREENING_DISP_DATE_y', 'SCREENING_DISP_DATE_m', 'CHARGE_TYPE',\n",
       "       'CHARGE_CLASS', 'CHARGE_DESC', 'ARREST_DATE_y'],\n",
       "      dtype='object')"
      ]
     },
     "execution_count": 168,
     "metadata": {},
     "output_type": "execute_result"
    }
   ],
   "source": [
    "classified[cat_var].columns"
   ]
  },
  {
   "cell_type": "code",
   "execution_count": 253,
   "metadata": {
    "collapsed": false
   },
   "outputs": [],
   "source": [
    "#checked several columns by the number with each value and confirmed this is the pattern the encoder uses\n",
    "col_names = []\n",
    "for col in cat_var:\n",
    "    types = list(np.sort(classified[col].unique().astype(str)))\n",
    "    types = [col + '_' + x for x in types]\n",
    "    types = [x.replace(' ', '_') for x in types]\n",
    "    col_names.extend(types)"
   ]
  },
  {
   "cell_type": "code",
   "execution_count": 254,
   "metadata": {
    "collapsed": false
   },
   "outputs": [],
   "source": [
    "cat_var_enc.columns = col_names"
   ]
  },
  {
   "cell_type": "code",
   "execution_count": 255,
   "metadata": {
    "collapsed": false
   },
   "outputs": [],
   "source": [
    "classified_enc = classified.drop(cat_var[:-1], axis=1)\n",
    "classified_enc = pd.merge(classified_enc, \\\n",
    "                       cat_var_enc,\\\n",
    "                       left_index=True, \\\n",
    "                       right_index=True, \\\n",
    "                       how='left')"
   ]
  },
  {
   "cell_type": "code",
   "execution_count": 256,
   "metadata": {
    "collapsed": false
   },
   "outputs": [
    {
     "data": {
      "text/html": [
       "<div>\n",
       "<table border=\"1\" class=\"dataframe\">\n",
       "  <thead>\n",
       "    <tr style=\"text-align: right;\">\n",
       "      <th></th>\n",
       "      <th>UNIQUE_ID</th>\n",
       "      <th>NEXT_ARREST_TIME</th>\n",
       "      <th>ARREST_DATE</th>\n",
       "      <th>ARREST_DATE_y</th>\n",
       "      <th>BOFI_NBR</th>\n",
       "      <th>SCREENING_DISP_CODE</th>\n",
       "      <th>BAR_ADMIT_DAYS</th>\n",
       "      <th>CRIMINAL_FLAG</th>\n",
       "      <th>FINAL_DETENTION_FLAG</th>\n",
       "      <th>HABITUAL_OFFENDER_FLAG</th>\n",
       "      <th>...</th>\n",
       "      <th>ARREST_DATE_y_1990.0</th>\n",
       "      <th>ARREST_DATE_y_1991.0</th>\n",
       "      <th>ARREST_DATE_y_1992.0</th>\n",
       "      <th>ARREST_DATE_y_1993.0</th>\n",
       "      <th>ARREST_DATE_y_1994.0</th>\n",
       "      <th>ARREST_DATE_y_1995.0</th>\n",
       "      <th>ARREST_DATE_y_1996.0</th>\n",
       "      <th>ARREST_DATE_y_1997.0</th>\n",
       "      <th>ARREST_DATE_y_1998.0</th>\n",
       "      <th>ARREST_DATE_y_1999.0</th>\n",
       "    </tr>\n",
       "  </thead>\n",
       "  <tbody>\n",
       "    <tr>\n",
       "      <th>1</th>\n",
       "      <td>5183</td>\n",
       "      <td>0</td>\n",
       "      <td>1988-01-03</td>\n",
       "      <td>1988.0</td>\n",
       "      <td>290600</td>\n",
       "      <td>NaN</td>\n",
       "      <td>1952</td>\n",
       "      <td>0</td>\n",
       "      <td>0</td>\n",
       "      <td>0</td>\n",
       "      <td>...</td>\n",
       "      <td>0.0</td>\n",
       "      <td>0.0</td>\n",
       "      <td>0.0</td>\n",
       "      <td>0.0</td>\n",
       "      <td>0.0</td>\n",
       "      <td>0.0</td>\n",
       "      <td>0.0</td>\n",
       "      <td>0.0</td>\n",
       "      <td>0.0</td>\n",
       "      <td>0.0</td>\n",
       "    </tr>\n",
       "    <tr>\n",
       "      <th>2</th>\n",
       "      <td>5073</td>\n",
       "      <td>3209</td>\n",
       "      <td>1988-01-03</td>\n",
       "      <td>1988.0</td>\n",
       "      <td>290588</td>\n",
       "      <td>NaN</td>\n",
       "      <td>1952</td>\n",
       "      <td>1</td>\n",
       "      <td>0</td>\n",
       "      <td>0</td>\n",
       "      <td>...</td>\n",
       "      <td>0.0</td>\n",
       "      <td>0.0</td>\n",
       "      <td>0.0</td>\n",
       "      <td>0.0</td>\n",
       "      <td>0.0</td>\n",
       "      <td>0.0</td>\n",
       "      <td>0.0</td>\n",
       "      <td>0.0</td>\n",
       "      <td>0.0</td>\n",
       "      <td>0.0</td>\n",
       "    </tr>\n",
       "    <tr>\n",
       "      <th>3</th>\n",
       "      <td>104025</td>\n",
       "      <td>1794</td>\n",
       "      <td>1988-01-03</td>\n",
       "      <td>1988.0</td>\n",
       "      <td>220453</td>\n",
       "      <td>NaN</td>\n",
       "      <td>1952</td>\n",
       "      <td>1</td>\n",
       "      <td>0</td>\n",
       "      <td>0</td>\n",
       "      <td>...</td>\n",
       "      <td>0.0</td>\n",
       "      <td>0.0</td>\n",
       "      <td>0.0</td>\n",
       "      <td>0.0</td>\n",
       "      <td>0.0</td>\n",
       "      <td>0.0</td>\n",
       "      <td>0.0</td>\n",
       "      <td>0.0</td>\n",
       "      <td>0.0</td>\n",
       "      <td>0.0</td>\n",
       "    </tr>\n",
       "    <tr>\n",
       "      <th>4</th>\n",
       "      <td>18252</td>\n",
       "      <td>516</td>\n",
       "      <td>1988-01-03</td>\n",
       "      <td>1988.0</td>\n",
       "      <td>J78755</td>\n",
       "      <td>230.0</td>\n",
       "      <td>1952</td>\n",
       "      <td>0</td>\n",
       "      <td>0</td>\n",
       "      <td>0</td>\n",
       "      <td>...</td>\n",
       "      <td>0.0</td>\n",
       "      <td>0.0</td>\n",
       "      <td>0.0</td>\n",
       "      <td>0.0</td>\n",
       "      <td>0.0</td>\n",
       "      <td>0.0</td>\n",
       "      <td>0.0</td>\n",
       "      <td>0.0</td>\n",
       "      <td>0.0</td>\n",
       "      <td>0.0</td>\n",
       "    </tr>\n",
       "    <tr>\n",
       "      <th>5</th>\n",
       "      <td>6411</td>\n",
       "      <td>0</td>\n",
       "      <td>1988-01-03</td>\n",
       "      <td>1988.0</td>\n",
       "      <td>X010116</td>\n",
       "      <td>230.0</td>\n",
       "      <td>2284</td>\n",
       "      <td>0</td>\n",
       "      <td>0</td>\n",
       "      <td>0</td>\n",
       "      <td>...</td>\n",
       "      <td>0.0</td>\n",
       "      <td>0.0</td>\n",
       "      <td>0.0</td>\n",
       "      <td>0.0</td>\n",
       "      <td>0.0</td>\n",
       "      <td>0.0</td>\n",
       "      <td>0.0</td>\n",
       "      <td>0.0</td>\n",
       "      <td>0.0</td>\n",
       "      <td>0.0</td>\n",
       "    </tr>\n",
       "  </tbody>\n",
       "</table>\n",
       "<p>5 rows × 250 columns</p>\n",
       "</div>"
      ],
      "text/plain": [
       "   UNIQUE_ID  NEXT_ARREST_TIME ARREST_DATE  ARREST_DATE_y BOFI_NBR  \\\n",
       "1       5183                 0  1988-01-03         1988.0   290600   \n",
       "2       5073              3209  1988-01-03         1988.0   290588   \n",
       "3     104025              1794  1988-01-03         1988.0   220453   \n",
       "4      18252               516  1988-01-03         1988.0   J78755   \n",
       "5       6411                 0  1988-01-03         1988.0  X010116   \n",
       "\n",
       "   SCREENING_DISP_CODE  BAR_ADMIT_DAYS  CRIMINAL_FLAG  FINAL_DETENTION_FLAG  \\\n",
       "1                  NaN            1952              0                     0   \n",
       "2                  NaN            1952              1                     0   \n",
       "3                  NaN            1952              1                     0   \n",
       "4                230.0            1952              0                     0   \n",
       "5                230.0            2284              0                     0   \n",
       "\n",
       "   HABITUAL_OFFENDER_FLAG          ...           ARREST_DATE_y_1990.0  \\\n",
       "1                       0          ...                            0.0   \n",
       "2                       0          ...                            0.0   \n",
       "3                       0          ...                            0.0   \n",
       "4                       0          ...                            0.0   \n",
       "5                       0          ...                            0.0   \n",
       "\n",
       "   ARREST_DATE_y_1991.0  ARREST_DATE_y_1992.0  ARREST_DATE_y_1993.0  \\\n",
       "1                   0.0                   0.0                   0.0   \n",
       "2                   0.0                   0.0                   0.0   \n",
       "3                   0.0                   0.0                   0.0   \n",
       "4                   0.0                   0.0                   0.0   \n",
       "5                   0.0                   0.0                   0.0   \n",
       "\n",
       "   ARREST_DATE_y_1994.0  ARREST_DATE_y_1995.0  ARREST_DATE_y_1996.0  \\\n",
       "1                   0.0                   0.0                   0.0   \n",
       "2                   0.0                   0.0                   0.0   \n",
       "3                   0.0                   0.0                   0.0   \n",
       "4                   0.0                   0.0                   0.0   \n",
       "5                   0.0                   0.0                   0.0   \n",
       "\n",
       "   ARREST_DATE_y_1997.0  ARREST_DATE_y_1998.0  ARREST_DATE_y_1999.0  \n",
       "1                   0.0                   0.0                   0.0  \n",
       "2                   0.0                   0.0                   0.0  \n",
       "3                   0.0                   0.0                   0.0  \n",
       "4                   0.0                   0.0                   0.0  \n",
       "5                   0.0                   0.0                   0.0  \n",
       "\n",
       "[5 rows x 250 columns]"
      ]
     },
     "execution_count": 256,
     "metadata": {},
     "output_type": "execute_result"
    }
   ],
   "source": [
    "classified_enc.head()"
   ]
  },
  {
   "cell_type": "code",
   "execution_count": 257,
   "metadata": {
    "collapsed": false
   },
   "outputs": [
    {
     "name": "stdout",
     "output_type": "stream",
     "text": [
      "Test Data 25068\n",
      "(100272, 250)\n",
      "Val Data 20055\n",
      "Train Data 80217\n",
      "Test Data 21078\n",
      "(84308, 250)\n",
      "Val Data 16862\n",
      "Train Data 67446\n"
     ]
    }
   ],
   "source": [
    "#two rounds of splits so predicted judge training set includes all training records from risk prediction model and so on.\n",
    "\n",
    "test_1, train_1, val_1 = pe.split_data(classified_enc[classified_enc['ACCEPTED']==0], test_split=.2, \\\n",
    "                                 train_split=.64, by_var='ARREST_DATE_y', random_state=1)\n",
    "\n",
    "test_2, train_2, val_2 = pe.split_data(classified_enc[classified_enc['ACCEPTED']==1], test_split=.2, \\\n",
    "                                 train_split=.64, by_var='ARREST_DATE_y', random_state=1)\n",
    "\n",
    "test = pd.concat([test_1, test_2],axis=0)\n",
    "train = pd.concat([train_1, train_2],axis=0)\n",
    "val = pd.concat([val_1, val_2],axis=0)\n",
    "\n",
    "#went from 93 columns to 250 columns b/c of the charge description"
   ]
  },
  {
   "cell_type": "code",
   "execution_count": 258,
   "metadata": {
    "collapsed": false
   },
   "outputs": [],
   "source": [
    "train.to_csv('train_pj.csv',index=False)\n",
    "val.to_csv('val_pj.csv',index=False)\n",
    "test.to_csv('test_pj.csv', index=False)"
   ]
  }
 ],
 "metadata": {
  "anaconda-cloud": {},
  "kernelspec": {
   "display_name": "Python 3",
   "language": "python",
   "name": "python3"
  }
 },
 "nbformat": 4,
 "nbformat_minor": 0
}
