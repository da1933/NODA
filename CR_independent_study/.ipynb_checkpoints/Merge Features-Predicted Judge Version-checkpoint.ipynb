{
 "cells": [
  {
   "cell_type": "code",
   "execution_count": 4,
   "metadata": {
    "collapsed": false
   },
   "outputs": [],
   "source": [
    "import numpy as np\n",
    "import pandas as pd\n",
    "import matplotlib.pyplot as plt\n",
    "import os\n",
    "from sklearn.preprocessing import LabelEncoder\n",
    "%matplotlib inline"
   ]
  },
  {
   "cell_type": "code",
   "execution_count": 15,
   "metadata": {
    "collapsed": false
   },
   "outputs": [],
   "source": [
    "os.chdir(\"/Users/carolineroper/Documents/School/Machine Learning/Reset_Project/noda\")"
   ]
  },
  {
   "cell_type": "code",
   "execution_count": 6,
   "metadata": {
    "collapsed": true
   },
   "outputs": [],
   "source": [
    "import project_env as pe"
   ]
  },
  {
   "cell_type": "code",
   "execution_count": 43,
   "metadata": {
    "collapsed": false
   },
   "outputs": [],
   "source": [
    "#bring in BOFI_NBR, SCREENING_DISP_CODE\n",
    "data_simple = pd.read_csv('data_processing/output/data_simple.csv', encoding = \"ISO-8859-1\", low_memory=False)\n",
    "data_simple = data_simple[['SCREENING_DISP_CODE','UNIQUE_ID','BOFI_NBR']]"
   ]
  },
  {
   "cell_type": "code",
   "execution_count": 44,
   "metadata": {
    "collapsed": false
   },
   "outputs": [
    {
     "data": {
      "text/html": [
       "<div>\n",
       "<table border=\"1\" class=\"dataframe\">\n",
       "  <thead>\n",
       "    <tr style=\"text-align: right;\">\n",
       "      <th></th>\n",
       "      <th>SCREENING_DISP_CODE</th>\n",
       "      <th>UNIQUE_ID</th>\n",
       "      <th>BOFI_NBR</th>\n",
       "    </tr>\n",
       "  </thead>\n",
       "  <tbody>\n",
       "    <tr>\n",
       "      <th>0</th>\n",
       "      <td>NaN</td>\n",
       "      <td>0</td>\n",
       "      <td>255544</td>\n",
       "    </tr>\n",
       "    <tr>\n",
       "      <th>1</th>\n",
       "      <td>NaN</td>\n",
       "      <td>1</td>\n",
       "      <td>257683</td>\n",
       "    </tr>\n",
       "    <tr>\n",
       "      <th>2</th>\n",
       "      <td>NaN</td>\n",
       "      <td>2</td>\n",
       "      <td>255696</td>\n",
       "    </tr>\n",
       "    <tr>\n",
       "      <th>3</th>\n",
       "      <td>NaN</td>\n",
       "      <td>3</td>\n",
       "      <td>251021</td>\n",
       "    </tr>\n",
       "    <tr>\n",
       "      <th>4</th>\n",
       "      <td>NaN</td>\n",
       "      <td>4</td>\n",
       "      <td>246712</td>\n",
       "    </tr>\n",
       "  </tbody>\n",
       "</table>\n",
       "</div>"
      ],
      "text/plain": [
       "   SCREENING_DISP_CODE  UNIQUE_ID BOFI_NBR\n",
       "0                  NaN          0   255544\n",
       "1                  NaN          1   257683\n",
       "2                  NaN          2   255696\n",
       "3                  NaN          3   251021\n",
       "4                  NaN          4   246712"
      ]
     },
     "execution_count": 44,
     "metadata": {},
     "output_type": "execute_result"
    }
   ],
   "source": [
    "data_simple.head()"
   ]
  },
  {
   "cell_type": "code",
   "execution_count": 46,
   "metadata": {
    "collapsed": false
   },
   "outputs": [
    {
     "name": "stdout",
     "output_type": "stream",
     "text": [
      "bin_features: (269543, 2)\n",
      "num_features: (280294, 5)\n",
      "date_features: (272088, 21)\n",
      "cat_features: (280294, 8)\n",
      "rearrest: (269543, 2)\n"
     ]
    }
   ],
   "source": [
    "bin_features = pd.read_csv('data_processing/output/df_bin_features.csv', encoding = \"ISO-8859-1\", low_memory=False)\n",
    "num_features = pd.read_csv('data_processing/output/df_num_features.csv', encoding = \"ISO-8859-1\", low_memory=False)\n",
    "date_features = pd.read_csv('data_processing/output/df_date_features.csv', encoding = \"ISO-8859-1\", low_memory=False) \\\n",
    "                            .drop('JUVENILE_FLAG',axis=1)\n",
    "cat_features = pd.read_csv('data_processing/output/df_cat_features.csv', encoding = \"ISO-8859-1\", low_memory=False)\n",
    "rearrest = pd.read_csv('data_processing/output/df_rearrest_times.csv', encoding = \"ISO-8859-1\", low_memory=False)\n",
    "\n",
    "print('bin_features: %s' %(str(rearrest.shape)))\n",
    "print('num_features: %s' %(str(num_features.shape)))\n",
    "print('date_features: %s' %(str(date_features.shape)))\n",
    "print('cat_features: %s' %(str(cat_features.shape)))\n",
    "print('rearrest: %s' %(str(rearrest.shape)))"
   ]
  },
  {
   "cell_type": "code",
   "execution_count": 47,
   "metadata": {
    "collapsed": false
   },
   "outputs": [],
   "source": [
    "merged = pd.merge(rearrest, \\\n",
    "                 bin_features,\\\n",
    "                 on='UNIQUE_ID', \\\n",
    "                 how='left')\n",
    "merged = pd.merge(merged, \\\n",
    "                 num_features,\\\n",
    "                 on='UNIQUE_ID', \\\n",
    "                 how='left')\n",
    "merged = pd.merge(merged, \\\n",
    "                 date_features,\\\n",
    "                 on='UNIQUE_ID', \\\n",
    "                 how='left')\n",
    "merged = pd.merge(merged, \\\n",
    "                 cat_features,\\\n",
    "                 on='UNIQUE_ID', \\\n",
    "                 how='left')\n",
    "merged = pd.merge(merged, \\\n",
    "                 data_simple,\\\n",
    "                 on='UNIQUE_ID', \\\n",
    "                 how='left')"
   ]
  },
  {
   "cell_type": "code",
   "execution_count": 48,
   "metadata": {
    "collapsed": false
   },
   "outputs": [],
   "source": [
    "merged.to_csv('merged_pj.csv', index=False)"
   ]
  },
  {
   "cell_type": "code",
   "execution_count": 49,
   "metadata": {
    "collapsed": false,
    "scrolled": true
   },
   "outputs": [
    {
     "data": {
      "text/plain": [
       "Index(['UNIQUE_ID', 'NEXT_ARREST_TIME', 'CRIMINAL_FLAG',\n",
       "       'FINAL_DETENTION_FLAG', 'HABITUAL_OFFENDER_FLAG',\n",
       "       'INITIAL_DETENTION_FLAG', 'JUVENILE_FLAG', 'SADA_SEX', 'SEX',\n",
       "       'TOT_NUM_DEF', 'MULTIPLE_DEF_FLAG', 'SCREENING_DAYS', 'POLICE_RPT_DAYS',\n",
       "       'POLICE_RPT_DATE', 'ARREST_DATE', 'DOB', 'SCREENING_DISP_DATE',\n",
       "       'BAR_ADMISSION', 'POLICE_RPT_DATE_y', 'ARREST_DATE_y', 'DOB_y',\n",
       "       'SCREENING_DISP_DATE_y', 'BAR_ADMISSION_y', 'POLICE_RPT_DATE_m',\n",
       "       'ARREST_DATE_m', 'DOB_m', 'SCREENING_DISP_DATE_m', 'BAR_ADMISSION_m',\n",
       "       'AGE', 'BAR_ADMIT_DAYS', 'ARREST_TO_SCREEN', 'AGE_NA',\n",
       "       'AGE_JUV_INVALID', 'ARREST_CREDIT_CODE', 'CHARGE_CLASS', 'CHARGE_TYPE',\n",
       "       'LEAD_CHARGE_CODE', 'PARTY', 'RACE', 'SADA_RACE', 'SCREENING_DISP_CODE',\n",
       "       'BOFI_NBR'],\n",
       "      dtype='object')"
      ]
     },
     "execution_count": 49,
     "metadata": {},
     "output_type": "execute_result"
    }
   ],
   "source": [
    "merged.columns"
   ]
  },
  {
   "cell_type": "code",
   "execution_count": 50,
   "metadata": {
    "collapsed": false
   },
   "outputs": [],
   "source": [
    "cols = ['UNIQUE_ID', 'NEXT_ARREST_TIME', 'ARREST_DATE', 'ARREST_DATE_y','BOFI_NBR','SCREENING_DISP_CODE',\\\n",
    "        'BAR_ADMIT_DAYS','CRIMINAL_FLAG', \\\n",
    "        'FINAL_DETENTION_FLAG', 'HABITUAL_OFFENDER_FLAG', \\\n",
    "        'INITIAL_DETENTION_FLAG', 'JUVENILE_FLAG', 'SADA_SEX', \\\n",
    "        'SEX', 'TOT_NUM_DEF', 'MULTIPLE_DEF_FLAG', 'SCREENING_DAYS', \\\n",
    "        'SCREENING_DISP_DATE_y', \\\n",
    "        'SCREENING_DISP_DATE_m', 'AGE', 'ARREST_TO_SCREEN', \\\n",
    "        'CHARGE_CLASS', 'CHARGE_TYPE', 'PARTY', 'RACE', \\\n",
    "        'SADA_RACE','AGE_JUV_INVALID','AGE_NA']\n",
    "\n",
    "merged = merged[cols]"
   ]
  },
  {
   "cell_type": "code",
   "execution_count": 51,
   "metadata": {
    "collapsed": true
   },
   "outputs": [],
   "source": [
    "merged.to_csv('merged_pj.csv',index=False)"
   ]
  },
  {
   "cell_type": "code",
   "execution_count": 52,
   "metadata": {
    "collapsed": true
   },
   "outputs": [],
   "source": [
    "#identify arrests where at least one charge was accepted\n",
    "accepted = merged[merged['SCREENING_DISP_CODE']==230][['BOFI_NBR','ARREST_DATE']]"
   ]
  },
  {
   "cell_type": "code",
   "execution_count": 67,
   "metadata": {
    "collapsed": false
   },
   "outputs": [],
   "source": [
    "#identify arrests where at least one charge was accepted\n",
    "accepted = merged[merged['SCREENING_DISP_CODE']==230][['BOFI_NBR','ARREST_DATE']]\n",
    "\n",
    "#drop rows where at least one charge was accepted during that arrest\n",
    "classified = pd.merge(merged, \\\n",
    "                 accepted, \\\n",
    "                 on=['BOFI_NBR','ARREST_DATE'], \\\n",
    "                 how='outer',\\\n",
    "                 indicator = True)\n",
    "\n",
    "classified['ACCEPTED'] = np.where(classified['_merge']=='both', 1, 0)\n",
    "\n",
    "classified = classified.drop('_merge', axis=1)\n",
    "\n",
    "#remove duplicate arrests on same day\n",
    "#confirmed that it's possible that an arrest has at least one charge was accepted and is still flagged as \"delete\"\n",
    "classified = classified[classified['NEXT_ARREST_TIME']!='Delete']\n",
    "\n",
    "#convert NEXT_ARREST_TIME to numeric\n",
    "classified['NEXT_ARREST_TIME'] = classified['NEXT_ARREST_TIME'].apply(pd.to_numeric)"
   ]
  },
  {
   "cell_type": "code",
   "execution_count": 65,
   "metadata": {
    "collapsed": false
   },
   "outputs": [],
   "source": [
    "#pd.pivot_table(classified, index = ['NEXT_ARREST_TIME'], columns=['ACCEPTED'], aggfunc=lambda x: len(x.unique()))"
   ]
  },
  {
   "cell_type": "code",
   "execution_count": 68,
   "metadata": {
    "collapsed": false
   },
   "outputs": [
    {
     "data": {
      "text/html": [
       "<div>\n",
       "<table border=\"1\" class=\"dataframe\">\n",
       "  <thead>\n",
       "    <tr style=\"text-align: right;\">\n",
       "      <th></th>\n",
       "      <th>UNIQUE_ID</th>\n",
       "      <th>NEXT_ARREST_TIME</th>\n",
       "      <th>ARREST_DATE</th>\n",
       "      <th>ARREST_DATE_y</th>\n",
       "      <th>BOFI_NBR</th>\n",
       "      <th>SCREENING_DISP_CODE</th>\n",
       "      <th>BAR_ADMIT_DAYS</th>\n",
       "      <th>CRIMINAL_FLAG</th>\n",
       "      <th>FINAL_DETENTION_FLAG</th>\n",
       "      <th>HABITUAL_OFFENDER_FLAG</th>\n",
       "      <th>...</th>\n",
       "      <th>AGE</th>\n",
       "      <th>ARREST_TO_SCREEN</th>\n",
       "      <th>CHARGE_CLASS</th>\n",
       "      <th>CHARGE_TYPE</th>\n",
       "      <th>PARTY</th>\n",
       "      <th>RACE</th>\n",
       "      <th>SADA_RACE</th>\n",
       "      <th>AGE_JUV_INVALID</th>\n",
       "      <th>AGE_NA</th>\n",
       "      <th>ACCEPTED</th>\n",
       "    </tr>\n",
       "  </thead>\n",
       "  <tbody>\n",
       "    <tr>\n",
       "      <th>1</th>\n",
       "      <td>5183</td>\n",
       "      <td>0</td>\n",
       "      <td>1988-01-03</td>\n",
       "      <td>1988.0</td>\n",
       "      <td>290600</td>\n",
       "      <td>NaN</td>\n",
       "      <td>1952</td>\n",
       "      <td>0</td>\n",
       "      <td>0</td>\n",
       "      <td>0</td>\n",
       "      <td>...</td>\n",
       "      <td>10141</td>\n",
       "      <td>0</td>\n",
       "      <td>4.0</td>\n",
       "      <td>IF</td>\n",
       "      <td>NaN</td>\n",
       "      <td>W</td>\n",
       "      <td>NaN</td>\n",
       "      <td>0</td>\n",
       "      <td>0</td>\n",
       "      <td>0</td>\n",
       "    </tr>\n",
       "    <tr>\n",
       "      <th>2</th>\n",
       "      <td>5073</td>\n",
       "      <td>3209</td>\n",
       "      <td>1988-01-03</td>\n",
       "      <td>1988.0</td>\n",
       "      <td>290588</td>\n",
       "      <td>NaN</td>\n",
       "      <td>1952</td>\n",
       "      <td>1</td>\n",
       "      <td>0</td>\n",
       "      <td>0</td>\n",
       "      <td>...</td>\n",
       "      <td>6773</td>\n",
       "      <td>0</td>\n",
       "      <td>3.0</td>\n",
       "      <td>IF</td>\n",
       "      <td>NaN</td>\n",
       "      <td>B</td>\n",
       "      <td>NaN</td>\n",
       "      <td>0</td>\n",
       "      <td>0</td>\n",
       "      <td>0</td>\n",
       "    </tr>\n",
       "    <tr>\n",
       "      <th>3</th>\n",
       "      <td>104025</td>\n",
       "      <td>1794</td>\n",
       "      <td>1988-01-03</td>\n",
       "      <td>1988.0</td>\n",
       "      <td>220453</td>\n",
       "      <td>NaN</td>\n",
       "      <td>1952</td>\n",
       "      <td>1</td>\n",
       "      <td>0</td>\n",
       "      <td>0</td>\n",
       "      <td>...</td>\n",
       "      <td>9994</td>\n",
       "      <td>0</td>\n",
       "      <td>3.0</td>\n",
       "      <td>IF</td>\n",
       "      <td>NaN</td>\n",
       "      <td>B</td>\n",
       "      <td>NaN</td>\n",
       "      <td>0</td>\n",
       "      <td>0</td>\n",
       "      <td>0</td>\n",
       "    </tr>\n",
       "    <tr>\n",
       "      <th>4</th>\n",
       "      <td>18252</td>\n",
       "      <td>516</td>\n",
       "      <td>1988-01-03</td>\n",
       "      <td>1988.0</td>\n",
       "      <td>J78755</td>\n",
       "      <td>230.0</td>\n",
       "      <td>1952</td>\n",
       "      <td>0</td>\n",
       "      <td>0</td>\n",
       "      <td>0</td>\n",
       "      <td>...</td>\n",
       "      <td>5840</td>\n",
       "      <td>367</td>\n",
       "      <td>3.0</td>\n",
       "      <td>IF</td>\n",
       "      <td>NaN</td>\n",
       "      <td>B</td>\n",
       "      <td>W</td>\n",
       "      <td>0</td>\n",
       "      <td>0</td>\n",
       "      <td>1</td>\n",
       "    </tr>\n",
       "    <tr>\n",
       "      <th>5</th>\n",
       "      <td>6411</td>\n",
       "      <td>0</td>\n",
       "      <td>1988-01-03</td>\n",
       "      <td>1988.0</td>\n",
       "      <td>X010116</td>\n",
       "      <td>230.0</td>\n",
       "      <td>2284</td>\n",
       "      <td>0</td>\n",
       "      <td>0</td>\n",
       "      <td>0</td>\n",
       "      <td>...</td>\n",
       "      <td>11751</td>\n",
       "      <td>158</td>\n",
       "      <td>4.0</td>\n",
       "      <td>IF</td>\n",
       "      <td>O</td>\n",
       "      <td>NaN</td>\n",
       "      <td>W</td>\n",
       "      <td>0</td>\n",
       "      <td>1</td>\n",
       "      <td>1</td>\n",
       "    </tr>\n",
       "  </tbody>\n",
       "</table>\n",
       "<p>5 rows × 29 columns</p>\n",
       "</div>"
      ],
      "text/plain": [
       "   UNIQUE_ID  NEXT_ARREST_TIME ARREST_DATE  ARREST_DATE_y BOFI_NBR  \\\n",
       "1       5183                 0  1988-01-03         1988.0   290600   \n",
       "2       5073              3209  1988-01-03         1988.0   290588   \n",
       "3     104025              1794  1988-01-03         1988.0   220453   \n",
       "4      18252               516  1988-01-03         1988.0   J78755   \n",
       "5       6411                 0  1988-01-03         1988.0  X010116   \n",
       "\n",
       "   SCREENING_DISP_CODE  BAR_ADMIT_DAYS  CRIMINAL_FLAG  FINAL_DETENTION_FLAG  \\\n",
       "1                  NaN            1952              0                     0   \n",
       "2                  NaN            1952              1                     0   \n",
       "3                  NaN            1952              1                     0   \n",
       "4                230.0            1952              0                     0   \n",
       "5                230.0            2284              0                     0   \n",
       "\n",
       "   HABITUAL_OFFENDER_FLAG    ...       AGE  ARREST_TO_SCREEN  CHARGE_CLASS  \\\n",
       "1                       0    ...     10141                 0           4.0   \n",
       "2                       0    ...      6773                 0           3.0   \n",
       "3                       0    ...      9994                 0           3.0   \n",
       "4                       0    ...      5840               367           3.0   \n",
       "5                       0    ...     11751               158           4.0   \n",
       "\n",
       "   CHARGE_TYPE  PARTY  RACE  SADA_RACE  AGE_JUV_INVALID  AGE_NA  ACCEPTED  \n",
       "1           IF    NaN     W        NaN                0       0         0  \n",
       "2           IF    NaN     B        NaN                0       0         0  \n",
       "3           IF    NaN     B        NaN                0       0         0  \n",
       "4           IF    NaN     B          W                0       0         1  \n",
       "5           IF      O   NaN          W                0       1         1  \n",
       "\n",
       "[5 rows x 29 columns]"
      ]
     },
     "execution_count": 68,
     "metadata": {},
     "output_type": "execute_result"
    }
   ],
   "source": [
    "classified.head()"
   ]
  },
  {
   "cell_type": "code",
   "execution_count": null,
   "metadata": {
    "collapsed": true
   },
   "outputs": [],
   "source": [
    "#how will we split training, validation now that there are more records?\n",
    "#How do I know that this will put all the old training ones into the training set?"
   ]
  },
  {
   "cell_type": "code",
   "execution_count": 91,
   "metadata": {
    "collapsed": false
   },
   "outputs": [
    {
     "name": "stdout",
     "output_type": "stream",
     "text": [
      "Test Data 25068\n",
      "(100272, 29)\n",
      "Val Data 20055\n",
      "Train Data 80217\n",
      "Test Data 21078\n",
      "(84308, 29)\n",
      "Val Data 16862\n",
      "Train Data 67446\n"
     ]
    }
   ],
   "source": [
    "#two rounds of splits so predicted judge training set includes all training records from risk prediction model and so on.\n",
    "\n",
    "test_ne_1, train_ne_1, val_ne_1 = pe.split_data(classified[classified['ACCEPTED']==0], test_split=.2, \\\n",
    "                                 train_split=.64, by_var='ARREST_DATE_y', random_state=1)\n",
    "\n",
    "test_ne_2, train_ne_2, val_ne_2 = pe.split_data(classified[classified['ACCEPTED']==1], test_split=.2, \\\n",
    "                                 train_split=.64, by_var='ARREST_DATE_y', random_state=1)\n",
    "\n",
    "test_ne = pd.concat([test_ne_1, test_ne_2],axis=0)\n",
    "train_ne = pd.concat([train_ne_1, train_ne_2],axis=0)\n",
    "val_ne = pd.concat([val_ne_1, val_ne_2],axis=0)"
   ]
  },
  {
   "cell_type": "code",
   "execution_count": 92,
   "metadata": {
    "collapsed": false
   },
   "outputs": [],
   "source": [
    "train_ne.to_csv('data_train_pj.csv', index=False)\n",
    "test_ne.to_csv('data_test_pj.csv', index=False)\n",
    "val_ne.to_csv('data_val_pj.csv', index=False)"
   ]
  },
  {
   "cell_type": "code",
   "execution_count": 93,
   "metadata": {
    "collapsed": false
   },
   "outputs": [],
   "source": [
    "cat_var = ['SADA_SEX', 'SEX', 'PARTY', 'RACE', 'SADA_RACE', \\\n",
    "           'SCREENING_DISP_DATE_y', 'SCREENING_DISP_DATE_m', 'CHARGE_TYPE', \\\n",
    "           'CHARGE_CLASS', 'ARREST_DATE_y']\n",
    "\n",
    "cat_var_enc = pe.one_hot_encode(refused[cat_var])\n",
    "cat_var_enc = pd.DataFrame(cat_var_enc.toarray(), index=refused.index)\n",
    "\n",
    "refused_enc = refused.drop(cat_var[:-1], axis=1)\n",
    "refused_enc = pd.merge(refused_enc, \\\n",
    "                       cat_var_enc,\\\n",
    "                       left_index=True, \\\n",
    "                       right_index=True, \\\n",
    "                       how='left')"
   ]
  },
  {
   "cell_type": "code",
   "execution_count": 94,
   "metadata": {
    "collapsed": false
   },
   "outputs": [
    {
     "name": "stdout",
     "output_type": "stream",
     "text": [
      "Test Data 25068\n",
      "(100272, 29)\n",
      "Val Data 20055\n",
      "Train Data 80217\n",
      "Test Data 21078\n",
      "(84308, 29)\n",
      "Val Data 16862\n",
      "Train Data 67446\n"
     ]
    }
   ],
   "source": [
    "#two rounds of splits so predicted judge training set includes all training records from risk prediction model and so on.\n",
    "\n",
    "test_1, train_1, val_1 = pe.split_data(classified[classified['ACCEPTED']==0], test_split=.2, \\\n",
    "                                 train_split=.64, by_var='ARREST_DATE_y', random_state=1)\n",
    "\n",
    "test_2, train_2, val_2 = pe.split_data(classified[classified['ACCEPTED']==1], test_split=.2, \\\n",
    "                                 train_split=.64, by_var='ARREST_DATE_y', random_state=1)\n",
    "\n",
    "test = pd.concat([test_1, test_2],axis=0)\n",
    "train = pd.concat([train_1, train_2],axis=0)\n",
    "val = pd.concat([val_1, val_2],axis=0)"
   ]
  },
  {
   "cell_type": "code",
   "execution_count": 97,
   "metadata": {
    "collapsed": false
   },
   "outputs": [],
   "source": [
    "train.to_csv('train_pj.csv',index=False)\n",
    "val.to_csv('val_pj.csv',index=False)\n",
    "test.to_csv('test_pj.csv', index=False)"
   ]
  }
 ],
 "metadata": {
  "anaconda-cloud": {},
  "kernelspec": {
   "display_name": "Python 3",
   "language": "python",
   "name": "python3"
  },
  "language_info": {
   "codemirror_mode": {
    "name": "ipython",
    "version": 3
   },
   "file_extension": ".py",
   "mimetype": "text/x-python",
   "name": "python",
   "nbconvert_exporter": "python",
   "pygments_lexer": "ipython3",
   "version": "3.6.0"
  }
 },
 "nbformat": 4,
 "nbformat_minor": 0
}
