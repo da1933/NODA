{
 "cells": [
  {
   "cell_type": "code",
   "execution_count": 2,
   "metadata": {
    "collapsed": false
   },
   "outputs": [],
   "source": [
    "import numpy as np\n",
    "import pandas as pd\n",
    "import matplotlib\n",
    "import matplotlib.pyplot as plt\n",
    "import pylab\n",
    "import os\n",
    "import sklearn as sklearn\n",
    "import math\n",
    "from sklearn.ensemble import GradientBoostingClassifier, RandomForestClassifier\n",
    "from sklearn.model_selection import cross_val_score\n",
    "from itertools import product\n",
    "from sklearn.metrics import precision_recall_curve\n",
    "from scipy.stats.stats import pearsonr\n",
    "from sklearn.datasets import make_hastie_10_2\n",
    "from sklearn.linear_model import LogisticRegression\n",
    "from sklearn.ensemble.partial_dependence import plot_partial_dependence\n",
    "from sklearn import preprocessing\n",
    "%matplotlib inline"
   ]
  },
  {
   "cell_type": "code",
   "execution_count": 466,
   "metadata": {
    "collapsed": true
   },
   "outputs": [],
   "source": [
    "os.chdir(\"/Users/carolineroper/Documents/School/Machine Learning/Reset_Project/noda\")\n",
    "import project_env as pe\n",
    "import error_analysis as ea"
   ]
  },
  {
   "cell_type": "code",
   "execution_count": 736,
   "metadata": {
    "collapsed": false
   },
   "outputs": [],
   "source": [
    "train = pd.read_csv('train_pj.csv')\n",
    "val = pd.read_csv('val_pj.csv')\n",
    "test = pd.read_csv('test_pj.csv')"
   ]
  },
  {
   "cell_type": "markdown",
   "metadata": {},
   "source": [
    "### Investigating Missing Values Over Time"
   ]
  },
  {
   "cell_type": "code",
   "execution_count": 696,
   "metadata": {
    "collapsed": false
   },
   "outputs": [],
   "source": [
    "data_simple = pd.read_csv('data_processing/output/data_simple.csv')"
   ]
  },
  {
   "cell_type": "code",
   "execution_count": 697,
   "metadata": {
    "collapsed": false,
    "scrolled": true
   },
   "outputs": [
    {
     "data": {
      "text/plain": [
       "UNIQUE_ID                      0\n",
       "ADA_CODE                   27237\n",
       "ADD_DATE                       4\n",
       "ARREST_CREDIT_CODE         10878\n",
       "ARREST_DATE                    4\n",
       "BAR_ADMISSION              30887\n",
       "BOFI_NBR                       1\n",
       "CHARGE_CLASS                4602\n",
       "CHARGE_TYPE                  581\n",
       "CRIMINAL_FLAG                  0\n",
       "DFDN_SEQ_NBR                   0\n",
       "DOB                            0\n",
       "FBI_NBR                   172823\n",
       "FINAL_DETENTION_FLAG           4\n",
       "HABITUAL_OFFENDER_FLAG     60732\n",
       "INITIAL_DETENTION_FLAG     15469\n",
       "JUVENILE_FLAG                  0\n",
       "LEAD_CHARGE_CODE             552\n",
       "PARTY                      56195\n",
       "POLICE_RPT_DATE                0\n",
       "POLICE_RPT_DAYS                0\n",
       "RACE                        4821\n",
       "SADA_DOB                   36432\n",
       "SADA_RACE                  38901\n",
       "SADA_SEX                   28992\n",
       "SCREENING_DAYS                 0\n",
       "SCREENING_DISP_CODE        35515\n",
       "SCREENING_DISP_DATE            0\n",
       "SEX                         4775\n",
       "SYS_NBR                        0\n",
       "dtype: int64"
      ]
     },
     "execution_count": 697,
     "metadata": {},
     "output_type": "execute_result"
    }
   ],
   "source": [
    "data_simple.isnull().sum()"
   ]
  },
  {
   "cell_type": "code",
   "execution_count": 698,
   "metadata": {
    "collapsed": true
   },
   "outputs": [],
   "source": [
    "cols_can_be_NA = ['ADA_CODE', 'ARREST_CREDIT_CODE', 'BAR_ADMISSION', 'SCREENING_DISP_CODE', 'CHARGE_CLASS', \\\n",
    "                  'CHARGE_TYPE', 'HABITUAL_OFFENDER_FLAG', 'INITIAL_DETENTION_FLAG', 'LEAD_CHARGE_CODE', 'PARTY', \\\n",
    "                  'RACE', 'SADA_DOB', 'SADA_SEX', 'SEX', 'SADA_RACE']"
   ]
  },
  {
   "cell_type": "code",
   "execution_count": 699,
   "metadata": {
    "collapsed": true
   },
   "outputs": [],
   "source": [
    "data_simple['YEAR'] = data_simple.ARREST_DATE.astype(str).str.slice(0,4)"
   ]
  },
  {
   "cell_type": "code",
   "execution_count": 700,
   "metadata": {
    "collapsed": false
   },
   "outputs": [],
   "source": [
    "year_nums = np.arange(1988,2000).astype(str)"
   ]
  },
  {
   "cell_type": "code",
   "execution_count": 701,
   "metadata": {
    "collapsed": false
   },
   "outputs": [],
   "source": [
    "years = list(year_nums)\n",
    "\n",
    "data_simple = data_simple[data_simple['YEAR'].isin(years)]\n",
    "\n",
    "na_counts = pd.DataFrame(columns = cols_can_be_NA, index = years)"
   ]
  },
  {
   "cell_type": "code",
   "execution_count": 704,
   "metadata": {
    "collapsed": false
   },
   "outputs": [],
   "source": [
    "for year in years:\n",
    "    row = np.array(data_simple[data_simple['YEAR'] == year][cols_can_be_NA].isnull().sum())\n",
    "    df = pd.DataFrame(data = list(zip(cols_can_be_NA, row)))\n",
    "    df.index = df[0]\n",
    "    series = pd.Series(df[1].to_dict())\n",
    "    na_counts.loc[year] = series"
   ]
  },
  {
   "cell_type": "code",
   "execution_count": 705,
   "metadata": {
    "collapsed": false
   },
   "outputs": [
    {
     "data": {
      "text/html": [
       "<div>\n",
       "<table border=\"1\" class=\"dataframe\">\n",
       "  <thead>\n",
       "    <tr style=\"text-align: right;\">\n",
       "      <th></th>\n",
       "      <th>ADA_CODE</th>\n",
       "      <th>ARREST_CREDIT_CODE</th>\n",
       "      <th>BAR_ADMISSION</th>\n",
       "      <th>SCREENING_DISP_CODE</th>\n",
       "      <th>CHARGE_CLASS</th>\n",
       "      <th>CHARGE_TYPE</th>\n",
       "      <th>HABITUAL_OFFENDER_FLAG</th>\n",
       "      <th>INITIAL_DETENTION_FLAG</th>\n",
       "      <th>LEAD_CHARGE_CODE</th>\n",
       "      <th>PARTY</th>\n",
       "      <th>RACE</th>\n",
       "      <th>SADA_DOB</th>\n",
       "      <th>SADA_SEX</th>\n",
       "      <th>SEX</th>\n",
       "      <th>SADA_RACE</th>\n",
       "    </tr>\n",
       "  </thead>\n",
       "  <tbody>\n",
       "    <tr>\n",
       "      <th>1988</th>\n",
       "      <td>1403</td>\n",
       "      <td>327</td>\n",
       "      <td>1897</td>\n",
       "      <td>1393</td>\n",
       "      <td>100</td>\n",
       "      <td>0</td>\n",
       "      <td>34</td>\n",
       "      <td>0</td>\n",
       "      <td>1</td>\n",
       "      <td>3758</td>\n",
       "      <td>95</td>\n",
       "      <td>2365</td>\n",
       "      <td>1537</td>\n",
       "      <td>95</td>\n",
       "      <td>2372</td>\n",
       "    </tr>\n",
       "    <tr>\n",
       "      <th>1989</th>\n",
       "      <td>3129</td>\n",
       "      <td>797</td>\n",
       "      <td>4003</td>\n",
       "      <td>3017</td>\n",
       "      <td>755</td>\n",
       "      <td>0</td>\n",
       "      <td>40</td>\n",
       "      <td>3</td>\n",
       "      <td>0</td>\n",
       "      <td>9562</td>\n",
       "      <td>612</td>\n",
       "      <td>5223</td>\n",
       "      <td>3557</td>\n",
       "      <td>612</td>\n",
       "      <td>6317</td>\n",
       "    </tr>\n",
       "    <tr>\n",
       "      <th>1990</th>\n",
       "      <td>4135</td>\n",
       "      <td>1792</td>\n",
       "      <td>5598</td>\n",
       "      <td>3965</td>\n",
       "      <td>1133</td>\n",
       "      <td>0</td>\n",
       "      <td>36</td>\n",
       "      <td>0</td>\n",
       "      <td>0</td>\n",
       "      <td>12051</td>\n",
       "      <td>794</td>\n",
       "      <td>6859</td>\n",
       "      <td>4770</td>\n",
       "      <td>794</td>\n",
       "      <td>6055</td>\n",
       "    </tr>\n",
       "    <tr>\n",
       "      <th>1991</th>\n",
       "      <td>3928</td>\n",
       "      <td>1932</td>\n",
       "      <td>3929</td>\n",
       "      <td>3776</td>\n",
       "      <td>631</td>\n",
       "      <td>0</td>\n",
       "      <td>59</td>\n",
       "      <td>0</td>\n",
       "      <td>0</td>\n",
       "      <td>8073</td>\n",
       "      <td>672</td>\n",
       "      <td>5467</td>\n",
       "      <td>4034</td>\n",
       "      <td>672</td>\n",
       "      <td>6560</td>\n",
       "    </tr>\n",
       "    <tr>\n",
       "      <th>1992</th>\n",
       "      <td>3704</td>\n",
       "      <td>724</td>\n",
       "      <td>3704</td>\n",
       "      <td>3047</td>\n",
       "      <td>399</td>\n",
       "      <td>24</td>\n",
       "      <td>155</td>\n",
       "      <td>0</td>\n",
       "      <td>2</td>\n",
       "      <td>5126</td>\n",
       "      <td>280</td>\n",
       "      <td>5062</td>\n",
       "      <td>3706</td>\n",
       "      <td>279</td>\n",
       "      <td>5072</td>\n",
       "    </tr>\n",
       "    <tr>\n",
       "      <th>1993</th>\n",
       "      <td>35</td>\n",
       "      <td>170</td>\n",
       "      <td>35</td>\n",
       "      <td>1620</td>\n",
       "      <td>350</td>\n",
       "      <td>2</td>\n",
       "      <td>1928</td>\n",
       "      <td>0</td>\n",
       "      <td>1</td>\n",
       "      <td>1526</td>\n",
       "      <td>34</td>\n",
       "      <td>108</td>\n",
       "      <td>107</td>\n",
       "      <td>34</td>\n",
       "      <td>115</td>\n",
       "    </tr>\n",
       "    <tr>\n",
       "      <th>1994</th>\n",
       "      <td>253</td>\n",
       "      <td>170</td>\n",
       "      <td>254</td>\n",
       "      <td>1564</td>\n",
       "      <td>190</td>\n",
       "      <td>53</td>\n",
       "      <td>3345</td>\n",
       "      <td>2</td>\n",
       "      <td>52</td>\n",
       "      <td>3196</td>\n",
       "      <td>10</td>\n",
       "      <td>332</td>\n",
       "      <td>331</td>\n",
       "      <td>11</td>\n",
       "      <td>363</td>\n",
       "    </tr>\n",
       "    <tr>\n",
       "      <th>1995</th>\n",
       "      <td>985</td>\n",
       "      <td>150</td>\n",
       "      <td>986</td>\n",
       "      <td>1788</td>\n",
       "      <td>88</td>\n",
       "      <td>34</td>\n",
       "      <td>10378</td>\n",
       "      <td>1</td>\n",
       "      <td>34</td>\n",
       "      <td>2002</td>\n",
       "      <td>12</td>\n",
       "      <td>985</td>\n",
       "      <td>985</td>\n",
       "      <td>7</td>\n",
       "      <td>1034</td>\n",
       "    </tr>\n",
       "    <tr>\n",
       "      <th>1996</th>\n",
       "      <td>864</td>\n",
       "      <td>52</td>\n",
       "      <td>869</td>\n",
       "      <td>1792</td>\n",
       "      <td>94</td>\n",
       "      <td>53</td>\n",
       "      <td>9860</td>\n",
       "      <td>1</td>\n",
       "      <td>53</td>\n",
       "      <td>937</td>\n",
       "      <td>26</td>\n",
       "      <td>870</td>\n",
       "      <td>865</td>\n",
       "      <td>11</td>\n",
       "      <td>933</td>\n",
       "    </tr>\n",
       "    <tr>\n",
       "      <th>1997</th>\n",
       "      <td>1066</td>\n",
       "      <td>82</td>\n",
       "      <td>1069</td>\n",
       "      <td>2344</td>\n",
       "      <td>350</td>\n",
       "      <td>284</td>\n",
       "      <td>12226</td>\n",
       "      <td>33</td>\n",
       "      <td>284</td>\n",
       "      <td>1135</td>\n",
       "      <td>37</td>\n",
       "      <td>1068</td>\n",
       "      <td>1067</td>\n",
       "      <td>36</td>\n",
       "      <td>1136</td>\n",
       "    </tr>\n",
       "    <tr>\n",
       "      <th>1998</th>\n",
       "      <td>1016</td>\n",
       "      <td>81</td>\n",
       "      <td>1062</td>\n",
       "      <td>2461</td>\n",
       "      <td>110</td>\n",
       "      <td>24</td>\n",
       "      <td>10767</td>\n",
       "      <td>6240</td>\n",
       "      <td>24</td>\n",
       "      <td>1184</td>\n",
       "      <td>33</td>\n",
       "      <td>1026</td>\n",
       "      <td>1027</td>\n",
       "      <td>33</td>\n",
       "      <td>1362</td>\n",
       "    </tr>\n",
       "    <tr>\n",
       "      <th>1999</th>\n",
       "      <td>2632</td>\n",
       "      <td>67</td>\n",
       "      <td>3315</td>\n",
       "      <td>3926</td>\n",
       "      <td>71</td>\n",
       "      <td>14</td>\n",
       "      <td>11355</td>\n",
       "      <td>8479</td>\n",
       "      <td>14</td>\n",
       "      <td>3044</td>\n",
       "      <td>27</td>\n",
       "      <td>2633</td>\n",
       "      <td>2635</td>\n",
       "      <td>23</td>\n",
       "      <td>3061</td>\n",
       "    </tr>\n",
       "  </tbody>\n",
       "</table>\n",
       "</div>"
      ],
      "text/plain": [
       "      ADA_CODE  ARREST_CREDIT_CODE  BAR_ADMISSION  SCREENING_DISP_CODE  \\\n",
       "1988      1403                 327           1897                 1393   \n",
       "1989      3129                 797           4003                 3017   \n",
       "1990      4135                1792           5598                 3965   \n",
       "1991      3928                1932           3929                 3776   \n",
       "1992      3704                 724           3704                 3047   \n",
       "1993        35                 170             35                 1620   \n",
       "1994       253                 170            254                 1564   \n",
       "1995       985                 150            986                 1788   \n",
       "1996       864                  52            869                 1792   \n",
       "1997      1066                  82           1069                 2344   \n",
       "1998      1016                  81           1062                 2461   \n",
       "1999      2632                  67           3315                 3926   \n",
       "\n",
       "      CHARGE_CLASS  CHARGE_TYPE  HABITUAL_OFFENDER_FLAG  \\\n",
       "1988           100            0                      34   \n",
       "1989           755            0                      40   \n",
       "1990          1133            0                      36   \n",
       "1991           631            0                      59   \n",
       "1992           399           24                     155   \n",
       "1993           350            2                    1928   \n",
       "1994           190           53                    3345   \n",
       "1995            88           34                   10378   \n",
       "1996            94           53                    9860   \n",
       "1997           350          284                   12226   \n",
       "1998           110           24                   10767   \n",
       "1999            71           14                   11355   \n",
       "\n",
       "      INITIAL_DETENTION_FLAG  LEAD_CHARGE_CODE  PARTY  RACE  SADA_DOB  \\\n",
       "1988                       0                 1   3758    95      2365   \n",
       "1989                       3                 0   9562   612      5223   \n",
       "1990                       0                 0  12051   794      6859   \n",
       "1991                       0                 0   8073   672      5467   \n",
       "1992                       0                 2   5126   280      5062   \n",
       "1993                       0                 1   1526    34       108   \n",
       "1994                       2                52   3196    10       332   \n",
       "1995                       1                34   2002    12       985   \n",
       "1996                       1                53    937    26       870   \n",
       "1997                      33               284   1135    37      1068   \n",
       "1998                    6240                24   1184    33      1026   \n",
       "1999                    8479                14   3044    27      2633   \n",
       "\n",
       "      SADA_SEX  SEX  SADA_RACE  \n",
       "1988      1537   95       2372  \n",
       "1989      3557  612       6317  \n",
       "1990      4770  794       6055  \n",
       "1991      4034  672       6560  \n",
       "1992      3706  279       5072  \n",
       "1993       107   34        115  \n",
       "1994       331   11        363  \n",
       "1995       985    7       1034  \n",
       "1996       865   11        933  \n",
       "1997      1067   36       1136  \n",
       "1998      1027   33       1362  \n",
       "1999      2635   23       3061  "
      ]
     },
     "execution_count": 705,
     "metadata": {},
     "output_type": "execute_result"
    }
   ],
   "source": [
    "na_counts"
   ]
  },
  {
   "cell_type": "code",
   "execution_count": 706,
   "metadata": {
    "collapsed": true
   },
   "outputs": [],
   "source": [
    "data_simple['Count'] = 1"
   ]
  },
  {
   "cell_type": "code",
   "execution_count": 707,
   "metadata": {
    "collapsed": false
   },
   "outputs": [],
   "source": [
    "na_counts.sort_index(inplace=True)"
   ]
  },
  {
   "cell_type": "code",
   "execution_count": 708,
   "metadata": {
    "collapsed": true
   },
   "outputs": [],
   "source": [
    "na_counts['Total_Nulls'] = na_counts.sum(axis=1)"
   ]
  },
  {
   "cell_type": "code",
   "execution_count": 709,
   "metadata": {
    "collapsed": false
   },
   "outputs": [],
   "source": [
    "na_counts['Total_Records'] = pd.pivot_table(data = data_simple, values = 'Count', index = 'YEAR', aggfunc=sum)\n",
    "\n",
    "na_counts['Total_Values'] = na_counts['Total_Records']*len(cols_can_be_NA)\n",
    "\n",
    "na_counts['Percent Null'] = na_counts['Total_Nulls']/na_counts['Total_Values']"
   ]
  },
  {
   "cell_type": "code",
   "execution_count": 710,
   "metadata": {
    "collapsed": false
   },
   "outputs": [],
   "source": [
    "na_counts.index = na_counts.index.map(int)"
   ]
  },
  {
   "cell_type": "code",
   "execution_count": 711,
   "metadata": {
    "collapsed": false
   },
   "outputs": [
    {
     "data": {
      "image/png": "[encoded data removed]",
      "text/plain": [
       "<matplotlib.figure.Figure at 0x13a0a9ba8>"
      ]
     },
     "metadata": {},
     "output_type": "display_data"
    }
   ],
   "source": [
    "na_counts['Total_Records'].plot(kind = 'bar', title = \"Records by Year\", rot=45)\n",
    "plt.savefig('Records_by_Year.png')"
   ]
  },
  {
   "cell_type": "code",
   "execution_count": 712,
   "metadata": {
    "collapsed": false
   },
   "outputs": [
    {
     "data": {
      "image/png": "[encoded data removed]",
      "text/plain": [
       "<matplotlib.figure.Figure at 0x1349acd30>"
      ]
     },
     "metadata": {},
     "output_type": "display_data"
    }
   ],
   "source": [
    "na_counts['Percent Null'].plot(kind = 'bar', title = \"Percent Missing by Year\", rot=45)\n",
    "plt.savefig('Percent_Missing_Yr.png')"
   ]
  },
  {
   "cell_type": "code",
   "execution_count": 713,
   "metadata": {
    "collapsed": false
   },
   "outputs": [],
   "source": [
    "na_counts['Percent Screening Disp Code Null'] = na_counts[\"SCREENING_DISP_CODE\"].divide(na_counts[\"Total_Records\"])"
   ]
  },
  {
   "cell_type": "code",
   "execution_count": 714,
   "metadata": {
    "collapsed": false
   },
   "outputs": [
    {
     "data": {
      "image/png": "[encoded data removed]",
      "text/plain": [
       "<matplotlib.figure.Figure at 0x117471630>"
      ]
     },
     "metadata": {},
     "output_type": "display_data"
    }
   ],
   "source": [
    "na_counts['Percent Screening Disp Code Null'].plot(kind = 'bar', \\\n",
    "                                                   title = \"Percent Screening Disposition Code Missing by Arrest Year\",\\\n",
    "                                                  rot=45)\n",
    "plt.savefig('Pct_Missing_ScrDCode_yr.png')"
   ]
  },
  {
   "cell_type": "code",
   "execution_count": 617,
   "metadata": {
    "collapsed": false
   },
   "outputs": [
    {
     "data": {
      "image/png": "[encoded data removed]",
      "text/plain": [
       "<matplotlib.figure.Figure at 0x138ad4f60>"
      ]
     },
     "metadata": {},
     "output_type": "display_data"
    }
   ],
   "source": [
    "na_counts['Percent Charge Class Null'] = na_counts[\"CHARGE_CLASS\"]/na_counts['Total_Records']\n",
    "na_counts['Percent Charge Class Null'].plot(kind='bar', title = \"Percent Missing Charge Class by Arrest Year\", rot=45)\n",
    "plt.savefig('Pct_Missing_Charge_Code_yr.png')"
   ]
  },
  {
   "cell_type": "markdown",
   "metadata": {},
   "source": [
    "### Plotting Trends Over Time"
   ]
  },
  {
   "cell_type": "code",
   "execution_count": 199,
   "metadata": {
    "collapsed": true
   },
   "outputs": [],
   "source": [
    "#Read in the pre-encoding versions of the data as well\n",
    "\n",
    "train_og = pd.read_csv('data_train_pj.csv')"
   ]
  },
  {
   "cell_type": "code",
   "execution_count": 207,
   "metadata": {
    "collapsed": true
   },
   "outputs": [],
   "source": [
    "train_og['Count'] = 1"
   ]
  },
  {
   "cell_type": "code",
   "execution_count": 412,
   "metadata": {
    "collapsed": false
   },
   "outputs": [],
   "source": [
    "by_sc_disp_date = pd.pivot_table(data = train_og, index = 'SCREENING_DISP_DATE_y', \\\n",
    "           columns = 'ACCEPTED', \\\n",
    "              values = 'Count', aggfunc=sum, dropna=False) "
   ]
  },
  {
   "cell_type": "code",
   "execution_count": 414,
   "metadata": {
    "collapsed": false
   },
   "outputs": [
    {
     "data": {
      "text/html": [
       "<div>\n",
       "<table border=\"1\" class=\"dataframe\">\n",
       "  <thead>\n",
       "    <tr style=\"text-align: right;\">\n",
       "      <th></th>\n",
       "      <th>Not Accepted</th>\n",
       "      <th>Accepted</th>\n",
       "    </tr>\n",
       "    <tr>\n",
       "      <th>SCREENING_DISP_DATE_y</th>\n",
       "      <th></th>\n",
       "      <th></th>\n",
       "    </tr>\n",
       "  </thead>\n",
       "  <tbody>\n",
       "    <tr>\n",
       "      <th>1987.0</th>\n",
       "      <td>2.0</td>\n",
       "      <td>NaN</td>\n",
       "    </tr>\n",
       "    <tr>\n",
       "      <th>1988.0</th>\n",
       "      <td>1183.0</td>\n",
       "      <td>1154.0</td>\n",
       "    </tr>\n",
       "    <tr>\n",
       "      <th>1989.0</th>\n",
       "      <td>7481.0</td>\n",
       "      <td>5751.0</td>\n",
       "    </tr>\n",
       "    <tr>\n",
       "      <th>1990.0</th>\n",
       "      <td>9669.0</td>\n",
       "      <td>3268.0</td>\n",
       "    </tr>\n",
       "    <tr>\n",
       "      <th>1991.0</th>\n",
       "      <td>7349.0</td>\n",
       "      <td>5000.0</td>\n",
       "    </tr>\n",
       "    <tr>\n",
       "      <th>1992.0</th>\n",
       "      <td>6586.0</td>\n",
       "      <td>5594.0</td>\n",
       "    </tr>\n",
       "    <tr>\n",
       "      <th>1993.0</th>\n",
       "      <td>5057.0</td>\n",
       "      <td>6464.0</td>\n",
       "    </tr>\n",
       "    <tr>\n",
       "      <th>1994.0</th>\n",
       "      <td>5847.0</td>\n",
       "      <td>6250.0</td>\n",
       "    </tr>\n",
       "    <tr>\n",
       "      <th>1995.0</th>\n",
       "      <td>4991.0</td>\n",
       "      <td>6493.0</td>\n",
       "    </tr>\n",
       "    <tr>\n",
       "      <th>1996.0</th>\n",
       "      <td>5647.0</td>\n",
       "      <td>6312.0</td>\n",
       "    </tr>\n",
       "    <tr>\n",
       "      <th>1997.0</th>\n",
       "      <td>6737.0</td>\n",
       "      <td>6920.0</td>\n",
       "    </tr>\n",
       "    <tr>\n",
       "      <th>1998.0</th>\n",
       "      <td>9199.0</td>\n",
       "      <td>8014.0</td>\n",
       "    </tr>\n",
       "    <tr>\n",
       "      <th>1999.0</th>\n",
       "      <td>10469.0</td>\n",
       "      <td>6226.0</td>\n",
       "    </tr>\n",
       "  </tbody>\n",
       "</table>\n",
       "</div>"
      ],
      "text/plain": [
       "                       Not Accepted  Accepted\n",
       "SCREENING_DISP_DATE_y                        \n",
       "1987.0                          2.0       NaN\n",
       "1988.0                       1183.0    1154.0\n",
       "1989.0                       7481.0    5751.0\n",
       "1990.0                       9669.0    3268.0\n",
       "1991.0                       7349.0    5000.0\n",
       "1992.0                       6586.0    5594.0\n",
       "1993.0                       5057.0    6464.0\n",
       "1994.0                       5847.0    6250.0\n",
       "1995.0                       4991.0    6493.0\n",
       "1996.0                       5647.0    6312.0\n",
       "1997.0                       6737.0    6920.0\n",
       "1998.0                       9199.0    8014.0\n",
       "1999.0                      10469.0    6226.0"
      ]
     },
     "execution_count": 414,
     "metadata": {},
     "output_type": "execute_result"
    }
   ],
   "source": [
    "by_sc_disp_date"
   ]
  },
  {
   "cell_type": "code",
   "execution_count": 415,
   "metadata": {
    "collapsed": false
   },
   "outputs": [],
   "source": [
    "by_sc_disp_date.columns = ['Not Accepted', 'Accepted']\n",
    "\n",
    "by_sc_disp_date['Total'] = by_sc_disp_date['Not Accepted'] + by_sc_disp_date['Accepted']\n",
    "\n",
    "by_sc_disp_date['Percent'] = by_sc_disp_date['Accepted']/by_sc_disp_date['Total']"
   ]
  },
  {
   "cell_type": "code",
   "execution_count": 385,
   "metadata": {
    "collapsed": false
   },
   "outputs": [
    {
     "data": {
      "text/plain": [
       "(147663, 30)"
      ]
     },
     "execution_count": 385,
     "metadata": {},
     "output_type": "execute_result"
    }
   ],
   "source": [
    "train_og.shape #everything based on train_og is based on the original dataset that has the juveniles in it."
   ]
  },
  {
   "cell_type": "code",
   "execution_count": 420,
   "metadata": {
    "collapsed": false
   },
   "outputs": [],
   "source": [
    "by_sc_disp_date.index = by_sc_disp_date.index.map(int)"
   ]
  },
  {
   "cell_type": "code",
   "execution_count": 463,
   "metadata": {
    "collapsed": false
   },
   "outputs": [
    {
     "data": {
      "image/png": "[encoded data removed]",
      "text/plain": [
       "<matplotlib.figure.Figure at 0x110b01978>"
      ]
     },
     "metadata": {},
     "output_type": "display_data"
    }
   ],
   "source": [
    "by_sc_disp_date['Total'].plot(kind = 'bar', title = \"Number of Records by Disposition Year\", rot = 45)\n",
    "plt.savefig(\"Dispositions_per_yr.png\")"
   ]
  },
  {
   "cell_type": "code",
   "execution_count": 422,
   "metadata": {
    "collapsed": false
   },
   "outputs": [
    {
     "data": {
      "image/png": "[encoded data removed]",
      "text/plain": [
       "<matplotlib.figure.Figure at 0x12c7fe358>"
      ]
     },
     "metadata": {},
     "output_type": "display_data"
    }
   ],
   "source": [
    "by_sc_disp_date['Percent'].plot(kind = 'bar', title = \"Percent of Charges Accepted by Disposition Year\", rot = 45)\n",
    "plt.savefig(\"Charges_accepted_per_yr.png\")"
   ]
  },
  {
   "cell_type": "markdown",
   "metadata": {},
   "source": [
    "### Plotting % Accepted by Charge Type"
   ]
  },
  {
   "cell_type": "code",
   "execution_count": 228,
   "metadata": {
    "collapsed": false
   },
   "outputs": [
    {
     "data": {
      "text/plain": [
       "Index(['UNIQUE_ID', 'NEXT_ARREST_TIME', 'ARREST_DATE', 'ARREST_DATE_y',\n",
       "       'BOFI_NBR', 'SCREENING_DISP_CODE', 'BAR_ADMIT_DAYS', 'CRIMINAL_FLAG',\n",
       "       'FINAL_DETENTION_FLAG', 'HABITUAL_OFFENDER_FLAG',\n",
       "       'INITIAL_DETENTION_FLAG', 'JUVENILE_FLAG', 'SADA_SEX', 'SEX',\n",
       "       'TOT_NUM_DEF', 'MULTIPLE_DEF_FLAG', 'SCREENING_DAYS',\n",
       "       'SCREENING_DISP_DATE_y', 'SCREENING_DISP_DATE_m', 'AGE',\n",
       "       'ARREST_TO_SCREEN', 'CHARGE_CLASS', 'CHARGE_TYPE', 'PARTY', 'RACE',\n",
       "       'SADA_RACE', 'AGE_JUV_INVALID', 'AGE_NA', 'ACCEPTED', 'Count'],\n",
       "      dtype='object')"
      ]
     },
     "execution_count": 228,
     "metadata": {},
     "output_type": "execute_result"
    }
   ],
   "source": [
    "train_og.columns"
   ]
  },
  {
   "cell_type": "code",
   "execution_count": 237,
   "metadata": {
    "collapsed": true
   },
   "outputs": [],
   "source": [
    "by_charge_type = pd.pivot_table(data = train_og, index = 'CHARGE_TYPE', \\\n",
    "           columns = 'ACCEPTED', \\\n",
    "        values = 'Count', aggfunc=sum, dropna=False)"
   ]
  },
  {
   "cell_type": "code",
   "execution_count": 239,
   "metadata": {
    "collapsed": true
   },
   "outputs": [],
   "source": [
    "by_charge_type.columns = ['Not Accepted', 'Accepted']\n",
    "\n",
    "by_charge_type['Total'] = by_charge_type['Not Accepted'] + by_charge_type['Accepted']\n",
    "\n",
    "by_charge_type['Percent'] = by_charge_type['Accepted']/by_charge_type['Total']"
   ]
  },
  {
   "cell_type": "code",
   "execution_count": 409,
   "metadata": {
    "collapsed": false
   },
   "outputs": [
    {
     "data": {
      "image/png": "[encoded data removed]",
      "text/plain": [
       "<matplotlib.figure.Figure at 0x130839438>"
      ]
     },
     "metadata": {},
     "output_type": "display_data"
    }
   ],
   "source": [
    "by_charge_type['Total'].plot(kind='bar', title = 'Number of Records by Charge Type')\n",
    "plt.savefig(\"Records_by_charge_type.png\")"
   ]
  },
  {
   "cell_type": "code",
   "execution_count": 410,
   "metadata": {
    "collapsed": false
   },
   "outputs": [
    {
     "data": {
      "image/png": "[encoded data removed]",
      "text/plain": [
       "<matplotlib.figure.Figure at 0x135055828>"
      ]
     },
     "metadata": {},
     "output_type": "display_data"
    }
   ],
   "source": [
    "by_charge_type['Percent'].plot(kind='bar', title = 'Percent Accepted by Charge Type')\n",
    "plt.savefig(\"Percent_accepted_by_charge_type.png\")"
   ]
  },
  {
   "cell_type": "code",
   "execution_count": 451,
   "metadata": {
    "collapsed": false
   },
   "outputs": [
    {
     "data": {
      "text/html": [
       "<div>\n",
       "<table border=\"1\" class=\"dataframe\">\n",
       "  <thead>\n",
       "    <tr style=\"text-align: right;\">\n",
       "      <th></th>\n",
       "      <th>Not Accepted</th>\n",
       "      <th>Accepted</th>\n",
       "      <th>Total</th>\n",
       "      <th>Percent</th>\n",
       "    </tr>\n",
       "    <tr>\n",
       "      <th>CHARGE_TYPE</th>\n",
       "      <th></th>\n",
       "      <th></th>\n",
       "      <th></th>\n",
       "      <th></th>\n",
       "    </tr>\n",
       "  </thead>\n",
       "  <tbody>\n",
       "    <tr>\n",
       "      <th>AR</th>\n",
       "      <td>70103</td>\n",
       "      <td>12066</td>\n",
       "      <td>82169</td>\n",
       "      <td>0.146844</td>\n",
       "    </tr>\n",
       "    <tr>\n",
       "      <th>IF</th>\n",
       "      <td>9731</td>\n",
       "      <td>54469</td>\n",
       "      <td>64200</td>\n",
       "      <td>0.848427</td>\n",
       "    </tr>\n",
       "    <tr>\n",
       "      <th>IN</th>\n",
       "      <td>101</td>\n",
       "      <td>876</td>\n",
       "      <td>977</td>\n",
       "      <td>0.896622</td>\n",
       "    </tr>\n",
       "  </tbody>\n",
       "</table>\n",
       "</div>"
      ],
      "text/plain": [
       "             Not Accepted  Accepted  Total   Percent\n",
       "CHARGE_TYPE                                         \n",
       "AR                  70103     12066  82169  0.146844\n",
       "IF                   9731     54469  64200  0.848427\n",
       "IN                    101       876    977  0.896622"
      ]
     },
     "execution_count": 451,
     "metadata": {},
     "output_type": "execute_result"
    }
   ],
   "source": [
    "by_charge_type"
   ]
  },
  {
   "cell_type": "markdown",
   "metadata": {},
   "source": [
    "### Removing Juveniles"
   ]
  },
  {
   "cell_type": "code",
   "execution_count": 737,
   "metadata": {
    "collapsed": false
   },
   "outputs": [
    {
     "data": {
      "text/html": [
       "<div>\n",
       "<table border=\"1\" class=\"dataframe\">\n",
       "  <thead>\n",
       "    <tr style=\"text-align: right;\">\n",
       "      <th></th>\n",
       "      <th>UNIQUE_ID</th>\n",
       "      <th>NEXT_ARREST_TIME</th>\n",
       "      <th>ARREST_DATE</th>\n",
       "      <th>ARREST_DATE_y</th>\n",
       "      <th>BOFI_NBR</th>\n",
       "      <th>SCREENING_DISP_CODE</th>\n",
       "      <th>BAR_ADMIT_DAYS</th>\n",
       "      <th>CRIMINAL_FLAG</th>\n",
       "      <th>FINAL_DETENTION_FLAG</th>\n",
       "      <th>HABITUAL_OFFENDER_FLAG</th>\n",
       "      <th>...</th>\n",
       "      <th>ARREST_DATE_y_1990.0</th>\n",
       "      <th>ARREST_DATE_y_1991.0</th>\n",
       "      <th>ARREST_DATE_y_1992.0</th>\n",
       "      <th>ARREST_DATE_y_1993.0</th>\n",
       "      <th>ARREST_DATE_y_1994.0</th>\n",
       "      <th>ARREST_DATE_y_1995.0</th>\n",
       "      <th>ARREST_DATE_y_1996.0</th>\n",
       "      <th>ARREST_DATE_y_1997.0</th>\n",
       "      <th>ARREST_DATE_y_1998.0</th>\n",
       "      <th>ARREST_DATE_y_1999.0</th>\n",
       "    </tr>\n",
       "  </thead>\n",
       "  <tbody>\n",
       "    <tr>\n",
       "      <th>0</th>\n",
       "      <td>31781</td>\n",
       "      <td>1163</td>\n",
       "      <td>1989-03-20</td>\n",
       "      <td>1989.0</td>\n",
       "      <td>300859</td>\n",
       "      <td>240.0</td>\n",
       "      <td>537</td>\n",
       "      <td>1</td>\n",
       "      <td>0</td>\n",
       "      <td>0</td>\n",
       "      <td>...</td>\n",
       "      <td>0.0</td>\n",
       "      <td>0.0</td>\n",
       "      <td>0.0</td>\n",
       "      <td>0.0</td>\n",
       "      <td>0.0</td>\n",
       "      <td>0.0</td>\n",
       "      <td>0.0</td>\n",
       "      <td>0.0</td>\n",
       "      <td>0.0</td>\n",
       "      <td>0.0</td>\n",
       "    </tr>\n",
       "    <tr>\n",
       "      <th>1</th>\n",
       "      <td>217249</td>\n",
       "      <td>0</td>\n",
       "      <td>1996-05-28</td>\n",
       "      <td>1996.0</td>\n",
       "      <td>Y100989</td>\n",
       "      <td>240.0</td>\n",
       "      <td>1131</td>\n",
       "      <td>1</td>\n",
       "      <td>0</td>\n",
       "      <td>0</td>\n",
       "      <td>...</td>\n",
       "      <td>0.0</td>\n",
       "      <td>0.0</td>\n",
       "      <td>0.0</td>\n",
       "      <td>0.0</td>\n",
       "      <td>0.0</td>\n",
       "      <td>0.0</td>\n",
       "      <td>1.0</td>\n",
       "      <td>0.0</td>\n",
       "      <td>0.0</td>\n",
       "      <td>0.0</td>\n",
       "    </tr>\n",
       "    <tr>\n",
       "      <th>2</th>\n",
       "      <td>181115</td>\n",
       "      <td>0</td>\n",
       "      <td>1994-08-20</td>\n",
       "      <td>1994.0</td>\n",
       "      <td>343892</td>\n",
       "      <td>260.0</td>\n",
       "      <td>1415</td>\n",
       "      <td>1</td>\n",
       "      <td>0</td>\n",
       "      <td>0</td>\n",
       "      <td>...</td>\n",
       "      <td>0.0</td>\n",
       "      <td>0.0</td>\n",
       "      <td>0.0</td>\n",
       "      <td>0.0</td>\n",
       "      <td>1.0</td>\n",
       "      <td>0.0</td>\n",
       "      <td>0.0</td>\n",
       "      <td>0.0</td>\n",
       "      <td>0.0</td>\n",
       "      <td>0.0</td>\n",
       "    </tr>\n",
       "    <tr>\n",
       "      <th>3</th>\n",
       "      <td>187502</td>\n",
       "      <td>716</td>\n",
       "      <td>1997-03-25</td>\n",
       "      <td>1997.0</td>\n",
       "      <td>J98484</td>\n",
       "      <td>260.0</td>\n",
       "      <td>1992</td>\n",
       "      <td>1</td>\n",
       "      <td>0</td>\n",
       "      <td>0</td>\n",
       "      <td>...</td>\n",
       "      <td>0.0</td>\n",
       "      <td>0.0</td>\n",
       "      <td>0.0</td>\n",
       "      <td>0.0</td>\n",
       "      <td>0.0</td>\n",
       "      <td>0.0</td>\n",
       "      <td>0.0</td>\n",
       "      <td>1.0</td>\n",
       "      <td>0.0</td>\n",
       "      <td>0.0</td>\n",
       "    </tr>\n",
       "    <tr>\n",
       "      <th>4</th>\n",
       "      <td>87666</td>\n",
       "      <td>29</td>\n",
       "      <td>1997-02-13</td>\n",
       "      <td>1997.0</td>\n",
       "      <td>312235</td>\n",
       "      <td>260.0</td>\n",
       "      <td>3597</td>\n",
       "      <td>1</td>\n",
       "      <td>0</td>\n",
       "      <td>0</td>\n",
       "      <td>...</td>\n",
       "      <td>0.0</td>\n",
       "      <td>0.0</td>\n",
       "      <td>0.0</td>\n",
       "      <td>0.0</td>\n",
       "      <td>0.0</td>\n",
       "      <td>0.0</td>\n",
       "      <td>0.0</td>\n",
       "      <td>1.0</td>\n",
       "      <td>0.0</td>\n",
       "      <td>0.0</td>\n",
       "    </tr>\n",
       "  </tbody>\n",
       "</table>\n",
       "<p>5 rows × 250 columns</p>\n",
       "</div>"
      ],
      "text/plain": [
       "   UNIQUE_ID  NEXT_ARREST_TIME ARREST_DATE  ARREST_DATE_y BOFI_NBR  \\\n",
       "0      31781              1163  1989-03-20         1989.0   300859   \n",
       "1     217249                 0  1996-05-28         1996.0  Y100989   \n",
       "2     181115                 0  1994-08-20         1994.0   343892   \n",
       "3     187502               716  1997-03-25         1997.0   J98484   \n",
       "4      87666                29  1997-02-13         1997.0   312235   \n",
       "\n",
       "   SCREENING_DISP_CODE  BAR_ADMIT_DAYS  CRIMINAL_FLAG  FINAL_DETENTION_FLAG  \\\n",
       "0                240.0             537              1                     0   \n",
       "1                240.0            1131              1                     0   \n",
       "2                260.0            1415              1                     0   \n",
       "3                260.0            1992              1                     0   \n",
       "4                260.0            3597              1                     0   \n",
       "\n",
       "   HABITUAL_OFFENDER_FLAG          ...           ARREST_DATE_y_1990.0  \\\n",
       "0                       0          ...                            0.0   \n",
       "1                       0          ...                            0.0   \n",
       "2                       0          ...                            0.0   \n",
       "3                       0          ...                            0.0   \n",
       "4                       0          ...                            0.0   \n",
       "\n",
       "   ARREST_DATE_y_1991.0  ARREST_DATE_y_1992.0  ARREST_DATE_y_1993.0  \\\n",
       "0                   0.0                   0.0                   0.0   \n",
       "1                   0.0                   0.0                   0.0   \n",
       "2                   0.0                   0.0                   0.0   \n",
       "3                   0.0                   0.0                   0.0   \n",
       "4                   0.0                   0.0                   0.0   \n",
       "\n",
       "   ARREST_DATE_y_1994.0  ARREST_DATE_y_1995.0  ARREST_DATE_y_1996.0  \\\n",
       "0                   0.0                   0.0                   0.0   \n",
       "1                   0.0                   0.0                   1.0   \n",
       "2                   1.0                   0.0                   0.0   \n",
       "3                   0.0                   0.0                   0.0   \n",
       "4                   0.0                   0.0                   0.0   \n",
       "\n",
       "   ARREST_DATE_y_1997.0  ARREST_DATE_y_1998.0  ARREST_DATE_y_1999.0  \n",
       "0                   0.0                   0.0                   0.0  \n",
       "1                   0.0                   0.0                   0.0  \n",
       "2                   0.0                   0.0                   0.0  \n",
       "3                   1.0                   0.0                   0.0  \n",
       "4                   1.0                   0.0                   0.0  \n",
       "\n",
       "[5 rows x 250 columns]"
      ]
     },
     "execution_count": 737,
     "metadata": {},
     "output_type": "execute_result"
    }
   ],
   "source": [
    "train.head()"
   ]
  },
  {
   "cell_type": "code",
   "execution_count": 740,
   "metadata": {
    "collapsed": false
   },
   "outputs": [
    {
     "name": "stdout",
     "output_type": "stream",
     "text": [
      "(26993, 250)\n",
      "(108856, 250)\n"
     ]
    }
   ],
   "source": [
    "train = train[train['JUVENILE_FLAG'] == 0]\n",
    "\n",
    "val = val[val['JUVENILE_FLAG']==0]\n",
    "\n",
    "print (val.shape)\n",
    "\n",
    "print (train.shape)"
   ]
  },
  {
   "cell_type": "markdown",
   "metadata": {},
   "source": [
    "### Removing 1988"
   ]
  },
  {
   "cell_type": "code",
   "execution_count": 741,
   "metadata": {
    "collapsed": false
   },
   "outputs": [
    {
     "name": "stdout",
     "output_type": "stream",
     "text": [
      "(26337, 250)\n",
      "(106239, 250)\n"
     ]
    }
   ],
   "source": [
    "train = train[train['ARREST_DATE_y'] != 1988]\n",
    "\n",
    "val = val[val['ARREST_DATE_y'] != 1988]\n",
    "\n",
    "print (val.shape)\n",
    "print (train.shape)"
   ]
  },
  {
   "cell_type": "markdown",
   "metadata": {},
   "source": [
    "# Target Variable"
   ]
  },
  {
   "cell_type": "code",
   "execution_count": 742,
   "metadata": {
    "collapsed": false
   },
   "outputs": [],
   "source": [
    "#target variable of whether any charges were accepted\n",
    "\n",
    "X_train = train.drop('ACCEPTED', axis=1)\n",
    "y_train = train['ACCEPTED']\n",
    "X_val = val.drop('ACCEPTED', axis = 1)\n",
    "y_val = val['ACCEPTED']\n",
    "X_test = test.drop('ACCEPTED', axis = 1)\n",
    "y_test = test['ACCEPTED']"
   ]
  },
  {
   "cell_type": "code",
   "execution_count": 743,
   "metadata": {
    "collapsed": false
   },
   "outputs": [
    {
     "name": "stdout",
     "output_type": "stream",
     "text": [
      "Training: 50.9106825177 percent were charged.\n",
      "Test: 51.0574476972 percent were charged.\n"
     ]
    }
   ],
   "source": [
    "unique, counts = np.unique(y_train, return_counts = True)\n",
    "percent = counts[1]/counts.sum()\n",
    "print('Training: %s percent were charged.' %(percent*100))\n",
    "\n",
    "unique, counts = np.unique(y_val, return_counts = True)\n",
    "percent = counts[1]/counts.sum()\n",
    "print('Test: %s percent were charged.' %(percent*100))\n",
    "\n",
    "#percentages went from 45% to 50% after removing juveniles (juveniles probably very rarely charged)"
   ]
  },
  {
   "cell_type": "code",
   "execution_count": 744,
   "metadata": {
    "collapsed": false
   },
   "outputs": [],
   "source": [
    "#remove non-feature columns (inc. juvenile flag since this should be 0 for everyone)\n",
    "X_train=X_train.drop(['BOFI_NBR','SCREENING_DISP_CODE','UNIQUE_ID','NEXT_ARREST_TIME', 'JUVENILE_FLAG'], axis=1)\n",
    "X_val=X_val.drop(['BOFI_NBR','SCREENING_DISP_CODE','UNIQUE_ID','NEXT_ARREST_TIME', 'JUVENILE_FLAG'], axis=1)\n",
    "\n",
    "#Using year and month as predictive variables (why did we take these out?)\n",
    "X_train=X_train.drop(['ARREST_DATE', 'ARREST_DATE_y'], axis=1)\n",
    "X_val=X_val.drop(['ARREST_DATE','ARREST_DATE_y'], axis=1)"
   ]
  },
  {
   "cell_type": "code",
   "execution_count": 745,
   "metadata": {
    "collapsed": true
   },
   "outputs": [],
   "source": [
    "#remove non-feature columns\n",
    "X_test=X_test.drop(['BOFI_NBR','SCREENING_DISP_CODE','UNIQUE_ID','NEXT_ARREST_TIME', 'JUVENILE_FLAG'], axis=1)\n",
    "\n",
    "#Using year and month as predictive variables\n",
    "X_test=X_test.drop(['ARREST_DATE', 'ARREST_DATE_y'], axis=1)"
   ]
  },
  {
   "cell_type": "markdown",
   "metadata": {
    "collapsed": true
   },
   "source": [
    "# Gradient Boosted Trees"
   ]
  },
  {
   "cell_type": "markdown",
   "metadata": {},
   "source": [
    "### Default Model"
   ]
  },
  {
   "cell_type": "code",
   "execution_count": 746,
   "metadata": {
    "collapsed": false
   },
   "outputs": [
    {
     "data": {
      "text/plain": [
       "GradientBoostingClassifier(criterion='friedman_mse', init=None,\n",
       "              learning_rate=0.1, loss='deviance', max_depth=3,\n",
       "              max_features=None, max_leaf_nodes=None,\n",
       "              min_impurity_split=1e-07, min_samples_leaf=1,\n",
       "              min_samples_split=2, min_weight_fraction_leaf=0.0,\n",
       "              n_estimators=100, presort='auto', random_state=None,\n",
       "              subsample=1.0, verbose=0, warm_start=False)"
      ]
     },
     "execution_count": 746,
     "metadata": {},
     "output_type": "execute_result"
    }
   ],
   "source": [
    "#now with 250 columns, the model is much slower to train\n",
    "predicted_prosecutor = GradientBoostingClassifier()\n",
    "\n",
    "predicted_prosecutor.fit(X_train,y_train)"
   ]
  },
  {
   "cell_type": "code",
   "execution_count": 747,
   "metadata": {
    "collapsed": false
   },
   "outputs": [],
   "source": [
    "predictions = predicted_prosecutor.predict(X_val)\n",
    "predicted_probability = predicted_prosecutor.predict_proba(X_val)"
   ]
  },
  {
   "cell_type": "code",
   "execution_count": 748,
   "metadata": {
    "collapsed": false
   },
   "outputs": [
    {
     "name": "stdout",
     "output_type": "stream",
     "text": [
      "Accuracy:  0.880472339295\n",
      "Precision:  0.925121769999\n",
      "Recall:  0.833345727672\n",
      "F-score:  0.876838810642\n"
     ]
    }
   ],
   "source": [
    "#Accuracy\n",
    "print ('Accuracy: ', sklearn.metrics.accuracy_score(y_val, predictions))\n",
    "\n",
    "#Precision\n",
    "print ('Precision: ', sklearn.metrics.precision_score(y_val, predictions))\n",
    "\n",
    "#Recall\n",
    "print ('Recall: ', sklearn.metrics.recall_score(y_val, predictions))\n",
    "\n",
    "#F-score\n",
    "print ('F-score: ', sklearn.metrics.f1_score(y_val, predictions))"
   ]
  },
  {
   "cell_type": "markdown",
   "metadata": {},
   "source": [
    "#### Feature Importance"
   ]
  },
  {
   "cell_type": "code",
   "execution_count": 749,
   "metadata": {
    "collapsed": false
   },
   "outputs": [
    {
     "name": "stderr",
     "output_type": "stream",
     "text": [
      "/anaconda/lib/python3.6/site-packages/ipykernel/__main__.py:3: FutureWarning: sort(columns=....) is deprecated, use sort_values(by=.....)\n",
      "  app.launch_new_instance()\n"
     ]
    }
   ],
   "source": [
    "feature_imp = pd.DataFrame(list(zip(X_train.columns, predicted_prosecutor.feature_importances_)))\n",
    "feature_imp.columns = ['Column Name', 'Importance']\n",
    "feature_imp = feature_imp.sort(columns = 'Importance', ascending = False)"
   ]
  },
  {
   "cell_type": "code",
   "execution_count": 750,
   "metadata": {
    "collapsed": false
   },
   "outputs": [],
   "source": [
    "feature_imp.index = feature_imp['Column Name']"
   ]
  },
  {
   "cell_type": "code",
   "execution_count": 759,
   "metadata": {
    "collapsed": false
   },
   "outputs": [
    {
     "data": {
      "text/plain": [
       "<matplotlib.axes._subplots.AxesSubplot at 0x12720f4a8>"
      ]
     },
     "execution_count": 759,
     "metadata": {},
     "output_type": "execute_result"
    },
    {
     "data": {
      "image/png": "[encoded data removed]",
      "text/plain": [
       "<matplotlib.figure.Figure at 0x1387b57b8>"
      ]
     },
     "metadata": {},
     "output_type": "display_data"
    }
   ],
   "source": [
    "feature_imp[0:9].plot(kind='bar') #some of the new variables turned up in the top 10, although the top variables are still administrative"
   ]
  },
  {
   "cell_type": "code",
   "execution_count": 246,
   "metadata": {
    "collapsed": false
   },
   "outputs": [],
   "source": [
    "feature_imp.to_csv('Feature_Importance.csv', index=False)"
   ]
  },
  {
   "cell_type": "code",
   "execution_count": null,
   "metadata": {
    "collapsed": true
   },
   "outputs": [],
   "source": [
    "#Charge type of AR very predictive\n",
    "#Screening disp date year of 1989 very predictive (graph % released over time)\n",
    "#Charge type of IF also very predictive"
   ]
  },
  {
   "cell_type": "markdown",
   "metadata": {},
   "source": [
    "### Confusion Matrix"
   ]
  },
  {
   "cell_type": "code",
   "execution_count": 14,
   "metadata": {
    "collapsed": false
   },
   "outputs": [
    {
     "data": {
      "text/plain": [
       "array([[18919,  1136],\n",
       "       [ 2987, 13875]])"
      ]
     },
     "execution_count": 14,
     "metadata": {},
     "output_type": "execute_result"
    }
   ],
   "source": [
    "\n",
    "\n"
   ]
  },
  {
   "cell_type": "markdown",
   "metadata": {},
   "source": [
    "### Partial Dependence Plots"
   ]
  },
  {
   "cell_type": "code",
   "execution_count": 15,
   "metadata": {
    "collapsed": false
   },
   "outputs": [
    {
     "data": {
      "image/png": "[encoded data removed]",
      "text/plain": [
       "<matplotlib.figure.Figure at 0x111309cc0>"
      ]
     },
     "metadata": {},
     "output_type": "display_data"
    }
   ],
   "source": [
    "#haven't re-run these after adding the new column\n",
    "\n",
    "plot_partial_dependence(predicted_prosecutor, X_train, \\\n",
    "                        np.arange(0, len(X_train.columns)), feature_names = list(X_train.columns), label=1)\n",
    "\n",
    "fig = matplotlib.pyplot.gcf()\n",
    "fig.set_size_inches(18.5, 100.5)"
   ]
  },
  {
   "cell_type": "markdown",
   "metadata": {},
   "source": [
    "### Split the model by charge type (AR vs. IF)"
   ]
  },
  {
   "cell_type": "code",
   "execution_count": 729,
   "metadata": {
    "collapsed": false
   },
   "outputs": [],
   "source": [
    "train_AR = train[train['CHARGE_TYPE_AR'] == 1]\n",
    "val_AR = val[val['CHARGE_TYPE_AR'] == 1]\n",
    "test_AR = test[test['CHARGE_TYPE_AR'] == 1]\n",
    "\n",
    "train_IF = train[train['CHARGE_TYPE_IF'] == 1]\n",
    "val_IF = val[val['CHARGE_TYPE_IF'] == 1]\n",
    "test_IF = test[test['CHARGE_TYPE_IF'] == 1]\n",
    "\n",
    "X_train_AR = train_AR.drop('ACCEPTED', axis=1)\n",
    "y_train_AR = train_AR['ACCEPTED']\n",
    "X_val_AR = val_AR.drop('ACCEPTED', axis = 1)\n",
    "y_val_AR = val_AR['ACCEPTED']\n",
    "X_test_AR = test_AR.drop('ACCEPTED', axis = 1)\n",
    "y_test_AR = test_AR['ACCEPTED']\n",
    "\n",
    "X_train_IF = train_IF.drop('ACCEPTED', axis=1)\n",
    "y_train_IF = train_IF['ACCEPTED']\n",
    "X_val_IF = val_IF.drop('ACCEPTED', axis = 1)\n",
    "y_val_IF = val_IF['ACCEPTED']\n",
    "X_test_IF = test_IF.drop('ACCEPTED', axis = 1)\n",
    "y_test_IF = test_IF['ACCEPTED']"
   ]
  },
  {
   "cell_type": "code",
   "execution_count": 752,
   "metadata": {
    "collapsed": true
   },
   "outputs": [],
   "source": [
    "#remove non-feature columns (inc. juvenile flag since this should be 0 for everyone)\n",
    "X_train_AR=X_train_AR.drop(['BOFI_NBR','SCREENING_DISP_CODE','UNIQUE_ID','NEXT_ARREST_TIME', 'JUVENILE_FLAG'], axis=1)\n",
    "X_val_AR=X_val_AR.drop(['BOFI_NBR','SCREENING_DISP_CODE','UNIQUE_ID','NEXT_ARREST_TIME', 'JUVENILE_FLAG'], axis=1)\n",
    "\n",
    "#Using year and month as predictive variables (why did we take these out?)\n",
    "X_train_AR=X_train_AR.drop(['ARREST_DATE', 'ARREST_DATE_y'], axis=1)\n",
    "X_val_AR=X_val_AR.drop(['ARREST_DATE','ARREST_DATE_y'], axis=1)"
   ]
  },
  {
   "cell_type": "code",
   "execution_count": 767,
   "metadata": {
    "collapsed": false
   },
   "outputs": [],
   "source": [
    "#remove non-feature columns (inc. juvenile flag since this should be 0 for everyone)\n",
    "X_train_IF=X_train_IF.drop(['BOFI_NBR','SCREENING_DISP_CODE','UNIQUE_ID','NEXT_ARREST_TIME', 'JUVENILE_FLAG'], axis=1)\n",
    "X_val_IF=X_val_IF.drop(['BOFI_NBR','SCREENING_DISP_CODE','UNIQUE_ID','NEXT_ARREST_TIME', 'JUVENILE_FLAG'], axis=1)\n",
    "\n",
    "#Using year and month as predictive variables (why did we take these out?)\n",
    "X_train_IF=X_train_IF.drop(['ARREST_DATE', 'ARREST_DATE_y'], axis=1)\n",
    "X_val_IF=X_val_IF.drop(['ARREST_DATE','ARREST_DATE_y'], axis=1)"
   ]
  },
  {
   "cell_type": "markdown",
   "metadata": {},
   "source": [
    "#### The AR Version"
   ]
  },
  {
   "cell_type": "code",
   "execution_count": null,
   "metadata": {
    "collapsed": true
   },
   "outputs": [],
   "source": [
    "predicted_prosecutor_AR = GradientBoostingClassifier()\n",
    "\n",
    "predicted_prosecutor_AR.fit(X_train_AR,y_train_AR)"
   ]
  },
  {
   "cell_type": "code",
   "execution_count": 774,
   "metadata": {
    "collapsed": true
   },
   "outputs": [],
   "source": [
    "predictions_AR = predicted_prosecutor_AR.predict(X_val_AR)\n",
    "predicted_probability_AR = predicted_prosecutor_AR.predict_proba(X_val_AR)"
   ]
  },
  {
   "cell_type": "code",
   "execution_count": 753,
   "metadata": {
    "collapsed": true
   },
   "outputs": [],
   "source": [
    "feature_imp_AR = pd.DataFrame(list(zip(X_train_AR.columns, predicted_prosecutor_AR.feature_importances_)))\n",
    "feature_imp_AR.columns = ['Column Name', 'Importance']\n",
    "feature_imp_AR = feature_imp_AR.sort(columns = 'Importance', ascending = False)\n",
    "\n",
    "feature_imp_AR.index = feature_imp_AR['Column Name']"
   ]
  },
  {
   "cell_type": "code",
   "execution_count": 814,
   "metadata": {
    "collapsed": false
   },
   "outputs": [
    {
     "data": {
      "image/png": "[encoded data removed]",
      "text/plain": [
       "<matplotlib.figure.Figure at 0x138cfd400>"
      ]
     },
     "metadata": {},
     "output_type": "display_data"
    }
   ],
   "source": [
    "feature_imp_AR[0:10].plot(kind='barh', title = 'Top 10 Features GBT AR', legend=None)\n",
    "plt.tight_layout()\n",
    "plt.savefig('AR_Feature_Importance.png')"
   ]
  },
  {
   "cell_type": "code",
   "execution_count": 772,
   "metadata": {
    "collapsed": false
   },
   "outputs": [
    {
     "data": {
      "text/plain": [
       "(26337,)"
      ]
     },
     "execution_count": 772,
     "metadata": {},
     "output_type": "execute_result"
    }
   ],
   "source": [
    "predictions_AR.shape"
   ]
  },
  {
   "cell_type": "code",
   "execution_count": 773,
   "metadata": {
    "collapsed": false
   },
   "outputs": [
    {
     "data": {
      "text/plain": [
       "(14161,)"
      ]
     },
     "execution_count": 773,
     "metadata": {},
     "output_type": "execute_result"
    }
   ],
   "source": [
    "y_val_AR.shape"
   ]
  },
  {
   "cell_type": "code",
   "execution_count": 775,
   "metadata": {
    "collapsed": false
   },
   "outputs": [
    {
     "name": "stdout",
     "output_type": "stream",
     "text": [
      "Accuracy:  0.84542052115\n",
      "Precision:  0.785536159601\n",
      "Recall:  0.130272952854\n",
      "F-score:  0.223483504789\n"
     ]
    }
   ],
   "source": [
    "#Accuracy\n",
    "print ('Accuracy: ', sklearn.metrics.accuracy_score(y_val_AR, predictions_AR))\n",
    "\n",
    "#Precision\n",
    "print ('Precision: ', sklearn.metrics.precision_score(y_val_AR, predictions_AR))\n",
    "\n",
    "#Recall\n",
    "print ('Recall: ', sklearn.metrics.recall_score(y_val_AR, predictions_AR))\n",
    "\n",
    "#F-score\n",
    "print ('F-score: ', sklearn.metrics.f1_score(y_val_AR, predictions_AR))"
   ]
  },
  {
   "cell_type": "markdown",
   "metadata": {},
   "source": [
    "#### The IF Version"
   ]
  },
  {
   "cell_type": "code",
   "execution_count": null,
   "metadata": {
    "collapsed": true
   },
   "outputs": [],
   "source": [
    "predicted_prosecutor_IF = GradientBoostingClassifier()\n",
    "\n",
    "predicted_prosecutor_IF.fit(X_train_IF,y_train_IF)"
   ]
  },
  {
   "cell_type": "code",
   "execution_count": 776,
   "metadata": {
    "collapsed": true
   },
   "outputs": [],
   "source": [
    "predictions_IF = predicted_prosecutor_IF.predict(X_val_IF)\n",
    "predicted_probability_IF = predicted_prosecutor_IF.predict_proba(X_val_IF)"
   ]
  },
  {
   "cell_type": "code",
   "execution_count": 768,
   "metadata": {
    "collapsed": false
   },
   "outputs": [
    {
     "name": "stderr",
     "output_type": "stream",
     "text": [
      "/anaconda/lib/python3.6/site-packages/ipykernel/__main__.py:10: FutureWarning: sort(columns=....) is deprecated, use sort_values(by=.....)\n"
     ]
    }
   ],
   "source": [
    "feature_imp_IF = pd.DataFrame(list(zip(X_train_IF.columns, predicted_prosecutor_IF.feature_importances_)))\n",
    "feature_imp_IF.columns = ['Column Name', 'Importance']\n",
    "feature_imp_IF = feature_imp_IF.sort(columns = 'Importance', ascending = False)\n",
    "\n",
    "feature_imp_IF.index = feature_imp_IF['Column Name']"
   ]
  },
  {
   "cell_type": "code",
   "execution_count": 815,
   "metadata": {
    "collapsed": false
   },
   "outputs": [
    {
     "data": {
      "image/png": "[encoded data removed]",
      "text/plain": [
       "<matplotlib.figure.Figure at 0x1342e4588>"
      ]
     },
     "metadata": {},
     "output_type": "display_data"
    }
   ],
   "source": [
    "feature_imp_IF[0:10].plot(kind='barh', title = 'Top 10 Features GBT IF', legend =None)\n",
    "plt.tight_layout()\n",
    "plt.savefig('IF_Feature_Importance.png')"
   ]
  },
  {
   "cell_type": "code",
   "execution_count": 777,
   "metadata": {
    "collapsed": false
   },
   "outputs": [
    {
     "name": "stdout",
     "output_type": "stream",
     "text": [
      "Accuracy:  0.936311141304\n",
      "Precision:  0.93944181148\n",
      "Recall:  0.994425863991\n",
      "F-score:  0.9661521798\n"
     ]
    }
   ],
   "source": [
    "#Accuracy\n",
    "print ('Accuracy: ', sklearn.metrics.accuracy_score(y_val_IF, predictions_IF))\n",
    "\n",
    "#Precision\n",
    "print ('Precision: ', sklearn.metrics.precision_score(y_val_IF, predictions_IF))\n",
    "\n",
    "#Recall\n",
    "print ('Recall: ', sklearn.metrics.recall_score(y_val_IF, predictions_IF))\n",
    "\n",
    "#F-score\n",
    "print ('F-score: ', sklearn.metrics.f1_score(y_val_IF, predictions_IF))"
   ]
  },
  {
   "cell_type": "code",
   "execution_count": null,
   "metadata": {
    "collapsed": true
   },
   "outputs": [],
   "source": [
    "#My old code was plotting the first 5 variables and assigning different names to them.\n",
    "#Charge_TYPE_AR means it's less likely that charges will be accepted.\n",
    "#Charge_type_IN makes it more likely that charges will be accepted.\n",
    "#Arrest to screen, if it's more than a day, makes it more likely that charges will be accepted.\n",
    "#Charges are less likely to be accepted if the disp date is 1989, 1990, 1988. The other years look positive or flat.\n",
    "#Age makes it more likely that charges will be accepted, but it has a sharp increase at first and then slows\n",
    "#(Age is in days, partial dependence plateaus at 7,000 days, which is around 19 years old.)"
   ]
  },
  {
   "cell_type": "markdown",
   "metadata": {},
   "source": [
    "### Logistic Regression Version"
   ]
  },
  {
   "cell_type": "code",
   "execution_count": 442,
   "metadata": {
    "collapsed": true
   },
   "outputs": [],
   "source": [
    "X_train_lr = preprocessing.scale(X_train)"
   ]
  },
  {
   "cell_type": "code",
   "execution_count": 443,
   "metadata": {
    "collapsed": true
   },
   "outputs": [],
   "source": [
    "predicted_prosecutor_lr = LogisticRegression()"
   ]
  },
  {
   "cell_type": "code",
   "execution_count": 444,
   "metadata": {
    "collapsed": false
   },
   "outputs": [
    {
     "data": {
      "text/plain": [
       "LogisticRegression(C=1.0, class_weight=None, dual=False, fit_intercept=True,\n",
       "          intercept_scaling=1, max_iter=100, multi_class='ovr', n_jobs=1,\n",
       "          penalty='l2', random_state=None, solver='liblinear', tol=0.0001,\n",
       "          verbose=0, warm_start=False)"
      ]
     },
     "execution_count": 444,
     "metadata": {},
     "output_type": "execute_result"
    }
   ],
   "source": [
    "predicted_prosecutor_lr.fit(X_train_lr, y_train)"
   ]
  },
  {
   "cell_type": "code",
   "execution_count": 445,
   "metadata": {
    "collapsed": true
   },
   "outputs": [],
   "source": [
    "X_val_lr = preprocessing.scale(X_val)"
   ]
  },
  {
   "cell_type": "code",
   "execution_count": 446,
   "metadata": {
    "collapsed": true
   },
   "outputs": [],
   "source": [
    "predictions_lr = predicted_prosecutor_lr.predict(X_val_lr)\n",
    "predicted_probability_lr = predicted_prosecutor_lr.predict_proba(X_val_lr)"
   ]
  },
  {
   "cell_type": "code",
   "execution_count": 447,
   "metadata": {
    "collapsed": false
   },
   "outputs": [
    {
     "data": {
      "text/plain": [
       "array([[12006,  1252],\n",
       "       [ 2279, 11456]])"
      ]
     },
     "execution_count": 447,
     "metadata": {},
     "output_type": "execute_result"
    }
   ],
   "source": [
    "lr_cm = sklearn.metrics.confusion_matrix(y_val,predictions_lr)\n",
    "lr_cm"
   ]
  },
  {
   "cell_type": "code",
   "execution_count": 27,
   "metadata": {
    "collapsed": false
   },
   "outputs": [
    {
     "data": {
      "text/plain": [
       "array([[18919,  1136],\n",
       "       [ 2987, 13875]])"
      ]
     },
     "execution_count": 27,
     "metadata": {},
     "output_type": "execute_result"
    }
   ],
   "source": [
    "gbt_cm #for comparison"
   ]
  },
  {
   "cell_type": "code",
   "execution_count": 30,
   "metadata": {
    "collapsed": false
   },
   "outputs": [
    {
     "data": {
      "text/plain": [
       "array([[21580,   326],\n",
       "       [  283, 14728]])"
      ]
     },
     "execution_count": 30,
     "metadata": {},
     "output_type": "execute_result"
    }
   ],
   "source": [
    "#do both models classify the same datapoints the same way?\n",
    "\n",
    "model_comparison_cm = sklearn.metrics.confusion_matrix(predictions, predictions_lr)\n",
    "\n",
    "model_comparison_cm"
   ]
  },
  {
   "cell_type": "code",
   "execution_count": 147,
   "metadata": {
    "collapsed": false
   },
   "outputs": [
    {
     "name": "stdout",
     "output_type": "stream",
     "text": [
      "Accuracy:  0.880055259095\n",
      "Precision:  0.912979938887\n",
      "Recall:  0.815087178271\n",
      "F-score:  0.861260809625\n"
     ]
    }
   ],
   "source": [
    "#Accuracy\n",
    "print ('Accuracy: ', sklearn.metrics.accuracy_score(y_val, predictions_lr))\n",
    "\n",
    "#Precision\n",
    "print ('Precision: ', sklearn.metrics.precision_score(y_val, predictions_lr))\n",
    "\n",
    "#Recall\n",
    "print ('Recall: ', sklearn.metrics.recall_score(y_val, predictions_lr))\n",
    "\n",
    "#F-score\n",
    "print ('F-score: ', sklearn.metrics.f1_score(y_val, predictions_lr))\n",
    "\n",
    "#Recall is close, precision isn't quite as good\n"
   ]
  },
  {
   "cell_type": "code",
   "execution_count": 448,
   "metadata": {
    "collapsed": false
   },
   "outputs": [],
   "source": [
    "#Coefficients\n",
    "\n",
    "coefficients = pd.DataFrame(list(zip(np.ravel(predicted_prosecutor_lr.coef_), X_train.columns)))\n",
    "\n",
    "coefficients = coefficients.rename(columns = {0:'coefficient', 1:'feature'})\n"
   ]
  },
  {
   "cell_type": "code",
   "execution_count": 461,
   "metadata": {
    "collapsed": true
   },
   "outputs": [],
   "source": [
    "imp_features = ['CHARGE_TYPE_AR', 'ARREST_TO_SCREEN', 'SCREENING_DISP_DATE_y_1989.0', 'AGE', 'CHARGE_TYPE_IF']"
   ]
  },
  {
   "cell_type": "code",
   "execution_count": 462,
   "metadata": {
    "collapsed": false
   },
   "outputs": [
    {
     "data": {
      "text/html": [
       "<div>\n",
       "<table border=\"1\" class=\"dataframe\">\n",
       "  <thead>\n",
       "    <tr style=\"text-align: right;\">\n",
       "      <th></th>\n",
       "      <th>coefficient</th>\n",
       "      <th>feature</th>\n",
       "      <th>coefficient_abs_val</th>\n",
       "    </tr>\n",
       "  </thead>\n",
       "  <tbody>\n",
       "    <tr>\n",
       "      <th>8</th>\n",
       "      <td>0.058250</td>\n",
       "      <td>AGE</td>\n",
       "      <td>0.058250</td>\n",
       "    </tr>\n",
       "    <tr>\n",
       "      <th>9</th>\n",
       "      <td>-0.072040</td>\n",
       "      <td>ARREST_TO_SCREEN</td>\n",
       "      <td>0.072040</td>\n",
       "    </tr>\n",
       "    <tr>\n",
       "      <th>38</th>\n",
       "      <td>-0.406988</td>\n",
       "      <td>SCREENING_DISP_DATE_y_1989.0</td>\n",
       "      <td>0.406988</td>\n",
       "    </tr>\n",
       "    <tr>\n",
       "      <th>61</th>\n",
       "      <td>-1.230846</td>\n",
       "      <td>CHARGE_TYPE_AR</td>\n",
       "      <td>1.230846</td>\n",
       "    </tr>\n",
       "    <tr>\n",
       "      <th>62</th>\n",
       "      <td>1.186275</td>\n",
       "      <td>CHARGE_TYPE_IF</td>\n",
       "      <td>1.186275</td>\n",
       "    </tr>\n",
       "  </tbody>\n",
       "</table>\n",
       "</div>"
      ],
      "text/plain": [
       "    coefficient                       feature  coefficient_abs_val\n",
       "8      0.058250                           AGE             0.058250\n",
       "9     -0.072040              ARREST_TO_SCREEN             0.072040\n",
       "38    -0.406988  SCREENING_DISP_DATE_y_1989.0             0.406988\n",
       "61    -1.230846                CHARGE_TYPE_AR             1.230846\n",
       "62     1.186275                CHARGE_TYPE_IF             1.186275"
      ]
     },
     "execution_count": 462,
     "metadata": {},
     "output_type": "execute_result"
    }
   ],
   "source": [
    "coefficients.loc[coefficients.feature.isin(imp_features), ]"
   ]
  },
  {
   "cell_type": "code",
   "execution_count": null,
   "metadata": {
    "collapsed": true
   },
   "outputs": [],
   "source": [
    "# The LR agrees directionally on all but ARREST_TO_SCREEN"
   ]
  },
  {
   "cell_type": "code",
   "execution_count": 449,
   "metadata": {
    "collapsed": false
   },
   "outputs": [],
   "source": [
    "coefficients['coefficient_abs_val'] = abs(coefficients['coefficient'])"
   ]
  },
  {
   "cell_type": "code",
   "execution_count": 450,
   "metadata": {
    "collapsed": false
   },
   "outputs": [
    {
     "name": "stderr",
     "output_type": "stream",
     "text": [
      "/anaconda/lib/python3.6/site-packages/ipykernel/__main__.py:1: FutureWarning: sort(columns=....) is deprecated, use sort_values(by=.....)\n",
      "  if __name__ == '__main__':\n"
     ]
    },
    {
     "data": {
      "text/html": [
       "<div>\n",
       "<table border=\"1\" class=\"dataframe\">\n",
       "  <thead>\n",
       "    <tr style=\"text-align: right;\">\n",
       "      <th></th>\n",
       "      <th>coefficient</th>\n",
       "      <th>feature</th>\n",
       "      <th>coefficient_abs_val</th>\n",
       "    </tr>\n",
       "  </thead>\n",
       "  <tbody>\n",
       "    <tr>\n",
       "      <th>61</th>\n",
       "      <td>-1.230846</td>\n",
       "      <td>CHARGE_TYPE_AR</td>\n",
       "      <td>1.230846</td>\n",
       "    </tr>\n",
       "    <tr>\n",
       "      <th>62</th>\n",
       "      <td>1.186275</td>\n",
       "      <td>CHARGE_TYPE_IF</td>\n",
       "      <td>1.186275</td>\n",
       "    </tr>\n",
       "    <tr>\n",
       "      <th>3</th>\n",
       "      <td>0.474326</td>\n",
       "      <td>HABITUAL_OFFENDER_FLAG</td>\n",
       "      <td>0.474326</td>\n",
       "    </tr>\n",
       "    <tr>\n",
       "      <th>38</th>\n",
       "      <td>-0.406988</td>\n",
       "      <td>SCREENING_DISP_DATE_y_1989.0</td>\n",
       "      <td>0.406988</td>\n",
       "    </tr>\n",
       "    <tr>\n",
       "      <th>15</th>\n",
       "      <td>-0.387670</td>\n",
       "      <td>SEX_-1</td>\n",
       "      <td>0.387670</td>\n",
       "    </tr>\n",
       "    <tr>\n",
       "      <th>156</th>\n",
       "      <td>-0.347035</td>\n",
       "      <td>CHARGE_DESC_IN_NEED_OF_SUPERVISION</td>\n",
       "      <td>0.347035</td>\n",
       "    </tr>\n",
       "    <tr>\n",
       "      <th>41</th>\n",
       "      <td>0.333743</td>\n",
       "      <td>SCREENING_DISP_DATE_y_1992.0</td>\n",
       "      <td>0.333743</td>\n",
       "    </tr>\n",
       "    <tr>\n",
       "      <th>39</th>\n",
       "      <td>-0.311762</td>\n",
       "      <td>SCREENING_DISP_DATE_y_1990.0</td>\n",
       "      <td>0.311762</td>\n",
       "    </tr>\n",
       "    <tr>\n",
       "      <th>40</th>\n",
       "      <td>0.308587</td>\n",
       "      <td>SCREENING_DISP_DATE_y_1991.0</td>\n",
       "      <td>0.308587</td>\n",
       "    </tr>\n",
       "    <tr>\n",
       "      <th>37</th>\n",
       "      <td>-0.307524</td>\n",
       "      <td>SCREENING_DISP_DATE_y_1988.0</td>\n",
       "      <td>0.307524</td>\n",
       "    </tr>\n",
       "    <tr>\n",
       "      <th>150</th>\n",
       "      <td>0.292999</td>\n",
       "      <td>CHARGE_DESC_FORGERY</td>\n",
       "      <td>0.292999</td>\n",
       "    </tr>\n",
       "    <tr>\n",
       "      <th>12</th>\n",
       "      <td>-0.274245</td>\n",
       "      <td>SADA_SEX_-1</td>\n",
       "      <td>0.274245</td>\n",
       "    </tr>\n",
       "    <tr>\n",
       "      <th>63</th>\n",
       "      <td>0.265624</td>\n",
       "      <td>CHARGE_TYPE_IN</td>\n",
       "      <td>0.265624</td>\n",
       "    </tr>\n",
       "    <tr>\n",
       "      <th>69</th>\n",
       "      <td>0.261129</td>\n",
       "      <td>CHARGE_CLASS_JUVENILE_STATUS</td>\n",
       "      <td>0.261129</td>\n",
       "    </tr>\n",
       "    <tr>\n",
       "      <th>86</th>\n",
       "      <td>-0.240199</td>\n",
       "      <td>CHARGE_DESC_AGGRAVATED_BATTERY</td>\n",
       "      <td>0.240199</td>\n",
       "    </tr>\n",
       "    <tr>\n",
       "      <th>166</th>\n",
       "      <td>0.231605</td>\n",
       "      <td>CHARGE_DESC_NO_DISMANTLE_PERMIT</td>\n",
       "      <td>0.231605</td>\n",
       "    </tr>\n",
       "    <tr>\n",
       "      <th>66</th>\n",
       "      <td>0.227637</td>\n",
       "      <td>CHARGE_CLASS_CAPITAL</td>\n",
       "      <td>0.227637</td>\n",
       "    </tr>\n",
       "    <tr>\n",
       "      <th>233</th>\n",
       "      <td>-0.220785</td>\n",
       "      <td>ARREST_DATE_y_1991.0</td>\n",
       "      <td>0.220785</td>\n",
       "    </tr>\n",
       "    <tr>\n",
       "      <th>28</th>\n",
       "      <td>0.214879</td>\n",
       "      <td>RACE_nan</td>\n",
       "      <td>0.214879</td>\n",
       "    </tr>\n",
       "    <tr>\n",
       "      <th>74</th>\n",
       "      <td>-0.205346</td>\n",
       "      <td>CHARGE_DESC_1ST_DEGREE_MURDER_DURING_CRIME</td>\n",
       "      <td>0.205346</td>\n",
       "    </tr>\n",
       "    <tr>\n",
       "      <th>232</th>\n",
       "      <td>-0.173190</td>\n",
       "      <td>ARREST_DATE_y_1990.0</td>\n",
       "      <td>0.173190</td>\n",
       "    </tr>\n",
       "    <tr>\n",
       "      <th>72</th>\n",
       "      <td>-0.171021</td>\n",
       "      <td>CHARGE_CLASS_nan</td>\n",
       "      <td>0.171021</td>\n",
       "    </tr>\n",
       "    <tr>\n",
       "      <th>239</th>\n",
       "      <td>0.166061</td>\n",
       "      <td>ARREST_DATE_y_1997.0</td>\n",
       "      <td>0.166061</td>\n",
       "    </tr>\n",
       "    <tr>\n",
       "      <th>131</th>\n",
       "      <td>0.164838</td>\n",
       "      <td>CHARGE_DESC_DIST_SCHED_2_NARCOTIC</td>\n",
       "      <td>0.164838</td>\n",
       "    </tr>\n",
       "    <tr>\n",
       "      <th>91</th>\n",
       "      <td>0.161166</td>\n",
       "      <td>CHARGE_DESC_ARMED_ROBBERY</td>\n",
       "      <td>0.161166</td>\n",
       "    </tr>\n",
       "    <tr>\n",
       "      <th>127</th>\n",
       "      <td>-0.153521</td>\n",
       "      <td>CHARGE_DESC_CURFEW_FOR_PERSONS_UNDER_17;_SCHOO...</td>\n",
       "      <td>0.153521</td>\n",
       "    </tr>\n",
       "    <tr>\n",
       "      <th>162</th>\n",
       "      <td>0.147474</td>\n",
       "      <td>CHARGE_DESC_MISAPPROPRIATE_INS_PREMIUMS</td>\n",
       "      <td>0.147474</td>\n",
       "    </tr>\n",
       "    <tr>\n",
       "      <th>240</th>\n",
       "      <td>0.139943</td>\n",
       "      <td>ARREST_DATE_y_1998.0</td>\n",
       "      <td>0.139943</td>\n",
       "    </tr>\n",
       "    <tr>\n",
       "      <th>192</th>\n",
       "      <td>-0.139023</td>\n",
       "      <td>CHARGE_DESC_PROTECTIVE_CUSTODY</td>\n",
       "      <td>0.139023</td>\n",
       "    </tr>\n",
       "    <tr>\n",
       "      <th>151</th>\n",
       "      <td>0.138675</td>\n",
       "      <td>CHARGE_DESC_FUGITIVE</td>\n",
       "      <td>0.138675</td>\n",
       "    </tr>\n",
       "    <tr>\n",
       "      <th>...</th>\n",
       "      <td>...</td>\n",
       "      <td>...</td>\n",
       "      <td>...</td>\n",
       "    </tr>\n",
       "    <tr>\n",
       "      <th>88</th>\n",
       "      <td>0.008305</td>\n",
       "      <td>CHARGE_DESC_AGGRAVATED_KIDNAPPING</td>\n",
       "      <td>0.008305</td>\n",
       "    </tr>\n",
       "    <tr>\n",
       "      <th>25</th>\n",
       "      <td>-0.007852</td>\n",
       "      <td>RACE_I</td>\n",
       "      <td>0.007852</td>\n",
       "    </tr>\n",
       "    <tr>\n",
       "      <th>0</th>\n",
       "      <td>0.007362</td>\n",
       "      <td>BAR_ADMIT_DAYS</td>\n",
       "      <td>0.007362</td>\n",
       "    </tr>\n",
       "    <tr>\n",
       "      <th>153</th>\n",
       "      <td>0.007272</td>\n",
       "      <td>CHARGE_DESC_GAMBLING_IN_PUBLIC</td>\n",
       "      <td>0.007272</td>\n",
       "    </tr>\n",
       "    <tr>\n",
       "      <th>106</th>\n",
       "      <td>-0.007149</td>\n",
       "      <td>CHARGE_DESC_ATTEMPT_POSS._SCHEDULE_2</td>\n",
       "      <td>0.007149</td>\n",
       "    </tr>\n",
       "    <tr>\n",
       "      <th>198</th>\n",
       "      <td>0.007120</td>\n",
       "      <td>CHARGE_DESC_REMAINING_IN_PLACES</td>\n",
       "      <td>0.007120</td>\n",
       "    </tr>\n",
       "    <tr>\n",
       "      <th>235</th>\n",
       "      <td>-0.006972</td>\n",
       "      <td>ARREST_DATE_y_1993.0</td>\n",
       "      <td>0.006972</td>\n",
       "    </tr>\n",
       "    <tr>\n",
       "      <th>80</th>\n",
       "      <td>-0.006134</td>\n",
       "      <td>CHARGE_DESC_AGG_CRIMINAL_DAMAGE</td>\n",
       "      <td>0.006134</td>\n",
       "    </tr>\n",
       "    <tr>\n",
       "      <th>27</th>\n",
       "      <td>0.005745</td>\n",
       "      <td>RACE_W</td>\n",
       "      <td>0.005745</td>\n",
       "    </tr>\n",
       "    <tr>\n",
       "      <th>52</th>\n",
       "      <td>-0.005581</td>\n",
       "      <td>SCREENING_DISP_DATE_m_12.0</td>\n",
       "      <td>0.005581</td>\n",
       "    </tr>\n",
       "    <tr>\n",
       "      <th>101</th>\n",
       "      <td>-0.004917</td>\n",
       "      <td>CHARGE_DESC_ATTEMPT_1ST_DEGREE_MURDER</td>\n",
       "      <td>0.004917</td>\n",
       "    </tr>\n",
       "    <tr>\n",
       "      <th>55</th>\n",
       "      <td>-0.004707</td>\n",
       "      <td>SCREENING_DISP_DATE_m_4.0</td>\n",
       "      <td>0.004707</td>\n",
       "    </tr>\n",
       "    <tr>\n",
       "      <th>179</th>\n",
       "      <td>0.004186</td>\n",
       "      <td>CHARGE_DESC_POSS_SCHEDULE_1_NARCOTIC</td>\n",
       "      <td>0.004186</td>\n",
       "    </tr>\n",
       "    <tr>\n",
       "      <th>26</th>\n",
       "      <td>0.002721</td>\n",
       "      <td>RACE_T</td>\n",
       "      <td>0.002721</td>\n",
       "    </tr>\n",
       "    <tr>\n",
       "      <th>85</th>\n",
       "      <td>0.002161</td>\n",
       "      <td>CHARGE_DESC_AGGRAVATED_ASSAULT_WITH_FIREARM</td>\n",
       "      <td>0.002161</td>\n",
       "    </tr>\n",
       "    <tr>\n",
       "      <th>168</th>\n",
       "      <td>-0.001561</td>\n",
       "      <td>CHARGE_DESC_OBSCENITY_1ST_OFFENSE</td>\n",
       "      <td>0.001561</td>\n",
       "    </tr>\n",
       "    <tr>\n",
       "      <th>83</th>\n",
       "      <td>-0.001560</td>\n",
       "      <td>CHARGE_DESC_AGGRAVATED_ARSON</td>\n",
       "      <td>0.001560</td>\n",
       "    </tr>\n",
       "    <tr>\n",
       "      <th>145</th>\n",
       "      <td>0.001528</td>\n",
       "      <td>CHARGE_DESC_FILING_FALSE_PUBLIC_RECORDS</td>\n",
       "      <td>0.001528</td>\n",
       "    </tr>\n",
       "    <tr>\n",
       "      <th>116</th>\n",
       "      <td>-0.001511</td>\n",
       "      <td>CHARGE_DESC_CONCEALED_WEAPON_SECOND</td>\n",
       "      <td>0.001511</td>\n",
       "    </tr>\n",
       "    <tr>\n",
       "      <th>57</th>\n",
       "      <td>0.001140</td>\n",
       "      <td>SCREENING_DISP_DATE_m_6.0</td>\n",
       "      <td>0.001140</td>\n",
       "    </tr>\n",
       "    <tr>\n",
       "      <th>46</th>\n",
       "      <td>0.001130</td>\n",
       "      <td>SCREENING_DISP_DATE_y_1997.0</td>\n",
       "      <td>0.001130</td>\n",
       "    </tr>\n",
       "    <tr>\n",
       "      <th>48</th>\n",
       "      <td>0.000701</td>\n",
       "      <td>SCREENING_DISP_DATE_y_1999.0</td>\n",
       "      <td>0.000701</td>\n",
       "    </tr>\n",
       "    <tr>\n",
       "      <th>110</th>\n",
       "      <td>0.000628</td>\n",
       "      <td>CHARGE_DESC_BATTERY_OF_POLICE_OFFICER</td>\n",
       "      <td>0.000628</td>\n",
       "    </tr>\n",
       "    <tr>\n",
       "      <th>182</th>\n",
       "      <td>-0.000440</td>\n",
       "      <td>CHARGE_DESC_POSS_SCHEDULE_4</td>\n",
       "      <td>0.000440</td>\n",
       "    </tr>\n",
       "    <tr>\n",
       "      <th>82</th>\n",
       "      <td>-0.000215</td>\n",
       "      <td>CHARGE_DESC_AGG_RAPE_VICTIM_UNDER_12</td>\n",
       "      <td>0.000215</td>\n",
       "    </tr>\n",
       "    <tr>\n",
       "      <th>1</th>\n",
       "      <td>0.000193</td>\n",
       "      <td>CRIMINAL_FLAG</td>\n",
       "      <td>0.000193</td>\n",
       "    </tr>\n",
       "    <tr>\n",
       "      <th>35</th>\n",
       "      <td>0.000000</td>\n",
       "      <td>SCREENING_DISP_DATE_y_1986.0</td>\n",
       "      <td>0.000000</td>\n",
       "    </tr>\n",
       "    <tr>\n",
       "      <th>34</th>\n",
       "      <td>0.000000</td>\n",
       "      <td>SCREENING_DISP_DATE_y_1983.0</td>\n",
       "      <td>0.000000</td>\n",
       "    </tr>\n",
       "    <tr>\n",
       "      <th>143</th>\n",
       "      <td>0.000000</td>\n",
       "      <td>CHARGE_DESC_FAMILY_IN_NEED_OF_SERVICES/UNGOVER...</td>\n",
       "      <td>0.000000</td>\n",
       "    </tr>\n",
       "    <tr>\n",
       "      <th>167</th>\n",
       "      <td>0.000000</td>\n",
       "      <td>CHARGE_DESC_NO_DRIVER`S_LICENSE</td>\n",
       "      <td>0.000000</td>\n",
       "    </tr>\n",
       "  </tbody>\n",
       "</table>\n",
       "<p>242 rows × 3 columns</p>\n",
       "</div>"
      ],
      "text/plain": [
       "     coefficient                                            feature  \\\n",
       "61     -1.230846                                     CHARGE_TYPE_AR   \n",
       "62      1.186275                                     CHARGE_TYPE_IF   \n",
       "3       0.474326                             HABITUAL_OFFENDER_FLAG   \n",
       "38     -0.406988                       SCREENING_DISP_DATE_y_1989.0   \n",
       "15     -0.387670                                             SEX_-1   \n",
       "156    -0.347035                 CHARGE_DESC_IN_NEED_OF_SUPERVISION   \n",
       "41      0.333743                       SCREENING_DISP_DATE_y_1992.0   \n",
       "39     -0.311762                       SCREENING_DISP_DATE_y_1990.0   \n",
       "40      0.308587                       SCREENING_DISP_DATE_y_1991.0   \n",
       "37     -0.307524                       SCREENING_DISP_DATE_y_1988.0   \n",
       "150     0.292999                                CHARGE_DESC_FORGERY   \n",
       "12     -0.274245                                        SADA_SEX_-1   \n",
       "63      0.265624                                     CHARGE_TYPE_IN   \n",
       "69      0.261129                       CHARGE_CLASS_JUVENILE_STATUS   \n",
       "86     -0.240199                     CHARGE_DESC_AGGRAVATED_BATTERY   \n",
       "166     0.231605                    CHARGE_DESC_NO_DISMANTLE_PERMIT   \n",
       "66      0.227637                               CHARGE_CLASS_CAPITAL   \n",
       "233    -0.220785                               ARREST_DATE_y_1991.0   \n",
       "28      0.214879                                           RACE_nan   \n",
       "74     -0.205346         CHARGE_DESC_1ST_DEGREE_MURDER_DURING_CRIME   \n",
       "232    -0.173190                               ARREST_DATE_y_1990.0   \n",
       "72     -0.171021                                   CHARGE_CLASS_nan   \n",
       "239     0.166061                               ARREST_DATE_y_1997.0   \n",
       "131     0.164838                  CHARGE_DESC_DIST_SCHED_2_NARCOTIC   \n",
       "91      0.161166                          CHARGE_DESC_ARMED_ROBBERY   \n",
       "127    -0.153521  CHARGE_DESC_CURFEW_FOR_PERSONS_UNDER_17;_SCHOO...   \n",
       "162     0.147474            CHARGE_DESC_MISAPPROPRIATE_INS_PREMIUMS   \n",
       "240     0.139943                               ARREST_DATE_y_1998.0   \n",
       "192    -0.139023                     CHARGE_DESC_PROTECTIVE_CUSTODY   \n",
       "151     0.138675                               CHARGE_DESC_FUGITIVE   \n",
       "..           ...                                                ...   \n",
       "88      0.008305                  CHARGE_DESC_AGGRAVATED_KIDNAPPING   \n",
       "25     -0.007852                                             RACE_I   \n",
       "0       0.007362                                     BAR_ADMIT_DAYS   \n",
       "153     0.007272                     CHARGE_DESC_GAMBLING_IN_PUBLIC   \n",
       "106    -0.007149               CHARGE_DESC_ATTEMPT_POSS._SCHEDULE_2   \n",
       "198     0.007120                    CHARGE_DESC_REMAINING_IN_PLACES   \n",
       "235    -0.006972                               ARREST_DATE_y_1993.0   \n",
       "80     -0.006134                    CHARGE_DESC_AGG_CRIMINAL_DAMAGE   \n",
       "27      0.005745                                             RACE_W   \n",
       "52     -0.005581                         SCREENING_DISP_DATE_m_12.0   \n",
       "101    -0.004917              CHARGE_DESC_ATTEMPT_1ST_DEGREE_MURDER   \n",
       "55     -0.004707                          SCREENING_DISP_DATE_m_4.0   \n",
       "179     0.004186               CHARGE_DESC_POSS_SCHEDULE_1_NARCOTIC   \n",
       "26      0.002721                                             RACE_T   \n",
       "85      0.002161        CHARGE_DESC_AGGRAVATED_ASSAULT_WITH_FIREARM   \n",
       "168    -0.001561                  CHARGE_DESC_OBSCENITY_1ST_OFFENSE   \n",
       "83     -0.001560                       CHARGE_DESC_AGGRAVATED_ARSON   \n",
       "145     0.001528            CHARGE_DESC_FILING_FALSE_PUBLIC_RECORDS   \n",
       "116    -0.001511                CHARGE_DESC_CONCEALED_WEAPON_SECOND   \n",
       "57      0.001140                          SCREENING_DISP_DATE_m_6.0   \n",
       "46      0.001130                       SCREENING_DISP_DATE_y_1997.0   \n",
       "48      0.000701                       SCREENING_DISP_DATE_y_1999.0   \n",
       "110     0.000628              CHARGE_DESC_BATTERY_OF_POLICE_OFFICER   \n",
       "182    -0.000440                        CHARGE_DESC_POSS_SCHEDULE_4   \n",
       "82     -0.000215               CHARGE_DESC_AGG_RAPE_VICTIM_UNDER_12   \n",
       "1       0.000193                                      CRIMINAL_FLAG   \n",
       "35      0.000000                       SCREENING_DISP_DATE_y_1986.0   \n",
       "34      0.000000                       SCREENING_DISP_DATE_y_1983.0   \n",
       "143     0.000000  CHARGE_DESC_FAMILY_IN_NEED_OF_SERVICES/UNGOVER...   \n",
       "167     0.000000                    CHARGE_DESC_NO_DRIVER`S_LICENSE   \n",
       "\n",
       "     coefficient_abs_val  \n",
       "61              1.230846  \n",
       "62              1.186275  \n",
       "3               0.474326  \n",
       "38              0.406988  \n",
       "15              0.387670  \n",
       "156             0.347035  \n",
       "41              0.333743  \n",
       "39              0.311762  \n",
       "40              0.308587  \n",
       "37              0.307524  \n",
       "150             0.292999  \n",
       "12              0.274245  \n",
       "63              0.265624  \n",
       "69              0.261129  \n",
       "86              0.240199  \n",
       "166             0.231605  \n",
       "66              0.227637  \n",
       "233             0.220785  \n",
       "28              0.214879  \n",
       "74              0.205346  \n",
       "232             0.173190  \n",
       "72              0.171021  \n",
       "239             0.166061  \n",
       "131             0.164838  \n",
       "91              0.161166  \n",
       "127             0.153521  \n",
       "162             0.147474  \n",
       "240             0.139943  \n",
       "192             0.139023  \n",
       "151             0.138675  \n",
       "..                   ...  \n",
       "88              0.008305  \n",
       "25              0.007852  \n",
       "0               0.007362  \n",
       "153             0.007272  \n",
       "106             0.007149  \n",
       "198             0.007120  \n",
       "235             0.006972  \n",
       "80              0.006134  \n",
       "27              0.005745  \n",
       "52              0.005581  \n",
       "101             0.004917  \n",
       "55              0.004707  \n",
       "179             0.004186  \n",
       "26              0.002721  \n",
       "85              0.002161  \n",
       "168             0.001561  \n",
       "83              0.001560  \n",
       "145             0.001528  \n",
       "116             0.001511  \n",
       "57              0.001140  \n",
       "46              0.001130  \n",
       "48              0.000701  \n",
       "110             0.000628  \n",
       "182             0.000440  \n",
       "82              0.000215  \n",
       "1               0.000193  \n",
       "35              0.000000  \n",
       "34              0.000000  \n",
       "143             0.000000  \n",
       "167             0.000000  \n",
       "\n",
       "[242 rows x 3 columns]"
      ]
     },
     "execution_count": 450,
     "metadata": {},
     "output_type": "execute_result"
    }
   ],
   "source": [
    "coefficients.sort(columns = 'coefficient_abs_val', ascending=False) #I like that habitual offender flag is now in the top\n",
    "#this might be easier to arrive at a causal story for"
   ]
  },
  {
   "cell_type": "markdown",
   "metadata": {},
   "source": [
    "### Splitting AR and IF of the Logreg"
   ]
  },
  {
   "cell_type": "markdown",
   "metadata": {},
   "source": [
    "#### AR"
   ]
  },
  {
   "cell_type": "code",
   "execution_count": 778,
   "metadata": {
    "collapsed": true
   },
   "outputs": [],
   "source": [
    "X_train_lr_AR = preprocessing.scale(X_train_AR)\n",
    "\n",
    "predicted_prosecutor_lr_AR = LogisticRegression()\n",
    "predicted_prosecutor_lr_AR.fit(X_train_lr_AR, y_train_AR)\n",
    "\n",
    "X_val_lr_AR = preprocessing.scale(X_val_AR)\n",
    "\n",
    "predictions_lr_AR = predicted_prosecutor_lr_AR.predict(X_val_lr_AR)\n",
    "predicted_probability_lr_AR = predicted_prosecutor_lr_AR.predict_proba(X_val_lr_AR)"
   ]
  },
  {
   "cell_type": "code",
   "execution_count": 784,
   "metadata": {
    "collapsed": false
   },
   "outputs": [
    {
     "name": "stdout",
     "output_type": "stream",
     "text": [
      "Accuracy:  0.840547983899\n",
      "Precision:  0.6393728223\n",
      "Recall:  0.151778329198\n",
      "F-score:  0.245320855615\n"
     ]
    }
   ],
   "source": [
    "#Accuracy\n",
    "print ('Accuracy: ', sklearn.metrics.accuracy_score(y_val_AR, predictions_lr_AR))\n",
    "\n",
    "#Precision\n",
    "print ('Precision: ', sklearn.metrics.precision_score(y_val_AR, predictions_lr_AR))\n",
    "\n",
    "#Recall\n",
    "print ('Recall: ', sklearn.metrics.recall_score(y_val_AR, predictions_lr_AR))\n",
    "\n",
    "#F-score\n",
    "print ('F-score: ', sklearn.metrics.f1_score(y_val_AR, predictions_lr_AR))"
   ]
  },
  {
   "cell_type": "code",
   "execution_count": 786,
   "metadata": {
    "collapsed": false
   },
   "outputs": [
    {
     "data": {
      "text/plain": [
       "array([[11536,   207],\n",
       "       [ 2051,   367]])"
      ]
     },
     "execution_count": 786,
     "metadata": {},
     "output_type": "execute_result"
    }
   ],
   "source": [
    "lr_cm_AR = sklearn.metrics.confusion_matrix(y_val_AR,predictions_lr_AR)\n",
    "lr_cm_AR"
   ]
  },
  {
   "cell_type": "code",
   "execution_count": 820,
   "metadata": {
    "collapsed": false
   },
   "outputs": [
    {
     "name": "stderr",
     "output_type": "stream",
     "text": [
      "/anaconda/lib/python3.6/site-packages/ipykernel/__main__.py:9: FutureWarning: sort(columns=....) is deprecated, use sort_values(by=.....)\n"
     ]
    },
    {
     "data": {
      "image/png": "[encoded data removed]",
      "text/plain": [
       "<matplotlib.figure.Figure at 0x138cf22e8>"
      ]
     },
     "metadata": {},
     "output_type": "display_data"
    }
   ],
   "source": [
    "coefficients_AR = pd.DataFrame(list(zip(np.ravel(predicted_prosecutor_lr_AR.coef_), X_train_AR.columns)))\n",
    "\n",
    "coefficients_AR = coefficients_AR.rename(columns = {0:'coefficient', 1:'feature'})\n",
    "\n",
    "coefficients_AR['coefficient_abs_val'] = abs(coefficients_AR['coefficient'])\n",
    "\n",
    "coefficients_AR.index = coefficients_AR['feature']\n",
    "\n",
    "coefficients_AR.sort(columns = 'coefficient_abs_val', ascending=False).\\\n",
    "iloc[0:10,0:2].plot(kind='barh', title='Largest Coefs LR AR', legend=None)\n",
    "plt.tight_layout()\n",
    "plt.savefig('Importance_LR_AR.png')"
   ]
  },
  {
   "cell_type": "markdown",
   "metadata": {},
   "source": [
    "### IF"
   ]
  },
  {
   "cell_type": "code",
   "execution_count": 801,
   "metadata": {
    "collapsed": true
   },
   "outputs": [],
   "source": [
    "X_train_lr_IF = preprocessing.scale(X_train_IF)\n",
    "\n",
    "predicted_prosecutor_lr_IF = LogisticRegression()\n",
    "predicted_prosecutor_lr_IF.fit(X_train_lr_IF, y_train_IF)\n",
    "\n",
    "X_val_lr_IF = preprocessing.scale(X_val_IF)\n",
    "\n",
    "predictions_lr_IF = predicted_prosecutor_lr_IF.predict(X_val_lr_IF)\n",
    "predicted_probability_lr_IF = predicted_prosecutor_lr_IF.predict_proba(X_val_lr_IF)"
   ]
  },
  {
   "cell_type": "code",
   "execution_count": 802,
   "metadata": {
    "collapsed": false
   },
   "outputs": [
    {
     "name": "stdout",
     "output_type": "stream",
     "text": [
      "Accuracy:  0.936396059783\n",
      "Precision:  0.951410799603\n",
      "Recall:  0.980490523969\n",
      "F-score:  0.965731802169\n"
     ]
    }
   ],
   "source": [
    "#Accuracy\n",
    "print ('Accuracy: ', sklearn.metrics.accuracy_score(y_val_IF, predictions_lr_IF))\n",
    "\n",
    "#Precision\n",
    "print ('Precision: ', sklearn.metrics.precision_score(y_val_IF, predictions_lr_IF))\n",
    "\n",
    "#Recall\n",
    "print ('Recall: ', sklearn.metrics.recall_score(y_val_IF, predictions_lr_IF))\n",
    "\n",
    "#F-score\n",
    "print ('F-score: ', sklearn.metrics.f1_score(y_val_IF, predictions_lr_IF))"
   ]
  },
  {
   "cell_type": "code",
   "execution_count": null,
   "metadata": {
    "collapsed": true
   },
   "outputs": [],
   "source": [
    "coefficients_IF = pd.DataFrame(list(zip(np.ravel(predicted_prosecutor_lr_IF.coef_), X_train_IF.columns)))\n",
    "\n",
    "coefficients_IF = coefficients_IF.rename(columns = {0:'coefficient', 1:'feature'})\n",
    "\n",
    "coefficients_IF['coefficient_abs_val'] = abs(coefficients_IF['coefficient'])"
   ]
  },
  {
   "cell_type": "code",
   "execution_count": 806,
   "metadata": {
    "collapsed": false
   },
   "outputs": [
    {
     "data": {
      "text/plain": [
       "Index(['coefficient', 'feature', 'coefficient_abs_val'], dtype='object')"
      ]
     },
     "execution_count": 806,
     "metadata": {},
     "output_type": "execute_result"
    }
   ],
   "source": [
    "coefficients_IF.columns"
   ]
  },
  {
   "cell_type": "code",
   "execution_count": 822,
   "metadata": {
    "collapsed": false
   },
   "outputs": [
    {
     "name": "stderr",
     "output_type": "stream",
     "text": [
      "/anaconda/lib/python3.6/site-packages/ipykernel/__main__.py:3: FutureWarning: sort(columns=....) is deprecated, use sort_values(by=.....)\n",
      "  app.launch_new_instance()\n"
     ]
    },
    {
     "data": {
      "image/png": "[encoded data removed]",
      "text/plain": [
       "<matplotlib.figure.Figure at 0x138ccbbe0>"
      ]
     },
     "metadata": {},
     "output_type": "display_data"
    }
   ],
   "source": [
    "coefficients_IF.index = coefficients_IF['feature']\n",
    "\n",
    "coefficients_IF.sort(columns = 'coefficient_abs_val', ascending=False).\\\n",
    "iloc[0:10,0:2].plot(kind='barh', title='Largest Coefs LR IF', legend=None)\n",
    "plt.tight_layout()\n",
    "plt.savefig('Importance_LR_IF.png')"
   ]
  },
  {
   "cell_type": "markdown",
   "metadata": {},
   "source": [
    "### Incorporating the Reason"
   ]
  },
  {
   "cell_type": "code",
   "execution_count": 53,
   "metadata": {
    "collapsed": false
   },
   "outputs": [],
   "source": [
    "full_dataset = pd.read_csv('data_processing/output/merged_CR.csv',low_memory=False)\n"
   ]
  },
  {
   "cell_type": "code",
   "execution_count": 38,
   "metadata": {
    "collapsed": false
   },
   "outputs": [
    {
     "data": {
      "text/html": [
       "<div>\n",
       "<table border=\"1\" class=\"dataframe\">\n",
       "  <thead>\n",
       "    <tr style=\"text-align: right;\">\n",
       "      <th></th>\n",
       "      <th>UNIQUE_ID</th>\n",
       "      <th>NEXT_ARREST_TIME</th>\n",
       "      <th>CRIMINAL_FLAG</th>\n",
       "      <th>FINAL_DETENTION_FLAG</th>\n",
       "      <th>HABITUAL_OFFENDER_FLAG</th>\n",
       "      <th>INITIAL_DETENTION_FLAG</th>\n",
       "      <th>JUVENILE_FLAG</th>\n",
       "      <th>SADA_SEX</th>\n",
       "      <th>SEX</th>\n",
       "      <th>TOT_NUM_DEF</th>\n",
       "      <th>...</th>\n",
       "      <th>CHARGE_CLASS</th>\n",
       "      <th>CHARGE_TYPE</th>\n",
       "      <th>LEAD_CHARGE_CODE</th>\n",
       "      <th>PARTY</th>\n",
       "      <th>RACE</th>\n",
       "      <th>SADA_RACE</th>\n",
       "      <th>DFDN_STATUS_REASON_CODE</th>\n",
       "      <th>GUILTY_FLAG</th>\n",
       "      <th>SCREENING_DISP_CODE</th>\n",
       "      <th>BOFI_NBR</th>\n",
       "    </tr>\n",
       "  </thead>\n",
       "  <tbody>\n",
       "    <tr>\n",
       "      <th>0</th>\n",
       "      <td>5184</td>\n",
       "      <td>Delete</td>\n",
       "      <td>0</td>\n",
       "      <td>0</td>\n",
       "      <td>0</td>\n",
       "      <td>0</td>\n",
       "      <td>0</td>\n",
       "      <td>-1</td>\n",
       "      <td>1</td>\n",
       "      <td>1</td>\n",
       "      <td>...</td>\n",
       "      <td>4.0</td>\n",
       "      <td>IF</td>\n",
       "      <td>14:(27) 67.3 (B)</td>\n",
       "      <td>NaN</td>\n",
       "      <td>W</td>\n",
       "      <td>NaN</td>\n",
       "      <td>NaN</td>\n",
       "      <td>NaN</td>\n",
       "      <td>NaN</td>\n",
       "      <td>290600</td>\n",
       "    </tr>\n",
       "    <tr>\n",
       "      <th>1</th>\n",
       "      <td>5073</td>\n",
       "      <td>3209</td>\n",
       "      <td>1</td>\n",
       "      <td>0</td>\n",
       "      <td>0</td>\n",
       "      <td>0</td>\n",
       "      <td>0</td>\n",
       "      <td>-1</td>\n",
       "      <td>1</td>\n",
       "      <td>1</td>\n",
       "      <td>...</td>\n",
       "      <td>3.0</td>\n",
       "      <td>IF</td>\n",
       "      <td>14:69 (A)</td>\n",
       "      <td>NaN</td>\n",
       "      <td>B</td>\n",
       "      <td>NaN</td>\n",
       "      <td>NaN</td>\n",
       "      <td>NaN</td>\n",
       "      <td>NaN</td>\n",
       "      <td>290588</td>\n",
       "    </tr>\n",
       "    <tr>\n",
       "      <th>2</th>\n",
       "      <td>104025</td>\n",
       "      <td>1794</td>\n",
       "      <td>1</td>\n",
       "      <td>0</td>\n",
       "      <td>0</td>\n",
       "      <td>0</td>\n",
       "      <td>0</td>\n",
       "      <td>-1</td>\n",
       "      <td>1</td>\n",
       "      <td>1</td>\n",
       "      <td>...</td>\n",
       "      <td>3.0</td>\n",
       "      <td>IF</td>\n",
       "      <td>14:67 (A)</td>\n",
       "      <td>NaN</td>\n",
       "      <td>B</td>\n",
       "      <td>NaN</td>\n",
       "      <td>NaN</td>\n",
       "      <td>NaN</td>\n",
       "      <td>NaN</td>\n",
       "      <td>220453</td>\n",
       "    </tr>\n",
       "    <tr>\n",
       "      <th>3</th>\n",
       "      <td>18252</td>\n",
       "      <td>516</td>\n",
       "      <td>0</td>\n",
       "      <td>0</td>\n",
       "      <td>0</td>\n",
       "      <td>0</td>\n",
       "      <td>1</td>\n",
       "      <td>0</td>\n",
       "      <td>1</td>\n",
       "      <td>1</td>\n",
       "      <td>...</td>\n",
       "      <td>3.0</td>\n",
       "      <td>IF</td>\n",
       "      <td>14:69 (A)</td>\n",
       "      <td>NaN</td>\n",
       "      <td>B</td>\n",
       "      <td>W</td>\n",
       "      <td>NaN</td>\n",
       "      <td>NaN</td>\n",
       "      <td>230.0</td>\n",
       "      <td>J78755</td>\n",
       "    </tr>\n",
       "    <tr>\n",
       "      <th>4</th>\n",
       "      <td>5183</td>\n",
       "      <td>0</td>\n",
       "      <td>0</td>\n",
       "      <td>0</td>\n",
       "      <td>0</td>\n",
       "      <td>0</td>\n",
       "      <td>0</td>\n",
       "      <td>-1</td>\n",
       "      <td>1</td>\n",
       "      <td>1</td>\n",
       "      <td>...</td>\n",
       "      <td>4.0</td>\n",
       "      <td>IF</td>\n",
       "      <td>40:966 (D) (1)</td>\n",
       "      <td>NaN</td>\n",
       "      <td>W</td>\n",
       "      <td>NaN</td>\n",
       "      <td>NaN</td>\n",
       "      <td>NaN</td>\n",
       "      <td>NaN</td>\n",
       "      <td>290600</td>\n",
       "    </tr>\n",
       "  </tbody>\n",
       "</table>\n",
       "<p>5 rows × 44 columns</p>\n",
       "</div>"
      ],
      "text/plain": [
       "   UNIQUE_ID NEXT_ARREST_TIME  CRIMINAL_FLAG  FINAL_DETENTION_FLAG  \\\n",
       "0       5184           Delete              0                     0   \n",
       "1       5073             3209              1                     0   \n",
       "2     104025             1794              1                     0   \n",
       "3      18252              516              0                     0   \n",
       "4       5183                0              0                     0   \n",
       "\n",
       "   HABITUAL_OFFENDER_FLAG  INITIAL_DETENTION_FLAG  JUVENILE_FLAG  SADA_SEX  \\\n",
       "0                       0                       0              0        -1   \n",
       "1                       0                       0              0        -1   \n",
       "2                       0                       0              0        -1   \n",
       "3                       0                       0              1         0   \n",
       "4                       0                       0              0        -1   \n",
       "\n",
       "   SEX  TOT_NUM_DEF    ...     CHARGE_CLASS  CHARGE_TYPE  LEAD_CHARGE_CODE  \\\n",
       "0    1            1    ...              4.0           IF  14:(27) 67.3 (B)   \n",
       "1    1            1    ...              3.0           IF         14:69 (A)   \n",
       "2    1            1    ...              3.0           IF         14:67 (A)   \n",
       "3    1            1    ...              3.0           IF         14:69 (A)   \n",
       "4    1            1    ...              4.0           IF    40:966 (D) (1)   \n",
       "\n",
       "  PARTY RACE SADA_RACE DFDN_STATUS_REASON_CODE GUILTY_FLAG  \\\n",
       "0   NaN    W       NaN                     NaN         NaN   \n",
       "1   NaN    B       NaN                     NaN         NaN   \n",
       "2   NaN    B       NaN                     NaN         NaN   \n",
       "3   NaN    B         W                     NaN         NaN   \n",
       "4   NaN    W       NaN                     NaN         NaN   \n",
       "\n",
       "   SCREENING_DISP_CODE  BOFI_NBR  \n",
       "0                  NaN    290600  \n",
       "1                  NaN    290588  \n",
       "2                  NaN    220453  \n",
       "3                230.0    J78755  \n",
       "4                  NaN    290600  \n",
       "\n",
       "[5 rows x 44 columns]"
      ]
     },
     "execution_count": 38,
     "metadata": {},
     "output_type": "execute_result"
    }
   ],
   "source": [
    "full_dataset.head()"
   ]
  },
  {
   "cell_type": "code",
   "execution_count": 41,
   "metadata": {
    "collapsed": false
   },
   "outputs": [
    {
     "data": {
      "text/html": [
       "<div>\n",
       "<table border=\"1\" class=\"dataframe\">\n",
       "  <thead>\n",
       "    <tr style=\"text-align: right;\">\n",
       "      <th></th>\n",
       "      <th>UNIQUE_ID</th>\n",
       "      <th>NEXT_ARREST_TIME</th>\n",
       "      <th>ARREST_DATE</th>\n",
       "      <th>ARREST_DATE_y</th>\n",
       "      <th>BOFI_NBR</th>\n",
       "      <th>SCREENING_DISP_CODE</th>\n",
       "      <th>BAR_ADMIT_DAYS</th>\n",
       "      <th>CRIMINAL_FLAG</th>\n",
       "      <th>FINAL_DETENTION_FLAG</th>\n",
       "      <th>HABITUAL_OFFENDER_FLAG</th>\n",
       "      <th>...</th>\n",
       "      <th>ARREST_DATE_y_1990.0</th>\n",
       "      <th>ARREST_DATE_y_1991.0</th>\n",
       "      <th>ARREST_DATE_y_1992.0</th>\n",
       "      <th>ARREST_DATE_y_1993.0</th>\n",
       "      <th>ARREST_DATE_y_1994.0</th>\n",
       "      <th>ARREST_DATE_y_1995.0</th>\n",
       "      <th>ARREST_DATE_y_1996.0</th>\n",
       "      <th>ARREST_DATE_y_1997.0</th>\n",
       "      <th>ARREST_DATE_y_1998.0</th>\n",
       "      <th>ARREST_DATE_y_1999.0</th>\n",
       "    </tr>\n",
       "  </thead>\n",
       "  <tbody>\n",
       "    <tr>\n",
       "      <th>0</th>\n",
       "      <td>31781</td>\n",
       "      <td>1163</td>\n",
       "      <td>1989-03-20</td>\n",
       "      <td>1989.0</td>\n",
       "      <td>300859</td>\n",
       "      <td>240.0</td>\n",
       "      <td>537</td>\n",
       "      <td>1</td>\n",
       "      <td>0</td>\n",
       "      <td>0</td>\n",
       "      <td>...</td>\n",
       "      <td>0.0</td>\n",
       "      <td>0.0</td>\n",
       "      <td>0.0</td>\n",
       "      <td>0.0</td>\n",
       "      <td>0.0</td>\n",
       "      <td>0.0</td>\n",
       "      <td>0.0</td>\n",
       "      <td>0.0</td>\n",
       "      <td>0.0</td>\n",
       "      <td>0.0</td>\n",
       "    </tr>\n",
       "    <tr>\n",
       "      <th>1</th>\n",
       "      <td>217249</td>\n",
       "      <td>0</td>\n",
       "      <td>1996-05-28</td>\n",
       "      <td>1996.0</td>\n",
       "      <td>Y100989</td>\n",
       "      <td>240.0</td>\n",
       "      <td>1131</td>\n",
       "      <td>1</td>\n",
       "      <td>0</td>\n",
       "      <td>0</td>\n",
       "      <td>...</td>\n",
       "      <td>0.0</td>\n",
       "      <td>0.0</td>\n",
       "      <td>0.0</td>\n",
       "      <td>0.0</td>\n",
       "      <td>0.0</td>\n",
       "      <td>0.0</td>\n",
       "      <td>1.0</td>\n",
       "      <td>0.0</td>\n",
       "      <td>0.0</td>\n",
       "      <td>0.0</td>\n",
       "    </tr>\n",
       "    <tr>\n",
       "      <th>2</th>\n",
       "      <td>181115</td>\n",
       "      <td>0</td>\n",
       "      <td>1994-08-20</td>\n",
       "      <td>1994.0</td>\n",
       "      <td>343892</td>\n",
       "      <td>260.0</td>\n",
       "      <td>1415</td>\n",
       "      <td>1</td>\n",
       "      <td>0</td>\n",
       "      <td>0</td>\n",
       "      <td>...</td>\n",
       "      <td>0.0</td>\n",
       "      <td>0.0</td>\n",
       "      <td>0.0</td>\n",
       "      <td>0.0</td>\n",
       "      <td>1.0</td>\n",
       "      <td>0.0</td>\n",
       "      <td>0.0</td>\n",
       "      <td>0.0</td>\n",
       "      <td>0.0</td>\n",
       "      <td>0.0</td>\n",
       "    </tr>\n",
       "    <tr>\n",
       "      <th>3</th>\n",
       "      <td>187502</td>\n",
       "      <td>716</td>\n",
       "      <td>1997-03-25</td>\n",
       "      <td>1997.0</td>\n",
       "      <td>J98484</td>\n",
       "      <td>260.0</td>\n",
       "      <td>1992</td>\n",
       "      <td>1</td>\n",
       "      <td>0</td>\n",
       "      <td>0</td>\n",
       "      <td>...</td>\n",
       "      <td>0.0</td>\n",
       "      <td>0.0</td>\n",
       "      <td>0.0</td>\n",
       "      <td>0.0</td>\n",
       "      <td>0.0</td>\n",
       "      <td>0.0</td>\n",
       "      <td>0.0</td>\n",
       "      <td>1.0</td>\n",
       "      <td>0.0</td>\n",
       "      <td>0.0</td>\n",
       "    </tr>\n",
       "    <tr>\n",
       "      <th>4</th>\n",
       "      <td>87666</td>\n",
       "      <td>29</td>\n",
       "      <td>1997-02-13</td>\n",
       "      <td>1997.0</td>\n",
       "      <td>312235</td>\n",
       "      <td>260.0</td>\n",
       "      <td>3597</td>\n",
       "      <td>1</td>\n",
       "      <td>0</td>\n",
       "      <td>0</td>\n",
       "      <td>...</td>\n",
       "      <td>0.0</td>\n",
       "      <td>0.0</td>\n",
       "      <td>0.0</td>\n",
       "      <td>0.0</td>\n",
       "      <td>0.0</td>\n",
       "      <td>0.0</td>\n",
       "      <td>0.0</td>\n",
       "      <td>1.0</td>\n",
       "      <td>0.0</td>\n",
       "      <td>0.0</td>\n",
       "    </tr>\n",
       "  </tbody>\n",
       "</table>\n",
       "<p>5 rows × 93 columns</p>\n",
       "</div>"
      ],
      "text/plain": [
       "   UNIQUE_ID  NEXT_ARREST_TIME ARREST_DATE  ARREST_DATE_y BOFI_NBR  \\\n",
       "0      31781              1163  1989-03-20         1989.0   300859   \n",
       "1     217249                 0  1996-05-28         1996.0  Y100989   \n",
       "2     181115                 0  1994-08-20         1994.0   343892   \n",
       "3     187502               716  1997-03-25         1997.0   J98484   \n",
       "4      87666                29  1997-02-13         1997.0   312235   \n",
       "\n",
       "   SCREENING_DISP_CODE  BAR_ADMIT_DAYS  CRIMINAL_FLAG  FINAL_DETENTION_FLAG  \\\n",
       "0                240.0             537              1                     0   \n",
       "1                240.0            1131              1                     0   \n",
       "2                260.0            1415              1                     0   \n",
       "3                260.0            1992              1                     0   \n",
       "4                260.0            3597              1                     0   \n",
       "\n",
       "   HABITUAL_OFFENDER_FLAG          ...           ARREST_DATE_y_1990.0  \\\n",
       "0                       0          ...                            0.0   \n",
       "1                       0          ...                            0.0   \n",
       "2                       0          ...                            0.0   \n",
       "3                       0          ...                            0.0   \n",
       "4                       0          ...                            0.0   \n",
       "\n",
       "   ARREST_DATE_y_1991.0  ARREST_DATE_y_1992.0  ARREST_DATE_y_1993.0  \\\n",
       "0                   0.0                   0.0                   0.0   \n",
       "1                   0.0                   0.0                   0.0   \n",
       "2                   0.0                   0.0                   0.0   \n",
       "3                   0.0                   0.0                   0.0   \n",
       "4                   0.0                   0.0                   0.0   \n",
       "\n",
       "   ARREST_DATE_y_1994.0  ARREST_DATE_y_1995.0  ARREST_DATE_y_1996.0  \\\n",
       "0                   0.0                   0.0                   0.0   \n",
       "1                   0.0                   0.0                   1.0   \n",
       "2                   1.0                   0.0                   0.0   \n",
       "3                   0.0                   0.0                   0.0   \n",
       "4                   0.0                   0.0                   0.0   \n",
       "\n",
       "   ARREST_DATE_y_1997.0  ARREST_DATE_y_1998.0  ARREST_DATE_y_1999.0  \n",
       "0                   0.0                   0.0                   0.0  \n",
       "1                   0.0                   0.0                   0.0  \n",
       "2                   0.0                   0.0                   0.0  \n",
       "3                   1.0                   0.0                   0.0  \n",
       "4                   1.0                   0.0                   0.0  \n",
       "\n",
       "[5 rows x 93 columns]"
      ]
     },
     "execution_count": 41,
     "metadata": {},
     "output_type": "execute_result"
    }
   ],
   "source": [
    "train.head()"
   ]
  },
  {
   "cell_type": "code",
   "execution_count": 44,
   "metadata": {
    "collapsed": false
   },
   "outputs": [
    {
     "data": {
      "text/plain": [
       "Index(['UNIQUE_ID', 'NEXT_ARREST_TIME', 'CRIMINAL_FLAG',\n",
       "       'FINAL_DETENTION_FLAG', 'HABITUAL_OFFENDER_FLAG',\n",
       "       'INITIAL_DETENTION_FLAG', 'JUVENILE_FLAG', 'SADA_SEX', 'SEX',\n",
       "       'TOT_NUM_DEF', 'MULTIPLE_DEF_FLAG', 'SCREENING_DAYS', 'POLICE_RPT_DAYS',\n",
       "       'POLICE_RPT_DATE', 'ARREST_DATE', 'DOB', 'SCREENING_DISP_DATE',\n",
       "       'BAR_ADMISSION', 'POLICE_RPT_DATE_y', 'ARREST_DATE_y', 'DOB_y',\n",
       "       'SCREENING_DISP_DATE_y', 'BAR_ADMISSION_y', 'POLICE_RPT_DATE_m',\n",
       "       'ARREST_DATE_m', 'DOB_m', 'SCREENING_DISP_DATE_m', 'BAR_ADMISSION_m',\n",
       "       'AGE', 'BAR_ADMIT_DAYS', 'ARREST_TO_SCREEN', 'AGE_NA',\n",
       "       'AGE_JUV_INVALID', 'ARREST_CREDIT_CODE', 'CHARGE_CLASS', 'CHARGE_TYPE',\n",
       "       'LEAD_CHARGE_CODE', 'PARTY', 'RACE', 'SADA_RACE',\n",
       "       'DFDN_STATUS_REASON_CODE', 'GUILTY_FLAG', 'SCREENING_DISP_CODE',\n",
       "       'BOFI_NBR'],\n",
       "      dtype='object')"
      ]
     },
     "execution_count": 44,
     "metadata": {},
     "output_type": "execute_result"
    }
   ],
   "source": [
    "full_dataset.columns"
   ]
  },
  {
   "cell_type": "code",
   "execution_count": 47,
   "metadata": {
    "collapsed": false
   },
   "outputs": [],
   "source": [
    "train_reason = pd.merge(train, full_dataset.loc[:,['UNIQUE_ID', 'DFDN_STATUS_REASON_CODE']], on = \"UNIQUE_ID\")"
   ]
  },
  {
   "cell_type": "code",
   "execution_count": 55,
   "metadata": {
    "collapsed": false
   },
   "outputs": [
    {
     "name": "stderr",
     "output_type": "stream",
     "text": [
      "/anaconda/lib/python3.6/site-packages/ipykernel/__main__.py:7: SettingWithCopyWarning: \n",
      "A value is trying to be set on a copy of a slice from a DataFrame.\n",
      "Try using .loc[row_indexer,col_indexer] = value instead\n",
      "\n",
      "See the caveats in the documentation: http://pandas.pydata.org/pandas-docs/stable/indexing.html#indexing-view-versus-copy\n"
     ]
    }
   ],
   "source": [
    "Code = pd.read_stata(\"data_processing/source/code-cln.dta\")\n",
    "REASCD = Code[Code['code_type'] == 'REASCD']\n",
    "train_reason['DFDN_STATUS_REASON_CODE'] =\\\n",
    "train_reason['DFDN_STATUS_REASON_CODE'].astype(str)\n",
    "train_reason['DFDN_STATUS_REASON_CODE'] = \\\n",
    "train_reason['DFDN_STATUS_REASON_CODE'].str.split(\".\").apply(lambda x: x[0])\n",
    "train_reason.DFDN_STATUS_REASON_CODE =\\\n",
    "train_reason.DFDN_STATUS_REASON_CODE.apply(lambda x: x.zfill(3))\n",
    "\n",
    "REASCD['code_code'] = REASCD['code_code'].astype(str)\n",
    "\n",
    "train_reason = pd.merge(train_reason, REASCD[['code_code', 'short_desc', 'long_desc']], \\\n",
    "                             left_on=['DFDN_STATUS_REASON_CODE'], right_on=['code_code'], how='left')"
   ]
  },
  {
   "cell_type": "code",
   "execution_count": 92,
   "metadata": {
    "collapsed": false
   },
   "outputs": [
    {
     "data": {
      "text/plain": [
       "(147663, 98)"
      ]
     },
     "execution_count": 92,
     "metadata": {},
     "output_type": "execute_result"
    }
   ],
   "source": [
    "train_reason.shape"
   ]
  },
  {
   "cell_type": "code",
   "execution_count": 99,
   "metadata": {
    "collapsed": false
   },
   "outputs": [
    {
     "data": {
      "text/plain": [
       "NaN                               42749\n",
       "NOT APPLICABLE                    38725\n",
       "REFERRAL TO FINS -JUVENILE        12422\n",
       "VICTIM REFUSES TO PROSECUTE        9872\n",
       "DEFENDANT SEVERED/CONSOLIDATED     6772\n",
       "Name: long_desc, dtype: int64"
      ]
     },
     "execution_count": 99,
     "metadata": {},
     "output_type": "execute_result"
    }
   ],
   "source": [
    "train_reason['long_desc'].value_counts(dropna=False).head()"
   ]
  },
  {
   "cell_type": "code",
   "execution_count": 104,
   "metadata": {
    "collapsed": false
   },
   "outputs": [
    {
     "data": {
      "text/plain": [
       "NaN                                23459\n",
       "REFERRAL TO FINS -JUVENILE         12360\n",
       "VICTIM REFUSES TO PROSECUTE         9639\n",
       "TESTIMONY INSUFF TO PROVE CRIME     5404\n",
       "NOT SUITABLE FOR PROSECUTION        4817\n",
       "Name: long_desc, dtype: int64"
      ]
     },
     "execution_count": 104,
     "metadata": {},
     "output_type": "execute_result"
    }
   ],
   "source": [
    "train_reason.loc[train_reason.ACCEPTED == 0, 'long_desc'].value_counts(dropna=False).head()"
   ]
  },
  {
   "cell_type": "code",
   "execution_count": 106,
   "metadata": {
    "collapsed": false
   },
   "outputs": [
    {
     "data": {
      "text/plain": [
       "(80217, 98)"
      ]
     },
     "execution_count": 106,
     "metadata": {},
     "output_type": "execute_result"
    }
   ],
   "source": [
    "train_reason.loc[train_reason.ACCEPTED == 0].shape"
   ]
  },
  {
   "cell_type": "code",
   "execution_count": 59,
   "metadata": {
    "collapsed": true
   },
   "outputs": [],
   "source": [
    "train_reason['Count'] = 1"
   ]
  },
  {
   "cell_type": "code",
   "execution_count": 158,
   "metadata": {
    "collapsed": true
   },
   "outputs": [],
   "source": [
    "reasons = pd.pivot_table(data = train_reason, values ='Count', index = train_reason['long_desc'], \\\n",
    "               columns = train_reason['ACCEPTED'], aggfunc = sum, dropna=False)"
   ]
  },
  {
   "cell_type": "code",
   "execution_count": 159,
   "metadata": {
    "collapsed": false
   },
   "outputs": [
    {
     "data": {
      "text/plain": [
       "104914.0"
      ]
     },
     "execution_count": 159,
     "metadata": {},
     "output_type": "execute_result"
    }
   ],
   "source": [
    "sum(reasons.loc[reasons[0].notnull(), 0]) + sum(reasons.loc[reasons[1].notnull(), 1])"
   ]
  },
  {
   "cell_type": "code",
   "execution_count": 138,
   "metadata": {
    "collapsed": false
   },
   "outputs": [],
   "source": [
    "reasons0 = reasons[0].div(sum(reasons.loc[reasons[0].notnull(), 0]))\n",
    "\n",
    "reasons1 = reasons[1].div(sum(reasons.loc[reasons[1].notnull(), 1]))\n",
    "\n",
    "reasons['Pct_of_not_accepted']  = reasons0\n",
    "\n",
    "reasons['Pct_of_accepted'] = reasons1\n"
   ]
  },
  {
   "cell_type": "code",
   "execution_count": 152,
   "metadata": {
    "collapsed": false
   },
   "outputs": [],
   "source": [
    "reasons = reasons.rename(columns = {0: 'not_accepted_num', 1: 'accepted_num'})"
   ]
  },
  {
   "cell_type": "code",
   "execution_count": 153,
   "metadata": {
    "collapsed": false
   },
   "outputs": [
    {
     "data": {
      "text/html": [
       "<div>\n",
       "<table border=\"1\" class=\"dataframe\">\n",
       "  <thead>\n",
       "    <tr style=\"text-align: right;\">\n",
       "      <th>ACCEPTED</th>\n",
       "      <th>not_accepted_num</th>\n",
       "      <th>accepted_num</th>\n",
       "      <th>Pct_of_not_accepted</th>\n",
       "      <th>Pct_of_accepted</th>\n",
       "    </tr>\n",
       "    <tr>\n",
       "      <th>long_desc</th>\n",
       "      <th></th>\n",
       "      <th></th>\n",
       "      <th></th>\n",
       "      <th></th>\n",
       "    </tr>\n",
       "  </thead>\n",
       "  <tbody>\n",
       "    <tr>\n",
       "      <th>REFERRAL TO FINS -JUVENILE</th>\n",
       "      <td>12360.0</td>\n",
       "      <td>62.0</td>\n",
       "      <td>0.217767</td>\n",
       "      <td>0.001287</td>\n",
       "    </tr>\n",
       "    <tr>\n",
       "      <th>VICTIM REFUSES TO PROSECUTE</th>\n",
       "      <td>9639.0</td>\n",
       "      <td>233.0</td>\n",
       "      <td>0.169826</td>\n",
       "      <td>0.004838</td>\n",
       "    </tr>\n",
       "    <tr>\n",
       "      <th>TESTIMONY INSUFF TO PROVE CRIME</th>\n",
       "      <td>5404.0</td>\n",
       "      <td>358.0</td>\n",
       "      <td>0.095211</td>\n",
       "      <td>0.007434</td>\n",
       "    </tr>\n",
       "    <tr>\n",
       "      <th>NOT SUITABLE FOR PROSECUTION</th>\n",
       "      <td>4817.0</td>\n",
       "      <td>100.0</td>\n",
       "      <td>0.084869</td>\n",
       "      <td>0.002077</td>\n",
       "    </tr>\n",
       "    <tr>\n",
       "      <th>INSUFFICIENT NEXUS</th>\n",
       "      <td>4743.0</td>\n",
       "      <td>99.0</td>\n",
       "      <td>0.083565</td>\n",
       "      <td>0.002056</td>\n",
       "    </tr>\n",
       "  </tbody>\n",
       "</table>\n",
       "</div>"
      ],
      "text/plain": [
       "ACCEPTED                         not_accepted_num  accepted_num  \\\n",
       "long_desc                                                         \n",
       "REFERRAL TO FINS -JUVENILE                12360.0          62.0   \n",
       "VICTIM REFUSES TO PROSECUTE                9639.0         233.0   \n",
       "TESTIMONY INSUFF TO PROVE CRIME            5404.0         358.0   \n",
       "NOT SUITABLE FOR PROSECUTION               4817.0         100.0   \n",
       "INSUFFICIENT NEXUS                         4743.0          99.0   \n",
       "\n",
       "ACCEPTED                         Pct_of_not_accepted  Pct_of_accepted  \n",
       "long_desc                                                              \n",
       "REFERRAL TO FINS -JUVENILE                  0.217767         0.001287  \n",
       "VICTIM REFUSES TO PROSECUTE                 0.169826         0.004838  \n",
       "TESTIMONY INSUFF TO PROVE CRIME             0.095211         0.007434  \n",
       "NOT SUITABLE FOR PROSECUTION                0.084869         0.002077  \n",
       "INSUFFICIENT NEXUS                          0.083565         0.002056  "
      ]
     },
     "execution_count": 153,
     "metadata": {},
     "output_type": "execute_result"
    }
   ],
   "source": [
    "reasons.sort_values(by='Pct_of_not_accepted', ascending = False).head()"
   ]
  },
  {
   "cell_type": "code",
   "execution_count": 154,
   "metadata": {
    "collapsed": false
   },
   "outputs": [
    {
     "data": {
      "text/plain": [
       "56758.0"
      ]
     },
     "execution_count": 154,
     "metadata": {},
     "output_type": "execute_result"
    }
   ],
   "source": [
    "sum(reasons.loc[reasons['not_accepted_num'].notnull(),'not_accepted_num'])"
   ]
  },
  {
   "cell_type": "code",
   "execution_count": 155,
   "metadata": {
    "collapsed": false
   },
   "outputs": [
    {
     "data": {
      "text/plain": [
       "48156.0"
      ]
     },
     "execution_count": 155,
     "metadata": {},
     "output_type": "execute_result"
    }
   ],
   "source": [
    "sum(reasons.loc[reasons['accepted_num'].notnull(),'accepted_num'])"
   ]
  },
  {
   "cell_type": "markdown",
   "metadata": {},
   "source": [
    "### Error Analysis"
   ]
  },
  {
   "cell_type": "code",
   "execution_count": null,
   "metadata": {
    "collapsed": true
   },
   "outputs": [],
   "source": [
    "#Haven't yet adapted code below to the predicted prosecutor model"
   ]
  },
  {
   "cell_type": "code",
   "execution_count": 9,
   "metadata": {
    "collapsed": true
   },
   "outputs": [],
   "source": [
    "#preds_to_analyze = models_predict_val['Model59']\n",
    "\n",
    "preds_to_analyze = best_model_predictions\n",
    "\n",
    "np.save('pred_val_5yr_gbt_optimal.npy', preds_to_analyze)"
   ]
  },
  {
   "cell_type": "code",
   "execution_count": 10,
   "metadata": {
    "collapsed": true
   },
   "outputs": [],
   "source": [
    "probs_to_analyze = best_model_predicted_prob"
   ]
  },
  {
   "cell_type": "code",
   "execution_count": 11,
   "metadata": {
    "collapsed": false
   },
   "outputs": [],
   "source": [
    "val['AGE'] = val['AGE']/365"
   ]
  },
  {
   "cell_type": "code",
   "execution_count": 9,
   "metadata": {
    "collapsed": true
   },
   "outputs": [],
   "source": [
    "numeric = ['NEXT_ARREST_TIME','ARREST_DATE_y', 'BAR_ADMIT_DAYS', 'CRIMINAL_FLAG','FINAL_DETENTION_FLAG',\\\n",
    "           'HABITUAL_OFFENDER_FLAG','INITIAL_DETENTION_FLAG','JUVENILE_FLAG','TOT_NUM_DEF','MULTIPLE_DEF_FLAG',\\\n",
    "           'SCREENING_DAYS','ARREST_DATE_y','AGE', 'AGE_JUV_INVALID', 'AGE_NA', 'ARREST_TO_SCREEN']\n",
    "\n",
    "numeric_exc_binary = ['NEXT_ARREST_TIME','ARREST_DATE_y','SCREENING_DAYS','SCREENING_DISP_DATE_y',\\\n",
    "                      'SCREENING_DISP_DATE_m','AGE']\n",
    "\n",
    "categorical =['CHARGE_TYPE',\\\n",
    "       'PARTY', 'RACE', 'SADA_RACE','SEX','SADA_SEX']\n",
    "\n",
    "categorical_and_binary = ['CHARGE_CLASS', 'CHARGE_TYPE',\\\n",
    "       'PARTY', 'RACE', 'SADA_RACE','SEX','SADA_SEX', 'CRIMINAL_FLAG',\\\n",
    "        'JUVENILE_FLAG', 'MULTIPLE_DEF_FLAG', 'AGE_JUV_INVALID', 'AGE_NA']"
   ]
  },
  {
   "cell_type": "code",
   "execution_count": 10,
   "metadata": {
    "collapsed": false
   },
   "outputs": [
    {
     "name": "stdout",
     "output_type": "stream",
     "text": [
      "10994\n",
      "10994\n"
     ]
    }
   ],
   "source": [
    "val_error = ea.Error_Analysis('5_yr_gbt_optimal', 'data_processing/output/data_val.csv', \\\n",
    "                              'pred_val_5yr_gbt_optimal.npy')\n",
    "\n",
    "val_error.create_err_analysis_df(5)\n",
    "\n",
    "val_error.divide_preds()"
   ]
  },
  {
   "cell_type": "code",
   "execution_count": null,
   "metadata": {
    "collapsed": true
   },
   "outputs": [],
   "source": [
    "data = val_error.err_analysis\n",
    "\n",
    "data['NEXT_ARREST_YEAR'] = data['NEXT_ARREST_TIME'].astype(float)/365\n",
    "\n",
    "data['NEXT_ARREST_YEAR'] = data['NEXT_ARREST_YEAR'].astype(int)"
   ]
  },
  {
   "cell_type": "code",
   "execution_count": null,
   "metadata": {
    "collapsed": false
   },
   "outputs": [],
   "source": [
    "#Recall by next_arrest_year\n",
    "pd.pivot_table(data[data['True_Y'] ==1], values = 'Pred_Y', index='NEXT_ARREST_YEAR').plot(kind=\"bar\")"
   ]
  },
  {
   "cell_type": "code",
   "execution_count": null,
   "metadata": {
    "collapsed": false
   },
   "outputs": [],
   "source": [
    "#Percent Predicted Positive Class with a True_Y = 0 by next_arrest_year\n",
    "pd.pivot_table(data[data['True_Y'] ==0], values = 'Pred_Y', index='NEXT_ARREST_YEAR').plot(kind=\"bar\")\n",
    "\n",
    "#The model frequently misclassifies people who will be rearrested far in the future as rearrested within 5 years\n",
    "#however, it rarely (20% of the time) misclassifies people who will never be rearrested"
   ]
  },
  {
   "cell_type": "code",
   "execution_count": null,
   "metadata": {
    "collapsed": false
   },
   "outputs": [],
   "source": [
    "#Precision by next_arrest_year\n",
    "pd.pivot_table(data[data['Pred_Y'] ==1], values = 'True_Y', index='NEXT_ARREST_YEAR').plot(kind=\"bar\")"
   ]
  },
  {
   "cell_type": "code",
   "execution_count": null,
   "metadata": {
    "collapsed": false
   },
   "outputs": [],
   "source": [
    "#Precision by next arrest year\n",
    "data['COUNT'] = 1\n",
    "precision_by_arrest_year = pd.pivot_table(data[data['Pred_Y'] ==1], values = ['COUNT', 'CORRECT'], index='NEXT_ARREST_YEAR', aggfunc=sum)"
   ]
  },
  {
   "cell_type": "code",
   "execution_count": null,
   "metadata": {
    "collapsed": true
   },
   "outputs": [],
   "source": [
    "precision_by_arrest_year['Percent'] = precision_by_arrest_year['CORRECT']/precision_by_arrest_year['COUNT']"
   ]
  },
  {
   "cell_type": "code",
   "execution_count": null,
   "metadata": {
    "collapsed": false
   },
   "outputs": [],
   "source": [
    "precision_by_arrest_year\n",
    "\n",
    "#what does this mean? there are 3,514 records predicted as rearrested with a next_arrest_year of 0\n",
    "#next_arrest_year of 0 means either not rearrested or rearrested within less than a year"
   ]
  },
  {
   "cell_type": "markdown",
   "metadata": {},
   "source": [
    "#### The two important boxplots"
   ]
  },
  {
   "cell_type": "code",
   "execution_count": null,
   "metadata": {
    "collapsed": false
   },
   "outputs": [],
   "source": [
    "has_rearrest_incorrect_pred = val_error.wrong_pred[val_error.wrong_pred['True_Y'] == 1]\n",
    "\n",
    "has_rearrest_correct_pred = val_error.right_pred[val_error.right_pred['True_Y'] == 1]\n",
    "\n",
    "has_rearrest_incorrect_pred['NEXT_ARREST_TIME'] = has_rearrest_incorrect_pred['NEXT_ARREST_TIME']/365\n",
    "\n",
    "has_rearrest_incorrect_pred=has_rearrest_incorrect_pred.rename(columns = {'NEXT_ARREST_TIME':'Next Arrest Time'})\n",
    "\n",
    "has_rearrest_correct_pred['NEXT_ARREST_TIME'] = has_rearrest_correct_pred['NEXT_ARREST_TIME']/365\n",
    "\n",
    "has_rearrest_correct_pred=has_rearrest_correct_pred.rename(columns = {'NEXT_ARREST_TIME':'Next Arrest Time'})"
   ]
  },
  {
   "cell_type": "code",
   "execution_count": null,
   "metadata": {
    "collapsed": false
   },
   "outputs": [],
   "source": [
    "plt.figure(1)\n",
    "plt.gcf().set_size_inches(8,4) \n",
    "\n",
    "rows = 1\n",
    "\n",
    "ax1 = plt.subplot(rows,2,1)\n",
    "ax1.set_title('Incorrect Prediction', fontsize=15)\n",
    "ax1.set_ylabel('Years to Rearrest', fontsize = 15)\n",
    "ax1.set_yticklabels(labels = [-1,0,1,2,3,4,5], fontdict = {'fontsize': 15})\n",
    "has_rearrest_incorrect_pred['Next Arrest Time'].plot.box()\n",
    "ax1.set_xticklabels(labels = [''])\n",
    "ax1.tick_params(\n",
    "    axis='x',          # changes apply to the x-axis\n",
    "    which='both',      # both major and minor ticks are affected\n",
    "    bottom='off',      # ticks along the bottom edge are off\n",
    "    top='off',         # ticks along the top edge are off\n",
    "    labelbottom='off')\n",
    "\n",
    "ax2 = plt.subplot(rows,2,2, sharey=ax1)\n",
    "ax2.set_title('Correct Prediction', fontsize=15)\n",
    "has_rearrest_correct_pred['Next Arrest Time'].plot.box()\n",
    "ax2.set_xticklabels(labels=[''])\n",
    "ax2.tick_params(\n",
    "    axis='x',          # changes apply to the x-axis\n",
    "    which='both',      # both major and minor ticks are affected\n",
    "    bottom='off',      # ticks along the bottom edge are off\n",
    "    top='off',         # ticks along the top edge are off\n",
    "    labelbottom='off')\n",
    "plt.savefig('next_arrest_time' + '_boxplots.png')"
   ]
  },
  {
   "cell_type": "code",
   "execution_count": null,
   "metadata": {
    "collapsed": false
   },
   "outputs": [],
   "source": [
    "data[numeric].corrwith(data['NEXT_ARREST_TIME'])"
   ]
  },
  {
   "cell_type": "code",
   "execution_count": null,
   "metadata": {
    "collapsed": false
   },
   "outputs": [],
   "source": [
    "correlations = data[data['True_Y'] ==1][numeric].corrwith(data[data['True_Y'] ==1]['NEXT_ARREST_TIME'])\n",
    "\n",
    "correlations.sort_values()"
   ]
  },
  {
   "cell_type": "code",
   "execution_count": null,
   "metadata": {
    "collapsed": true
   },
   "outputs": [],
   "source": [
    "#pretty highly correlated with criminal flag\n",
    "#also negatively correlated with juvenile flag\n",
    "#also slightly correlated with age"
   ]
  },
  {
   "cell_type": "code",
   "execution_count": null,
   "metadata": {
    "collapsed": false
   },
   "outputs": [],
   "source": [
    "#Correlation between criminal flag and time to rearrest\n",
    "\n",
    "x = np.array(data[data['True_Y'] ==1]['CRIMINAL_FLAG'])\n",
    "y = np.array(data[data['True_Y'] ==1]['NEXT_ARREST_TIME'])\n",
    "\n",
    "pearsonr(x,y)"
   ]
  },
  {
   "cell_type": "code",
   "execution_count": null,
   "metadata": {
    "collapsed": false
   },
   "outputs": [],
   "source": [
    "data['Probability'] = best_model_predicted_prob[:,1]"
   ]
  },
  {
   "cell_type": "code",
   "execution_count": null,
   "metadata": {
    "collapsed": false
   },
   "outputs": [],
   "source": [
    "#Correlation between next arrest time and probability of rearrest\n",
    "\n",
    "x = np.array(data[data['True_Y'] ==1]['Probability'])\n",
    "y = np.array(data[data['True_Y'] ==1]['NEXT_ARREST_TIME'])\n",
    "\n",
    "pearsonr(x,y)"
   ]
  },
  {
   "cell_type": "code",
   "execution_count": 44,
   "metadata": {
    "collapsed": false
   },
   "outputs": [
    {
     "data": {
      "image/png": "[encoded data removed]",
      "text/plain": [
       "<matplotlib.figure.Figure at 0x12179c668>"
      ]
     },
     "metadata": {},
     "output_type": "display_data"
    },
    {
     "data": {
      "image/png": "[encoded data removed]",
      "text/plain": [
       "<matplotlib.figure.Figure at 0x121731748>"
      ]
     },
     "metadata": {},
     "output_type": "display_data"
    }
   ],
   "source": [
    "val_error.all_error_analysis(5, numeric_exc_binary, numeric, categorical_and_binary)"
   ]
  }
 ],
 "metadata": {
  "anaconda-cloud": {},
  "kernelspec": {
   "display_name": "Python 3",
   "language": "python",
   "name": "python3"
  },
  "language_info": {
   "codemirror_mode": {
    "name": "ipython",
    "version": 3
   },
   "file_extension": ".py",
   "mimetype": "text/x-python",
   "name": "python",
   "nbconvert_exporter": "python",
   "pygments_lexer": "ipython3",
   "version": "3.6.0"
  }
 },
 "nbformat": 4,
 "nbformat_minor": 2
}
