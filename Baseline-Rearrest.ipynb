{
 "cells": [
  {
   "cell_type": "code",
   "execution_count": 82,
   "metadata": {
    "collapsed": false
   },
   "outputs": [],
   "source": [
    "import numpy as np\n",
    "import pandas as pd\n",
    "from sklearn.preprocessing import OneHotEncoder, LabelEncoder\n",
    "from sklearn.model_selection import train_test_split\n",
    "from sklearn.tree import DecisionTreeClassifier\n",
    "from sklearn.feature_extraction import DictVectorizer\n",
    "import sklearn as sklearn"
   ]
  },
  {
   "cell_type": "code",
   "execution_count": 83,
   "metadata": {
    "collapsed": true
   },
   "outputs": [],
   "source": [
    "data_simple = pd.read_csv('data_simple.csv', encoding = \"ISO-8859-1\", low_memory=False, index_col=0)"
   ]
  },
  {
   "cell_type": "markdown",
   "metadata": {},
   "source": [
    "# CLEAN DATA"
   ]
  },
  {
   "cell_type": "code",
   "execution_count": 84,
   "metadata": {
    "collapsed": false
   },
   "outputs": [],
   "source": [
    "#SHOULD WE BE USING ADD_DATE instead of ARREST_DATE? need to check # of missing values for ADD_DATE\n",
    "rearrest = data_simple[['BOFI_NBR','ARREST_DATE']].copy()"
   ]
  },
  {
   "cell_type": "code",
   "execution_count": 85,
   "metadata": {
    "collapsed": false
   },
   "outputs": [
    {
     "data": {
      "text/plain": [
       "BOFI_NBR       280293\n",
       "ARREST_DATE    150979\n",
       "dtype: int64"
      ]
     },
     "execution_count": 85,
     "metadata": {},
     "output_type": "execute_result"
    }
   ],
   "source": [
    "rearrest.count()"
   ]
  },
  {
   "cell_type": "code",
   "execution_count": 86,
   "metadata": {
    "collapsed": false
   },
   "outputs": [
    {
     "name": "stdout",
     "output_type": "stream",
     "text": [
      "150979 rows\n"
     ]
    }
   ],
   "source": [
    "#Drop rows with missing values\n",
    "rearrest.dropna(axis=0, how='any', thresh=None, subset=None, inplace=True)\n",
    "print('%s rows' %(rearrest.shape[0]))"
   ]
  },
  {
   "cell_type": "code",
   "execution_count": 87,
   "metadata": {
    "collapsed": true
   },
   "outputs": [],
   "source": [
    "#Drop if arrest date is before 1988\n",
    "rearrest = rearrest[rearrest['ARREST_DATE']>=19880101]"
   ]
  },
  {
   "cell_type": "code",
   "execution_count": 88,
   "metadata": {
    "collapsed": true
   },
   "outputs": [],
   "source": [
    "#Drop if BOFI_NBR =/ or 00000\n",
    "rearrest = rearrest[rearrest['BOFI_NBR']!='/']\n",
    "rearrest = rearrest[rearrest['BOFI_NBR']!='00000']"
   ]
  },
  {
   "cell_type": "code",
   "execution_count": 89,
   "metadata": {
    "collapsed": false
   },
   "outputs": [
    {
     "data": {
      "text/plain": [
       "BOFI_NBR       147834\n",
       "ARREST_DATE    147834\n",
       "dtype: int64"
      ]
     },
     "execution_count": 89,
     "metadata": {},
     "output_type": "execute_result"
    }
   ],
   "source": [
    "rearrest.count()"
   ]
  },
  {
   "cell_type": "code",
   "execution_count": 90,
   "metadata": {
    "collapsed": false
   },
   "outputs": [],
   "source": [
    "#drop duplicates \n",
    "rearrest=rearrest.drop_duplicates()"
   ]
  },
  {
   "cell_type": "code",
   "execution_count": 91,
   "metadata": {
    "collapsed": false
   },
   "outputs": [
    {
     "data": {
      "text/plain": [
       "BOFI_NBR       129845\n",
       "ARREST_DATE    129845\n",
       "dtype: int64"
      ]
     },
     "execution_count": 91,
     "metadata": {},
     "output_type": "execute_result"
    }
   ],
   "source": [
    "rearrest.count()"
   ]
  },
  {
   "cell_type": "code",
   "execution_count": 92,
   "metadata": {
    "collapsed": true
   },
   "outputs": [],
   "source": [
    "#add column with # of arrests for each BOFI_NBR\n",
    "rearrest['ARREST_CNT'] = rearrest.groupby('BOFI_NBR')['ARREST_DATE'].transform('count')"
   ]
  },
  {
   "cell_type": "code",
   "execution_count": 93,
   "metadata": {
    "collapsed": false
   },
   "outputs": [],
   "source": [
    "#FIRST_ARREST = 0 as flag for first arrest, FIRST_ARREST = 1 means it's the second arrest for this arrestee, etc.\n",
    "rearrest.sort_values(by = ['BOFI_NBR','ARREST_DATE'], inplace=True)\n",
    "rearrest['FIRST_ARREST'] = rearrest.groupby('BOFI_NBR').cumcount()"
   ]
  },
  {
   "cell_type": "code",
   "execution_count": 94,
   "metadata": {
    "collapsed": false
   },
   "outputs": [],
   "source": [
    "#add flag for whether BOFI_NBR has rearrest\n",
    "#using & for elementwise operation\n",
    "rearrest['REARREST_FLAG'] = np.where((rearrest['ARREST_CNT']>1) & \\\n",
    "                                 (rearrest['ARREST_CNT']-1 != rearrest['FIRST_ARREST']),1,0)"
   ]
  },
  {
   "cell_type": "markdown",
   "metadata": {},
   "source": [
    "### Calculating Average Time to Rearrest"
   ]
  },
  {
   "cell_type": "markdown",
   "metadata": {},
   "source": [
    "#### Average Time to First Rearrest"
   ]
  },
  {
   "cell_type": "code",
   "execution_count": 95,
   "metadata": {
    "collapsed": false
   },
   "outputs": [],
   "source": [
    "first_arrests = rearrest.loc[(rearrest['REARREST_FLAG']==1) & (rearrest['FIRST_ARREST'] == 0)]\n",
    "\n",
    "second_arrests = rearrest.loc[(rearrest['FIRST_ARREST'] == 1)]\n",
    "\n",
    "arrests_1_2 = pd.merge(first_arrests, second_arrests, \\\n",
    "\t\ton=['BOFI_NBR'], how='left')"
   ]
  },
  {
   "cell_type": "code",
   "execution_count": 96,
   "metadata": {
    "collapsed": true
   },
   "outputs": [],
   "source": [
    "def to_date(col):\n",
    "    '''Given a pandas series, returns pandas dates for non-missing valid dates'''\n",
    "    col.dropna(inplace=True)\n",
    "    col = col[col!=0]\n",
    "    col = col.astype(int)\n",
    "    converted = pd.to_datetime(col, errors='coerce', format='%Y%m%d')\n",
    "    return converted"
   ]
  },
  {
   "cell_type": "code",
   "execution_count": 97,
   "metadata": {
    "collapsed": true
   },
   "outputs": [],
   "source": [
    "arrests_1_2['ARREST_DATE_1'] = to_date(arrests_1_2['ARREST_DATE_x'])\n",
    "\n",
    "arrests_1_2['ARREST_DATE_2'] = to_date(arrests_1_2['ARREST_DATE_y'])\n",
    "\n",
    "arrests_1_2['DIFFERENCE'] = arrests_1_2['ARREST_DATE_2'] - arrests_1_2['ARREST_DATE_1']"
   ]
  },
  {
   "cell_type": "code",
   "execution_count": 98,
   "metadata": {
    "collapsed": false
   },
   "outputs": [
    {
     "data": {
      "text/plain": [
       "Timedelta('660 days 00:51:45.348237')"
      ]
     },
     "execution_count": 98,
     "metadata": {},
     "output_type": "execute_result"
    }
   ],
   "source": [
    "arrests_1_2['DIFFERENCE'].mean() #660 days"
   ]
  },
  {
   "cell_type": "code",
   "execution_count": 99,
   "metadata": {
    "collapsed": false
   },
   "outputs": [
    {
     "data": {
      "text/plain": [
       "Timedelta('389 days 00:00:00')"
      ]
     },
     "execution_count": 99,
     "metadata": {},
     "output_type": "execute_result"
    }
   ],
   "source": [
    "arrests_1_2['DIFFERENCE'].median()"
   ]
  },
  {
   "cell_type": "markdown",
   "metadata": {},
   "source": [
    "#### Average time to next arrest"
   ]
  },
  {
   "cell_type": "code",
   "execution_count": null,
   "metadata": {
    "collapsed": true
   },
   "outputs": [],
   "source": [
    "next_arrest = rearrest.loc[(rearrest['FIRST_ARREST'] > 0)]\n",
    "\n",
    "next_arrest['FIRST_ARREST'] = next_arrest['FIRST_ARREST'] - 1 #subtract 1 from the cumulative count\n",
    "\n",
    "arrest_pairs = pd.merge(rearrest, next_arrest,\\\n",
    "                       on=['BOFI_NBR', 'FIRST_ARREST'], how = 'inner')\n",
    "\n",
    "arrest_pairs['ARREST_DATE_x'] = to_date(arrest_pairs['ARREST_DATE_x'])\n",
    "\n",
    "arrest_pairs['ARREST_DATE_y'] = to_date(arrest_pairs['ARREST_DATE_y'])\n",
    "\n",
    "arrest_pairs['TIME_BETWEEN_ARRESTS'] = arrest_pairs['ARREST_DATE_y'] - arrest_pairs['ARREST_DATE_x']"
   ]
  },
  {
   "cell_type": "code",
   "execution_count": 121,
   "metadata": {
    "collapsed": false
   },
   "outputs": [
    {
     "data": {
      "text/plain": [
       "Timedelta('550 days 03:54:20.721935')"
      ]
     },
     "execution_count": 121,
     "metadata": {},
     "output_type": "execute_result"
    }
   ],
   "source": [
    "arrest_pairs['TIME_BETWEEN_ARRESTS'].mean()"
   ]
  },
  {
   "cell_type": "code",
   "execution_count": 120,
   "metadata": {
    "collapsed": false
   },
   "outputs": [
    {
     "data": {
      "text/plain": [
       "Timedelta('291 days 00:00:00')"
      ]
     },
     "execution_count": 120,
     "metadata": {},
     "output_type": "execute_result"
    }
   ],
   "source": [
    "arrest_pairs['TIME_BETWEEN_ARRESTS'].median()"
   ]
  },
  {
   "cell_type": "markdown",
   "metadata": {},
   "source": [
    "## CREATE TRAINING DATA"
   ]
  },
  {
   "cell_type": "code",
   "execution_count": 13,
   "metadata": {
    "collapsed": false
   },
   "outputs": [
    {
     "data": {
      "text/html": [
       "<div>\n",
       "<table border=\"1\" class=\"dataframe\">\n",
       "  <thead>\n",
       "    <tr style=\"text-align: right;\">\n",
       "      <th></th>\n",
       "      <th>BOFI_NBR</th>\n",
       "      <th>ARREST_DATE</th>\n",
       "      <th>ARREST_CNT</th>\n",
       "      <th>FIRST_ARREST</th>\n",
       "      <th>REARREST_FLAG</th>\n",
       "    </tr>\n",
       "  </thead>\n",
       "  <tbody>\n",
       "    <tr>\n",
       "      <th>79479</th>\n",
       "      <td>013348</td>\n",
       "      <td>19900309.0</td>\n",
       "      <td>1.0</td>\n",
       "      <td>0</td>\n",
       "      <td>0</td>\n",
       "    </tr>\n",
       "    <tr>\n",
       "      <th>126493</th>\n",
       "      <td>020492</td>\n",
       "      <td>19920204.0</td>\n",
       "      <td>1.0</td>\n",
       "      <td>0</td>\n",
       "      <td>0</td>\n",
       "    </tr>\n",
       "    <tr>\n",
       "      <th>89690</th>\n",
       "      <td>100043</td>\n",
       "      <td>19900919.0</td>\n",
       "      <td>1.0</td>\n",
       "      <td>0</td>\n",
       "      <td>0</td>\n",
       "    </tr>\n",
       "    <tr>\n",
       "      <th>255206</th>\n",
       "      <td>100126</td>\n",
       "      <td>19980602.0</td>\n",
       "      <td>1.0</td>\n",
       "      <td>0</td>\n",
       "      <td>0</td>\n",
       "    </tr>\n",
       "    <tr>\n",
       "      <th>99339</th>\n",
       "      <td>100323</td>\n",
       "      <td>19910123.0</td>\n",
       "      <td>1.0</td>\n",
       "      <td>0</td>\n",
       "      <td>0</td>\n",
       "    </tr>\n",
       "    <tr>\n",
       "      <th>110723</th>\n",
       "      <td>100332</td>\n",
       "      <td>19910618.0</td>\n",
       "      <td>2.0</td>\n",
       "      <td>0</td>\n",
       "      <td>1</td>\n",
       "    </tr>\n",
       "    <tr>\n",
       "      <th>110724</th>\n",
       "      <td>100332</td>\n",
       "      <td>19940611.0</td>\n",
       "      <td>2.0</td>\n",
       "      <td>1</td>\n",
       "      <td>0</td>\n",
       "    </tr>\n",
       "    <tr>\n",
       "      <th>198075</th>\n",
       "      <td>100387</td>\n",
       "      <td>19950515.0</td>\n",
       "      <td>1.0</td>\n",
       "      <td>0</td>\n",
       "      <td>0</td>\n",
       "    </tr>\n",
       "    <tr>\n",
       "      <th>236667</th>\n",
       "      <td>100408</td>\n",
       "      <td>19970603.0</td>\n",
       "      <td>1.0</td>\n",
       "      <td>0</td>\n",
       "      <td>0</td>\n",
       "    </tr>\n",
       "    <tr>\n",
       "      <th>67470</th>\n",
       "      <td>100414</td>\n",
       "      <td>19920213.0</td>\n",
       "      <td>1.0</td>\n",
       "      <td>0</td>\n",
       "      <td>0</td>\n",
       "    </tr>\n",
       "    <tr>\n",
       "      <th>128142</th>\n",
       "      <td>100463</td>\n",
       "      <td>19920309.0</td>\n",
       "      <td>4.0</td>\n",
       "      <td>0</td>\n",
       "      <td>1</td>\n",
       "    </tr>\n",
       "    <tr>\n",
       "      <th>128144</th>\n",
       "      <td>100463</td>\n",
       "      <td>19921216.0</td>\n",
       "      <td>4.0</td>\n",
       "      <td>1</td>\n",
       "      <td>1</td>\n",
       "    </tr>\n",
       "    <tr>\n",
       "      <th>128148</th>\n",
       "      <td>100463</td>\n",
       "      <td>19950127.0</td>\n",
       "      <td>4.0</td>\n",
       "      <td>2</td>\n",
       "      <td>1</td>\n",
       "    </tr>\n",
       "    <tr>\n",
       "      <th>128149</th>\n",
       "      <td>100463</td>\n",
       "      <td>19981230.0</td>\n",
       "      <td>4.0</td>\n",
       "      <td>3</td>\n",
       "      <td>0</td>\n",
       "    </tr>\n",
       "    <tr>\n",
       "      <th>38364</th>\n",
       "      <td>100565</td>\n",
       "      <td>19890508.0</td>\n",
       "      <td>1.0</td>\n",
       "      <td>0</td>\n",
       "      <td>0</td>\n",
       "    </tr>\n",
       "    <tr>\n",
       "      <th>198059</th>\n",
       "      <td>100575</td>\n",
       "      <td>19950606.0</td>\n",
       "      <td>1.0</td>\n",
       "      <td>0</td>\n",
       "      <td>0</td>\n",
       "    </tr>\n",
       "    <tr>\n",
       "      <th>40817</th>\n",
       "      <td>100591</td>\n",
       "      <td>19890529.0</td>\n",
       "      <td>3.0</td>\n",
       "      <td>0</td>\n",
       "      <td>1</td>\n",
       "    </tr>\n",
       "    <tr>\n",
       "      <th>40819</th>\n",
       "      <td>100591</td>\n",
       "      <td>19930419.0</td>\n",
       "      <td>3.0</td>\n",
       "      <td>1</td>\n",
       "      <td>1</td>\n",
       "    </tr>\n",
       "    <tr>\n",
       "      <th>40820</th>\n",
       "      <td>100591</td>\n",
       "      <td>19981222.0</td>\n",
       "      <td>3.0</td>\n",
       "      <td>2</td>\n",
       "      <td>0</td>\n",
       "    </tr>\n",
       "    <tr>\n",
       "      <th>198034</th>\n",
       "      <td>100601</td>\n",
       "      <td>19950506.0</td>\n",
       "      <td>1.0</td>\n",
       "      <td>0</td>\n",
       "      <td>0</td>\n",
       "    </tr>\n",
       "  </tbody>\n",
       "</table>\n",
       "</div>"
      ],
      "text/plain": [
       "       BOFI_NBR  ARREST_DATE  ARREST_CNT  FIRST_ARREST  REARREST_FLAG\n",
       "79479    013348   19900309.0         1.0             0              0\n",
       "126493   020492   19920204.0         1.0             0              0\n",
       "89690    100043   19900919.0         1.0             0              0\n",
       "255206   100126   19980602.0         1.0             0              0\n",
       "99339    100323   19910123.0         1.0             0              0\n",
       "110723   100332   19910618.0         2.0             0              1\n",
       "110724   100332   19940611.0         2.0             1              0\n",
       "198075   100387   19950515.0         1.0             0              0\n",
       "236667   100408   19970603.0         1.0             0              0\n",
       "67470    100414   19920213.0         1.0             0              0\n",
       "128142   100463   19920309.0         4.0             0              1\n",
       "128144   100463   19921216.0         4.0             1              1\n",
       "128148   100463   19950127.0         4.0             2              1\n",
       "128149   100463   19981230.0         4.0             3              0\n",
       "38364    100565   19890508.0         1.0             0              0\n",
       "198059   100575   19950606.0         1.0             0              0\n",
       "40817    100591   19890529.0         3.0             0              1\n",
       "40819    100591   19930419.0         3.0             1              1\n",
       "40820    100591   19981222.0         3.0             2              0\n",
       "198034   100601   19950506.0         1.0             0              0"
      ]
     },
     "execution_count": 13,
     "metadata": {},
     "output_type": "execute_result"
    }
   ],
   "source": [
    "rearrest[:20]"
   ]
  },
  {
   "cell_type": "code",
   "execution_count": 14,
   "metadata": {
    "collapsed": true
   },
   "outputs": [],
   "source": [
    "data_merged = pd.merge(data_simple, \\\n",
    "                 rearrest, \\\n",
    "                 on=['BOFI_NBR','ARREST_DATE'], \\\n",
    "                 how='inner')"
   ]
  },
  {
   "cell_type": "code",
   "execution_count": 15,
   "metadata": {
    "collapsed": false
   },
   "outputs": [],
   "source": [
    "data_merged = data_merged[['BOFI_NBR','ARREST_DATE','ARREST_CNT','FIRST_ARREST','REARREST_FLAG','SCREENING_DISP_CODE',\\\n",
    "                           'CHARGE_CLASS','CHARGE_TYPE','LEAD_CHARGE_CODE']].copy()"
   ]
  },
  {
   "cell_type": "code",
   "execution_count": 16,
   "metadata": {
    "collapsed": false
   },
   "outputs": [
    {
     "data": {
      "text/plain": [
       "(147834, 9)"
      ]
     },
     "execution_count": 16,
     "metadata": {},
     "output_type": "execute_result"
    }
   ],
   "source": [
    "data_merged.shape"
   ]
  },
  {
   "cell_type": "code",
   "execution_count": 18,
   "metadata": {
    "collapsed": false
   },
   "outputs": [],
   "source": [
    "#identify arrests where at least one charge was accepted\n",
    "accepted = data_merged[data_merged['SCREENING_DISP_CODE']==230][['BOFI_NBR','ARREST_DATE']]"
   ]
  },
  {
   "cell_type": "code",
   "execution_count": 19,
   "metadata": {
    "collapsed": false
   },
   "outputs": [],
   "source": [
    "#drop rows where at least one charge was accepted during that arrest\n",
    "data_not_charged = pd.merge(data_merged, \\\n",
    "                 accepted, \\\n",
    "                 on=['BOFI_NBR','ARREST_DATE'], \\\n",
    "                 how='outer',\\\n",
    "                 indicator = True)\n",
    "data_not_charged = data_not_charged[data_not_charged['_merge']=='left_only'].drop('_merge', axis=1)"
   ]
  },
  {
   "cell_type": "code",
   "execution_count": 20,
   "metadata": {
    "collapsed": false
   },
   "outputs": [
    {
     "data": {
      "text/plain": [
       "(124261, 9)"
      ]
     },
     "execution_count": 20,
     "metadata": {},
     "output_type": "execute_result"
    }
   ],
   "source": [
    "data_not_charged.shape"
   ]
  },
  {
   "cell_type": "code",
   "execution_count": 21,
   "metadata": {
    "collapsed": false
   },
   "outputs": [
    {
     "data": {
      "text/plain": [
       "Index(['BOFI_NBR', 'ARREST_DATE', 'ARREST_CNT', 'FIRST_ARREST',\n",
       "       'REARREST_FLAG', 'SCREENING_DISP_CODE', 'CHARGE_CLASS', 'CHARGE_TYPE',\n",
       "       'LEAD_CHARGE_CODE'],\n",
       "      dtype='object')"
      ]
     },
     "execution_count": 21,
     "metadata": {},
     "output_type": "execute_result"
    }
   ],
   "source": [
    "data_merged.columns"
   ]
  },
  {
   "cell_type": "code",
   "execution_count": 22,
   "metadata": {
    "collapsed": false
   },
   "outputs": [
    {
     "data": {
      "text/plain": [
       "BOFI_NBR               124261\n",
       "ARREST_DATE            124261\n",
       "ARREST_CNT             124261\n",
       "FIRST_ARREST           124261\n",
       "REARREST_FLAG          124261\n",
       "SCREENING_DISP_CODE    121952\n",
       "CHARGE_CLASS           122098\n",
       "CHARGE_TYPE            123821\n",
       "LEAD_CHARGE_CODE       123824\n",
       "dtype: int64"
      ]
     },
     "execution_count": 22,
     "metadata": {},
     "output_type": "execute_result"
    }
   ],
   "source": [
    "data_not_charged.count()"
   ]
  },
  {
   "cell_type": "code",
   "execution_count": 23,
   "metadata": {
    "collapsed": false
   },
   "outputs": [
    {
     "name": "stdout",
     "output_type": "stream",
     "text": [
      "119805 rows\n"
     ]
    }
   ],
   "source": [
    "#Drop rows with missing values\n",
    "data_not_charged.dropna(axis=0, how='any', thresh=None, subset=None, inplace=True)\n",
    "print('%s rows' %(data_not_charged.shape[0]))"
   ]
  },
  {
   "cell_type": "code",
   "execution_count": 24,
   "metadata": {
    "collapsed": false
   },
   "outputs": [],
   "source": [
    "'''\n",
    "group by BOFI_NBR, ARREST_DATE\n",
    "for arrests with multiple values for CHARGE_CLASS, CHARGE_TYPE, and LEAD_CHARGE, collapse into string with multiple values\n",
    "'''\n",
    "#combine into one column. this is fine because we will eventually do one hot encoding\n",
    "data_not_charged['CHARGES'] = data_not_charged['CHARGE_CLASS'].map(str).str.strip() + ',' + data_not_charged['CHARGE_TYPE'].str.strip() + \\\n",
    "                            ',' +data_not_charged['LEAD_CHARGE_CODE'].str.strip()\n",
    "#aggregate multiple charges for each arrest\n",
    "data_not_charged['CHARGES'] = data_not_charged[['BOFI_NBR','ARREST_DATE','CHARGES']].groupby(['BOFI_NBR','ARREST_DATE'])['CHARGES'].transform(lambda x: ','.join(x))\n",
    "\n",
    "#drop dupes\n",
    "data_not_charged=data_not_charged.drop_duplicates(['BOFI_NBR','ARREST_DATE','CHARGES'])"
   ]
  },
  {
   "cell_type": "code",
   "execution_count": 25,
   "metadata": {
    "collapsed": false
   },
   "outputs": [
    {
     "data": {
      "text/html": [
       "<div>\n",
       "<table border=\"1\" class=\"dataframe\">\n",
       "  <thead>\n",
       "    <tr style=\"text-align: right;\">\n",
       "      <th></th>\n",
       "      <th>BOFI_NBR</th>\n",
       "      <th>ARREST_DATE</th>\n",
       "      <th>ARREST_CNT</th>\n",
       "      <th>FIRST_ARREST</th>\n",
       "      <th>REARREST_FLAG</th>\n",
       "      <th>SCREENING_DISP_CODE</th>\n",
       "      <th>CHARGE_CLASS</th>\n",
       "      <th>CHARGE_TYPE</th>\n",
       "      <th>LEAD_CHARGE_CODE</th>\n",
       "      <th>CHARGES</th>\n",
       "    </tr>\n",
       "  </thead>\n",
       "  <tbody>\n",
       "    <tr>\n",
       "      <th>0</th>\n",
       "      <td>232589</td>\n",
       "      <td>19910126.0</td>\n",
       "      <td>2.0</td>\n",
       "      <td>0</td>\n",
       "      <td>1</td>\n",
       "      <td>240.0</td>\n",
       "      <td>3.0</td>\n",
       "      <td>AR</td>\n",
       "      <td>14:(27) 62</td>\n",
       "      <td>3.0,AR,14:(27) 62</td>\n",
       "    </tr>\n",
       "    <tr>\n",
       "      <th>1</th>\n",
       "      <td>232589</td>\n",
       "      <td>19930330.0</td>\n",
       "      <td>2.0</td>\n",
       "      <td>1</td>\n",
       "      <td>0</td>\n",
       "      <td>240.0</td>\n",
       "      <td>3.0</td>\n",
       "      <td>AR</td>\n",
       "      <td>14:62</td>\n",
       "      <td>3.0,AR,14:62</td>\n",
       "    </tr>\n",
       "    <tr>\n",
       "      <th>2</th>\n",
       "      <td>228992</td>\n",
       "      <td>19890512.0</td>\n",
       "      <td>5.0</td>\n",
       "      <td>0</td>\n",
       "      <td>1</td>\n",
       "      <td>240.0</td>\n",
       "      <td>2.0</td>\n",
       "      <td>AR</td>\n",
       "      <td>40:967 (C) (2)</td>\n",
       "      <td>2.0,AR,40:967 (C) (2)</td>\n",
       "    </tr>\n",
       "    <tr>\n",
       "      <th>3</th>\n",
       "      <td>228992</td>\n",
       "      <td>19901018.0</td>\n",
       "      <td>5.0</td>\n",
       "      <td>1</td>\n",
       "      <td>1</td>\n",
       "      <td>260.0</td>\n",
       "      <td>3.0</td>\n",
       "      <td>AR</td>\n",
       "      <td>14:67 (A)</td>\n",
       "      <td>3.0,AR,14:67 (A)</td>\n",
       "    </tr>\n",
       "    <tr>\n",
       "      <th>4</th>\n",
       "      <td>228992</td>\n",
       "      <td>19910620.0</td>\n",
       "      <td>5.0</td>\n",
       "      <td>2</td>\n",
       "      <td>1</td>\n",
       "      <td>240.0</td>\n",
       "      <td>4.0</td>\n",
       "      <td>AR</td>\n",
       "      <td>14:67 (C)</td>\n",
       "      <td>4.0,AR,14:67 (C)</td>\n",
       "    </tr>\n",
       "    <tr>\n",
       "      <th>6</th>\n",
       "      <td>228992</td>\n",
       "      <td>19990913.0</td>\n",
       "      <td>5.0</td>\n",
       "      <td>4</td>\n",
       "      <td>0</td>\n",
       "      <td>240.0</td>\n",
       "      <td>4.0</td>\n",
       "      <td>AR</td>\n",
       "      <td>14:63</td>\n",
       "      <td>4.0,AR,14:63</td>\n",
       "    </tr>\n",
       "    <tr>\n",
       "      <th>9</th>\n",
       "      <td>172592</td>\n",
       "      <td>19900612.0</td>\n",
       "      <td>2.0</td>\n",
       "      <td>1</td>\n",
       "      <td>0</td>\n",
       "      <td>240.0</td>\n",
       "      <td>3.0</td>\n",
       "      <td>AR</td>\n",
       "      <td>14:69 (A)</td>\n",
       "      <td>3.0,AR,14:69 (A)</td>\n",
       "    </tr>\n",
       "    <tr>\n",
       "      <th>10</th>\n",
       "      <td>239336</td>\n",
       "      <td>19970517.0</td>\n",
       "      <td>1.0</td>\n",
       "      <td>0</td>\n",
       "      <td>0</td>\n",
       "      <td>240.0</td>\n",
       "      <td>4.0</td>\n",
       "      <td>AR</td>\n",
       "      <td>14:220.1</td>\n",
       "      <td>4.0,AR,14:220.1</td>\n",
       "    </tr>\n",
       "    <tr>\n",
       "      <th>11</th>\n",
       "      <td>312136</td>\n",
       "      <td>19901230.0</td>\n",
       "      <td>1.0</td>\n",
       "      <td>0</td>\n",
       "      <td>0</td>\n",
       "      <td>240.0</td>\n",
       "      <td>2.0</td>\n",
       "      <td>AR</td>\n",
       "      <td>14:(27) 30</td>\n",
       "      <td>2.0,AR,14:(27) 30</td>\n",
       "    </tr>\n",
       "    <tr>\n",
       "      <th>17</th>\n",
       "      <td>206138</td>\n",
       "      <td>19970130.0</td>\n",
       "      <td>1.0</td>\n",
       "      <td>0</td>\n",
       "      <td>0</td>\n",
       "      <td>240.0</td>\n",
       "      <td>3.0</td>\n",
       "      <td>AR</td>\n",
       "      <td>14:72</td>\n",
       "      <td>3.0,AR,14:72</td>\n",
       "    </tr>\n",
       "  </tbody>\n",
       "</table>\n",
       "</div>"
      ],
      "text/plain": [
       "   BOFI_NBR  ARREST_DATE  ARREST_CNT  FIRST_ARREST  REARREST_FLAG  \\\n",
       "0    232589   19910126.0         2.0             0              1   \n",
       "1    232589   19930330.0         2.0             1              0   \n",
       "2    228992   19890512.0         5.0             0              1   \n",
       "3    228992   19901018.0         5.0             1              1   \n",
       "4    228992   19910620.0         5.0             2              1   \n",
       "6    228992   19990913.0         5.0             4              0   \n",
       "9    172592   19900612.0         2.0             1              0   \n",
       "10   239336   19970517.0         1.0             0              0   \n",
       "11   312136   19901230.0         1.0             0              0   \n",
       "17   206138   19970130.0         1.0             0              0   \n",
       "\n",
       "    SCREENING_DISP_CODE  CHARGE_CLASS CHARGE_TYPE LEAD_CHARGE_CODE  \\\n",
       "0                 240.0           3.0          AR       14:(27) 62   \n",
       "1                 240.0           3.0          AR            14:62   \n",
       "2                 240.0           2.0          AR   40:967 (C) (2)   \n",
       "3                 260.0           3.0          AR        14:67 (A)   \n",
       "4                 240.0           4.0          AR        14:67 (C)   \n",
       "6                 240.0           4.0          AR            14:63   \n",
       "9                 240.0           3.0          AR        14:69 (A)   \n",
       "10                240.0           4.0          AR         14:220.1   \n",
       "11                240.0           2.0          AR       14:(27) 30   \n",
       "17                240.0           3.0          AR            14:72   \n",
       "\n",
       "                  CHARGES  \n",
       "0       3.0,AR,14:(27) 62  \n",
       "1            3.0,AR,14:62  \n",
       "2   2.0,AR,40:967 (C) (2)  \n",
       "3        3.0,AR,14:67 (A)  \n",
       "4        4.0,AR,14:67 (C)  \n",
       "6            4.0,AR,14:63  \n",
       "9        3.0,AR,14:69 (A)  \n",
       "10        4.0,AR,14:220.1  \n",
       "11      2.0,AR,14:(27) 30  \n",
       "17           3.0,AR,14:72  "
      ]
     },
     "execution_count": 25,
     "metadata": {},
     "output_type": "execute_result"
    }
   ],
   "source": [
    "data_not_charged[:10]"
   ]
  },
  {
   "cell_type": "code",
   "execution_count": 26,
   "metadata": {
    "collapsed": false
   },
   "outputs": [
    {
     "data": {
      "text/plain": [
       "(108782, 10)"
      ]
     },
     "execution_count": 26,
     "metadata": {},
     "output_type": "execute_result"
    }
   ],
   "source": [
    "data_not_charged.shape"
   ]
  },
  {
   "cell_type": "code",
   "execution_count": 27,
   "metadata": {
    "collapsed": false
   },
   "outputs": [
    {
     "data": {
      "text/plain": [
       "(71447, 10)"
      ]
     },
     "execution_count": 27,
     "metadata": {},
     "output_type": "execute_result"
    }
   ],
   "source": [
    "#keep observations within 1988-1996 timeframe\n",
    "data_not_charged = data_not_charged[data_not_charged['ARREST_DATE']<=19961231]\n",
    "data_not_charged.shape"
   ]
  },
  {
   "cell_type": "code",
   "execution_count": 28,
   "metadata": {
    "collapsed": false
   },
   "outputs": [
    {
     "data": {
      "text/plain": [
       "REARREST_FLAG\n",
       "0    41878\n",
       "1    29569\n",
       "Name: REARREST_FLAG, dtype: int64"
      ]
     },
     "execution_count": 28,
     "metadata": {},
     "output_type": "execute_result"
    }
   ],
   "source": [
    "data_not_charged.groupby('REARREST_FLAG')['REARREST_FLAG'].count()"
   ]
  },
  {
   "cell_type": "code",
   "execution_count": 85,
   "metadata": {
    "collapsed": false
   },
   "outputs": [
    {
     "data": {
      "text/plain": [
       "0.4138592243201254"
      ]
     },
     "execution_count": 85,
     "metadata": {},
     "output_type": "execute_result"
    }
   ],
   "source": [
    "#rearrest rate for people released by screener\n",
    "29569/(29569+41878)"
   ]
  },
  {
   "cell_type": "markdown",
   "metadata": {},
   "source": [
    "# ONE HOT ENCODING"
   ]
  },
  {
   "cell_type": "code",
   "execution_count": 86,
   "metadata": {
    "collapsed": false
   },
   "outputs": [
    {
     "data": {
      "text/plain": [
       "REARREST_FLAG\n",
       "0    41878\n",
       "1    29569\n",
       "Name: REARREST_FLAG, dtype: int64"
      ]
     },
     "execution_count": 86,
     "metadata": {},
     "output_type": "execute_result"
    }
   ],
   "source": [
    "#class is not imbalanced\n",
    "data_not_charged.groupby('REARREST_FLAG')['REARREST_FLAG'].count()"
   ]
  },
  {
   "cell_type": "code",
   "execution_count": 87,
   "metadata": {
    "collapsed": true
   },
   "outputs": [],
   "source": [
    "X = data_not_charged['CHARGES']\n",
    "y = data_not_charged['REARREST_FLAG']\n"
   ]
  },
  {
   "cell_type": "code",
   "execution_count": 88,
   "metadata": {
    "collapsed": false
   },
   "outputs": [],
   "source": [
    "from sklearn.feature_extraction.text import CountVectorizer\n",
    "c_vect = CountVectorizer(binary=True,tokenizer=lambda x: x.split(','))\n",
    "\n",
    "X_vect = c_vect.fit_transform(X)\n",
    "\n",
    "X_train, X_test, y_train, y_test = train_test_split(X_vect, y, test_size=0.2)\n",
    "\n",
    "X_train=X_train.toarray()\n",
    "X_test=X_test.toarray()"
   ]
  },
  {
   "cell_type": "code",
   "execution_count": 89,
   "metadata": {
    "collapsed": false
   },
   "outputs": [
    {
     "data": {
      "text/plain": [
       "(57157, 526)"
      ]
     },
     "execution_count": 89,
     "metadata": {},
     "output_type": "execute_result"
    }
   ],
   "source": [
    "X_train.shape"
   ]
  },
  {
   "cell_type": "code",
   "execution_count": 90,
   "metadata": {
    "collapsed": false
   },
   "outputs": [
    {
     "data": {
      "text/plain": [
       "(57157,)"
      ]
     },
     "execution_count": 90,
     "metadata": {},
     "output_type": "execute_result"
    }
   ],
   "source": [
    "y_train.shape"
   ]
  },
  {
   "cell_type": "markdown",
   "metadata": {},
   "source": [
    "# DECISION TREE"
   ]
  },
  {
   "cell_type": "code",
   "execution_count": 91,
   "metadata": {
    "collapsed": false
   },
   "outputs": [],
   "source": [
    "'''\n",
    "Decision tree with entropy criterion\n",
    "'''\n",
    "\n",
    "dt = DecisionTreeClassifier(criterion='entropy')\n",
    "dt = dt.fit(X_train,y_train)\n",
    "\n",
    "pred_train = dt.predict(X_train)\n",
    "pred_test = dt.predict(X_test)\n"
   ]
  },
  {
   "cell_type": "code",
   "execution_count": 92,
   "metadata": {
    "collapsed": false
   },
   "outputs": [
    {
     "name": "stdout",
     "output_type": "stream",
     "text": [
      "Accuracy on Training Dataset: 0.6048602970764736\n",
      "Accuracy on Test Dataset: 0.5933519944016795\n"
     ]
    }
   ],
   "source": [
    "#accuracy\n",
    "\n",
    "accu_train = sklearn.metrics.accuracy_score(y_train,pred_train)\n",
    "accu_test = sklearn.metrics.accuracy_score(y_test,pred_test)\n",
    "\n",
    "print(\"Accuracy on Training Dataset: {}\".format(accu_train))\n",
    "print(\"Accuracy on Test Dataset: {}\".format(accu_test))"
   ]
  },
  {
   "cell_type": "code",
   "execution_count": 93,
   "metadata": {
    "collapsed": false
   },
   "outputs": [
    {
     "name": "stdout",
     "output_type": "stream",
     "text": [
      "Precision: 0.5021122510561256\n",
      "Recall: 0.1430044688896528\n"
     ]
    }
   ],
   "source": [
    "precision = sklearn.metrics.precision_score(y_test,pred_test)\n",
    "recall = sklearn.metrics.recall_score(y_test,pred_test)\n",
    "\n",
    "print(\"Precision: {}\".format(precision))\n",
    "print(\"Recall: {}\".format(recall))"
   ]
  },
  {
   "cell_type": "code",
   "execution_count": 94,
   "metadata": {
    "collapsed": false
   },
   "outputs": [
    {
     "data": {
      "text/plain": [
       "array([[7647,  825],\n",
       "       [4986,  832]])"
      ]
     },
     "execution_count": 94,
     "metadata": {},
     "output_type": "execute_result"
    }
   ],
   "source": [
    "#confusion matrix for test set\n",
    "cm = sklearn.metrics.confusion_matrix(y_test,pred_test)\n",
    "cm"
   ]
  },
  {
   "cell_type": "code",
   "execution_count": null,
   "metadata": {
    "collapsed": true
   },
   "outputs": [],
   "source": []
  },
  {
   "cell_type": "code",
   "execution_count": null,
   "metadata": {
    "collapsed": true
   },
   "outputs": [],
   "source": []
  }
 ],
 "metadata": {
  "anaconda-cloud": {},
  "kernelspec": {
   "display_name": "Python 3",
   "language": "python",
   "name": "python3"
  },
  "language_info": {
   "codemirror_mode": {
    "name": "ipython",
    "version": 3
   },
   "file_extension": ".py",
   "mimetype": "text/x-python",
   "name": "python",
   "nbconvert_exporter": "python",
   "pygments_lexer": "ipython3",
   "version": "3.6.0"
  }
 },
 "nbformat": 4,
 "nbformat_minor": 0
}
