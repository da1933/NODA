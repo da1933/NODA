{
 "cells": [
  {
   "cell_type": "code",
   "execution_count": 1,
   "metadata": {
    "collapsed": false
   },
   "outputs": [],
   "source": [
    "import numpy as np\n",
    "import pandas as pd\n",
    "from sklearn.preprocessing import OneHotEncoder, LabelEncoder\n",
    "from sklearn.model_selection import train_test_split\n",
    "from sklearn.tree import DecisionTreeClassifier\n",
    "from sklearn.feature_extraction import DictVectorizer\n",
    "import sklearn as sklearn"
   ]
  },
  {
   "cell_type": "code",
   "execution_count": 2,
   "metadata": {
    "collapsed": true
   },
   "outputs": [],
   "source": [
    "data_simple = pd.read_csv('data_simple.csv', encoding = \"ISO-8859-1\", low_memory=False, index_col=0)"
   ]
  },
  {
   "cell_type": "code",
   "execution_count": 70,
   "metadata": {
    "collapsed": false
   },
   "outputs": [],
   "source": [
    "#SHOULD WE BE USING ADD_DATE instead of ARREST_DATE? need to check # of missing values for ADD_DATE\n",
    "data = data_simple[['BOFI_NBR','ARREST_DATE','AREG_SEQ_NBR']].copy()"
   ]
  },
  {
   "cell_type": "code",
   "execution_count": 71,
   "metadata": {
    "collapsed": false
   },
   "outputs": [
    {
     "data": {
      "text/plain": [
       "BOFI_NBR        280293\n",
       "ARREST_DATE     150979\n",
       "AREG_SEQ_NBR    280294\n",
       "dtype: int64"
      ]
     },
     "execution_count": 71,
     "metadata": {},
     "output_type": "execute_result"
    }
   ],
   "source": [
    "data.count()"
   ]
  },
  {
   "cell_type": "code",
   "execution_count": 72,
   "metadata": {
    "collapsed": false
   },
   "outputs": [
    {
     "name": "stdout",
     "output_type": "stream",
     "text": [
      "150979 rows\n"
     ]
    }
   ],
   "source": [
    "#Drop rows with missing values\n",
    "data.dropna(axis=0, how='any', thresh=None, subset=None, inplace=True)\n",
    "print('%s rows' %(data.shape[0]))"
   ]
  },
  {
   "cell_type": "code",
   "execution_count": 73,
   "metadata": {
    "collapsed": true
   },
   "outputs": [],
   "source": [
    "#Drop if arrest date is before 1988\n",
    "data = data[data['ARREST_DATE']>19880101]"
   ]
  },
  {
   "cell_type": "code",
   "execution_count": 74,
   "metadata": {
    "collapsed": true
   },
   "outputs": [],
   "source": [
    "#Drop if BOFI_NBR =/ or 00000\n",
    "data = data[data['BOFI_NBR']!='/']\n",
    "data = data[data['BOFI_NBR']!='00000']"
   ]
  },
  {
   "cell_type": "code",
   "execution_count": 75,
   "metadata": {
    "collapsed": false
   },
   "outputs": [
    {
     "data": {
      "text/plain": [
       "BOFI_NBR        147834\n",
       "ARREST_DATE     147834\n",
       "AREG_SEQ_NBR    147834\n",
       "dtype: int64"
      ]
     },
     "execution_count": 75,
     "metadata": {},
     "output_type": "execute_result"
    }
   ],
   "source": [
    "data.count()"
   ]
  },
  {
   "cell_type": "code",
   "execution_count": 78,
   "metadata": {
    "collapsed": false
   },
   "outputs": [],
   "source": [
    "#drop duplicates \n",
    "data=data.drop_duplicates()"
   ]
  },
  {
   "cell_type": "code",
   "execution_count": 79,
   "metadata": {
    "collapsed": false
   },
   "outputs": [
    {
     "data": {
      "text/plain": [
       "BOFI_NBR        129845\n",
       "ARREST_DATE     129845\n",
       "AREG_SEQ_NBR    129845\n",
       "dtype: int64"
      ]
     },
     "execution_count": 79,
     "metadata": {},
     "output_type": "execute_result"
    }
   ],
   "source": [
    "data.count()"
   ]
  },
  {
   "cell_type": "code",
   "execution_count": 80,
   "metadata": {
    "collapsed": true
   },
   "outputs": [],
   "source": [
    "by_bofi_nbr = data.groupby(['BOFI_NBR']).count()\n",
    "by_bofi_nbr['CHECK'] = by_bofi_nbr['ARREST_DATE']-by_bofi_nbr['AREG_SEQ_NBR']"
   ]
  },
  {
   "cell_type": "code",
   "execution_count": 81,
   "metadata": {
    "collapsed": false
   },
   "outputs": [
    {
     "data": {
      "text/html": [
       "<div>\n",
       "<table border=\"1\" class=\"dataframe\">\n",
       "  <thead>\n",
       "    <tr style=\"text-align: right;\">\n",
       "      <th></th>\n",
       "      <th>ARREST_DATE</th>\n",
       "      <th>AREG_SEQ_NBR</th>\n",
       "      <th>CHECK</th>\n",
       "    </tr>\n",
       "    <tr>\n",
       "      <th>BOFI_NBR</th>\n",
       "      <th></th>\n",
       "      <th></th>\n",
       "      <th></th>\n",
       "    </tr>\n",
       "  </thead>\n",
       "  <tbody>\n",
       "  </tbody>\n",
       "</table>\n",
       "</div>"
      ],
      "text/plain": [
       "Empty DataFrame\n",
       "Columns: [ARREST_DATE, AREG_SEQ_NBR, CHECK]\n",
       "Index: []"
      ]
     },
     "execution_count": 81,
     "metadata": {},
     "output_type": "execute_result"
    }
   ],
   "source": [
    "by_bofi_nbr[by_bofi_nbr['CHECK']!=0]\n",
    "\n",
    "#means we can use either ARREST_DATE or AREG_SEQ_NBR to identify multiple arrests"
   ]
  },
  {
   "cell_type": "code",
   "execution_count": 82,
   "metadata": {
    "collapsed": true
   },
   "outputs": [],
   "source": [
    "#add column with # of arrests for each BOFI_NBR\n",
    "data['ARREST_CNT'] = data.groupby('BOFI_NBR')['ARREST_DATE'].transform('count')"
   ]
  },
  {
   "cell_type": "code",
   "execution_count": 83,
   "metadata": {
    "collapsed": false
   },
   "outputs": [],
   "source": [
    "#FIRST_ARREST = 0 as flag for first arrest\n",
    "data.sort_values(by = ['BOFI_NBR','ARREST_DATE'], inplace=True)\n",
    "data['FIRST_ARREST'] = data.groupby('BOFI_NBR').cumcount()"
   ]
  },
  {
   "cell_type": "code",
   "execution_count": 92,
   "metadata": {
    "collapsed": false
   },
   "outputs": [],
   "source": [
    "#add flag for whether BOFI_NBR has rearrest\n",
    "#using & for elementwise operation\n",
    "data['REARREST_FLAG'] = np.where((data['ARREST_CNT']>1) & \\\n",
    "                                 (data['ARREST_CNT']-1 != data['FIRST_ARREST']),1,0)"
   ]
  },
  {
   "cell_type": "code",
   "execution_count": 93,
   "metadata": {
    "collapsed": false
   },
   "outputs": [
    {
     "data": {
      "text/html": [
       "<div>\n",
       "<table border=\"1\" class=\"dataframe\">\n",
       "  <thead>\n",
       "    <tr style=\"text-align: right;\">\n",
       "      <th></th>\n",
       "      <th>BOFI_NBR</th>\n",
       "      <th>ARREST_DATE</th>\n",
       "      <th>AREG_SEQ_NBR</th>\n",
       "      <th>ARREST_CNT</th>\n",
       "      <th>FIRST_ARREST</th>\n",
       "      <th>REARREST_FLAG</th>\n",
       "    </tr>\n",
       "  </thead>\n",
       "  <tbody>\n",
       "    <tr>\n",
       "      <th>79479</th>\n",
       "      <td>013348</td>\n",
       "      <td>19900309.0</td>\n",
       "      <td>1</td>\n",
       "      <td>1.0</td>\n",
       "      <td>0</td>\n",
       "      <td>0</td>\n",
       "    </tr>\n",
       "    <tr>\n",
       "      <th>126493</th>\n",
       "      <td>020492</td>\n",
       "      <td>19920204.0</td>\n",
       "      <td>1</td>\n",
       "      <td>1.0</td>\n",
       "      <td>0</td>\n",
       "      <td>0</td>\n",
       "    </tr>\n",
       "    <tr>\n",
       "      <th>89690</th>\n",
       "      <td>100043</td>\n",
       "      <td>19900919.0</td>\n",
       "      <td>1</td>\n",
       "      <td>1.0</td>\n",
       "      <td>0</td>\n",
       "      <td>0</td>\n",
       "    </tr>\n",
       "    <tr>\n",
       "      <th>255206</th>\n",
       "      <td>100126</td>\n",
       "      <td>19980602.0</td>\n",
       "      <td>1</td>\n",
       "      <td>1.0</td>\n",
       "      <td>0</td>\n",
       "      <td>0</td>\n",
       "    </tr>\n",
       "    <tr>\n",
       "      <th>99339</th>\n",
       "      <td>100323</td>\n",
       "      <td>19910123.0</td>\n",
       "      <td>1</td>\n",
       "      <td>1.0</td>\n",
       "      <td>0</td>\n",
       "      <td>0</td>\n",
       "    </tr>\n",
       "    <tr>\n",
       "      <th>110723</th>\n",
       "      <td>100332</td>\n",
       "      <td>19910618.0</td>\n",
       "      <td>1</td>\n",
       "      <td>2.0</td>\n",
       "      <td>0</td>\n",
       "      <td>1</td>\n",
       "    </tr>\n",
       "    <tr>\n",
       "      <th>110724</th>\n",
       "      <td>100332</td>\n",
       "      <td>19940611.0</td>\n",
       "      <td>1</td>\n",
       "      <td>2.0</td>\n",
       "      <td>1</td>\n",
       "      <td>0</td>\n",
       "    </tr>\n",
       "    <tr>\n",
       "      <th>198075</th>\n",
       "      <td>100387</td>\n",
       "      <td>19950515.0</td>\n",
       "      <td>1</td>\n",
       "      <td>1.0</td>\n",
       "      <td>0</td>\n",
       "      <td>0</td>\n",
       "    </tr>\n",
       "    <tr>\n",
       "      <th>236667</th>\n",
       "      <td>100408</td>\n",
       "      <td>19970603.0</td>\n",
       "      <td>1</td>\n",
       "      <td>1.0</td>\n",
       "      <td>0</td>\n",
       "      <td>0</td>\n",
       "    </tr>\n",
       "    <tr>\n",
       "      <th>67470</th>\n",
       "      <td>100414</td>\n",
       "      <td>19920213.0</td>\n",
       "      <td>1</td>\n",
       "      <td>1.0</td>\n",
       "      <td>0</td>\n",
       "      <td>0</td>\n",
       "    </tr>\n",
       "    <tr>\n",
       "      <th>128142</th>\n",
       "      <td>100463</td>\n",
       "      <td>19920309.0</td>\n",
       "      <td>1</td>\n",
       "      <td>4.0</td>\n",
       "      <td>0</td>\n",
       "      <td>1</td>\n",
       "    </tr>\n",
       "    <tr>\n",
       "      <th>128144</th>\n",
       "      <td>100463</td>\n",
       "      <td>19921216.0</td>\n",
       "      <td>1</td>\n",
       "      <td>4.0</td>\n",
       "      <td>1</td>\n",
       "      <td>1</td>\n",
       "    </tr>\n",
       "    <tr>\n",
       "      <th>128148</th>\n",
       "      <td>100463</td>\n",
       "      <td>19950127.0</td>\n",
       "      <td>1</td>\n",
       "      <td>4.0</td>\n",
       "      <td>2</td>\n",
       "      <td>1</td>\n",
       "    </tr>\n",
       "    <tr>\n",
       "      <th>128149</th>\n",
       "      <td>100463</td>\n",
       "      <td>19981230.0</td>\n",
       "      <td>1</td>\n",
       "      <td>4.0</td>\n",
       "      <td>3</td>\n",
       "      <td>0</td>\n",
       "    </tr>\n",
       "    <tr>\n",
       "      <th>38364</th>\n",
       "      <td>100565</td>\n",
       "      <td>19890508.0</td>\n",
       "      <td>1</td>\n",
       "      <td>1.0</td>\n",
       "      <td>0</td>\n",
       "      <td>0</td>\n",
       "    </tr>\n",
       "    <tr>\n",
       "      <th>198059</th>\n",
       "      <td>100575</td>\n",
       "      <td>19950606.0</td>\n",
       "      <td>1</td>\n",
       "      <td>1.0</td>\n",
       "      <td>0</td>\n",
       "      <td>0</td>\n",
       "    </tr>\n",
       "    <tr>\n",
       "      <th>40817</th>\n",
       "      <td>100591</td>\n",
       "      <td>19890529.0</td>\n",
       "      <td>1</td>\n",
       "      <td>3.0</td>\n",
       "      <td>0</td>\n",
       "      <td>1</td>\n",
       "    </tr>\n",
       "    <tr>\n",
       "      <th>40819</th>\n",
       "      <td>100591</td>\n",
       "      <td>19930419.0</td>\n",
       "      <td>1</td>\n",
       "      <td>3.0</td>\n",
       "      <td>1</td>\n",
       "      <td>1</td>\n",
       "    </tr>\n",
       "    <tr>\n",
       "      <th>40820</th>\n",
       "      <td>100591</td>\n",
       "      <td>19981222.0</td>\n",
       "      <td>1</td>\n",
       "      <td>3.0</td>\n",
       "      <td>2</td>\n",
       "      <td>0</td>\n",
       "    </tr>\n",
       "    <tr>\n",
       "      <th>198034</th>\n",
       "      <td>100601</td>\n",
       "      <td>19950506.0</td>\n",
       "      <td>1</td>\n",
       "      <td>1.0</td>\n",
       "      <td>0</td>\n",
       "      <td>0</td>\n",
       "    </tr>\n",
       "  </tbody>\n",
       "</table>\n",
       "</div>"
      ],
      "text/plain": [
       "       BOFI_NBR  ARREST_DATE  AREG_SEQ_NBR  ARREST_CNT  FIRST_ARREST  \\\n",
       "79479    013348   19900309.0             1         1.0             0   \n",
       "126493   020492   19920204.0             1         1.0             0   \n",
       "89690    100043   19900919.0             1         1.0             0   \n",
       "255206   100126   19980602.0             1         1.0             0   \n",
       "99339    100323   19910123.0             1         1.0             0   \n",
       "110723   100332   19910618.0             1         2.0             0   \n",
       "110724   100332   19940611.0             1         2.0             1   \n",
       "198075   100387   19950515.0             1         1.0             0   \n",
       "236667   100408   19970603.0             1         1.0             0   \n",
       "67470    100414   19920213.0             1         1.0             0   \n",
       "128142   100463   19920309.0             1         4.0             0   \n",
       "128144   100463   19921216.0             1         4.0             1   \n",
       "128148   100463   19950127.0             1         4.0             2   \n",
       "128149   100463   19981230.0             1         4.0             3   \n",
       "38364    100565   19890508.0             1         1.0             0   \n",
       "198059   100575   19950606.0             1         1.0             0   \n",
       "40817    100591   19890529.0             1         3.0             0   \n",
       "40819    100591   19930419.0             1         3.0             1   \n",
       "40820    100591   19981222.0             1         3.0             2   \n",
       "198034   100601   19950506.0             1         1.0             0   \n",
       "\n",
       "        REARREST_FLAG  \n",
       "79479               0  \n",
       "126493              0  \n",
       "89690               0  \n",
       "255206              0  \n",
       "99339               0  \n",
       "110723              1  \n",
       "110724              0  \n",
       "198075              0  \n",
       "236667              0  \n",
       "67470               0  \n",
       "128142              1  \n",
       "128144              1  \n",
       "128148              1  \n",
       "128149              0  \n",
       "38364               0  \n",
       "198059              0  \n",
       "40817               1  \n",
       "40819               1  \n",
       "40820               0  \n",
       "198034              0  "
      ]
     },
     "execution_count": 93,
     "metadata": {},
     "output_type": "execute_result"
    }
   ],
   "source": [
    "data[:20]"
   ]
  },
  {
   "cell_type": "code",
   "execution_count": null,
   "metadata": {
    "collapsed": true
   },
   "outputs": [],
   "source": [
    "\n"
   ]
  }
 ],
 "metadata": {
  "anaconda-cloud": {},
  "kernelspec": {
   "display_name": "Python 3",
   "language": "python",
   "name": "python3"
  },
  "language_info": {
   "codemirror_mode": {
    "name": "ipython",
    "version": 3
   },
   "file_extension": ".py",
   "mimetype": "text/x-python",
   "name": "python",
   "nbconvert_exporter": "python",
   "pygments_lexer": "ipython3",
   "version": "3.6.0"
  }
 },
 "nbformat": 4,
 "nbformat_minor": 0
}
