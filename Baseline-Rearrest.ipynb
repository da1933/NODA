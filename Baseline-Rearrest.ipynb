{
 "cells": [
  {
   "cell_type": "code",
   "execution_count": 3,
   "metadata": {
    "collapsed": false
   },
   "outputs": [],
   "source": [
    "import numpy as np\n",
    "import pandas as pd\n",
    "from sklearn.preprocessing import OneHotEncoder, LabelEncoder\n",
    "from sklearn.model_selection import train_test_split\n",
    "from sklearn.tree import DecisionTreeClassifier\n",
    "from sklearn.feature_extraction import DictVectorizer\n",
    "import sklearn as sklearn"
   ]
  },
  {
   "cell_type": "code",
   "execution_count": 4,
   "metadata": {
    "collapsed": true
   },
   "outputs": [],
   "source": [
    "data_simple = pd.read_csv('data_simple.csv', encoding = \"ISO-8859-1\", low_memory=False)"
   ]
  },
  {
   "cell_type": "markdown",
   "metadata": {},
   "source": [
    "# CLEAN DATA"
   ]
  },
  {
   "cell_type": "code",
   "execution_count": 5,
   "metadata": {
    "collapsed": false
   },
   "outputs": [
    {
     "data": {
      "text/plain": [
       "Index(['UNIQUE_ID', 'ADA_CODE', 'ADD_DATE', 'ARREST_CREDIT_CODE',\n",
       "       'ARREST_DATE', 'BAR_ADMISSION', 'BOFI_NBR', 'CHARGE_CLASS',\n",
       "       'CHARGE_TYPE', 'CRIMINAL_FLAG', 'DFDN_SEQ_NBR', 'DOB', 'FBI_NBR',\n",
       "       'FINAL_DETENTION_FLAG', 'HABITUAL_OFFENDER_FLAG',\n",
       "       'INITIAL_DETENTION_FLAG', 'JUVENILE_FLAG', 'LEAD_CHARGE_CODE', 'PARTY',\n",
       "       'POLICE_RPT_DATE', 'POLICE_RPT_DAYS', 'RACE', 'SADA_DOB', 'SADA_RACE',\n",
       "       'SADA_SEX', 'SCREENING_DAYS', 'SCREENING_DISP_CODE',\n",
       "       'SCREENING_DISP_DATE', 'SEX', 'SYS_NBR'],\n",
       "      dtype='object')"
      ]
     },
     "execution_count": 5,
     "metadata": {},
     "output_type": "execute_result"
    }
   ],
   "source": [
    "data_simple.columns"
   ]
  },
  {
   "cell_type": "code",
   "execution_count": 6,
   "metadata": {
    "collapsed": false
   },
   "outputs": [],
   "source": [
    "#SHOULD WE BE USING ADD_DATE instead of ARREST_DATE? need to check # of missing values for ADD_DATE\n",
    "rearrest = data_simple[['BOFI_NBR','ARREST_DATE']].copy()"
   ]
  },
  {
   "cell_type": "code",
   "execution_count": 7,
   "metadata": {
    "collapsed": false
   },
   "outputs": [
    {
     "data": {
      "text/plain": [
       "BOFI_NBR       280293\n",
       "ARREST_DATE    280290\n",
       "dtype: int64"
      ]
     },
     "execution_count": 7,
     "metadata": {},
     "output_type": "execute_result"
    }
   ],
   "source": [
    "rearrest.count()"
   ]
  },
  {
   "cell_type": "code",
   "execution_count": 8,
   "metadata": {
    "collapsed": false
   },
   "outputs": [
    {
     "name": "stdout",
     "output_type": "stream",
     "text": [
      "280289 rows\n"
     ]
    }
   ],
   "source": [
    "#Drop rows with missing values\n",
    "rearrest.dropna(axis=0, how='any', thresh=None, subset=None, inplace=True)\n",
    "print('%s rows' %(rearrest.shape[0]))"
   ]
  },
  {
   "cell_type": "code",
   "execution_count": 9,
   "metadata": {
    "collapsed": true
   },
   "outputs": [],
   "source": [
    "#Drop if arrest date is before 1988\n",
    "rearrest = rearrest[rearrest['ARREST_DATE']>=19880101]"
   ]
  },
  {
   "cell_type": "code",
   "execution_count": 10,
   "metadata": {
    "collapsed": true
   },
   "outputs": [],
   "source": [
    "#Drop if BOFI_NBR =/ or 00000\n",
    "rearrest = rearrest[rearrest['BOFI_NBR']!='/']\n",
    "rearrest = rearrest[rearrest['BOFI_NBR']!='00000']"
   ]
  },
  {
   "cell_type": "code",
   "execution_count": 11,
   "metadata": {
    "collapsed": false
   },
   "outputs": [
    {
     "data": {
      "text/plain": [
       "BOFI_NBR       269512\n",
       "ARREST_DATE    269512\n",
       "dtype: int64"
      ]
     },
     "execution_count": 11,
     "metadata": {},
     "output_type": "execute_result"
    }
   ],
   "source": [
    "rearrest.count()"
   ]
  },
  {
   "cell_type": "code",
   "execution_count": 12,
   "metadata": {
    "collapsed": false
   },
   "outputs": [],
   "source": [
    "#drop duplicates \n",
    "rearrest=rearrest.drop_duplicates()"
   ]
  },
  {
   "cell_type": "code",
   "execution_count": 13,
   "metadata": {
    "collapsed": false
   },
   "outputs": [
    {
     "data": {
      "text/plain": [
       "BOFI_NBR       222464\n",
       "ARREST_DATE    222464\n",
       "dtype: int64"
      ]
     },
     "execution_count": 13,
     "metadata": {},
     "output_type": "execute_result"
    }
   ],
   "source": [
    "rearrest.count()"
   ]
  },
  {
   "cell_type": "code",
   "execution_count": 14,
   "metadata": {
    "collapsed": true
   },
   "outputs": [],
   "source": [
    "#add column with # of arrests for each BOFI_NBR\n",
    "rearrest['ARREST_CNT'] = rearrest.groupby('BOFI_NBR')['ARREST_DATE'].transform('count')"
   ]
  },
  {
   "cell_type": "code",
   "execution_count": 15,
   "metadata": {
    "collapsed": false
   },
   "outputs": [],
   "source": [
    "#FIRST_ARREST = 0 as flag for first arrest\n",
    "rearrest.sort_values(by = ['BOFI_NBR','ARREST_DATE'], inplace=True)\n",
    "rearrest['FIRST_ARREST'] = rearrest.groupby('BOFI_NBR').cumcount()"
   ]
  },
  {
   "cell_type": "code",
   "execution_count": 16,
   "metadata": {
    "collapsed": false
   },
   "outputs": [],
   "source": [
    "#add flag for whether BOFI_NBR has rearrest\n",
    "#using & for elementwise operation\n",
    "rearrest['REARREST_FLAG'] = np.where((rearrest['ARREST_CNT']>1) & \\\n",
    "                                 (rearrest['ARREST_CNT']-1 != rearrest['FIRST_ARREST']),1,0)"
   ]
  },
  {
   "cell_type": "code",
   "execution_count": 17,
   "metadata": {
    "collapsed": false
   },
   "outputs": [
    {
     "data": {
      "text/html": [
       "<div>\n",
       "<table border=\"1\" class=\"dataframe\">\n",
       "  <thead>\n",
       "    <tr style=\"text-align: right;\">\n",
       "      <th></th>\n",
       "      <th>BOFI_NBR</th>\n",
       "      <th>ARREST_DATE</th>\n",
       "      <th>ARREST_CNT</th>\n",
       "      <th>FIRST_ARREST</th>\n",
       "      <th>REARREST_FLAG</th>\n",
       "    </tr>\n",
       "  </thead>\n",
       "  <tbody>\n",
       "    <tr>\n",
       "      <th>79479</th>\n",
       "      <td>013348</td>\n",
       "      <td>19900309.0</td>\n",
       "      <td>1.0</td>\n",
       "      <td>0</td>\n",
       "      <td>0</td>\n",
       "    </tr>\n",
       "    <tr>\n",
       "      <th>163257</th>\n",
       "      <td>01731920</td>\n",
       "      <td>19931015.0</td>\n",
       "      <td>1.0</td>\n",
       "      <td>0</td>\n",
       "      <td>0</td>\n",
       "    </tr>\n",
       "    <tr>\n",
       "      <th>126493</th>\n",
       "      <td>020492</td>\n",
       "      <td>19920204.0</td>\n",
       "      <td>1.0</td>\n",
       "      <td>0</td>\n",
       "      <td>0</td>\n",
       "    </tr>\n",
       "    <tr>\n",
       "      <th>238073</th>\n",
       "      <td>0221742</td>\n",
       "      <td>19970627.0</td>\n",
       "      <td>1.0</td>\n",
       "      <td>0</td>\n",
       "      <td>0</td>\n",
       "    </tr>\n",
       "    <tr>\n",
       "      <th>36698</th>\n",
       "      <td>0301725</td>\n",
       "      <td>19890427.0</td>\n",
       "      <td>1.0</td>\n",
       "      <td>0</td>\n",
       "      <td>0</td>\n",
       "    </tr>\n",
       "    <tr>\n",
       "      <th>89690</th>\n",
       "      <td>100043</td>\n",
       "      <td>19900919.0</td>\n",
       "      <td>1.0</td>\n",
       "      <td>0</td>\n",
       "      <td>0</td>\n",
       "    </tr>\n",
       "    <tr>\n",
       "      <th>255206</th>\n",
       "      <td>100126</td>\n",
       "      <td>19980602.0</td>\n",
       "      <td>1.0</td>\n",
       "      <td>0</td>\n",
       "      <td>0</td>\n",
       "    </tr>\n",
       "    <tr>\n",
       "      <th>138229</th>\n",
       "      <td>100144</td>\n",
       "      <td>19920821.0</td>\n",
       "      <td>1.0</td>\n",
       "      <td>0</td>\n",
       "      <td>0</td>\n",
       "    </tr>\n",
       "    <tr>\n",
       "      <th>149821</th>\n",
       "      <td>100284</td>\n",
       "      <td>19930217.0</td>\n",
       "      <td>1.0</td>\n",
       "      <td>0</td>\n",
       "      <td>0</td>\n",
       "    </tr>\n",
       "    <tr>\n",
       "      <th>104796</th>\n",
       "      <td>100315</td>\n",
       "      <td>19910402.0</td>\n",
       "      <td>1.0</td>\n",
       "      <td>0</td>\n",
       "      <td>0</td>\n",
       "    </tr>\n",
       "    <tr>\n",
       "      <th>99339</th>\n",
       "      <td>100323</td>\n",
       "      <td>19910123.0</td>\n",
       "      <td>1.0</td>\n",
       "      <td>0</td>\n",
       "      <td>0</td>\n",
       "    </tr>\n",
       "    <tr>\n",
       "      <th>110723</th>\n",
       "      <td>100332</td>\n",
       "      <td>19910618.0</td>\n",
       "      <td>2.0</td>\n",
       "      <td>0</td>\n",
       "      <td>1</td>\n",
       "    </tr>\n",
       "    <tr>\n",
       "      <th>110724</th>\n",
       "      <td>100332</td>\n",
       "      <td>19940611.0</td>\n",
       "      <td>2.0</td>\n",
       "      <td>1</td>\n",
       "      <td>0</td>\n",
       "    </tr>\n",
       "    <tr>\n",
       "      <th>212548</th>\n",
       "      <td>100376</td>\n",
       "      <td>19960310.0</td>\n",
       "      <td>1.0</td>\n",
       "      <td>0</td>\n",
       "      <td>0</td>\n",
       "    </tr>\n",
       "    <tr>\n",
       "      <th>198075</th>\n",
       "      <td>100387</td>\n",
       "      <td>19950515.0</td>\n",
       "      <td>1.0</td>\n",
       "      <td>0</td>\n",
       "      <td>0</td>\n",
       "    </tr>\n",
       "    <tr>\n",
       "      <th>236667</th>\n",
       "      <td>100408</td>\n",
       "      <td>19970603.0</td>\n",
       "      <td>1.0</td>\n",
       "      <td>0</td>\n",
       "      <td>0</td>\n",
       "    </tr>\n",
       "    <tr>\n",
       "      <th>67469</th>\n",
       "      <td>100414</td>\n",
       "      <td>19900123.0</td>\n",
       "      <td>3.0</td>\n",
       "      <td>0</td>\n",
       "      <td>1</td>\n",
       "    </tr>\n",
       "    <tr>\n",
       "      <th>67470</th>\n",
       "      <td>100414</td>\n",
       "      <td>19920213.0</td>\n",
       "      <td>3.0</td>\n",
       "      <td>1</td>\n",
       "      <td>1</td>\n",
       "    </tr>\n",
       "    <tr>\n",
       "      <th>67471</th>\n",
       "      <td>100414</td>\n",
       "      <td>19940812.0</td>\n",
       "      <td>3.0</td>\n",
       "      <td>2</td>\n",
       "      <td>0</td>\n",
       "    </tr>\n",
       "    <tr>\n",
       "      <th>128142</th>\n",
       "      <td>100463</td>\n",
       "      <td>19920309.0</td>\n",
       "      <td>6.0</td>\n",
       "      <td>0</td>\n",
       "      <td>1</td>\n",
       "    </tr>\n",
       "  </tbody>\n",
       "</table>\n",
       "</div>"
      ],
      "text/plain": [
       "        BOFI_NBR  ARREST_DATE  ARREST_CNT  FIRST_ARREST  REARREST_FLAG\n",
       "79479     013348   19900309.0         1.0             0              0\n",
       "163257  01731920   19931015.0         1.0             0              0\n",
       "126493    020492   19920204.0         1.0             0              0\n",
       "238073   0221742   19970627.0         1.0             0              0\n",
       "36698    0301725   19890427.0         1.0             0              0\n",
       "89690     100043   19900919.0         1.0             0              0\n",
       "255206    100126   19980602.0         1.0             0              0\n",
       "138229    100144   19920821.0         1.0             0              0\n",
       "149821    100284   19930217.0         1.0             0              0\n",
       "104796    100315   19910402.0         1.0             0              0\n",
       "99339     100323   19910123.0         1.0             0              0\n",
       "110723    100332   19910618.0         2.0             0              1\n",
       "110724    100332   19940611.0         2.0             1              0\n",
       "212548    100376   19960310.0         1.0             0              0\n",
       "198075    100387   19950515.0         1.0             0              0\n",
       "236667    100408   19970603.0         1.0             0              0\n",
       "67469     100414   19900123.0         3.0             0              1\n",
       "67470     100414   19920213.0         3.0             1              1\n",
       "67471     100414   19940812.0         3.0             2              0\n",
       "128142    100463   19920309.0         6.0             0              1"
      ]
     },
     "execution_count": 17,
     "metadata": {},
     "output_type": "execute_result"
    }
   ],
   "source": [
    "rearrest[:20]"
   ]
  },
  {
   "cell_type": "code",
   "execution_count": 18,
   "metadata": {
    "collapsed": true
   },
   "outputs": [],
   "source": [
    "data_merged = pd.merge(data_simple, \\\n",
    "                 rearrest, \\\n",
    "                 on=['BOFI_NBR','ARREST_DATE'], \\\n",
    "                 how='inner')"
   ]
  },
  {
   "cell_type": "code",
   "execution_count": 19,
   "metadata": {
    "collapsed": false
   },
   "outputs": [],
   "source": [
    "data_merged = data_merged[['BOFI_NBR','ARREST_DATE','ARREST_CNT','FIRST_ARREST','REARREST_FLAG','SCREENING_DISP_CODE',\\\n",
    "                           'CHARGE_CLASS','CHARGE_TYPE','LEAD_CHARGE_CODE']].copy()"
   ]
  },
  {
   "cell_type": "code",
   "execution_count": 20,
   "metadata": {
    "collapsed": false
   },
   "outputs": [
    {
     "data": {
      "text/plain": [
       "(269512, 9)"
      ]
     },
     "execution_count": 20,
     "metadata": {},
     "output_type": "execute_result"
    }
   ],
   "source": [
    "data_merged.shape"
   ]
  },
  {
   "cell_type": "code",
   "execution_count": 21,
   "metadata": {
    "collapsed": false
   },
   "outputs": [],
   "source": [
    "#identify arrests where at least one charge was accepted\n",
    "accepted = data_merged[data_merged['SCREENING_DISP_CODE']==230][['BOFI_NBR','ARREST_DATE']]"
   ]
  },
  {
   "cell_type": "code",
   "execution_count": 22,
   "metadata": {
    "collapsed": false
   },
   "outputs": [],
   "source": [
    "#drop rows where at least one charge was accepted during that arrest\n",
    "data_not_charged = pd.merge(data_merged, \\\n",
    "                 accepted, \\\n",
    "                 on=['BOFI_NBR','ARREST_DATE'], \\\n",
    "                 how='outer',\\\n",
    "                 indicator = True)\n",
    "data_not_charged = data_not_charged[data_not_charged['_merge']=='left_only'].drop('_merge', axis=1)"
   ]
  },
  {
   "cell_type": "code",
   "execution_count": 23,
   "metadata": {
    "collapsed": false
   },
   "outputs": [
    {
     "data": {
      "text/plain": [
       "(136371, 9)"
      ]
     },
     "execution_count": 23,
     "metadata": {},
     "output_type": "execute_result"
    }
   ],
   "source": [
    "data_not_charged.shape"
   ]
  },
  {
   "cell_type": "code",
   "execution_count": 24,
   "metadata": {
    "collapsed": false
   },
   "outputs": [
    {
     "data": {
      "text/plain": [
       "Index(['BOFI_NBR', 'ARREST_DATE', 'ARREST_CNT', 'FIRST_ARREST',\n",
       "       'REARREST_FLAG', 'SCREENING_DISP_CODE', 'CHARGE_CLASS', 'CHARGE_TYPE',\n",
       "       'LEAD_CHARGE_CODE'],\n",
       "      dtype='object')"
      ]
     },
     "execution_count": 24,
     "metadata": {},
     "output_type": "execute_result"
    }
   ],
   "source": [
    "data_merged.columns"
   ]
  },
  {
   "cell_type": "code",
   "execution_count": 25,
   "metadata": {
    "collapsed": false
   },
   "outputs": [
    {
     "data": {
      "text/plain": [
       "BOFI_NBR               136371\n",
       "ARREST_DATE            136371\n",
       "ARREST_CNT             136371\n",
       "FIRST_ARREST           136371\n",
       "REARREST_FLAG          136371\n",
       "SCREENING_DISP_CODE    121787\n",
       "CHARGE_CLASS           133212\n",
       "CHARGE_TYPE            135945\n",
       "LEAD_CHARGE_CODE       135947\n",
       "dtype: int64"
      ]
     },
     "execution_count": 25,
     "metadata": {},
     "output_type": "execute_result"
    }
   ],
   "source": [
    "data_not_charged.count()"
   ]
  },
  {
   "cell_type": "code",
   "execution_count": 26,
   "metadata": {
    "collapsed": false
   },
   "outputs": [
    {
     "name": "stdout",
     "output_type": "stream",
     "text": [
      "119550 rows\n"
     ]
    }
   ],
   "source": [
    "#Drop rows with missing values\n",
    "data_not_charged.dropna(axis=0, how='any', thresh=None, subset=None, inplace=True)\n",
    "print('%s rows' %(data_not_charged.shape[0]))"
   ]
  },
  {
   "cell_type": "code",
   "execution_count": 27,
   "metadata": {
    "collapsed": false
   },
   "outputs": [],
   "source": [
    "'''\n",
    "group by BOFI_NBR, ARREST_DATE\n",
    "for arrests with multiple values for CHARGE_CLASS, CHARGE_TYPE, and LEAD_CHARGE, collapse into string with multiple values\n",
    "'''\n",
    "#combine into one column. this is fine because we will eventually do one hot encoding\n",
    "data_not_charged['CHARGES'] = data_not_charged['CHARGE_CLASS'].map(str).str.strip() + ',' + data_not_charged['CHARGE_TYPE'].str.strip() + \\\n",
    "                            ',' +data_not_charged['LEAD_CHARGE_CODE'].str.strip()\n",
    "#aggregate multiple charges for each arrest\n",
    "data_not_charged['CHARGES'] = data_not_charged[['BOFI_NBR','ARREST_DATE','CHARGES']].groupby(['BOFI_NBR','ARREST_DATE'])['CHARGES'].transform(lambda x: ','.join(x))\n",
    "\n",
    "#drop dupes\n",
    "data_not_charged=data_not_charged.drop_duplicates(['BOFI_NBR','ARREST_DATE','CHARGES'])"
   ]
  },
  {
   "cell_type": "code",
   "execution_count": 28,
   "metadata": {
    "collapsed": false
   },
   "outputs": [
    {
     "data": {
      "text/html": [
       "<div>\n",
       "<table border=\"1\" class=\"dataframe\">\n",
       "  <thead>\n",
       "    <tr style=\"text-align: right;\">\n",
       "      <th></th>\n",
       "      <th>BOFI_NBR</th>\n",
       "      <th>ARREST_DATE</th>\n",
       "      <th>ARREST_CNT</th>\n",
       "      <th>FIRST_ARREST</th>\n",
       "      <th>REARREST_FLAG</th>\n",
       "      <th>SCREENING_DISP_CODE</th>\n",
       "      <th>CHARGE_CLASS</th>\n",
       "      <th>CHARGE_TYPE</th>\n",
       "      <th>LEAD_CHARGE_CODE</th>\n",
       "      <th>CHARGES</th>\n",
       "    </tr>\n",
       "  </thead>\n",
       "  <tbody>\n",
       "    <tr>\n",
       "      <th>0</th>\n",
       "      <td>232589</td>\n",
       "      <td>19910126.0</td>\n",
       "      <td>3.0</td>\n",
       "      <td>0</td>\n",
       "      <td>1</td>\n",
       "      <td>240.0</td>\n",
       "      <td>3.0</td>\n",
       "      <td>AR</td>\n",
       "      <td>14:(27) 62</td>\n",
       "      <td>3.0,AR,14:(27) 62</td>\n",
       "    </tr>\n",
       "    <tr>\n",
       "      <th>2</th>\n",
       "      <td>232589</td>\n",
       "      <td>19930330.0</td>\n",
       "      <td>3.0</td>\n",
       "      <td>2</td>\n",
       "      <td>0</td>\n",
       "      <td>240.0</td>\n",
       "      <td>3.0</td>\n",
       "      <td>AR</td>\n",
       "      <td>14:62</td>\n",
       "      <td>3.0,AR,14:62</td>\n",
       "    </tr>\n",
       "    <tr>\n",
       "      <th>5</th>\n",
       "      <td>228992</td>\n",
       "      <td>19890512.0</td>\n",
       "      <td>6.0</td>\n",
       "      <td>0</td>\n",
       "      <td>1</td>\n",
       "      <td>240.0</td>\n",
       "      <td>2.0</td>\n",
       "      <td>AR</td>\n",
       "      <td>40:967 (C) (2)</td>\n",
       "      <td>2.0,AR,40:967 (C) (2)</td>\n",
       "    </tr>\n",
       "    <tr>\n",
       "      <th>7</th>\n",
       "      <td>228992</td>\n",
       "      <td>19901018.0</td>\n",
       "      <td>6.0</td>\n",
       "      <td>1</td>\n",
       "      <td>1</td>\n",
       "      <td>260.0</td>\n",
       "      <td>3.0</td>\n",
       "      <td>AR</td>\n",
       "      <td>14:67 (A)</td>\n",
       "      <td>3.0,AR,14:67 (A)</td>\n",
       "    </tr>\n",
       "    <tr>\n",
       "      <th>8</th>\n",
       "      <td>228992</td>\n",
       "      <td>19910620.0</td>\n",
       "      <td>6.0</td>\n",
       "      <td>2</td>\n",
       "      <td>1</td>\n",
       "      <td>240.0</td>\n",
       "      <td>4.0</td>\n",
       "      <td>AR</td>\n",
       "      <td>14:67 (C)</td>\n",
       "      <td>4.0,AR,14:67 (C)</td>\n",
       "    </tr>\n",
       "    <tr>\n",
       "      <th>12</th>\n",
       "      <td>228992</td>\n",
       "      <td>19990913.0</td>\n",
       "      <td>6.0</td>\n",
       "      <td>5</td>\n",
       "      <td>0</td>\n",
       "      <td>240.0</td>\n",
       "      <td>4.0</td>\n",
       "      <td>AR</td>\n",
       "      <td>14:63</td>\n",
       "      <td>4.0,AR,14:63</td>\n",
       "    </tr>\n",
       "    <tr>\n",
       "      <th>14</th>\n",
       "      <td>172592</td>\n",
       "      <td>19890507.0</td>\n",
       "      <td>4.0</td>\n",
       "      <td>1</td>\n",
       "      <td>1</td>\n",
       "      <td>240.0</td>\n",
       "      <td>3.0</td>\n",
       "      <td>IF</td>\n",
       "      <td>14:69 (A)</td>\n",
       "      <td>3.0,IF,14:69 (A)</td>\n",
       "    </tr>\n",
       "    <tr>\n",
       "      <th>19</th>\n",
       "      <td>172592</td>\n",
       "      <td>19900612.0</td>\n",
       "      <td>4.0</td>\n",
       "      <td>3</td>\n",
       "      <td>0</td>\n",
       "      <td>240.0</td>\n",
       "      <td>3.0</td>\n",
       "      <td>AR</td>\n",
       "      <td>14:69 (A)</td>\n",
       "      <td>3.0,AR,14:69 (A)</td>\n",
       "    </tr>\n",
       "    <tr>\n",
       "      <th>21</th>\n",
       "      <td>239336</td>\n",
       "      <td>19970517.0</td>\n",
       "      <td>1.0</td>\n",
       "      <td>0</td>\n",
       "      <td>0</td>\n",
       "      <td>240.0</td>\n",
       "      <td>4.0</td>\n",
       "      <td>AR</td>\n",
       "      <td>14:220.1</td>\n",
       "      <td>4.0,AR,14:220.1</td>\n",
       "    </tr>\n",
       "    <tr>\n",
       "      <th>22</th>\n",
       "      <td>312136</td>\n",
       "      <td>19901230.0</td>\n",
       "      <td>2.0</td>\n",
       "      <td>0</td>\n",
       "      <td>1</td>\n",
       "      <td>240.0</td>\n",
       "      <td>2.0</td>\n",
       "      <td>AR</td>\n",
       "      <td>14:(27) 30</td>\n",
       "      <td>2.0,AR,14:(27) 30</td>\n",
       "    </tr>\n",
       "  </tbody>\n",
       "</table>\n",
       "</div>"
      ],
      "text/plain": [
       "   BOFI_NBR  ARREST_DATE  ARREST_CNT  FIRST_ARREST  REARREST_FLAG  \\\n",
       "0    232589   19910126.0         3.0             0              1   \n",
       "2    232589   19930330.0         3.0             2              0   \n",
       "5    228992   19890512.0         6.0             0              1   \n",
       "7    228992   19901018.0         6.0             1              1   \n",
       "8    228992   19910620.0         6.0             2              1   \n",
       "12   228992   19990913.0         6.0             5              0   \n",
       "14   172592   19890507.0         4.0             1              1   \n",
       "19   172592   19900612.0         4.0             3              0   \n",
       "21   239336   19970517.0         1.0             0              0   \n",
       "22   312136   19901230.0         2.0             0              1   \n",
       "\n",
       "    SCREENING_DISP_CODE  CHARGE_CLASS CHARGE_TYPE LEAD_CHARGE_CODE  \\\n",
       "0                 240.0           3.0          AR       14:(27) 62   \n",
       "2                 240.0           3.0          AR            14:62   \n",
       "5                 240.0           2.0          AR   40:967 (C) (2)   \n",
       "7                 260.0           3.0          AR        14:67 (A)   \n",
       "8                 240.0           4.0          AR        14:67 (C)   \n",
       "12                240.0           4.0          AR            14:63   \n",
       "14                240.0           3.0          IF        14:69 (A)   \n",
       "19                240.0           3.0          AR        14:69 (A)   \n",
       "21                240.0           4.0          AR         14:220.1   \n",
       "22                240.0           2.0          AR       14:(27) 30   \n",
       "\n",
       "                  CHARGES  \n",
       "0       3.0,AR,14:(27) 62  \n",
       "2            3.0,AR,14:62  \n",
       "5   2.0,AR,40:967 (C) (2)  \n",
       "7        3.0,AR,14:67 (A)  \n",
       "8        4.0,AR,14:67 (C)  \n",
       "12           4.0,AR,14:63  \n",
       "14       3.0,IF,14:69 (A)  \n",
       "19       3.0,AR,14:69 (A)  \n",
       "21        4.0,AR,14:220.1  \n",
       "22      2.0,AR,14:(27) 30  "
      ]
     },
     "execution_count": 28,
     "metadata": {},
     "output_type": "execute_result"
    }
   ],
   "source": [
    "data_not_charged[:10]"
   ]
  },
  {
   "cell_type": "code",
   "execution_count": 29,
   "metadata": {
    "collapsed": false
   },
   "outputs": [
    {
     "data": {
      "text/plain": [
       "(110852, 10)"
      ]
     },
     "execution_count": 29,
     "metadata": {},
     "output_type": "execute_result"
    }
   ],
   "source": [
    "data_not_charged.shape"
   ]
  },
  {
   "cell_type": "code",
   "execution_count": 30,
   "metadata": {
    "collapsed": false
   },
   "outputs": [
    {
     "data": {
      "text/plain": [
       "(75005, 10)"
      ]
     },
     "execution_count": 30,
     "metadata": {},
     "output_type": "execute_result"
    }
   ],
   "source": [
    "#keep observations within 1988-1996 timeframe\n",
    "data_not_charged = data_not_charged[data_not_charged['ARREST_DATE']<=19961231]\n",
    "data_not_charged.shape"
   ]
  },
  {
   "cell_type": "code",
   "execution_count": 31,
   "metadata": {
    "collapsed": false
   },
   "outputs": [
    {
     "data": {
      "text/plain": [
       "REARREST_FLAG\n",
       "0    33281\n",
       "1    41724\n",
       "Name: REARREST_FLAG, dtype: int64"
      ]
     },
     "execution_count": 31,
     "metadata": {},
     "output_type": "execute_result"
    }
   ],
   "source": [
    "data_not_charged.groupby('REARREST_FLAG')['REARREST_FLAG'].count()"
   ]
  },
  {
   "cell_type": "code",
   "execution_count": 32,
   "metadata": {
    "collapsed": false
   },
   "outputs": [
    {
     "data": {
      "text/plain": [
       "0.5562829144723686"
      ]
     },
     "execution_count": 32,
     "metadata": {},
     "output_type": "execute_result"
    }
   ],
   "source": [
    "#rearrest rate for people released by screener\n",
    "41724/(33281+41724)"
   ]
  },
  {
   "cell_type": "markdown",
   "metadata": {},
   "source": [
    "# ONE HOT ENCODING"
   ]
  },
  {
   "cell_type": "code",
   "execution_count": 33,
   "metadata": {
    "collapsed": false
   },
   "outputs": [
    {
     "data": {
      "text/plain": [
       "REARREST_FLAG\n",
       "0    33281\n",
       "1    41724\n",
       "Name: REARREST_FLAG, dtype: int64"
      ]
     },
     "execution_count": 33,
     "metadata": {},
     "output_type": "execute_result"
    }
   ],
   "source": [
    "#class is not imbalanced\n",
    "data_not_charged.groupby('REARREST_FLAG')['REARREST_FLAG'].count()"
   ]
  },
  {
   "cell_type": "code",
   "execution_count": 34,
   "metadata": {
    "collapsed": true
   },
   "outputs": [],
   "source": [
    "X = data_not_charged['CHARGES']\n",
    "y = data_not_charged['REARREST_FLAG']\n"
   ]
  },
  {
   "cell_type": "code",
   "execution_count": 35,
   "metadata": {
    "collapsed": false
   },
   "outputs": [],
   "source": [
    "from sklearn.feature_extraction.text import CountVectorizer\n",
    "c_vect = CountVectorizer(binary=True,tokenizer=lambda x: x.split(','))\n",
    "\n",
    "X_vect = c_vect.fit_transform(X)\n",
    "\n",
    "X_train, X_test, y_train, y_test = train_test_split(X_vect, y, test_size=0.2)\n",
    "\n",
    "X_train=X_train.toarray()\n",
    "X_test=X_test.toarray()"
   ]
  },
  {
   "cell_type": "code",
   "execution_count": 36,
   "metadata": {
    "collapsed": false
   },
   "outputs": [
    {
     "data": {
      "text/plain": [
       "(60004, 528)"
      ]
     },
     "execution_count": 36,
     "metadata": {},
     "output_type": "execute_result"
    }
   ],
   "source": [
    "X_train.shape"
   ]
  },
  {
   "cell_type": "code",
   "execution_count": 37,
   "metadata": {
    "collapsed": false
   },
   "outputs": [
    {
     "data": {
      "text/plain": [
       "(60004,)"
      ]
     },
     "execution_count": 37,
     "metadata": {},
     "output_type": "execute_result"
    }
   ],
   "source": [
    "y_train.shape"
   ]
  },
  {
   "cell_type": "markdown",
   "metadata": {},
   "source": [
    "# DECISION TREE"
   ]
  },
  {
   "cell_type": "code",
   "execution_count": 43,
   "metadata": {
    "collapsed": false
   },
   "outputs": [],
   "source": [
    "'''\n",
    "Decision tree with entropy criterion\n",
    "'''\n",
    "\n",
    "dt = DecisionTreeClassifier(criterion='entropy')\n",
    "dt = dt.fit(X_train,y_train)\n",
    "\n",
    "pred_train = dt.predict(X_train)\n",
    "pred_test = dt.predict(X_test)\n"
   ]
  },
  {
   "cell_type": "code",
   "execution_count": 44,
   "metadata": {
    "collapsed": false
   },
   "outputs": [
    {
     "name": "stdout",
     "output_type": "stream",
     "text": [
      "Accuracy on Training Dataset: 0.6151089927338177\n",
      "Accuracy on Test Dataset: 0.5860942603826411\n"
     ]
    }
   ],
   "source": [
    "#accuracy\n",
    "\n",
    "accu_train = sklearn.metrics.accuracy_score(y_train,pred_train)\n",
    "accu_test = sklearn.metrics.accuracy_score(y_test,pred_test)\n",
    "\n",
    "print(\"Accuracy on Training Dataset: {}\".format(accu_train))\n",
    "print(\"Accuracy on Test Dataset: {}\".format(accu_test))"
   ]
  },
  {
   "cell_type": "code",
   "execution_count": 45,
   "metadata": {
    "collapsed": false
   },
   "outputs": [
    {
     "name": "stdout",
     "output_type": "stream",
     "text": [
      "Precision: 0.609017847823818\n",
      "Recall: 0.7031814895155459\n",
      "F-Score: 0.6527210694110408\n"
     ]
    }
   ],
   "source": [
    "precision = sklearn.metrics.precision_score(y_test,pred_test)\n",
    "recall = sklearn.metrics.recall_score(y_test,pred_test)\n",
    "f_score = sklearn.metrics.f1_score(y_test,pred_test)\n",
    "\n",
    "print(\"Precision: {}\".format(precision))\n",
    "print(\"Recall: {}\".format(recall))\n",
    "print(\"F-Score: {}\".format(f_score))"
   ]
  },
  {
   "cell_type": "code",
   "execution_count": 46,
   "metadata": {
    "collapsed": false
   },
   "outputs": [
    {
     "data": {
      "text/plain": [
       "array([[2957, 3746],\n",
       "       [2463, 5835]])"
      ]
     },
     "execution_count": 46,
     "metadata": {},
     "output_type": "execute_result"
    }
   ],
   "source": [
    "#confusion matrix for test set\n",
    "cm = sklearn.metrics.confusion_matrix(y_test,pred_test)\n",
    "cm"
   ]
  },
  {
   "cell_type": "markdown",
   "metadata": {
    "collapsed": true
   },
   "source": [
    "# Gradient Boosted Tree"
   ]
  },
  {
   "cell_type": "code",
   "execution_count": 39,
   "metadata": {
    "collapsed": false
   },
   "outputs": [],
   "source": [
    "from sklearn.ensemble import GradientBoostingClassifier\n",
    "gbt = GradientBoostingClassifier()\n",
    "gbt = gbt.fit(X_train,y_train)\n",
    "\n",
    "pred_train = gbt.predict(X_train)\n",
    "pred_test = gbt.predict(X_test)\n"
   ]
  },
  {
   "cell_type": "code",
   "execution_count": 40,
   "metadata": {
    "collapsed": false
   },
   "outputs": [
    {
     "name": "stdout",
     "output_type": "stream",
     "text": [
      "Accuracy on Training Dataset: 0.5839610692620492\n",
      "Accuracy on Test Dataset: 0.5746283581094593\n"
     ]
    }
   ],
   "source": [
    "#accuracy\n",
    "\n",
    "accu_train = sklearn.metrics.accuracy_score(y_train,pred_train)\n",
    "accu_test = sklearn.metrics.accuracy_score(y_test,pred_test)\n",
    "\n",
    "print(\"Accuracy on Training Dataset: {}\".format(accu_train))\n",
    "print(\"Accuracy on Test Dataset: {}\".format(accu_test))"
   ]
  },
  {
   "cell_type": "code",
   "execution_count": 42,
   "metadata": {
    "collapsed": false
   },
   "outputs": [
    {
     "name": "stdout",
     "output_type": "stream",
     "text": [
      "Precision: 0.5730063218828547\n",
      "Recall: 0.9066040009640878\n",
      "F-Score: 0.7021981611984879\n"
     ]
    }
   ],
   "source": [
    "precision = sklearn.metrics.precision_score(y_test,pred_test)\n",
    "recall = sklearn.metrics.recall_score(y_test,pred_test)\n",
    "f_score = sklearn.metrics.f1_score(y_test,pred_test)\n",
    "\n",
    "print(\"Precision: {}\".format(precision))\n",
    "print(\"Recall: {}\".format(recall))\n",
    "print(\"F-Score: {}\".format(f_score))"
   ]
  },
  {
   "cell_type": "code",
   "execution_count": null,
   "metadata": {
    "collapsed": true
   },
   "outputs": [],
   "source": []
  }
 ],
 "metadata": {
  "anaconda-cloud": {},
  "kernelspec": {
   "display_name": "Python 3",
   "language": "python",
   "name": "python3"
  },
  "language_info": {
   "codemirror_mode": {
    "name": "ipython",
    "version": 3
   },
   "file_extension": ".py",
   "mimetype": "text/x-python",
   "name": "python",
   "nbconvert_exporter": "python",
   "pygments_lexer": "ipython3",
   "version": "3.6.0"
  }
 },
 "nbformat": 4,
 "nbformat_minor": 0
}
