{
 "cells": [
  {
   "cell_type": "markdown",
   "metadata": {},
   "source": [
    "# Predictor label"
   ]
  },
  {
   "cell_type": "markdown",
   "metadata": {},
   "source": [
    "## NOTE: This process is very time consuming.  It has already been done and the new data has been saved.  This code is included for our records."
   ]
  },
  {
   "cell_type": "code",
   "execution_count": 1,
   "metadata": {
    "collapsed": true
   },
   "outputs": [],
   "source": [
    "import pandas as pd\n",
    "import numpy as np\n",
    "from project_env import to_date"
   ]
  },
  {
   "cell_type": "code",
   "execution_count": 2,
   "metadata": {
    "collapsed": true
   },
   "outputs": [],
   "source": [
    "data = pd.read_csv('data_simple.csv')"
   ]
  },
  {
   "cell_type": "code",
   "execution_count": 3,
   "metadata": {
    "collapsed": false
   },
   "outputs": [],
   "source": [
    "# Remove 4 null arrest dates\n",
    "data = data[data.ARREST_DATE.notnull()]\n",
    "\n",
    "# Remove cases where there is no ARREST_DATE or ADD_DATE (or cases earlier than 1980)\n",
    "data = data[np.logical_and(data.ARREST_DATE>19880000,data.ADD_DATE>19880000)]"
   ]
  },
  {
   "cell_type": "code",
   "execution_count": 4,
   "metadata": {
    "collapsed": true
   },
   "outputs": [],
   "source": [
    "# Convert Dates to datetime format\n",
    "data.ARREST_DATE = data.ARREST_DATE.astype(str)\n",
    "data.ARREST_DATE=pd.to_datetime(data.ARREST_DATE, errors='coerce',format='%Y%m%d')\n",
    "data.ADD_DATE = data.ADD_DATE.astype(str)\n",
    "data.ADD_DATE = pd.to_datetime(data.ADD_DATE, errors='ignore', format='%Y%m%d')"
   ]
  },
  {
   "cell_type": "code",
   "execution_count": 5,
   "metadata": {
    "collapsed": true
   },
   "outputs": [],
   "source": [
    "# Sort data in chronological order\n",
    "data=data.sort_values(by='ARREST_DATE')"
   ]
  },
  {
   "cell_type": "code",
   "execution_count": 6,
   "metadata": {
    "collapsed": false
   },
   "outputs": [],
   "source": [
    "# Get the number of times each BOFI_NBR appears in data\n",
    "values = data.BOFI_NBR.value_counts()\n",
    "\n",
    "# Get the entrants who only appeared once\n",
    "unique = values.loc[values==1]\n",
    "\n",
    "#Get anyone who had multiple appearances in data\n",
    "notunique = values.loc[values>1]\n",
    "rearrests = list(notunique.index)"
   ]
  },
  {
   "cell_type": "code",
   "execution_count": 7,
   "metadata": {
    "collapsed": false
   },
   "outputs": [],
   "source": [
    "# Create a column that indicates if someone appeared more than once\n",
    "data['EVER_REARREST'] = np.where(data.BOFI_NBR.isin(rearrests), 1, 0)\n",
    "\n",
    "# Create a column where the time to next arrest will be placed\n",
    "data['NEXT_ARREST_TIME']=np.zeros(data.shape[0])"
   ]
  },
  {
   "cell_type": "code",
   "execution_count": 28,
   "metadata": {
    "collapsed": false
   },
   "outputs": [],
   "source": [
    "# Loop over everyone who has shown up more than once, get their \n",
    "# list of arrest dates and produce a new list for the amount of \n",
    "# time between each arrest.  The final arrest is labeled \"Final Arrest\"\n",
    "\n",
    "all_indices = []\n",
    "all_times = []\n",
    "for i in rearrests:\n",
    "    indices = list(data.loc[data.BOFI_NBR==i].index)\n",
    "    dates = list(data.loc[data.BOFI_NBR==i].ARREST_DATE)\n",
    "    timetorearrest=[]\n",
    "\n",
    "    for k,v in enumerate(dates): \n",
    "        try:\n",
    "            if (dates[k+1]-v).days==0:\n",
    "                timetorearrest.append('Delete')\n",
    "            else:\n",
    "                timetorearrest.append((dates[k+1]-v).days)\n",
    "        except IndexError:\n",
    "            timetorearrest.append('Final Arrest')\n",
    "    \n",
    "    all_indices.append(indices)\n",
    "    all_times.append(timetorearrest)"
   ]
  },
  {
   "cell_type": "code",
   "execution_count": 29,
   "metadata": {
    "collapsed": false
   },
   "outputs": [],
   "source": [
    "# Add times to the NEXT_ARREST_TIME column in main data\n",
    "for i,v in enumerate(all_indices):\n",
    "    for j,s in enumerate(v):\n",
    "        data.loc[s, 'NEXT_ARREST_TIME'] = all_times[i][j]"
   ]
  },
  {
   "cell_type": "code",
   "execution_count": 34,
   "metadata": {
    "collapsed": true
   },
   "outputs": [],
   "source": [
    "data['NEXT_ARREST_TIME'].loc[data.NEXT_ARREST_TIME=='Final Arrest']=0\n",
    "data['NEXT_ARREST_TIME'].loc[data.NEXT_ARREST_TIME=='0.0']=0"
   ]
  },
  {
   "cell_type": "code",
   "execution_count": 31,
   "metadata": {
    "collapsed": false
   },
   "outputs": [],
   "source": [
    "# Export\n",
    "rearrest = data[['UNIQUE_ID','NEXT_ARREST_TIME']]\n",
    "rearrest.to_csv('df_rearrests.csv',index=False)"
   ]
  }
 ],
 "metadata": {
  "anaconda-cloud": {},
  "kernelspec": {
   "display_name": "Python [Root]",
   "language": "python",
   "name": "Python [Root]"
  },
  "language_info": {
   "codemirror_mode": {
    "name": "ipython",
    "version": 3
   },
   "file_extension": ".py",
   "mimetype": "text/x-python",
   "name": "python",
   "nbconvert_exporter": "python",
   "pygments_lexer": "ipython3",
   "version": "3.5.2"
  }
 },
 "nbformat": 4,
 "nbformat_minor": 2
}
