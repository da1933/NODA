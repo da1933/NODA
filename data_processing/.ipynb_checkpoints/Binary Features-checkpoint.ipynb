{
 "cells": [
  {
   "cell_type": "code",
   "execution_count": 1,
   "metadata": {
    "collapsed": true
   },
   "outputs": [],
   "source": [
    "import pandas as pd\n",
    "import numpy as np"
   ]
  },
  {
   "cell_type": "code",
   "execution_count": 2,
   "metadata": {
    "collapsed": false
   },
   "outputs": [],
   "source": [
    "df = pd.read_csv('output/data_simple.csv',encoding = \"ISO-8859-1\")"
   ]
  },
  {
   "cell_type": "markdown",
   "metadata": {},
   "source": [
    "# OK"
   ]
  },
  {
   "cell_type": "code",
   "execution_count": 3,
   "metadata": {
    "collapsed": false
   },
   "outputs": [
    {
     "data": {
      "text/plain": [
       "Y    223882\n",
       "N     56412\n",
       "Name: CRIMINAL_FLAG, dtype: int64"
      ]
     },
     "execution_count": 3,
     "metadata": {},
     "output_type": "execute_result"
    }
   ],
   "source": [
    "df.CRIMINAL_FLAG.value_counts(dropna=False)"
   ]
  },
  {
   "cell_type": "code",
   "execution_count": 4,
   "metadata": {
    "collapsed": false
   },
   "outputs": [
    {
     "data": {
      "text/plain": [
       "N    210254\n",
       "Y     70040\n",
       "Name: JUVENILE_FLAG, dtype: int64"
      ]
     },
     "execution_count": 4,
     "metadata": {},
     "output_type": "execute_result"
    }
   ],
   "source": [
    "df.JUVENILE_FLAG.value_counts(dropna=False)"
   ]
  },
  {
   "cell_type": "markdown",
   "metadata": {},
   "source": [
    "# NOT OK"
   ]
  },
  {
   "cell_type": "code",
   "execution_count": 5,
   "metadata": {
    "collapsed": false,
    "scrolled": true
   },
   "outputs": [
    {
     "data": {
      "text/plain": [
       "N      268134\n",
       "Y       12156\n",
       "NaN         4\n",
       "Name: FINAL_DETENTION_FLAG, dtype: int64"
      ]
     },
     "execution_count": 5,
     "metadata": {},
     "output_type": "execute_result"
    }
   ],
   "source": [
    "df.FINAL_DETENTION_FLAG.value_counts(dropna=False)"
   ]
  },
  {
   "cell_type": "code",
   "execution_count": 6,
   "metadata": {
    "collapsed": false
   },
   "outputs": [
    {
     "data": {
      "text/plain": [
       "N      252121\n",
       "NaN     15469\n",
       "Y       12704\n",
       "Name: INITIAL_DETENTION_FLAG, dtype: int64"
      ]
     },
     "execution_count": 6,
     "metadata": {},
     "output_type": "execute_result"
    }
   ],
   "source": [
    "df.INITIAL_DETENTION_FLAG.value_counts(dropna=False)"
   ]
  },
  {
   "cell_type": "code",
   "execution_count": 7,
   "metadata": {
    "collapsed": false
   },
   "outputs": [
    {
     "data": {
      "text/plain": [
       "M      155235\n",
       "F       96067\n",
       "NaN     28992\n",
       "Name: SADA_SEX, dtype: int64"
      ]
     },
     "execution_count": 7,
     "metadata": {},
     "output_type": "execute_result"
    }
   ],
   "source": [
    "df.SADA_SEX.value_counts(dropna=False)"
   ]
  },
  {
   "cell_type": "code",
   "execution_count": 8,
   "metadata": {
    "collapsed": false
   },
   "outputs": [
    {
     "data": {
      "text/plain": [
       "N       190822\n",
       "NaN      60732\n",
       "Y        13475\n",
       "A         3953\n",
       "2         2812\n",
       "4         2328\n",
       "3         1249\n",
       "E         1189\n",
       "D         1067\n",
       "B          759\n",
       "5          681\n",
       "C          237\n",
       "H          220\n",
       "F          217\n",
       "6          111\n",
       "V          106\n",
       "W           80\n",
       "8           71\n",
       "G           61\n",
       "X           38\n",
       "7           37\n",
       "Z           27\n",
       "O           11\n",
       "S            2\n",
       "02           1\n",
       ".            1\n",
       "12           1\n",
       "41           1\n",
       " 1           1\n",
       "01           1\n",
       "05           1\n",
       "1786         1\n",
       "R            1\n",
       "Name: HABITUAL_OFFENDER_FLAG, dtype: int64"
      ]
     },
     "execution_count": 8,
     "metadata": {},
     "output_type": "execute_result"
    }
   ],
   "source": [
    "df.HABITUAL_OFFENDER_FLAG.value_counts(dropna=False)"
   ]
  },
  {
   "cell_type": "code",
   "execution_count": 9,
   "metadata": {
    "collapsed": false,
    "scrolled": true
   },
   "outputs": [
    {
     "data": {
      "text/plain": [
       "M      226673\n",
       "F       48832\n",
       "NaN      4775\n",
       "N           8\n",
       "R           2\n",
       "B           2\n",
       "D           1\n",
       "J           1\n",
       "Name: SEX, dtype: int64"
      ]
     },
     "execution_count": 9,
     "metadata": {},
     "output_type": "execute_result"
    }
   ],
   "source": [
    "df.SEX.value_counts(dropna=False)"
   ]
  },
  {
   "cell_type": "markdown",
   "metadata": {},
   "source": [
    "# Clean and Convert:"
   ]
  },
  {
   "cell_type": "code",
   "execution_count": 10,
   "metadata": {
    "collapsed": false
   },
   "outputs": [
    {
     "name": "stderr",
     "output_type": "stream",
     "text": [
      "/Users/danielamaranto/anaconda3/lib/python3.5/site-packages/pandas/core/indexing.py:141: SettingWithCopyWarning: \n",
      "A value is trying to be set on a copy of a slice from a DataFrame\n",
      "\n",
      "See the caveats in the documentation: http://pandas.pydata.org/pandas-docs/stable/indexing.html#indexing-view-versus-copy\n",
      "  self._setitem_with_indexer(indexer, value)\n"
     ]
    }
   ],
   "source": [
    "df['CRIMINAL_FLAG'].loc[df['CRIMINAL_FLAG']=='N']=0\n",
    "df['CRIMINAL_FLAG'].loc[df['CRIMINAL_FLAG']=='Y']=1\n",
    "\n",
    "df['JUVENILE_FLAG'].loc[df['JUVENILE_FLAG']=='N']=0\n",
    "df['JUVENILE_FLAG'].loc[df['JUVENILE_FLAG']=='Y']=1"
   ]
  },
  {
   "cell_type": "code",
   "execution_count": 11,
   "metadata": {
    "collapsed": false,
    "scrolled": true
   },
   "outputs": [
    {
     "name": "stderr",
     "output_type": "stream",
     "text": [
      "/Users/danielamaranto/anaconda3/lib/python3.5/site-packages/pandas/core/indexing.py:141: SettingWithCopyWarning: \n",
      "A value is trying to be set on a copy of a slice from a DataFrame\n",
      "\n",
      "See the caveats in the documentation: http://pandas.pydata.org/pandas-docs/stable/indexing.html#indexing-view-versus-copy\n",
      "  self._setitem_with_indexer(indexer, value)\n"
     ]
    }
   ],
   "source": [
    "df['FINAL_DETENTION_FLAG'].loc[pd.isnull(df['FINAL_DETENTION_FLAG'])]=0\n",
    "df['FINAL_DETENTION_FLAG'].loc[df['FINAL_DETENTION_FLAG']=='N']=0\n",
    "df['FINAL_DETENTION_FLAG'].loc[df['FINAL_DETENTION_FLAG']=='Y']=1"
   ]
  },
  {
   "cell_type": "code",
   "execution_count": 12,
   "metadata": {
    "collapsed": false
   },
   "outputs": [
    {
     "name": "stderr",
     "output_type": "stream",
     "text": [
      "/Users/danielamaranto/anaconda3/lib/python3.5/site-packages/pandas/core/indexing.py:141: SettingWithCopyWarning: \n",
      "A value is trying to be set on a copy of a slice from a DataFrame\n",
      "\n",
      "See the caveats in the documentation: http://pandas.pydata.org/pandas-docs/stable/indexing.html#indexing-view-versus-copy\n",
      "  self._setitem_with_indexer(indexer, value)\n"
     ]
    }
   ],
   "source": [
    "df['INITIAL_DETENTION_FLAG'].loc[pd.isnull(df['INITIAL_DETENTION_FLAG'])]=0\n",
    "df['INITIAL_DETENTION_FLAG'].loc[df['INITIAL_DETENTION_FLAG']=='N']=0\n",
    "df['INITIAL_DETENTION_FLAG'].loc[df['INITIAL_DETENTION_FLAG']=='Y']=1"
   ]
  },
  {
   "cell_type": "code",
   "execution_count": 13,
   "metadata": {
    "collapsed": false
   },
   "outputs": [
    {
     "name": "stderr",
     "output_type": "stream",
     "text": [
      "/Users/danielamaranto/anaconda3/lib/python3.5/site-packages/pandas/core/indexing.py:141: SettingWithCopyWarning: \n",
      "A value is trying to be set on a copy of a slice from a DataFrame\n",
      "\n",
      "See the caveats in the documentation: http://pandas.pydata.org/pandas-docs/stable/indexing.html#indexing-view-versus-copy\n",
      "  self._setitem_with_indexer(indexer, value)\n"
     ]
    }
   ],
   "source": [
    "df['SADA_SEX'].loc[np.logical_and(df['SADA_SEX']!='M',df['SADA_SEX']!='F')]=-1\n",
    "df['SADA_SEX'].loc[df['SADA_SEX']=='M']=1\n",
    "df['SADA_SEX'].loc[df['SADA_SEX']=='F']=0"
   ]
  },
  {
   "cell_type": "code",
   "execution_count": 14,
   "metadata": {
    "collapsed": false,
    "scrolled": true
   },
   "outputs": [
    {
     "name": "stderr",
     "output_type": "stream",
     "text": [
      "/Users/danielamaranto/anaconda3/lib/python3.5/site-packages/pandas/core/indexing.py:141: SettingWithCopyWarning: \n",
      "A value is trying to be set on a copy of a slice from a DataFrame\n",
      "\n",
      "See the caveats in the documentation: http://pandas.pydata.org/pandas-docs/stable/indexing.html#indexing-view-versus-copy\n",
      "  self._setitem_with_indexer(indexer, value)\n"
     ]
    }
   ],
   "source": [
    "df['HABITUAL_OFFENDER_FLAG'].loc[np.logical_and(df['HABITUAL_OFFENDER_FLAG'] \\\n",
    "                                !='Y',df['HABITUAL_OFFENDER_FLAG']!='N')]='N'\n",
    "df['HABITUAL_OFFENDER_FLAG'].loc[df['HABITUAL_OFFENDER_FLAG']=='N']=0\n",
    "df['HABITUAL_OFFENDER_FLAG'].loc[df['HABITUAL_OFFENDER_FLAG']=='Y']=1"
   ]
  },
  {
   "cell_type": "code",
   "execution_count": 15,
   "metadata": {
    "collapsed": false
   },
   "outputs": [
    {
     "name": "stderr",
     "output_type": "stream",
     "text": [
      "/Users/danielamaranto/anaconda3/lib/python3.5/site-packages/pandas/core/indexing.py:141: SettingWithCopyWarning: \n",
      "A value is trying to be set on a copy of a slice from a DataFrame\n",
      "\n",
      "See the caveats in the documentation: http://pandas.pydata.org/pandas-docs/stable/indexing.html#indexing-view-versus-copy\n",
      "  self._setitem_with_indexer(indexer, value)\n"
     ]
    }
   ],
   "source": [
    "df['SEX'].loc[np.logical_and(df['SEX']!='M',df['SEX']!='F')]=-1\n",
    "df['SEX'].loc[df['SEX']=='M']=1\n",
    "df['SEX'].loc[df['SEX']=='F']=0"
   ]
  },
  {
   "cell_type": "code",
   "execution_count": 16,
   "metadata": {
    "collapsed": true
   },
   "outputs": [],
   "source": [
    "clean_data = df[['UNIQUE_ID','CRIMINAL_FLAG','FINAL_DETENTION_FLAG', \\\n",
    "                 'HABITUAL_OFFENDER_FLAG','INITIAL_DETENTION_FLAG', \\\n",
    "                 'JUVENILE_FLAG','SADA_SEX','SEX']]"
   ]
  },
  {
   "cell_type": "markdown",
   "metadata": {},
   "source": [
    "## Values after Cleaning"
   ]
  },
  {
   "cell_type": "code",
   "execution_count": 17,
   "metadata": {
    "collapsed": false
   },
   "outputs": [
    {
     "name": "stdout",
     "output_type": "stream",
     "text": [
      "CRIMINAL_FLAG Counts:\n",
      " 1    223882\n",
      "0     56412\n",
      "Name: CRIMINAL_FLAG, dtype: int64\n",
      "FINAL_DETENTION_FLAG Counts:\n",
      " 0    268138\n",
      "1     12156\n",
      "Name: FINAL_DETENTION_FLAG, dtype: int64\n",
      "HABITUAL_OFFENDER_FLAG Counts:\n",
      " 0    266819\n",
      "1     13475\n",
      "Name: HABITUAL_OFFENDER_FLAG, dtype: int64\n",
      "INITIAL_DETENTION_FLAG Counts:\n",
      " 0    267590\n",
      "1     12704\n",
      "Name: INITIAL_DETENTION_FLAG, dtype: int64\n",
      "JUVENILE_FLAG Counts:\n",
      " 0    210254\n",
      "1     70040\n",
      "Name: JUVENILE_FLAG, dtype: int64\n",
      "SADA_SEX Counts:\n",
      "  1    155235\n",
      " 0     96067\n",
      "-1     28992\n",
      "Name: SADA_SEX, dtype: int64\n",
      "SEX Counts:\n",
      "  1    226673\n",
      " 0     48832\n",
      "-1      4789\n",
      "Name: SEX, dtype: int64\n"
     ]
    }
   ],
   "source": [
    "for i in clean_data.columns[1:]:\n",
    "    print(i, 'Counts:\\n', clean_data[i].value_counts(dropna=False))"
   ]
  },
  {
   "cell_type": "markdown",
   "metadata": {},
   "source": [
    "# Export:"
   ]
  },
  {
   "cell_type": "code",
   "execution_count": 18,
   "metadata": {
    "collapsed": true
   },
   "outputs": [],
   "source": [
    "clean_data = df[['UNIQUE_ID','CRIMINAL_FLAG','FINAL_DETENTION_FLAG', \\\n",
    "                 'HABITUAL_OFFENDER_FLAG','INITIAL_DETENTION_FLAG', \\\n",
    "                 'JUVENILE_FLAG','SADA_SEX','SEX']]"
   ]
  },
  {
   "cell_type": "code",
   "execution_count": 19,
   "metadata": {
    "collapsed": true
   },
   "outputs": [],
   "source": [
    "clean_data.to_csv('output/df_bin_features.csv',index=False)"
   ]
  }
 ],
 "metadata": {
  "anaconda-cloud": {},
  "kernelspec": {
   "display_name": "Python [Root]",
   "language": "python",
   "name": "Python [Root]"
  },
  "language_info": {
   "codemirror_mode": {
    "name": "ipython",
    "version": 3
   },
   "file_extension": ".py",
   "mimetype": "text/x-python",
   "name": "python",
   "nbconvert_exporter": "python",
   "pygments_lexer": "ipython3",
   "version": "3.5.2"
  }
 },
 "nbformat": 4,
 "nbformat_minor": 2
}
