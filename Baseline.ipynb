{
 "cells": [
  {
   "cell_type": "code",
   "execution_count": 27,
   "metadata": {
    "collapsed": false
   },
   "outputs": [],
   "source": [
    "import numpy as np\n",
    "import pandas as pd\n",
    "from sklearn.preprocessing import OneHotEncoder, LabelEncoder\n",
    "#newer versions of scikit learn need to import from model_selection\n",
    "from sklearn.model_selection import train_test_split\n",
    "from sklearn.tree import DecisionTreeClassifier\n",
    "from sklearn.feature_extraction import DictVectorizer\n",
    "import sklearn as sklearn"
   ]
  },
  {
   "cell_type": "code",
   "execution_count": 28,
   "metadata": {
    "collapsed": true
   },
   "outputs": [],
   "source": [
    "data_simple = pd.read_csv('data_simple.csv', encoding = \"ISO-8859-1\", low_memory=False, index_col=0)"
   ]
  },
  {
   "cell_type": "code",
   "execution_count": 29,
   "metadata": {
    "collapsed": false
   },
   "outputs": [],
   "source": [
    "#did not use charge_cat because only 50,555 non missing values.\n",
    "#Drop if arrest date is before 1988\n",
    "data_simple = data_simple[data_simple['ARREST_DATE']>=19880101]\n",
    "\n",
    "#Drop if BOFI_NBR =/ or 00000\n",
    "data_simple = data_simple[data_simple['BOFI_NBR']!='/']\n",
    "data_simple = data_simple[data_simple['BOFI_NBR']!='00000']\n",
    "\n",
    "data = data_simple[['SCREENING_DISP_CODE','CHARGE_CLASS','CHARGE_TYPE','LEAD_CHARGE_CODE']].copy()"
   ]
  },
  {
   "cell_type": "code",
   "execution_count": 30,
   "metadata": {
    "collapsed": false
   },
   "outputs": [
    {
     "data": {
      "text/plain": [
       "SCREENING_DISP_CODE    145437\n",
       "CHARGE_CLASS           145501\n",
       "CHARGE_TYPE            147373\n",
       "LEAD_CHARGE_CODE       147377\n",
       "dtype: int64"
      ]
     },
     "execution_count": 30,
     "metadata": {},
     "output_type": "execute_result"
    }
   ],
   "source": [
    "data.count()"
   ]
  },
  {
   "cell_type": "code",
   "execution_count": 31,
   "metadata": {
    "collapsed": false
   },
   "outputs": [
    {
     "data": {
      "text/plain": [
       "SCREENING_DISP_CODE\n",
       "140.0        2\n",
       "160.0        1\n",
       "230.0    20711\n",
       "240.0    90495\n",
       "250.0      117\n",
       "260.0    34108\n",
       "280.0        2\n",
       "310.0        1\n",
       "Name: SCREENING_DISP_CODE, dtype: int64"
      ]
     },
     "execution_count": 31,
     "metadata": {},
     "output_type": "execute_result"
    }
   ],
   "source": [
    "data.groupby(['SCREENING_DISP_CODE'])['SCREENING_DISP_CODE'].count()"
   ]
  },
  {
   "cell_type": "code",
   "execution_count": 32,
   "metadata": {
    "collapsed": false
   },
   "outputs": [
    {
     "data": {
      "text/html": [
       "<div>\n",
       "<table border=\"1\" class=\"dataframe\">\n",
       "  <thead>\n",
       "    <tr style=\"text-align: right;\">\n",
       "      <th></th>\n",
       "      <th>SCREENING_DISP_CODE</th>\n",
       "      <th>CHARGE_TYPE</th>\n",
       "      <th>LEAD_CHARGE_CODE</th>\n",
       "    </tr>\n",
       "    <tr>\n",
       "      <th>CHARGE_CLASS</th>\n",
       "      <th></th>\n",
       "      <th></th>\n",
       "      <th></th>\n",
       "    </tr>\n",
       "  </thead>\n",
       "  <tbody>\n",
       "    <tr>\n",
       "      <th>1.0</th>\n",
       "      <td>855</td>\n",
       "      <td>862</td>\n",
       "      <td>862</td>\n",
       "    </tr>\n",
       "    <tr>\n",
       "      <th>2.0</th>\n",
       "      <td>21647</td>\n",
       "      <td>21948</td>\n",
       "      <td>21950</td>\n",
       "    </tr>\n",
       "    <tr>\n",
       "      <th>3.0</th>\n",
       "      <td>58600</td>\n",
       "      <td>59826</td>\n",
       "      <td>59827</td>\n",
       "    </tr>\n",
       "    <tr>\n",
       "      <th>4.0</th>\n",
       "      <td>57307</td>\n",
       "      <td>58125</td>\n",
       "      <td>58125</td>\n",
       "    </tr>\n",
       "    <tr>\n",
       "      <th>5.0</th>\n",
       "      <td>14</td>\n",
       "      <td>18</td>\n",
       "      <td>18</td>\n",
       "    </tr>\n",
       "    <tr>\n",
       "      <th>6.0</th>\n",
       "      <td>4699</td>\n",
       "      <td>4718</td>\n",
       "      <td>4718</td>\n",
       "    </tr>\n",
       "    <tr>\n",
       "      <th>8.0</th>\n",
       "      <td>1</td>\n",
       "      <td>1</td>\n",
       "      <td>1</td>\n",
       "    </tr>\n",
       "  </tbody>\n",
       "</table>\n",
       "</div>"
      ],
      "text/plain": [
       "              SCREENING_DISP_CODE  CHARGE_TYPE  LEAD_CHARGE_CODE\n",
       "CHARGE_CLASS                                                    \n",
       "1.0                           855          862               862\n",
       "2.0                         21647        21948             21950\n",
       "3.0                         58600        59826             59827\n",
       "4.0                         57307        58125             58125\n",
       "5.0                            14           18                18\n",
       "6.0                          4699         4718              4718\n",
       "8.0                             1            1                 1"
      ]
     },
     "execution_count": 32,
     "metadata": {},
     "output_type": "execute_result"
    }
   ],
   "source": [
    "data.groupby(['CHARGE_CLASS']).count()"
   ]
  },
  {
   "cell_type": "code",
   "execution_count": 33,
   "metadata": {
    "collapsed": false
   },
   "outputs": [
    {
     "data": {
      "text/html": [
       "<div>\n",
       "<table border=\"1\" class=\"dataframe\">\n",
       "  <thead>\n",
       "    <tr style=\"text-align: right;\">\n",
       "      <th></th>\n",
       "      <th>SCREENING_DISP_CODE</th>\n",
       "      <th>CHARGE_CLASS</th>\n",
       "      <th>LEAD_CHARGE_CODE</th>\n",
       "    </tr>\n",
       "    <tr>\n",
       "      <th>CHARGE_TYPE</th>\n",
       "      <th></th>\n",
       "      <th></th>\n",
       "      <th></th>\n",
       "    </tr>\n",
       "  </thead>\n",
       "  <tbody>\n",
       "    <tr>\n",
       "      <th>AR</th>\n",
       "      <td>143853</td>\n",
       "      <td>144274</td>\n",
       "      <td>146112</td>\n",
       "    </tr>\n",
       "    <tr>\n",
       "      <th>IF</th>\n",
       "      <td>1084</td>\n",
       "      <td>1172</td>\n",
       "      <td>1209</td>\n",
       "    </tr>\n",
       "    <tr>\n",
       "      <th>IN</th>\n",
       "      <td>43</td>\n",
       "      <td>52</td>\n",
       "      <td>52</td>\n",
       "    </tr>\n",
       "  </tbody>\n",
       "</table>\n",
       "</div>"
      ],
      "text/plain": [
       "             SCREENING_DISP_CODE  CHARGE_CLASS  LEAD_CHARGE_CODE\n",
       "CHARGE_TYPE                                                     \n",
       "AR                        143853        144274            146112\n",
       "IF                          1084          1172              1209\n",
       "IN                            43            52                52"
      ]
     },
     "execution_count": 33,
     "metadata": {},
     "output_type": "execute_result"
    }
   ],
   "source": [
    "data.groupby(['CHARGE_TYPE']).count()"
   ]
  },
  {
   "cell_type": "code",
   "execution_count": 34,
   "metadata": {
    "collapsed": false
   },
   "outputs": [
    {
     "data": {
      "text/plain": [
       "749"
      ]
     },
     "execution_count": 34,
     "metadata": {},
     "output_type": "execute_result"
    }
   ],
   "source": [
    "data['LEAD_CHARGE_CODE'].unique().size"
   ]
  },
  {
   "cell_type": "code",
   "execution_count": 35,
   "metadata": {
    "collapsed": false
   },
   "outputs": [
    {
     "name": "stdout",
     "output_type": "stream",
     "text": [
      "143120 rows\n"
     ]
    }
   ],
   "source": [
    "#Drop rows with missing values\n",
    "data.dropna(axis=0, how='any', thresh=None, subset=None, inplace=True)\n",
    "print('%s rows' %(data.shape[0]))\n",
    "\n"
   ]
  },
  {
   "cell_type": "code",
   "execution_count": 36,
   "metadata": {
    "collapsed": false
   },
   "outputs": [
    {
     "data": {
      "text/html": [
       "<div>\n",
       "<table border=\"1\" class=\"dataframe\">\n",
       "  <thead>\n",
       "    <tr style=\"text-align: right;\">\n",
       "      <th></th>\n",
       "      <th>CHARGE_CLASS</th>\n",
       "      <th>CHARGE_TYPE</th>\n",
       "      <th>LEAD_CHARGE_CODE</th>\n",
       "    </tr>\n",
       "    <tr>\n",
       "      <th>SCREENING_DISP_CODE</th>\n",
       "      <th></th>\n",
       "      <th></th>\n",
       "      <th></th>\n",
       "    </tr>\n",
       "  </thead>\n",
       "  <tbody>\n",
       "    <tr>\n",
       "      <th>140.0</th>\n",
       "      <td>2</td>\n",
       "      <td>2</td>\n",
       "      <td>2</td>\n",
       "    </tr>\n",
       "    <tr>\n",
       "      <th>160.0</th>\n",
       "      <td>1</td>\n",
       "      <td>1</td>\n",
       "      <td>1</td>\n",
       "    </tr>\n",
       "    <tr>\n",
       "      <th>230.0</th>\n",
       "      <td>20563</td>\n",
       "      <td>20563</td>\n",
       "      <td>20563</td>\n",
       "    </tr>\n",
       "    <tr>\n",
       "      <th>240.0</th>\n",
       "      <td>88809</td>\n",
       "      <td>88809</td>\n",
       "      <td>88809</td>\n",
       "    </tr>\n",
       "    <tr>\n",
       "      <th>250.0</th>\n",
       "      <td>117</td>\n",
       "      <td>117</td>\n",
       "      <td>117</td>\n",
       "    </tr>\n",
       "    <tr>\n",
       "      <th>260.0</th>\n",
       "      <td>33625</td>\n",
       "      <td>33625</td>\n",
       "      <td>33625</td>\n",
       "    </tr>\n",
       "    <tr>\n",
       "      <th>280.0</th>\n",
       "      <td>2</td>\n",
       "      <td>2</td>\n",
       "      <td>2</td>\n",
       "    </tr>\n",
       "    <tr>\n",
       "      <th>310.0</th>\n",
       "      <td>1</td>\n",
       "      <td>1</td>\n",
       "      <td>1</td>\n",
       "    </tr>\n",
       "  </tbody>\n",
       "</table>\n",
       "</div>"
      ],
      "text/plain": [
       "                     CHARGE_CLASS  CHARGE_TYPE  LEAD_CHARGE_CODE\n",
       "SCREENING_DISP_CODE                                             \n",
       "140.0                           2            2                 2\n",
       "160.0                           1            1                 1\n",
       "230.0                       20563        20563             20563\n",
       "240.0                       88809        88809             88809\n",
       "250.0                         117          117               117\n",
       "260.0                       33625        33625             33625\n",
       "280.0                           2            2                 2\n",
       "310.0                           1            1                 1"
      ]
     },
     "execution_count": 36,
     "metadata": {},
     "output_type": "execute_result"
    }
   ],
   "source": [
    "data.groupby(['SCREENING_DISP_CODE']).count()"
   ]
  },
  {
   "cell_type": "code",
   "execution_count": 37,
   "metadata": {
    "collapsed": false
   },
   "outputs": [
    {
     "data": {
      "text/html": [
       "<div>\n",
       "<table border=\"1\" class=\"dataframe\">\n",
       "  <thead>\n",
       "    <tr style=\"text-align: right;\">\n",
       "      <th></th>\n",
       "      <th>SCREENING_DISP_CODE</th>\n",
       "      <th>CHARGE_CLASS</th>\n",
       "      <th>CHARGE_TYPE</th>\n",
       "      <th>LEAD_CHARGE_CODE</th>\n",
       "    </tr>\n",
       "    <tr>\n",
       "      <th>y</th>\n",
       "      <th></th>\n",
       "      <th></th>\n",
       "      <th></th>\n",
       "      <th></th>\n",
       "    </tr>\n",
       "  </thead>\n",
       "  <tbody>\n",
       "    <tr>\n",
       "      <th>0</th>\n",
       "      <td>122557</td>\n",
       "      <td>122557</td>\n",
       "      <td>122557</td>\n",
       "      <td>122557</td>\n",
       "    </tr>\n",
       "    <tr>\n",
       "      <th>1</th>\n",
       "      <td>20563</td>\n",
       "      <td>20563</td>\n",
       "      <td>20563</td>\n",
       "      <td>20563</td>\n",
       "    </tr>\n",
       "  </tbody>\n",
       "</table>\n",
       "</div>"
      ],
      "text/plain": [
       "   SCREENING_DISP_CODE  CHARGE_CLASS  CHARGE_TYPE  LEAD_CHARGE_CODE\n",
       "y                                                                  \n",
       "0               122557        122557       122557            122557\n",
       "1                20563         20563        20563             20563"
      ]
     },
     "execution_count": 37,
     "metadata": {},
     "output_type": "execute_result"
    }
   ],
   "source": [
    "'''\n",
    "create labels\n",
    "SCREENING_DISP_CODE = 230 > accepted, all other > not accepted\n",
    "accepted coded as 1\n",
    "'''\n",
    "\n",
    "data['y']=np.where(data['SCREENING_DISP_CODE']==230,1,0)\n",
    "data.groupby(['y']).count()"
   ]
  },
  {
   "cell_type": "code",
   "execution_count": 38,
   "metadata": {
    "collapsed": false
   },
   "outputs": [],
   "source": [
    "'''\n",
    "create features using one hot encoding\n",
    "'''\n",
    "\n",
    "# first convert into integer values. one hot enconding only takes int input\n",
    "l_enc = LabelEncoder()\n",
    "\n",
    "col1 = l_enc.fit_transform(data['CHARGE_CLASS'])\n",
    "col2 = l_enc.fit_transform(data['CHARGE_TYPE'])\n",
    "col3 = l_enc.fit_transform(data['LEAD_CHARGE_CODE'])\n",
    "\n",
    "X = np.column_stack((col1,col2,col3))\n",
    "\n",
    "#one hot encoding\n",
    "enc = OneHotEncoder()\n",
    "X_enc = enc.fit_transform(X)"
   ]
  },
  {
   "cell_type": "code",
   "execution_count": 39,
   "metadata": {
    "collapsed": false
   },
   "outputs": [],
   "source": [
    "'''\n",
    "split into training and val\n",
    "DO WE NEED TO ADD TEST SET AS WELL? \n",
    "right now no test set because we don't care about generalization of baseline model\n",
    "\n",
    "Split randomly right now, does not take year into account\n",
    "'''\n",
    "\n",
    "y = data['y']\n",
    "\n",
    "X_train, X_test, y_train, y_test = train_test_split(X_enc, y, test_size=0.2)"
   ]
  },
  {
   "cell_type": "code",
   "execution_count": 40,
   "metadata": {
    "collapsed": false
   },
   "outputs": [],
   "source": [
    "#convert to dense array, decision tree only takes dense array input\n",
    "X_train = X_train.toarray()\n",
    "X_test = X_test.toarray()"
   ]
  },
  {
   "cell_type": "code",
   "execution_count": 41,
   "metadata": {
    "collapsed": false
   },
   "outputs": [],
   "source": [
    "'''\n",
    "Decision tree with entropy criterion\n",
    "'''\n",
    "\n",
    "dt = DecisionTreeClassifier(criterion='entropy')\n",
    "dt = dt.fit(X_train,y_train)\n",
    "\n",
    "pred_train = dt.predict(X_train)\n",
    "pred_test = dt.predict(X_test)\n"
   ]
  },
  {
   "cell_type": "code",
   "execution_count": 42,
   "metadata": {
    "collapsed": false
   },
   "outputs": [
    {
     "name": "stdout",
     "output_type": "stream",
     "text": [
      "Accuracy on Training Dataset: 0.8658730435997765\n",
      "Accuracy on Test Dataset: 0.862178591391839\n"
     ]
    }
   ],
   "source": [
    "#accuracy\n",
    "\n",
    "accu_train = sklearn.metrics.accuracy_score(y_train,pred_train)\n",
    "accu_test = sklearn.metrics.accuracy_score(y_test,pred_test)\n",
    "\n",
    "print(\"Accuracy on Training Dataset: {}\".format(accu_train))\n",
    "print(\"Accuracy on Test Dataset: {}\".format(accu_test))"
   ]
  },
  {
   "cell_type": "code",
   "execution_count": 43,
   "metadata": {
    "collapsed": false
   },
   "outputs": [
    {
     "name": "stdout",
     "output_type": "stream",
     "text": [
      "Precision: 0.7184684684684685\n",
      "Recall: 0.07707175646291375\n"
     ]
    }
   ],
   "source": [
    "precision = sklearn.metrics.precision_score(y_test,pred_test)\n",
    "recall = sklearn.metrics.recall_score(y_test,pred_test)\n",
    "\n",
    "print(\"Precision: {}\".format(precision))\n",
    "print(\"Recall: {}\".format(recall))"
   ]
  },
  {
   "cell_type": "code",
   "execution_count": 44,
   "metadata": {
    "collapsed": false
   },
   "outputs": [
    {
     "data": {
      "text/plain": [
       "array([[24360,   125],\n",
       "       [ 3820,   319]])"
      ]
     },
     "execution_count": 44,
     "metadata": {},
     "output_type": "execute_result"
    }
   ],
   "source": [
    "#confusion matrix for test set\n",
    "cm = sklearn.metrics.confusion_matrix(y_test,pred_test)\n",
    "cm"
   ]
  },
  {
   "cell_type": "code",
   "execution_count": null,
   "metadata": {
    "collapsed": true
   },
   "outputs": [],
   "source": []
  }
 ],
 "metadata": {
  "anaconda-cloud": {},
  "kernelspec": {
   "display_name": "Python 3",
   "language": "python",
   "name": "python3"
  },
  "language_info": {
   "codemirror_mode": {
    "name": "ipython",
    "version": 3
   },
   "file_extension": ".py",
   "mimetype": "text/x-python",
   "name": "python",
   "nbconvert_exporter": "python",
   "pygments_lexer": "ipython3",
   "version": "3.6.0"
  }
 },
 "nbformat": 4,
 "nbformat_minor": 0
}
