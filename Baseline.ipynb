{
 "cells": [
  {
   "cell_type": "code",
   "execution_count": 209,
   "metadata": {
    "collapsed": false
   },
   "outputs": [],
   "source": [
    "import numpy as np\n",
    "import pandas as pd\n",
    "from sklearn.preprocessing import OneHotEncoder, LabelEncoder\n",
    "#newer versions of scikit learn need to import from model_selection\n",
    "from sklearn.cross_validation import train_test_split\n",
    "from sklearn.tree import DecisionTreeClassifier\n",
    "from sklearn.feature_extraction import DictVectorizer\n",
    "import sklearn as sklearn"
   ]
  },
  {
   "cell_type": "code",
   "execution_count": 210,
   "metadata": {
    "collapsed": true
   },
   "outputs": [],
   "source": [
    "data_simple = pd.read_csv('data_simple.csv', encoding = \"ISO-8859-1\", low_memory=False, index_col=0)"
   ]
  },
  {
   "cell_type": "code",
   "execution_count": 211,
   "metadata": {
    "collapsed": false
   },
   "outputs": [],
   "source": [
    "#did not use charge_cat because only 50,555 non missing values.\n",
    "data = data_simple[['SCREENING_DISP_CODE','CHARGE_CLASS','CHARGE_TYPE','LEAD_CHARGE_CODE']].copy()"
   ]
  },
  {
   "cell_type": "code",
   "execution_count": 212,
   "metadata": {
    "collapsed": false
   },
   "outputs": [
    {
     "data": {
      "text/plain": [
       "SCREENING_DISP_CODE    244779\n",
       "CHARGE_CLASS           148545\n",
       "CHARGE_TYPE            150448\n",
       "LEAD_CHARGE_CODE       150453\n",
       "dtype: int64"
      ]
     },
     "execution_count": 212,
     "metadata": {},
     "output_type": "execute_result"
    }
   ],
   "source": [
    "data.count()"
   ]
  },
  {
   "cell_type": "code",
   "execution_count": 213,
   "metadata": {
    "collapsed": false
   },
   "outputs": [
    {
     "data": {
      "text/plain": [
       "SCREENING_DISP_CODE\n",
       "17                          1\n",
       "30                          2\n",
       "50                         14\n",
       "60                          3\n",
       "120                         1\n",
       "130                         2\n",
       "140                         3\n",
       "150                         1\n",
       "160                         9\n",
       "230                    109650\n",
       "240                    100008\n",
       "250                       161\n",
       "260                     34912\n",
       "280                         8\n",
       "310                         1\n",
       "320                         1\n",
       "560                         2\n",
       "Name: SCREENING_DISP_CODE, dtype: int64"
      ]
     },
     "execution_count": 213,
     "metadata": {},
     "output_type": "execute_result"
    }
   ],
   "source": [
    "data.groupby(['SCREENING_DISP_CODE'])['SCREENING_DISP_CODE'].count()"
   ]
  },
  {
   "cell_type": "code",
   "execution_count": 214,
   "metadata": {
    "collapsed": false
   },
   "outputs": [
    {
     "data": {
      "text/html": [
       "<div style=\"max-height:1000px;max-width:1500px;overflow:auto;\">\n",
       "<table border=\"1\" class=\"dataframe\">\n",
       "  <thead>\n",
       "    <tr style=\"text-align: right;\">\n",
       "      <th></th>\n",
       "      <th>SCREENING_DISP_CODE</th>\n",
       "      <th>CHARGE_TYPE</th>\n",
       "      <th>LEAD_CHARGE_CODE</th>\n",
       "    </tr>\n",
       "    <tr>\n",
       "      <th>CHARGE_CLASS</th>\n",
       "      <th></th>\n",
       "      <th></th>\n",
       "      <th></th>\n",
       "    </tr>\n",
       "  </thead>\n",
       "  <tbody>\n",
       "    <tr>\n",
       "      <th>1</th>\n",
       "      <td>   996</td>\n",
       "      <td>  1016</td>\n",
       "      <td>  1016</td>\n",
       "    </tr>\n",
       "    <tr>\n",
       "      <th>2</th>\n",
       "      <td> 22710</td>\n",
       "      <td> 23051</td>\n",
       "      <td> 23053</td>\n",
       "    </tr>\n",
       "    <tr>\n",
       "      <th>3</th>\n",
       "      <td> 59445</td>\n",
       "      <td> 60736</td>\n",
       "      <td> 60737</td>\n",
       "    </tr>\n",
       "    <tr>\n",
       "      <th>4</th>\n",
       "      <td> 57690</td>\n",
       "      <td> 58637</td>\n",
       "      <td> 58637</td>\n",
       "    </tr>\n",
       "    <tr>\n",
       "      <th>5</th>\n",
       "      <td>    27</td>\n",
       "      <td>    31</td>\n",
       "      <td>    31</td>\n",
       "    </tr>\n",
       "    <tr>\n",
       "      <th>6</th>\n",
       "      <td>  4981</td>\n",
       "      <td>  5054</td>\n",
       "      <td>  5055</td>\n",
       "    </tr>\n",
       "    <tr>\n",
       "      <th>7</th>\n",
       "      <td>    15</td>\n",
       "      <td>    15</td>\n",
       "      <td>    15</td>\n",
       "    </tr>\n",
       "    <tr>\n",
       "      <th>8</th>\n",
       "      <td>     1</td>\n",
       "      <td>     1</td>\n",
       "      <td>     1</td>\n",
       "    </tr>\n",
       "  </tbody>\n",
       "</table>\n",
       "</div>"
      ],
      "text/plain": [
       "              SCREENING_DISP_CODE  CHARGE_TYPE  LEAD_CHARGE_CODE\n",
       "CHARGE_CLASS                                                    \n",
       "1                             996         1016              1016\n",
       "2                           22710        23051             23053\n",
       "3                           59445        60736             60737\n",
       "4                           57690        58637             58637\n",
       "5                              27           31                31\n",
       "6                            4981         5054              5055\n",
       "7                              15           15                15\n",
       "8                               1            1                 1"
      ]
     },
     "execution_count": 214,
     "metadata": {},
     "output_type": "execute_result"
    }
   ],
   "source": [
    "data.groupby(['CHARGE_CLASS']).count()"
   ]
  },
  {
   "cell_type": "code",
   "execution_count": 215,
   "metadata": {
    "collapsed": false
   },
   "outputs": [
    {
     "data": {
      "text/html": [
       "<div style=\"max-height:1000px;max-width:1500px;overflow:auto;\">\n",
       "<table border=\"1\" class=\"dataframe\">\n",
       "  <thead>\n",
       "    <tr style=\"text-align: right;\">\n",
       "      <th></th>\n",
       "      <th>SCREENING_DISP_CODE</th>\n",
       "      <th>CHARGE_CLASS</th>\n",
       "      <th>LEAD_CHARGE_CODE</th>\n",
       "    </tr>\n",
       "    <tr>\n",
       "      <th>CHARGE_TYPE</th>\n",
       "      <th></th>\n",
       "      <th></th>\n",
       "      <th></th>\n",
       "    </tr>\n",
       "  </thead>\n",
       "  <tbody>\n",
       "    <tr>\n",
       "      <th>AR</th>\n",
       "      <td> 146299</td>\n",
       "      <td> 146747</td>\n",
       "      <td> 148605</td>\n",
       "    </tr>\n",
       "    <tr>\n",
       "      <th>IF</th>\n",
       "      <td>   1396</td>\n",
       "      <td>   1730</td>\n",
       "      <td>   1779</td>\n",
       "    </tr>\n",
       "    <tr>\n",
       "      <th>IN</th>\n",
       "      <td>     47</td>\n",
       "      <td>     64</td>\n",
       "      <td>     64</td>\n",
       "    </tr>\n",
       "  </tbody>\n",
       "</table>\n",
       "</div>"
      ],
      "text/plain": [
       "             SCREENING_DISP_CODE  CHARGE_CLASS  LEAD_CHARGE_CODE\n",
       "CHARGE_TYPE                                                     \n",
       "AR                        146299        146747            148605\n",
       "IF                          1396          1730              1779\n",
       "IN                            47            64                64"
      ]
     },
     "execution_count": 215,
     "metadata": {},
     "output_type": "execute_result"
    }
   ],
   "source": [
    "data.groupby(['CHARGE_TYPE']).count()"
   ]
  },
  {
   "cell_type": "code",
   "execution_count": 216,
   "metadata": {
    "collapsed": false
   },
   "outputs": [
    {
     "data": {
      "text/plain": [
       "796"
      ]
     },
     "execution_count": 216,
     "metadata": {},
     "output_type": "execute_result"
    }
   ],
   "source": [
    "data['LEAD_CHARGE_CODE'].unique().size"
   ]
  },
  {
   "cell_type": "code",
   "execution_count": 217,
   "metadata": {
    "collapsed": false
   },
   "outputs": [
    {
     "name": "stdout",
     "output_type": "stream",
     "text": [
      "145862 rows\n"
     ]
    }
   ],
   "source": [
    "#Drop rows with missing values\n",
    "data.dropna(axis=0, how='any', thresh=None, subset=None, inplace=True)\n",
    "print('%s rows' %(data.shape[0]))"
   ]
  },
  {
   "cell_type": "code",
   "execution_count": 218,
   "metadata": {
    "collapsed": false
   },
   "outputs": [],
   "source": [
    "'''\n",
    "create labels\n",
    "SCREENING_DISP_CODE = 230 > accepted, all other > not accepted\n",
    "accepted coded as 1\n",
    "'''\n",
    "\n",
    "data['y']=np.where(data['SCREENING_DISP_CODE']==230,1,0)\n",
    "#data.groupby(['SCREENING_DISP_CODE'])['y'].sum()"
   ]
  },
  {
   "cell_type": "code",
   "execution_count": 219,
   "metadata": {
    "collapsed": false
   },
   "outputs": [],
   "source": [
    "'''\n",
    "create features using one hot encoding\n",
    "'''\n",
    "\n",
    "# first convert into integer values. one hot enconding only takes int input\n",
    "l_enc = LabelEncoder()\n",
    "\n",
    "col1 = l_enc.fit_transform(data['CHARGE_CLASS'])\n",
    "col2 = l_enc.fit_transform(data['CHARGE_TYPE'])\n",
    "col3 = l_enc.fit_transform(data['LEAD_CHARGE_CODE'])\n",
    "\n",
    "X = np.column_stack((col1,col2,col3))\n",
    "\n",
    "#one hot encoding\n",
    "enc = OneHotEncoder()\n",
    "X_enc = enc.fit_transform(X)"
   ]
  },
  {
   "cell_type": "code",
   "execution_count": 220,
   "metadata": {
    "collapsed": false
   },
   "outputs": [],
   "source": [
    "'''\n",
    "split into training and val\n",
    "DO WE NEED TO ADD TEST SET AS WELL? \n",
    "right now no test set because we don't care about generalization of baseline model\n",
    "\n",
    "Split randomly right now, does not take year into account\n",
    "'''\n",
    "\n",
    "y = data['y']\n",
    "\n",
    "X_train, X_test, y_train, y_test = train_test_split(X_enc, y, test_size=0.2)"
   ]
  },
  {
   "cell_type": "code",
   "execution_count": 221,
   "metadata": {
    "collapsed": false
   },
   "outputs": [],
   "source": [
    "#convert to dense array, decision tree only takes dense array input\n",
    "X_train = X_train.toarray()\n",
    "X_test = X_test.toarray()"
   ]
  },
  {
   "cell_type": "code",
   "execution_count": 222,
   "metadata": {
    "collapsed": false
   },
   "outputs": [],
   "source": [
    "'''\n",
    "Decision tree with entropy criterion\n",
    "'''\n",
    "\n",
    "dt = DecisionTreeClassifier(criterion='entropy')\n",
    "dt = dt.fit(X_train,y_train)\n",
    "\n",
    "pred_train = dt.predict(X_train)\n",
    "pred_test = dt.predict(X_test)\n"
   ]
  },
  {
   "cell_type": "code",
   "execution_count": 223,
   "metadata": {
    "collapsed": false
   },
   "outputs": [
    {
     "name": "stdout",
     "output_type": "stream",
     "text": [
      "Accuracy on Training Dataset: 0.862592018099\n",
      "Accuracy on Test Dataset: 0.860178932575\n"
     ]
    }
   ],
   "source": [
    "#accuracy\n",
    "\n",
    "accu_train = sklearn.metrics.accuracy_score(y_train,pred_train)\n",
    "accu_test = sklearn.metrics.accuracy_score(y_test,pred_test)\n",
    "\n",
    "print(\"Accuracy on Training Dataset: {}\".format(accu_train))\n",
    "print(\"Accuracy on Test Dataset: {}\".format(accu_test))"
   ]
  },
  {
   "cell_type": "code",
   "execution_count": 224,
   "metadata": {
    "collapsed": false
   },
   "outputs": [
    {
     "name": "stdout",
     "output_type": "stream",
     "text": [
      "Precision: 0.78293135436\n",
      "Recall: 0.0962591240876\n"
     ]
    }
   ],
   "source": [
    "precision = sklearn.metrics.precision_score(y_test,pred_test)\n",
    "recall = sklearn.metrics.recall_score(y_test,pred_test)\n",
    "\n",
    "print(\"Precision: {}\".format(precision))\n",
    "print(\"Recall: {}\".format(recall))"
   ]
  },
  {
   "cell_type": "code",
   "execution_count": 225,
   "metadata": {
    "collapsed": false
   },
   "outputs": [
    {
     "data": {
      "text/plain": [
       "array([[24672,   117],\n",
       "       [ 3962,   422]])"
      ]
     },
     "execution_count": 225,
     "metadata": {},
     "output_type": "execute_result"
    }
   ],
   "source": [
    "#confusion matrix for test set\n",
    "cm = sklearn.metrics.confusion_matrix(y_test,pred_test)\n",
    "cm"
   ]
  },
  {
   "cell_type": "code",
   "execution_count": null,
   "metadata": {
    "collapsed": true
   },
   "outputs": [],
   "source": []
  }
 ],
 "metadata": {
  "anaconda-cloud": {},
  "kernelspec": {
   "display_name": "Python 2",
   "language": "python",
   "name": "python2"
  },
  "language_info": {
   "codemirror_mode": {
    "name": "ipython",
    "version": 2
   },
   "file_extension": ".py",
   "mimetype": "text/x-python",
   "name": "python",
   "nbconvert_exporter": "python",
   "pygments_lexer": "ipython2",
   "version": "2.7.9"
  }
 },
 "nbformat": 4,
 "nbformat_minor": 0
}
