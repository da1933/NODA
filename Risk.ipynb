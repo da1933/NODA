{
 "cells": [
  {
   "cell_type": "code",
   "execution_count": 286,
   "metadata": {
    "collapsed": true
   },
   "outputs": [],
   "source": [
    "import numpy as np\n",
    "import pandas as pd\n",
    "import matplotlib.pyplot as plt\n",
    "import project_env as pe\n",
    "import sklearn as sklearn\n",
    "from scipy import stats\n",
    "%matplotlib inline"
   ]
  },
  {
   "cell_type": "markdown",
   "metadata": {},
   "source": [
    "# IMPORT DATA"
   ]
  },
  {
   "cell_type": "code",
   "execution_count": 317,
   "metadata": {
    "collapsed": false
   },
   "outputs": [],
   "source": [
    "val_risk = pd.read_csv('results/val_risk.csv', encoding = \"ISO-8859-1\", low_memory=False, index_col=0)\n",
    "rearrest_rates = pd.read_csv('results/rearrest_rates.csv', encoding = \"ISO-8859-1\", low_memory=False, index_col=0)\n",
    "sada_not_charged = pd.read_csv('results/sada_not_charged.csv', encoding = \"ISO-8859-1\", low_memory=False, index_col=0)"
   ]
  },
  {
   "cell_type": "code",
   "execution_count": 318,
   "metadata": {
    "collapsed": false,
    "scrolled": true
   },
   "outputs": [],
   "source": [
    "#bring in ADA_CODE, year/month of decision, target variable\n",
    "data = pd.read_csv('data_processing/output/merged.csv', encoding = \"ISO-8859-1\", low_memory=False)\n",
    "data_simple = pd.read_csv('data_processing/output/data_simple.csv', encoding = \"ISO-8859-1\", low_memory=False)\n",
    "                          \n",
    "                          \n",
    "val_risk_merged = pd.merge(val_risk, \\\n",
    "                 data[['UNIQUE_ID','NEXT_ARREST_TIME','ARREST_DATE_y',\\\n",
    "                      'SCREENING_DISP_DATE_y','SCREENING_DISP_DATE_m']],\\\n",
    "                 on='UNIQUE_ID', \\\n",
    "                 how='left')\n",
    "val_risk_merged = pd.merge(val_risk_merged, \\\n",
    "                 data_simple[['UNIQUE_ID','ADA_CODE']],\\\n",
    "                 on='UNIQUE_ID', \\\n",
    "                 how='left')\n",
    "\n",
    "\n",
    "val_risk_merged['NEXT_ARREST_TIME'] = val_risk_merged['NEXT_ARREST_TIME'].apply(pd.to_numeric)"
   ]
  },
  {
   "cell_type": "code",
   "execution_count": 319,
   "metadata": {
    "collapsed": false
   },
   "outputs": [],
   "source": [
    "#Create target\n",
    "_temp, val_risk_merged['REARREST'] = pe.create_target(val_risk_merged,5)\n",
    "del _temp"
   ]
  },
  {
   "cell_type": "code",
   "execution_count": 320,
   "metadata": {
    "collapsed": false,
    "scrolled": true
   },
   "outputs": [],
   "source": [
    "#bring in screener info\n",
    "by_sada = pd.read_csv('results/by_sada.csv', encoding = \"ISO-8859-1\", low_memory=False)\n",
    "val_risk_merged = pd.merge(val_risk_merged, \\\n",
    "                 by_sada,\\\n",
    "                 on='ADA_CODE', \\\n",
    "                 how='left')"
   ]
  },
  {
   "cell_type": "code",
   "execution_count": 321,
   "metadata": {
    "collapsed": false
   },
   "outputs": [],
   "source": [
    "#drop if ADA_CODE is missing\n",
    "val_risk_merged = val_risk_merged.dropna(axis=0, subset = ['ADA_CODE'])"
   ]
  },
  {
   "cell_type": "markdown",
   "metadata": {},
   "source": [
    "# DISTRIBUTION OF RISK"
   ]
  },
  {
   "cell_type": "code",
   "execution_count": 322,
   "metadata": {
    "collapsed": false
   },
   "outputs": [],
   "source": [
    "def predicted_risk_dist(data, risk):\n",
    "    df = data[data['Risk']>=risk]\n",
    "    grouped = df.groupby('SCREENING_DISP_DATE_y')['SCREENING_DISP_DATE_y'].count()\n",
    "    plt.bar(grouped.index, grouped.values)\n",
    "    plt.xticks(grouped.index, grouped.index.map(str), rotation=45)\n",
    "    plt.title('Number of Arrestees with Risk > %s' %risk)\n",
    "    plt.ylabel('Screening Year')\n",
    "    plt.tight_layout()\n",
    "    plt.show()\n",
    "\n",
    "    return grouped"
   ]
  },
  {
   "cell_type": "code",
   "execution_count": 323,
   "metadata": {
    "collapsed": false
   },
   "outputs": [
    {
     "data": {
      "text/plain": [
       "Index(['BOFI_NBR', 'UNIQUE_ID', 'Risk', 'NEXT_ARREST_TIME', 'ARREST_DATE_y',\n",
       "       'SCREENING_DISP_DATE_y', 'SCREENING_DISP_DATE_m', 'ADA_CODE',\n",
       "       'REARREST', 'CHRG_ACCEPTED', 'CHRG_REJECTED', 'NBR_CASES', 'CHRG_RATE'],\n",
       "      dtype='object')"
      ]
     },
     "execution_count": 323,
     "metadata": {},
     "output_type": "execute_result"
    }
   ],
   "source": [
    "val_risk_merged.columns"
   ]
  },
  {
   "cell_type": "code",
   "execution_count": 324,
   "metadata": {
    "collapsed": false
   },
   "outputs": [
    {
     "data": {
      "image/png": "[encoded data removed]",
      "text/plain": [
       "<matplotlib.figure.Figure at 0x11481bb70>"
      ]
     },
     "metadata": {},
     "output_type": "display_data"
    }
   ],
   "source": [
    "grouped = predicted_risk_dist(val_risk_merged,.80)"
   ]
  },
  {
   "cell_type": "markdown",
   "metadata": {},
   "source": [
    "# REARREST RATES BY STRICT VS LENIENT"
   ]
  },
  {
   "cell_type": "code",
   "execution_count": 325,
   "metadata": {
    "collapsed": true
   },
   "outputs": [],
   "source": [
    "def get_rearrest_rate(sada_list, year):\n",
    "    '''\n",
    "    get rearrest rate for list of screeners\n",
    "    '''\n",
    "    data_trunc = sada_not_charged[(sada_not_charged['ARREST_DATE_y'] <= 1999 - year)]\n",
    "    data_trunc = data_trunc[data_trunc['ADA_CODE'].isin(sada_list)]\n",
    "    total = data_trunc['SCREENING_DISP_CODE'].count()\n",
    "    rearrest_cnt = data_trunc[(data_trunc['NEXT_ARREST_TIME'] >0)&(data_trunc['NEXT_ARREST_TIME'] <= year*365)]\\\n",
    "            ['SCREENING_DISP_CODE'].count()\n",
    "    rearrest_rate = rearrest_cnt/total\n",
    "    return rearrest_rate"
   ]
  },
  {
   "cell_type": "code",
   "execution_count": 326,
   "metadata": {
    "collapsed": false
   },
   "outputs": [],
   "source": [
    "len_rate_lower = .3\n",
    "len_rate_upper = .4\n",
    "strict_rate_lower = .4\n",
    "strict_rate_upper = .5\n",
    "lenient = val_risk_merged[(val_risk_merged['CHRG_RATE']>len_rate_lower)&\\\n",
    "                          (val_risk_merged['CHRG_RATE']<=len_rate_upper)].copy()\n",
    "strict = val_risk_merged[(val_risk_merged['CHRG_RATE']>strict_rate_lower)&\\\n",
    "                          (val_risk_merged['CHRG_RATE']<=strict_rate_upper)].copy()\n",
    "years = 5\n",
    "\n",
    "lenient.sort_values('Risk',ascending=False,inplace=True)"
   ]
  },
  {
   "cell_type": "code",
   "execution_count": 327,
   "metadata": {
    "collapsed": false
   },
   "outputs": [],
   "source": [
    "len_sada_list = lenient[['ADA_CODE','NBR_CASES','CHRG_ACCEPTED']].drop_duplicates()\n",
    "len_chrg_rate =  len_sada_list['CHRG_ACCEPTED'].sum()/len_sada_list['NBR_CASES'].sum()\n",
    "len_rearrest_rate = get_rearrest_rate(lenient['ADA_CODE'].unique(),years)\n",
    "\n",
    "strict_sada_list = strict[['ADA_CODE','NBR_CASES','CHRG_ACCEPTED']].drop_duplicates()\n",
    "strict_chrg_rate =  strict_sada_list['CHRG_ACCEPTED'].sum()/strict_sada_list['NBR_CASES'].sum()\n",
    "strict_rearrest_rate = get_rearrest_rate(strict['ADA_CODE'].unique(),years)\n"
   ]
  },
  {
   "cell_type": "code",
   "execution_count": 328,
   "metadata": {
    "collapsed": false,
    "scrolled": true
   },
   "outputs": [
    {
     "name": "stdout",
     "output_type": "stream",
     "text": [
      "An estimated 7747 total arrestees were seen by screeners with charge rate between 30% and 40% in the validation set.\n",
      "The weighted average charge rate for those screeners was 35% and 54% of those released were rearrested\n",
      "\n",
      "3580 total arrestees seen by screeners with charge rate between 40% and 50% in the validation set.\n",
      "The weighted average charge rate for those screeners was 43% and 53% of those released were rearrested\n",
      "\n",
      "565 additional arrestees need to be charged for the lenient screeners to have a charge rate of 43%.\n",
      "Out of the 565 predicted riskiest arrestees, 512 were rearrested, a rearrest rate of 90%.\n",
      "If those 565 were charged, the rearrest rate for the \"lenient screeners\" would be 48%.\n",
      "If those 565 were charged, the charge rate for the \"lenient screeners\" would be 43%.\n"
     ]
    }
   ],
   "source": [
    "tot_cases_len = int(lenient.shape[0]/(1-len_chrg_rate))\n",
    "\n",
    "print('An estimated %s total arrestees were seen by screeners with charge rate between %d%% and %d%% in the validation set.'\\\n",
    "      %(tot_cases_len,len_rate_lower*100,len_rate_upper*100))\n",
    "print('The weighted average charge rate for those screeners was %d%% and %d%% of those released were rearrested\\n'\\\n",
    "      %(len_chrg_rate*100,len_rearrest_rate*100))\n",
    "\n",
    "tot_cases_strict = int(strict.shape[0]/(1-strict_chrg_rate))\n",
    "\n",
    "print('%s total arrestees seen by screeners with charge rate between %d%% and %d%% in the validation set.'\\\n",
    "      %(tot_cases_strict,strict_rate_lower*100,strict_rate_upper*100))\n",
    "print('The weighted average charge rate for those screeners was %d%% and %d%% of those released were rearrested\\n'\\\n",
    "      %(strict_chrg_rate*100,strict_rearrest_rate*100))\n",
    "\n",
    "target_chrgs = int(tot_cases_len*(strict_chrg_rate-len_chrg_rate))\n",
    "marginal_rearrest_rate = lenient[:target_chrgs]['REARREST'].sum()/target_chrgs\n",
    "tot_rearrest_rate = (lenient['REARREST'].sum()-lenient[:target_chrgs]['REARREST'].sum())/\\\n",
    "                    (tot_cases_len*(1-len_chrg_rate)-target_chrgs)\n",
    "new_chrg_rate = (len_chrg_rate*tot_cases_len+target_chrgs)/tot_cases_len\n",
    "\n",
    "print('%s additional arrestees need to be charged for the lenient screeners to have a charge rate of %d%%.'\\\n",
    "      %(target_chrgs,strict_chrg_rate*100))\n",
    "print('Out of the %s predicted riskiest arrestees, %d were rearrested, a rearrest rate of %d%%.' \\\n",
    "      %(target_chrgs,marginal_rearrest_rate*target_chrgs,marginal_rearrest_rate*100))\n",
    "print('If those %s were charged, the rearrest rate for the \"lenient screeners\" would be %d%%.' \\\n",
    "      %(target_chrgs,tot_rearrest_rate*100))\n",
    "print('If those %s were charged, the charge rate for the \"lenient screeners\" would be %d%%.' \\\n",
    "      %(target_chrgs,new_chrg_rate*100))"
   ]
  },
  {
   "cell_type": "code",
   "execution_count": 329,
   "metadata": {
    "collapsed": true
   },
   "outputs": [],
   "source": [
    "def get_p_value(threshold, n=1000):\n",
    "    rearrest_rates = np.zeros(n)\n",
    "    for i in range(n):\n",
    "        lenient_rand = lenient.reindex(np.random.permutation(lenient.index))\n",
    "        rearrest_rates[i] = (lenient['REARREST'].sum()-lenient_rand[:target_chrgs]['REARREST'].sum())/\\\n",
    "                        (tot_cases_len*(1-len_chrg_rate)-target_chrgs)\n",
    "    p_value = len(rearrest_rates[rearrest_rates<=threshold])/n\n",
    "    return p_value, rearrest_rates"
   ]
  },
  {
   "cell_type": "code",
   "execution_count": 330,
   "metadata": {
    "collapsed": false
   },
   "outputs": [],
   "source": [
    "p_value, rearrest_rates_rand = get_p_value(.49, n=1000)"
   ]
  },
  {
   "cell_type": "code",
   "execution_count": 331,
   "metadata": {
    "collapsed": false
   },
   "outputs": [
    {
     "data": {
      "text/plain": [
       "0.0"
      ]
     },
     "execution_count": 331,
     "metadata": {},
     "output_type": "execute_result"
    }
   ],
   "source": [
    "p_value"
   ]
  },
  {
   "cell_type": "code",
   "execution_count": 332,
   "metadata": {
    "collapsed": false
   },
   "outputs": [
    {
     "data": {
      "text/plain": [
       "[<matplotlib.lines.Line2D at 0x116ceeda0>]"
      ]
     },
     "execution_count": 332,
     "metadata": {},
     "output_type": "execute_result"
    },
    {
     "data": {
      "image/png": "[encoded data removed]",
      "text/plain": [
       "<matplotlib.figure.Figure at 0x11998c2b0>"
      ]
     },
     "metadata": {},
     "output_type": "display_data"
    }
   ],
   "source": [
    "plt.plot(rearrest_rates_rand)"
   ]
  },
  {
   "cell_type": "markdown",
   "metadata": {},
   "source": [
    "# Distribution of Risk for strict vs lenient"
   ]
  },
  {
   "cell_type": "code",
   "execution_count": 342,
   "metadata": {
    "collapsed": true
   },
   "outputs": [],
   "source": [
    "#Assign quintiles of predicted risk\n",
    "val_risk_merged['q_risk'] = pd.qcut(val_risk_merged['Risk'],5,labels=False)\n",
    "val_risk_merged['q_chrg_rate'] = pd.qcut(val_risk_merged['CHRG_RATE'],5,labels=False)"
   ]
  },
  {
   "cell_type": "code",
   "execution_count": 511,
   "metadata": {
    "collapsed": false
   },
   "outputs": [],
   "source": [
    "avg_by_chrg_rate = val_risk_merged.groupby(['q_chrg_rate'])['CHRG_RATE','Risk'].mean()"
   ]
  },
  {
   "cell_type": "code",
   "execution_count": 512,
   "metadata": {
    "collapsed": false
   },
   "outputs": [
    {
     "data": {
      "text/html": [
       "<div>\n",
       "<table border=\"1\" class=\"dataframe\">\n",
       "  <thead>\n",
       "    <tr style=\"text-align: right;\">\n",
       "      <th></th>\n",
       "      <th>CHRG_RATE</th>\n",
       "      <th>Risk</th>\n",
       "    </tr>\n",
       "    <tr>\n",
       "      <th>q_chrg_rate</th>\n",
       "      <th></th>\n",
       "      <th></th>\n",
       "    </tr>\n",
       "  </thead>\n",
       "  <tbody>\n",
       "    <tr>\n",
       "      <th>0.0</th>\n",
       "      <td>0.222960</td>\n",
       "      <td>0.487485</td>\n",
       "    </tr>\n",
       "    <tr>\n",
       "      <th>1.0</th>\n",
       "      <td>0.350445</td>\n",
       "      <td>0.517943</td>\n",
       "    </tr>\n",
       "    <tr>\n",
       "      <th>2.0</th>\n",
       "      <td>0.389878</td>\n",
       "      <td>0.548238</td>\n",
       "    </tr>\n",
       "    <tr>\n",
       "      <th>3.0</th>\n",
       "      <td>0.440126</td>\n",
       "      <td>0.535199</td>\n",
       "    </tr>\n",
       "    <tr>\n",
       "      <th>4.0</th>\n",
       "      <td>0.578116</td>\n",
       "      <td>0.524417</td>\n",
       "    </tr>\n",
       "  </tbody>\n",
       "</table>\n",
       "</div>"
      ],
      "text/plain": [
       "             CHRG_RATE      Risk\n",
       "q_chrg_rate                     \n",
       "0.0           0.222960  0.487485\n",
       "1.0           0.350445  0.517943\n",
       "2.0           0.389878  0.548238\n",
       "3.0           0.440126  0.535199\n",
       "4.0           0.578116  0.524417"
      ]
     },
     "execution_count": 512,
     "metadata": {},
     "output_type": "execute_result"
    }
   ],
   "source": [
    "avg_by_chrg_rate"
   ]
  },
  {
   "cell_type": "code",
   "execution_count": 515,
   "metadata": {
    "collapsed": false
   },
   "outputs": [
    {
     "data": {
      "text/html": [
       "<div>\n",
       "<table border=\"1\" class=\"dataframe\">\n",
       "  <thead>\n",
       "    <tr style=\"text-align: right;\">\n",
       "      <th></th>\n",
       "      <th>Risk</th>\n",
       "      <th>CHRG_RATE</th>\n",
       "    </tr>\n",
       "    <tr>\n",
       "      <th>q_risk</th>\n",
       "      <th></th>\n",
       "      <th></th>\n",
       "    </tr>\n",
       "  </thead>\n",
       "  <tbody>\n",
       "    <tr>\n",
       "      <th>0</th>\n",
       "      <td>0.113809</td>\n",
       "      <td>0.354600</td>\n",
       "    </tr>\n",
       "    <tr>\n",
       "      <th>1</th>\n",
       "      <td>0.324872</td>\n",
       "      <td>0.392195</td>\n",
       "    </tr>\n",
       "    <tr>\n",
       "      <th>2</th>\n",
       "      <td>0.546389</td>\n",
       "      <td>0.406838</td>\n",
       "    </tr>\n",
       "    <tr>\n",
       "      <th>3</th>\n",
       "      <td>0.748822</td>\n",
       "      <td>0.411732</td>\n",
       "    </tr>\n",
       "    <tr>\n",
       "      <th>4</th>\n",
       "      <td>0.879700</td>\n",
       "      <td>0.374540</td>\n",
       "    </tr>\n",
       "  </tbody>\n",
       "</table>\n",
       "</div>"
      ],
      "text/plain": [
       "            Risk  CHRG_RATE\n",
       "q_risk                     \n",
       "0       0.113809   0.354600\n",
       "1       0.324872   0.392195\n",
       "2       0.546389   0.406838\n",
       "3       0.748822   0.411732\n",
       "4       0.879700   0.374540"
      ]
     },
     "execution_count": 515,
     "metadata": {},
     "output_type": "execute_result"
    }
   ],
   "source": [
    "avg_by_risk = val_risk_merged.groupby(['q_risk'])['Risk','CHRG_RATE'].mean()\n",
    "avg_by_risk"
   ]
  },
  {
   "cell_type": "code",
   "execution_count": 467,
   "metadata": {
    "collapsed": false
   },
   "outputs": [],
   "source": [
    "by_chrg_rate = val_risk_merged.groupby(['q_chrg_rate','q_risk'])['UNIQUE_ID'].count()\n",
    "by_chrg_rate = by_chrg_rate.reset_index()\n",
    "by_chrg_rate['tot_by_chrg_rate'] = by_chrg_rate.groupby('q_chrg_rate')['UNIQUE_ID'].transform('sum')\n",
    "by_chrg_rate['q_risk_share'] = by_chrg_rate['UNIQUE_ID']/by_chrg_rate['tot_by_chrg_rate']\n",
    "by_chrg_rate = by_chrg_rate.rename(columns={'UNIQUE_ID': 'count'})\n"
   ]
  },
  {
   "cell_type": "code",
   "execution_count": 487,
   "metadata": {
    "collapsed": false
   },
   "outputs": [],
   "source": [
    "plot_data = by_chrg_rate.pivot(index='q_chrg_rate', columns='q_risk', \\\n",
    "                               values='q_risk_share').reset_index().drop('q_chrg_rate',1)"
   ]
  },
  {
   "cell_type": "code",
   "execution_count": 502,
   "metadata": {
    "collapsed": false,
    "scrolled": false
   },
   "outputs": [
    {
     "data": {
      "image/png": "[encoded data removed]",
      "text/plain": [
       "<matplotlib.figure.Figure at 0x118aee240>"
      ]
     },
     "metadata": {},
     "output_type": "display_data"
    }
   ],
   "source": [
    "\n",
    "ind = np.arange(5)    # the x locations for the groups\n",
    "width = 0.55       # the width of the bars: can also be len(x) sequence\n",
    "\n",
    "p1 = plt.bar(ind, plot_data[0.0], width, align='center', color='g')\n",
    "p2 = plt.bar(ind, plot_data[1.0], width, align='center', bottom=plot_data[0.0], color='b')\n",
    "p3 = plt.bar(ind, plot_data[2.0], width, align='center', bottom=plot_data[1.0] +plot_data[0.0], color='y')\n",
    "p4 = plt.bar(ind, plot_data[3.0], width, align='center', bottom=plot_data[2.0] + plot_data[1.0] +plot_data[0.0], color='c')\n",
    "p5 = plt.bar(ind, plot_data[4.0], width, align='center', bottom=plot_data[3.0] + plot_data[2.0] + plot_data[1.0] +plot_data[0.0], color='r')\n",
    "\n",
    "plt.ylabel('% Share')\n",
    "plt.title('Composition of Released Arrestees by Screener Leniency')\n",
    "plt.xticks(ind, ('Q1', 'Q2','Q3','Q4','Q5'))\n",
    "plt.xlabel('Charge Rate Quintiles')\n",
    "plt.legend((p1[0], p2[0],p3[0],p4[0],p5[0]), ('Q1', 'Q2','Q3','Q4','Q5'),title='Quintiles of Predicted Risk',\\\n",
    "           bbox_to_anchor=(1.01, 1), loc=2, ncol=1)\n",
    "\n",
    "plt.show()\n"
   ]
  },
  {
   "cell_type": "code",
   "execution_count": 475,
   "metadata": {
    "collapsed": false
   },
   "outputs": [
    {
     "data": {
      "image/png": "[encoded data removed]",
      "text/plain": [
       "<matplotlib.figure.Figure at 0x11ad35f98>"
      ]
     },
     "metadata": {},
     "output_type": "display_data"
    }
   ],
   "source": [
    "N = 5\n",
    "menMeans = (20, 35, 30, 35, 27)\n",
    "womenMeans = (25, 32, 34, 20, 25)\n",
    "menStd = (2, 3, 4, 1, 2)\n",
    "womenStd = (3, 5, 2, 3, 3)\n",
    "ind = np.arange(N)    # the x locations for the groups\n",
    "width = 0.35       # the width of the bars: can also be len(x) sequence\n",
    "\n",
    "p1 = plt.bar(ind, menMeans, width, color='#d62728', yerr=menStd)\n",
    "p2 = plt.bar(ind, womenMeans, width,\n",
    "             bottom=menMeans, yerr=womenStd)\n",
    "\n",
    "plt.ylabel('Scores')\n",
    "plt.title('Scores by group and gender')\n",
    "plt.xticks(ind, ('G1', 'G2', 'G3', 'G4', 'G5'))\n",
    "plt.yticks(np.arange(0, 81, 10))\n",
    "plt.legend((p1[0], p2[0]), ('Men', 'Women'))\n",
    "\n",
    "plt.show()"
   ]
  },
  {
   "cell_type": "code",
   "execution_count": 382,
   "metadata": {
    "collapsed": false
   },
   "outputs": [
    {
     "data": {
      "text/plain": [
       "array([ 0.2611336 ,  0.19736842,  0.1902834 ,  0.13815789,  0.21305668,\n",
       "        0.23235294,  0.19852941,  0.12352941,  0.22794118,  0.21764706,\n",
       "        0.16018307,  0.20938215,  0.21453089,  0.17734554,  0.23855835,\n",
       "        0.17835366,  0.18648374,  0.2195122 ,  0.23373984,  0.18191057,\n",
       "        0.1574904 ,  0.20934699,  0.27528809,  0.22983355,  0.12804097])"
      ]
     },
     "execution_count": 382,
     "metadata": {},
     "output_type": "execute_result"
    }
   ],
   "source": [
    "by_chrg_rate = val_risk_merged.groupby(['q_chrg_rate','q_risk'])['UNIQUE_ID'].count()\n",
    "by_chrg_rate.groupby(level=[0]).apply(lambda x: x / x.sum()).values"
   ]
  },
  {
   "cell_type": "markdown",
   "metadata": {},
   "source": [
    "# Rearrest Rates by Predicted Risk"
   ]
  },
  {
   "cell_type": "code",
   "execution_count": 335,
   "metadata": {
    "collapsed": false
   },
   "outputs": [
    {
     "data": {
      "text/html": [
       "<div>\n",
       "<table border=\"1\" class=\"dataframe\">\n",
       "  <thead>\n",
       "    <tr style=\"text-align: right;\">\n",
       "      <th></th>\n",
       "      <th>BOFI_NBR</th>\n",
       "      <th>UNIQUE_ID</th>\n",
       "      <th>Risk</th>\n",
       "      <th>NEXT_ARREST_TIME</th>\n",
       "      <th>ARREST_DATE_y</th>\n",
       "      <th>SCREENING_DISP_DATE_y</th>\n",
       "      <th>SCREENING_DISP_DATE_m</th>\n",
       "      <th>ADA_CODE</th>\n",
       "      <th>REARREST</th>\n",
       "      <th>CHRG_ACCEPTED</th>\n",
       "      <th>CHRG_REJECTED</th>\n",
       "      <th>NBR_CASES</th>\n",
       "      <th>CHRG_RATE</th>\n",
       "      <th>q_risk</th>\n",
       "      <th>q_chrg_rate</th>\n",
       "    </tr>\n",
       "  </thead>\n",
       "  <tbody>\n",
       "    <tr>\n",
       "      <th>1</th>\n",
       "      <td>325011</td>\n",
       "      <td>127976</td>\n",
       "      <td>0.070880</td>\n",
       "      <td>0</td>\n",
       "      <td>1992.0</td>\n",
       "      <td>1992.0</td>\n",
       "      <td>3.0</td>\n",
       "      <td>PMOR</td>\n",
       "      <td>0</td>\n",
       "      <td>522.0</td>\n",
       "      <td>716.0</td>\n",
       "      <td>1238.0</td>\n",
       "      <td>0.421648</td>\n",
       "      <td>0</td>\n",
       "      <td>3.0</td>\n",
       "    </tr>\n",
       "    <tr>\n",
       "      <th>3</th>\n",
       "      <td>306688</td>\n",
       "      <td>63012</td>\n",
       "      <td>0.940634</td>\n",
       "      <td>137</td>\n",
       "      <td>1990.0</td>\n",
       "      <td>1991.0</td>\n",
       "      <td>11.0</td>\n",
       "      <td>CKEM</td>\n",
       "      <td>1</td>\n",
       "      <td>1726.0</td>\n",
       "      <td>3523.0</td>\n",
       "      <td>5249.0</td>\n",
       "      <td>0.328825</td>\n",
       "      <td>4</td>\n",
       "      <td>0.0</td>\n",
       "    </tr>\n",
       "    <tr>\n",
       "      <th>4</th>\n",
       "      <td>310664</td>\n",
       "      <td>81452</td>\n",
       "      <td>0.372344</td>\n",
       "      <td>409</td>\n",
       "      <td>1991.0</td>\n",
       "      <td>1991.0</td>\n",
       "      <td>3.0</td>\n",
       "      <td>JHAN</td>\n",
       "      <td>1</td>\n",
       "      <td>222.0</td>\n",
       "      <td>311.0</td>\n",
       "      <td>533.0</td>\n",
       "      <td>0.416510</td>\n",
       "      <td>1</td>\n",
       "      <td>3.0</td>\n",
       "    </tr>\n",
       "    <tr>\n",
       "      <th>6</th>\n",
       "      <td>188857</td>\n",
       "      <td>81615</td>\n",
       "      <td>0.421166</td>\n",
       "      <td>1</td>\n",
       "      <td>1993.0</td>\n",
       "      <td>1993.0</td>\n",
       "      <td>6.0</td>\n",
       "      <td>JLUC</td>\n",
       "      <td>1</td>\n",
       "      <td>4434.0</td>\n",
       "      <td>3610.0</td>\n",
       "      <td>8044.0</td>\n",
       "      <td>0.551218</td>\n",
       "      <td>1</td>\n",
       "      <td>4.0</td>\n",
       "    </tr>\n",
       "    <tr>\n",
       "      <th>7</th>\n",
       "      <td>317574</td>\n",
       "      <td>105477</td>\n",
       "      <td>0.303787</td>\n",
       "      <td>545</td>\n",
       "      <td>1993.0</td>\n",
       "      <td>1993.0</td>\n",
       "      <td>4.0</td>\n",
       "      <td>DLIL</td>\n",
       "      <td>1</td>\n",
       "      <td>569.0</td>\n",
       "      <td>939.0</td>\n",
       "      <td>1508.0</td>\n",
       "      <td>0.377321</td>\n",
       "      <td>1</td>\n",
       "      <td>2.0</td>\n",
       "    </tr>\n",
       "  </tbody>\n",
       "</table>\n",
       "</div>"
      ],
      "text/plain": [
       "  BOFI_NBR  UNIQUE_ID      Risk  NEXT_ARREST_TIME  ARREST_DATE_y  \\\n",
       "1   325011     127976  0.070880                 0         1992.0   \n",
       "3   306688      63012  0.940634               137         1990.0   \n",
       "4   310664      81452  0.372344               409         1991.0   \n",
       "6   188857      81615  0.421166                 1         1993.0   \n",
       "7   317574     105477  0.303787               545         1993.0   \n",
       "\n",
       "   SCREENING_DISP_DATE_y  SCREENING_DISP_DATE_m ADA_CODE  REARREST  \\\n",
       "1                 1992.0                    3.0     PMOR         0   \n",
       "3                 1991.0                   11.0     CKEM         1   \n",
       "4                 1991.0                    3.0     JHAN         1   \n",
       "6                 1993.0                    6.0     JLUC         1   \n",
       "7                 1993.0                    4.0     DLIL         1   \n",
       "\n",
       "   CHRG_ACCEPTED  CHRG_REJECTED  NBR_CASES  CHRG_RATE  q_risk  q_chrg_rate  \n",
       "1          522.0          716.0     1238.0   0.421648       0          3.0  \n",
       "3         1726.0         3523.0     5249.0   0.328825       4          0.0  \n",
       "4          222.0          311.0      533.0   0.416510       1          3.0  \n",
       "6         4434.0         3610.0     8044.0   0.551218       1          4.0  \n",
       "7          569.0          939.0     1508.0   0.377321       1          2.0  "
      ]
     },
     "execution_count": 335,
     "metadata": {},
     "output_type": "execute_result"
    }
   ],
   "source": [
    "val_risk_merged.head()"
   ]
  },
  {
   "cell_type": "code",
   "execution_count": 304,
   "metadata": {
    "collapsed": true
   },
   "outputs": [],
   "source": [
    "def chrg_rate_by_risk(chrg_rate_lower,chrg_rate_upper):\n",
    "    chrg_rate_bin = val_risk_merged[(val_risk_merged['CHRG_RATE']>chrg_rate_lower)&\\\n",
    "                              (val_risk_merged['CHRG_RATE']<=chrg_rate_upper)].copy()\n",
    "    chrg_rate_bin['quintile'] = pd.qcut(chrg_rate_bin['Risk'],5,labels=False)\n",
    "    chrg_rate_bin['count'] = 1\n",
    "    chrg_rate_bin_q = chrg_rate_bin.groupby('quintile')[['REARREST','count']].sum()\n",
    "    chrg_rate_bin_q['rearrest_rate']=chrg_rate_bin_q['REARREST']/chrg_rate_bin_q['count']\n",
    "    print('Arrestees released by screeners with charge rates of %d%% to %d%%' %(chrg_rate_lower*100,chrg_rate_upper*100))\n",
    "    print(chrg_rate_bin_q)"
   ]
  },
  {
   "cell_type": "code",
   "execution_count": 305,
   "metadata": {
    "collapsed": false
   },
   "outputs": [
    {
     "name": "stdout",
     "output_type": "stream",
     "text": [
      "Arrestees released by screeners with charge rates of 0% to 100%\n",
      "          REARREST  count  rearrest_rate\n",
      "quintile                                \n",
      "0              231   1836       0.125817\n",
      "1              592   1835       0.322616\n",
      "2              983   1836       0.535403\n",
      "3             1380   1835       0.752044\n",
      "4             1607   1836       0.875272\n",
      "Arrestees released by screeners with charge rates of 30% to 40%\n",
      "          REARREST  count  rearrest_rate\n",
      "quintile                                \n",
      "0              119    992       0.119960\n",
      "1              319    992       0.321573\n",
      "2              533    992       0.537298\n",
      "3              786    992       0.792339\n",
      "4              877    992       0.884073\n",
      "Arrestees released by screeners with charge rates of 40% to 50%\n",
      "          REARREST  count  rearrest_rate\n",
      "quintile                                \n",
      "0               53    407       0.130221\n",
      "1              150    406       0.369458\n",
      "2              243    406       0.598522\n",
      "3              301    406       0.741379\n",
      "4              341    406       0.839901\n",
      "Arrestees released by screeners with charge rates of 50% to 60%\n",
      "          REARREST  count  rearrest_rate\n",
      "quintile                                \n",
      "0               45    201       0.223881\n",
      "1               81    200       0.405000\n",
      "2              104    200       0.520000\n",
      "3              126    200       0.630000\n",
      "4              167    200       0.835000\n"
     ]
    }
   ],
   "source": [
    "chrg_rate_by_risk(0,1)\n",
    "chrg_rate_by_risk(.3,.4)\n",
    "chrg_rate_by_risk(.4,.5)\n",
    "chrg_rate_by_risk(.5,.6)"
   ]
  },
  {
   "cell_type": "code",
   "execution_count": 306,
   "metadata": {
    "collapsed": false
   },
   "outputs": [
    {
     "name": "stdout",
     "output_type": "stream",
     "text": [
      "Arrestees released by screeners with charge rates of 0% to 100%\n",
      "          REARREST  count  rearrest_rate\n",
      "quintile                                \n",
      "0              231   1836       0.125817\n",
      "1              592   1835       0.322616\n",
      "2              983   1836       0.535403\n",
      "3             1380   1835       0.752044\n",
      "4             1607   1836       0.875272\n"
     ]
    }
   ],
   "source": [
    "chrg_rate_by_risk(0,1)"
   ]
  },
  {
   "cell_type": "markdown",
   "metadata": {},
   "source": [
    "# Racial Analysis"
   ]
  },
  {
   "cell_type": "code",
   "execution_count": 307,
   "metadata": {
    "collapsed": false
   },
   "outputs": [],
   "source": [
    "risk_race = pd.merge(val_risk, \\\n",
    "                 data[['UNIQUE_ID','RACE','NEXT_ARREST_TIME']],\\\n",
    "                 on='UNIQUE_ID', \\\n",
    "                 how='left')\n",
    "\n",
    "val_pred = pd.read_csv('results/val_pred.csv', encoding = \"ISO-8859-1\", low_memory=False, index_col=0)\n",
    "\n",
    "risk_race = pd.merge(risk_race, \\\n",
    "                 val_pred,\\\n",
    "                 on='UNIQUE_ID', \\\n",
    "                 how='left')\n",
    "\n",
    "\n",
    "risk_race = pd.merge(risk_race, \\\n",
    "                 data_simple[['UNIQUE_ID','ADA_CODE']],\\\n",
    "                 on='UNIQUE_ID', \\\n",
    "                 how='left')\n",
    "\n",
    "risk_race = pd.merge(risk_race, \\\n",
    "                 by_sada,\\\n",
    "                 on='ADA_CODE', \\\n",
    "                 how='left')\n",
    "\n",
    "\n",
    "risk_race = risk_race.dropna(axis=0, subset = ['ADA_CODE'])"
   ]
  },
  {
   "cell_type": "code",
   "execution_count": 308,
   "metadata": {
    "collapsed": false
   },
   "outputs": [],
   "source": [
    "chrg_rate_lower = 0\n",
    "chrg_rate_upper = 1\n",
    "\n",
    "by_race_W = risk_race[(risk_race['CHRG_RATE']>len_rate_lower)&\\\n",
    "                          (risk_race['CHRG_RATE']<=len_rate_upper)&\\\n",
    "                          (risk_race['RACE']=='W')\n",
    "                     ].copy()\n",
    "by_race_B = risk_race[(risk_race['CHRG_RATE']>len_rate_lower)&\\\n",
    "                          (risk_race['CHRG_RATE']<=len_rate_upper)&\\\n",
    "                          (risk_race['RACE']=='B')\n",
    "                     ].copy()"
   ]
  },
  {
   "cell_type": "code",
   "execution_count": 309,
   "metadata": {
    "collapsed": false
   },
   "outputs": [
    {
     "data": {
      "text/plain": [
       "<matplotlib.text.Text at 0x11ba66a90>"
      ]
     },
     "execution_count": 309,
     "metadata": {},
     "output_type": "execute_result"
    },
    {
     "data": {
      "image/png": "[encoded data removed]",
      "text/plain": [
       "<matplotlib.figure.Figure at 0x113f406d8>"
      ]
     },
     "metadata": {},
     "output_type": "display_data"
    }
   ],
   "source": [
    "\n",
    "fig,ax = plt.subplots(1,2,figsize=(10,3))\n",
    "ax[0].hist(by_race_W['Risk'])\n",
    "ax[0].set_title('Distribution of Predicted Risk for Whites')\n",
    "ax[1].hist(by_race_B['Risk'])\n",
    "ax[1].set_title('Distribution of Predicted Risk for Blacks')"
   ]
  },
  {
   "cell_type": "code",
   "execution_count": 310,
   "metadata": {
    "collapsed": false
   },
   "outputs": [
    {
     "data": {
      "text/plain": [
       "642"
      ]
     },
     "execution_count": 310,
     "metadata": {},
     "output_type": "execute_result"
    }
   ],
   "source": [
    "by_race_W.shape[0]"
   ]
  },
  {
   "cell_type": "code",
   "execution_count": 311,
   "metadata": {
    "collapsed": false
   },
   "outputs": [
    {
     "name": "stdout",
     "output_type": "stream",
     "text": [
      "Out of 642 whites released, 76% were rearrested within 5 years.\n",
      "Out of 4203 blacks released, 41% were rearrested within 5 years.\n",
      "Out of 642 whites released, 85% were PREDICTED to be rearrested within 5 years.\n",
      "Out of 4203 blacks released, 39% were PREDICTED to be rearrested within 5 years.\n"
     ]
    }
   ],
   "source": [
    "num_released_W = by_race_W.groupby('true_y')['true_y'].count().sum()\n",
    "rearrest_rate_W = by_race_W.groupby('true_y')['true_y'].count()[0]/num_released_W\n",
    "num_released_B = by_race_B.groupby('true_y')['true_y'].count().sum()\n",
    "rearrest_rate_B = by_race_B.groupby('true_y')['true_y'].count()[0]/num_released_B\n",
    "print('Out of %s whites released, %d%% were rearrested within 5 years.' %(num_released_W,rearrest_rate_W*100))\n",
    "print('Out of %s blacks released, %d%% were rearrested within 5 years.' %(num_released_B,rearrest_rate_B*100))\n",
    "\n",
    "\n",
    "pred_rearrest_rate_B = by_race_B.groupby('pred_y')['pred_y'].count()[0]/num_released_B\n",
    "pred_rearrest_rate_W = by_race_W.groupby('pred_y')['pred_y'].count()[0]/num_released_W\n",
    "print('Out of %s whites released, %d%% were PREDICTED to be rearrested within 5 years.' %(num_released_W,pred_rearrest_rate_W*100))\n",
    "print('Out of %s blacks released, %d%% were PREDICTED to be rearrested within 5 years.' %(num_released_B,pred_rearrest_rate_B*100))"
   ]
  },
  {
   "cell_type": "code",
   "execution_count": 312,
   "metadata": {
    "collapsed": false
   },
   "outputs": [
    {
     "name": "stdout",
     "output_type": "stream",
     "text": [
      "Out of 91 whites that were predicted to be rearrested,     24% were false positives.\n",
      "Out of 2549 blacks that were predicted to be rearrested,     21% were false positives.\n"
     ]
    }
   ],
   "source": [
    "pred_rearrest_W = by_race_W[(by_race_W['pred_y']==1)].shape[0]\n",
    "fp_W = by_race_W[(by_race_W['true_y']==0)&(by_race_W['pred_y']==1)].shape[0]/pred_rearrest_W\n",
    "\n",
    "pred_rearrest_B = by_race_B[(by_race_B['pred_y']==1)].shape[0]\n",
    "fp_B = by_race_B[(by_race_B['true_y']==0)&(by_race_B['pred_y']==1)].shape[0]/pred_rearrest_B\n",
    "\n",
    "\n",
    "print('Out of %s whites that were predicted to be rearrested, \\\n",
    "    %d%% were false positives.' %(pred_rearrest_W,fp_W*100))\n",
    "print('Out of %s blacks that were predicted to be rearrested, \\\n",
    "    %d%% were false positives.' %(pred_rearrest_B,fp_B*100))"
   ]
  },
  {
   "cell_type": "code",
   "execution_count": 313,
   "metadata": {
    "collapsed": false
   },
   "outputs": [
    {
     "name": "stdout",
     "output_type": "stream",
     "text": [
      "Out of 551 whites that were predicted to not be rearrested,     15% were false negatives.\n",
      "Out of 1654 blacks that were predicted to not be rearrested,     28% were false negatives.\n"
     ]
    }
   ],
   "source": [
    "pred_no_rearrest_W = by_race_W[(by_race_W['pred_y']==0)].shape[0]\n",
    "fn_W = by_race_W[(by_race_W['true_y']==1)&(by_race_W['pred_y']==0)].shape[0]/pred_no_rearrest_W\n",
    "\n",
    "pred_no_rearrest_B = by_race_B[(by_race_B['pred_y']==0)].shape[0]\n",
    "fn_B = by_race_B[(by_race_B['true_y']==1)&(by_race_B['pred_y']==0)].shape[0]/pred_no_rearrest_B\n",
    "\n",
    "\n",
    "print('Out of %s whites that were predicted to not be rearrested, \\\n",
    "    %d%% were false negatives.' %(pred_no_rearrest_W,fn_W*100))\n",
    "print('Out of %s blacks that were predicted to not be rearrested, \\\n",
    "    %d%% were false negatives.' %(pred_no_rearrest_B,fn_B*100))"
   ]
  },
  {
   "cell_type": "code",
   "execution_count": null,
   "metadata": {
    "collapsed": true
   },
   "outputs": [],
   "source": []
  },
  {
   "cell_type": "code",
   "execution_count": null,
   "metadata": {
    "collapsed": true
   },
   "outputs": [],
   "source": []
  }
 ],
 "metadata": {
  "kernelspec": {
   "display_name": "Python [Root]",
   "language": "python",
   "name": "Python [Root]"
  },
  "language_info": {
   "codemirror_mode": {
    "name": "ipython",
    "version": 3
   },
   "file_extension": ".py",
   "mimetype": "text/x-python",
   "name": "python",
   "nbconvert_exporter": "python",
   "pygments_lexer": "ipython3",
   "version": "3.5.2"
  }
 },
 "nbformat": 4,
 "nbformat_minor": 0
}
