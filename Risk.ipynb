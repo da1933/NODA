{
 "cells": [
  {
   "cell_type": "code",
   "execution_count": 94,
   "metadata": {
    "collapsed": true
   },
   "outputs": [],
   "source": [
    "import numpy as np\n",
    "import pandas as pd\n",
    "import matplotlib.pyplot as plt\n",
    "import matplotlib.ticker as mtick\n",
    "import project_env as pe\n",
    "import sklearn as sklearn\n",
    "from scipy import stats\n",
    "%matplotlib inline"
   ]
  },
  {
   "cell_type": "markdown",
   "metadata": {},
   "source": [
    "# IMPORT DATA"
   ]
  },
  {
   "cell_type": "code",
   "execution_count": 6,
   "metadata": {
    "collapsed": false
   },
   "outputs": [],
   "source": [
    "val_risk = pd.read_csv('results/val_risk.csv', encoding = \"ISO-8859-1\", low_memory=False, index_col=0)\n",
    "rearrest_rates = pd.read_csv('results/rearrest_rates.csv', encoding = \"ISO-8859-1\", low_memory=False, index_col=0)\n",
    "sada_not_charged = pd.read_csv('results/sada_not_charged.csv', encoding = \"ISO-8859-1\", low_memory=False, index_col=0)"
   ]
  },
  {
   "cell_type": "code",
   "execution_count": 7,
   "metadata": {
    "collapsed": false,
    "scrolled": true
   },
   "outputs": [],
   "source": [
    "#bring in ADA_CODE, year/month of decision, target variable\n",
    "data = pd.read_csv('data_processing/output/merged.csv', encoding = \"ISO-8859-1\", low_memory=False)\n",
    "data_simple = pd.read_csv('data_processing/output/data_simple.csv', encoding = \"ISO-8859-1\", low_memory=False)\n",
    "                          \n",
    "                          \n",
    "val_risk_merged = pd.merge(val_risk, \\\n",
    "                 data[['UNIQUE_ID','NEXT_ARREST_TIME','ARREST_DATE_y',\\\n",
    "                      'SCREENING_DISP_DATE_y','SCREENING_DISP_DATE_m']],\\\n",
    "                 on='UNIQUE_ID', \\\n",
    "                 how='left')\n",
    "val_risk_merged = pd.merge(val_risk_merged, \\\n",
    "                 data_simple[['UNIQUE_ID','ADA_CODE']],\\\n",
    "                 on='UNIQUE_ID', \\\n",
    "                 how='left')\n",
    "\n",
    "\n",
    "val_risk_merged['NEXT_ARREST_TIME'] = val_risk_merged['NEXT_ARREST_TIME'].apply(pd.to_numeric)"
   ]
  },
  {
   "cell_type": "code",
   "execution_count": 8,
   "metadata": {
    "collapsed": false
   },
   "outputs": [],
   "source": [
    "#Create target\n",
    "_temp, val_risk_merged['REARREST'] = pe.create_target(val_risk_merged,5)\n",
    "del _temp"
   ]
  },
  {
   "cell_type": "code",
   "execution_count": 9,
   "metadata": {
    "collapsed": false,
    "scrolled": true
   },
   "outputs": [],
   "source": [
    "#bring in screener info\n",
    "by_sada = pd.read_csv('results/by_sada.csv', encoding = \"ISO-8859-1\", low_memory=False)\n",
    "val_risk_merged = pd.merge(val_risk_merged, \\\n",
    "                 by_sada,\\\n",
    "                 on='ADA_CODE', \\\n",
    "                 how='left')"
   ]
  },
  {
   "cell_type": "code",
   "execution_count": 10,
   "metadata": {
    "collapsed": false
   },
   "outputs": [],
   "source": [
    "#drop if ADA_CODE is missing\n",
    "val_risk_merged = val_risk_merged.dropna(axis=0, subset = ['ADA_CODE'])"
   ]
  },
  {
   "cell_type": "markdown",
   "metadata": {},
   "source": [
    "# DISTRIBUTION OF RISK"
   ]
  },
  {
   "cell_type": "code",
   "execution_count": 11,
   "metadata": {
    "collapsed": false
   },
   "outputs": [],
   "source": [
    "def predicted_risk_dist(data, risk):\n",
    "    df = data[data['Risk']>=risk]\n",
    "    grouped = df.groupby('SCREENING_DISP_DATE_y')['SCREENING_DISP_DATE_y'].count()\n",
    "    plt.bar(grouped.index, grouped.values)\n",
    "    plt.xticks(grouped.index, grouped.index.map(str), rotation=45)\n",
    "    plt.title('Number of Arrestees with Risk > %s' %risk)\n",
    "    plt.ylabel('Screening Year')\n",
    "    plt.tight_layout()\n",
    "    plt.show()\n",
    "\n",
    "    return grouped"
   ]
  },
  {
   "cell_type": "code",
   "execution_count": 12,
   "metadata": {
    "collapsed": false
   },
   "outputs": [
    {
     "data": {
      "text/plain": [
       "Index(['BOFI_NBR', 'UNIQUE_ID', 'Risk', 'NEXT_ARREST_TIME', 'ARREST_DATE_y',\n",
       "       'SCREENING_DISP_DATE_y', 'SCREENING_DISP_DATE_m', 'ADA_CODE',\n",
       "       'REARREST', 'CHRG_ACCEPTED', 'CHRG_REJECTED', 'NBR_CASES', 'CHRG_RATE'],\n",
       "      dtype='object')"
      ]
     },
     "execution_count": 12,
     "metadata": {},
     "output_type": "execute_result"
    }
   ],
   "source": [
    "val_risk_merged.columns"
   ]
  },
  {
   "cell_type": "code",
   "execution_count": 13,
   "metadata": {
    "collapsed": false
   },
   "outputs": [
    {
     "data": {
      "image/png": "[encoded data removed]",
      "text/plain": [
       "<matplotlib.figure.Figure at 0x1191ec18>"
      ]
     },
     "metadata": {},
     "output_type": "display_data"
    }
   ],
   "source": [
    "grouped = predicted_risk_dist(val_risk_merged,.80)"
   ]
  },
  {
   "cell_type": "markdown",
   "metadata": {},
   "source": [
    "# REARREST RATES BY STRICT VS LENIENT"
   ]
  },
  {
   "cell_type": "code",
   "execution_count": 14,
   "metadata": {
    "collapsed": true
   },
   "outputs": [],
   "source": [
    "def get_rearrest_rate(sada_list, year):\n",
    "    '''\n",
    "    get rearrest rate for list of screeners\n",
    "    '''\n",
    "    data_trunc = sada_not_charged[(sada_not_charged['ARREST_DATE_y'] <= 1999 - year)]\n",
    "    data_trunc = data_trunc[data_trunc['ADA_CODE'].isin(sada_list)]\n",
    "    total = data_trunc['SCREENING_DISP_CODE'].count()\n",
    "    rearrest_cnt = data_trunc[(data_trunc['NEXT_ARREST_TIME'] >0)&(data_trunc['NEXT_ARREST_TIME'] <= year*365)]\\\n",
    "            ['SCREENING_DISP_CODE'].count()\n",
    "    rearrest_rate = rearrest_cnt/total\n",
    "    return rearrest_rate"
   ]
  },
  {
   "cell_type": "code",
   "execution_count": 84,
   "metadata": {
    "collapsed": false
   },
   "outputs": [],
   "source": [
    "len_rate_lower = .5\n",
    "len_rate_upper = .55\n",
    "strict_rate_lower = .55\n",
    "strict_rate_upper = .6\n",
    "lenient = val_risk_merged[(val_risk_merged['CHRG_RATE']>len_rate_lower)&\\\n",
    "                          (val_risk_merged['CHRG_RATE']<=len_rate_upper)].copy()\n",
    "strict = val_risk_merged[(val_risk_merged['CHRG_RATE']>strict_rate_lower)&\\\n",
    "                          (val_risk_merged['CHRG_RATE']<=strict_rate_upper)].copy()\n",
    "years = 5\n",
    "\n",
    "lenient.sort_values('Risk',ascending=False,inplace=True)"
   ]
  },
  {
   "cell_type": "code",
   "execution_count": 85,
   "metadata": {
    "collapsed": false
   },
   "outputs": [],
   "source": [
    "len_sada_list = lenient[['ADA_CODE','NBR_CASES','CHRG_ACCEPTED']].drop_duplicates()\n",
    "len_chrg_rate =  len_sada_list['CHRG_ACCEPTED'].sum()/len_sada_list['NBR_CASES'].sum()\n",
    "len_rearrest_rate = get_rearrest_rate(lenient['ADA_CODE'].unique(),years)\n",
    "\n",
    "strict_sada_list = strict[['ADA_CODE','NBR_CASES','CHRG_ACCEPTED']].drop_duplicates()\n",
    "strict_chrg_rate =  strict_sada_list['CHRG_ACCEPTED'].sum()/strict_sada_list['NBR_CASES'].sum()\n",
    "strict_rearrest_rate = get_rearrest_rate(strict['ADA_CODE'].unique(),years)\n"
   ]
  },
  {
   "cell_type": "code",
   "execution_count": 87,
   "metadata": {
    "collapsed": false,
    "scrolled": true
   },
   "outputs": [
    {
     "name": "stdout",
     "output_type": "stream",
     "text": [
      "An estimated 1235 total arrestees were seen by screeners with charge rate between 50% and 55% in the validation set.\n",
      "The weighted average charge rate for those screeners was 53% and 53% of those released were rearrested\n",
      "\n",
      "953 total arrestees seen by screeners with charge rate between 55% and 60% in the validation set.\n",
      "The weighted average charge rate for those screeners was 55% and 52% of those released were rearrested\n",
      "\n",
      "29 additional arrestees need to be charged for the lenient screeners to have a charge rate of 55%.\n",
      "Out of the 29 predicted riskiest arrestees, 27 were rearrested, a rearrest rate of 93%.\n",
      "If those 29 were charged, the rearrest rate for the \"lenient screeners\" would be 51%.\n",
      "If those 29 were charged, the charge rate for the \"lenient screeners\" would be 55%.\n"
     ]
    }
   ],
   "source": [
    "tot_cases_len = int(lenient.shape[0]/(1-len_chrg_rate))\n",
    "\n",
    "print('An estimated %s total arrestees were seen by screeners with charge rate between %d%% and %d%% in the validation set.'\\\n",
    "      %(tot_cases_len,len_rate_lower*100,len_rate_upper*100))\n",
    "print('The weighted average charge rate for those screeners was %d%% and %d%% of those released were rearrested\\n'\\\n",
    "      %(len_chrg_rate*100,len_rearrest_rate*100))\n",
    "\n",
    "tot_cases_strict = int(strict.shape[0]/(1-strict_chrg_rate))\n",
    "\n",
    "print('%s total arrestees seen by screeners with charge rate between %d%% and %d%% in the validation set.'\\\n",
    "      %(tot_cases_strict,strict_rate_lower*100,strict_rate_upper*100))\n",
    "print('The weighted average charge rate for those screeners was %d%% and %d%% of those released were rearrested\\n'\\\n",
    "      %(strict_chrg_rate*100,strict_rearrest_rate*100))\n",
    "\n",
    "target_chrgs = int(tot_cases_len*(strict_chrg_rate-len_chrg_rate))\n",
    "marginal_rearrest_rate = lenient[:target_chrgs]['REARREST'].sum()/target_chrgs\n",
    "tot_rearrest_rate = (lenient['REARREST'].sum()-lenient[:target_chrgs]['REARREST'].sum())/\\\n",
    "                    (tot_cases_len*(1-len_chrg_rate)-target_chrgs)\n",
    "new_chrg_rate = (len_chrg_rate*tot_cases_len+target_chrgs)/tot_cases_len\n",
    "\n",
    "print('%s additional arrestees need to be charged for the lenient screeners to have a charge rate of %d%%.'\\\n",
    "      %(target_chrgs,strict_chrg_rate*100))\n",
    "print('Out of the %s predicted riskiest arrestees, %d were rearrested, a rearrest rate of %d%%.' \\\n",
    "      %(target_chrgs,marginal_rearrest_rate*target_chrgs,marginal_rearrest_rate*100))\n",
    "print('If those %s were charged, the rearrest rate for the \"lenient screeners\" would be %d%%.' \\\n",
    "      %(target_chrgs,tot_rearrest_rate*100))\n",
    "print('If those %s were charged, the charge rate for the \"lenient screeners\" would be %d%%.' \\\n",
    "      %(target_chrgs,new_chrg_rate*100))"
   ]
  },
  {
   "cell_type": "code",
   "execution_count": 88,
   "metadata": {
    "collapsed": true
   },
   "outputs": [],
   "source": [
    "def get_p_value(threshold, n=1000):\n",
    "    rearrest_rates = np.zeros(n)\n",
    "    for i in range(n):\n",
    "        lenient_rand = lenient.reindex(np.random.permutation(lenient.index))\n",
    "        rearrest_rates[i] = (lenient['REARREST'].sum()-lenient_rand[:target_chrgs]['REARREST'].sum())/\\\n",
    "                        (tot_cases_len*(1-len_chrg_rate)-target_chrgs)\n",
    "    p_value = len(rearrest_rates[rearrest_rates<=threshold])/n\n",
    "    return p_value, rearrest_rates"
   ]
  },
  {
   "cell_type": "code",
   "execution_count": 89,
   "metadata": {
    "collapsed": false
   },
   "outputs": [],
   "source": [
    "p_value, rearrest_rates_rand = get_p_value(.51, n=1000)"
   ]
  },
  {
   "cell_type": "code",
   "execution_count": 90,
   "metadata": {
    "collapsed": false
   },
   "outputs": [
    {
     "data": {
      "text/plain": [
       "0.0"
      ]
     },
     "execution_count": 90,
     "metadata": {},
     "output_type": "execute_result"
    }
   ],
   "source": [
    "p_value"
   ]
  },
  {
   "cell_type": "code",
   "execution_count": 91,
   "metadata": {
    "collapsed": false
   },
   "outputs": [
    {
     "data": {
      "text/plain": [
       "[<matplotlib.lines.Line2D at 0xfab8a58>]"
      ]
     },
     "execution_count": 91,
     "metadata": {},
     "output_type": "execute_result"
    },
    {
     "data": {
      "image/png": "[encoded data removed]",
      "text/plain": [
       "<matplotlib.figure.Figure at 0xfa59c50>"
      ]
     },
     "metadata": {},
     "output_type": "display_data"
    }
   ],
   "source": [
    "plt.plot(rearrest_rates_rand)"
   ]
  },
  {
   "cell_type": "markdown",
   "metadata": {},
   "source": [
    "# Distribution of Risk for strict vs lenient"
   ]
  },
  {
   "cell_type": "code",
   "execution_count": 22,
   "metadata": {
    "collapsed": true
   },
   "outputs": [],
   "source": [
    "#Assign quintiles of predicted risk\n",
    "val_risk_merged['q_risk'] = pd.qcut(val_risk_merged['Risk'],5,labels=False)\n",
    "val_risk_merged['q_chrg_rate'] = pd.qcut(val_risk_merged['CHRG_RATE'],5,labels=False)"
   ]
  },
  {
   "cell_type": "code",
   "execution_count": 23,
   "metadata": {
    "collapsed": false
   },
   "outputs": [],
   "source": [
    "avg_by_chrg_rate = val_risk_merged.groupby(['q_chrg_rate'])['CHRG_RATE','Risk'].mean()"
   ]
  },
  {
   "cell_type": "code",
   "execution_count": 24,
   "metadata": {
    "collapsed": false
   },
   "outputs": [
    {
     "data": {
      "text/html": [
       "<div>\n",
       "<table border=\"1\" class=\"dataframe\">\n",
       "  <thead>\n",
       "    <tr style=\"text-align: right;\">\n",
       "      <th></th>\n",
       "      <th>CHRG_RATE</th>\n",
       "      <th>Risk</th>\n",
       "    </tr>\n",
       "    <tr>\n",
       "      <th>q_chrg_rate</th>\n",
       "      <th></th>\n",
       "      <th></th>\n",
       "    </tr>\n",
       "  </thead>\n",
       "  <tbody>\n",
       "    <tr>\n",
       "      <th>0.0</th>\n",
       "      <td>0.222960</td>\n",
       "      <td>0.487485</td>\n",
       "    </tr>\n",
       "    <tr>\n",
       "      <th>1.0</th>\n",
       "      <td>0.350445</td>\n",
       "      <td>0.517943</td>\n",
       "    </tr>\n",
       "    <tr>\n",
       "      <th>2.0</th>\n",
       "      <td>0.389878</td>\n",
       "      <td>0.548238</td>\n",
       "    </tr>\n",
       "    <tr>\n",
       "      <th>3.0</th>\n",
       "      <td>0.440126</td>\n",
       "      <td>0.535199</td>\n",
       "    </tr>\n",
       "    <tr>\n",
       "      <th>4.0</th>\n",
       "      <td>0.578116</td>\n",
       "      <td>0.524417</td>\n",
       "    </tr>\n",
       "  </tbody>\n",
       "</table>\n",
       "</div>"
      ],
      "text/plain": [
       "             CHRG_RATE      Risk\n",
       "q_chrg_rate                     \n",
       "0.0           0.222960  0.487485\n",
       "1.0           0.350445  0.517943\n",
       "2.0           0.389878  0.548238\n",
       "3.0           0.440126  0.535199\n",
       "4.0           0.578116  0.524417"
      ]
     },
     "execution_count": 24,
     "metadata": {},
     "output_type": "execute_result"
    }
   ],
   "source": [
    "avg_by_chrg_rate"
   ]
  },
  {
   "cell_type": "code",
   "execution_count": 25,
   "metadata": {
    "collapsed": false
   },
   "outputs": [
    {
     "data": {
      "text/html": [
       "<div>\n",
       "<table border=\"1\" class=\"dataframe\">\n",
       "  <thead>\n",
       "    <tr style=\"text-align: right;\">\n",
       "      <th></th>\n",
       "      <th>Risk</th>\n",
       "      <th>CHRG_RATE</th>\n",
       "    </tr>\n",
       "    <tr>\n",
       "      <th>q_risk</th>\n",
       "      <th></th>\n",
       "      <th></th>\n",
       "    </tr>\n",
       "  </thead>\n",
       "  <tbody>\n",
       "    <tr>\n",
       "      <th>0</th>\n",
       "      <td>0.113809</td>\n",
       "      <td>0.354600</td>\n",
       "    </tr>\n",
       "    <tr>\n",
       "      <th>1</th>\n",
       "      <td>0.324872</td>\n",
       "      <td>0.392195</td>\n",
       "    </tr>\n",
       "    <tr>\n",
       "      <th>2</th>\n",
       "      <td>0.546389</td>\n",
       "      <td>0.406838</td>\n",
       "    </tr>\n",
       "    <tr>\n",
       "      <th>3</th>\n",
       "      <td>0.748822</td>\n",
       "      <td>0.411732</td>\n",
       "    </tr>\n",
       "    <tr>\n",
       "      <th>4</th>\n",
       "      <td>0.879700</td>\n",
       "      <td>0.374540</td>\n",
       "    </tr>\n",
       "  </tbody>\n",
       "</table>\n",
       "</div>"
      ],
      "text/plain": [
       "            Risk  CHRG_RATE\n",
       "q_risk                     \n",
       "0       0.113809   0.354600\n",
       "1       0.324872   0.392195\n",
       "2       0.546389   0.406838\n",
       "3       0.748822   0.411732\n",
       "4       0.879700   0.374540"
      ]
     },
     "execution_count": 25,
     "metadata": {},
     "output_type": "execute_result"
    }
   ],
   "source": [
    "avg_by_risk = val_risk_merged.groupby(['q_risk'])['Risk','CHRG_RATE'].mean()\n",
    "avg_by_risk"
   ]
  },
  {
   "cell_type": "code",
   "execution_count": 26,
   "metadata": {
    "collapsed": false
   },
   "outputs": [],
   "source": [
    "by_chrg_rate = val_risk_merged.groupby(['q_chrg_rate','q_risk'])['UNIQUE_ID'].count()\n",
    "by_chrg_rate = by_chrg_rate.reset_index()\n",
    "by_chrg_rate['tot_by_chrg_rate'] = by_chrg_rate.groupby('q_chrg_rate')['UNIQUE_ID'].transform('sum')\n",
    "by_chrg_rate['q_risk_share'] = by_chrg_rate['UNIQUE_ID']/by_chrg_rate['tot_by_chrg_rate']\n",
    "by_chrg_rate = by_chrg_rate.rename(columns={'UNIQUE_ID': 'count'})\n"
   ]
  },
  {
   "cell_type": "code",
   "execution_count": 27,
   "metadata": {
    "collapsed": false
   },
   "outputs": [],
   "source": [
    "plot_data = by_chrg_rate.pivot(index='q_chrg_rate', columns='q_risk', \\\n",
    "                               values='q_risk_share').reset_index().drop('q_chrg_rate',1)"
   ]
  },
  {
   "cell_type": "code",
   "execution_count": 103,
   "metadata": {
    "collapsed": false,
    "scrolled": false
   },
   "outputs": [
    {
     "data": {
      "image/png": "[encoded data removed]",
      "text/plain": [
       "<matplotlib.figure.Figure at 0xff72358>"
      ]
     },
     "metadata": {},
     "output_type": "display_data"
    }
   ],
   "source": [
    "\n",
    "plt.figure(figsize=(10, 6))\n",
    "ax=plt.subplot(111)\n",
    "\n",
    "\n",
    "fmt = '%.0f%%' # Format you want the ticks, e.g. '40%'\n",
    "yticks = mtick.FormatStrFormatter(fmt)\n",
    "ax.yaxis.set_major_formatter(yticks)\n",
    "\n",
    "ind = np.arange(5)    # the x locations for the groups\n",
    "width = 0.55       # the width of the bars: can also be len(x) sequence\n",
    "\n",
    "p1 = plt.bar(ind, plot_data[0.0]*100, width, align='center', color='g')\n",
    "p2 = plt.bar(ind, plot_data[1.0]*100, width, align='center', bottom=plot_data[0.0]*100, color='b')\n",
    "p3 = plt.bar(ind, plot_data[2.0]*100, width, align='center', bottom=(plot_data[1.0] +plot_data[0.0])*100, color='y')\n",
    "p4 = plt.bar(ind, plot_data[3.0]*100, width, align='center', bottom=(plot_data[2.0] + plot_data[1.0] +plot_data[0.0])*100, color='c')\n",
    "p5 = plt.bar(ind, plot_data[4.0]*100, width, align='center', bottom=(plot_data[3.0] + plot_data[2.0] + plot_data[1.0] +plot_data[0.0])*100, color='r')\n",
    "\n",
    "ax.set_ylabel('Share of Released Arrestees',fontsize=14)\n",
    "plt.title('Composition of Released Arrestees by Screener Strictness',fontsize=16)\n",
    "plt.xticks(ind, ('S1', 'S2','S3','S4','S5'),fontsize=12)\n",
    "plt.yticks(fontsize=12)\n",
    "ax.set_xlabel('Charge Rate Quintiles', fontsize=14)\n",
    "plt.legend((p1[0], p2[0],p3[0],p4[0],p5[0]), ('R1', 'R2','R3','R4','R5'),title='Quintiles of Predicted Risk',\\\n",
    "           fontsize=12,\n",
    "           bbox_to_anchor=(1.01, 1), loc=2, ncol=1)\n",
    "\n",
    "plt.show()\n"
   ]
  },
  {
   "cell_type": "code",
   "execution_count": 127,
   "metadata": {
    "collapsed": false
   },
   "outputs": [],
   "source": [
    "ideal_case = plot_data.copy()\n",
    "ideal_case[0]=np.array((.41,.44,.47,.53,.62))\n",
    "ideal_case[1]=np.array((.26,.27,.29,.34,.38))\n",
    "ideal_case[2]=np.array((.13,.14,.15,.13,0))\n",
    "ideal_case[3]=np.array((.1,.11,.09,0,0))\n",
    "ideal_case[4]=np.array((.1,.04,0,0,0))"
   ]
  },
  {
   "cell_type": "code",
   "execution_count": 128,
   "metadata": {
    "collapsed": false
   },
   "outputs": [
    {
     "data": {
      "text/html": [
       "<div>\n",
       "<table border=\"1\" class=\"dataframe\">\n",
       "  <thead>\n",
       "    <tr style=\"text-align: right;\">\n",
       "      <th>q_risk</th>\n",
       "      <th>0</th>\n",
       "      <th>1</th>\n",
       "      <th>2</th>\n",
       "      <th>3</th>\n",
       "      <th>4</th>\n",
       "    </tr>\n",
       "  </thead>\n",
       "  <tbody>\n",
       "    <tr>\n",
       "      <th>0</th>\n",
       "      <td>0.41</td>\n",
       "      <td>0.26</td>\n",
       "      <td>0.13</td>\n",
       "      <td>0.10</td>\n",
       "      <td>0.10</td>\n",
       "    </tr>\n",
       "    <tr>\n",
       "      <th>1</th>\n",
       "      <td>0.44</td>\n",
       "      <td>0.27</td>\n",
       "      <td>0.14</td>\n",
       "      <td>0.11</td>\n",
       "      <td>0.04</td>\n",
       "    </tr>\n",
       "    <tr>\n",
       "      <th>2</th>\n",
       "      <td>0.47</td>\n",
       "      <td>0.29</td>\n",
       "      <td>0.15</td>\n",
       "      <td>0.09</td>\n",
       "      <td>0.00</td>\n",
       "    </tr>\n",
       "    <tr>\n",
       "      <th>3</th>\n",
       "      <td>0.53</td>\n",
       "      <td>0.34</td>\n",
       "      <td>0.13</td>\n",
       "      <td>0.00</td>\n",
       "      <td>0.00</td>\n",
       "    </tr>\n",
       "    <tr>\n",
       "      <th>4</th>\n",
       "      <td>0.62</td>\n",
       "      <td>0.38</td>\n",
       "      <td>0.00</td>\n",
       "      <td>0.00</td>\n",
       "      <td>0.00</td>\n",
       "    </tr>\n",
       "  </tbody>\n",
       "</table>\n",
       "</div>"
      ],
      "text/plain": [
       "q_risk     0     1     2     3     4\n",
       "0       0.41  0.26  0.13  0.10  0.10\n",
       "1       0.44  0.27  0.14  0.11  0.04\n",
       "2       0.47  0.29  0.15  0.09  0.00\n",
       "3       0.53  0.34  0.13  0.00  0.00\n",
       "4       0.62  0.38  0.00  0.00  0.00"
      ]
     },
     "execution_count": 128,
     "metadata": {},
     "output_type": "execute_result"
    }
   ],
   "source": [
    "ideal_case"
   ]
  },
  {
   "cell_type": "code",
   "execution_count": 181,
   "metadata": {
    "collapsed": false
   },
   "outputs": [
    {
     "data": {
      "image/png": "[encoded data removed]",
      "text/plain": [
       "<matplotlib.figure.Figure at 0xe6aa630>"
      ]
     },
     "metadata": {},
     "output_type": "display_data"
    }
   ],
   "source": [
    "\n",
    "plt.figure(figsize=(7, 7))\n",
    "\n",
    "ax=plt.subplot(211)\n",
    "\n",
    "\n",
    "fmt = '%.0f%%' # Format you want the ticks, e.g. '40%'\n",
    "yticks = mtick.FormatStrFormatter(fmt)\n",
    "ax.yaxis.set_major_formatter(yticks)\n",
    "\n",
    "ind = np.arange(5)    # the x locations for the groups\n",
    "width = 0.55       # the width of the bars: can also be len(x) sequence\n",
    "\n",
    "p1 = plt.bar(ind, plot_data[0.0]*100, width, align='center', color='g')\n",
    "p2 = plt.bar(ind, plot_data[1.0]*100, width, align='center', bottom=plot_data[0.0]*100, color='b')\n",
    "p3 = plt.bar(ind, plot_data[2.0]*100, width, align='center', bottom=(plot_data[1.0] +plot_data[0.0])*100, color='y')\n",
    "p4 = plt.bar(ind, plot_data[3.0]*100, width, align='center', bottom=(plot_data[2.0] + plot_data[1.0] +plot_data[0.0])*100, color='c')\n",
    "p5 = plt.bar(ind, plot_data[4.0]*100, width, align='center', bottom=(plot_data[3.0] + plot_data[2.0] + plot_data[1.0] +plot_data[0.0])*100, color='r')\n",
    "\n",
    "ax.set_ylabel('Share of Released Arrestees',fontsize=14)\n",
    "plt.title('Actual Risk Composition of Released Arrestees',fontsize=16)\n",
    "plt.xticks(ind, ('S1', 'S2','S3','S4','S5'),fontsize=12)\n",
    "plt.yticks(fontsize=12)\n",
    "plt.ylim([0,100])\n",
    "ax.set_xlabel('Charge Rate Quintiles', fontsize=14)\n",
    "#plt.legend((p1[0], p2[0],p3[0],p4[0],p5[0]), ('R1', 'R2','R3','R4','R5'),title='Quintiles of Predicted Risk',\\\n",
    "           #fontsize=12,\n",
    "           #bbox_to_anchor=(1.01, 1), loc=2, ncol=1)\n",
    "\n",
    "#plt.show()\n",
    "#############################################################################################################\n",
    "\n",
    "#plt.figure(figsize=(10, 6))\n",
    "ax=plt.subplot(212)\n",
    "\n",
    "fmt = '%.0f%%' # Format you want the ticks, e.g. '40%'\n",
    "yticks = mtick.FormatStrFormatter(fmt)\n",
    "ax.yaxis.set_major_formatter(yticks)\n",
    "\n",
    "ind = np.arange(5)    # the x locations for the groups\n",
    "width = 0.55       # the width of the bars: can also be len(x) sequence\n",
    "\n",
    "p1 = plt.bar(ind, ideal_case[0.0]*100, width, align='center', color='g')\n",
    "p2 = plt.bar(ind, ideal_case[1.0]*100, width, align='center', bottom=ideal_case[0.0]*100, color='b')\n",
    "p3 = plt.bar(ind, ideal_case[2.0]*100, width, align='center', bottom=(ideal_case[1.0] +ideal_case[0.0])*100, color='y')\n",
    "p4 = plt.bar(ind, ideal_case[3.0]*100, width, align='center', bottom=(ideal_case[2.0] + ideal_case[1.0] +ideal_case[0.0])*100, color='c')\n",
    "p5 = plt.bar(ind, ideal_case[4.0]*100, width, align='center', bottom=(ideal_case[3.0] + ideal_case[2.0] + ideal_case[1.0] +ideal_case[0.0])*100, color='r')\n",
    "\n",
    "ax.set_ylabel('Share of Released Arrestees',fontsize=14)\n",
    "plt.title('Expected Risk Composition of Released Arrestees',fontsize=16)\n",
    "plt.xticks(ind, ('S1', 'S2','S3','S4','S5'),fontsize=12)\n",
    "plt.yticks(fontsize=12)\n",
    "ax.set_xlabel('Charge Rate Quintiles', fontsize=14)\n",
    "plt.legend((p1[0], p2[0],p3[0],p4[0],p5[0]), ('R1', 'R2','R3','R4','R5'),title='Quintiles of Predicted Risk',\\\n",
    "           fontsize=14,\\\n",
    "           bbox_to_anchor=(.5, -.50), loc='lower center', ncol=5)\n",
    "plt.tight_layout()\n",
    "plt.show()\n"
   ]
  },
  {
   "cell_type": "markdown",
   "metadata": {},
   "source": [
    "# Rearrest Rates by Predicted Risk"
   ]
  },
  {
   "cell_type": "code",
   "execution_count": 31,
   "metadata": {
    "collapsed": false
   },
   "outputs": [
    {
     "data": {
      "text/html": [
       "<div>\n",
       "<table border=\"1\" class=\"dataframe\">\n",
       "  <thead>\n",
       "    <tr style=\"text-align: right;\">\n",
       "      <th></th>\n",
       "      <th>BOFI_NBR</th>\n",
       "      <th>UNIQUE_ID</th>\n",
       "      <th>Risk</th>\n",
       "      <th>NEXT_ARREST_TIME</th>\n",
       "      <th>ARREST_DATE_y</th>\n",
       "      <th>SCREENING_DISP_DATE_y</th>\n",
       "      <th>SCREENING_DISP_DATE_m</th>\n",
       "      <th>ADA_CODE</th>\n",
       "      <th>REARREST</th>\n",
       "      <th>CHRG_ACCEPTED</th>\n",
       "      <th>CHRG_REJECTED</th>\n",
       "      <th>NBR_CASES</th>\n",
       "      <th>CHRG_RATE</th>\n",
       "      <th>q_risk</th>\n",
       "      <th>q_chrg_rate</th>\n",
       "    </tr>\n",
       "  </thead>\n",
       "  <tbody>\n",
       "    <tr>\n",
       "      <th>1</th>\n",
       "      <td>325011</td>\n",
       "      <td>127976</td>\n",
       "      <td>0.070880</td>\n",
       "      <td>0</td>\n",
       "      <td>1992.0</td>\n",
       "      <td>1992.0</td>\n",
       "      <td>3.0</td>\n",
       "      <td>PMOR</td>\n",
       "      <td>0</td>\n",
       "      <td>522.0</td>\n",
       "      <td>716.0</td>\n",
       "      <td>1238.0</td>\n",
       "      <td>0.421648</td>\n",
       "      <td>0</td>\n",
       "      <td>3.0</td>\n",
       "    </tr>\n",
       "    <tr>\n",
       "      <th>3</th>\n",
       "      <td>306688</td>\n",
       "      <td>63012</td>\n",
       "      <td>0.940634</td>\n",
       "      <td>137</td>\n",
       "      <td>1990.0</td>\n",
       "      <td>1991.0</td>\n",
       "      <td>11.0</td>\n",
       "      <td>CKEM</td>\n",
       "      <td>1</td>\n",
       "      <td>1726.0</td>\n",
       "      <td>3523.0</td>\n",
       "      <td>5249.0</td>\n",
       "      <td>0.328825</td>\n",
       "      <td>4</td>\n",
       "      <td>0.0</td>\n",
       "    </tr>\n",
       "    <tr>\n",
       "      <th>4</th>\n",
       "      <td>310664</td>\n",
       "      <td>81452</td>\n",
       "      <td>0.372344</td>\n",
       "      <td>409</td>\n",
       "      <td>1991.0</td>\n",
       "      <td>1991.0</td>\n",
       "      <td>3.0</td>\n",
       "      <td>JHAN</td>\n",
       "      <td>1</td>\n",
       "      <td>222.0</td>\n",
       "      <td>311.0</td>\n",
       "      <td>533.0</td>\n",
       "      <td>0.416510</td>\n",
       "      <td>1</td>\n",
       "      <td>3.0</td>\n",
       "    </tr>\n",
       "    <tr>\n",
       "      <th>6</th>\n",
       "      <td>188857</td>\n",
       "      <td>81615</td>\n",
       "      <td>0.421166</td>\n",
       "      <td>1</td>\n",
       "      <td>1993.0</td>\n",
       "      <td>1993.0</td>\n",
       "      <td>6.0</td>\n",
       "      <td>JLUC</td>\n",
       "      <td>1</td>\n",
       "      <td>4434.0</td>\n",
       "      <td>3610.0</td>\n",
       "      <td>8044.0</td>\n",
       "      <td>0.551218</td>\n",
       "      <td>1</td>\n",
       "      <td>4.0</td>\n",
       "    </tr>\n",
       "    <tr>\n",
       "      <th>7</th>\n",
       "      <td>317574</td>\n",
       "      <td>105477</td>\n",
       "      <td>0.303787</td>\n",
       "      <td>545</td>\n",
       "      <td>1993.0</td>\n",
       "      <td>1993.0</td>\n",
       "      <td>4.0</td>\n",
       "      <td>DLIL</td>\n",
       "      <td>1</td>\n",
       "      <td>569.0</td>\n",
       "      <td>939.0</td>\n",
       "      <td>1508.0</td>\n",
       "      <td>0.377321</td>\n",
       "      <td>1</td>\n",
       "      <td>2.0</td>\n",
       "    </tr>\n",
       "  </tbody>\n",
       "</table>\n",
       "</div>"
      ],
      "text/plain": [
       "  BOFI_NBR  UNIQUE_ID      Risk  NEXT_ARREST_TIME  ARREST_DATE_y  \\\n",
       "1   325011     127976  0.070880                 0         1992.0   \n",
       "3   306688      63012  0.940634               137         1990.0   \n",
       "4   310664      81452  0.372344               409         1991.0   \n",
       "6   188857      81615  0.421166                 1         1993.0   \n",
       "7   317574     105477  0.303787               545         1993.0   \n",
       "\n",
       "   SCREENING_DISP_DATE_y  SCREENING_DISP_DATE_m ADA_CODE  REARREST  \\\n",
       "1                 1992.0                    3.0     PMOR         0   \n",
       "3                 1991.0                   11.0     CKEM         1   \n",
       "4                 1991.0                    3.0     JHAN         1   \n",
       "6                 1993.0                    6.0     JLUC         1   \n",
       "7                 1993.0                    4.0     DLIL         1   \n",
       "\n",
       "   CHRG_ACCEPTED  CHRG_REJECTED  NBR_CASES  CHRG_RATE  q_risk  q_chrg_rate  \n",
       "1          522.0          716.0     1238.0   0.421648       0          3.0  \n",
       "3         1726.0         3523.0     5249.0   0.328825       4          0.0  \n",
       "4          222.0          311.0      533.0   0.416510       1          3.0  \n",
       "6         4434.0         3610.0     8044.0   0.551218       1          4.0  \n",
       "7          569.0          939.0     1508.0   0.377321       1          2.0  "
      ]
     },
     "execution_count": 31,
     "metadata": {},
     "output_type": "execute_result"
    }
   ],
   "source": [
    "val_risk_merged.head()"
   ]
  },
  {
   "cell_type": "code",
   "execution_count": 32,
   "metadata": {
    "collapsed": true
   },
   "outputs": [],
   "source": [
    "def chrg_rate_by_risk(chrg_rate_lower,chrg_rate_upper):\n",
    "    chrg_rate_bin = val_risk_merged[(val_risk_merged['CHRG_RATE']>chrg_rate_lower)&\\\n",
    "                              (val_risk_merged['CHRG_RATE']<=chrg_rate_upper)].copy()\n",
    "    chrg_rate_bin['quintile'] = pd.qcut(chrg_rate_bin['Risk'],5,labels=False)\n",
    "    chrg_rate_bin['count'] = 1\n",
    "    chrg_rate_bin_q = chrg_rate_bin.groupby('quintile')[['REARREST','count']].sum()\n",
    "    chrg_rate_bin_q['rearrest_rate']=chrg_rate_bin_q['REARREST']/chrg_rate_bin_q['count']\n",
    "    print('Arrestees released by screeners with charge rates of %d%% to %d%%' %(chrg_rate_lower*100,chrg_rate_upper*100))\n",
    "    print(chrg_rate_bin_q)"
   ]
  },
  {
   "cell_type": "code",
   "execution_count": 33,
   "metadata": {
    "collapsed": false
   },
   "outputs": [
    {
     "name": "stdout",
     "output_type": "stream",
     "text": [
      "Arrestees released by screeners with charge rates of 0% to 100%\n",
      "          REARREST  count  rearrest_rate\n",
      "quintile                                \n",
      "0              231   1836       0.125817\n",
      "1              592   1835       0.322616\n",
      "2              983   1836       0.535403\n",
      "3             1380   1835       0.752044\n",
      "4             1607   1836       0.875272\n",
      "Arrestees released by screeners with charge rates of 30% to 40%\n",
      "          REARREST  count  rearrest_rate\n",
      "quintile                                \n",
      "0              119    992       0.119960\n",
      "1              319    992       0.321573\n",
      "2              533    992       0.537298\n",
      "3              786    992       0.792339\n",
      "4              877    992       0.884073\n",
      "Arrestees released by screeners with charge rates of 40% to 50%\n",
      "          REARREST  count  rearrest_rate\n",
      "quintile                                \n",
      "0               53    407       0.130221\n",
      "1              150    406       0.369458\n",
      "2              243    406       0.598522\n",
      "3              301    406       0.741379\n",
      "4              341    406       0.839901\n",
      "Arrestees released by screeners with charge rates of 50% to 60%\n",
      "          REARREST  count  rearrest_rate\n",
      "quintile                                \n",
      "0               45    201       0.223881\n",
      "1               81    200       0.405000\n",
      "2              104    200       0.520000\n",
      "3              126    200       0.630000\n",
      "4              167    200       0.835000\n"
     ]
    }
   ],
   "source": [
    "chrg_rate_by_risk(0,1)\n",
    "chrg_rate_by_risk(.3,.4)\n",
    "chrg_rate_by_risk(.4,.5)\n",
    "chrg_rate_by_risk(.5,.6)"
   ]
  },
  {
   "cell_type": "code",
   "execution_count": 34,
   "metadata": {
    "collapsed": false
   },
   "outputs": [
    {
     "name": "stdout",
     "output_type": "stream",
     "text": [
      "Arrestees released by screeners with charge rates of 0% to 100%\n",
      "          REARREST  count  rearrest_rate\n",
      "quintile                                \n",
      "0              231   1836       0.125817\n",
      "1              592   1835       0.322616\n",
      "2              983   1836       0.535403\n",
      "3             1380   1835       0.752044\n",
      "4             1607   1836       0.875272\n"
     ]
    }
   ],
   "source": [
    "chrg_rate_by_risk(0,1)"
   ]
  },
  {
   "cell_type": "markdown",
   "metadata": {},
   "source": [
    "# Racial Analysis"
   ]
  },
  {
   "cell_type": "code",
   "execution_count": 190,
   "metadata": {
    "collapsed": false
   },
   "outputs": [],
   "source": [
    "risk_race = pd.merge(val_risk, \\\n",
    "                 data[['UNIQUE_ID','RACE','NEXT_ARREST_TIME']],\\\n",
    "                 on='UNIQUE_ID', \\\n",
    "                 how='left')\n",
    "\n",
    "val_pred = pd.read_csv('results/val_pred.csv', encoding = \"ISO-8859-1\", low_memory=False, index_col=0)\n",
    "\n",
    "risk_race = pd.merge(risk_race, \\\n",
    "                 val_pred,\\\n",
    "                 on='UNIQUE_ID', \\\n",
    "                 how='left')\n",
    "\n",
    "\n",
    "risk_race = pd.merge(risk_race, \\\n",
    "                 data_simple[['UNIQUE_ID','ADA_CODE']],\\\n",
    "                 on='UNIQUE_ID', \\\n",
    "                 how='left')\n",
    "\n",
    "risk_race = pd.merge(risk_race, \\\n",
    "                 by_sada,\\\n",
    "                 on='ADA_CODE', \\\n",
    "                 how='left')\n",
    "\n",
    "\n",
    "risk_race = risk_race.dropna(axis=0, subset = ['ADA_CODE'])"
   ]
  },
  {
   "cell_type": "code",
   "execution_count": 195,
   "metadata": {
    "collapsed": false
   },
   "outputs": [],
   "source": [
    "chrg_rate_lower = 0\n",
    "chrg_rate_upper = 1\n",
    "\n",
    "by_race_W = risk_race[(risk_race['CHRG_RATE']>chrg_rate_lower)&\\\n",
    "                          (risk_race['CHRG_RATE']<=chrg_rate_upper)&\\\n",
    "                          (risk_race['RACE']=='W')\n",
    "                     ].copy()\n",
    "by_race_B = risk_race[(risk_race['CHRG_RATE']>chrg_rate_lower)&\\\n",
    "                          (risk_race['CHRG_RATE']<=chrg_rate_upper)&\\\n",
    "                          (risk_race['RACE']=='B')\n",
    "                     ].copy()"
   ]
  },
  {
   "cell_type": "code",
   "execution_count": 196,
   "metadata": {
    "collapsed": false
   },
   "outputs": [
    {
     "data": {
      "text/plain": [
       "<matplotlib.text.Text at 0xfbe0198>"
      ]
     },
     "execution_count": 196,
     "metadata": {},
     "output_type": "execute_result"
    },
    {
     "data": {
      "image/png": "[encoded data removed]",
      "text/plain": [
       "<matplotlib.figure.Figure at 0xe58e7b8>"
      ]
     },
     "metadata": {},
     "output_type": "display_data"
    }
   ],
   "source": [
    "\n",
    "fig,ax = plt.subplots(1,2,figsize=(10,3))\n",
    "ax[0].hist(by_race_W['Risk'])\n",
    "ax[0].set_title('Histogram of Predicted Risk for Whites')\n",
    "ax[1].hist(by_race_B['Risk'])\n",
    "ax[1].set_title('Histogram of Predicted Risk for Blacks')"
   ]
  },
  {
   "cell_type": "code",
   "execution_count": 197,
   "metadata": {
    "collapsed": false
   },
   "outputs": [
    {
     "name": "stdout",
     "output_type": "stream",
     "text": [
      "Out of 1066 whites released, 76% were rearrested within 5 years.\n",
      "Out of 7798 blacks released, 42% were rearrested within 5 years.\n",
      "Out of 1066 whites released, 88% were PREDICTED to be rearrested within 5 years.\n",
      "Out of 7798 blacks released, 38% were PREDICTED to be rearrested within 5 years.\n"
     ]
    }
   ],
   "source": [
    "num_released_W = by_race_W.groupby('true_y')['true_y'].count().sum()\n",
    "rearrest_rate_W = by_race_W.groupby('true_y')['true_y'].count()[0]/num_released_W\n",
    "num_released_B = by_race_B.groupby('true_y')['true_y'].count().sum()\n",
    "rearrest_rate_B = by_race_B.groupby('true_y')['true_y'].count()[0]/num_released_B\n",
    "print('Out of %s whites released, %d%% were rearrested within 5 years.' %(num_released_W,rearrest_rate_W*100))\n",
    "print('Out of %s blacks released, %d%% were rearrested within 5 years.' %(num_released_B,rearrest_rate_B*100))\n",
    "\n",
    "\n",
    "pred_rearrest_rate_B = by_race_B.groupby('pred_y')['pred_y'].count()[0]/num_released_B\n",
    "pred_rearrest_rate_W = by_race_W.groupby('pred_y')['pred_y'].count()[0]/num_released_W\n",
    "print('Out of %s whites released, %d%% were PREDICTED to be rearrested within 5 years.' %(num_released_W,pred_rearrest_rate_W*100))\n",
    "print('Out of %s blacks released, %d%% were PREDICTED to be rearrested within 5 years.' %(num_released_B,pred_rearrest_rate_B*100))"
   ]
  },
  {
   "cell_type": "code",
   "execution_count": 198,
   "metadata": {
    "collapsed": false
   },
   "outputs": [
    {
     "name": "stdout",
     "output_type": "stream",
     "text": [
      "Out of 125 whites that were predicted to be rearrested,     27% were false positives.\n",
      "Out of 4821 blacks that were predicted to be rearrested,     24% were false positives.\n"
     ]
    }
   ],
   "source": [
    "pred_rearrest_W = by_race_W[(by_race_W['pred_y']==1)].shape[0]\n",
    "fp_W = by_race_W[(by_race_W['true_y']==0)&(by_race_W['pred_y']==1)].shape[0]/pred_rearrest_W\n",
    "\n",
    "pred_rearrest_B = by_race_B[(by_race_B['pred_y']==1)].shape[0]\n",
    "fp_B = by_race_B[(by_race_B['true_y']==0)&(by_race_B['pred_y']==1)].shape[0]/pred_rearrest_B\n",
    "\n",
    "\n",
    "print('Out of %s whites that were predicted to be rearrested, \\\n",
    "    %d%% were false positives.' %(pred_rearrest_W,fp_W*100))\n",
    "print('Out of %s blacks that were predicted to be rearrested, \\\n",
    "    %d%% were false positives.' %(pred_rearrest_B,fp_B*100))"
   ]
  },
  {
   "cell_type": "code",
   "execution_count": 199,
   "metadata": {
    "collapsed": false
   },
   "outputs": [
    {
     "name": "stdout",
     "output_type": "stream",
     "text": [
      "Out of 941 whites that were predicted to not be rearrested,     16% were false negatives.\n",
      "Out of 2977 blacks that were predicted to not be rearrested,     29% were false negatives.\n"
     ]
    }
   ],
   "source": [
    "pred_no_rearrest_W = by_race_W[(by_race_W['pred_y']==0)].shape[0]\n",
    "fn_W = by_race_W[(by_race_W['true_y']==1)&(by_race_W['pred_y']==0)].shape[0]/pred_no_rearrest_W\n",
    "\n",
    "pred_no_rearrest_B = by_race_B[(by_race_B['pred_y']==0)].shape[0]\n",
    "fn_B = by_race_B[(by_race_B['true_y']==1)&(by_race_B['pred_y']==0)].shape[0]/pred_no_rearrest_B\n",
    "\n",
    "\n",
    "print('Out of %s whites that were predicted to not be rearrested, \\\n",
    "    %d%% were false negatives.' %(pred_no_rearrest_W,fn_W*100))\n",
    "print('Out of %s blacks that were predicted to not be rearrested, \\\n",
    "    %d%% were false negatives.' %(pred_no_rearrest_B,fn_B*100))"
   ]
  },
  {
   "cell_type": "code",
   "execution_count": null,
   "metadata": {
    "collapsed": true
   },
   "outputs": [],
   "source": []
  },
  {
   "cell_type": "code",
   "execution_count": null,
   "metadata": {
    "collapsed": true
   },
   "outputs": [],
   "source": []
  }
 ],
 "metadata": {
  "kernelspec": {
   "display_name": "Python 3",
   "language": "python",
   "name": "python3"
  },
  "language_info": {
   "codemirror_mode": {
    "name": "ipython",
    "version": 3
   },
   "file_extension": ".py",
   "mimetype": "text/x-python",
   "name": "python",
   "nbconvert_exporter": "python",
   "pygments_lexer": "ipython3",
   "version": "3.6.0"
  }
 },
 "nbformat": 4,
 "nbformat_minor": 0
}
