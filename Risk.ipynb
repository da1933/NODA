{
 "cells": [
  {
   "cell_type": "code",
   "execution_count": 1,
   "metadata": {
    "collapsed": true
   },
   "outputs": [],
   "source": [
    "import numpy as np\n",
    "import pandas as pd\n",
    "import matplotlib.pyplot as plt\n",
    "import project_env as pe\n",
    "import sklearn as sklearn\n",
    "from scipy import stats\n",
    "%matplotlib inline"
   ]
  },
  {
   "cell_type": "markdown",
   "metadata": {},
   "source": [
    "# IMPORT DATA"
   ]
  },
  {
   "cell_type": "code",
   "execution_count": 2,
   "metadata": {
    "collapsed": false
   },
   "outputs": [],
   "source": [
    "val_risk = pd.read_csv('val_risk.csv', encoding = \"ISO-8859-1\", low_memory=False, index_col=0)\n",
    "rearrest_rates = pd.read_csv('rearrest_rates.csv', encoding = \"ISO-8859-1\", low_memory=False, index_col=0)\n",
    "sada_not_charged = pd.read_csv('sada_not_charged.csv', encoding = \"ISO-8859-1\", low_memory=False, index_col=0)"
   ]
  },
  {
   "cell_type": "code",
   "execution_count": 3,
   "metadata": {
    "collapsed": false
   },
   "outputs": [],
   "source": [
    "#bring in ADA_CODE, year/month of decision, target variable\n",
    "data = pd.read_csv('merged.csv', encoding = \"ISO-8859-1\", low_memory=False)\n",
    "data_simple = pd.read_csv('data_simple.csv', encoding = \"ISO-8859-1\", low_memory=False)\n",
    "                          \n",
    "                          \n",
    "val_risk_merged = pd.merge(val_risk, \\\n",
    "                 data[['UNIQUE_ID','NEXT_ARREST_TIME','SCREENING_DISP_DATE','ARREST_DATE_y',\\\n",
    "                      'SCREENING_DISP_DATE_y','SCREENING_DISP_DATE_m']],\\\n",
    "                 on='UNIQUE_ID', \\\n",
    "                 how='left')\n",
    "val_risk_merged = pd.merge(val_risk_merged, \\\n",
    "                 data_simple[['UNIQUE_ID','ADA_CODE']],\\\n",
    "                 on='UNIQUE_ID', \\\n",
    "                 how='left')\n",
    "\n",
    "\n",
    "val_risk_merged['NEXT_ARREST_TIME'] = val_risk_merged['NEXT_ARREST_TIME'].apply(pd.to_numeric)"
   ]
  },
  {
   "cell_type": "code",
   "execution_count": 4,
   "metadata": {
    "collapsed": false
   },
   "outputs": [],
   "source": [
    "#Create target\n",
    "_temp, val_risk_merged['REARREST'] = pe.create_target(val_risk_merged,5)\n",
    "del _temp"
   ]
  },
  {
   "cell_type": "code",
   "execution_count": 5,
   "metadata": {
    "collapsed": false
   },
   "outputs": [],
   "source": [
    "#bring in screener info\n",
    "by_sada = pd.read_csv('by_sada.csv', encoding = \"ISO-8859-1\", low_memory=False)\n",
    "val_risk_merged = pd.merge(val_risk_merged, \\\n",
    "                 by_sada,\\\n",
    "                 on='ADA_CODE', \\\n",
    "                 how='left')"
   ]
  },
  {
   "cell_type": "code",
   "execution_count": 6,
   "metadata": {
    "collapsed": false
   },
   "outputs": [],
   "source": [
    "#drop if ADA_CODE is missing\n",
    "val_risk_merged = val_risk_merged.dropna(axis=0, subset = ['ADA_CODE'])"
   ]
  },
  {
   "cell_type": "markdown",
   "metadata": {},
   "source": [
    "# DISTRIBUTION OF RISK"
   ]
  },
  {
   "cell_type": "code",
   "execution_count": 7,
   "metadata": {
    "collapsed": false
   },
   "outputs": [],
   "source": [
    "def predicted_risk_dist(data, risk):\n",
    "    df = data[data['Risk']>=risk]\n",
    "    grouped = df.groupby('SCREENING_DISP_DATE_y')['SCREENING_DISP_DATE_y'].count()\n",
    "    plt.bar(grouped.index, grouped.values)\n",
    "    plt.xticks(grouped.index, grouped.index.map(str), rotation=45)\n",
    "    plt.title('Number of Arrestees with Risk > %s' %risk)\n",
    "    plt.ylabel('Screening Year')\n",
    "    plt.tight_layout()\n",
    "    plt.show()\n",
    "\n",
    "    return grouped"
   ]
  },
  {
   "cell_type": "code",
   "execution_count": 8,
   "metadata": {
    "collapsed": false
   },
   "outputs": [
    {
     "data": {
      "text/plain": [
       "Index(['BOFI_NBR', 'UNIQUE_ID', 'Risk', 'NEXT_ARREST_TIME',\n",
       "       'SCREENING_DISP_DATE', 'ARREST_DATE_y', 'SCREENING_DISP_DATE_y',\n",
       "       'SCREENING_DISP_DATE_m', 'ADA_CODE', 'REARREST', 'CHRG_ACCEPTED',\n",
       "       'CHRG_REJECTED', 'NBR_CASES', 'CHRG_RATE'],\n",
       "      dtype='object')"
      ]
     },
     "execution_count": 8,
     "metadata": {},
     "output_type": "execute_result"
    }
   ],
   "source": [
    "val_risk_merged.columns"
   ]
  },
  {
   "cell_type": "code",
   "execution_count": 9,
   "metadata": {
    "collapsed": false
   },
   "outputs": [
    {
     "data": {
      "image/png": "[encoded data removed]",
      "text/plain": [
       "<matplotlib.figure.Figure at 0x110289710>"
      ]
     },
     "metadata": {},
     "output_type": "display_data"
    }
   ],
   "source": [
    "grouped = predicted_risk_dist(val_risk_merged,.80)"
   ]
  },
  {
   "cell_type": "markdown",
   "metadata": {},
   "source": [
    "# REARREST RATES BY STRICT VS LENIENT"
   ]
  },
  {
   "cell_type": "code",
   "execution_count": 10,
   "metadata": {
    "collapsed": true
   },
   "outputs": [],
   "source": [
    "def get_rearrest_rate(sada_list, year):\n",
    "    '''\n",
    "    get rearrest rate for list of screeners\n",
    "    '''\n",
    "    data_trunc = sada_not_charged[(sada_not_charged['ARREST_DATE_y'] <= 1999 - year)]\n",
    "    data_trunc = data_trunc[data_trunc['ADA_CODE'].isin(sada_list)]\n",
    "    total = data_trunc['SCREENING_DISP_CODE'].count()\n",
    "    rearrest_cnt = data_trunc[(data_trunc['NEXT_ARREST_TIME'] >0)&(data_trunc['NEXT_ARREST_TIME'] <= year*365)]\\\n",
    "            ['SCREENING_DISP_CODE'].count()\n",
    "    rearrest_rate = rearrest_cnt/total\n",
    "    return rearrest_rate"
   ]
  },
  {
   "cell_type": "code",
   "execution_count": 11,
   "metadata": {
    "collapsed": false
   },
   "outputs": [],
   "source": [
    "len_rate_lower = .3\n",
    "len_rate_upper = .4\n",
    "strict_rate_lower = .4\n",
    "strict_rate_upper = .5\n",
    "lenient = val_risk_merged[(val_risk_merged['CHRG_RATE']>len_rate_lower)&\\\n",
    "                          (val_risk_merged['CHRG_RATE']<=len_rate_upper)].copy()\n",
    "strict = val_risk_merged[(val_risk_merged['CHRG_RATE']>strict_rate_lower)&\\\n",
    "                          (val_risk_merged['CHRG_RATE']<=strict_rate_upper)].copy()\n",
    "years = 5\n",
    "\n",
    "lenient.sort_values('Risk',ascending=False,inplace=True)"
   ]
  },
  {
   "cell_type": "code",
   "execution_count": 12,
   "metadata": {
    "collapsed": false
   },
   "outputs": [],
   "source": [
    "len_sada_list = lenient[['ADA_CODE','NBR_CASES','CHRG_ACCEPTED']].drop_duplicates()\n",
    "len_chrg_rate =  len_sada_list['CHRG_ACCEPTED'].sum()/len_sada_list['NBR_CASES'].sum()\n",
    "len_rearrest_rate = get_rearrest_rate(lenient['ADA_CODE'].unique(),years)\n",
    "\n",
    "strict_sada_list = strict[['ADA_CODE','NBR_CASES','CHRG_ACCEPTED']].drop_duplicates()\n",
    "strict_chrg_rate =  strict_sada_list['CHRG_ACCEPTED'].sum()/strict_sada_list['NBR_CASES'].sum()\n",
    "strict_rearrest_rate = get_rearrest_rate(strict['ADA_CODE'].unique(),years)\n"
   ]
  },
  {
   "cell_type": "code",
   "execution_count": 13,
   "metadata": {
    "collapsed": false,
    "scrolled": true
   },
   "outputs": [
    {
     "name": "stdout",
     "output_type": "stream",
     "text": [
      "An estimated 7747 total arrestees were seen by screeners with charge rate between 30% and 40% in the validation set.\n",
      "The weighted average charge rate for those screeners was 35% and 54% of those released were rearrested\n",
      "\n",
      "3580 total arrestees seen by screeners with charge rate between 40% and 50% in the validation set.\n",
      "The weighted average charge rate for those screeners was 43% and 53% of those released were rearrested\n",
      "\n",
      "565 additional arrestees need to be charged for the lenient screeners to have a charge rate of 43%.\n",
      "Out of the 565 predicted riskiest arrestees, 513 were rearrested, a rearrest rate of 90%.\n",
      "If those 565 were charged, the rearrest rate for the \"lenient screeners\" would be 48%.\n",
      "If those 565 were charged, the charge rate for the \"lenient screeners\" would be 43%.\n"
     ]
    }
   ],
   "source": [
    "tot_cases_len = int(lenient.shape[0]/(1-len_chrg_rate))\n",
    "\n",
    "print('An estimated %s total arrestees were seen by screeners with charge rate between %d%% and %d%% in the validation set.'\\\n",
    "      %(tot_cases_len,len_rate_lower*100,len_rate_upper*100))\n",
    "print('The weighted average charge rate for those screeners was %d%% and %d%% of those released were rearrested\\n'\\\n",
    "      %(len_chrg_rate*100,len_rearrest_rate*100))\n",
    "\n",
    "tot_cases_strict = int(strict.shape[0]/(1-strict_chrg_rate))\n",
    "\n",
    "print('%s total arrestees seen by screeners with charge rate between %d%% and %d%% in the validation set.'\\\n",
    "      %(tot_cases_strict,strict_rate_lower*100,strict_rate_upper*100))\n",
    "print('The weighted average charge rate for those screeners was %d%% and %d%% of those released were rearrested\\n'\\\n",
    "      %(strict_chrg_rate*100,strict_rearrest_rate*100))\n",
    "\n",
    "target_chrgs = int(tot_cases_len*(strict_chrg_rate-len_chrg_rate))\n",
    "marginal_rearrest_rate = lenient[:target_chrgs]['REARREST'].sum()/target_chrgs\n",
    "tot_rearrest_rate = (lenient['REARREST'].sum()-lenient[:target_chrgs]['REARREST'].sum())/\\\n",
    "                    (tot_cases_len*(1-len_chrg_rate)-target_chrgs)\n",
    "new_chrg_rate = (len_chrg_rate*tot_cases_len+target_chrgs)/tot_cases_len\n",
    "\n",
    "print('%s additional arrestees need to be charged for the lenient screeners to have a charge rate of %d%%.'\\\n",
    "      %(target_chrgs,strict_chrg_rate*100))\n",
    "print('Out of the %s predicted riskiest arrestees, %d were rearrested, a rearrest rate of %d%%.' \\\n",
    "      %(target_chrgs,marginal_rearrest_rate*target_chrgs,marginal_rearrest_rate*100))\n",
    "print('If those %s were charged, the rearrest rate for the \"lenient screeners\" would be %d%%.' \\\n",
    "      %(target_chrgs,tot_rearrest_rate*100))\n",
    "print('If those %s were charged, the charge rate for the \"lenient screeners\" would be %d%%.' \\\n",
    "      %(target_chrgs,new_chrg_rate*100))"
   ]
  },
  {
   "cell_type": "markdown",
   "metadata": {},
   "source": [
    "# Rearrest Rates by Predicted Risk"
   ]
  },
  {
   "cell_type": "code",
   "execution_count": 14,
   "metadata": {
    "collapsed": false
   },
   "outputs": [
    {
     "data": {
      "text/html": [
       "<div>\n",
       "<table border=\"1\" class=\"dataframe\">\n",
       "  <thead>\n",
       "    <tr style=\"text-align: right;\">\n",
       "      <th></th>\n",
       "      <th>BOFI_NBR</th>\n",
       "      <th>UNIQUE_ID</th>\n",
       "      <th>Risk</th>\n",
       "      <th>NEXT_ARREST_TIME</th>\n",
       "      <th>SCREENING_DISP_DATE</th>\n",
       "      <th>ARREST_DATE_y</th>\n",
       "      <th>SCREENING_DISP_DATE_y</th>\n",
       "      <th>SCREENING_DISP_DATE_m</th>\n",
       "      <th>ADA_CODE</th>\n",
       "      <th>REARREST</th>\n",
       "      <th>CHRG_ACCEPTED</th>\n",
       "      <th>CHRG_REJECTED</th>\n",
       "      <th>NBR_CASES</th>\n",
       "      <th>CHRG_RATE</th>\n",
       "    </tr>\n",
       "  </thead>\n",
       "  <tbody>\n",
       "    <tr>\n",
       "      <th>1</th>\n",
       "      <td>325011</td>\n",
       "      <td>127976</td>\n",
       "      <td>0.047620</td>\n",
       "      <td>0</td>\n",
       "      <td>1992-03-30</td>\n",
       "      <td>1992.0</td>\n",
       "      <td>1992.0</td>\n",
       "      <td>3.0</td>\n",
       "      <td>PMOR</td>\n",
       "      <td>0</td>\n",
       "      <td>522.0</td>\n",
       "      <td>716.0</td>\n",
       "      <td>1238.0</td>\n",
       "      <td>0.421648</td>\n",
       "    </tr>\n",
       "    <tr>\n",
       "      <th>3</th>\n",
       "      <td>306688</td>\n",
       "      <td>63012</td>\n",
       "      <td>0.935873</td>\n",
       "      <td>137</td>\n",
       "      <td>1991-11-19</td>\n",
       "      <td>1990.0</td>\n",
       "      <td>1991.0</td>\n",
       "      <td>11.0</td>\n",
       "      <td>CKEM</td>\n",
       "      <td>1</td>\n",
       "      <td>1726.0</td>\n",
       "      <td>3523.0</td>\n",
       "      <td>5249.0</td>\n",
       "      <td>0.328825</td>\n",
       "    </tr>\n",
       "    <tr>\n",
       "      <th>4</th>\n",
       "      <td>310664</td>\n",
       "      <td>81452</td>\n",
       "      <td>0.388982</td>\n",
       "      <td>409</td>\n",
       "      <td>1991-03-27</td>\n",
       "      <td>1991.0</td>\n",
       "      <td>1991.0</td>\n",
       "      <td>3.0</td>\n",
       "      <td>JHAN</td>\n",
       "      <td>1</td>\n",
       "      <td>222.0</td>\n",
       "      <td>311.0</td>\n",
       "      <td>533.0</td>\n",
       "      <td>0.416510</td>\n",
       "    </tr>\n",
       "    <tr>\n",
       "      <th>6</th>\n",
       "      <td>188857</td>\n",
       "      <td>81615</td>\n",
       "      <td>0.400215</td>\n",
       "      <td>1</td>\n",
       "      <td>1993-06-02</td>\n",
       "      <td>1993.0</td>\n",
       "      <td>1993.0</td>\n",
       "      <td>6.0</td>\n",
       "      <td>JLUC</td>\n",
       "      <td>1</td>\n",
       "      <td>4434.0</td>\n",
       "      <td>3610.0</td>\n",
       "      <td>8044.0</td>\n",
       "      <td>0.551218</td>\n",
       "    </tr>\n",
       "    <tr>\n",
       "      <th>7</th>\n",
       "      <td>317574</td>\n",
       "      <td>105477</td>\n",
       "      <td>0.296574</td>\n",
       "      <td>545</td>\n",
       "      <td>1993-04-07</td>\n",
       "      <td>1993.0</td>\n",
       "      <td>1993.0</td>\n",
       "      <td>4.0</td>\n",
       "      <td>DLIL</td>\n",
       "      <td>1</td>\n",
       "      <td>569.0</td>\n",
       "      <td>939.0</td>\n",
       "      <td>1508.0</td>\n",
       "      <td>0.377321</td>\n",
       "    </tr>\n",
       "  </tbody>\n",
       "</table>\n",
       "</div>"
      ],
      "text/plain": [
       "  BOFI_NBR  UNIQUE_ID      Risk  NEXT_ARREST_TIME SCREENING_DISP_DATE  \\\n",
       "1   325011     127976  0.047620                 0          1992-03-30   \n",
       "3   306688      63012  0.935873               137          1991-11-19   \n",
       "4   310664      81452  0.388982               409          1991-03-27   \n",
       "6   188857      81615  0.400215                 1          1993-06-02   \n",
       "7   317574     105477  0.296574               545          1993-04-07   \n",
       "\n",
       "   ARREST_DATE_y  SCREENING_DISP_DATE_y  SCREENING_DISP_DATE_m ADA_CODE  \\\n",
       "1         1992.0                 1992.0                    3.0     PMOR   \n",
       "3         1990.0                 1991.0                   11.0     CKEM   \n",
       "4         1991.0                 1991.0                    3.0     JHAN   \n",
       "6         1993.0                 1993.0                    6.0     JLUC   \n",
       "7         1993.0                 1993.0                    4.0     DLIL   \n",
       "\n",
       "   REARREST  CHRG_ACCEPTED  CHRG_REJECTED  NBR_CASES  CHRG_RATE  \n",
       "1         0          522.0          716.0     1238.0   0.421648  \n",
       "3         1         1726.0         3523.0     5249.0   0.328825  \n",
       "4         1          222.0          311.0      533.0   0.416510  \n",
       "6         1         4434.0         3610.0     8044.0   0.551218  \n",
       "7         1          569.0          939.0     1508.0   0.377321  "
      ]
     },
     "execution_count": 14,
     "metadata": {},
     "output_type": "execute_result"
    }
   ],
   "source": [
    "val_risk_merged.head()"
   ]
  },
  {
   "cell_type": "code",
   "execution_count": 15,
   "metadata": {
    "collapsed": true
   },
   "outputs": [],
   "source": [
    "def chrg_rate_by_risk(chrg_rate_lower,chrg_rate_upper):\n",
    "    chrg_rate_bin = val_risk_merged[(val_risk_merged['CHRG_RATE']>chrg_rate_lower)&\\\n",
    "                              (val_risk_merged['CHRG_RATE']<=chrg_rate_upper)].copy()\n",
    "    chrg_rate_bin['quintile'] = pd.qcut(chrg_rate_bin['Risk'],5,labels=False)\n",
    "    chrg_rate_bin['count'] = 1\n",
    "    chrg_rate_bin_q = chrg_rate_bin.groupby('quintile')[['REARREST','count']].sum()\n",
    "    chrg_rate_bin_q['rearrest_rate']=chrg_rate_bin_q['REARREST']/chrg_rate_bin_q['count']\n",
    "    print('Arrestees released by screeners with charge rates of %d%% to %d%%' %(chrg_rate_lower*100,chrg_rate_upper*100))\n",
    "    print(chrg_rate_bin_q)"
   ]
  },
  {
   "cell_type": "code",
   "execution_count": 16,
   "metadata": {
    "collapsed": false
   },
   "outputs": [
    {
     "name": "stdout",
     "output_type": "stream",
     "text": [
      "Arrestees released by screeners with charge rates of 20% to 30%\n",
      "          REARREST  count  rearrest_rate\n",
      "quintile                                \n",
      "0                9     42       0.214286\n",
      "1               18     42       0.428571\n",
      "2               20     41       0.487805\n",
      "3               25     42       0.595238\n",
      "4               36     42       0.857143\n",
      "Arrestees released by screeners with charge rates of 30% to 40%\n",
      "          REARREST  count  rearrest_rate\n",
      "quintile                                \n",
      "0              123    992       0.123992\n",
      "1              311    992       0.313508\n",
      "2              534    992       0.538306\n",
      "3              789    992       0.795363\n",
      "4              877    992       0.884073\n",
      "Arrestees released by screeners with charge rates of 40% to 50%\n",
      "          REARREST  count  rearrest_rate\n",
      "quintile                                \n",
      "0               59    407       0.144963\n",
      "1              139    406       0.342365\n",
      "2              237    406       0.583744\n",
      "3              312    406       0.768473\n",
      "4              341    406       0.839901\n",
      "Arrestees released by screeners with charge rates of 50% to 60%\n",
      "          REARREST  count  rearrest_rate\n",
      "quintile                                \n",
      "0               40    201       0.199005\n",
      "1               86    200       0.430000\n",
      "2              101    200       0.505000\n",
      "3              130    200       0.650000\n",
      "4              166    200       0.830000\n"
     ]
    }
   ],
   "source": [
    "chrg_rate_by_risk(.2,.3)\n",
    "chrg_rate_by_risk(.3,.4)\n",
    "chrg_rate_by_risk(.4,.5)\n",
    "chrg_rate_by_risk(.5,.6)"
   ]
  },
  {
   "cell_type": "code",
   "execution_count": null,
   "metadata": {
    "collapsed": true
   },
   "outputs": [],
   "source": []
  }
 ],
 "metadata": {
  "kernelspec": {
   "display_name": "Python [Root]",
   "language": "python",
   "name": "Python [Root]"
  },
  "language_info": {
   "codemirror_mode": {
    "name": "ipython",
    "version": 3
   },
   "file_extension": ".py",
   "mimetype": "text/x-python",
   "name": "python",
   "nbconvert_exporter": "python",
   "pygments_lexer": "ipython3",
   "version": "3.5.2"
  }
 },
 "nbformat": 4,
 "nbformat_minor": 0
}
