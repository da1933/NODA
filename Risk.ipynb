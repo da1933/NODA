{
 "cells": [
  {
   "cell_type": "code",
   "execution_count": 1,
   "metadata": {
    "collapsed": false
   },
   "outputs": [],
   "source": [
    "import numpy as np\n",
    "import pandas as pd\n",
    "import matplotlib.pyplot as plt\n",
    "import project_env as pe\n",
    "import sklearn as sklearn\n",
    "from scipy import stats\n",
    "%matplotlib inline"
   ]
  },
  {
   "cell_type": "code",
   "execution_count": 2,
   "metadata": {
    "collapsed": false
   },
   "outputs": [],
   "source": [
    "val_risk = pd.read_csv('val_risk.csv', encoding = \"ISO-8859-1\", low_memory=False, index_col=False)"
   ]
  },
  {
   "cell_type": "code",
   "execution_count": 3,
   "metadata": {
    "collapsed": false
   },
   "outputs": [],
   "source": [
    "#bring in ADA_CODE, year/month of decision, target variable\n",
    "data = pd.read_csv('merged.csv', encoding = \"ISO-8859-1\", low_memory=False)\n",
    "data_simple = pd.read_csv('data_simple.csv', encoding = \"ISO-8859-1\", low_memory=False)\n",
    "                          \n",
    "                          \n",
    "val_risk_merged = pd.merge(val_risk, \\\n",
    "                 data[['UNIQUE_ID','NEXT_ARREST_TIME','SCREENING_DISP_DATE','ARREST_DATE_y',\\\n",
    "                      'SCREENING_DISP_DATE_y','SCREENING_DISP_DATE_m']],\\\n",
    "                 on='UNIQUE_ID', \\\n",
    "                 how='left')\n",
    "val_risk_merged = pd.merge(val_risk_merged, \\\n",
    "                 data_simple[['UNIQUE_ID','ADA_CODE']],\\\n",
    "                 on='UNIQUE_ID', \\\n",
    "                 how='left')\n",
    "\n",
    "\n",
    "val_risk_merged['NEXT_ARREST_TIME'] = val_risk_merged['NEXT_ARREST_TIME'].apply(pd.to_numeric)"
   ]
  },
  {
   "cell_type": "code",
   "execution_count": 4,
   "metadata": {
    "collapsed": false
   },
   "outputs": [],
   "source": [
    "#Create target\n",
    "_temp, val_risk_merged['REARREST'] = pe.create_target(val_risk_merged,5)\n",
    "del _temp"
   ]
  },
  {
   "cell_type": "code",
   "execution_count": 7,
   "metadata": {
    "collapsed": false
   },
   "outputs": [],
   "source": [
    "#bring in screener info\n",
    "by_sada = pd.read_csv('by_sada.csv', encoding = \"ISO-8859-1\", low_memory=False)\n",
    "val_risk_merged = pd.merge(val_risk_merged, \\\n",
    "                 by_sada,\\\n",
    "                 on='ADA_CODE', \\\n",
    "                 how='left')"
   ]
  },
  {
   "cell_type": "code",
   "execution_count": 8,
   "metadata": {
    "collapsed": false
   },
   "outputs": [],
   "source": [
    "#drop if ADA_CODE is missing\n",
    "val_risk_merged = val_risk_merged.dropna(axis=0, subset = ['ADA_CODE'])"
   ]
  },
  {
   "cell_type": "code",
   "execution_count": 87,
   "metadata": {
    "collapsed": false
   },
   "outputs": [],
   "source": [
    "def predicted_risk_dist(data, risk):\n",
    "    df = data[data['RISK']>=risk]\n",
    "    grouped = df.groupby('SCREENING_DISP_DATE_y')['SCREENING_DISP_DATE_y'].count()\n",
    "    plt.bar(grouped.index, grouped.values)\n",
    "    plt.xticks(grouped.index, grouped.index.map(str), rotation=45)\n",
    "    plt.title('Number of Arrestees with Risk > %s' %risk)\n",
    "    plt.ylabel('Screening Year')\n",
    "    plt.tight_layout()\n",
    "    plt.show()\n"
   ]
  },
  {
   "cell_type": "code",
   "execution_count": 88,
   "metadata": {
    "collapsed": false
   },
   "outputs": [
    {
     "data": {
      "image/png": "[encoded data removed]",
      "text/plain": [
       "<matplotlib.figure.Figure at 0xb293240>"
      ]
     },
     "metadata": {},
     "output_type": "display_data"
    }
   ],
   "source": [
    "predicted_risk_dist(val_risk_merged,.80)"
   ]
  },
  {
   "cell_type": "code",
   "execution_count": 89,
   "metadata": {
    "collapsed": false
   },
   "outputs": [
    {
     "data": {
      "image/png": "[encoded data removed]",
      "text/plain": [
       "<matplotlib.figure.Figure at 0xad18a90>"
      ]
     },
     "metadata": {},
     "output_type": "display_data"
    }
   ],
   "source": [
    "predicted_risk_dist(val_risk_merged,.50)"
   ]
  },
  {
   "cell_type": "markdown",
   "metadata": {},
   "source": [
    "# Rank arrestees by risk and flag the marginal arrests to get to a given charge rate"
   ]
  },
  {
   "cell_type": "code",
   "execution_count": 35,
   "metadata": {
    "collapsed": true
   },
   "outputs": [],
   "source": [
    "charge_rate = .5"
   ]
  },
  {
   "cell_type": "code",
   "execution_count": 36,
   "metadata": {
    "collapsed": false
   },
   "outputs": [],
   "source": [
    "sada_l = by_sada.loc[by_sada['CHRG_RATE'] <= charge_rate].copy()\n",
    "sada_l['n'] = ((charge_rate-sada_l['CHRG_RATE'])*sada_l['NBR_CASES']).apply(np.floor)"
   ]
  },
  {
   "cell_type": "code",
   "execution_count": 60,
   "metadata": {
    "collapsed": false
   },
   "outputs": [],
   "source": [
    "by_risk = val_risk_merged[['UNIQUE_ID','rank','RISK','ADA_CODE']].sort_values(['ADA_CODE','RISK'], ascending=[True,False])"
   ]
  },
  {
   "cell_type": "code",
   "execution_count": 61,
   "metadata": {
    "collapsed": false
   },
   "outputs": [],
   "source": [
    "by_risk['rank'] = by_risk.groupby('ADA_CODE').cumcount()"
   ]
  },
  {
   "cell_type": "code",
   "execution_count": 90,
   "metadata": {
    "collapsed": false
   },
   "outputs": [
    {
     "name": "stdout",
     "output_type": "stream",
     "text": [
      "155  additional charges\n"
     ]
    }
   ],
   "source": [
    "n = int(sada_l[sada_l['ADA_CODE']=='ADIC']['n'].values)\n",
    "print(n,' additional charges')"
   ]
  },
  {
   "cell_type": "code",
   "execution_count": 86,
   "metadata": {
    "collapsed": false
   },
   "outputs": [
    {
     "data": {
      "text/html": [
       "<div>\n",
       "<table border=\"1\" class=\"dataframe\">\n",
       "  <thead>\n",
       "    <tr style=\"text-align: right;\">\n",
       "      <th></th>\n",
       "      <th>UNIQUE_ID</th>\n",
       "      <th>rank</th>\n",
       "      <th>RISK</th>\n",
       "      <th>ADA_CODE</th>\n",
       "    </tr>\n",
       "  </thead>\n",
       "  <tbody>\n",
       "    <tr>\n",
       "      <th>2082</th>\n",
       "      <td>115880</td>\n",
       "      <td>0</td>\n",
       "      <td>0.894902</td>\n",
       "      <td>ADIC</td>\n",
       "    </tr>\n",
       "    <tr>\n",
       "      <th>3464</th>\n",
       "      <td>90468</td>\n",
       "      <td>1</td>\n",
       "      <td>0.792724</td>\n",
       "      <td>ADIC</td>\n",
       "    </tr>\n",
       "    <tr>\n",
       "      <th>3682</th>\n",
       "      <td>179935</td>\n",
       "      <td>2</td>\n",
       "      <td>0.679448</td>\n",
       "      <td>ADIC</td>\n",
       "    </tr>\n",
       "    <tr>\n",
       "      <th>1209</th>\n",
       "      <td>178655</td>\n",
       "      <td>3</td>\n",
       "      <td>0.679448</td>\n",
       "      <td>ADIC</td>\n",
       "    </tr>\n",
       "    <tr>\n",
       "      <th>10021</th>\n",
       "      <td>188052</td>\n",
       "      <td>4</td>\n",
       "      <td>0.667715</td>\n",
       "      <td>ADIC</td>\n",
       "    </tr>\n",
       "    <tr>\n",
       "      <th>4151</th>\n",
       "      <td>180973</td>\n",
       "      <td>5</td>\n",
       "      <td>0.432897</td>\n",
       "      <td>ADIC</td>\n",
       "    </tr>\n",
       "    <tr>\n",
       "      <th>4379</th>\n",
       "      <td>72706</td>\n",
       "      <td>6</td>\n",
       "      <td>0.401932</td>\n",
       "      <td>ADIC</td>\n",
       "    </tr>\n",
       "    <tr>\n",
       "      <th>436</th>\n",
       "      <td>84654</td>\n",
       "      <td>7</td>\n",
       "      <td>0.375457</td>\n",
       "      <td>ADIC</td>\n",
       "    </tr>\n",
       "    <tr>\n",
       "      <th>2564</th>\n",
       "      <td>178663</td>\n",
       "      <td>8</td>\n",
       "      <td>0.332307</td>\n",
       "      <td>ADIC</td>\n",
       "    </tr>\n",
       "  </tbody>\n",
       "</table>\n",
       "</div>"
      ],
      "text/plain": [
       "       UNIQUE_ID  rank      RISK ADA_CODE\n",
       "2082      115880     0  0.894902     ADIC\n",
       "3464       90468     1  0.792724     ADIC\n",
       "3682      179935     2  0.679448     ADIC\n",
       "1209      178655     3  0.679448     ADIC\n",
       "10021     188052     4  0.667715     ADIC\n",
       "4151      180973     5  0.432897     ADIC\n",
       "4379       72706     6  0.401932     ADIC\n",
       "436        84654     7  0.375457     ADIC\n",
       "2564      178663     8  0.332307     ADIC"
      ]
     },
     "execution_count": 86,
     "metadata": {},
     "output_type": "execute_result"
    }
   ],
   "source": [
    "by_risk[(by_risk['ADA_CODE']=='ADIC')&(by_risk['rank']<=n)]"
   ]
  },
  {
   "cell_type": "code",
   "execution_count": 69,
   "metadata": {
    "collapsed": false
   },
   "outputs": [
    {
     "data": {
      "text/html": [
       "<div>\n",
       "<table border=\"1\" class=\"dataframe\">\n",
       "  <thead>\n",
       "    <tr style=\"text-align: right;\">\n",
       "      <th></th>\n",
       "      <th>UNIQUE_ID</th>\n",
       "      <th>rank</th>\n",
       "      <th>RISK</th>\n",
       "      <th>ADA_CODE</th>\n",
       "    </tr>\n",
       "  </thead>\n",
       "  <tbody>\n",
       "    <tr>\n",
       "      <th>2082</th>\n",
       "      <td>115880</td>\n",
       "      <td>0</td>\n",
       "      <td>0.894902</td>\n",
       "      <td>ADIC</td>\n",
       "    </tr>\n",
       "    <tr>\n",
       "      <th>3464</th>\n",
       "      <td>90468</td>\n",
       "      <td>1</td>\n",
       "      <td>0.792724</td>\n",
       "      <td>ADIC</td>\n",
       "    </tr>\n",
       "    <tr>\n",
       "      <th>3682</th>\n",
       "      <td>179935</td>\n",
       "      <td>2</td>\n",
       "      <td>0.679448</td>\n",
       "      <td>ADIC</td>\n",
       "    </tr>\n",
       "    <tr>\n",
       "      <th>1209</th>\n",
       "      <td>178655</td>\n",
       "      <td>3</td>\n",
       "      <td>0.679448</td>\n",
       "      <td>ADIC</td>\n",
       "    </tr>\n",
       "    <tr>\n",
       "      <th>10021</th>\n",
       "      <td>188052</td>\n",
       "      <td>4</td>\n",
       "      <td>0.667715</td>\n",
       "      <td>ADIC</td>\n",
       "    </tr>\n",
       "    <tr>\n",
       "      <th>4151</th>\n",
       "      <td>180973</td>\n",
       "      <td>5</td>\n",
       "      <td>0.432897</td>\n",
       "      <td>ADIC</td>\n",
       "    </tr>\n",
       "    <tr>\n",
       "      <th>4379</th>\n",
       "      <td>72706</td>\n",
       "      <td>6</td>\n",
       "      <td>0.401932</td>\n",
       "      <td>ADIC</td>\n",
       "    </tr>\n",
       "    <tr>\n",
       "      <th>436</th>\n",
       "      <td>84654</td>\n",
       "      <td>7</td>\n",
       "      <td>0.375457</td>\n",
       "      <td>ADIC</td>\n",
       "    </tr>\n",
       "    <tr>\n",
       "      <th>2564</th>\n",
       "      <td>178663</td>\n",
       "      <td>8</td>\n",
       "      <td>0.332307</td>\n",
       "      <td>ADIC</td>\n",
       "    </tr>\n",
       "  </tbody>\n",
       "</table>\n",
       "</div>"
      ],
      "text/plain": [
       "       UNIQUE_ID  rank      RISK ADA_CODE\n",
       "2082      115880     0  0.894902     ADIC\n",
       "3464       90468     1  0.792724     ADIC\n",
       "3682      179935     2  0.679448     ADIC\n",
       "1209      178655     3  0.679448     ADIC\n",
       "10021     188052     4  0.667715     ADIC\n",
       "4151      180973     5  0.432897     ADIC\n",
       "4379       72706     6  0.401932     ADIC\n",
       "436        84654     7  0.375457     ADIC\n",
       "2564      178663     8  0.332307     ADIC"
      ]
     },
     "execution_count": 69,
     "metadata": {},
     "output_type": "execute_result"
    }
   ],
   "source": [
    "by_risk[(by_risk['ADA_CODE']=='ADIC')]"
   ]
  },
  {
   "cell_type": "code",
   "execution_count": 37,
   "metadata": {
    "collapsed": false
   },
   "outputs": [],
   "source": [
    "sada_list = sada_l['ADA_CODE'].unique()"
   ]
  },
  {
   "cell_type": "code",
   "execution_count": 71,
   "metadata": {
    "collapsed": false
   },
   "outputs": [],
   "source": [
    "for s in sada_list:\n",
    "    '''\n",
    "    n = number of charges that need to be filed to get to charge_rate\n",
    "    '''\n",
    "    n = int(sada_l[sada_l['ADA_CODE']=='ADIC']['n'].values)"
   ]
  },
  {
   "cell_type": "code",
   "execution_count": null,
   "metadata": {
    "collapsed": true
   },
   "outputs": [],
   "source": []
  }
 ],
 "metadata": {
  "kernelspec": {
   "display_name": "Python 3",
   "language": "python",
   "name": "python3"
  },
  "language_info": {
   "codemirror_mode": {
    "name": "ipython",
    "version": 3
   },
   "file_extension": ".py",
   "mimetype": "text/x-python",
   "name": "python",
   "nbconvert_exporter": "python",
   "pygments_lexer": "ipython3",
   "version": "3.6.0"
  }
 },
 "nbformat": 4,
 "nbformat_minor": 0
}
