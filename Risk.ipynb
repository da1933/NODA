{
 "cells": [
  {
   "cell_type": "code",
   "execution_count": null,
   "metadata": {
    "collapsed": true
   },
   "outputs": [],
   "source": [
    "import numpy as np\n",
    "import pandas as pd\n",
    "import matplotlib.pyplot as plt\n",
    "import project_env as pe\n",
    "import sklearn as sklearn\n",
    "from scipy import stats\n",
    "%matplotlib inline"
   ]
  },
  {
   "cell_type": "markdown",
   "metadata": {},
   "source": [
    "# IMPORT DATA"
   ]
  },
  {
   "cell_type": "code",
   "execution_count": 3,
   "metadata": {
    "collapsed": false
   },
   "outputs": [],
   "source": [
    "val_risk = pd.read_csv('data_processing/output/val_risk.csv', encoding = \"ISO-8859-1\", low_memory=False, index_col=0)\n",
    "rearrest_rates = pd.read_csv('results/rearrest_rates.csv', encoding = \"ISO-8859-1\", low_memory=False, index_col=0)\n",
    "sada_not_charged = pd.read_csv('results/sada_not_charged.csv', encoding = \"ISO-8859-1\", low_memory=False, index_col=0)"
   ]
  },
  {
   "cell_type": "code",
   "execution_count": null,
   "metadata": {
    "collapsed": false,
    "scrolled": true
   },
   "outputs": [],
   "source": [
    "#bring in ADA_CODE, year/month of decision, target variable\n",
    "data = pd.read_csv('data_processing/output/merged.csv', encoding = \"ISO-8859-1\", low_memory=False)\n",
    "data_simple = pd.read_csv('data_processing/output/data_simple.csv', encoding = \"ISO-8859-1\", low_memory=False)\n",
    "                          \n",
    "                          \n",
    "val_risk_merged = pd.merge(val_risk, \\\n",
    "                 data[['UNIQUE_ID','NEXT_ARREST_TIME','SCREENING_DISP_DATE','ARREST_DATE_y',\\\n",
    "                      'SCREENING_DISP_DATE_y','SCREENING_DISP_DATE_m']],\\\n",
    "                 on='UNIQUE_ID', \\\n",
    "                 how='left')\n",
    "val_risk_merged = pd.merge(val_risk_merged, \\\n",
    "                 data_simple[['UNIQUE_ID','ADA_CODE']],\\\n",
    "                 on='UNIQUE_ID', \\\n",
    "                 how='left')\n",
    "\n",
    "\n",
    "val_risk_merged['NEXT_ARREST_TIME'] = val_risk_merged['NEXT_ARREST_TIME'].apply(pd.to_numeric)"
   ]
  },
  {
   "cell_type": "code",
   "execution_count": null,
   "metadata": {
    "collapsed": false
   },
   "outputs": [],
   "source": [
    "#Create target\n",
    "_temp, val_risk_merged['REARREST'] = pe.create_target(val_risk_merged,5)\n",
    "del _temp"
   ]
  },
  {
   "cell_type": "code",
   "execution_count": null,
   "metadata": {
    "collapsed": false,
    "scrolled": true
   },
   "outputs": [],
   "source": [
    "#bring in screener info\n",
    "by_sada = pd.read_csv('results/by_sada.csv', encoding = \"ISO-8859-1\", low_memory=False)\n",
    "val_risk_merged = pd.merge(val_risk_merged, \\\n",
    "                 by_sada,\\\n",
    "                 on='ADA_CODE', \\\n",
    "                 how='left')"
   ]
  },
  {
   "cell_type": "code",
   "execution_count": null,
   "metadata": {
    "collapsed": false
   },
   "outputs": [],
   "source": [
    "#drop if ADA_CODE is missing\n",
    "val_risk_merged = val_risk_merged.dropna(axis=0, subset = ['ADA_CODE'])"
   ]
  },
  {
   "cell_type": "markdown",
   "metadata": {},
   "source": [
    "# DISTRIBUTION OF RISK"
   ]
  },
  {
   "cell_type": "code",
   "execution_count": null,
   "metadata": {
    "collapsed": false
   },
   "outputs": [],
   "source": [
    "def predicted_risk_dist(data, risk):\n",
    "    df = data[data['Risk']>=risk]\n",
    "    grouped = df.groupby('SCREENING_DISP_DATE_y')['SCREENING_DISP_DATE_y'].count()\n",
    "    plt.bar(grouped.index, grouped.values)\n",
    "    plt.xticks(grouped.index, grouped.index.map(str), rotation=45)\n",
    "    plt.title('Number of Arrestees with Risk > %s' %risk)\n",
    "    plt.ylabel('Screening Year')\n",
    "    plt.tight_layout()\n",
    "    plt.show()\n",
    "\n",
    "    return grouped"
   ]
  },
  {
   "cell_type": "code",
   "execution_count": null,
   "metadata": {
    "collapsed": false
   },
   "outputs": [],
   "source": [
    "val_risk_merged.columns"
   ]
  },
  {
   "cell_type": "code",
   "execution_count": null,
   "metadata": {
    "collapsed": false
   },
   "outputs": [],
   "source": [
    "grouped = predicted_risk_dist(val_risk_merged,.80)"
   ]
  },
  {
   "cell_type": "markdown",
   "metadata": {},
   "source": [
    "# REARREST RATES BY STRICT VS LENIENT"
   ]
  },
  {
   "cell_type": "code",
   "execution_count": null,
   "metadata": {
    "collapsed": true
   },
   "outputs": [],
   "source": [
    "def get_rearrest_rate(sada_list, year):\n",
    "    '''\n",
    "    get rearrest rate for list of screeners\n",
    "    '''\n",
    "    data_trunc = sada_not_charged[(sada_not_charged['ARREST_DATE_y'] <= 1999 - year)]\n",
    "    data_trunc = data_trunc[data_trunc['ADA_CODE'].isin(sada_list)]\n",
    "    total = data_trunc['SCREENING_DISP_CODE'].count()\n",
    "    rearrest_cnt = data_trunc[(data_trunc['NEXT_ARREST_TIME'] >0)&(data_trunc['NEXT_ARREST_TIME'] <= year*365)]\\\n",
    "            ['SCREENING_DISP_CODE'].count()\n",
    "    rearrest_rate = rearrest_cnt/total\n",
    "    return rearrest_rate"
   ]
  },
  {
   "cell_type": "code",
   "execution_count": null,
   "metadata": {
    "collapsed": false
   },
   "outputs": [],
   "source": [
    "len_rate_lower = .3\n",
    "len_rate_upper = .4\n",
    "strict_rate_lower = .4\n",
    "strict_rate_upper = .5\n",
    "lenient = val_risk_merged[(val_risk_merged['CHRG_RATE']>len_rate_lower)&\\\n",
    "                          (val_risk_merged['CHRG_RATE']<=len_rate_upper)].copy()\n",
    "strict = val_risk_merged[(val_risk_merged['CHRG_RATE']>strict_rate_lower)&\\\n",
    "                          (val_risk_merged['CHRG_RATE']<=strict_rate_upper)].copy()\n",
    "years = 5\n",
    "\n",
    "lenient.sort_values('Risk',ascending=False,inplace=True)"
   ]
  },
  {
   "cell_type": "code",
   "execution_count": null,
   "metadata": {
    "collapsed": false
   },
   "outputs": [],
   "source": [
    "len_sada_list = lenient[['ADA_CODE','NBR_CASES','CHRG_ACCEPTED']].drop_duplicates()\n",
    "len_chrg_rate =  len_sada_list['CHRG_ACCEPTED'].sum()/len_sada_list['NBR_CASES'].sum()\n",
    "len_rearrest_rate = get_rearrest_rate(lenient['ADA_CODE'].unique(),years)\n",
    "\n",
    "strict_sada_list = strict[['ADA_CODE','NBR_CASES','CHRG_ACCEPTED']].drop_duplicates()\n",
    "strict_chrg_rate =  strict_sada_list['CHRG_ACCEPTED'].sum()/strict_sada_list['NBR_CASES'].sum()\n",
    "strict_rearrest_rate = get_rearrest_rate(strict['ADA_CODE'].unique(),years)\n"
   ]
  },
  {
   "cell_type": "code",
   "execution_count": null,
   "metadata": {
    "collapsed": false,
    "scrolled": true
   },
   "outputs": [],
   "source": [
    "tot_cases_len = int(lenient.shape[0]/(1-len_chrg_rate))\n",
    "\n",
    "print('An estimated %s total arrestees were seen by screeners with charge rate between %d%% and %d%% in the validation set.'\\\n",
    "      %(tot_cases_len,len_rate_lower*100,len_rate_upper*100))\n",
    "print('The weighted average charge rate for those screeners was %d%% and %d%% of those released were rearrested\\n'\\\n",
    "      %(len_chrg_rate*100,len_rearrest_rate*100))\n",
    "\n",
    "tot_cases_strict = int(strict.shape[0]/(1-strict_chrg_rate))\n",
    "\n",
    "print('%s total arrestees seen by screeners with charge rate between %d%% and %d%% in the validation set.'\\\n",
    "      %(tot_cases_strict,strict_rate_lower*100,strict_rate_upper*100))\n",
    "print('The weighted average charge rate for those screeners was %d%% and %d%% of those released were rearrested\\n'\\\n",
    "      %(strict_chrg_rate*100,strict_rearrest_rate*100))\n",
    "\n",
    "target_chrgs = int(tot_cases_len*(strict_chrg_rate-len_chrg_rate))\n",
    "marginal_rearrest_rate = lenient[:target_chrgs]['REARREST'].sum()/target_chrgs\n",
    "tot_rearrest_rate = (lenient['REARREST'].sum()-lenient[:target_chrgs]['REARREST'].sum())/\\\n",
    "                    (tot_cases_len*(1-len_chrg_rate)-target_chrgs)\n",
    "new_chrg_rate = (len_chrg_rate*tot_cases_len+target_chrgs)/tot_cases_len\n",
    "\n",
    "print('%s additional arrestees need to be charged for the lenient screeners to have a charge rate of %d%%.'\\\n",
    "      %(target_chrgs,strict_chrg_rate*100))\n",
    "print('Out of the %s predicted riskiest arrestees, %d were rearrested, a rearrest rate of %d%%.' \\\n",
    "      %(target_chrgs,marginal_rearrest_rate*target_chrgs,marginal_rearrest_rate*100))\n",
    "print('If those %s were charged, the rearrest rate for the \"lenient screeners\" would be %d%%.' \\\n",
    "      %(target_chrgs,tot_rearrest_rate*100))\n",
    "print('If those %s were charged, the charge rate for the \"lenient screeners\" would be %d%%.' \\\n",
    "      %(target_chrgs,new_chrg_rate*100))"
   ]
  },
  {
   "cell_type": "code",
   "execution_count": null,
   "metadata": {
    "collapsed": true
   },
   "outputs": [],
   "source": [
    "def get_p_value(threshold, n=1000):\n",
    "    rearrest_rates = np.zeros(n)\n",
    "    for i in range(n):\n",
    "        lenient_rand = lenient.reindex(np.random.permutation(lenient.index))\n",
    "        rearrest_rates[i] = (lenient['REARREST'].sum()-lenient_rand[:target_chrgs]['REARREST'].sum())/\\\n",
    "                        (tot_cases_len*(1-len_chrg_rate)-target_chrgs)\n",
    "    p_value = len(rearrest_rates[rearrest_rates<=threshold])/n\n",
    "    return p_value, rearrest_rates"
   ]
  },
  {
   "cell_type": "code",
   "execution_count": null,
   "metadata": {
    "collapsed": false
   },
   "outputs": [],
   "source": [
    "p_value, rearrest_rates_rand = get_p_value(.49, n=1000)"
   ]
  },
  {
   "cell_type": "code",
   "execution_count": null,
   "metadata": {
    "collapsed": false
   },
   "outputs": [],
   "source": [
    "p_value"
   ]
  },
  {
   "cell_type": "code",
   "execution_count": null,
   "metadata": {
    "collapsed": false
   },
   "outputs": [],
   "source": [
    "plt.plot(rearrest_rates_rand)"
   ]
  },
  {
   "cell_type": "markdown",
   "metadata": {},
   "source": [
    "# Rearrest Rates by Predicted Risk"
   ]
  },
  {
   "cell_type": "code",
   "execution_count": null,
   "metadata": {
    "collapsed": false
   },
   "outputs": [],
   "source": [
    "val_risk_merged.head()"
   ]
  },
  {
   "cell_type": "code",
   "execution_count": null,
   "metadata": {
    "collapsed": true
   },
   "outputs": [],
   "source": [
    "def chrg_rate_by_risk(chrg_rate_lower,chrg_rate_upper):\n",
    "    chrg_rate_bin = val_risk_merged[(val_risk_merged['CHRG_RATE']>chrg_rate_lower)&\\\n",
    "                              (val_risk_merged['CHRG_RATE']<=chrg_rate_upper)].copy()\n",
    "    chrg_rate_bin['quintile'] = pd.qcut(chrg_rate_bin['Risk'],5,labels=False)\n",
    "    chrg_rate_bin['count'] = 1\n",
    "    chrg_rate_bin_q = chrg_rate_bin.groupby('quintile')[['REARREST','count']].sum()\n",
    "    chrg_rate_bin_q['rearrest_rate']=chrg_rate_bin_q['REARREST']/chrg_rate_bin_q['count']\n",
    "    print('Arrestees released by screeners with charge rates of %d%% to %d%%' %(chrg_rate_lower*100,chrg_rate_upper*100))\n",
    "    print(chrg_rate_bin_q)"
   ]
  },
  {
   "cell_type": "code",
   "execution_count": null,
   "metadata": {
    "collapsed": false
   },
   "outputs": [],
   "source": [
    "chrg_rate_by_risk(0,1)\n",
    "chrg_rate_by_risk(.3,.4)\n",
    "chrg_rate_by_risk(.4,.5)\n",
    "chrg_rate_by_risk(.5,.6)"
   ]
  },
  {
   "cell_type": "code",
   "execution_count": null,
   "metadata": {
    "collapsed": false
   },
   "outputs": [],
   "source": [
    "chrg_rate_by_risk(0,1)"
   ]
  }
 ],
 "metadata": {
  "kernelspec": {
   "display_name": "Python [Root]",
   "language": "python",
   "name": "Python [Root]"
  },
  "language_info": {
   "codemirror_mode": {
    "name": "ipython",
    "version": 3
   },
   "file_extension": ".py",
   "mimetype": "text/x-python",
   "name": "python",
   "nbconvert_exporter": "python",
   "pygments_lexer": "ipython3",
   "version": "3.5.2"
  }
 },
 "nbformat": 4,
 "nbformat_minor": 0
}
