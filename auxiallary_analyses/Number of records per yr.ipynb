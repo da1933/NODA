{
 "cells": [
  {
   "cell_type": "code",
   "execution_count": 1,
   "metadata": {
    "collapsed": false
   },
   "outputs": [],
   "source": [
    "import pandas as pd\n",
    "import matplotlib as plt\n",
    "%matplotlib inline"
   ]
  },
  {
   "cell_type": "code",
   "execution_count": 2,
   "metadata": {
    "collapsed": false
   },
   "outputs": [],
   "source": [
    "train = pd.read_csv('output/train.csv')\n",
    "val = pd.read_csv('output/val.csv')\n",
    "test = pd.read_csv('output/test.csv')"
   ]
  },
  {
   "cell_type": "code",
   "execution_count": 9,
   "metadata": {
    "collapsed": true
   },
   "outputs": [],
   "source": [
    "def create_target(data, years=2):\n",
    "    '''\n",
    "    Takes a dataframe and returns the target and features, truncating the data by the last year - arrest timeframe threshold.\n",
    "    '''\n",
    "    x = data[data['ARREST_DATE_y'] <= 1999 - years]\n",
    "    y = np.where(np.logical_and(x['NEXT_ARREST_TIME']>0,x['NEXT_ARREST_TIME']<= 365 * years), 1, 0)\n",
    "    return x, y"
   ]
  },
  {
   "cell_type": "code",
   "execution_count": 44,
   "metadata": {
    "collapsed": false
   },
   "outputs": [
    {
     "data": {
      "text/plain": [
       "36246"
      ]
     },
     "execution_count": 44,
     "metadata": {},
     "output_type": "execute_result"
    }
   ],
   "source": [
    "train.shape[0] - train[train['ARREST_DATE_y'] <= 1999 - 5].shape[0]"
   ]
  },
  {
   "cell_type": "code",
   "execution_count": 45,
   "metadata": {
    "collapsed": false
   },
   "outputs": [
    {
     "data": {
      "text/plain": [
       "0.45184935861475745"
      ]
     },
     "execution_count": 45,
     "metadata": {},
     "output_type": "execute_result"
    }
   ],
   "source": [
    "36246/80217"
   ]
  },
  {
   "cell_type": "code",
   "execution_count": 11,
   "metadata": {
    "collapsed": false
   },
   "outputs": [
    {
     "data": {
      "text/plain": [
       "7329"
      ]
     },
     "execution_count": 11,
     "metadata": {},
     "output_type": "execute_result"
    }
   ],
   "source": [
    "train.shape[0] - train[train['ARREST_DATE_y'] <= 1999 - 1].shape[0]"
   ]
  },
  {
   "cell_type": "code",
   "execution_count": 9,
   "metadata": {
    "collapsed": true
   },
   "outputs": [],
   "source": [
    "train[\"counter\"] = 1"
   ]
  },
  {
   "cell_type": "code",
   "execution_count": 21,
   "metadata": {
    "collapsed": false
   },
   "outputs": [],
   "source": [
    "train_by_year = train.groupby(['ARREST_DATE_y'], sort=True).sum()[\"counter\"]"
   ]
  },
  {
   "cell_type": "code",
   "execution_count": 33,
   "metadata": {
    "collapsed": false
   },
   "outputs": [
    {
     "name": "stderr",
     "output_type": "stream",
     "text": [
      "/anaconda/lib/python3.6/site-packages/ipykernel/__main__.py:1: FutureWarning: sort(....) is deprecated, use sort_index(.....)\n",
      "  if __name__ == '__main__':\n"
     ]
    }
   ],
   "source": [
    "train_by_year = pd.DataFrame(train_by_year.copy()).sort(ascending=False)"
   ]
  },
  {
   "cell_type": "code",
   "execution_count": 35,
   "metadata": {
    "collapsed": true
   },
   "outputs": [],
   "source": [
    "train_by_year['Cumulative Sum'] = train_by_year.cumsum()['counter']"
   ]
  },
  {
   "cell_type": "code",
   "execution_count": 37,
   "metadata": {
    "collapsed": false
   },
   "outputs": [],
   "source": [
    "train_by_year.columns = ['Records', 'Cumulative Total']"
   ]
  },
  {
   "cell_type": "code",
   "execution_count": 42,
   "metadata": {
    "collapsed": false
   },
   "outputs": [
    {
     "name": "stdout",
     "output_type": "stream",
     "text": [
      "\\begin{tabular}{lrr}\n",
      "\\toprule\n",
      "{} &  Records &  Cumulative Total \\\\\n",
      "ARREST\\_DATE\\_y &          &                   \\\\\n",
      "\\midrule\n",
      "1999.0        &     7329 &              7329 \\\\\n",
      "1998.0        &     9432 &             16761 \\\\\n",
      "1997.0        &     8450 &             25211 \\\\\n",
      "1996.0        &     5929 &             31140 \\\\\n",
      "1995.0        &     5106 &             36246 \\\\\n",
      "1994.0        &     6093 &             42339 \\\\\n",
      "1993.0        &     4770 &             47109 \\\\\n",
      "1992.0        &     6598 &             53707 \\\\\n",
      "1991.0        &     7280 &             60987 \\\\\n",
      "1990.0        &     9769 &             70756 \\\\\n",
      "1989.0        &     7783 &             78539 \\\\\n",
      "1988.0        &     1678 &             80217 \\\\\n",
      "\\bottomrule\n",
      "\\end{tabular}\n",
      "\n"
     ]
    }
   ],
   "source": [
    "print (train_by_year.to_latex())"
   ]
  }
 ],
 "metadata": {
  "kernelspec": {
   "display_name": "Python 3",
   "language": "python",
   "name": "python3"
  },
  "language_info": {
   "codemirror_mode": {
    "name": "ipython",
    "version": 3
   },
   "file_extension": ".py",
   "mimetype": "text/x-python",
   "name": "python",
   "nbconvert_exporter": "python",
   "pygments_lexer": "ipython3",
   "version": "3.6.0"
  }
 },
 "nbformat": 4,
 "nbformat_minor": 2
}
