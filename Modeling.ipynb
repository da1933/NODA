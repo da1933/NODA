{
 "cells": [
  {
   "cell_type": "code",
   "execution_count": 1,
   "metadata": {
    "collapsed": true
   },
   "outputs": [],
   "source": [
    "import numpy as np\n",
    "import pandas as pd\n",
    "import matplotlib.pyplot as plt\n",
    "import project_env as pe\n",
    "import sklearn as sklearn\n",
    "%matplotlib inline"
   ]
  },
  {
   "cell_type": "code",
   "execution_count": 2,
   "metadata": {
    "collapsed": false
   },
   "outputs": [],
   "source": [
    "data_train = pd.read_csv('data_train_enc.csv', encoding = \"ISO-8859-1\", low_memory=False)\n",
    "data_val = pd.read_csv('data_val_enc.csv', encoding = \"ISO-8859-1\", low_memory=False)"
   ]
  },
  {
   "cell_type": "code",
   "execution_count": 3,
   "metadata": {
    "collapsed": false
   },
   "outputs": [
    {
     "data": {
      "text/plain": [
       "80217"
      ]
     },
     "execution_count": 3,
     "metadata": {},
     "output_type": "execute_result"
    }
   ],
   "source": [
    "len(data_train)"
   ]
  },
  {
   "cell_type": "code",
   "execution_count": 4,
   "metadata": {
    "collapsed": false
   },
   "outputs": [
    {
     "data": {
      "text/plain": [
       "Index(['UNIQUE_ID', 'NEXT_ARREST_TIME', 'CRIMINAL_FLAG',\n",
       "       'FINAL_DETENTION_FLAG', 'HABITUAL_OFFENDER_FLAG',\n",
       "       'INITIAL_DETENTION_FLAG', 'JUVENILE_FLAG', 'TOT_NUM_DEF',\n",
       "       'MULTIPLE_DEF_FLAG', 'SCREENING_DAYS',\n",
       "       ...\n",
       "       '972', '973', '974', '975', '976', '977', '978', '979', '980', '981'],\n",
       "      dtype='object', length=1001)"
      ]
     },
     "execution_count": 4,
     "metadata": {},
     "output_type": "execute_result"
    }
   ],
   "source": [
    "data_train.columns #want to make sure it has more columns than before"
   ]
  },
  {
   "cell_type": "markdown",
   "metadata": {},
   "source": [
    "# Target Variable"
   ]
  },
  {
   "cell_type": "code",
   "execution_count": 5,
   "metadata": {
    "collapsed": false
   },
   "outputs": [],
   "source": [
    "#target variable of rearrest in 2 years\n",
    "X_train, y_train = pe.create_target(data_train, years = 2)\n",
    "X_val, y_val = pe.create_target(data_val, years = 2)"
   ]
  },
  {
   "cell_type": "code",
   "execution_count": 6,
   "metadata": {
    "collapsed": false
   },
   "outputs": [
    {
     "data": {
      "text/plain": [
       "78539"
      ]
     },
     "execution_count": 6,
     "metadata": {},
     "output_type": "execute_result"
    }
   ],
   "source": [
    "len(X_train)"
   ]
  },
  {
   "cell_type": "code",
   "execution_count": 7,
   "metadata": {
    "collapsed": false
   },
   "outputs": [
    {
     "name": "stdout",
     "output_type": "stream",
     "text": [
      "Training: 36.557633787 percent were rearrested.\n",
      "Test: 37.0308123249 percent were rearrested.\n"
     ]
    }
   ],
   "source": [
    "unique, counts = np.unique(y_train, return_counts = True)\n",
    "percent = counts[1]/counts.sum()\n",
    "print('Training: %s percent were rearrested.' %(percent*100))\n",
    "\n",
    "unique, counts = np.unique(y_val, return_counts = True)\n",
    "percent = counts[1]/counts.sum()\n",
    "print('Test: %s percent were rearrested.' %(percent*100))\n"
   ]
  },
  {
   "cell_type": "code",
   "execution_count": 8,
   "metadata": {
    "collapsed": false
   },
   "outputs": [],
   "source": [
    "#remove non-feature columns\n",
    "X_train=X_train.drop(['BOFI_NBR','SCREENING_DISP_CODE','UNIQUE_ID','NEXT_ARREST_TIME'], axis=1)\n",
    "X_val=X_val.drop(['BOFI_NBR','SCREENING_DISP_CODE','UNIQUE_ID','NEXT_ARREST_TIME'], axis=1)\n",
    "\n",
    "#Using year and month as predictive variables\n",
    "X_train=X_train.drop(['DOB','ARREST_DATE','POLICE_RPT_DATE','SCREENING_DISP_DATE',\\\n",
    "                      'BAR_ADMISSION','ARREST_DATE_y'], axis=1)\n",
    "X_val=X_val.drop(['DOB','ARREST_DATE','POLICE_RPT_DATE','SCREENING_DISP_DATE',\\\n",
    "                  'BAR_ADMISSION','ARREST_DATE_y'], axis=1)\n"
   ]
  },
  {
   "cell_type": "code",
   "execution_count": 9,
   "metadata": {
    "collapsed": false
   },
   "outputs": [
    {
     "data": {
      "text/plain": [
       "True"
      ]
     },
     "execution_count": 9,
     "metadata": {},
     "output_type": "execute_result"
    }
   ],
   "source": [
    "#check for missing val\n",
    "X_train.count().min()==X_train.count().max()"
   ]
  },
  {
   "cell_type": "markdown",
   "metadata": {
    "collapsed": true
   },
   "source": [
    "# Gradient Boosted Trees"
   ]
  },
  {
   "cell_type": "code",
   "execution_count": 10,
   "metadata": {
    "collapsed": false
   },
   "outputs": [],
   "source": [
    "from sklearn.ensemble import GradientBoostingClassifier\n",
    "gbt = GradientBoostingClassifier()\n",
    "gbt = gbt.fit(X_train,y_train)\n",
    "\n",
    "pred_train = gbt.predict(X_train)\n",
    "pred_val = gbt.predict(X_val)\n"
   ]
  },
  {
   "cell_type": "code",
   "execution_count": 11,
   "metadata": {
    "collapsed": false
   },
   "outputs": [
    {
     "name": "stdout",
     "output_type": "stream",
     "text": [
      "Accuracy on Training Dataset: 0.6956671207934911\n",
      "Accuracy on Val Dataset: 0.6902979373567609\n"
     ]
    }
   ],
   "source": [
    "#accuracy\n",
    "\n",
    "accu_train = sklearn.metrics.accuracy_score(y_train,pred_train)\n",
    "accu_test = sklearn.metrics.accuracy_score(y_val,pred_val)\n",
    "\n",
    "print(\"Accuracy on Training Dataset: {}\".format(accu_train))\n",
    "print(\"Accuracy on Val Dataset: {}\".format(accu_test))"
   ]
  },
  {
   "cell_type": "code",
   "execution_count": 12,
   "metadata": {
    "collapsed": false
   },
   "outputs": [
    {
     "name": "stdout",
     "output_type": "stream",
     "text": [
      "Precision: 0.621676891615542\n",
      "Recall: 0.41809929858341355\n",
      "F-Score: 0.4999588849601184\n"
     ]
    }
   ],
   "source": [
    "precision = sklearn.metrics.precision_score(y_val,pred_val)\n",
    "recall = sklearn.metrics.recall_score(y_val,pred_val)\n",
    "f_score = sklearn.metrics.f1_score(y_val,pred_val)\n",
    "\n",
    "print(\"Precision: {}\".format(precision))\n",
    "print(\"Recall: {}\".format(recall))\n",
    "print(\"F-Score: {}\".format(f_score))"
   ]
  },
  {
   "cell_type": "code",
   "execution_count": 13,
   "metadata": {
    "collapsed": false
   },
   "outputs": [
    {
     "data": {
      "text/plain": [
       "array([[10514,  1850],\n",
       "       [ 4231,  3040]])"
      ]
     },
     "execution_count": 13,
     "metadata": {},
     "output_type": "execute_result"
    }
   ],
   "source": [
    "#confusion matrix for val set\n",
    "cm = sklearn.metrics.confusion_matrix(y_val,pred_val)\n",
    "cm"
   ]
  },
  {
   "cell_type": "markdown",
   "metadata": {
    "collapsed": true
   },
   "source": [
    "## Bivariate Correlation Between Features and Target"
   ]
  },
  {
   "cell_type": "code",
   "execution_count": 40,
   "metadata": {
    "collapsed": false
   },
   "outputs": [],
   "source": [
    "numeric_columns = list(err_analysis.iloc[:,:-10].select_dtypes(include=numerics).columns)\n",
    "\n",
    "for name in numeric_columns:\n",
    "    print (name, err_analysis[name].unique())"
   ]
  },
  {
   "cell_type": "code",
   "execution_count": 48,
   "metadata": {
    "collapsed": false
   },
   "outputs": [],
   "source": [
    "numeric_columns = list(filter(lambda a: a not in ('SADA_SEX', 'SEX', 'UNIQUE_ID'), numeric_columns))"
   ]
  },
  {
   "cell_type": "code",
   "execution_count": 14,
   "metadata": {
    "collapsed": true
   },
   "outputs": [],
   "source": [
    "#added line in Merge Features that exports the training set before encoding so that we can conduct error analysis\n",
    "\n",
    "err_analysis = pd.read_csv('data_train.csv', encoding = \"ISO-8859-1\", low_memory=False, index_col=0, )\n",
    "\n",
    "err_analysis, y_train = pe.create_target(err_analysis, years = 2)"
   ]
  },
  {
   "cell_type": "code",
   "execution_count": 19,
   "metadata": {
    "collapsed": false
   },
   "outputs": [],
   "source": [
    "err_analysis['True_Y'] = y_train.copy()\n",
    "\n",
    "err_analysis['Pred_Y'] = pred_train.copy()"
   ]
  },
  {
   "cell_type": "code",
   "execution_count": 21,
   "metadata": {
    "collapsed": false
   },
   "outputs": [],
   "source": [
    "desc_wrong_pred = err_analysis[err_analysis['True_Y'] != err_analysis['Pred_Y']].describe()\n",
    "\n",
    "desc_right_pred = err_analysis[err_analysis['True_Y'] == err_analysis['Pred_Y']].describe()"
   ]
  },
  {
   "cell_type": "code",
   "execution_count": null,
   "metadata": {
    "collapsed": true
   },
   "outputs": [],
   "source": [
    "from scipy.stats import ttest_ind\n",
    "\n",
    "#Welch's t-test"
   ]
  },
  {
   "cell_type": "code",
   "execution_count": 23,
   "metadata": {
    "collapsed": false
   },
   "outputs": [
    {
     "data": {
      "text/html": [
       "<div>\n",
       "<table border=\"1\" class=\"dataframe\">\n",
       "  <thead>\n",
       "    <tr style=\"text-align: right;\">\n",
       "      <th></th>\n",
       "      <th>mean</th>\n",
       "      <th>mean</th>\n",
       "    </tr>\n",
       "  </thead>\n",
       "  <tbody>\n",
       "    <tr>\n",
       "      <th>UNIQUE_ID</th>\n",
       "      <td>132587.348214</td>\n",
       "      <td>151620.034738</td>\n",
       "    </tr>\n",
       "    <tr>\n",
       "      <th>NEXT_ARREST_TIME</th>\n",
       "      <td>399.848674</td>\n",
       "      <td>128.171258</td>\n",
       "    </tr>\n",
       "    <tr>\n",
       "      <th>CRIMINAL_FLAG</th>\n",
       "      <td>0.819346</td>\n",
       "      <td>0.761041</td>\n",
       "    </tr>\n",
       "    <tr>\n",
       "      <th>FINAL_DETENTION_FLAG</th>\n",
       "      <td>0.014601</td>\n",
       "      <td>0.012757</td>\n",
       "    </tr>\n",
       "    <tr>\n",
       "      <th>HABITUAL_OFFENDER_FLAG</th>\n",
       "      <td>0.000293</td>\n",
       "      <td>0.000403</td>\n",
       "    </tr>\n",
       "    <tr>\n",
       "      <th>INITIAL_DETENTION_FLAG</th>\n",
       "      <td>0.016777</td>\n",
       "      <td>0.012977</td>\n",
       "    </tr>\n",
       "    <tr>\n",
       "      <th>JUVENILE_FLAG</th>\n",
       "      <td>0.339553</td>\n",
       "      <td>0.334407</td>\n",
       "    </tr>\n",
       "    <tr>\n",
       "      <th>SADA_SEX</th>\n",
       "      <td>0.447243</td>\n",
       "      <td>0.386661</td>\n",
       "    </tr>\n",
       "    <tr>\n",
       "      <th>SEX</th>\n",
       "      <td>0.869007</td>\n",
       "      <td>0.738273</td>\n",
       "    </tr>\n",
       "    <tr>\n",
       "      <th>TOT_NUM_DEF</th>\n",
       "      <td>1.051167</td>\n",
       "      <td>1.054597</td>\n",
       "    </tr>\n",
       "    <tr>\n",
       "      <th>MULTIPLE_DEF_FLAG</th>\n",
       "      <td>0.032884</td>\n",
       "      <td>0.033256</td>\n",
       "    </tr>\n",
       "    <tr>\n",
       "      <th>SCREENING_DAYS</th>\n",
       "      <td>17.403397</td>\n",
       "      <td>17.997474</td>\n",
       "    </tr>\n",
       "    <tr>\n",
       "      <th>POLICE_RPT_DAYS</th>\n",
       "      <td>38.141662</td>\n",
       "      <td>36.915003</td>\n",
       "    </tr>\n",
       "    <tr>\n",
       "      <th>POLICE_RPT_DATE_y</th>\n",
       "      <td>1993.871852</td>\n",
       "      <td>1994.201493</td>\n",
       "    </tr>\n",
       "    <tr>\n",
       "      <th>ARREST_DATE_y</th>\n",
       "      <td>1993.752950</td>\n",
       "      <td>1994.087761</td>\n",
       "    </tr>\n",
       "    <tr>\n",
       "      <th>DOB_y</th>\n",
       "      <td>1970.628943</td>\n",
       "      <td>1970.050021</td>\n",
       "    </tr>\n",
       "    <tr>\n",
       "      <th>SCREENING_DISP_DATE_y</th>\n",
       "      <td>1993.923019</td>\n",
       "      <td>1994.248513</td>\n",
       "    </tr>\n",
       "    <tr>\n",
       "      <th>BAR_ADMISSION_y</th>\n",
       "      <td>1988.990712</td>\n",
       "      <td>1989.214964</td>\n",
       "    </tr>\n",
       "    <tr>\n",
       "      <th>POLICE_RPT_DATE_m</th>\n",
       "      <td>6.392268</td>\n",
       "      <td>6.438274</td>\n",
       "    </tr>\n",
       "    <tr>\n",
       "      <th>ARREST_DATE_m</th>\n",
       "      <td>6.391097</td>\n",
       "      <td>6.475996</td>\n",
       "    </tr>\n",
       "    <tr>\n",
       "      <th>DOB_m</th>\n",
       "      <td>6.809556</td>\n",
       "      <td>6.596427</td>\n",
       "    </tr>\n",
       "    <tr>\n",
       "      <th>SCREENING_DISP_DATE_m</th>\n",
       "      <td>6.328299</td>\n",
       "      <td>6.451123</td>\n",
       "    </tr>\n",
       "  </tbody>\n",
       "</table>\n",
       "</div>"
      ],
      "text/plain": [
       "                                 mean           mean\n",
       "UNIQUE_ID               132587.348214  151620.034738\n",
       "NEXT_ARREST_TIME           399.848674     128.171258\n",
       "CRIMINAL_FLAG                0.819346       0.761041\n",
       "FINAL_DETENTION_FLAG         0.014601       0.012757\n",
       "HABITUAL_OFFENDER_FLAG       0.000293       0.000403\n",
       "INITIAL_DETENTION_FLAG       0.016777       0.012977\n",
       "JUVENILE_FLAG                0.339553       0.334407\n",
       "SADA_SEX                     0.447243       0.386661\n",
       "SEX                          0.869007       0.738273\n",
       "TOT_NUM_DEF                  1.051167       1.054597\n",
       "MULTIPLE_DEF_FLAG            0.032884       0.033256\n",
       "SCREENING_DAYS              17.403397      17.997474\n",
       "POLICE_RPT_DAYS             38.141662      36.915003\n",
       "POLICE_RPT_DATE_y         1993.871852    1994.201493\n",
       "ARREST_DATE_y             1993.752950    1994.087761\n",
       "DOB_y                     1970.628943    1970.050021\n",
       "SCREENING_DISP_DATE_y     1993.923019    1994.248513\n",
       "BAR_ADMISSION_y           1988.990712    1989.214964\n",
       "POLICE_RPT_DATE_m            6.392268       6.438274\n",
       "ARREST_DATE_m                6.391097       6.475996\n",
       "DOB_m                        6.809556       6.596427\n",
       "SCREENING_DISP_DATE_m        6.328299       6.451123"
      ]
     },
     "execution_count": 23,
     "metadata": {},
     "output_type": "execute_result"
    }
   ],
   "source": [
    "mean_wrong_pred = desc_wrong_pred.loc['mean',]\n",
    "mean_right_pred = desc_right_pred.loc['mean',]\n",
    "pd.concat([mean_wrong_pred, mean_right_pred], axis=1).iloc[:-4, :] #only noticeable difference is next_arrest_time\n",
    "#maybe add a t-test to this\n",
    "\n",
    "#could also plot the results\n",
    "#keep in mind some of these are proportions so t-test will be different type"
   ]
  },
  {
   "cell_type": "code",
   "execution_count": 49,
   "metadata": {
    "collapsed": false
   },
   "outputs": [
    {
     "data": {
      "text/plain": [
       "NEXT_ARREST_TIME          0.004940\n",
       "CRIMINAL_FLAG             0.108573\n",
       "FINAL_DETENTION_FLAG      0.005445\n",
       "HABITUAL_OFFENDER_FLAG    0.000548\n",
       "INITIAL_DETENTION_FLAG    0.023789\n",
       "JUVENILE_FLAG             0.033279\n",
       "TOT_NUM_DEF               0.019814\n",
       "MULTIPLE_DEF_FLAG         0.026792\n",
       "SCREENING_DAYS           -0.008587\n",
       "POLICE_RPT_DAYS          -0.024399\n",
       "POLICE_RPT_DATE_y        -0.130823\n",
       "ARREST_DATE_y            -0.131676\n",
       "DOB_y                     0.051873\n",
       "SCREENING_DISP_DATE_y    -0.129971\n",
       "BAR_ADMISSION_y          -0.041911\n",
       "POLICE_RPT_DATE_m        -0.010652\n",
       "ARREST_DATE_m            -0.016602\n",
       "DOB_m                     0.033421\n",
       "SCREENING_DISP_DATE_m    -0.022142\n",
       "BAR_ADMISSION_m          -0.000187\n",
       "dtype: float64"
      ]
     },
     "execution_count": 49,
     "metadata": {},
     "output_type": "execute_result"
    }
   ],
   "source": [
    "err_analysis[numeric_columns].corrwith(err_analysis['True_Y'], )"
   ]
  },
  {
   "cell_type": "markdown",
   "metadata": {},
   "source": [
    "### Is the model is more likely to incorrectly predict no rearrest if the rearrest is very far in the future?"
   ]
  },
  {
   "cell_type": "code",
   "execution_count": 52,
   "metadata": {
    "collapsed": true
   },
   "outputs": [],
   "source": [
    "err_analysis['CORRECT'] = np.where((err_analysis['True_Y'] == err_analysis['Pred_Y']), 1, 0)"
   ]
  },
  {
   "cell_type": "code",
   "execution_count": 63,
   "metadata": {
    "collapsed": false
   },
   "outputs": [
    {
     "data": {
      "text/plain": [
       "array([[<matplotlib.axes._subplots.AxesSubplot object at 0x11ab2f2b0>]], dtype=object)"
      ]
     },
     "execution_count": 63,
     "metadata": {},
     "output_type": "execute_result"
    },
    {
     "data": {
      "image/png": "[encoded data removed]",
      "text/plain": [
       "<matplotlib.figure.Figure at 0x11ab46f60>"
      ]
     },
     "metadata": {},
     "output_type": "display_data"
    }
   ],
   "source": [
    "err_analysis[(err_analysis['True_Y'] == 1) & (err_analysis['Pred_Y'] == 0)]\\\n",
    ".hist(column = 'NEXT_ARREST_TIME', grid=False)\n"
   ]
  },
  {
   "cell_type": "code",
   "execution_count": 64,
   "metadata": {
    "collapsed": false
   },
   "outputs": [
    {
     "data": {
      "text/plain": [
       "array([[<matplotlib.axes._subplots.AxesSubplot object at 0x11ab3c978>]], dtype=object)"
      ]
     },
     "execution_count": 64,
     "metadata": {},
     "output_type": "execute_result"
    },
    {
     "data": {
      "image/png": "[encoded data removed]",
      "text/plain": [
       "<matplotlib.figure.Figure at 0x11f821828>"
      ]
     },
     "metadata": {},
     "output_type": "display_data"
    }
   ],
   "source": [
    "err_analysis[(err_analysis['True_Y'] == 1) & (err_analysis['Pred_Y'] == 1)]\\\n",
    ".hist(column = 'NEXT_ARREST_TIME', grid=False)\n"
   ]
  },
  {
   "cell_type": "markdown",
   "metadata": {},
   "source": [
    "### Prepare to compare distribution of categorical variables"
   ]
  },
  {
   "cell_type": "code",
   "execution_count": 26,
   "metadata": {
    "collapsed": true
   },
   "outputs": [],
   "source": [
    "cat_var =['ARREST_CREDIT_CODE', 'CHARGE_CLASS', 'CHARGE_TYPE', 'LEAD_CHARGE_CODE',\\\n",
    "       'PARTY', 'RACE', 'SADA_RACE','SEX','SADA_SEX']"
   ]
  },
  {
   "cell_type": "code",
   "execution_count": 27,
   "metadata": {
    "collapsed": true
   },
   "outputs": [],
   "source": [
    "pct_cat_wrong = {}\n",
    "pct_cat_right = {}\n",
    "pct_cat_compare = {}\n",
    "\n",
    "for var in cat_var:\n",
    "    pct_cat_right[var] = err_analysis[err_analysis['True_Y'] == err_analysis['Pred_Y']]\\\n",
    "    [var].value_counts()/len(err_analysis[err_analysis['True_Y'] == err_analysis['Pred_Y']])\n",
    "    \n",
    "    pct_cat_wrong[var] = err_analysis[err_analysis['True_Y'] != err_analysis['Pred_Y']]\\\n",
    "    [var].value_counts()/len(err_analysis[err_analysis['True_Y'] != err_analysis['Pred_Y']])\n",
    "    \n",
    "    pct_cat_compare[var] = pd.concat([pd.DataFrame(pct_cat_wrong[var]), pd.DataFrame(pct_cat_right[var])], axis=1)\n",
    "    pct_cat_compare[var].columns = ['Incorrectly Predicted', 'Correctly Predicted']\n",
    "    "
   ]
  },
  {
   "cell_type": "code",
   "execution_count": 32,
   "metadata": {
    "collapsed": false
   },
   "outputs": [
    {
     "data": {
      "text/html": [
       "<div>\n",
       "<table border=\"1\" class=\"dataframe\">\n",
       "  <thead>\n",
       "    <tr style=\"text-align: right;\">\n",
       "      <th></th>\n",
       "      <th>Incorrectly Predicted</th>\n",
       "      <th>Correctly Predicted</th>\n",
       "    </tr>\n",
       "  </thead>\n",
       "  <tbody>\n",
       "    <tr>\n",
       "      <th>A</th>\n",
       "      <td>0.004728</td>\n",
       "      <td>0.007852</td>\n",
       "    </tr>\n",
       "    <tr>\n",
       "      <th>B</th>\n",
       "      <td>0.938290</td>\n",
       "      <td>0.824972</td>\n",
       "    </tr>\n",
       "    <tr>\n",
       "      <th>H</th>\n",
       "      <td>0.002636</td>\n",
       "      <td>0.004411</td>\n",
       "    </tr>\n",
       "    <tr>\n",
       "      <th>I</th>\n",
       "      <td>NaN</td>\n",
       "      <td>0.000128</td>\n",
       "    </tr>\n",
       "    <tr>\n",
       "      <th>Missing</th>\n",
       "      <td>0.001548</td>\n",
       "      <td>0.026740</td>\n",
       "    </tr>\n",
       "    <tr>\n",
       "      <th>T</th>\n",
       "      <td>0.000962</td>\n",
       "      <td>0.001190</td>\n",
       "    </tr>\n",
       "    <tr>\n",
       "      <th>W</th>\n",
       "      <td>0.051837</td>\n",
       "      <td>0.134707</td>\n",
       "    </tr>\n",
       "  </tbody>\n",
       "</table>\n",
       "</div>"
      ],
      "text/plain": [
       "         Incorrectly Predicted  Correctly Predicted\n",
       "A                     0.004728             0.007852\n",
       "B                     0.938290             0.824972\n",
       "H                     0.002636             0.004411\n",
       "I                          NaN             0.000128\n",
       "Missing               0.001548             0.026740\n",
       "T                     0.000962             0.001190\n",
       "W                     0.051837             0.134707"
      ]
     },
     "execution_count": 32,
     "metadata": {},
     "output_type": "execute_result"
    }
   ],
   "source": [
    "pct_cat_compare['RACE']"
   ]
  }
 ],
 "metadata": {
  "kernelspec": {
   "display_name": "Python 3",
   "language": "python",
   "name": "python3"
  },
  "language_info": {
   "codemirror_mode": {
    "name": "ipython",
    "version": 3
   },
   "file_extension": ".py",
   "mimetype": "text/x-python",
   "name": "python",
   "nbconvert_exporter": "python",
   "pygments_lexer": "ipython3",
   "version": "3.6.0"
  }
 },
 "nbformat": 4,
 "nbformat_minor": 2
}
