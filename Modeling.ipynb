{
 "cells": [
  {
   "cell_type": "code",
   "execution_count": 36,
   "metadata": {
    "collapsed": false
   },
   "outputs": [],
   "source": [
    "import numpy as np\n",
    "import pandas as pd\n",
    "import matplotlib\n",
    "import matplotlib.pyplot as plt\n",
    "import pylab\n",
    "import project_env as pe\n",
    "import sklearn as sklearn\n",
    "import math\n",
    "from sklearn.ensemble import GradientBoostingClassifier, RandomForestClassifier\n",
    "from sklearn.model_selection import cross_val_score\n",
    "from itertools import product\n",
    "import error_analysis as ea\n",
    "from sklearn.metrics import precision_recall_curve\n",
    "from scipy.stats.stats import pearsonr\n",
    "from sklearn.datasets import make_hastie_10_2\n",
    "from sklearn.ensemble.partial_dependence import plot_partial_dependence\n",
    "%matplotlib inline"
   ]
  },
  {
   "cell_type": "code",
   "execution_count": 2,
   "metadata": {
    "collapsed": false
   },
   "outputs": [],
   "source": [
    "train = pd.read_csv('data_processing/output/train.csv')\n",
    "val = pd.read_csv('data_processing/output/val.csv')\n",
    "test = pd.read_csv('data_processing/output/test.csv')"
   ]
  },
  {
   "cell_type": "markdown",
   "metadata": {},
   "source": [
    "# Target Variable"
   ]
  },
  {
   "cell_type": "code",
   "execution_count": 3,
   "metadata": {
    "collapsed": false
   },
   "outputs": [],
   "source": [
    "#target variable of rearrest in 5 years\n",
    "X_train, y_train = pe.create_target(train, years = 5)\n",
    "X_val, y_val = pe.create_target(val, years = 5)\n",
    "\n",
    "X_test, y_test = pe.create_target(test, years = 5)"
   ]
  },
  {
   "cell_type": "code",
   "execution_count": 4,
   "metadata": {
    "collapsed": false
   },
   "outputs": [
    {
     "name": "stdout",
     "output_type": "stream",
     "text": [
      "Training: 51.9046644379 percent were rearrested.\n",
      "Test: 51.8282699654 percent were rearrested.\n"
     ]
    }
   ],
   "source": [
    "unique, counts = np.unique(y_train, return_counts = True)\n",
    "percent = counts[1]/counts.sum()\n",
    "print('Training: %s percent were rearrested.' %(percent*100))\n",
    "\n",
    "unique, counts = np.unique(y_val, return_counts = True)\n",
    "percent = counts[1]/counts.sum()\n",
    "print('Test: %s percent were rearrested.' %(percent*100))\n"
   ]
  },
  {
   "cell_type": "code",
   "execution_count": 5,
   "metadata": {
    "collapsed": false
   },
   "outputs": [],
   "source": [
    "#remove non-feature columns\n",
    "X_train=X_train.drop(['BOFI_NBR','SCREENING_DISP_CODE','UNIQUE_ID','NEXT_ARREST_TIME'], axis=1)\n",
    "X_val=X_val.drop(['BOFI_NBR','SCREENING_DISP_CODE','UNIQUE_ID','NEXT_ARREST_TIME'], axis=1)\n",
    "\n",
    "#Using year and month as predictive variables\n",
    "X_train=X_train.drop(['ARREST_DATE', 'ARREST_DATE_y'], axis=1)\n",
    "X_val=X_val.drop(['ARREST_DATE','ARREST_DATE_y'], axis=1)"
   ]
  },
  {
   "cell_type": "code",
   "execution_count": 6,
   "metadata": {
    "collapsed": true
   },
   "outputs": [],
   "source": [
    "#remove non-feature columns\n",
    "X_test=X_test.drop(['BOFI_NBR','SCREENING_DISP_CODE','UNIQUE_ID','NEXT_ARREST_TIME'], axis=1)\n",
    "\n",
    "#Using year and month as predictive variables\n",
    "X_test=X_test.drop(['ARREST_DATE', 'ARREST_DATE_y'], axis=1)"
   ]
  },
  {
   "cell_type": "markdown",
   "metadata": {
    "collapsed": true
   },
   "source": [
    "# Gradient Boosted Trees"
   ]
  },
  {
   "cell_type": "markdown",
   "metadata": {},
   "source": [
    "### Parameter Optimization"
   ]
  },
  {
   "cell_type": "code",
   "execution_count": 13,
   "metadata": {
    "collapsed": true
   },
   "outputs": [],
   "source": [
    "n_estimators = [100, 300, 500]\n",
    "learning_rates = [0.05, 0.1, 0.5]\n",
    "max_depths = [3,5,10]\n",
    "min_samples_splits = [2,4,8]"
   ]
  },
  {
   "cell_type": "code",
   "execution_count": 14,
   "metadata": {
    "collapsed": false
   },
   "outputs": [
    {
     "data": {
      "text/html": [
       "<div>\n",
       "<table border=\"1\" class=\"dataframe\">\n",
       "  <thead>\n",
       "    <tr style=\"text-align: right;\">\n",
       "      <th></th>\n",
       "      <th>n_estimator</th>\n",
       "      <th>learning_rate</th>\n",
       "      <th>max_depth</th>\n",
       "      <th>min_samples_split</th>\n",
       "      <th>ModelID</th>\n",
       "    </tr>\n",
       "  </thead>\n",
       "  <tbody>\n",
       "    <tr>\n",
       "      <th>0</th>\n",
       "      <td>100</td>\n",
       "      <td>0.05</td>\n",
       "      <td>3</td>\n",
       "      <td>2</td>\n",
       "      <td>Model1</td>\n",
       "    </tr>\n",
       "    <tr>\n",
       "      <th>1</th>\n",
       "      <td>100</td>\n",
       "      <td>0.05</td>\n",
       "      <td>3</td>\n",
       "      <td>4</td>\n",
       "      <td>Model2</td>\n",
       "    </tr>\n",
       "    <tr>\n",
       "      <th>2</th>\n",
       "      <td>100</td>\n",
       "      <td>0.05</td>\n",
       "      <td>3</td>\n",
       "      <td>8</td>\n",
       "      <td>Model3</td>\n",
       "    </tr>\n",
       "    <tr>\n",
       "      <th>3</th>\n",
       "      <td>100</td>\n",
       "      <td>0.05</td>\n",
       "      <td>5</td>\n",
       "      <td>2</td>\n",
       "      <td>Model4</td>\n",
       "    </tr>\n",
       "    <tr>\n",
       "      <th>4</th>\n",
       "      <td>100</td>\n",
       "      <td>0.05</td>\n",
       "      <td>5</td>\n",
       "      <td>4</td>\n",
       "      <td>Model5</td>\n",
       "    </tr>\n",
       "  </tbody>\n",
       "</table>\n",
       "</div>"
      ],
      "text/plain": [
       "   n_estimator  learning_rate  max_depth  min_samples_split ModelID\n",
       "0          100           0.05          3                  2  Model1\n",
       "1          100           0.05          3                  4  Model2\n",
       "2          100           0.05          3                  8  Model3\n",
       "3          100           0.05          5                  2  Model4\n",
       "4          100           0.05          5                  4  Model5"
      ]
     },
     "execution_count": 14,
     "metadata": {},
     "output_type": "execute_result"
    }
   ],
   "source": [
    "model_specs = pd.DataFrame(list(product(n_estimators, learning_rates, max_depths, min_samples_splits)),\\\n",
    "             columns=['n_estimator', 'learning_rate', 'max_depth', 'min_samples_split'])\n",
    "\n",
    "model_specs['ModelID'] = range(1, len(model_specs)+1)\n",
    "\n",
    "model_specs['ModelID'] = 'Model' + model_specs['ModelID'].astype(str)\n",
    "\n",
    "model_specs.head()"
   ]
  },
  {
   "cell_type": "code",
   "execution_count": 15,
   "metadata": {
    "collapsed": false
   },
   "outputs": [],
   "source": [
    "models = {}\n",
    "\n",
    "for i in range(len(model_specs)):\n",
    "    models[model_specs.iloc[i,:]['ModelID']] = \\\n",
    "    GradientBoostingClassifier(n_estimators = int(model_specs.iloc[i,:]['n_estimator']),\\\n",
    "                               learning_rate = float(model_specs.iloc[i,:]['learning_rate']),\\\n",
    "                               max_depth = int(model_specs.iloc[i,:]['max_depth']),\\\n",
    "                               min_samples_split = int(model_specs.iloc[i,:]['min_samples_split'])\n",
    "                              )"
   ]
  },
  {
   "cell_type": "code",
   "execution_count": 19,
   "metadata": {
    "collapsed": false
   },
   "outputs": [
    {
     "data": {
      "text/plain": [
       "{'Model1': GradientBoostingClassifier(criterion='friedman_mse', init=None,\n",
       "               learning_rate=0.05, loss='deviance', max_depth=3,\n",
       "               max_features=None, max_leaf_nodes=None,\n",
       "               min_impurity_split=1e-07, min_samples_leaf=1,\n",
       "               min_samples_split=2, min_weight_fraction_leaf=0.0,\n",
       "               n_estimators=100, presort='auto', random_state=None,\n",
       "               subsample=1.0, verbose=0, warm_start=False),\n",
       " 'Model10': GradientBoostingClassifier(criterion='friedman_mse', init=None,\n",
       "               learning_rate=0.1, loss='deviance', max_depth=3,\n",
       "               max_features=None, max_leaf_nodes=None,\n",
       "               min_impurity_split=1e-07, min_samples_leaf=1,\n",
       "               min_samples_split=2, min_weight_fraction_leaf=0.0,\n",
       "               n_estimators=100, presort='auto', random_state=None,\n",
       "               subsample=1.0, verbose=0, warm_start=False),\n",
       " 'Model11': GradientBoostingClassifier(criterion='friedman_mse', init=None,\n",
       "               learning_rate=0.1, loss='deviance', max_depth=3,\n",
       "               max_features=None, max_leaf_nodes=None,\n",
       "               min_impurity_split=1e-07, min_samples_leaf=1,\n",
       "               min_samples_split=4, min_weight_fraction_leaf=0.0,\n",
       "               n_estimators=100, presort='auto', random_state=None,\n",
       "               subsample=1.0, verbose=0, warm_start=False),\n",
       " 'Model12': GradientBoostingClassifier(criterion='friedman_mse', init=None,\n",
       "               learning_rate=0.1, loss='deviance', max_depth=3,\n",
       "               max_features=None, max_leaf_nodes=None,\n",
       "               min_impurity_split=1e-07, min_samples_leaf=1,\n",
       "               min_samples_split=8, min_weight_fraction_leaf=0.0,\n",
       "               n_estimators=100, presort='auto', random_state=None,\n",
       "               subsample=1.0, verbose=0, warm_start=False),\n",
       " 'Model13': GradientBoostingClassifier(criterion='friedman_mse', init=None,\n",
       "               learning_rate=0.1, loss='deviance', max_depth=5,\n",
       "               max_features=None, max_leaf_nodes=None,\n",
       "               min_impurity_split=1e-07, min_samples_leaf=1,\n",
       "               min_samples_split=2, min_weight_fraction_leaf=0.0,\n",
       "               n_estimators=100, presort='auto', random_state=None,\n",
       "               subsample=1.0, verbose=0, warm_start=False),\n",
       " 'Model14': GradientBoostingClassifier(criterion='friedman_mse', init=None,\n",
       "               learning_rate=0.1, loss='deviance', max_depth=5,\n",
       "               max_features=None, max_leaf_nodes=None,\n",
       "               min_impurity_split=1e-07, min_samples_leaf=1,\n",
       "               min_samples_split=4, min_weight_fraction_leaf=0.0,\n",
       "               n_estimators=100, presort='auto', random_state=None,\n",
       "               subsample=1.0, verbose=0, warm_start=False),\n",
       " 'Model15': GradientBoostingClassifier(criterion='friedman_mse', init=None,\n",
       "               learning_rate=0.1, loss='deviance', max_depth=5,\n",
       "               max_features=None, max_leaf_nodes=None,\n",
       "               min_impurity_split=1e-07, min_samples_leaf=1,\n",
       "               min_samples_split=8, min_weight_fraction_leaf=0.0,\n",
       "               n_estimators=100, presort='auto', random_state=None,\n",
       "               subsample=1.0, verbose=0, warm_start=False),\n",
       " 'Model16': GradientBoostingClassifier(criterion='friedman_mse', init=None,\n",
       "               learning_rate=0.1, loss='deviance', max_depth=10,\n",
       "               max_features=None, max_leaf_nodes=None,\n",
       "               min_impurity_split=1e-07, min_samples_leaf=1,\n",
       "               min_samples_split=2, min_weight_fraction_leaf=0.0,\n",
       "               n_estimators=100, presort='auto', random_state=None,\n",
       "               subsample=1.0, verbose=0, warm_start=False),\n",
       " 'Model17': GradientBoostingClassifier(criterion='friedman_mse', init=None,\n",
       "               learning_rate=0.1, loss='deviance', max_depth=10,\n",
       "               max_features=None, max_leaf_nodes=None,\n",
       "               min_impurity_split=1e-07, min_samples_leaf=1,\n",
       "               min_samples_split=4, min_weight_fraction_leaf=0.0,\n",
       "               n_estimators=100, presort='auto', random_state=None,\n",
       "               subsample=1.0, verbose=0, warm_start=False),\n",
       " 'Model18': GradientBoostingClassifier(criterion='friedman_mse', init=None,\n",
       "               learning_rate=0.1, loss='deviance', max_depth=10,\n",
       "               max_features=None, max_leaf_nodes=None,\n",
       "               min_impurity_split=1e-07, min_samples_leaf=1,\n",
       "               min_samples_split=8, min_weight_fraction_leaf=0.0,\n",
       "               n_estimators=100, presort='auto', random_state=None,\n",
       "               subsample=1.0, verbose=0, warm_start=False),\n",
       " 'Model19': GradientBoostingClassifier(criterion='friedman_mse', init=None,\n",
       "               learning_rate=0.5, loss='deviance', max_depth=3,\n",
       "               max_features=None, max_leaf_nodes=None,\n",
       "               min_impurity_split=1e-07, min_samples_leaf=1,\n",
       "               min_samples_split=2, min_weight_fraction_leaf=0.0,\n",
       "               n_estimators=100, presort='auto', random_state=None,\n",
       "               subsample=1.0, verbose=0, warm_start=False),\n",
       " 'Model2': GradientBoostingClassifier(criterion='friedman_mse', init=None,\n",
       "               learning_rate=0.05, loss='deviance', max_depth=3,\n",
       "               max_features=None, max_leaf_nodes=None,\n",
       "               min_impurity_split=1e-07, min_samples_leaf=1,\n",
       "               min_samples_split=4, min_weight_fraction_leaf=0.0,\n",
       "               n_estimators=100, presort='auto', random_state=None,\n",
       "               subsample=1.0, verbose=0, warm_start=False),\n",
       " 'Model20': GradientBoostingClassifier(criterion='friedman_mse', init=None,\n",
       "               learning_rate=0.5, loss='deviance', max_depth=3,\n",
       "               max_features=None, max_leaf_nodes=None,\n",
       "               min_impurity_split=1e-07, min_samples_leaf=1,\n",
       "               min_samples_split=4, min_weight_fraction_leaf=0.0,\n",
       "               n_estimators=100, presort='auto', random_state=None,\n",
       "               subsample=1.0, verbose=0, warm_start=False),\n",
       " 'Model21': GradientBoostingClassifier(criterion='friedman_mse', init=None,\n",
       "               learning_rate=0.5, loss='deviance', max_depth=3,\n",
       "               max_features=None, max_leaf_nodes=None,\n",
       "               min_impurity_split=1e-07, min_samples_leaf=1,\n",
       "               min_samples_split=8, min_weight_fraction_leaf=0.0,\n",
       "               n_estimators=100, presort='auto', random_state=None,\n",
       "               subsample=1.0, verbose=0, warm_start=False),\n",
       " 'Model22': GradientBoostingClassifier(criterion='friedman_mse', init=None,\n",
       "               learning_rate=0.5, loss='deviance', max_depth=5,\n",
       "               max_features=None, max_leaf_nodes=None,\n",
       "               min_impurity_split=1e-07, min_samples_leaf=1,\n",
       "               min_samples_split=2, min_weight_fraction_leaf=0.0,\n",
       "               n_estimators=100, presort='auto', random_state=None,\n",
       "               subsample=1.0, verbose=0, warm_start=False),\n",
       " 'Model23': GradientBoostingClassifier(criterion='friedman_mse', init=None,\n",
       "               learning_rate=0.5, loss='deviance', max_depth=5,\n",
       "               max_features=None, max_leaf_nodes=None,\n",
       "               min_impurity_split=1e-07, min_samples_leaf=1,\n",
       "               min_samples_split=4, min_weight_fraction_leaf=0.0,\n",
       "               n_estimators=100, presort='auto', random_state=None,\n",
       "               subsample=1.0, verbose=0, warm_start=False),\n",
       " 'Model24': GradientBoostingClassifier(criterion='friedman_mse', init=None,\n",
       "               learning_rate=0.5, loss='deviance', max_depth=5,\n",
       "               max_features=None, max_leaf_nodes=None,\n",
       "               min_impurity_split=1e-07, min_samples_leaf=1,\n",
       "               min_samples_split=8, min_weight_fraction_leaf=0.0,\n",
       "               n_estimators=100, presort='auto', random_state=None,\n",
       "               subsample=1.0, verbose=0, warm_start=False),\n",
       " 'Model25': GradientBoostingClassifier(criterion='friedman_mse', init=None,\n",
       "               learning_rate=0.5, loss='deviance', max_depth=10,\n",
       "               max_features=None, max_leaf_nodes=None,\n",
       "               min_impurity_split=1e-07, min_samples_leaf=1,\n",
       "               min_samples_split=2, min_weight_fraction_leaf=0.0,\n",
       "               n_estimators=100, presort='auto', random_state=None,\n",
       "               subsample=1.0, verbose=0, warm_start=False),\n",
       " 'Model26': GradientBoostingClassifier(criterion='friedman_mse', init=None,\n",
       "               learning_rate=0.5, loss='deviance', max_depth=10,\n",
       "               max_features=None, max_leaf_nodes=None,\n",
       "               min_impurity_split=1e-07, min_samples_leaf=1,\n",
       "               min_samples_split=4, min_weight_fraction_leaf=0.0,\n",
       "               n_estimators=100, presort='auto', random_state=None,\n",
       "               subsample=1.0, verbose=0, warm_start=False),\n",
       " 'Model27': GradientBoostingClassifier(criterion='friedman_mse', init=None,\n",
       "               learning_rate=0.5, loss='deviance', max_depth=10,\n",
       "               max_features=None, max_leaf_nodes=None,\n",
       "               min_impurity_split=1e-07, min_samples_leaf=1,\n",
       "               min_samples_split=8, min_weight_fraction_leaf=0.0,\n",
       "               n_estimators=100, presort='auto', random_state=None,\n",
       "               subsample=1.0, verbose=0, warm_start=False),\n",
       " 'Model28': GradientBoostingClassifier(criterion='friedman_mse', init=None,\n",
       "               learning_rate=0.05, loss='deviance', max_depth=3,\n",
       "               max_features=None, max_leaf_nodes=None,\n",
       "               min_impurity_split=1e-07, min_samples_leaf=1,\n",
       "               min_samples_split=2, min_weight_fraction_leaf=0.0,\n",
       "               n_estimators=300, presort='auto', random_state=None,\n",
       "               subsample=1.0, verbose=0, warm_start=False),\n",
       " 'Model29': GradientBoostingClassifier(criterion='friedman_mse', init=None,\n",
       "               learning_rate=0.05, loss='deviance', max_depth=3,\n",
       "               max_features=None, max_leaf_nodes=None,\n",
       "               min_impurity_split=1e-07, min_samples_leaf=1,\n",
       "               min_samples_split=4, min_weight_fraction_leaf=0.0,\n",
       "               n_estimators=300, presort='auto', random_state=None,\n",
       "               subsample=1.0, verbose=0, warm_start=False),\n",
       " 'Model3': GradientBoostingClassifier(criterion='friedman_mse', init=None,\n",
       "               learning_rate=0.05, loss='deviance', max_depth=3,\n",
       "               max_features=None, max_leaf_nodes=None,\n",
       "               min_impurity_split=1e-07, min_samples_leaf=1,\n",
       "               min_samples_split=8, min_weight_fraction_leaf=0.0,\n",
       "               n_estimators=100, presort='auto', random_state=None,\n",
       "               subsample=1.0, verbose=0, warm_start=False),\n",
       " 'Model30': GradientBoostingClassifier(criterion='friedman_mse', init=None,\n",
       "               learning_rate=0.05, loss='deviance', max_depth=3,\n",
       "               max_features=None, max_leaf_nodes=None,\n",
       "               min_impurity_split=1e-07, min_samples_leaf=1,\n",
       "               min_samples_split=8, min_weight_fraction_leaf=0.0,\n",
       "               n_estimators=300, presort='auto', random_state=None,\n",
       "               subsample=1.0, verbose=0, warm_start=False),\n",
       " 'Model31': GradientBoostingClassifier(criterion='friedman_mse', init=None,\n",
       "               learning_rate=0.05, loss='deviance', max_depth=5,\n",
       "               max_features=None, max_leaf_nodes=None,\n",
       "               min_impurity_split=1e-07, min_samples_leaf=1,\n",
       "               min_samples_split=2, min_weight_fraction_leaf=0.0,\n",
       "               n_estimators=300, presort='auto', random_state=None,\n",
       "               subsample=1.0, verbose=0, warm_start=False),\n",
       " 'Model32': GradientBoostingClassifier(criterion='friedman_mse', init=None,\n",
       "               learning_rate=0.05, loss='deviance', max_depth=5,\n",
       "               max_features=None, max_leaf_nodes=None,\n",
       "               min_impurity_split=1e-07, min_samples_leaf=1,\n",
       "               min_samples_split=4, min_weight_fraction_leaf=0.0,\n",
       "               n_estimators=300, presort='auto', random_state=None,\n",
       "               subsample=1.0, verbose=0, warm_start=False),\n",
       " 'Model33': GradientBoostingClassifier(criterion='friedman_mse', init=None,\n",
       "               learning_rate=0.05, loss='deviance', max_depth=5,\n",
       "               max_features=None, max_leaf_nodes=None,\n",
       "               min_impurity_split=1e-07, min_samples_leaf=1,\n",
       "               min_samples_split=8, min_weight_fraction_leaf=0.0,\n",
       "               n_estimators=300, presort='auto', random_state=None,\n",
       "               subsample=1.0, verbose=0, warm_start=False),\n",
       " 'Model34': GradientBoostingClassifier(criterion='friedman_mse', init=None,\n",
       "               learning_rate=0.05, loss='deviance', max_depth=10,\n",
       "               max_features=None, max_leaf_nodes=None,\n",
       "               min_impurity_split=1e-07, min_samples_leaf=1,\n",
       "               min_samples_split=2, min_weight_fraction_leaf=0.0,\n",
       "               n_estimators=300, presort='auto', random_state=None,\n",
       "               subsample=1.0, verbose=0, warm_start=False),\n",
       " 'Model35': GradientBoostingClassifier(criterion='friedman_mse', init=None,\n",
       "               learning_rate=0.05, loss='deviance', max_depth=10,\n",
       "               max_features=None, max_leaf_nodes=None,\n",
       "               min_impurity_split=1e-07, min_samples_leaf=1,\n",
       "               min_samples_split=4, min_weight_fraction_leaf=0.0,\n",
       "               n_estimators=300, presort='auto', random_state=None,\n",
       "               subsample=1.0, verbose=0, warm_start=False),\n",
       " 'Model36': GradientBoostingClassifier(criterion='friedman_mse', init=None,\n",
       "               learning_rate=0.05, loss='deviance', max_depth=10,\n",
       "               max_features=None, max_leaf_nodes=None,\n",
       "               min_impurity_split=1e-07, min_samples_leaf=1,\n",
       "               min_samples_split=8, min_weight_fraction_leaf=0.0,\n",
       "               n_estimators=300, presort='auto', random_state=None,\n",
       "               subsample=1.0, verbose=0, warm_start=False),\n",
       " 'Model37': GradientBoostingClassifier(criterion='friedman_mse', init=None,\n",
       "               learning_rate=0.1, loss='deviance', max_depth=3,\n",
       "               max_features=None, max_leaf_nodes=None,\n",
       "               min_impurity_split=1e-07, min_samples_leaf=1,\n",
       "               min_samples_split=2, min_weight_fraction_leaf=0.0,\n",
       "               n_estimators=300, presort='auto', random_state=None,\n",
       "               subsample=1.0, verbose=0, warm_start=False),\n",
       " 'Model38': GradientBoostingClassifier(criterion='friedman_mse', init=None,\n",
       "               learning_rate=0.1, loss='deviance', max_depth=3,\n",
       "               max_features=None, max_leaf_nodes=None,\n",
       "               min_impurity_split=1e-07, min_samples_leaf=1,\n",
       "               min_samples_split=4, min_weight_fraction_leaf=0.0,\n",
       "               n_estimators=300, presort='auto', random_state=None,\n",
       "               subsample=1.0, verbose=0, warm_start=False),\n",
       " 'Model39': GradientBoostingClassifier(criterion='friedman_mse', init=None,\n",
       "               learning_rate=0.1, loss='deviance', max_depth=3,\n",
       "               max_features=None, max_leaf_nodes=None,\n",
       "               min_impurity_split=1e-07, min_samples_leaf=1,\n",
       "               min_samples_split=8, min_weight_fraction_leaf=0.0,\n",
       "               n_estimators=300, presort='auto', random_state=None,\n",
       "               subsample=1.0, verbose=0, warm_start=False),\n",
       " 'Model4': GradientBoostingClassifier(criterion='friedman_mse', init=None,\n",
       "               learning_rate=0.05, loss='deviance', max_depth=5,\n",
       "               max_features=None, max_leaf_nodes=None,\n",
       "               min_impurity_split=1e-07, min_samples_leaf=1,\n",
       "               min_samples_split=2, min_weight_fraction_leaf=0.0,\n",
       "               n_estimators=100, presort='auto', random_state=None,\n",
       "               subsample=1.0, verbose=0, warm_start=False),\n",
       " 'Model40': GradientBoostingClassifier(criterion='friedman_mse', init=None,\n",
       "               learning_rate=0.1, loss='deviance', max_depth=5,\n",
       "               max_features=None, max_leaf_nodes=None,\n",
       "               min_impurity_split=1e-07, min_samples_leaf=1,\n",
       "               min_samples_split=2, min_weight_fraction_leaf=0.0,\n",
       "               n_estimators=300, presort='auto', random_state=None,\n",
       "               subsample=1.0, verbose=0, warm_start=False),\n",
       " 'Model41': GradientBoostingClassifier(criterion='friedman_mse', init=None,\n",
       "               learning_rate=0.1, loss='deviance', max_depth=5,\n",
       "               max_features=None, max_leaf_nodes=None,\n",
       "               min_impurity_split=1e-07, min_samples_leaf=1,\n",
       "               min_samples_split=4, min_weight_fraction_leaf=0.0,\n",
       "               n_estimators=300, presort='auto', random_state=None,\n",
       "               subsample=1.0, verbose=0, warm_start=False),\n",
       " 'Model42': GradientBoostingClassifier(criterion='friedman_mse', init=None,\n",
       "               learning_rate=0.1, loss='deviance', max_depth=5,\n",
       "               max_features=None, max_leaf_nodes=None,\n",
       "               min_impurity_split=1e-07, min_samples_leaf=1,\n",
       "               min_samples_split=8, min_weight_fraction_leaf=0.0,\n",
       "               n_estimators=300, presort='auto', random_state=None,\n",
       "               subsample=1.0, verbose=0, warm_start=False),\n",
       " 'Model43': GradientBoostingClassifier(criterion='friedman_mse', init=None,\n",
       "               learning_rate=0.1, loss='deviance', max_depth=10,\n",
       "               max_features=None, max_leaf_nodes=None,\n",
       "               min_impurity_split=1e-07, min_samples_leaf=1,\n",
       "               min_samples_split=2, min_weight_fraction_leaf=0.0,\n",
       "               n_estimators=300, presort='auto', random_state=None,\n",
       "               subsample=1.0, verbose=0, warm_start=False),\n",
       " 'Model44': GradientBoostingClassifier(criterion='friedman_mse', init=None,\n",
       "               learning_rate=0.1, loss='deviance', max_depth=10,\n",
       "               max_features=None, max_leaf_nodes=None,\n",
       "               min_impurity_split=1e-07, min_samples_leaf=1,\n",
       "               min_samples_split=4, min_weight_fraction_leaf=0.0,\n",
       "               n_estimators=300, presort='auto', random_state=None,\n",
       "               subsample=1.0, verbose=0, warm_start=False),\n",
       " 'Model45': GradientBoostingClassifier(criterion='friedman_mse', init=None,\n",
       "               learning_rate=0.1, loss='deviance', max_depth=10,\n",
       "               max_features=None, max_leaf_nodes=None,\n",
       "               min_impurity_split=1e-07, min_samples_leaf=1,\n",
       "               min_samples_split=8, min_weight_fraction_leaf=0.0,\n",
       "               n_estimators=300, presort='auto', random_state=None,\n",
       "               subsample=1.0, verbose=0, warm_start=False),\n",
       " 'Model46': GradientBoostingClassifier(criterion='friedman_mse', init=None,\n",
       "               learning_rate=0.5, loss='deviance', max_depth=3,\n",
       "               max_features=None, max_leaf_nodes=None,\n",
       "               min_impurity_split=1e-07, min_samples_leaf=1,\n",
       "               min_samples_split=2, min_weight_fraction_leaf=0.0,\n",
       "               n_estimators=300, presort='auto', random_state=None,\n",
       "               subsample=1.0, verbose=0, warm_start=False),\n",
       " 'Model47': GradientBoostingClassifier(criterion='friedman_mse', init=None,\n",
       "               learning_rate=0.5, loss='deviance', max_depth=3,\n",
       "               max_features=None, max_leaf_nodes=None,\n",
       "               min_impurity_split=1e-07, min_samples_leaf=1,\n",
       "               min_samples_split=4, min_weight_fraction_leaf=0.0,\n",
       "               n_estimators=300, presort='auto', random_state=None,\n",
       "               subsample=1.0, verbose=0, warm_start=False),\n",
       " 'Model48': GradientBoostingClassifier(criterion='friedman_mse', init=None,\n",
       "               learning_rate=0.5, loss='deviance', max_depth=3,\n",
       "               max_features=None, max_leaf_nodes=None,\n",
       "               min_impurity_split=1e-07, min_samples_leaf=1,\n",
       "               min_samples_split=8, min_weight_fraction_leaf=0.0,\n",
       "               n_estimators=300, presort='auto', random_state=None,\n",
       "               subsample=1.0, verbose=0, warm_start=False),\n",
       " 'Model49': GradientBoostingClassifier(criterion='friedman_mse', init=None,\n",
       "               learning_rate=0.5, loss='deviance', max_depth=5,\n",
       "               max_features=None, max_leaf_nodes=None,\n",
       "               min_impurity_split=1e-07, min_samples_leaf=1,\n",
       "               min_samples_split=2, min_weight_fraction_leaf=0.0,\n",
       "               n_estimators=300, presort='auto', random_state=None,\n",
       "               subsample=1.0, verbose=0, warm_start=False),\n",
       " 'Model5': GradientBoostingClassifier(criterion='friedman_mse', init=None,\n",
       "               learning_rate=0.05, loss='deviance', max_depth=5,\n",
       "               max_features=None, max_leaf_nodes=None,\n",
       "               min_impurity_split=1e-07, min_samples_leaf=1,\n",
       "               min_samples_split=4, min_weight_fraction_leaf=0.0,\n",
       "               n_estimators=100, presort='auto', random_state=None,\n",
       "               subsample=1.0, verbose=0, warm_start=False),\n",
       " 'Model50': GradientBoostingClassifier(criterion='friedman_mse', init=None,\n",
       "               learning_rate=0.5, loss='deviance', max_depth=5,\n",
       "               max_features=None, max_leaf_nodes=None,\n",
       "               min_impurity_split=1e-07, min_samples_leaf=1,\n",
       "               min_samples_split=4, min_weight_fraction_leaf=0.0,\n",
       "               n_estimators=300, presort='auto', random_state=None,\n",
       "               subsample=1.0, verbose=0, warm_start=False),\n",
       " 'Model51': GradientBoostingClassifier(criterion='friedman_mse', init=None,\n",
       "               learning_rate=0.5, loss='deviance', max_depth=5,\n",
       "               max_features=None, max_leaf_nodes=None,\n",
       "               min_impurity_split=1e-07, min_samples_leaf=1,\n",
       "               min_samples_split=8, min_weight_fraction_leaf=0.0,\n",
       "               n_estimators=300, presort='auto', random_state=None,\n",
       "               subsample=1.0, verbose=0, warm_start=False),\n",
       " 'Model52': GradientBoostingClassifier(criterion='friedman_mse', init=None,\n",
       "               learning_rate=0.5, loss='deviance', max_depth=10,\n",
       "               max_features=None, max_leaf_nodes=None,\n",
       "               min_impurity_split=1e-07, min_samples_leaf=1,\n",
       "               min_samples_split=2, min_weight_fraction_leaf=0.0,\n",
       "               n_estimators=300, presort='auto', random_state=None,\n",
       "               subsample=1.0, verbose=0, warm_start=False),\n",
       " 'Model53': GradientBoostingClassifier(criterion='friedman_mse', init=None,\n",
       "               learning_rate=0.5, loss='deviance', max_depth=10,\n",
       "               max_features=None, max_leaf_nodes=None,\n",
       "               min_impurity_split=1e-07, min_samples_leaf=1,\n",
       "               min_samples_split=4, min_weight_fraction_leaf=0.0,\n",
       "               n_estimators=300, presort='auto', random_state=None,\n",
       "               subsample=1.0, verbose=0, warm_start=False),\n",
       " 'Model54': GradientBoostingClassifier(criterion='friedman_mse', init=None,\n",
       "               learning_rate=0.5, loss='deviance', max_depth=10,\n",
       "               max_features=None, max_leaf_nodes=None,\n",
       "               min_impurity_split=1e-07, min_samples_leaf=1,\n",
       "               min_samples_split=8, min_weight_fraction_leaf=0.0,\n",
       "               n_estimators=300, presort='auto', random_state=None,\n",
       "               subsample=1.0, verbose=0, warm_start=False),\n",
       " 'Model55': GradientBoostingClassifier(criterion='friedman_mse', init=None,\n",
       "               learning_rate=0.05, loss='deviance', max_depth=3,\n",
       "               max_features=None, max_leaf_nodes=None,\n",
       "               min_impurity_split=1e-07, min_samples_leaf=1,\n",
       "               min_samples_split=2, min_weight_fraction_leaf=0.0,\n",
       "               n_estimators=500, presort='auto', random_state=None,\n",
       "               subsample=1.0, verbose=0, warm_start=False),\n",
       " 'Model56': GradientBoostingClassifier(criterion='friedman_mse', init=None,\n",
       "               learning_rate=0.05, loss='deviance', max_depth=3,\n",
       "               max_features=None, max_leaf_nodes=None,\n",
       "               min_impurity_split=1e-07, min_samples_leaf=1,\n",
       "               min_samples_split=4, min_weight_fraction_leaf=0.0,\n",
       "               n_estimators=500, presort='auto', random_state=None,\n",
       "               subsample=1.0, verbose=0, warm_start=False),\n",
       " 'Model57': GradientBoostingClassifier(criterion='friedman_mse', init=None,\n",
       "               learning_rate=0.05, loss='deviance', max_depth=3,\n",
       "               max_features=None, max_leaf_nodes=None,\n",
       "               min_impurity_split=1e-07, min_samples_leaf=1,\n",
       "               min_samples_split=8, min_weight_fraction_leaf=0.0,\n",
       "               n_estimators=500, presort='auto', random_state=None,\n",
       "               subsample=1.0, verbose=0, warm_start=False),\n",
       " 'Model58': GradientBoostingClassifier(criterion='friedman_mse', init=None,\n",
       "               learning_rate=0.05, loss='deviance', max_depth=5,\n",
       "               max_features=None, max_leaf_nodes=None,\n",
       "               min_impurity_split=1e-07, min_samples_leaf=1,\n",
       "               min_samples_split=2, min_weight_fraction_leaf=0.0,\n",
       "               n_estimators=500, presort='auto', random_state=None,\n",
       "               subsample=1.0, verbose=0, warm_start=False),\n",
       " 'Model59': GradientBoostingClassifier(criterion='friedman_mse', init=None,\n",
       "               learning_rate=0.05, loss='deviance', max_depth=5,\n",
       "               max_features=None, max_leaf_nodes=None,\n",
       "               min_impurity_split=1e-07, min_samples_leaf=1,\n",
       "               min_samples_split=4, min_weight_fraction_leaf=0.0,\n",
       "               n_estimators=500, presort='auto', random_state=None,\n",
       "               subsample=1.0, verbose=0, warm_start=False),\n",
       " 'Model6': GradientBoostingClassifier(criterion='friedman_mse', init=None,\n",
       "               learning_rate=0.05, loss='deviance', max_depth=5,\n",
       "               max_features=None, max_leaf_nodes=None,\n",
       "               min_impurity_split=1e-07, min_samples_leaf=1,\n",
       "               min_samples_split=8, min_weight_fraction_leaf=0.0,\n",
       "               n_estimators=100, presort='auto', random_state=None,\n",
       "               subsample=1.0, verbose=0, warm_start=False),\n",
       " 'Model60': GradientBoostingClassifier(criterion='friedman_mse', init=None,\n",
       "               learning_rate=0.05, loss='deviance', max_depth=5,\n",
       "               max_features=None, max_leaf_nodes=None,\n",
       "               min_impurity_split=1e-07, min_samples_leaf=1,\n",
       "               min_samples_split=8, min_weight_fraction_leaf=0.0,\n",
       "               n_estimators=500, presort='auto', random_state=None,\n",
       "               subsample=1.0, verbose=0, warm_start=False),\n",
       " 'Model61': GradientBoostingClassifier(criterion='friedman_mse', init=None,\n",
       "               learning_rate=0.05, loss='deviance', max_depth=10,\n",
       "               max_features=None, max_leaf_nodes=None,\n",
       "               min_impurity_split=1e-07, min_samples_leaf=1,\n",
       "               min_samples_split=2, min_weight_fraction_leaf=0.0,\n",
       "               n_estimators=500, presort='auto', random_state=None,\n",
       "               subsample=1.0, verbose=0, warm_start=False),\n",
       " 'Model62': GradientBoostingClassifier(criterion='friedman_mse', init=None,\n",
       "               learning_rate=0.05, loss='deviance', max_depth=10,\n",
       "               max_features=None, max_leaf_nodes=None,\n",
       "               min_impurity_split=1e-07, min_samples_leaf=1,\n",
       "               min_samples_split=4, min_weight_fraction_leaf=0.0,\n",
       "               n_estimators=500, presort='auto', random_state=None,\n",
       "               subsample=1.0, verbose=0, warm_start=False),\n",
       " 'Model63': GradientBoostingClassifier(criterion='friedman_mse', init=None,\n",
       "               learning_rate=0.05, loss='deviance', max_depth=10,\n",
       "               max_features=None, max_leaf_nodes=None,\n",
       "               min_impurity_split=1e-07, min_samples_leaf=1,\n",
       "               min_samples_split=8, min_weight_fraction_leaf=0.0,\n",
       "               n_estimators=500, presort='auto', random_state=None,\n",
       "               subsample=1.0, verbose=0, warm_start=False),\n",
       " 'Model64': GradientBoostingClassifier(criterion='friedman_mse', init=None,\n",
       "               learning_rate=0.1, loss='deviance', max_depth=3,\n",
       "               max_features=None, max_leaf_nodes=None,\n",
       "               min_impurity_split=1e-07, min_samples_leaf=1,\n",
       "               min_samples_split=2, min_weight_fraction_leaf=0.0,\n",
       "               n_estimators=500, presort='auto', random_state=None,\n",
       "               subsample=1.0, verbose=0, warm_start=False),\n",
       " 'Model65': GradientBoostingClassifier(criterion='friedman_mse', init=None,\n",
       "               learning_rate=0.1, loss='deviance', max_depth=3,\n",
       "               max_features=None, max_leaf_nodes=None,\n",
       "               min_impurity_split=1e-07, min_samples_leaf=1,\n",
       "               min_samples_split=4, min_weight_fraction_leaf=0.0,\n",
       "               n_estimators=500, presort='auto', random_state=None,\n",
       "               subsample=1.0, verbose=0, warm_start=False),\n",
       " 'Model66': GradientBoostingClassifier(criterion='friedman_mse', init=None,\n",
       "               learning_rate=0.1, loss='deviance', max_depth=3,\n",
       "               max_features=None, max_leaf_nodes=None,\n",
       "               min_impurity_split=1e-07, min_samples_leaf=1,\n",
       "               min_samples_split=8, min_weight_fraction_leaf=0.0,\n",
       "               n_estimators=500, presort='auto', random_state=None,\n",
       "               subsample=1.0, verbose=0, warm_start=False),\n",
       " 'Model67': GradientBoostingClassifier(criterion='friedman_mse', init=None,\n",
       "               learning_rate=0.1, loss='deviance', max_depth=5,\n",
       "               max_features=None, max_leaf_nodes=None,\n",
       "               min_impurity_split=1e-07, min_samples_leaf=1,\n",
       "               min_samples_split=2, min_weight_fraction_leaf=0.0,\n",
       "               n_estimators=500, presort='auto', random_state=None,\n",
       "               subsample=1.0, verbose=0, warm_start=False),\n",
       " 'Model68': GradientBoostingClassifier(criterion='friedman_mse', init=None,\n",
       "               learning_rate=0.1, loss='deviance', max_depth=5,\n",
       "               max_features=None, max_leaf_nodes=None,\n",
       "               min_impurity_split=1e-07, min_samples_leaf=1,\n",
       "               min_samples_split=4, min_weight_fraction_leaf=0.0,\n",
       "               n_estimators=500, presort='auto', random_state=None,\n",
       "               subsample=1.0, verbose=0, warm_start=False),\n",
       " 'Model69': GradientBoostingClassifier(criterion='friedman_mse', init=None,\n",
       "               learning_rate=0.1, loss='deviance', max_depth=5,\n",
       "               max_features=None, max_leaf_nodes=None,\n",
       "               min_impurity_split=1e-07, min_samples_leaf=1,\n",
       "               min_samples_split=8, min_weight_fraction_leaf=0.0,\n",
       "               n_estimators=500, presort='auto', random_state=None,\n",
       "               subsample=1.0, verbose=0, warm_start=False),\n",
       " 'Model7': GradientBoostingClassifier(criterion='friedman_mse', init=None,\n",
       "               learning_rate=0.05, loss='deviance', max_depth=10,\n",
       "               max_features=None, max_leaf_nodes=None,\n",
       "               min_impurity_split=1e-07, min_samples_leaf=1,\n",
       "               min_samples_split=2, min_weight_fraction_leaf=0.0,\n",
       "               n_estimators=100, presort='auto', random_state=None,\n",
       "               subsample=1.0, verbose=0, warm_start=False),\n",
       " 'Model70': GradientBoostingClassifier(criterion='friedman_mse', init=None,\n",
       "               learning_rate=0.1, loss='deviance', max_depth=10,\n",
       "               max_features=None, max_leaf_nodes=None,\n",
       "               min_impurity_split=1e-07, min_samples_leaf=1,\n",
       "               min_samples_split=2, min_weight_fraction_leaf=0.0,\n",
       "               n_estimators=500, presort='auto', random_state=None,\n",
       "               subsample=1.0, verbose=0, warm_start=False),\n",
       " 'Model71': GradientBoostingClassifier(criterion='friedman_mse', init=None,\n",
       "               learning_rate=0.1, loss='deviance', max_depth=10,\n",
       "               max_features=None, max_leaf_nodes=None,\n",
       "               min_impurity_split=1e-07, min_samples_leaf=1,\n",
       "               min_samples_split=4, min_weight_fraction_leaf=0.0,\n",
       "               n_estimators=500, presort='auto', random_state=None,\n",
       "               subsample=1.0, verbose=0, warm_start=False),\n",
       " 'Model72': GradientBoostingClassifier(criterion='friedman_mse', init=None,\n",
       "               learning_rate=0.1, loss='deviance', max_depth=10,\n",
       "               max_features=None, max_leaf_nodes=None,\n",
       "               min_impurity_split=1e-07, min_samples_leaf=1,\n",
       "               min_samples_split=8, min_weight_fraction_leaf=0.0,\n",
       "               n_estimators=500, presort='auto', random_state=None,\n",
       "               subsample=1.0, verbose=0, warm_start=False),\n",
       " 'Model73': GradientBoostingClassifier(criterion='friedman_mse', init=None,\n",
       "               learning_rate=0.5, loss='deviance', max_depth=3,\n",
       "               max_features=None, max_leaf_nodes=None,\n",
       "               min_impurity_split=1e-07, min_samples_leaf=1,\n",
       "               min_samples_split=2, min_weight_fraction_leaf=0.0,\n",
       "               n_estimators=500, presort='auto', random_state=None,\n",
       "               subsample=1.0, verbose=0, warm_start=False),\n",
       " 'Model74': GradientBoostingClassifier(criterion='friedman_mse', init=None,\n",
       "               learning_rate=0.5, loss='deviance', max_depth=3,\n",
       "               max_features=None, max_leaf_nodes=None,\n",
       "               min_impurity_split=1e-07, min_samples_leaf=1,\n",
       "               min_samples_split=4, min_weight_fraction_leaf=0.0,\n",
       "               n_estimators=500, presort='auto', random_state=None,\n",
       "               subsample=1.0, verbose=0, warm_start=False),\n",
       " 'Model75': GradientBoostingClassifier(criterion='friedman_mse', init=None,\n",
       "               learning_rate=0.5, loss='deviance', max_depth=3,\n",
       "               max_features=None, max_leaf_nodes=None,\n",
       "               min_impurity_split=1e-07, min_samples_leaf=1,\n",
       "               min_samples_split=8, min_weight_fraction_leaf=0.0,\n",
       "               n_estimators=500, presort='auto', random_state=None,\n",
       "               subsample=1.0, verbose=0, warm_start=False),\n",
       " 'Model76': GradientBoostingClassifier(criterion='friedman_mse', init=None,\n",
       "               learning_rate=0.5, loss='deviance', max_depth=5,\n",
       "               max_features=None, max_leaf_nodes=None,\n",
       "               min_impurity_split=1e-07, min_samples_leaf=1,\n",
       "               min_samples_split=2, min_weight_fraction_leaf=0.0,\n",
       "               n_estimators=500, presort='auto', random_state=None,\n",
       "               subsample=1.0, verbose=0, warm_start=False),\n",
       " 'Model77': GradientBoostingClassifier(criterion='friedman_mse', init=None,\n",
       "               learning_rate=0.5, loss='deviance', max_depth=5,\n",
       "               max_features=None, max_leaf_nodes=None,\n",
       "               min_impurity_split=1e-07, min_samples_leaf=1,\n",
       "               min_samples_split=4, min_weight_fraction_leaf=0.0,\n",
       "               n_estimators=500, presort='auto', random_state=None,\n",
       "               subsample=1.0, verbose=0, warm_start=False),\n",
       " 'Model78': GradientBoostingClassifier(criterion='friedman_mse', init=None,\n",
       "               learning_rate=0.5, loss='deviance', max_depth=5,\n",
       "               max_features=None, max_leaf_nodes=None,\n",
       "               min_impurity_split=1e-07, min_samples_leaf=1,\n",
       "               min_samples_split=8, min_weight_fraction_leaf=0.0,\n",
       "               n_estimators=500, presort='auto', random_state=None,\n",
       "               subsample=1.0, verbose=0, warm_start=False),\n",
       " 'Model79': GradientBoostingClassifier(criterion='friedman_mse', init=None,\n",
       "               learning_rate=0.5, loss='deviance', max_depth=10,\n",
       "               max_features=None, max_leaf_nodes=None,\n",
       "               min_impurity_split=1e-07, min_samples_leaf=1,\n",
       "               min_samples_split=2, min_weight_fraction_leaf=0.0,\n",
       "               n_estimators=500, presort='auto', random_state=None,\n",
       "               subsample=1.0, verbose=0, warm_start=False),\n",
       " 'Model8': GradientBoostingClassifier(criterion='friedman_mse', init=None,\n",
       "               learning_rate=0.05, loss='deviance', max_depth=10,\n",
       "               max_features=None, max_leaf_nodes=None,\n",
       "               min_impurity_split=1e-07, min_samples_leaf=1,\n",
       "               min_samples_split=4, min_weight_fraction_leaf=0.0,\n",
       "               n_estimators=100, presort='auto', random_state=None,\n",
       "               subsample=1.0, verbose=0, warm_start=False),\n",
       " 'Model80': GradientBoostingClassifier(criterion='friedman_mse', init=None,\n",
       "               learning_rate=0.5, loss='deviance', max_depth=10,\n",
       "               max_features=None, max_leaf_nodes=None,\n",
       "               min_impurity_split=1e-07, min_samples_leaf=1,\n",
       "               min_samples_split=4, min_weight_fraction_leaf=0.0,\n",
       "               n_estimators=500, presort='auto', random_state=None,\n",
       "               subsample=1.0, verbose=0, warm_start=False),\n",
       " 'Model81': GradientBoostingClassifier(criterion='friedman_mse', init=None,\n",
       "               learning_rate=0.5, loss='deviance', max_depth=10,\n",
       "               max_features=None, max_leaf_nodes=None,\n",
       "               min_impurity_split=1e-07, min_samples_leaf=1,\n",
       "               min_samples_split=8, min_weight_fraction_leaf=0.0,\n",
       "               n_estimators=500, presort='auto', random_state=None,\n",
       "               subsample=1.0, verbose=0, warm_start=False),\n",
       " 'Model9': GradientBoostingClassifier(criterion='friedman_mse', init=None,\n",
       "               learning_rate=0.05, loss='deviance', max_depth=10,\n",
       "               max_features=None, max_leaf_nodes=None,\n",
       "               min_impurity_split=1e-07, min_samples_leaf=1,\n",
       "               min_samples_split=8, min_weight_fraction_leaf=0.0,\n",
       "               n_estimators=100, presort='auto', random_state=None,\n",
       "               subsample=1.0, verbose=0, warm_start=False)}"
      ]
     },
     "execution_count": 19,
     "metadata": {},
     "output_type": "execute_result"
    }
   ],
   "source": [
    "models"
   ]
  },
  {
   "cell_type": "code",
   "execution_count": 16,
   "metadata": {
    "collapsed": false
   },
   "outputs": [
    {
     "ename": "KeyboardInterrupt",
     "evalue": "",
     "output_type": "error",
     "traceback": [
      "\u001b[0;31m---------------------------------------------------------------------------\u001b[0m",
      "\u001b[0;31mKeyboardInterrupt\u001b[0m                         Traceback (most recent call last)",
      "\u001b[0;32m<ipython-input-16-f5ef56b03ff8>\u001b[0m in \u001b[0;36m<module>\u001b[0;34m()\u001b[0m\n\u001b[0;32m----> 1\u001b[0;31m \u001b[0mmodels_fit\u001b[0m \u001b[0;34m=\u001b[0m \u001b[0;34m{\u001b[0m\u001b[0mk\u001b[0m\u001b[0;34m:\u001b[0m \u001b[0mv\u001b[0m\u001b[0;34m.\u001b[0m\u001b[0mfit\u001b[0m\u001b[0;34m(\u001b[0m\u001b[0mX_train\u001b[0m\u001b[0;34m,\u001b[0m\u001b[0my_train\u001b[0m\u001b[0;34m)\u001b[0m \u001b[0;32mfor\u001b[0m \u001b[0mk\u001b[0m\u001b[0;34m,\u001b[0m \u001b[0mv\u001b[0m \u001b[0;32min\u001b[0m \u001b[0mmodels\u001b[0m\u001b[0;34m.\u001b[0m\u001b[0mitems\u001b[0m\u001b[0;34m(\u001b[0m\u001b[0;34m)\u001b[0m\u001b[0;34m}\u001b[0m\u001b[0;34m\u001b[0m\u001b[0m\n\u001b[0m",
      "\u001b[0;32m<ipython-input-16-f5ef56b03ff8>\u001b[0m in \u001b[0;36m<dictcomp>\u001b[0;34m(.0)\u001b[0m\n\u001b[0;32m----> 1\u001b[0;31m \u001b[0mmodels_fit\u001b[0m \u001b[0;34m=\u001b[0m \u001b[0;34m{\u001b[0m\u001b[0mk\u001b[0m\u001b[0;34m:\u001b[0m \u001b[0mv\u001b[0m\u001b[0;34m.\u001b[0m\u001b[0mfit\u001b[0m\u001b[0;34m(\u001b[0m\u001b[0mX_train\u001b[0m\u001b[0;34m,\u001b[0m\u001b[0my_train\u001b[0m\u001b[0;34m)\u001b[0m \u001b[0;32mfor\u001b[0m \u001b[0mk\u001b[0m\u001b[0;34m,\u001b[0m \u001b[0mv\u001b[0m \u001b[0;32min\u001b[0m \u001b[0mmodels\u001b[0m\u001b[0;34m.\u001b[0m\u001b[0mitems\u001b[0m\u001b[0;34m(\u001b[0m\u001b[0;34m)\u001b[0m\u001b[0;34m}\u001b[0m\u001b[0;34m\u001b[0m\u001b[0m\n\u001b[0m",
      "\u001b[0;32m/anaconda/lib/python3.6/site-packages/sklearn/ensemble/gradient_boosting.py\u001b[0m in \u001b[0;36mfit\u001b[0;34m(self, X, y, sample_weight, monitor)\u001b[0m\n\u001b[1;32m   1026\u001b[0m         \u001b[0;31m# fit the boosting stages\u001b[0m\u001b[0;34m\u001b[0m\u001b[0;34m\u001b[0m\u001b[0m\n\u001b[1;32m   1027\u001b[0m         n_stages = self._fit_stages(X, y, y_pred, sample_weight, random_state,\n\u001b[0;32m-> 1028\u001b[0;31m                                     begin_at_stage, monitor, X_idx_sorted)\n\u001b[0m\u001b[1;32m   1029\u001b[0m         \u001b[0;31m# change shape of arrays after fit (early-stopping or additional ests)\u001b[0m\u001b[0;34m\u001b[0m\u001b[0;34m\u001b[0m\u001b[0m\n\u001b[1;32m   1030\u001b[0m         \u001b[0;32mif\u001b[0m \u001b[0mn_stages\u001b[0m \u001b[0;34m!=\u001b[0m \u001b[0mself\u001b[0m\u001b[0;34m.\u001b[0m\u001b[0mestimators_\u001b[0m\u001b[0;34m.\u001b[0m\u001b[0mshape\u001b[0m\u001b[0;34m[\u001b[0m\u001b[0;36m0\u001b[0m\u001b[0;34m]\u001b[0m\u001b[0;34m:\u001b[0m\u001b[0;34m\u001b[0m\u001b[0m\n",
      "\u001b[0;32m/anaconda/lib/python3.6/site-packages/sklearn/ensemble/gradient_boosting.py\u001b[0m in \u001b[0;36m_fit_stages\u001b[0;34m(self, X, y, y_pred, sample_weight, random_state, begin_at_stage, monitor, X_idx_sorted)\u001b[0m\n\u001b[1;32m   1081\u001b[0m             y_pred = self._fit_stage(i, X, y, y_pred, sample_weight,\n\u001b[1;32m   1082\u001b[0m                                      \u001b[0msample_mask\u001b[0m\u001b[0;34m,\u001b[0m \u001b[0mrandom_state\u001b[0m\u001b[0;34m,\u001b[0m \u001b[0mX_idx_sorted\u001b[0m\u001b[0;34m,\u001b[0m\u001b[0;34m\u001b[0m\u001b[0m\n\u001b[0;32m-> 1083\u001b[0;31m                                      X_csc, X_csr)\n\u001b[0m\u001b[1;32m   1084\u001b[0m \u001b[0;34m\u001b[0m\u001b[0m\n\u001b[1;32m   1085\u001b[0m             \u001b[0;31m# track deviance (= loss)\u001b[0m\u001b[0;34m\u001b[0m\u001b[0;34m\u001b[0m\u001b[0m\n",
      "\u001b[0;32m/anaconda/lib/python3.6/site-packages/sklearn/ensemble/gradient_boosting.py\u001b[0m in \u001b[0;36m_fit_stage\u001b[0;34m(self, i, X, y, y_pred, sample_weight, sample_mask, random_state, X_idx_sorted, X_csc, X_csr)\u001b[0m\n\u001b[1;32m    785\u001b[0m             \u001b[0;32melse\u001b[0m\u001b[0;34m:\u001b[0m\u001b[0;34m\u001b[0m\u001b[0m\n\u001b[1;32m    786\u001b[0m                 tree.fit(X, residual, sample_weight=sample_weight,\n\u001b[0;32m--> 787\u001b[0;31m                          check_input=False, X_idx_sorted=X_idx_sorted)\n\u001b[0m\u001b[1;32m    788\u001b[0m \u001b[0;34m\u001b[0m\u001b[0m\n\u001b[1;32m    789\u001b[0m             \u001b[0;31m# update tree leaves\u001b[0m\u001b[0;34m\u001b[0m\u001b[0;34m\u001b[0m\u001b[0m\n",
      "\u001b[0;32m/anaconda/lib/python3.6/site-packages/sklearn/tree/tree.py\u001b[0m in \u001b[0;36mfit\u001b[0;34m(self, X, y, sample_weight, check_input, X_idx_sorted)\u001b[0m\n\u001b[1;32m   1027\u001b[0m             \u001b[0msample_weight\u001b[0m\u001b[0;34m=\u001b[0m\u001b[0msample_weight\u001b[0m\u001b[0;34m,\u001b[0m\u001b[0;34m\u001b[0m\u001b[0m\n\u001b[1;32m   1028\u001b[0m             \u001b[0mcheck_input\u001b[0m\u001b[0;34m=\u001b[0m\u001b[0mcheck_input\u001b[0m\u001b[0;34m,\u001b[0m\u001b[0;34m\u001b[0m\u001b[0m\n\u001b[0;32m-> 1029\u001b[0;31m             X_idx_sorted=X_idx_sorted)\n\u001b[0m\u001b[1;32m   1030\u001b[0m         \u001b[0;32mreturn\u001b[0m \u001b[0mself\u001b[0m\u001b[0;34m\u001b[0m\u001b[0m\n\u001b[1;32m   1031\u001b[0m \u001b[0;34m\u001b[0m\u001b[0m\n",
      "\u001b[0;32m/anaconda/lib/python3.6/site-packages/sklearn/tree/tree.py\u001b[0m in \u001b[0;36mfit\u001b[0;34m(self, X, y, sample_weight, check_input, X_idx_sorted)\u001b[0m\n\u001b[1;32m    348\u001b[0m                                            self.min_impurity_split)\n\u001b[1;32m    349\u001b[0m \u001b[0;34m\u001b[0m\u001b[0m\n\u001b[0;32m--> 350\u001b[0;31m         \u001b[0mbuilder\u001b[0m\u001b[0;34m.\u001b[0m\u001b[0mbuild\u001b[0m\u001b[0;34m(\u001b[0m\u001b[0mself\u001b[0m\u001b[0;34m.\u001b[0m\u001b[0mtree_\u001b[0m\u001b[0;34m,\u001b[0m \u001b[0mX\u001b[0m\u001b[0;34m,\u001b[0m \u001b[0my\u001b[0m\u001b[0;34m,\u001b[0m \u001b[0msample_weight\u001b[0m\u001b[0;34m,\u001b[0m \u001b[0mX_idx_sorted\u001b[0m\u001b[0;34m)\u001b[0m\u001b[0;34m\u001b[0m\u001b[0m\n\u001b[0m\u001b[1;32m    351\u001b[0m \u001b[0;34m\u001b[0m\u001b[0m\n\u001b[1;32m    352\u001b[0m         \u001b[0;32mif\u001b[0m \u001b[0mself\u001b[0m\u001b[0;34m.\u001b[0m\u001b[0mn_outputs_\u001b[0m \u001b[0;34m==\u001b[0m \u001b[0;36m1\u001b[0m\u001b[0;34m:\u001b[0m\u001b[0;34m\u001b[0m\u001b[0m\n",
      "\u001b[0;31mKeyboardInterrupt\u001b[0m: "
     ]
    }
   ],
   "source": [
    "models_fit = {k: v.fit(X_train,y_train) for k, v in models.items()}"
   ]
  },
  {
   "cell_type": "code",
   "execution_count": null,
   "metadata": {
    "collapsed": true
   },
   "outputs": [],
   "source": [
    "models_predict_val = {k: v.predict(X_val) for k, v in models_fit.items()}"
   ]
  },
  {
   "cell_type": "code",
   "execution_count": null,
   "metadata": {
    "collapsed": true
   },
   "outputs": [],
   "source": [
    "models_predict_prob = {k: v.predict_proba(X_val) for k, v in models_fit.items()}"
   ]
  },
  {
   "cell_type": "code",
   "execution_count": null,
   "metadata": {
    "collapsed": true
   },
   "outputs": [],
   "source": [
    "model_specs.index = model_specs['ModelID']\n",
    "\n",
    "for model_num in list(model_specs['ModelID']):\n",
    "    model_specs.loc[model_num, 'Val Accuracy'] = \\\n",
    "    sklearn.metrics.accuracy_score(y_val, models_predict_val[model_num])\n",
    "\n",
    "for model_num in list(model_specs['ModelID']):\n",
    "    model_specs.loc[model_num, 'Precision'] = \\\n",
    "    sklearn.metrics.precision_score(y_val, models_predict_val[model_num])\n",
    "\n",
    "for model_num in list(model_specs['ModelID']):\n",
    "    model_specs.loc[model_num, 'Recall'] = \\\n",
    "    sklearn.metrics.recall_score(y_val, models_predict_val[model_num])\n",
    "\n",
    "for model_num in list(model_specs['ModelID']):\n",
    "    model_specs.loc[model_num, 'F-Score'] = \\\n",
    "    sklearn.metrics.f1_score(y_val, models_predict_val[model_num])"
   ]
  },
  {
   "cell_type": "code",
   "execution_count": null,
   "metadata": {
    "collapsed": true
   },
   "outputs": [],
   "source": [
    "#best model\n",
    "model_specs.loc[model_specs['F-Score'].idxmax(axis=1),]"
   ]
  },
  {
   "cell_type": "code",
   "execution_count": 11,
   "metadata": {
    "collapsed": true
   },
   "outputs": [],
   "source": [
    "#Different from the \"best model\" in the first run - the n_estimator and learning_rate have changed"
   ]
  },
  {
   "cell_type": "code",
   "execution_count": null,
   "metadata": {
    "collapsed": true
   },
   "outputs": [],
   "source": [
    "model_specs.to_csv('results/gbt_optimization_results.csv')"
   ]
  },
  {
   "cell_type": "markdown",
   "metadata": {},
   "source": [
    "#### Best Model's Predictions and Feature Importance"
   ]
  },
  {
   "cell_type": "code",
   "execution_count": 7,
   "metadata": {
    "collapsed": false
   },
   "outputs": [
    {
     "data": {
      "text/plain": [
       "GradientBoostingClassifier(criterion='friedman_mse', init=None,\n",
       "              learning_rate=0.05, loss='deviance', max_depth=5,\n",
       "              max_features=None, max_leaf_nodes=None,\n",
       "              min_impurity_split=1e-07, min_samples_leaf=1,\n",
       "              min_samples_split=4, min_weight_fraction_leaf=0.0,\n",
       "              n_estimators=500, presort='auto', random_state=None,\n",
       "              subsample=1.0, verbose=0, warm_start=False)"
      ]
     },
     "execution_count": 7,
     "metadata": {},
     "output_type": "execute_result"
    }
   ],
   "source": [
    "best_model = GradientBoostingClassifier(n_estimators = 500, learning_rate = 0.05, max_depth = 5, min_samples_split = 4)\n",
    "\n",
    "best_model.fit(X_train,y_train)"
   ]
  },
  {
   "cell_type": "code",
   "execution_count": 8,
   "metadata": {
    "collapsed": false
   },
   "outputs": [],
   "source": [
    "best_model_predicted_prob = best_model.predict_proba(X_val)\n",
    "best_model_predictions = best_model.predict(X_val)"
   ]
  },
  {
   "cell_type": "code",
   "execution_count": 24,
   "metadata": {
    "collapsed": false
   },
   "outputs": [
    {
     "data": {
      "text/plain": [
       "GradientBoostingClassifier(criterion='friedman_mse', init=None,\n",
       "              learning_rate=0.1, loss='deviance', max_depth=3,\n",
       "              max_features=None, max_leaf_nodes=None,\n",
       "              min_impurity_split=1e-07, min_samples_leaf=1,\n",
       "              min_samples_split=2, min_weight_fraction_leaf=0.0,\n",
       "              n_estimators=100, presort='auto', random_state=None,\n",
       "              subsample=1.0, verbose=0, warm_start=False)"
      ]
     },
     "execution_count": 24,
     "metadata": {},
     "output_type": "execute_result"
    }
   ],
   "source": [
    "default = models['Model10']\n",
    "default.fit(X_train, y_train)"
   ]
  },
  {
   "cell_type": "code",
   "execution_count": 25,
   "metadata": {
    "collapsed": true
   },
   "outputs": [],
   "source": [
    "default_predicted_prob = default.predict_proba(X_val)"
   ]
  },
  {
   "cell_type": "code",
   "execution_count": 14,
   "metadata": {
    "collapsed": false
   },
   "outputs": [
    {
     "name": "stdout",
     "output_type": "stream",
     "text": [
      "\\begin{tabular}{llr}\n",
      "\\toprule\n",
      "{} &       Column Name &  Importance \\\\\n",
      "\\midrule\n",
      "9  &               AGE &    0.213340 \\\\\n",
      "0  &    BAR\\_ADMIT\\_DAYS &    0.167759 \\\\\n",
      "12 &  ARREST\\_TO\\_SCREEN &    0.122908 \\\\\n",
      "8  &    SCREENING\\_DAYS &    0.075136 \\\\\n",
      "1  &     CRIMINAL\\_FLAG &    0.058287 \\\\\n",
      "\\bottomrule\n",
      "\\end{tabular}\n",
      "\n"
     ]
    },
    {
     "name": "stderr",
     "output_type": "stream",
     "text": [
      "/anaconda/lib/python3.6/site-packages/ipykernel/__main__.py:3: FutureWarning: sort(columns=....) is deprecated, use sort_values(by=.....)\n",
      "  app.launch_new_instance()\n"
     ]
    }
   ],
   "source": [
    "feature_imp = pd.DataFrame(list(zip(X_train.columns, best_model.feature_importances_)))\n",
    "feature_imp.columns = ['Column Name', 'Importance']\n",
    "print (feature_imp.sort(columns = 'Importance', ascending = False)[0:5].to_latex())"
   ]
  },
  {
   "cell_type": "code",
   "execution_count": null,
   "metadata": {
    "collapsed": true
   },
   "outputs": [],
   "source": [
    "for model_num in list(model_specs[(model_specs['learning_rate']==0.05) & (model_specs['n_estimator']==500)]['ModelID']):\n",
    "    curve = precision_recall_curve(y_val, models_predict_prob[model_num][:,1])\n",
    "    precision, recall, thresholds = curve\n",
    "    l = 'Max Depth: ' + str(model_specs.loc[model_num, 'max_depth']) + ', Min Split: ' + str(model_specs.loc[model_num, 'min_samples_split'])\n",
    "    line = pylab.plot(recall, precision, label = l)\n",
    "    pylab.legend(loc='lower left', fontsize = 15)\n",
    "    pylab.xlim(.25,.75)\n",
    "    pylab.ylim(.75, .92)\n",
    "    plt.xticks(fontsize = 15)\n",
    "    plt.yticks(fontsize = 15)\n",
    "    pylab.xlabel('Recall', fontsize = 15)\n",
    "    pylab.ylabel('Precision', fontsize = 15)\n",
    "    pylab.title('Parameter Optimization: Maximum Depth and Minimum Split', fontdict = {'fontsize': 18})\n",
    "    \n",
    "plt.gcf().set_size_inches(12,10) \n",
    "plt.savefig('precision_recall_param_opt_depth_split.png')\n",
    "plt.show()"
   ]
  },
  {
   "cell_type": "code",
   "execution_count": null,
   "metadata": {
    "collapsed": true
   },
   "outputs": [],
   "source": [
    "for model_num in list(model_specs[(model_specs['max_depth']==5) & (model_specs['min_samples_split']==4)]['ModelID']):\n",
    "    curve = precision_recall_curve(y_val, models_predict_prob[model_num][:,1])\n",
    "    precision, recall, thresholds = curve\n",
    "    l = 'Trees: ' + str(model_specs.loc[model_num, 'n_estimator']) +\\\n",
    "    ', Learning Rate: ' + str(model_specs.loc[model_num, 'learning_rate'])\n",
    "    line = pylab.plot(recall, precision, label = l)\n",
    "    pylab.legend(loc='lower left', fontsize = 15)\n",
    "    pylab.xlim(.25,.75)\n",
    "    pylab.ylim(.70, .925)\n",
    "    plt.xticks(fontsize = 15)\n",
    "    plt.yticks(fontsize = 15)\n",
    "    pylab.xlabel('Recall', fontsize = 15)\n",
    "    pylab.ylabel('Precision', fontsize = 15)\n",
    "    pylab.title('Parameter Optimization: Number of Trees and Learning Rate', fontdict = {'fontsize': 18})\n",
    "    \n",
    "plt.gcf().set_size_inches(12,10) \n",
    "plt.savefig('precision_recall_param_opt_est_lr.png')\n",
    "plt.show()"
   ]
  },
  {
   "cell_type": "code",
   "execution_count": 27,
   "metadata": {
    "collapsed": true
   },
   "outputs": [],
   "source": [
    "from matplotlib.ticker import FormatStrFormatter"
   ]
  },
  {
   "cell_type": "code",
   "execution_count": 43,
   "metadata": {
    "collapsed": false
   },
   "outputs": [
    {
     "data": {
      "image/png": "[encoded data removed]",
      "text/plain": [
       "<matplotlib.figure.Figure at 0x12309f470>"
      ]
     },
     "metadata": {},
     "output_type": "display_data"
    }
   ],
   "source": [
    "curve = precision_recall_curve(y_val, best_model_predicted_prob[:,1])\n",
    "precision, recall, thresholds = curve\n",
    "line = pylab.plot(recall, precision, label = 'Final Model')\n",
    "\n",
    "curve = precision_recall_curve(y_val, default_predicted_prob[:,1])\n",
    "precision, recall, thresholds = curve\n",
    "line = pylab.plot(recall, precision, label = 'After Feature Selection')\n",
    "\n",
    "baseline_precision = np.load('precision_baseline.npy')\n",
    "baseline_recall = np.load('recall_baseline.npy')\n",
    "\n",
    "line = pylab.plot(baseline_recall, baseline_precision, label = 'Baseline Model')\n",
    "\n",
    "pylab.legend(loc='lower left', fontsize = 17)\n",
    "pylab.xlim(.20,.99)\n",
    "pylab.ylim(.50, .925)\n",
    "pylab.xlabel('Recall', fontsize = 17)\n",
    "pylab.ylabel('Precision', fontsize = 17)\n",
    "plt.yticks(np.arange(.5, 1.0, .1), fontsize = 15)\n",
    "plt.xticks(fontsize = 15)\n",
    "plt.ticklabel_format(style='plain')\n",
    "pylab.title('Model Selection: Baseline vs. Optimal', fontdict = {'fontsize': 20})\n",
    "    \n",
    "plt.gcf().set_size_inches(10,8) \n",
    "plt.savefig('precision_recall_baseline_v_optimal.png')\n",
    "plt.show()"
   ]
  },
  {
   "cell_type": "markdown",
   "metadata": {},
   "source": [
    "### Confusion Matrix and Risk CSV"
   ]
  },
  {
   "cell_type": "code",
   "execution_count": 15,
   "metadata": {
    "collapsed": false
   },
   "outputs": [
    {
     "name": "stdout",
     "output_type": "stream",
     "text": [
      "\\begin{tabular}{lrr}\n",
      "\\toprule\n",
      "{} &     0 &     1 \\\\\n",
      "\\midrule\n",
      "0 &  3904 &  1392 \\\\\n",
      "1 &  1265 &  4433 \\\\\n",
      "\\bottomrule\n",
      "\\end{tabular}\n",
      "\n"
     ]
    }
   ],
   "source": [
    "gbt_cm = sklearn.metrics.confusion_matrix(y_val,best_model_predictions)#updated this part\n",
    "gbt_cm    #add cm.to_latex?\n",
    "print (pd.DataFrame(gbt_cm).to_latex())"
   ]
  },
  {
   "cell_type": "code",
   "execution_count": 16,
   "metadata": {
    "collapsed": false
   },
   "outputs": [],
   "source": [
    "#target variable of rearrest in 5 years\n",
    "og_X_train, og_y_train = pe.create_target(train, years = 5)\n",
    "og_X_val, og_y_val = pe.create_target(val, years = 5)\n",
    "og_X_test, og_y_test = pe.create_target(test, years = 5)"
   ]
  },
  {
   "cell_type": "raw",
   "metadata": {
    "collapsed": false
   },
   "source": [
    "val_predict_proba = models_fit['Model59'].predict_proba(X_val)\n",
    "\n",
    "test_predict_proba = models_fit['Model59'].predict_proba(X_test)\n",
    "\n",
    "train_predict_proba = models_fit['Model59'].predict_proba(X_train)"
   ]
  },
  {
   "cell_type": "code",
   "execution_count": 17,
   "metadata": {
    "collapsed": false
   },
   "outputs": [
    {
     "ename": "NameError",
     "evalue": "name 'val_predict_proba' is not defined",
     "output_type": "error",
     "traceback": [
      "\u001b[0;31m---------------------------------------------------------------------------\u001b[0m",
      "\u001b[0;31mNameError\u001b[0m                                 Traceback (most recent call last)",
      "\u001b[0;32m<ipython-input-17-a7244b4f3596>\u001b[0m in \u001b[0;36m<module>\u001b[0;34m()\u001b[0m\n\u001b[1;32m      1\u001b[0m \u001b[0mval_risk\u001b[0m \u001b[0;34m=\u001b[0m \u001b[0mog_X_val\u001b[0m\u001b[0;34m[\u001b[0m\u001b[0;34m[\u001b[0m\u001b[0;34m'BOFI_NBR'\u001b[0m\u001b[0;34m,\u001b[0m \u001b[0;34m'UNIQUE_ID'\u001b[0m\u001b[0;34m]\u001b[0m\u001b[0;34m]\u001b[0m\u001b[0;34m\u001b[0m\u001b[0m\n\u001b[0;32m----> 2\u001b[0;31m \u001b[0mval_risk\u001b[0m\u001b[0;34m[\u001b[0m\u001b[0;34m'Risk'\u001b[0m\u001b[0;34m]\u001b[0m \u001b[0;34m=\u001b[0m \u001b[0mval_predict_proba\u001b[0m\u001b[0;34m[\u001b[0m\u001b[0;34m:\u001b[0m\u001b[0;34m,\u001b[0m\u001b[0;36m1\u001b[0m\u001b[0;34m]\u001b[0m\u001b[0;34m.\u001b[0m\u001b[0mcopy\u001b[0m\u001b[0;34m(\u001b[0m\u001b[0;34m)\u001b[0m\u001b[0;34m\u001b[0m\u001b[0m\n\u001b[0m",
      "\u001b[0;31mNameError\u001b[0m: name 'val_predict_proba' is not defined"
     ]
    }
   ],
   "source": [
    "val_risk = og_X_val[['BOFI_NBR', 'UNIQUE_ID']]\n",
    "val_risk['Risk'] = val_predict_proba[:,1].copy()"
   ]
  },
  {
   "cell_type": "code",
   "execution_count": null,
   "metadata": {
    "collapsed": false
   },
   "outputs": [],
   "source": [
    "test_risk = og_X_test[['BOFI_NBR', 'UNIQUE_ID']]\n",
    "test_risk['Risk'] = test_predict_proba[:,1].copy()"
   ]
  },
  {
   "cell_type": "code",
   "execution_count": null,
   "metadata": {
    "collapsed": false
   },
   "outputs": [],
   "source": [
    "train_risk = og_X_train[['BOFI_NBR', 'UNIQUE_ID']]\n",
    "train_risk['Risk'] = train_predict_proba[:,1].copy()"
   ]
  },
  {
   "cell_type": "code",
   "execution_count": null,
   "metadata": {
    "collapsed": true
   },
   "outputs": [],
   "source": [
    "test_risk.to_csv('results/test_risk.csv')\n",
    "train_risk.to_csv('results/train_risk.csv')\n",
    "val_risk.to_csv('results/val_risk.csv')"
   ]
  },
  {
   "cell_type": "markdown",
   "metadata": {},
   "source": [
    "### Error Analysis (Perform on the best model)"
   ]
  },
  {
   "cell_type": "code",
   "execution_count": 9,
   "metadata": {
    "collapsed": true
   },
   "outputs": [],
   "source": [
    "#preds_to_analyze = models_predict_val['Model59']\n",
    "\n",
    "preds_to_analyze = best_model_predictions\n",
    "\n",
    "np.save('pred_val_5yr_gbt_optimal.npy', preds_to_analyze)"
   ]
  },
  {
   "cell_type": "code",
   "execution_count": 10,
   "metadata": {
    "collapsed": true
   },
   "outputs": [],
   "source": [
    "probs_to_analyze = best_model_predicted_prob"
   ]
  },
  {
   "cell_type": "code",
   "execution_count": 11,
   "metadata": {
    "collapsed": false
   },
   "outputs": [],
   "source": [
    "val['AGE'] = val['AGE']/365"
   ]
  },
  {
   "cell_type": "code",
   "execution_count": 9,
   "metadata": {
    "collapsed": true
   },
   "outputs": [],
   "source": [
    "numeric = ['NEXT_ARREST_TIME','ARREST_DATE_y', 'BAR_ADMIT_DAYS', 'CRIMINAL_FLAG','FINAL_DETENTION_FLAG',\\\n",
    "           'HABITUAL_OFFENDER_FLAG','INITIAL_DETENTION_FLAG','JUVENILE_FLAG','TOT_NUM_DEF','MULTIPLE_DEF_FLAG',\\\n",
    "           'SCREENING_DAYS','ARREST_DATE_y','AGE', 'AGE_JUV_INVALID', 'AGE_NA', 'ARREST_TO_SCREEN']\n",
    "\n",
    "numeric_exc_binary = ['NEXT_ARREST_TIME','ARREST_DATE_y','SCREENING_DAYS','SCREENING_DISP_DATE_y',\\\n",
    "                      'SCREENING_DISP_DATE_m','AGE']\n",
    "\n",
    "categorical =['CHARGE_TYPE',\\\n",
    "       'PARTY', 'RACE', 'SADA_RACE','SEX','SADA_SEX']\n",
    "\n",
    "categorical_and_binary = ['CHARGE_CLASS', 'CHARGE_TYPE',\\\n",
    "       'PARTY', 'RACE', 'SADA_RACE','SEX','SADA_SEX', 'CRIMINAL_FLAG',\\\n",
    "        'JUVENILE_FLAG', 'MULTIPLE_DEF_FLAG', 'AGE_JUV_INVALID', 'AGE_NA']"
   ]
  },
  {
   "cell_type": "code",
   "execution_count": 10,
   "metadata": {
    "collapsed": false
   },
   "outputs": [
    {
     "name": "stdout",
     "output_type": "stream",
     "text": [
      "10994\n",
      "10994\n"
     ]
    }
   ],
   "source": [
    "val_error = ea.Error_Analysis('5_yr_gbt_optimal', 'data_processing/output/data_val.csv', \\\n",
    "                              'pred_val_5yr_gbt_optimal.npy')\n",
    "\n",
    "val_error.create_err_analysis_df(5)\n",
    "\n",
    "val_error.divide_preds()"
   ]
  },
  {
   "cell_type": "code",
   "execution_count": null,
   "metadata": {
    "collapsed": true
   },
   "outputs": [],
   "source": [
    "data = val_error.err_analysis\n",
    "\n",
    "data['NEXT_ARREST_YEAR'] = data['NEXT_ARREST_TIME'].astype(float)/365\n",
    "\n",
    "data['NEXT_ARREST_YEAR'] = data['NEXT_ARREST_YEAR'].astype(int)"
   ]
  },
  {
   "cell_type": "code",
   "execution_count": null,
   "metadata": {
    "collapsed": false
   },
   "outputs": [],
   "source": [
    "#Recall by next_arrest_year\n",
    "pd.pivot_table(data[data['True_Y'] ==1], values = 'Pred_Y', index='NEXT_ARREST_YEAR').plot(kind=\"bar\")"
   ]
  },
  {
   "cell_type": "code",
   "execution_count": null,
   "metadata": {
    "collapsed": false
   },
   "outputs": [],
   "source": [
    "#Percent Predicted Positive Class with a True_Y = 0 by next_arrest_year\n",
    "pd.pivot_table(data[data['True_Y'] ==0], values = 'Pred_Y', index='NEXT_ARREST_YEAR').plot(kind=\"bar\")\n",
    "\n",
    "#The model frequently misclassifies people who will be rearrested far in the future as rearrested within 5 years\n",
    "#however, it rarely (20% of the time) misclassifies people who will never be rearrested"
   ]
  },
  {
   "cell_type": "code",
   "execution_count": null,
   "metadata": {
    "collapsed": false
   },
   "outputs": [],
   "source": [
    "#Precision by next_arrest_year\n",
    "pd.pivot_table(data[data['Pred_Y'] ==1], values = 'True_Y', index='NEXT_ARREST_YEAR').plot(kind=\"bar\")"
   ]
  },
  {
   "cell_type": "code",
   "execution_count": null,
   "metadata": {
    "collapsed": false
   },
   "outputs": [],
   "source": [
    "#Precision by next arrest year\n",
    "data['COUNT'] = 1\n",
    "precision_by_arrest_year = pd.pivot_table(data[data['Pred_Y'] ==1], values = ['COUNT', 'CORRECT'], index='NEXT_ARREST_YEAR', aggfunc=sum)"
   ]
  },
  {
   "cell_type": "code",
   "execution_count": null,
   "metadata": {
    "collapsed": true
   },
   "outputs": [],
   "source": [
    "precision_by_arrest_year['Percent'] = precision_by_arrest_year['CORRECT']/precision_by_arrest_year['COUNT']"
   ]
  },
  {
   "cell_type": "code",
   "execution_count": null,
   "metadata": {
    "collapsed": false
   },
   "outputs": [],
   "source": [
    "precision_by_arrest_year\n",
    "\n",
    "#what does this mean? there are 3,514 records predicted as rearrested with a next_arrest_year of 0\n",
    "#next_arrest_year of 0 means either not rearrested or rearrested within less than a year"
   ]
  },
  {
   "cell_type": "markdown",
   "metadata": {},
   "source": [
    "#### The two important boxplots"
   ]
  },
  {
   "cell_type": "code",
   "execution_count": null,
   "metadata": {
    "collapsed": false
   },
   "outputs": [],
   "source": [
    "has_rearrest_incorrect_pred = val_error.wrong_pred[val_error.wrong_pred['True_Y'] == 1]\n",
    "\n",
    "has_rearrest_correct_pred = val_error.right_pred[val_error.right_pred['True_Y'] == 1]\n",
    "\n",
    "has_rearrest_incorrect_pred['NEXT_ARREST_TIME'] = has_rearrest_incorrect_pred['NEXT_ARREST_TIME']/365\n",
    "\n",
    "has_rearrest_incorrect_pred=has_rearrest_incorrect_pred.rename(columns = {'NEXT_ARREST_TIME':'Next Arrest Time'})\n",
    "\n",
    "has_rearrest_correct_pred['NEXT_ARREST_TIME'] = has_rearrest_correct_pred['NEXT_ARREST_TIME']/365\n",
    "\n",
    "has_rearrest_correct_pred=has_rearrest_correct_pred.rename(columns = {'NEXT_ARREST_TIME':'Next Arrest Time'})"
   ]
  },
  {
   "cell_type": "code",
   "execution_count": null,
   "metadata": {
    "collapsed": false
   },
   "outputs": [],
   "source": [
    "plt.figure(1)\n",
    "plt.gcf().set_size_inches(8,4) \n",
    "\n",
    "rows = 1\n",
    "\n",
    "ax1 = plt.subplot(rows,2,1)\n",
    "ax1.set_title('Incorrect Prediction', fontsize=15)\n",
    "ax1.set_ylabel('Years to Rearrest', fontsize = 15)\n",
    "ax1.set_yticklabels(labels = [-1,0,1,2,3,4,5], fontdict = {'fontsize': 15})\n",
    "has_rearrest_incorrect_pred['Next Arrest Time'].plot.box()\n",
    "ax1.set_xticklabels(labels = [''])\n",
    "ax1.tick_params(\n",
    "    axis='x',          # changes apply to the x-axis\n",
    "    which='both',      # both major and minor ticks are affected\n",
    "    bottom='off',      # ticks along the bottom edge are off\n",
    "    top='off',         # ticks along the top edge are off\n",
    "    labelbottom='off')\n",
    "\n",
    "ax2 = plt.subplot(rows,2,2, sharey=ax1)\n",
    "ax2.set_title('Correct Prediction', fontsize=15)\n",
    "has_rearrest_correct_pred['Next Arrest Time'].plot.box()\n",
    "ax2.set_xticklabels(labels=[''])\n",
    "ax2.tick_params(\n",
    "    axis='x',          # changes apply to the x-axis\n",
    "    which='both',      # both major and minor ticks are affected\n",
    "    bottom='off',      # ticks along the bottom edge are off\n",
    "    top='off',         # ticks along the top edge are off\n",
    "    labelbottom='off')\n",
    "plt.savefig('next_arrest_time' + '_boxplots.png')"
   ]
  },
  {
   "cell_type": "code",
   "execution_count": null,
   "metadata": {
    "collapsed": false
   },
   "outputs": [],
   "source": [
    "data[numeric].corrwith(data['NEXT_ARREST_TIME'])"
   ]
  },
  {
   "cell_type": "code",
   "execution_count": null,
   "metadata": {
    "collapsed": false
   },
   "outputs": [],
   "source": [
    "correlations = data[data['True_Y'] ==1][numeric].corrwith(data[data['True_Y'] ==1]['NEXT_ARREST_TIME'])\n",
    "\n",
    "correlations.sort_values()"
   ]
  },
  {
   "cell_type": "code",
   "execution_count": null,
   "metadata": {
    "collapsed": true
   },
   "outputs": [],
   "source": [
    "#pretty highly correlated with criminal flag\n",
    "#also negatively correlated with juvenile flag\n",
    "#also slightly correlated with age"
   ]
  },
  {
   "cell_type": "code",
   "execution_count": null,
   "metadata": {
    "collapsed": false
   },
   "outputs": [],
   "source": [
    "#Correlation between criminal flag and time to rearrest\n",
    "\n",
    "x = np.array(data[data['True_Y'] ==1]['CRIMINAL_FLAG'])\n",
    "y = np.array(data[data['True_Y'] ==1]['NEXT_ARREST_TIME'])\n",
    "\n",
    "pearsonr(x,y)"
   ]
  },
  {
   "cell_type": "code",
   "execution_count": null,
   "metadata": {
    "collapsed": false
   },
   "outputs": [],
   "source": [
    "data['Probability'] = best_model_predicted_prob[:,1]"
   ]
  },
  {
   "cell_type": "code",
   "execution_count": null,
   "metadata": {
    "collapsed": false
   },
   "outputs": [],
   "source": [
    "#Correlation between next arrest time and probability of rearrest\n",
    "\n",
    "x = np.array(data[data['True_Y'] ==1]['Probability'])\n",
    "y = np.array(data[data['True_Y'] ==1]['NEXT_ARREST_TIME'])\n",
    "\n",
    "pearsonr(x,y)"
   ]
  },
  {
   "cell_type": "code",
   "execution_count": null,
   "metadata": {
    "collapsed": true
   },
   "outputs": [],
   "source": [
    "list_to_plot = ['AGE', 'BAR ADMIT DAYS', 'ARREST TO SCREEN', 'SCREENING DAYS', 'CRIMINAL FLAG']"
   ]
  },
  {
   "cell_type": "code",
   "execution_count": null,
   "metadata": {
    "collapsed": false
   },
   "outputs": [],
   "source": [
    "#Need to change the names to remove the underscores and remove the labels on y-axis?\n",
    "\n",
    "fig, axs = plot_partial_dependence(best_model, X_train, list_to_plot, list_to_plot)\n",
    "\n",
    "plt.gcf().set_size_inches(12,10)\n",
    "\n",
    "plt.savefig('partial_dependence.png')"
   ]
  },
  {
   "cell_type": "code",
   "execution_count": 44,
   "metadata": {
    "collapsed": false
   },
   "outputs": [
    {
     "data": {
      "image/png": "[encoded data removed]",
      "text/plain": [
       "<matplotlib.figure.Figure at 0x12179c668>"
      ]
     },
     "metadata": {},
     "output_type": "display_data"
    },
    {
     "data": {
      "image/png": "[encoded data removed]",
      "text/plain": [
       "<matplotlib.figure.Figure at 0x121731748>"
      ]
     },
     "metadata": {},
     "output_type": "display_data"
    }
   ],
   "source": [
    "val_error.all_error_analysis(5, numeric_exc_binary, numeric, categorical_and_binary)"
   ]
  }
 ],
 "metadata": {
  "anaconda-cloud": {},
  "kernelspec": {
   "display_name": "Python 3",
   "language": "python",
   "name": "python3"
  },
  "language_info": {
   "codemirror_mode": {
    "name": "ipython",
    "version": 3
   },
   "file_extension": ".py",
   "mimetype": "text/x-python",
   "name": "python",
   "nbconvert_exporter": "python",
   "pygments_lexer": "ipython3",
   "version": "3.6.0"
  }
 },
 "nbformat": 4,
 "nbformat_minor": 2
}
