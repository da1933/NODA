{
 "cells": [
  {
   "cell_type": "code",
   "execution_count": 62,
   "metadata": {
    "collapsed": true
   },
   "outputs": [],
   "source": [
    "import numpy as np\n",
    "import pandas as pd\n",
    "import matplotlib.pyplot as plt\n",
    "import project_env as pe\n",
    "import sklearn as sklearn\n",
    "%matplotlib inline"
   ]
  },
  {
   "cell_type": "code",
   "execution_count": 50,
   "metadata": {
    "collapsed": false
   },
   "outputs": [],
   "source": [
    "data_train = pd.read_csv('data_train_enc.csv', encoding = \"ISO-8859-1\", low_memory=False)\n",
    "data_val = pd.read_csv('data_val_enc.csv', encoding = \"ISO-8859-1\", low_memory=False)"
   ]
  },
  {
   "cell_type": "markdown",
   "metadata": {},
   "source": [
    "# Target Variable"
   ]
  },
  {
   "cell_type": "code",
   "execution_count": 54,
   "metadata": {
    "collapsed": true
   },
   "outputs": [],
   "source": [
    "#target variable of rearrest in 2 years\n",
    "X_train, y_train = pe.create_target(data_train, years = 2)\n",
    "X_val, y_val = pe.create_target(data_val, years = 2)"
   ]
  },
  {
   "cell_type": "code",
   "execution_count": 55,
   "metadata": {
    "collapsed": false
   },
   "outputs": [
    {
     "name": "stdout",
     "output_type": "stream",
     "text": [
      "Training: 55.6245941507 percent were rearrested.\n",
      "Test: 55.273745862 percent were rearrested.\n"
     ]
    }
   ],
   "source": [
    "unique, counts = np.unique(y_train, return_counts = True)\n",
    "percent = counts[1]/counts.sum()\n",
    "print('Training: %s percent were rearrested.' %(percent*100))\n",
    "\n",
    "unique, counts = np.unique(y_val, return_counts = True)\n",
    "percent = counts[1]/counts.sum()\n",
    "print('Test: %s percent were rearrested.' %(percent*100))\n"
   ]
  },
  {
   "cell_type": "code",
   "execution_count": 56,
   "metadata": {
    "collapsed": false
   },
   "outputs": [],
   "source": [
    "#remove non-feature columns\n",
    "X_train=X_train.drop(['BOFI_NBR','SCREENING_DISP_CODE','charge_code','UNIQUE_ID','NEXT_ARREST_TIME'], axis=1)\n",
    "X_val=X_val.drop(['BOFI_NBR','SCREENING_DISP_CODE','charge_code','UNIQUE_ID','NEXT_ARREST_TIME'], axis=1)\n",
    "\n",
    "#Using year and month as predictive variables\n",
    "X_train=X_train.drop(['DOB','ARREST_DATE','POLICE_RPT_DATE','SCREENING_DISP_DATE','BAR_ADMISSION'], axis=1)\n",
    "X_val=X_val.drop(['DOB','ARREST_DATE','POLICE_RPT_DATE','SCREENING_DISP_DATE','BAR_ADMISSION'], axis=1)\n",
    "\n",
    "\n",
    "#drop var with missing values\n",
    "X_train=X_train.drop(['SADA_SEX','SEX'], axis=1)\n",
    "X_val=X_val.drop(['SADA_SEX','SEX'], axis=1)\n"
   ]
  },
  {
   "cell_type": "code",
   "execution_count": 59,
   "metadata": {
    "collapsed": false
   },
   "outputs": [
    {
     "data": {
      "text/plain": [
       "True"
      ]
     },
     "execution_count": 59,
     "metadata": {},
     "output_type": "execute_result"
    }
   ],
   "source": [
    "#check for missing val\n",
    "X_train.count().min()==X_train.count().max()"
   ]
  },
  {
   "cell_type": "markdown",
   "metadata": {
    "collapsed": true
   },
   "source": [
    "# Gradient Boosted Trees"
   ]
  },
  {
   "cell_type": "code",
   "execution_count": 70,
   "metadata": {
    "collapsed": false
   },
   "outputs": [],
   "source": [
    "from sklearn.ensemble import GradientBoostingClassifier\n",
    "gbt = GradientBoostingClassifier()\n",
    "gbt = gbt.fit(X_train,y_train)\n",
    "\n",
    "pred_train = gbt.predict(X_train)\n",
    "pred_val = gbt.predict(X_val)\n"
   ]
  },
  {
   "cell_type": "code",
   "execution_count": 71,
   "metadata": {
    "collapsed": false
   },
   "outputs": [
    {
     "name": "stdout",
     "output_type": "stream",
     "text": [
      "Accuracy on Training Dataset: 0.7407402691656374\n",
      "Accuracy on Val Dataset: 0.7336389101094983\n"
     ]
    }
   ],
   "source": [
    "#accuracy\n",
    "\n",
    "accu_train = sklearn.metrics.accuracy_score(y_train,pred_train)\n",
    "accu_test = sklearn.metrics.accuracy_score(y_val,pred_val)\n",
    "\n",
    "print(\"Accuracy on Training Dataset: {}\".format(accu_train))\n",
    "print(\"Accuracy on Val Dataset: {}\".format(accu_test))"
   ]
  },
  {
   "cell_type": "code",
   "execution_count": 72,
   "metadata": {
    "collapsed": false
   },
   "outputs": [
    {
     "name": "stdout",
     "output_type": "stream",
     "text": [
      "Precision: 0.7282988225740966\n",
      "Recall: 0.8264074449460979\n",
      "F-Score: 0.7742575966850829\n"
     ]
    }
   ],
   "source": [
    "precision = sklearn.metrics.precision_score(y_val,pred_val)\n",
    "recall = sklearn.metrics.recall_score(y_val,pred_val)\n",
    "f_score = sklearn.metrics.f1_score(y_val,pred_val)\n",
    "\n",
    "print(\"Precision: {}\".format(precision))\n",
    "print(\"Recall: {}\".format(recall))\n",
    "print(\"F-Score: {}\".format(f_score))"
   ]
  },
  {
   "cell_type": "code",
   "execution_count": 73,
   "metadata": {
    "collapsed": false
   },
   "outputs": [
    {
     "data": {
      "text/plain": [
       "array([[5436, 3346],\n",
       "       [1884, 8969]])"
      ]
     },
     "execution_count": 73,
     "metadata": {},
     "output_type": "execute_result"
    }
   ],
   "source": [
    "#confusion matrix for val set\n",
    "cm = sklearn.metrics.confusion_matrix(y_val,pred_val)\n",
    "cm"
   ]
  },
  {
   "cell_type": "code",
   "execution_count": null,
   "metadata": {
    "collapsed": true
   },
   "outputs": [],
   "source": []
  }
 ],
 "metadata": {
  "kernelspec": {
   "display_name": "Python 3",
   "language": "python",
   "name": "python3"
  },
  "language_info": {
   "codemirror_mode": {
    "name": "ipython",
    "version": 3
   },
   "file_extension": ".py",
   "mimetype": "text/x-python",
   "name": "python",
   "nbconvert_exporter": "python",
   "pygments_lexer": "ipython3",
   "version": "3.6.0"
  }
 },
 "nbformat": 4,
 "nbformat_minor": 2
}
