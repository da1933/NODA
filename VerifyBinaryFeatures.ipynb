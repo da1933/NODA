{
 "cells": [
  {
   "cell_type": "code",
   "execution_count": 1,
   "metadata": {
    "collapsed": true
   },
   "outputs": [],
   "source": [
    "import pandas as pd\n",
    "import numpy as np"
   ]
  },
  {
   "cell_type": "code",
   "execution_count": 2,
   "metadata": {
    "collapsed": false
   },
   "outputs": [],
   "source": [
    "df = pd.read_csv('data_simple.csv')"
   ]
  },
  {
   "cell_type": "code",
   "execution_count": 3,
   "metadata": {
    "collapsed": false
   },
   "outputs": [
    {
     "data": {
      "text/plain": [
       "array(['Unnamed: 0', 'SADA_CODE', 'BOFI_NBR', 'DFDN_SEQ_NBR',\n",
       "       'SCREENING_DISP_CODE', 'SYS_NBR', 'POLICE_RPT_DATE',\n",
       "       'POLICE_RPT_DAYS', 'SCREENING_DAYS', 'SCREENING_DISP_DATE',\n",
       "       'ARREST_CREDIT_CODE', 'ARREST_DATE', 'ADD_DATE', 'CHARGE_CLASS',\n",
       "       'CHARGE_TYPE', 'HABITUAL_OFFENDER_FLAG', 'FINAL_DETENTION_FLAG',\n",
       "       'INITIAL_DETENTION_FLAG', 'LEAD_CHARGE_CODE', 'SADA_BAR_ADMISSION',\n",
       "       'SADA_DOB', 'SADA_RACE', 'SADA_SEX', 'SADA_PARTY', 'JUVENILE_FLAG',\n",
       "       'CRIMINAL_FLAG', 'FBI_NBR', 'DOB', 'SEX', 'RACE'], dtype=object)"
      ]
     },
     "execution_count": 3,
     "metadata": {},
     "output_type": "execute_result"
    }
   ],
   "source": [
    "df.columns.values"
   ]
  },
  {
   "cell_type": "markdown",
   "metadata": {},
   "source": [
    "# OK"
   ]
  },
  {
   "cell_type": "code",
   "execution_count": null,
   "metadata": {
    "collapsed": false
   },
   "outputs": [],
   "source": [
    "df['CRIMINAL_FLAG'].value_counts()"
   ]
  },
  {
   "cell_type": "code",
   "execution_count": null,
   "metadata": {
    "collapsed": false
   },
   "outputs": [],
   "source": [
    "df['FINAL_DETENTION_FLAG'].value_counts()"
   ]
  },
  {
   "cell_type": "code",
   "execution_count": null,
   "metadata": {
    "collapsed": false
   },
   "outputs": [],
   "source": [
    "df['INITIAL_DETENTION_FLAG'].value_counts()"
   ]
  },
  {
   "cell_type": "code",
   "execution_count": null,
   "metadata": {
    "collapsed": false
   },
   "outputs": [],
   "source": [
    "df['SADA_SEX'].value_counts()"
   ]
  },
  {
   "cell_type": "markdown",
   "metadata": {},
   "source": [
    "# NOT OK"
   ]
  },
  {
   "cell_type": "code",
   "execution_count": 26,
   "metadata": {
    "collapsed": false
   },
   "outputs": [
    {
     "data": {
      "text/plain": [
       "N       105193\n",
       "Y          125\n",
       "A           32\n",
       "4           17\n",
       "2           16\n",
       "E            9\n",
       "5            8\n",
       "D            7\n",
       "B            7\n",
       "H            4\n",
       "3            3\n",
       "F            2\n",
       "G            1\n",
       "W            1\n",
       "Z            1\n",
       "1786         1\n",
       "8            1\n",
       "X            1\n",
       ".            1\n",
       "6            1\n",
       "01           1\n",
       "V            1\n",
       "Name: HABITUAL_OFFENDER_FLAG, dtype: int64"
      ]
     },
     "execution_count": 26,
     "metadata": {},
     "output_type": "execute_result"
    }
   ],
   "source": [
    "df['HABITUAL_OFFENDER_FLAG'].value_counts()"
   ]
  },
  {
   "cell_type": "code",
   "execution_count": 28,
   "metadata": {
    "collapsed": false
   },
   "outputs": [
    {
     "data": {
      "text/plain": [
       "M    226673\n",
       "F     48832\n",
       "N         8\n",
       "B         2\n",
       "R         2\n",
       "J         1\n",
       "D         1\n",
       "Name: SEX, dtype: int64"
      ]
     },
     "execution_count": 28,
     "metadata": {},
     "output_type": "execute_result"
    }
   ],
   "source": [
    "df['SEX'].value_counts()"
   ]
  },
  {
   "cell_type": "code",
   "execution_count": 38,
   "metadata": {
    "collapsed": true
   },
   "outputs": [],
   "source": [
    "sex = df['SEX']"
   ]
  },
  {
   "cell_type": "code",
   "execution_count": 39,
   "metadata": {
    "collapsed": true
   },
   "outputs": [],
   "source": [
    "N = np.where(sex=='N')\n",
    "B = np.where(sex=='B')\n",
    "R = np.where(sex=='R')\n",
    "J = np.where(sex=='J')\n",
    "D = np.where(sex=='D')"
   ]
  }
 ],
 "metadata": {
  "anaconda-cloud": {},
  "kernelspec": {
   "display_name": "Python [Root]",
   "language": "python",
   "name": "Python [Root]"
  },
  "language_info": {
   "codemirror_mode": {
    "name": "ipython",
    "version": 3
   },
   "file_extension": ".py",
   "mimetype": "text/x-python",
   "name": "python",
   "nbconvert_exporter": "python",
   "pygments_lexer": "ipython3",
   "version": "3.5.2"
  }
 },
 "nbformat": 4,
 "nbformat_minor": 2
}
