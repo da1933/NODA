{
 "cells": [
  {
   "cell_type": "code",
   "execution_count": 46,
   "metadata": {
    "collapsed": false
   },
   "outputs": [],
   "source": [
    "import numpy as np\n",
    "import pandas as pd\n",
    "import matplotlib.pyplot as plt\n",
    "import project_env as pe\n",
    "%matplotlib inline"
   ]
  },
  {
   "cell_type": "code",
   "execution_count": 47,
   "metadata": {
    "collapsed": false
   },
   "outputs": [],
   "source": [
    "#bring in BOFI_NBR, SCREENING_DISP_CODE\n",
    "data_simple = pd.read_csv('data_simple.csv', encoding = \"ISO-8859-1\", low_memory=False)\n",
    "data_simple = data_simple[['SCREENING_DISP_CODE','UNIQUE_ID','BOFI_NBR']]"
   ]
  },
  {
   "cell_type": "code",
   "execution_count": 53,
   "metadata": {
    "collapsed": false
   },
   "outputs": [
    {
     "name": "stdout",
     "output_type": "stream",
     "text": [
      "bin_features: (269543, 2)\n",
      "num_features: (280294, 5)\n",
      "date_features: (272088, 16)\n",
      "cat_features: (280294, 8)\n",
      "rearrest: (269543, 2)\n"
     ]
    }
   ],
   "source": [
    "bin_features = pd.read_csv('df_bin_features.csv', encoding = \"ISO-8859-1\", low_memory=False)\n",
    "num_features = pd.read_csv('df_num_features.csv', encoding = \"ISO-8859-1\", low_memory=False)\n",
    "date_features = pd.read_csv('df_date_features.csv', encoding = \"ISO-8859-1\", low_memory=False)\n",
    "cat_features = pd.read_csv('df_cat_features.csv', encoding = \"ISO-8859-1\", low_memory=False, na_filter=False) #important change\n",
    "rearrest = pd.read_csv('df_rearrest_times.csv', encoding = \"ISO-8859-1\", low_memory=False)\n",
    "\n",
    "print('bin_features: %s' %(str(rearrest.shape)))\n",
    "print('num_features: %s' %(str(num_features.shape)))\n",
    "print('date_features: %s' %(str(date_features.shape)))\n",
    "print('cat_features: %s' %(str(cat_features.shape)))\n",
    "print('rearrest: %s' %(str(rearrest.shape)))"
   ]
  },
  {
   "cell_type": "code",
   "execution_count": 54,
   "metadata": {
    "collapsed": false
   },
   "outputs": [],
   "source": [
    "merged = pd.merge(rearrest, \\\n",
    "                 bin_features,\\\n",
    "                 on='UNIQUE_ID', \\\n",
    "                 how='left')\n",
    "merged = pd.merge(merged, \\\n",
    "                 num_features,\\\n",
    "                 on='UNIQUE_ID', \\\n",
    "                 how='left')\n",
    "merged = pd.merge(merged, \\\n",
    "                 date_features,\\\n",
    "                 on='UNIQUE_ID', \\\n",
    "                 how='left')\n",
    "merged = pd.merge(merged, \\\n",
    "                 cat_features,\\\n",
    "                 on='UNIQUE_ID', \\\n",
    "                 how='left')\n",
    "merged = pd.merge(merged, \\\n",
    "                 data_simple,\\\n",
    "                 on='UNIQUE_ID', \\\n",
    "                 how='left')"
   ]
  },
  {
   "cell_type": "code",
   "execution_count": 35,
   "metadata": {
    "collapsed": true
   },
   "outputs": [],
   "source": [
    "#identify arrests where at least one charge was accepted\n",
    "accepted = merged[merged['SCREENING_DISP_CODE']==230][['BOFI_NBR','ARREST_DATE']]\n",
    "\n",
    "#drop rows where at least one charge was accepted during that arrest\n",
    "data_not_charged = pd.merge(merged, \\\n",
    "                 accepted, \\\n",
    "                 on=['BOFI_NBR','ARREST_DATE'], \\\n",
    "                 how='outer',\\\n",
    "                 indicator = True)\n",
    "\n",
    "data_not_charged = data_not_charged[data_not_charged['_merge']=='left_only'].drop('_merge', axis=1)\n",
    "\n",
    "#remove duplicate arrests on same day\n",
    "data_not_charged = data_not_charged[data_not_charged['NEXT_ARREST_TIME']!='Delete']\n",
    "\n",
    "#convert NEXT_ARREST_TIME to numeric\n",
    "data_not_charged['NEXT_ARREST_TIME'] = data_not_charged['NEXT_ARREST_TIME'].apply(pd.to_numeric)"
   ]
  },
  {
   "cell_type": "code",
   "execution_count": 7,
   "metadata": {
    "collapsed": false
   },
   "outputs": [
    {
     "name": "stdout",
     "output_type": "stream",
     "text": [
      "Test Data 25068\n",
      "(100272, 37)\n",
      "Val Data 20055\n",
      "Train Data 80217\n"
     ]
    }
   ],
   "source": [
    "#not encoded\n",
    "data_test, data_train, data_val = pe.split_data(data_not_charged, test_split=.2,  \\\n",
    "                                                train_split=.64, by_var='ARREST_DATE_y', random_state=1)"
   ]
  },
  {
   "cell_type": "code",
   "execution_count": 44,
   "metadata": {
    "collapsed": true
   },
   "outputs": [],
   "source": [
    "data_train.to_csv('data_train.csv')"
   ]
  },
  {
   "cell_type": "code",
   "execution_count": 9,
   "metadata": {
    "collapsed": false
   },
   "outputs": [
    {
     "name": "stdout",
     "output_type": "stream",
     "text": [
      "Test Data 25068\n",
      "(100272, 1001)\n",
      "Val Data 20055\n",
      "Train Data 80217\n"
     ]
    }
   ],
   "source": [
    "#encoded\n",
    "from sklearn.preprocessing import OneHotEncoder, LabelEncoder\n",
    "\n",
    "cat_var =['BAR_ADMISSION_m','ARREST_CREDIT_CODE', 'CHARGE_CLASS', 'CHARGE_TYPE', 'LEAD_CHARGE_CODE',\\\n",
    "       'PARTY', 'RACE', 'SADA_RACE','SEX','SADA_SEX','POLICE_RPT_DATE_y','POLICE_RPT_DATE_m',\\\n",
    "         'ARREST_DATE_m','DOB_y','DOB_m','SCREENING_DISP_DATE_y','SCREENING_DISP_DATE_m',\\\n",
    "         'BAR_ADMISSION_y','BAR_ADMISSION_m','ARREST_DATE_y']\n",
    "\n",
    "cat_var_enc = pe.one_hot_encode(data_not_charged[cat_var])\n",
    "cat_var_enc = pd.DataFrame(cat_var_enc.toarray(), index=data_not_charged.index)\n",
    "data_not_charged_enc = data_not_charged.drop(cat_var[:-1], axis=1)\n",
    "data_not_charged_enc = pd.merge(data_not_charged_enc, \\\n",
    "                 cat_var_enc,\\\n",
    "                 left_index=True, \\\n",
    "                 right_index=True, \\\n",
    "                 how='left')\n",
    "\n",
    "data_test_enc, data_train_enc, data_val_enc = pe.split_data(data_not_charged_enc, test_split=.2,  \\\n",
    "                                               train_split=.64, by_var='ARREST_DATE_y', random_state=1)"
   ]
  },
  {
   "cell_type": "code",
   "execution_count": 10,
   "metadata": {
    "collapsed": false
   },
   "outputs": [],
   "source": [
    "data_train_enc.to_csv('data_train_enc.csv',index=False)\n",
    "data_val_enc.to_csv('data_val_enc.csv',index=False)"
   ]
  }
 ],
 "metadata": {
  "anaconda-cloud": {},
  "kernelspec": {
   "display_name": "Python 3",
   "language": "python",
   "name": "python3"
  },
  "language_info": {
   "codemirror_mode": {
    "name": "ipython",
    "version": 3
   },
   "file_extension": ".py",
   "mimetype": "text/x-python",
   "name": "python",
   "nbconvert_exporter": "python",
   "pygments_lexer": "ipython3",
   "version": "3.6.0"
  }
 },
 "nbformat": 4,
 "nbformat_minor": 0
}
