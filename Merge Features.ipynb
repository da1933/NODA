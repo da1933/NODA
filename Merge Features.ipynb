{
 "cells": [
  {
   "cell_type": "code",
   "execution_count": 1,
   "metadata": {
    "collapsed": false
   },
   "outputs": [],
   "source": [
    "import numpy as np\n",
    "import pandas as pd\n",
    "import matplotlib.pyplot as plt\n",
    "import project_env as pe\n",
    "from sklearn.preprocessing import LabelEncoder\n",
    "%matplotlib inline"
   ]
  },
  {
   "cell_type": "code",
   "execution_count": 2,
   "metadata": {
    "collapsed": false
   },
   "outputs": [],
   "source": [
    "#bring in BOFI_NBR, SCREENING_DISP_CODE\n",
    "data_simple = pd.read_csv('data_simple.csv')\n",
    "data_simple = data_simple[['SCREENING_DISP_CODE','UNIQUE_ID','BOFI_NBR']]"
   ]
  },
  {
   "cell_type": "code",
   "execution_count": 3,
   "metadata": {
    "collapsed": false
   },
   "outputs": [
    {
     "name": "stdout",
     "output_type": "stream",
     "text": [
      "bin_features: (269543, 2)\n",
      "num_features: (280294, 5)\n",
      "date_features: (272088, 19)\n",
      "cat_features: (280294, 8)\n",
      "rearrest: (269543, 2)\n"
     ]
    }
   ],
   "source": [
    "bin_features = pd.read_csv('df_bin_features.csv', encoding = \"ISO-8859-1\", low_memory=False)\n",
    "num_features = pd.read_csv('df_num_features.csv', encoding = \"ISO-8859-1\", low_memory=False)\n",
    "date_features = pd.read_csv('df_date_features.csv', encoding = \"ISO-8859-1\", low_memory=False)\n",
    "cat_features = pd.read_csv('df_cat_features.csv', encoding = \"ISO-8859-1\", low_memory=False)\n",
    "rearrest = pd.read_csv('df_rearrest_times.csv', encoding = \"ISO-8859-1\", low_memory=False)\n",
    "#rearrest = pd.read_csv('df_rearrests.csv', encoding = \"ISO-8859-1\", low_memory=False)\n",
    "\n",
    "print('bin_features: %s' %(str(rearrest.shape)))\n",
    "print('num_features: %s' %(str(num_features.shape)))\n",
    "print('date_features: %s' %(str(date_features.shape)))\n",
    "print('cat_features: %s' %(str(cat_features.shape)))\n",
    "print('rearrest: %s' %(str(rearrest.shape)))"
   ]
  },
  {
   "cell_type": "code",
   "execution_count": 4,
   "metadata": {
    "collapsed": false
   },
   "outputs": [],
   "source": [
    "merged = pd.merge(rearrest, \\\n",
    "                 bin_features,\\\n",
    "                 on='UNIQUE_ID', \\\n",
    "                 how='left')\n",
    "merged = pd.merge(merged, \\\n",
    "                 num_features,\\\n",
    "                 on='UNIQUE_ID', \\\n",
    "                 how='left')\n",
    "merged = pd.merge(merged, \\\n",
    "                 date_features,\\\n",
    "                 on='UNIQUE_ID', \\\n",
    "                 how='left')\n",
    "merged = pd.merge(merged, \\\n",
    "                 cat_features,\\\n",
    "                 on='UNIQUE_ID', \\\n",
    "                 how='left')\n",
    "merged = pd.merge(merged, \\\n",
    "                 data_simple,\\\n",
    "                 on='UNIQUE_ID', \\\n",
    "                 how='left')"
   ]
  },
  {
   "cell_type": "markdown",
   "metadata": {
    "collapsed": false
   },
   "source": [
    "cols = ['UNIQUE_ID', 'NEXT_ARREST_TIME', 'CRIMINAL_FLAG', \\\n",
    "        'FINAL_DETENTION_FLAG', 'HABITUAL_OFFENDER_FLAG', \\\n",
    "        'INITIAL_DETENTION_FLAG', 'JUVENILE_FLAG', 'SADA_SEX', \\\n",
    "        'SEX', 'TOT_NUM_DEF', 'MULTIPLE_DEF_FLAG', 'SCREENING_DAYS', \\\n",
    "        'ARREST_DATE', 'ARREST_DATE_y', 'SCREENING_DISP_DATE_y', \\\n",
    "        'SCREENING_DISP_DATE_m', 'AGE', 'ARREST_TO_SCREEN', 'ARREST_CREDIT_CODE', \\\n",
    "        'CHARGE_CLASS', 'CHARGE_TYPE', 'PARTY', 'RACE', \\\n",
    "        'SADA_RACE', 'SCREENING_DISP_CODE', 'BOFI_NBR']\n",
    "\n",
    "merged = merged[cols]"
   ]
  },
  {
   "cell_type": "code",
   "execution_count": 6,
   "metadata": {
    "collapsed": false
   },
   "outputs": [],
   "source": [
    "#identify arrests where at least one charge was accepted\n",
    "accepted = merged[merged['SCREENING_DISP_CODE']==230][['BOFI_NBR','ARREST_DATE']]\n",
    "\n",
    "#drop rows where at least one charge was accepted during that arrest\n",
    "refused = pd.merge(merged, \\\n",
    "                 accepted, \\\n",
    "                 on=['BOFI_NBR','ARREST_DATE'], \\\n",
    "                 how='outer',\\\n",
    "                 indicator = True)\n",
    "\n",
    "refused = refused[refused['_merge']=='left_only'].drop('_merge', axis=1)\n",
    "\n",
    "#remove duplicate arrests on same day\n",
    "refused = refused[refused['NEXT_ARREST_TIME']!='Delete']\n",
    "\n",
    "#convert NEXT_ARREST_TIME to numeric\n",
    "refused['NEXT_ARREST_TIME'] = refused['NEXT_ARREST_TIME'].apply(pd.to_numeric)"
   ]
  },
  {
   "cell_type": "code",
   "execution_count": 14,
   "metadata": {
    "collapsed": false
   },
   "outputs": [],
   "source": [
    "cat_var = ['SADA_SEX', 'SEX', 'PARTY', 'RACE', 'SADA_RACE', \\\n",
    "           'SCREENING_DISP_DATE_m', 'CHARGE_TYPE', \\\n",
    "           'ARREST_CREDIT_CODE', 'CHARGE_CLASS', 'ARREST_DATE_y', 'SCREENING_DISP_DATE_y']\n",
    "\n",
    "cat_var_enc = pe.one_hot_encode(refused[cat_var])\n",
    "cat_var_enc = pd.DataFrame(cat_var_enc.toarray(), index=refused.index)\n",
    "\n",
    "refused_enc = refused.drop(cat_var[:-1], axis=1)\n",
    "refused_enc = pd.merge(refused_enc, \\\n",
    "                       cat_var_enc,\\\n",
    "                       left_index=True, \\\n",
    "                       right_index=True, \\\n",
    "                       how='left')"
   ]
  },
  {
   "cell_type": "code",
   "execution_count": null,
   "metadata": {
    "collapsed": true
   },
   "outputs": [],
   "source": [
    "#Removed one record with a screening_disp_date in 1983, because this causes an error"
   ]
  },
  {
   "cell_type": "code",
   "execution_count": null,
   "metadata": {
    "collapsed": false
   },
   "outputs": [],
   "source": [
    "test, train, val = pe.split_data(refused_enc[refused_enc['SCREENING_DISP_DATE_y' != 1983]], test_split=.2, \\\n",
    "                                 train_split=.64, by_var='SCREENING_DISP_DATE_y', random_state=1)"
   ]
  },
  {
   "cell_type": "code",
   "execution_count": null,
   "metadata": {
    "collapsed": false
   },
   "outputs": [],
   "source": [
    "train.to_csv('train.csv',index=False)\n",
    "val.to_csv('val.csv',index=False)"
   ]
  }
 ],
 "metadata": {
  "anaconda-cloud": {},
  "kernelspec": {
   "display_name": "Python 3",
   "language": "python",
   "name": "python3"
  },
  "language_info": {
   "codemirror_mode": {
    "name": "ipython",
    "version": 3
   },
   "file_extension": ".py",
   "mimetype": "text/x-python",
   "name": "python",
   "nbconvert_exporter": "python",
   "pygments_lexer": "ipython3",
   "version": "3.6.0"
  }
 },
 "nbformat": 4,
 "nbformat_minor": 0
}
