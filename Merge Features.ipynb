{
 "cells": [
  {
   "cell_type": "code",
   "execution_count": 1,
   "metadata": {
    "collapsed": true
   },
   "outputs": [],
   "source": [
    "import numpy as np\n",
    "import pandas as pd\n",
    "import matplotlib.pyplot as plt\n",
    "%matplotlib inline"
   ]
  },
  {
   "cell_type": "code",
   "execution_count": 92,
   "metadata": {
    "collapsed": false
   },
   "outputs": [
    {
     "name": "stdout",
     "output_type": "stream",
     "text": [
      "bin_features: (269543, 2)\n",
      "num_features: (280294, 5)\n",
      "date_features: (272088, 16)\n",
      "rearrest: (269543, 2)\n"
     ]
    }
   ],
   "source": [
    "bin_features = pd.read_csv('df_bin_features.csv', encoding = \"ISO-8859-1\", low_memory=False)\n",
    "num_features = pd.read_csv('df_num_features.csv', encoding = \"ISO-8859-1\", low_memory=False)\n",
    "cat_features = pd.read_csv('df_cat_features.csv', encoding = \"ISO-8859-1\", low_memory=False)\n",
    "date_features = pd.read_csv('df_date_features.csv', encoding = \"ISO-8859-1\", low_memory=False)\n",
    "rearrest = pd.read_csv('df_rearrest_times.csv', encoding = \"ISO-8859-1\", low_memory=False)\n",
    "print('bin_features: %s' %(str(rearrest.shape)))\n",
    "print('num_features: %s' %(str(num_features.shape)))\n",
    "print('cat_features: %' % (str(cat_features.shape)))\n",
    "print('date_features: %s' %(str(date_features.shape)))\n",
    "print('rearrest: %s' %(str(rearrest.shape)))"
   ]
  },
  {
   "cell_type": "code",
   "execution_count": 87,
   "metadata": {
    "collapsed": false
   },
   "outputs": [
    {
     "data": {
      "text/plain": [
       "(280294, 8)"
      ]
     },
     "execution_count": 87,
     "metadata": {},
     "output_type": "execute_result"
    }
   ],
   "source": [
    "bin_features.shape"
   ]
  },
  {
   "cell_type": "code",
   "execution_count": 93,
   "metadata": {
    "collapsed": false
   },
   "outputs": [],
   "source": [
    "merged = pd.merge(rearrest, \\\n",
    "                 bin_features,\\\n",
    "                 on='UNIQUE_ID', \\\n",
    "                 how='left')\n",
    "merged = pd.merge(merged, \\\n",
    "                 num_features,\\\n",
    "                 on='UNIQUE_ID', \\\n",
    "                 how='left')\n",
    "merged = pd.merge(merged, \\\n",
    "                 date_features,\\\n",
    "                 on='UNIQUE_ID', \\\n",
    "                 how='left')\n",
    "merged = pd.merge(merged, \\\n",
    "                 cat_features,\\\n",
    "                 on='UNIQUE_ID', \\\n",
    "                 how='left')"
   ]
  },
  {
   "cell_type": "code",
   "execution_count": 94,
   "metadata": {
    "collapsed": false
   },
   "outputs": [
    {
     "data": {
      "text/plain": [
       "UNIQUE_ID                 269543\n",
       "NEXT_ARREST_TIME          269543\n",
       "CRIMINAL_FLAG             269543\n",
       "FINAL_DETENTION_FLAG      269543\n",
       "HABITUAL_OFFENDER_FLAG    269543\n",
       "INITIAL_DETENTION_FLAG    269543\n",
       "JUVENILE_FLAG             269543\n",
       "SADA_SEX                  244922\n",
       "SEX                       266922\n",
       "TOT_NUM_DEF               269543\n",
       "MULTIPLE_DEF_FLAG         269543\n",
       "SCREENING_DAYS            269543\n",
       "POLICE_RPT_DAYS           269543\n",
       "POLICE_RPT_DATE           269543\n",
       "ARREST_DATE               269543\n",
       "DOB                       269543\n",
       "SCREENING_DISP_DATE       269543\n",
       "BAR_ADMISSION             269543\n",
       "POLICE_RPT_DATE_y         269543\n",
       "ARREST_DATE_y             269543\n",
       "DOB_y                     269543\n",
       "SCREENING_DISP_DATE_y     269543\n",
       "BAR_ADMISSION_y           269543\n",
       "POLICE_RPT_DATE_m         269543\n",
       "ARREST_DATE_m             269543\n",
       "DOB_m                     269543\n",
       "SCREENING_DISP_DATE_m     269543\n",
       "BAR_ADMISSION_m           269543\n",
       "dtype: int64"
      ]
     },
     "execution_count": 94,
     "metadata": {},
     "output_type": "execute_result"
    }
   ],
   "source": [
    "merged.count()"
   ]
  }
 ],
 "metadata": {
  "anaconda-cloud": {},
  "kernelspec": {
   "display_name": "Python 3",
   "language": "python",
   "name": "python3"
  },
  "language_info": {
   "codemirror_mode": {
    "name": "ipython",
    "version": 3
   },
   "file_extension": ".py",
   "mimetype": "text/x-python",
   "name": "python",
   "nbconvert_exporter": "python",
   "pygments_lexer": "ipython3",
   "version": "3.6.0"
  }
 },
 "nbformat": 4,
 "nbformat_minor": 0
}
