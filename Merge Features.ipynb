{
 "cells": [
  {
   "cell_type": "code",
   "execution_count": 1,
   "metadata": {
    "collapsed": false
   },
   "outputs": [],
   "source": [
    "import numpy as np\n",
    "import pandas as pd\n",
    "import matplotlib.pyplot as plt\n",
    "import project_env as pe\n",
    "from sklearn.preprocessing import LabelEncoder\n",
    "%matplotlib inline"
   ]
  },
  {
   "cell_type": "code",
   "execution_count": 2,
   "metadata": {
    "collapsed": false
   },
   "outputs": [],
   "source": [
    "#bring in BOFI_NBR, SCREENING_DISP_CODE\n",
    "data_simple = pd.read_csv('data_simple.csv', encoding = \"ISO-8859-1\", low_memory=False)\n",
    "data_simple = data_simple[['SCREENING_DISP_CODE','UNIQUE_ID','BOFI_NBR']]"
   ]
  },
  {
   "cell_type": "code",
   "execution_count": 3,
   "metadata": {
    "collapsed": false
   },
   "outputs": [
    {
     "name": "stdout",
     "output_type": "stream",
     "text": [
      "bin_features: (269543, 2)\n",
      "num_features: (280294, 5)\n",
      "date_features: (272088, 21)\n",
      "cat_features: (280294, 8)\n",
      "rearrest: (269543, 2)\n"
     ]
    }
   ],
   "source": [
    "bin_features = pd.read_csv('df_bin_features.csv', encoding = \"ISO-8859-1\", low_memory=False)\n",
    "num_features = pd.read_csv('df_num_features.csv', encoding = \"ISO-8859-1\", low_memory=False)\n",
    "date_features = pd.read_csv('df_date_features.csv', encoding = \"ISO-8859-1\", low_memory=False) \\\n",
    "                            .drop('JUVENILE_FLAG',axis=1)\n",
    "cat_features = pd.read_csv('df_cat_features.csv', encoding = \"ISO-8859-1\", low_memory=False)\n",
    "rearrest = pd.read_csv('df_rearrest_times.csv', encoding = \"ISO-8859-1\", low_memory=False)\n",
    "\n",
    "print('bin_features: %s' %(str(rearrest.shape)))\n",
    "print('num_features: %s' %(str(num_features.shape)))\n",
    "print('date_features: %s' %(str(date_features.shape)))\n",
    "print('cat_features: %s' %(str(cat_features.shape)))\n",
    "print('rearrest: %s' %(str(rearrest.shape)))"
   ]
  },
  {
   "cell_type": "code",
   "execution_count": 4,
   "metadata": {
    "collapsed": false
   },
   "outputs": [],
   "source": [
    "merged = pd.merge(rearrest, \\\n",
    "                 bin_features,\\\n",
    "                 on='UNIQUE_ID', \\\n",
    "                 how='left')\n",
    "merged = pd.merge(merged, \\\n",
    "                 num_features,\\\n",
    "                 on='UNIQUE_ID', \\\n",
    "                 how='left')\n",
    "merged = pd.merge(merged, \\\n",
    "                 date_features,\\\n",
    "                 on='UNIQUE_ID', \\\n",
    "                 how='left')\n",
    "merged = pd.merge(merged, \\\n",
    "                 cat_features,\\\n",
    "                 on='UNIQUE_ID', \\\n",
    "                 how='left')\n",
    "merged = pd.merge(merged, \\\n",
    "                 data_simple,\\\n",
    "                 on='UNIQUE_ID', \\\n",
    "                 how='left')"
   ]
  },
  {
   "cell_type": "code",
   "execution_count": 5,
   "metadata": {
    "collapsed": true
   },
   "outputs": [],
   "source": [
    "#removed arrest_credit_code because feature selection process demonstrates it reduces performance\n",
    "#added bar_admit_days"
   ]
  },
  {
   "cell_type": "code",
   "execution_count": 6,
   "metadata": {
    "collapsed": false,
    "scrolled": true
   },
   "outputs": [
    {
     "data": {
      "text/plain": [
       "Index(['UNIQUE_ID', 'NEXT_ARREST_TIME', 'CRIMINAL_FLAG',\n",
       "       'FINAL_DETENTION_FLAG', 'HABITUAL_OFFENDER_FLAG',\n",
       "       'INITIAL_DETENTION_FLAG', 'JUVENILE_FLAG', 'SADA_SEX', 'SEX',\n",
       "       'TOT_NUM_DEF', 'MULTIPLE_DEF_FLAG', 'SCREENING_DAYS', 'POLICE_RPT_DAYS',\n",
       "       'POLICE_RPT_DATE', 'ARREST_DATE', 'DOB', 'SCREENING_DISP_DATE',\n",
       "       'BAR_ADMISSION', 'POLICE_RPT_DATE_y', 'ARREST_DATE_y', 'DOB_y',\n",
       "       'SCREENING_DISP_DATE_y', 'BAR_ADMISSION_y', 'POLICE_RPT_DATE_m',\n",
       "       'ARREST_DATE_m', 'DOB_m', 'SCREENING_DISP_DATE_m', 'BAR_ADMISSION_m',\n",
       "       'AGE', 'BAR_ADMIT_DAYS', 'ARREST_TO_SCREEN', 'AGE_NA',\n",
       "       'AGE_JUV_INVALID', 'ARREST_CREDIT_CODE', 'CHARGE_CLASS', 'CHARGE_TYPE',\n",
       "       'LEAD_CHARGE_CODE', 'PARTY', 'RACE', 'SADA_RACE', 'SCREENING_DISP_CODE',\n",
       "       'BOFI_NBR'],\n",
       "      dtype='object')"
      ]
     },
     "execution_count": 6,
     "metadata": {},
     "output_type": "execute_result"
    }
   ],
   "source": [
    "merged.columns"
   ]
  },
  {
   "cell_type": "code",
   "execution_count": 7,
   "metadata": {
    "collapsed": false
   },
   "outputs": [],
   "source": [
    "cols = ['UNIQUE_ID', 'NEXT_ARREST_TIME', 'ARREST_DATE', 'ARREST_DATE_y','BOFI_NBR','SCREENING_DISP_CODE',\\\n",
    "        'BAR_ADMIT_DAYS','CRIMINAL_FLAG', \\\n",
    "        'FINAL_DETENTION_FLAG', 'HABITUAL_OFFENDER_FLAG', \\\n",
    "        'INITIAL_DETENTION_FLAG', 'JUVENILE_FLAG', 'SADA_SEX', \\\n",
    "        'SEX', 'TOT_NUM_DEF', 'MULTIPLE_DEF_FLAG', 'SCREENING_DAYS', \\\n",
    "        'SCREENING_DISP_DATE_y', \\\n",
    "        'SCREENING_DISP_DATE_m', 'AGE', 'ARREST_TO_SCREEN', \\\n",
    "        'CHARGE_CLASS', 'CHARGE_TYPE', 'PARTY', 'RACE', \\\n",
    "        'SADA_RACE','AGE_JUV_INVALID','AGE_NA']\n",
    "\n",
    "merged = merged[cols]"
   ]
  },
  {
   "cell_type": "code",
   "execution_count": 8,
   "metadata": {
    "collapsed": true
   },
   "outputs": [],
   "source": [
    "merged.to_csv('merged.csv',index=False)"
   ]
  },
  {
   "cell_type": "code",
   "execution_count": 9,
   "metadata": {
    "collapsed": true
   },
   "outputs": [],
   "source": [
    "#identify arrests where at least one charge was accepted\n",
    "accepted = merged[merged['SCREENING_DISP_CODE']==230][['BOFI_NBR','ARREST_DATE']]"
   ]
  },
  {
   "cell_type": "code",
   "execution_count": 10,
   "metadata": {
    "collapsed": false
   },
   "outputs": [],
   "source": [
    "#drop rows where at least one charge was accepted during that arrest\n",
    "refused = pd.merge(merged, \\\n",
    "                 accepted, \\\n",
    "                 on=['BOFI_NBR','ARREST_DATE'], \\\n",
    "                 how='outer',\\\n",
    "                 indicator = True)\n",
    "\n",
    "refused = refused[refused['_merge']=='left_only'].drop('_merge', axis=1)\n",
    "\n",
    "#remove duplicate arrests on same day\n",
    "refused = refused[refused['NEXT_ARREST_TIME']!='Delete']\n",
    "\n",
    "#convert NEXT_ARREST_TIME to numeric\n",
    "refused['NEXT_ARREST_TIME'] = refused['NEXT_ARREST_TIME'].apply(pd.to_numeric)"
   ]
  },
  {
   "cell_type": "code",
   "execution_count": 11,
   "metadata": {
    "collapsed": false
   },
   "outputs": [
    {
     "name": "stdout",
     "output_type": "stream",
     "text": [
      "Test Data 25068\n",
      "(100272, 28)\n",
      "Val Data 20055\n",
      "Train Data 80217\n"
     ]
    }
   ],
   "source": [
    "test_ne, train_ne, val_ne = pe.split_data(refused, test_split=.2, \\\n",
    "                                 train_split=.64, by_var='ARREST_DATE_y', random_state=1)"
   ]
  },
  {
   "cell_type": "code",
   "execution_count": 12,
   "metadata": {
    "collapsed": false
   },
   "outputs": [],
   "source": [
    "train_ne.to_csv('data_train.csv', index=False)\n",
    "test_ne.to_csv('data_test.csv', index=False)\n",
    "val_ne.to_csv('data_val.csv', index=False)"
   ]
  },
  {
   "cell_type": "code",
   "execution_count": 13,
   "metadata": {
    "collapsed": false
   },
   "outputs": [],
   "source": [
    "cat_var = ['SADA_SEX', 'SEX', 'PARTY', 'RACE', 'SADA_RACE', \\\n",
    "           'SCREENING_DISP_DATE_y', 'SCREENING_DISP_DATE_m', 'CHARGE_TYPE', \\\n",
    "           'CHARGE_CLASS', 'ARREST_DATE_y']\n",
    "\n",
    "cat_var_enc = pe.one_hot_encode(refused[cat_var])\n",
    "cat_var_enc = pd.DataFrame(cat_var_enc.toarray(), index=refused.index)\n",
    "\n",
    "refused_enc = refused.drop(cat_var[:-1], axis=1)\n",
    "refused_enc = pd.merge(refused_enc, \\\n",
    "                       cat_var_enc,\\\n",
    "                       left_index=True, \\\n",
    "                       right_index=True, \\\n",
    "                       how='left')"
   ]
  },
  {
   "cell_type": "code",
   "execution_count": 14,
   "metadata": {
    "collapsed": false
   },
   "outputs": [
    {
     "name": "stdout",
     "output_type": "stream",
     "text": [
      "Test Data 25068\n",
      "(100272, 90)\n",
      "Val Data 20055\n",
      "Train Data 80217\n"
     ]
    }
   ],
   "source": [
    "test, train, val = pe.split_data(refused_enc, test_split=.2, \\\n",
    "                                 train_split=.64, by_var='ARREST_DATE_y', random_state=1)"
   ]
  },
  {
   "cell_type": "code",
   "execution_count": 15,
   "metadata": {
    "collapsed": false
   },
   "outputs": [],
   "source": [
    "train.to_csv('train.csv',index=False)\n",
    "val.to_csv('val.csv',index=False)"
   ]
  },
  {
   "cell_type": "code",
   "execution_count": 16,
   "metadata": {
    "collapsed": true
   },
   "outputs": [],
   "source": [
    "test.to_csv('test.csv', index=False)"
   ]
  },
  {
   "cell_type": "markdown",
   "metadata": {},
   "source": [
    "# Features for baseline decision tree"
   ]
  },
  {
   "cell_type": "code",
   "execution_count": 17,
   "metadata": {
    "collapsed": false
   },
   "outputs": [
    {
     "name": "stdout",
     "output_type": "stream",
     "text": [
      "Test Data 24460\n",
      "(97836, 5)\n",
      "Val Data 19568\n",
      "Train Data 78268\n"
     ]
    }
   ],
   "source": [
    "refused_dt = refused[['UNIQUE_ID','CHARGE_CLASS','AGE','ARREST_DATE_y','NEXT_ARREST_TIME']]\n",
    "refused_dt = refused_dt.dropna(axis=0,subset=['CHARGE_CLASS'])\n",
    "#for visualization purposes for decision tree, age converted to years\n",
    "refused_dt['AGE'] = refused_dt['AGE']/365.0\n",
    "\n",
    "test_dt, train_dt, val_dt = pe.split_data(refused_dt, test_split=.2, \\\n",
    "                                 train_split=.64, by_var='ARREST_DATE_y', random_state=1)"
   ]
  },
  {
   "cell_type": "code",
   "execution_count": 18,
   "metadata": {
    "collapsed": true
   },
   "outputs": [],
   "source": [
    "train_dt.to_csv('train_dt.csv',index=False)\n",
    "val_dt.to_csv('val_dt.csv',index=False)\n",
    "test_dt.to_csv('test_dt.csv', index=False)\n"
   ]
  }
 ],
 "metadata": {
  "anaconda-cloud": {},
  "kernelspec": {
   "display_name": "Python [Root]",
   "language": "python",
   "name": "Python [Root]"
  },
  "language_info": {
   "codemirror_mode": {
    "name": "ipython",
    "version": 3
   },
   "file_extension": ".py",
   "mimetype": "text/x-python",
   "name": "python",
   "nbconvert_exporter": "python",
   "pygments_lexer": "ipython3",
   "version": "3.5.2"
  }
 },
 "nbformat": 4,
 "nbformat_minor": 0
}
