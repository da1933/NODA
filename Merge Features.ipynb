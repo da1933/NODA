{
 "cells": [
  {
   "cell_type": "code",
   "execution_count": 1,
   "metadata": {
    "collapsed": false
   },
   "outputs": [],
   "source": [
    "import numpy as np\n",
    "import pandas as pd\n",
    "import matplotlib.pyplot as plt\n",
    "import project_env as pe\n",
    "%matplotlib inline"
   ]
  },
  {
   "cell_type": "code",
   "execution_count": 2,
   "metadata": {
    "collapsed": false
   },
   "outputs": [],
   "source": [
    "#bring in BOFI_NBR, SCREENING_DISP_CODE\n",
    "data_simple = pd.read_csv('data_simple.csv', encoding = \"ISO-8859-1\", low_memory=False)\n",
    "data_simple = data_simple[['SCREENING_DISP_CODE','UNIQUE_ID','BOFI_NBR']]"
   ]
  },
  {
   "cell_type": "code",
   "execution_count": 3,
   "metadata": {
    "collapsed": false
   },
   "outputs": [
    {
     "name": "stdout",
     "output_type": "stream",
     "text": [
      "bin_features: (269543, 2)\n",
      "num_features: (280294, 5)\n",
      "date_features: (272088, 16)\n",
      "cat_features: (280294, 11)\n",
      "rearrest: (269543, 2)\n"
     ]
    }
   ],
   "source": [
    "bin_features = pd.read_csv('df_bin_features.csv', encoding = \"ISO-8859-1\", low_memory=False)\n",
    "num_features = pd.read_csv('df_num_features.csv', encoding = \"ISO-8859-1\", low_memory=False)\n",
    "date_features = pd.read_csv('df_date_features.csv', encoding = \"ISO-8859-1\", low_memory=False)\n",
    "cat_features = pd.read_csv('df_cat_features.csv', encoding = \"ISO-8859-1\", low_memory=False)\n",
    "rearrest = pd.read_csv('df_rearrest_times.csv', encoding = \"ISO-8859-1\", low_memory=False)\n",
    "\n",
    "print('bin_features: %s' %(str(rearrest.shape)))\n",
    "print('num_features: %s' %(str(num_features.shape)))\n",
    "print('date_features: %s' %(str(date_features.shape)))\n",
    "print('cat_features: %s' %(str(cat_features.shape)))\n",
    "print('rearrest: %s' %(str(rearrest.shape)))"
   ]
  },
  {
   "cell_type": "code",
   "execution_count": 4,
   "metadata": {
    "collapsed": false
   },
   "outputs": [],
   "source": [
    "merged = pd.merge(rearrest, \\\n",
    "                 bin_features,\\\n",
    "                 on='UNIQUE_ID', \\\n",
    "                 how='left')\n",
    "merged = pd.merge(merged, \\\n",
    "                 num_features,\\\n",
    "                 on='UNIQUE_ID', \\\n",
    "                 how='left')\n",
    "merged = pd.merge(merged, \\\n",
    "                 date_features,\\\n",
    "                 on='UNIQUE_ID', \\\n",
    "                 how='left')\n",
    "merged = pd.merge(merged, \\\n",
    "                 cat_features,\\\n",
    "                 on='UNIQUE_ID', \\\n",
    "                 how='left')\n",
    "merged = pd.merge(merged, \\\n",
    "                 data_simple,\\\n",
    "                 on='UNIQUE_ID', \\\n",
    "                 how='left')"
   ]
  },
  {
   "cell_type": "code",
   "execution_count": 5,
   "metadata": {
    "collapsed": false
   },
   "outputs": [],
   "source": [
    "#identify arrests where at least one charge was accepted\n",
    "accepted = merged[merged['SCREENING_DISP_CODE']==230][['BOFI_NBR','ARREST_DATE']]\n",
    "\n",
    "#drop rows where at least one charge was accepted during that arrest\n",
    "data_not_charged = pd.merge(merged, \\\n",
    "                 accepted, \\\n",
    "                 on=['BOFI_NBR','ARREST_DATE'], \\\n",
    "                 how='outer',\\\n",
    "                 indicator = True)\n",
    "data_not_charged = data_not_charged[data_not_charged['_merge']=='left_only'].drop('_merge', axis=1)\n",
    "\n",
    "#remove duplicate arrests on same day\n",
    "data_not_charged = data_not_charged[data_not_charged['NEXT_ARREST_TIME']!='Delete']\n",
    "\n",
    "#convert NEXT_ARREST_TIME to numeric\n",
    "data_not_charged['NEXT_ARREST_TIME'] = data_not_charged['NEXT_ARREST_TIME'].apply(pd.to_numeric)"
   ]
  },
  {
   "cell_type": "code",
   "execution_count": 7,
   "metadata": {
    "collapsed": false
   },
   "outputs": [
    {
     "name": "stdout",
     "output_type": "stream",
     "text": [
      "Test Data 25068\n",
      "(100272, 40)\n",
      "Val Data 20055\n",
      "Train Data 80217\n"
     ]
    }
   ],
   "source": [
    "data_test, data_train, data_val = pe.split_data(data_not_charged, test_split=.2,  \\\n",
    "                                                train_split=.64, by_var='ARREST_DATE_y', random_state=1)"
   ]
  },
  {
   "cell_type": "code",
   "execution_count": 19,
   "metadata": {
    "collapsed": false
   },
   "outputs": [
    {
     "data": {
      "text/plain": [
       "ARREST_DATE_y\n",
       "1988.0    1678\n",
       "1989.0    7783\n",
       "1990.0    9769\n",
       "1991.0    7280\n",
       "1992.0    6598\n",
       "1993.0    4770\n",
       "1994.0    6093\n",
       "1995.0    5106\n",
       "1996.0    5929\n",
       "1997.0    8450\n",
       "1998.0    9432\n",
       "1999.0    7329\n",
       "Name: ARREST_DATE_y, dtype: int64"
      ]
     },
     "execution_count": 19,
     "metadata": {},
     "output_type": "execute_result"
    }
   ],
   "source": [
    "data_train.groupby(['ARREST_DATE_y'])['ARREST_DATE_y'].count()"
   ]
  },
  {
   "cell_type": "code",
   "execution_count": 16,
   "metadata": {
    "collapsed": false
   },
   "outputs": [
    {
     "data": {
      "text/plain": [
       "ARREST_DATE_y\n",
       "1988.0     420\n",
       "1989.0    1946\n",
       "1990.0    2443\n",
       "1991.0    1820\n",
       "1992.0    1649\n",
       "1993.0    1193\n",
       "1994.0    1523\n",
       "1995.0    1277\n",
       "1996.0    1482\n",
       "1997.0    2112\n",
       "1998.0    2358\n",
       "1999.0    1832\n",
       "Name: ARREST_DATE_y, dtype: int64"
      ]
     },
     "execution_count": 16,
     "metadata": {},
     "output_type": "execute_result"
    }
   ],
   "source": [
    "data_val.groupby(['ARREST_DATE_y'])['ARREST_DATE_y'].count()"
   ]
  },
  {
   "cell_type": "code",
   "execution_count": 17,
   "metadata": {
    "collapsed": false
   },
   "outputs": [
    {
     "data": {
      "text/plain": [
       "ARREST_DATE_y\n",
       "1988.0    1678\n",
       "1989.0    7783\n",
       "1990.0    9769\n",
       "1991.0    7280\n",
       "1992.0    6598\n",
       "1993.0    4770\n",
       "1994.0    6093\n",
       "1995.0    5106\n",
       "1996.0    5929\n",
       "1997.0    8450\n",
       "1998.0    9432\n",
       "1999.0    7329\n",
       "Name: ARREST_DATE_y, dtype: int64"
      ]
     },
     "execution_count": 17,
     "metadata": {},
     "output_type": "execute_result"
    }
   ],
   "source": [
    "data_train.groupby(['ARREST_DATE_y'])['ARREST_DATE_y'].count()"
   ]
  },
  {
   "cell_type": "code",
   "execution_count": null,
   "metadata": {
    "collapsed": true
   },
   "outputs": [],
   "source": []
  }
 ],
 "metadata": {
  "anaconda-cloud": {},
  "kernelspec": {
   "display_name": "Python 3",
   "language": "python",
   "name": "python3"
  },
  "language_info": {
   "codemirror_mode": {
    "name": "ipython",
    "version": 3
   },
   "file_extension": ".py",
   "mimetype": "text/x-python",
   "name": "python",
   "nbconvert_exporter": "python",
   "pygments_lexer": "ipython3",
   "version": "3.6.0"
  }
 },
 "nbformat": 4,
 "nbformat_minor": 0
}
